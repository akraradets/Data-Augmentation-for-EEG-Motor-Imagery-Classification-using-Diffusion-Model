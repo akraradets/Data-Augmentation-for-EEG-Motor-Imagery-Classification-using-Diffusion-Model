{
 "cells": [
  {
   "cell_type": "code",
   "execution_count": 1,
   "id": "da275dd1-8961-4a64-a1be-520a882288a1",
   "metadata": {},
   "outputs": [],
   "source": [
    "import os\n",
    "#comment this if you are not using AIT Server?\n",
    "os.environ['http_proxy'] = 'http://192.41.170.23:3128'\n",
    "os.environ['https_proxy'] = 'http://192.41.170.23:3128'"
   ]
  },
  {
   "cell_type": "code",
   "execution_count": 2,
   "id": "17b74193-cea7-4df0-9454-7d470a3bc5d8",
   "metadata": {},
   "outputs": [
    {
     "name": "stdout",
     "output_type": "stream",
     "text": [
      "Collecting moabb\n",
      "  Downloading moabb-0.4.6-py3-none-any.whl (140 kB)\n",
      "\u001b[K     |████████████████████████████████| 140 kB 1.2 MB/s eta 0:00:01\n",
      "\u001b[?25hRequirement already satisfied: scikit-learn<2.0,>=1.0 in /home/nutapolt/.local/lib/python3.8/site-packages (from moabb) (1.1.2)\n",
      "Collecting seaborn>=0.9\n",
      "  Downloading seaborn-0.11.2-py3-none-any.whl (292 kB)\n",
      "\u001b[K     |████████████████████████████████| 292 kB 2.8 MB/s eta 0:00:01\n",
      "\u001b[?25hCollecting coverage<6.0,>=5.5\n",
      "  Downloading coverage-5.5-cp38-cp38-manylinux2010_x86_64.whl (245 kB)\n",
      "\u001b[K     |████████████████████████████████| 245 kB 3.3 MB/s eta 0:00:01\n",
      "\u001b[?25hRequirement already satisfied: tqdm<5.0,>=4.62 in /home/nutapolt/.local/lib/python3.8/site-packages (from moabb) (4.64.0)\n",
      "Requirement already satisfied: requests<3.0.0,>=2.15.1 in /usr/local/lib/python3.8/dist-packages (from moabb) (2.28.1)\n",
      "Collecting pandas<2.0,>=1.0\n",
      "  Downloading pandas-1.4.3-cp38-cp38-manylinux_2_17_x86_64.manylinux2014_x86_64.whl (11.7 MB)\n",
      "\u001b[K     |████████████████████████████████| 11.7 MB 4.9 MB/s eta 0:00:01\n",
      "\u001b[?25hRequirement already satisfied: mne>=0.19 in /home/nutapolt/.local/lib/python3.8/site-packages (from moabb) (1.1.0)\n",
      "Requirement already satisfied: pooch<2.0,>=1.6 in /home/nutapolt/.local/lib/python3.8/site-packages (from moabb) (1.6.0)\n",
      "Requirement already satisfied: numpy<2.0.0,>=1.19.0 in /home/nutapolt/.local/lib/python3.8/site-packages (from moabb) (1.23.2)\n",
      "Collecting PyYAML<6.0,>=5.0\n",
      "  Downloading PyYAML-5.4.1-cp38-cp38-manylinux1_x86_64.whl (662 kB)\n",
      "\u001b[K     |████████████████████████████████| 662 kB 5.0 MB/s eta 0:00:01\n",
      "\u001b[?25hCollecting pyriemann>=0.2.6\n",
      "  Downloading pyriemann-0.3.tar.gz (365 kB)\n",
      "\u001b[K     |████████████████████████████████| 365 kB 6.4 MB/s eta 0:00:01\n",
      "\u001b[?25hRequirement already satisfied: scipy<2.0,>=1.5 in /home/nutapolt/.local/lib/python3.8/site-packages (from moabb) (1.9.0)\n",
      "Requirement already satisfied: matplotlib<4.0,>=3.0 in /home/nutapolt/.local/lib/python3.8/site-packages (from moabb) (3.5.3)\n",
      "Collecting h5py<4.0,>=3.0\n",
      "  Downloading h5py-3.7.0-cp38-cp38-manylinux_2_12_x86_64.manylinux2010_x86_64.whl (4.5 MB)\n",
      "\u001b[K     |████████████████████████████████| 4.5 MB 5.1 MB/s eta 0:00:01\n",
      "\u001b[?25hRequirement already satisfied: joblib>=1.0.0 in /home/nutapolt/.local/lib/python3.8/site-packages (from scikit-learn<2.0,>=1.0->moabb) (1.1.0)\n",
      "Requirement already satisfied: threadpoolctl>=2.0.0 in /home/nutapolt/.local/lib/python3.8/site-packages (from scikit-learn<2.0,>=1.0->moabb) (3.1.0)\n",
      "Requirement already satisfied: charset-normalizer<3,>=2 in /usr/local/lib/python3.8/dist-packages (from requests<3.0.0,>=2.15.1->moabb) (2.1.0)\n",
      "Requirement already satisfied: idna<4,>=2.5 in /usr/local/lib/python3.8/dist-packages (from requests<3.0.0,>=2.15.1->moabb) (3.3)\n",
      "Requirement already satisfied: urllib3<1.27,>=1.21.1 in /usr/local/lib/python3.8/dist-packages (from requests<3.0.0,>=2.15.1->moabb) (1.26.11)\n",
      "Requirement already satisfied: certifi>=2017.4.17 in /usr/local/lib/python3.8/dist-packages (from requests<3.0.0,>=2.15.1->moabb) (2022.6.15)\n",
      "Requirement already satisfied: python-dateutil>=2.8.1 in /usr/local/lib/python3.8/dist-packages (from pandas<2.0,>=1.0->moabb) (2.8.2)\n",
      "Requirement already satisfied: pytz>=2020.1 in /usr/local/lib/python3.8/dist-packages (from pandas<2.0,>=1.0->moabb) (2022.1)\n",
      "Requirement already satisfied: jinja2 in /usr/local/lib/python3.8/dist-packages (from mne>=0.19->moabb) (3.1.2)\n",
      "Requirement already satisfied: decorator in /usr/local/lib/python3.8/dist-packages (from mne>=0.19->moabb) (5.1.1)\n",
      "Requirement already satisfied: packaging in /usr/local/lib/python3.8/dist-packages (from mne>=0.19->moabb) (21.3)\n",
      "Requirement already satisfied: appdirs>=1.3.0 in /home/nutapolt/.local/lib/python3.8/site-packages (from pooch<2.0,>=1.6->moabb) (1.4.4)\n",
      "Requirement already satisfied: kiwisolver>=1.0.1 in /home/nutapolt/.local/lib/python3.8/site-packages (from matplotlib<4.0,>=3.0->moabb) (1.4.4)\n",
      "Requirement already satisfied: pyparsing>=2.2.1 in /usr/local/lib/python3.8/dist-packages (from matplotlib<4.0,>=3.0->moabb) (3.0.9)\n",
      "Requirement already satisfied: cycler>=0.10 in /home/nutapolt/.local/lib/python3.8/site-packages (from matplotlib<4.0,>=3.0->moabb) (0.11.0)\n",
      "Requirement already satisfied: pillow>=6.2.0 in /home/nutapolt/.local/lib/python3.8/site-packages (from matplotlib<4.0,>=3.0->moabb) (9.2.0)\n",
      "Requirement already satisfied: fonttools>=4.22.0 in /home/nutapolt/.local/lib/python3.8/site-packages (from matplotlib<4.0,>=3.0->moabb) (4.36.0)\n",
      "Requirement already satisfied: six>=1.5 in /usr/local/lib/python3.8/dist-packages (from python-dateutil>=2.8.1->pandas<2.0,>=1.0->moabb) (1.16.0)\n",
      "Requirement already satisfied: MarkupSafe>=2.0 in /usr/local/lib/python3.8/dist-packages (from jinja2->mne>=0.19->moabb) (2.1.1)\n",
      "Building wheels for collected packages: pyriemann\n",
      "  Building wheel for pyriemann (setup.py) ... \u001b[?25ldone\n",
      "\u001b[?25h  Created wheel for pyriemann: filename=pyriemann-0.3-py2.py3-none-any.whl size=78023 sha256=0d53f0331639aacee6d4500e6491cd05f0e55cb2c40c77ddf189bd64cca34b0c\n",
      "  Stored in directory: /home/nutapolt/.cache/pip/wheels/8f/08/26/3bee80f73136e2669b530a30dade9ae56422203a09e0400995\n",
      "Successfully built pyriemann\n",
      "Installing collected packages: pandas, seaborn, coverage, PyYAML, pyriemann, h5py, moabb\n",
      "\u001b[33m  WARNING: The scripts coverage, coverage-3.8 and coverage3 are installed in '/home/nutapolt/.local/bin' which is not on PATH.\n",
      "  Consider adding this directory to PATH or, if you prefer to suppress this warning, use --no-warn-script-location.\u001b[0m\n",
      "  Attempting uninstall: PyYAML\n",
      "    Found existing installation: PyYAML 6.0\n",
      "    Uninstalling PyYAML-6.0:\n",
      "      Successfully uninstalled PyYAML-6.0\n",
      "Successfully installed PyYAML-5.4.1 coverage-5.5 h5py-3.7.0 moabb-0.4.6 pandas-1.4.3 pyriemann-0.3 seaborn-0.11.2\n"
     ]
    }
   ],
   "source": [
    "!pip install moabb\n"
   ]
  },
  {
   "cell_type": "code",
   "execution_count": 3,
   "id": "659919a1-4446-428b-bfef-393e9133fbef",
   "metadata": {},
   "outputs": [
    {
     "name": "stdout",
     "output_type": "stream",
     "text": [
      "Collecting braindecode\n",
      "  Downloading Braindecode-0.6-py3-none-any.whl (177 kB)\n",
      "\u001b[K     |████████████████████████████████| 177 kB 758 kB/s eta 0:00:01\n",
      "\u001b[?25hRequirement already satisfied: scipy in /home/nutapolt/.local/lib/python3.8/site-packages (from braindecode) (1.9.0)\n",
      "Requirement already satisfied: matplotlib in /home/nutapolt/.local/lib/python3.8/site-packages (from braindecode) (3.5.3)\n",
      "Requirement already satisfied: h5py in /home/nutapolt/.local/lib/python3.8/site-packages (from braindecode) (3.7.0)\n",
      "Requirement already satisfied: numpy in /home/nutapolt/.local/lib/python3.8/site-packages (from braindecode) (1.23.2)\n",
      "Collecting skorch\n",
      "  Downloading skorch-0.11.0-py3-none-any.whl (155 kB)\n",
      "\u001b[K     |████████████████████████████████| 155 kB 1.1 MB/s eta 0:00:01\n",
      "\u001b[?25hRequirement already satisfied: pandas in /home/nutapolt/.local/lib/python3.8/site-packages (from braindecode) (1.4.3)\n",
      "Requirement already satisfied: mne in /home/nutapolt/.local/lib/python3.8/site-packages (from braindecode) (1.1.0)\n",
      "Requirement already satisfied: fonttools>=4.22.0 in /home/nutapolt/.local/lib/python3.8/site-packages (from matplotlib->braindecode) (4.36.0)\n",
      "Requirement already satisfied: pyparsing>=2.2.1 in /usr/local/lib/python3.8/dist-packages (from matplotlib->braindecode) (3.0.9)\n",
      "Requirement already satisfied: pillow>=6.2.0 in /home/nutapolt/.local/lib/python3.8/site-packages (from matplotlib->braindecode) (9.2.0)\n",
      "Requirement already satisfied: kiwisolver>=1.0.1 in /home/nutapolt/.local/lib/python3.8/site-packages (from matplotlib->braindecode) (1.4.4)\n",
      "Requirement already satisfied: packaging>=20.0 in /usr/local/lib/python3.8/dist-packages (from matplotlib->braindecode) (21.3)\n",
      "Requirement already satisfied: cycler>=0.10 in /home/nutapolt/.local/lib/python3.8/site-packages (from matplotlib->braindecode) (0.11.0)\n",
      "Requirement already satisfied: python-dateutil>=2.7 in /usr/local/lib/python3.8/dist-packages (from matplotlib->braindecode) (2.8.2)\n",
      "Collecting tabulate>=0.7.7\n",
      "  Downloading tabulate-0.8.10-py3-none-any.whl (29 kB)\n",
      "Requirement already satisfied: scikit-learn>=0.19.1 in /home/nutapolt/.local/lib/python3.8/site-packages (from skorch->braindecode) (1.1.2)\n",
      "Requirement already satisfied: tqdm>=4.14.0 in /home/nutapolt/.local/lib/python3.8/site-packages (from skorch->braindecode) (4.64.0)\n",
      "Requirement already satisfied: pytz>=2020.1 in /usr/local/lib/python3.8/dist-packages (from pandas->braindecode) (2022.1)\n",
      "Requirement already satisfied: jinja2 in /usr/local/lib/python3.8/dist-packages (from mne->braindecode) (3.1.2)\n",
      "Requirement already satisfied: pooch>=1.5 in /home/nutapolt/.local/lib/python3.8/site-packages (from mne->braindecode) (1.6.0)\n",
      "Requirement already satisfied: decorator in /usr/local/lib/python3.8/dist-packages (from mne->braindecode) (5.1.1)\n",
      "Requirement already satisfied: six>=1.5 in /usr/local/lib/python3.8/dist-packages (from python-dateutil>=2.7->matplotlib->braindecode) (1.16.0)\n",
      "Requirement already satisfied: joblib>=1.0.0 in /home/nutapolt/.local/lib/python3.8/site-packages (from scikit-learn>=0.19.1->skorch->braindecode) (1.1.0)\n",
      "Requirement already satisfied: threadpoolctl>=2.0.0 in /home/nutapolt/.local/lib/python3.8/site-packages (from scikit-learn>=0.19.1->skorch->braindecode) (3.1.0)\n",
      "Requirement already satisfied: MarkupSafe>=2.0 in /usr/local/lib/python3.8/dist-packages (from jinja2->mne->braindecode) (2.1.1)\n",
      "Requirement already satisfied: requests>=2.19.0 in /usr/local/lib/python3.8/dist-packages (from pooch>=1.5->mne->braindecode) (2.28.1)\n",
      "Requirement already satisfied: appdirs>=1.3.0 in /home/nutapolt/.local/lib/python3.8/site-packages (from pooch>=1.5->mne->braindecode) (1.4.4)\n",
      "Requirement already satisfied: certifi>=2017.4.17 in /usr/local/lib/python3.8/dist-packages (from requests>=2.19.0->pooch>=1.5->mne->braindecode) (2022.6.15)\n",
      "Requirement already satisfied: charset-normalizer<3,>=2 in /usr/local/lib/python3.8/dist-packages (from requests>=2.19.0->pooch>=1.5->mne->braindecode) (2.1.0)\n",
      "Requirement already satisfied: urllib3<1.27,>=1.21.1 in /usr/local/lib/python3.8/dist-packages (from requests>=2.19.0->pooch>=1.5->mne->braindecode) (1.26.11)\n",
      "Requirement already satisfied: idna<4,>=2.5 in /usr/local/lib/python3.8/dist-packages (from requests>=2.19.0->pooch>=1.5->mne->braindecode) (3.3)\n",
      "Installing collected packages: tabulate, skorch, braindecode\n",
      "\u001b[33m  WARNING: The script tabulate is installed in '/home/nutapolt/.local/bin' which is not on PATH.\n",
      "  Consider adding this directory to PATH or, if you prefer to suppress this warning, use --no-warn-script-location.\u001b[0m\n",
      "Successfully installed braindecode-0.6 skorch-0.11.0 tabulate-0.8.10\n"
     ]
    }
   ],
   "source": [
    "!pip install braindecode"
   ]
  },
  {
   "cell_type": "code",
   "execution_count": 4,
   "id": "49ac68cc-019d-4de9-8a37-dd4ebfffcf58",
   "metadata": {},
   "outputs": [
    {
     "name": "stderr",
     "output_type": "stream",
     "text": [
      "/home/nutapolt/.local/lib/python3.8/site-packages/tqdm/auto.py:22: TqdmWarning: IProgress not found. Please update jupyter and ipywidgets. See https://ipywidgets.readthedocs.io/en/stable/user_install.html\n",
      "  from .autonotebook import tqdm as notebook_tqdm\n"
     ]
    }
   ],
   "source": [
    "import matplotlib.pyplot as plt\n",
    "\n",
    "from braindecode.datasets import MOABBDataset\n",
    "from braindecode.preprocessing import \\\n",
    "    create_windows_from_events, create_fixed_length_windows\n",
    "from braindecode.preprocessing import preprocess, Preprocessor"
   ]
  },
  {
   "cell_type": "code",
   "execution_count": 6,
   "id": "3afdb73d-7326-40d9-829b-33744302a1ee",
   "metadata": {},
   "outputs": [
    {
     "name": "stderr",
     "output_type": "stream",
     "text": [
      "/home/nutapolt/.local/lib/python3.8/site-packages/moabb/datasets/download.py:53: RuntimeWarning: Setting non-standard config type: \"MNE_DATASETS_BNCI_PATH\"\n",
      "  set_config(key, get_config(\"MNE_DATA\"))\n",
      "Downloading data from 'http://bnci-horizon-2020.eu/database/data-sets/001-2014/A01T.mat' to file '/home/nutapolt/mne_data/MNE-bnci-data/database/data-sets/001-2014/A01T.mat'.\n"
     ]
    },
    {
     "name": "stdout",
     "output_type": "stream",
     "text": [
      "MNE_DATA is not already configured. It will be set to default location in the home directory - /home/nutapolt/mne_data\n",
      "All datasets will be downloaded to this location, if anything is already downloaded, please move manually to this location\n"
     ]
    },
    {
     "name": "stderr",
     "output_type": "stream",
     "text": [
      "100%|█████████████████████████████████████| 42.8M/42.8M [00:00<00:00, 32.8GB/s]\n",
      "SHA256 hash of downloaded file: 054f02e70cf9c4ada1517e9b9864f45407939c1062c6793516585c6f511d0325\n",
      "Use this value as the 'known_hash' argument of 'pooch.retrieve' to ensure that the file hasn't changed if it is downloaded again in the future.\n",
      "Downloading data from 'http://bnci-horizon-2020.eu/database/data-sets/001-2014/A01E.mat' to file '/home/nutapolt/mne_data/MNE-bnci-data/database/data-sets/001-2014/A01E.mat'.\n",
      "100%|█████████████████████████████████████| 43.8M/43.8M [00:00<00:00, 32.4GB/s]\n",
      "SHA256 hash of downloaded file: 53d415f39c3d7b0c88b894d7b08d99bcdfe855ede63831d3691af1a45607fb62\n",
      "Use this value as the 'known_hash' argument of 'pooch.retrieve' to ensure that the file hasn't changed if it is downloaded again in the future.\n"
     ]
    },
    {
     "name": "stdout",
     "output_type": "stream",
     "text": [
      "48 events found\n",
      "Event IDs: [1 2 3 4]\n",
      "48 events found\n",
      "Event IDs: [1 2 3 4]\n",
      "48 events found\n",
      "Event IDs: [1 2 3 4]\n",
      "48 events found\n",
      "Event IDs: [1 2 3 4]\n",
      "48 events found\n",
      "Event IDs: [1 2 3 4]\n",
      "48 events found\n",
      "Event IDs: [1 2 3 4]\n",
      "48 events found\n",
      "Event IDs: [1 2 3 4]\n",
      "48 events found\n",
      "Event IDs: [1 2 3 4]\n",
      "48 events found\n",
      "Event IDs: [1 2 3 4]\n",
      "48 events found\n",
      "Event IDs: [1 2 3 4]\n",
      "48 events found\n",
      "Event IDs: [1 2 3 4]\n",
      "48 events found\n",
      "Event IDs: [1 2 3 4]\n"
     ]
    }
   ],
   "source": [
    "dataset = MOABBDataset(dataset_name=\"BNCI2014001\", subject_ids=[1])"
   ]
  },
  {
   "cell_type": "code",
   "execution_count": 7,
   "id": "aa95ac31-7063-40ee-84bf-f97257b1a870",
   "metadata": {},
   "outputs": [
    {
     "data": {
      "text/html": [
       "<div>\n",
       "<style scoped>\n",
       "    .dataframe tbody tr th:only-of-type {\n",
       "        vertical-align: middle;\n",
       "    }\n",
       "\n",
       "    .dataframe tbody tr th {\n",
       "        vertical-align: top;\n",
       "    }\n",
       "\n",
       "    .dataframe thead th {\n",
       "        text-align: right;\n",
       "    }\n",
       "</style>\n",
       "<table border=\"1\" class=\"dataframe\">\n",
       "  <thead>\n",
       "    <tr style=\"text-align: right;\">\n",
       "      <th></th>\n",
       "      <th>subject</th>\n",
       "      <th>session</th>\n",
       "      <th>run</th>\n",
       "    </tr>\n",
       "  </thead>\n",
       "  <tbody>\n",
       "    <tr>\n",
       "      <th>0</th>\n",
       "      <td>1</td>\n",
       "      <td>session_T</td>\n",
       "      <td>run_0</td>\n",
       "    </tr>\n",
       "    <tr>\n",
       "      <th>1</th>\n",
       "      <td>1</td>\n",
       "      <td>session_T</td>\n",
       "      <td>run_1</td>\n",
       "    </tr>\n",
       "    <tr>\n",
       "      <th>2</th>\n",
       "      <td>1</td>\n",
       "      <td>session_T</td>\n",
       "      <td>run_2</td>\n",
       "    </tr>\n",
       "    <tr>\n",
       "      <th>3</th>\n",
       "      <td>1</td>\n",
       "      <td>session_T</td>\n",
       "      <td>run_3</td>\n",
       "    </tr>\n",
       "    <tr>\n",
       "      <th>4</th>\n",
       "      <td>1</td>\n",
       "      <td>session_T</td>\n",
       "      <td>run_4</td>\n",
       "    </tr>\n",
       "    <tr>\n",
       "      <th>5</th>\n",
       "      <td>1</td>\n",
       "      <td>session_T</td>\n",
       "      <td>run_5</td>\n",
       "    </tr>\n",
       "    <tr>\n",
       "      <th>6</th>\n",
       "      <td>1</td>\n",
       "      <td>session_E</td>\n",
       "      <td>run_0</td>\n",
       "    </tr>\n",
       "    <tr>\n",
       "      <th>7</th>\n",
       "      <td>1</td>\n",
       "      <td>session_E</td>\n",
       "      <td>run_1</td>\n",
       "    </tr>\n",
       "    <tr>\n",
       "      <th>8</th>\n",
       "      <td>1</td>\n",
       "      <td>session_E</td>\n",
       "      <td>run_2</td>\n",
       "    </tr>\n",
       "    <tr>\n",
       "      <th>9</th>\n",
       "      <td>1</td>\n",
       "      <td>session_E</td>\n",
       "      <td>run_3</td>\n",
       "    </tr>\n",
       "    <tr>\n",
       "      <th>10</th>\n",
       "      <td>1</td>\n",
       "      <td>session_E</td>\n",
       "      <td>run_4</td>\n",
       "    </tr>\n",
       "    <tr>\n",
       "      <th>11</th>\n",
       "      <td>1</td>\n",
       "      <td>session_E</td>\n",
       "      <td>run_5</td>\n",
       "    </tr>\n",
       "  </tbody>\n",
       "</table>\n",
       "</div>"
      ],
      "text/plain": [
       "    subject    session    run\n",
       "0         1  session_T  run_0\n",
       "1         1  session_T  run_1\n",
       "2         1  session_T  run_2\n",
       "3         1  session_T  run_3\n",
       "4         1  session_T  run_4\n",
       "5         1  session_T  run_5\n",
       "6         1  session_E  run_0\n",
       "7         1  session_E  run_1\n",
       "8         1  session_E  run_2\n",
       "9         1  session_E  run_3\n",
       "10        1  session_E  run_4\n",
       "11        1  session_E  run_5"
      ]
     },
     "execution_count": 7,
     "metadata": {},
     "output_type": "execute_result"
    }
   ],
   "source": [
    "dataset.description"
   ]
  },
  {
   "cell_type": "code",
   "execution_count": null,
   "id": "4be4ae0e-a122-46f7-bd4c-93ab7c6d1874",
   "metadata": {},
   "outputs": [],
   "source": [
    "dataset."
   ]
  }
 ],
 "metadata": {
  "kernelspec": {
   "display_name": "Python 3 (ipykernel)",
   "language": "python",
   "name": "python3"
  },
  "language_info": {
   "codemirror_mode": {
    "name": "ipython",
    "version": 3
   },
   "file_extension": ".py",
   "mimetype": "text/x-python",
   "name": "python",
   "nbconvert_exporter": "python",
   "pygments_lexer": "ipython3",
   "version": "3.8.10"
  }
 },
 "nbformat": 4,
 "nbformat_minor": 5
}
