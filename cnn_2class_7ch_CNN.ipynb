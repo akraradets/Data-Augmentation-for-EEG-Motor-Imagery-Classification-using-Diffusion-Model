{
 "cells": [
  {
   "cell_type": "code",
   "execution_count": 28,
   "id": "8c66c108-7c19-4d92-8e87-1873c3ea4e99",
   "metadata": {},
   "outputs": [],
   "source": [
    "import os\n",
    "#comment this if you are not using puffer?\n",
    "os.environ['http_proxy'] = 'http://192.41.170.23:3128'\n",
    "os.environ['https_proxy'] = 'http://192.41.170.23:3128'"
   ]
  },
  {
   "cell_type": "code",
   "execution_count": 29,
   "id": "2a72bb6b-d99e-4a4f-a77e-b00892a377c9",
   "metadata": {},
   "outputs": [],
   "source": [
    "#!pip install mne"
   ]
  },
  {
   "cell_type": "code",
   "execution_count": 30,
   "id": "851d3258-8cf6-45d4-8f14-0132010a75a0",
   "metadata": {},
   "outputs": [],
   "source": [
    "import numpy as np\n",
    "import matplotlib.pyplot as plt\n",
    "import mne\n",
    "import os\n",
    "import sys\n",
    "from mne.datasets import eegbci\n",
    "import glob\n",
    "from IPython.display import clear_output\n",
    "import numpy as np\n",
    "import torch\n",
    "from torch import nn\n",
    "import torch.optim as optim\n",
    "\n",
    "from mne.datasets import eegbci\n",
    "from sklearn.model_selection import train_test_split\n",
    "from torch.utils.data import TensorDataset\n",
    "from torch.utils.data import DataLoader\n",
    "from scipy import signal\n",
    "\n",
    "import torch\n",
    "import torch.cuda as cuda\n",
    "import torch.nn as nn\n",
    "from torch.autograd import Variable"
   ]
  },
  {
   "cell_type": "code",
   "execution_count": 31,
   "id": "f7be0d2d-9b5a-4bf8-b186-d9c7ed85cec6",
   "metadata": {},
   "outputs": [
    {
     "data": {
      "text/plain": [
       "'NVIDIA RTX A6000'"
      ]
     },
     "execution_count": 31,
     "metadata": {},
     "output_type": "execute_result"
    }
   ],
   "source": [
    "torch.cuda.get_device_name(0)"
   ]
  },
  {
   "cell_type": "code",
   "execution_count": 32,
   "id": "2cd385f6-ab9b-4056-9519-3a8fecd46d59",
   "metadata": {},
   "outputs": [],
   "source": [
    "class EEG:\n",
    "    def __init__(self, path, base_url, subjects, runs):\n",
    "        self.subpath = ''\n",
    "        self.path = path\n",
    "        self.base_url = base_url\n",
    "        self.subjects = subjects\n",
    "        self.runs = runs\n",
    "        \n",
    "        # download data if does not exist in path.\n",
    "        # self.load_data()\n",
    "        self.data_to_raw()\n",
    "    \n",
    "    def load_data(self):\n",
    "        print(f\">>> Start download from: {self.base_url}.\")\n",
    "        print(f\"Downloading files to: {self.path}.\")\n",
    "        for subject in self.subjects:\n",
    "            eegbci.load_data(subject,self.runs,path=self.path,base_url=self.base_url)\n",
    "        print(\"Done.\")\n",
    "    \n",
    "    \n",
    "        \n",
    "        print(\"Done.\")\n",
    "        return self.raw\n",
    "    def filter(self, freq):\n",
    "        raw = self.raw\n",
    "        low, high = freq\n",
    "        print(f\">>> Apply filter.\")\n",
    "        self.raw.filter(low, high, fir_design='firwin', verbose=20)\n",
    "        return  raw\n",
    "    def raw_ica(self):\n",
    "        raw = self.raw\n",
    "        ica = mne.preprocessing.ICA(n_components=64, max_iter=100)\n",
    "        ica.fit(raw)\n",
    "        ica.exclude = [1, 2]  # details on how we picked these are omitted here\n",
    "        ica.plot_properties(raw, picks=ica.exclude)\n",
    "        ica.apply(raw)\n",
    "        print('ICA DONE ????')\n",
    "        return  raw\n",
    "        \n",
    "    def get_events(self):\n",
    "        event_id = dict(T1=0, T2=1) # the events we want to extract\n",
    "        events, event_id = mne.events_from_annotations(self.raw, event_id=event_id)\n",
    "        return events, event_id\n",
    "    \n",
    "    def get_epochs(self, events, event_id):\n",
    "        picks = mne.pick_types(self.raw.info, eeg=True, exclude='bads')\n",
    "        tmin = 0\n",
    "        tmax = 4\n",
    "        epochs = mne.Epochs(self.raw, events, event_id, tmin, tmax, proj=True, \n",
    "                            picks=picks, baseline=None, preload=True)\n",
    "        return epochs\n",
    "    \n",
    "    def create_epochs(self):\n",
    "        print(\">>> Create Epochs.\")\n",
    "        events, event_id = self.get_events()\n",
    "        self.epochs = self.get_epochs(events, event_id)\n",
    "        return events , event_id\n",
    "        \n",
    "        print(\"Done.\")\n",
    "    \n",
    "    def get_X_y(self):\n",
    "        if self.epochs is None:\n",
    "            events , event_id=self.create_epochs()\n",
    "        self.X = self.epochs.get_data()\n",
    "        self.y = self.epochs.events[:, -1]\n",
    "        return self.X, self.y\n",
    "    \n",
    "    \n",
    "    def data_to_raw(self):\n",
    "        fullpath = os.path.join(self.path, *self.subpath.split(sep='/'))\n",
    "        #print(f\">>> Extract all subjects from: {fullpath}.\")\n",
    "        extension = \"edf\"\n",
    "        raws = []\n",
    "        count = 1\n",
    "        for i, subject in enumerate(self.subjects):\n",
    "            sname = f\"S{str(subject).zfill(3)}\".upper()\n",
    "            \n",
    "            for j, run in enumerate(self.runs):\n",
    "                rname = f\"{sname}R{str(run).zfill(2)}\".upper()\n",
    "                path_file = os.path.join(fullpath, sname, f'{rname}.{extension}')\n",
    "                #print(path_file)\n",
    "                #print(f\"Loading file #{count}/{len(self.subjects)*len(self.runs)}: {f'{rname}.{extension}'}\")\n",
    "                raw = mne.io.read_raw_edf( path_file , preload=True, verbose='WARNING' )\n",
    "                raws.append(raw)\n",
    "                count += 1\n",
    "\n",
    "        raw = mne.io.concatenate_raws(raws)\n",
    "        eegbci.standardize(raw)\n",
    "        montage = mne.channels.make_standard_montage('standard_1005')\n",
    "        raw.set_montage(montage)\n",
    "        self.raw = raw\n",
    "        \n",
    "        \n",
    "        \n",
    "def do_plot(train_loss, valid_loss,ty):\n",
    "    if ty == \"loss\":\n",
    "        plt.figure(figsize=(10,10))\n",
    "        \n",
    "        plt.plot(train_loss, label='train_loss')\n",
    "        plt.plot(valid_loss, label='valid_loss')\n",
    "        plt.title('loss {}'.format(iter))\n",
    "        plt.legend()\n",
    "        plt.show()\n",
    "    if ty == \"acc\":\n",
    "        plt.figure(figsize=(10,10))\n",
    "        \n",
    "        plot_ty=torch.tensor(train_loss, device = 'cpu')\n",
    "        plat_va=torch.tensor(valid_loss, device = 'cpu')\n",
    "        plt.plot(plot_ty, label='train_acc')\n",
    "        plt.plot(plat_va, label='valid_acc')\n",
    "        plt.title('acc {}'.format(iter))\n",
    "        plt.legend()\n",
    "        plt.show()"
   ]
  },
  {
   "cell_type": "code",
   "execution_count": 33,
   "id": "b1d9fa44-0f50-41f0-aec3-07e6f7a4a72f",
   "metadata": {},
   "outputs": [
    {
     "name": "stdout",
     "output_type": "stream",
     "text": [
      "Raw done\n",
      ">>> Apply filter.\n",
      "Filtering raw data in 237 contiguous segments\n",
      "Setting up band-pass filter from 1 - 40 Hz\n",
      "\n",
      "FIR filter parameters\n",
      "---------------------\n",
      "Designing a one-pass, zero-phase, non-causal bandpass filter:\n",
      "- Windowed time-domain design (firwin) method\n",
      "- Hamming window with 0.0194 passband ripple and 53 dB stopband attenuation\n",
      "- Lower passband edge: 1.00\n",
      "- Lower transition bandwidth: 1.00 Hz (-6 dB cutoff frequency: 0.50 Hz)\n",
      "- Upper passband edge: 40.00 Hz\n",
      "- Upper transition bandwidth: 10.00 Hz (-6 dB cutoff frequency: 45.00 Hz)\n",
      "- Filter length: 529 samples (3.306 sec)\n",
      "\n"
     ]
    },
    {
     "name": "stderr",
     "output_type": "stream",
     "text": [
      "[Parallel(n_jobs=1)]: Using backend SequentialBackend with 1 concurrent workers.\n",
      "[Parallel(n_jobs=1)]: Done   1 out of   1 | elapsed:    0.0s remaining:    0.0s\n",
      "[Parallel(n_jobs=1)]: Done   2 out of   2 | elapsed:    0.0s remaining:    0.0s\n",
      "[Parallel(n_jobs=1)]: Done   3 out of   3 | elapsed:    0.0s remaining:    0.0s\n",
      "[Parallel(n_jobs=1)]: Done   4 out of   4 | elapsed:    0.0s remaining:    0.0s\n",
      "[Parallel(n_jobs=1)]: Done  64 out of  64 | elapsed:    0.0s finished\n"
     ]
    },
    {
     "name": "stdout",
     "output_type": "stream",
     "text": [
      "Filter done\n",
      ">>> Create Epochs.\n",
      "Used Annotations descriptions: ['T1', 'T2']\n",
      "Not setting metadata\n",
      "3555 matching events found\n",
      "No baseline correction applied\n",
      "0 projection items activated\n",
      "Using data from preloaded Raw for 3555 events and 641 original time points ...\n",
      "16 bad epochs dropped\n"
     ]
    },
    {
     "data": {
      "text/plain": [
       "(array([[    672,       0,       1],\n",
       "        [   2000,       0,       0],\n",
       "        [   3328,       0,       0],\n",
       "        ...,\n",
       "        [4676928,       0,       1],\n",
       "        [4678256,       0,       0],\n",
       "        [4679584,       0,       1]]),\n",
       " {'T1': 0, 'T2': 1})"
      ]
     },
     "execution_count": 33,
     "metadata": {},
     "output_type": "execute_result"
    }
   ],
   "source": [
    "# home directory + datasets folder\n",
    "#path = '/content/drive/MyDrive/MNE-eegbci-data/files/eegmmidb/'\n",
    "path = 'physionet.org/files/eegmmidb/1.0.0'\n",
    "base_url = 'https://physionet.org/files/eegmmidb/'\n",
    "# subjects = [1]\n",
    "#runs = [3, 4, 7, 8, 11, 12]\n",
    "runs = [4, 8, 12]\n",
    "subjects = [i for i in range(1,80)]\n",
    "#subjects = [1]\n",
    "# runs = [6,10,14]\n",
    "\n",
    "eeg = EEG(path, base_url, subjects, runs)\n",
    "raw=eeg.data_to_raw()\n",
    "print(\"Raw done\")\n",
    "# apply filter\n",
    "freq = (1., 40.)\n",
    "raw=eeg.filter(freq=freq)\n",
    "#raw=eeg.data_to_raw()\n",
    "print(\"Filter done\")\n",
    "#raw=eeg.raw_ica()\n",
    "eeg.create_epochs()"
   ]
  },
  {
   "cell_type": "code",
   "execution_count": 34,
   "id": "02c863d5-9efc-4dca-b118-ea139ce2adca",
   "metadata": {},
   "outputs": [
    {
     "name": "stdout",
     "output_type": "stream",
     "text": [
      "(3539, 64, 641) (3539,)\n"
     ]
    },
    {
     "data": {
      "text/plain": [
       "(3539, 64, 641)"
      ]
     },
     "execution_count": 34,
     "metadata": {},
     "output_type": "execute_result"
    }
   ],
   "source": [
    "X, y = eeg.get_X_y()\n",
    "\n",
    "print(X.shape, y.shape)\n",
    "X = X[:,:,:]\n",
    "X.shape"
   ]
  },
  {
   "cell_type": "code",
   "execution_count": 35,
   "id": "7829aa9d-a88f-4e0c-8b44-74cde0db7dd6",
   "metadata": {},
   "outputs": [
    {
     "name": "stdout",
     "output_type": "stream",
     "text": [
      "(3539, 7, 641)\n"
     ]
    }
   ],
   "source": [
    "# pick 7 channels.\n",
    "X2 = X[:, 7:14, :]\n",
    "X = X2\n",
    "\n",
    "# pick C3 and C4 channels.\n",
    "#X2 = X[:, 1:2, :] \n",
    "#X3= X[:, 5:6, :]\n",
    "#X = np.concatenate((X2,X3), axis=1)\n",
    "# = X4\n",
    "#X = X[:, :,np.newaxis,:]\n",
    "print(X.shape)"
   ]
  },
  {
   "cell_type": "code",
   "execution_count": 36,
   "id": "baa4ab14-d3e8-4b87-9a1f-3fb522d64af5",
   "metadata": {},
   "outputs": [
    {
     "name": "stdout",
     "output_type": "stream",
     "text": [
      "train size (2477, 7, 641) (2477,)\n",
      "Test size (1062, 7, 641) (1062,)\n"
     ]
    }
   ],
   "source": [
    "X_train, X_test, y_train, y_test = train_test_split(X, y, test_size=0.3)\n",
    "\n",
    "print('train size',X_train.shape, y_train.shape)\n",
    "print('Test size',X_test.shape, y_test.shape)"
   ]
  },
  {
   "cell_type": "code",
   "execution_count": 37,
   "id": "c0b137eb-dd3a-4846-bb9b-9fe0d6bfd8b8",
   "metadata": {},
   "outputs": [],
   "source": [
    "from sklearn.model_selection import train_test_split\n",
    "from torch.utils.data import TensorDataset\n",
    "from torch.utils.data import DataLoader\n",
    "\n",
    "batch_size = 32\n",
    "\n",
    "def create_dataloader(X, y, batch_size):\n",
    "    X_tensor = torch.tensor(X).float()\n",
    "    y_tensor = torch.tensor(y).long()\n",
    "    dataset_tensor = TensorDataset(X_tensor, y_tensor)\n",
    "    dl = torch.utils.data.DataLoader(dataset_tensor, batch_size=batch_size, shuffle=True)\n",
    "    return dl\n",
    "train_loader = create_dataloader(X_train, y_train, batch_size=batch_size)\n",
    "test_loader = create_dataloader(X_test, y_test, batch_size=batch_size)"
   ]
  },
  {
   "cell_type": "code",
   "execution_count": 38,
   "id": "086871a3-b5ed-4865-bdc8-372270251077",
   "metadata": {},
   "outputs": [],
   "source": [
    "# Convolutional neural network (two convolutional layers)\n",
    "class ConvNet(nn.Module):\n",
    "    def __init__(self):\n",
    "        super(ConvNet, self).__init__()\n",
    "        \n",
    "        #using sequential helps bind multiple operations together\n",
    "        self.layer1 = nn.Sequential(\n",
    "            #padding = (kernel_size - 1) / 2 = 2\n",
    "            nn.Conv1d(7, 64, kernel_size=5, stride=1, padding=2),\n",
    "            nn.BatchNorm1d(64),\n",
    "            nn.ReLU(),\n",
    "            # nn.MaxPool2d(kernel_size=2, stride=2)\n",
    "        )\n",
    "        self.layer2 = nn.Sequential(\n",
    "            nn.Conv1d(64, 128, kernel_size=5, stride=1, padding=2),\n",
    "            nn.BatchNorm1d(128),\n",
    "            nn.ReLU(),\n",
    "            # nn.MaxPool2d(kernel_size=2, stride=2)\n",
    "        )\n",
    "        self.fc = nn.Linear(82048, 2)\n",
    "        self.drop_out = nn.Dropout(0.5)\n",
    "        \n",
    "    def forward(self, x):\n",
    "        out = self.layer1(x)\n",
    "        out = self.drop_out(out)\n",
    "        out = self.layer2(out)\n",
    "        out = self.drop_out(out)\n",
    "        out = out.reshape(out.size(0), -1)   #can also use .view()\n",
    "        out = self.fc(out)\n",
    "        return out"
   ]
  },
  {
   "cell_type": "code",
   "execution_count": 39,
   "id": "51d457e9-4ef7-4dac-b297-0b75bf13bbd4",
   "metadata": {},
   "outputs": [],
   "source": [
    "class gamenet(nn.Module):\n",
    "    def __init__(self):\n",
    "        \n",
    "        super(gamenet,self).__init__()\n",
    "        \n",
    "        self.l1 = nn.Sequential(\n",
    "            #in_channel = 16\n",
    "            #out_channel or Filter size = 100\n",
    "            #kernel size = (1,25)\n",
    "            #stride = 1\n",
    "            #padding = Same\n",
    "            #Relu\n",
    "            nn.Conv2d(2,100,kernel_size=(1,25),stride=1,padding='same'),\n",
    "            nn.ReLU(),\n",
    "            nn.BatchNorm2d(100)\n",
    "        )\n",
    "        self.l2 = nn.Sequential(\n",
    "            #in_channel = 100\n",
    "            #out_channel or Filter size = 100\n",
    "            #kernel size = (16,1)\n",
    "            #stride = 1\n",
    "            #padding = Valid\n",
    "            #Relu\n",
    "            nn.Conv2d(100,100,kernel_size=(1,16),stride=1,padding='valid'),\n",
    "            #nn.Conv2d(100,100,kernel_size=(64,1),stride=1,padding='valid'),\n",
    "            nn.ReLU(),\n",
    "            nn.BatchNorm2d(100)\n",
    "        )\n",
    "        self.l3 = nn.Sequential(\n",
    "            #in_channel = 100\n",
    "            #out_channel = 50\n",
    "            #kernel size = (1,30)\n",
    "            #stride = 1\n",
    "            #padding = Same\n",
    "            #Relu\n",
    "            nn.Conv2d(100,50,kernel_size=(1,30),stride=1,padding='same'),\n",
    "            nn.ReLU(),\n",
    "            nn.BatchNorm2d(50)\n",
    "        )\n",
    "        self.maxpooling1 = nn.MaxPool2d(kernel_size=(1,7),stride=5)\n",
    "        self.l4 = nn.Sequential(\n",
    "            #in_channel = 50\n",
    "            #out_channel = 50\n",
    "            #kernel size = (1,30)\n",
    "            #stride = 1\n",
    "            #padding = Same\n",
    "            #Relu\n",
    "            nn.Conv2d(50,50,kernel_size=(1,30),stride=1,padding='same'),\n",
    "            nn.ReLU(),\n",
    "            nn.BatchNorm2d(50)\n",
    "        )\n",
    "        self.maxpooling2 = nn.MaxPool2d(kernel_size=(1,3),stride=2)\n",
    "        \n",
    "\n",
    "        self.flatten = nn.Sequential(\n",
    "            nn.Flatten(),\n",
    "            nn.BatchNorm1d(3050),\n",
    "            nn.Dropout(0.15)\n",
    "        )\n",
    "        self.fc1 = nn.Sequential(\n",
    "            nn.Linear(3050,1024),\n",
    "            nn.ReLU(),\n",
    "            nn.BatchNorm1d(1024),\n",
    "            nn.Dropout(0.15)\n",
    "        )\n",
    "        self.fc2 = nn.Sequential(\n",
    "            nn.Linear(1024,512),\n",
    "            nn.ReLU(),\n",
    "            nn.BatchNorm1d(512),\n",
    "            nn.Dropout(0.15)\n",
    "        )\n",
    "        self.fc3 = nn.Sequential(\n",
    "            nn.Linear(512,256),\n",
    "            nn.ReLU(),\n",
    "            nn.BatchNorm1d(256),\n",
    "            nn.Dropout(0.15)\n",
    "        )\n",
    "        self.fc3 = nn.Sequential(\n",
    "            nn.Linear(512,256),\n",
    "            nn.ReLU(),\n",
    "            nn.BatchNorm1d(256),\n",
    "            nn.Dropout(0.15)\n",
    "        )\n",
    "        self.fc4 = nn.Sequential(\n",
    "            nn.Linear(256,128),\n",
    "            nn.ReLU(),\n",
    "            nn.BatchNorm1d(128),\n",
    "            nn.Dropout(0.15)\n",
    "        )\n",
    "        self.fc5 = nn.Sequential(\n",
    "            nn.Linear(128,64),\n",
    "            nn.ReLU(),\n",
    "            nn.BatchNorm1d(64),\n",
    "            nn.Dropout(0.15)\n",
    "        )\n",
    "        self.fc6 = nn.Sequential(\n",
    "            nn.Linear(64,32),\n",
    "            nn.ReLU(),\n",
    "            nn.BatchNorm1d(32),\n",
    "            nn.Dropout(0.15)\n",
    "        )\n",
    "        self.softmax = nn.Sequential(\n",
    "            nn.Linear(32,4),\n",
    "            nn.Softmax()\n",
    "        )\n",
    "    def forward(self,x):\n",
    "        \n",
    "        out = self.l1(x)\n",
    "        out = self.l2(out)\n",
    "        out = self.l3(out)\n",
    "        out = self.maxpooling1(out)\n",
    "        out = self.l4(out)\n",
    "        out = self.maxpooling2(out)\n",
    "        out = self.flatten(out)\n",
    "        out = self.fc1(out)\n",
    "        out = self.fc2(out)\n",
    "        out = self.fc3(out)\n",
    "        out = self.fc4(out)\n",
    "        out = self.fc5(out)\n",
    "        out = self.fc6(out)\n",
    "        out = self.softmax(out)\n",
    "        return out"
   ]
  },
  {
   "cell_type": "code",
   "execution_count": 40,
   "id": "3837bacf-8c00-4afc-bcdf-46222d1c1620",
   "metadata": {},
   "outputs": [],
   "source": [
    "net = ConvNet().cuda(0)"
   ]
  },
  {
   "cell_type": "code",
   "execution_count": 41,
   "id": "d8672d38-f98e-45a2-84bc-32dc70278eb0",
   "metadata": {},
   "outputs": [],
   "source": [
    "# Loss and optimizer\n",
    "optimizer = optim.Adam(net.parameters(), lr=0.0000001)\n",
    "criterion = nn.CrossEntropyLoss()"
   ]
  },
  {
   "cell_type": "code",
   "execution_count": 42,
   "id": "6d8858ae-695d-495f-a6d9-a134328c831f",
   "metadata": {},
   "outputs": [
    {
     "data": {
      "image/png": "[encoded data removed]",
      "text/plain": [
       "<Figure size 720x720 with 1 Axes>"
      ]
     },
     "metadata": {
      "needs_background": "light"
     },
     "output_type": "display_data"
    },
    {
     "data": {
      "image/png": "[encoded data removed]",
      "text/plain": [
       "<Figure size 720x720 with 1 Axes>"
      ]
     },
     "metadata": {
      "needs_background": "light"
     },
     "output_type": "display_data"
    },
    {
     "name": "stdout",
     "output_type": "stream",
     "text": [
      "Epoch 4851/5000, Tr Loss: 0.3659, Tr Acc: 84.9818, Val Loss: 0.5563, Val Acc: 73.0697\n",
      "Epoch 4901/5000, Tr Loss: 0.3642, Tr Acc: 84.8607, Val Loss: 0.5486, Val Acc: 72.9755\n",
      "Epoch 4951/5000, Tr Loss: 0.3654, Tr Acc: 84.7396, Val Loss: 0.5660, Val Acc: 73.0697\n",
      "Epoch 5000/5000, Tr Loss: 0.3684, Tr Acc: 84.5781, Val Loss: 0.5670, Val Acc: 73.0697\n"
     ]
    }
   ],
   "source": [
    "# Train the model\n",
    "num_epochs = 5000\n",
    "\n",
    "train_loss = []\n",
    "valid_loss = []\n",
    "train_accuracy = []\n",
    "valid_accuracy = []\n",
    "old_acc = 0\n",
    "for epoch in range(num_epochs):\n",
    "    iter_loss = 0.0\n",
    "    correct = 0\n",
    "    iterations = 0\n",
    "    \n",
    "    net.train()\n",
    "    \n",
    "    for i, (items, classes) in enumerate(train_loader):\n",
    "        items = Variable(items)\n",
    "        classes = Variable(classes)\n",
    "        \n",
    "        if cuda.is_available():\n",
    "            items = items.cuda(0)\n",
    "            classes = classes.cuda(0)\n",
    "        \n",
    "        optimizer.zero_grad()\n",
    "        outputs = net(items)\n",
    "        loss = criterion(outputs, classes)\n",
    "        #print(outputs)\n",
    "        iter_loss += loss.item()\n",
    "        loss.backward()\n",
    "        optimizer.step()\n",
    "        #print(loss)\n",
    "        _, predicted = torch.max(outputs.data, 1)\n",
    "        correct += (predicted == classes.data).sum()\n",
    "        iterations += 1\n",
    "\n",
    "    train_loss.append(iter_loss/iterations)\n",
    "    \n",
    "    train_accuracy.append((100 * correct.float() / len(train_loader.dataset)))\n",
    "    \n",
    "    loss = 0.0\n",
    "    correct = 0\n",
    "    iterations = 0\n",
    "    net.eval()\n",
    "    \n",
    "    for i, (items, classes) in enumerate(test_loader):\n",
    "        items = Variable(items)\n",
    "        classes = Variable(classes)\n",
    "        \n",
    "        if cuda.is_available():\n",
    "            items = items.cuda(0)\n",
    "            classes = classes.cuda(0)\n",
    "        \n",
    "        outputs = net(items)\n",
    "        loss += criterion(outputs, classes).item()\n",
    "        \n",
    "        _, predicted = torch.max(outputs.data, 1)\n",
    "        correct += (predicted == classes.data).sum()\n",
    "        \n",
    "        iterations += 1\n",
    "\n",
    "    valid_loss.append(loss/iterations)\n",
    "    correct_scalar = np.array([correct.clone().cpu()])[0]\n",
    "    valid_accuracy.append(correct_scalar / len(test_loader.dataset) * 100.0)\n",
    "    if valid_accuracy[-1] > old_acc :\n",
    "        torch.save(net.state_dict(), 'model_2class_7ch_CNN')\n",
    "        old_acc = valid_accuracy[-1]\n",
    "    if (epoch%50) == 0 :\n",
    "        print ('Epoch %d/%d, Tr Loss: %.4f, Tr Acc: %.4f, Val Loss: %.4f, Val Acc: %.4f'\n",
    "                   %(epoch+1, num_epochs, train_loss[-1], train_accuracy[-1], valid_loss[-1], valid_accuracy[-1]))\n",
    "    if (epoch%300) == 0:\n",
    "        clear_output(wait=True)\n",
    "        do_plot(train_accuracy, valid_accuracy,\"acc\")\n",
    "        do_plot(train_loss, valid_loss,\"loss\")\n",
    "        \n",
    "print ('Epoch %d/%d, Tr Loss: %.4f, Tr Acc: %.4f, Val Loss: %.4f, Val Acc: %.4f'\n",
    "                   %(epoch+1, num_epochs, train_loss[-1], train_accuracy[-1], valid_loss[-1], valid_accuracy[-1]))\n"
   ]
  },
  {
   "cell_type": "code",
   "execution_count": 43,
   "id": "3d4392aa-42a5-4b5e-98ff-c70f57084afd",
   "metadata": {},
   "outputs": [
    {
     "name": "stdout",
     "output_type": "stream",
     "text": [
      "Epoch 5000/5000, Tr Loss: 0.3684, Tr Acc: 84.5781, Val Loss: 0.5670, Val Acc: 73.0697\n"
     ]
    }
   ],
   "source": [
    "print ('Epoch %d/%d, Tr Loss: %.4f, Tr Acc: %.4f, Val Loss: %.4f, Val Acc: %.4f'\n",
    "                   %(epoch+1, num_epochs, train_loss[-1], train_accuracy[-1], valid_loss[-1], valid_accuracy[-1]))\n"
   ]
  },
  {
   "cell_type": "code",
   "execution_count": 44,
   "id": "8a8b7fd5-7c9d-4d45-8479-a22b9b3b9599",
   "metadata": {},
   "outputs": [
    {
     "data": {
      "image/png": "[encoded data removed]",
      "text/plain": [
       "<Figure size 720x720 with 1 Axes>"
      ]
     },
     "metadata": {
      "needs_background": "light"
     },
     "output_type": "display_data"
    }
   ],
   "source": [
    "do_plot(train_accuracy, valid_accuracy,\"acc\")"
   ]
  },
  {
   "cell_type": "code",
   "execution_count": 45,
   "id": "e1fa9269-aff3-4916-bbe8-f0f0dbea9604",
   "metadata": {},
   "outputs": [
    {
     "data": {
      "image/png": "[encoded data removed]",
      "text/plain": [
       "<Figure size 720x720 with 1 Axes>"
      ]
     },
     "metadata": {
      "needs_background": "light"
     },
     "output_type": "display_data"
    }
   ],
   "source": [
    "do_plot(train_loss, valid_loss,\"loss\")"
   ]
  },
  {
   "cell_type": "markdown",
   "id": "3463cc08-42bf-44bf-bb60-f8f91c6ca4d9",
   "metadata": {},
   "source": [
    "### validate\n"
   ]
  },
  {
   "cell_type": "code",
   "execution_count": 18,
   "id": "6bed1c2d-2be1-48fd-976e-2da1001f0289",
   "metadata": {},
   "outputs": [],
   "source": [
    "del net\n",
    "net = ConvNet().cuda(0)"
   ]
  },
  {
   "cell_type": "code",
   "execution_count": 19,
   "id": "27a8c4fc-18da-41ed-82ff-396e9ca631dd",
   "metadata": {},
   "outputs": [
    {
     "data": {
      "text/plain": [
       "<All keys matched successfully>"
      ]
     },
     "execution_count": 19,
     "metadata": {},
     "output_type": "execute_result"
    }
   ],
   "source": [
    "net.load_state_dict(torch.load('model_2class_7ch_CNN'))"
   ]
  },
  {
   "cell_type": "code",
   "execution_count": null,
   "id": "519c1cc9-9d30-4241-85c6-769651dfe8bd",
   "metadata": {},
   "outputs": [],
   "source": []
  },
  {
   "cell_type": "code",
   "execution_count": 20,
   "id": "1fdb330a-630d-44a7-9b63-a9c8e63e7d17",
   "metadata": {
    "tags": []
   },
   "outputs": [
    {
     "name": "stdout",
     "output_type": "stream",
     "text": [
      "Raw done\n",
      ">>> Apply filter.\n",
      "Filtering raw data in 3 contiguous segments\n",
      "Setting up band-pass filter from 1 - 40 Hz\n",
      "\n",
      "FIR filter parameters\n",
      "---------------------\n",
      "Designing a one-pass, zero-phase, non-causal bandpass filter:\n",
      "- Windowed time-domain design (firwin) method\n",
      "- Hamming window with 0.0194 passband ripple and 53 dB stopband attenuation\n",
      "- Lower passband edge: 1.00\n",
      "- Lower transition bandwidth: 1.00 Hz (-6 dB cutoff frequency: 0.50 Hz)\n",
      "- Upper passband edge: 40.00 Hz\n",
      "- Upper transition bandwidth: 10.00 Hz (-6 dB cutoff frequency: 45.00 Hz)\n",
      "- Filter length: 529 samples (3.306 sec)\n",
      "\n",
      "Filter done\n",
      ">>> Create Epochs.\n",
      "Used Annotations descriptions: ['T1', 'T2']\n",
      "Not setting metadata\n",
      "45 matching events found\n",
      "No baseline correction applied\n",
      "0 projection items activated\n",
      "Using data from preloaded Raw for 45 events and 641 original time points ...\n",
      "0 bad epochs dropped\n"
     ]
    },
    {
     "name": "stderr",
     "output_type": "stream",
     "text": [
      "[Parallel(n_jobs=1)]: Using backend SequentialBackend with 1 concurrent workers.\n",
      "[Parallel(n_jobs=1)]: Done   1 out of   1 | elapsed:    0.0s remaining:    0.0s\n",
      "[Parallel(n_jobs=1)]: Done   2 out of   2 | elapsed:    0.0s remaining:    0.0s\n",
      "[Parallel(n_jobs=1)]: Done   3 out of   3 | elapsed:    0.0s remaining:    0.0s\n",
      "[Parallel(n_jobs=1)]: Done   4 out of   4 | elapsed:    0.0s remaining:    0.0s\n",
      "[Parallel(n_jobs=1)]: Done  64 out of  64 | elapsed:    0.0s finished\n"
     ]
    },
    {
     "data": {
      "text/plain": [
       "(array([[  672,     0,     0],\n",
       "        [ 2000,     0,     1],\n",
       "        [ 3328,     0,     1],\n",
       "        [ 4656,     0,     0],\n",
       "        [ 5984,     0,     0],\n",
       "        [ 7312,     0,     1],\n",
       "        [ 8640,     0,     1],\n",
       "        [ 9968,     0,     0],\n",
       "        [11296,     0,     1],\n",
       "        [12624,     0,     0],\n",
       "        [13952,     0,     1],\n",
       "        [15280,     0,     0],\n",
       "        [16608,     0,     1],\n",
       "        [17936,     0,     0],\n",
       "        [19264,     0,     0],\n",
       "        [20672,     0,     0],\n",
       "        [22000,     0,     1],\n",
       "        [23328,     0,     0],\n",
       "        [24656,     0,     1],\n",
       "        [25984,     0,     1],\n",
       "        [27312,     0,     0],\n",
       "        [28640,     0,     0],\n",
       "        [29968,     0,     1],\n",
       "        [31296,     0,     1],\n",
       "        [32624,     0,     0],\n",
       "        [33952,     0,     1],\n",
       "        [35280,     0,     0],\n",
       "        [36608,     0,     1],\n",
       "        [37936,     0,     0],\n",
       "        [39264,     0,     1],\n",
       "        [40672,     0,     0],\n",
       "        [42000,     0,     1],\n",
       "        [43328,     0,     1],\n",
       "        [44656,     0,     0],\n",
       "        [45984,     0,     1],\n",
       "        [47312,     0,     0],\n",
       "        [48640,     0,     0],\n",
       "        [49968,     0,     1],\n",
       "        [51296,     0,     1],\n",
       "        [52624,     0,     0],\n",
       "        [53952,     0,     0],\n",
       "        [55280,     0,     1],\n",
       "        [56608,     0,     0],\n",
       "        [57936,     0,     1],\n",
       "        [59264,     0,     1]]),\n",
       " {'T1': 0, 'T2': 1})"
      ]
     },
     "execution_count": 20,
     "metadata": {},
     "output_type": "execute_result"
    }
   ],
   "source": [
    "# home directory + datasets folder\n",
    "#path = '/content/drive/MyDrive/MNE-eegbci-data/files/eegmmidb/'\n",
    "path = 'physionet.org/files/eegmmidb/1.0.0'\n",
    "base_url = 'https://physionet.org/files/eegmmidb/'\n",
    "# subjects = [1]\n",
    "#runs = [3, 4, 7, 8, 11, 12]\n",
    "runs = [4, 8, 12]\n",
    "subjects = [i for i in range(83,84)]\n",
    "#subjects = [1]\n",
    "# runs = [6,10,14]\n",
    "\n",
    "eeg = EEG(path, base_url, subjects, runs)\n",
    "raw=eeg.data_to_raw()\n",
    "print(\"Raw done\")\n",
    "# apply filter\n",
    "freq = (1., 40.)\n",
    "raw=eeg.filter(freq=freq)\n",
    "#raw=eeg.data_to_raw()\n",
    "print(\"Filter done\")\n",
    "#raw=eeg.raw_ica()\n",
    "eeg.create_epochs()"
   ]
  },
  {
   "cell_type": "code",
   "execution_count": 21,
   "id": "5d776b41-bffa-4706-8e0b-b401ae6e9f06",
   "metadata": {},
   "outputs": [
    {
     "name": "stdout",
     "output_type": "stream",
     "text": [
      "(45, 7, 641)\n"
     ]
    }
   ],
   "source": [
    "# pick 7 channels.\n",
    "#X2 = X[:, 7:14, :]\n",
    "#X = X2\n",
    "\n",
    "# pick C3 and C4 channels.\n",
    "\n",
    "X_val, y_val = eeg.get_X_y()\n",
    "X_val=X_val[:, 7:14, :]\n",
    "\n",
    "#X2 = X_val[:, 1:2, :] \n",
    "#X3= X_val[:, 5:6, :]\n",
    "#X_val = np.concatenate((X2,X3), axis=1)\n",
    "# = X4\n",
    "#X_val = X_val[:, :,np.newaxis,:]\n",
    "print(X_val.shape)\n",
    "\n",
    "\n"
   ]
  },
  {
   "cell_type": "code",
   "execution_count": 52,
   "id": "e591afc7-bae9-44e4-95a9-7410b980da3f",
   "metadata": {},
   "outputs": [],
   "source": [
    "test_loader = create_dataloader(X_val, y_val, batch_size=batch_size)"
   ]
  },
  {
   "cell_type": "code",
   "execution_count": 22,
   "id": "e75f0fb0-2262-4a55-828d-dd30f3179a53",
   "metadata": {},
   "outputs": [
    {
     "name": "stdout",
     "output_type": "stream",
     "text": [
      " Val Acc: 70.8098\n"
     ]
    }
   ],
   "source": [
    "# Train the model\n",
    "num_epochs = 1\n",
    "\n",
    "train_loss = []\n",
    "valid_loss = []\n",
    "train_accuracy = []\n",
    "valid_accuracy = []\n",
    "old_acc = 0\n",
    "for epoch in range(num_epochs):\n",
    "\n",
    "    loss = 0.0\n",
    "    correct = 0\n",
    "    iterations = 0\n",
    "    net.eval()\n",
    "    for i, (items, classes) in enumerate(test_loader):\n",
    "        items = Variable(items)\n",
    "        classes = Variable(classes)\n",
    "        \n",
    "        if cuda.is_available():\n",
    "            items = items.cuda(0)\n",
    "            classes = classes.cuda(0)\n",
    "        \n",
    "        outputs = net(items)\n",
    "        loss += criterion(outputs, classes).item()\n",
    "        \n",
    "        _, predicted = torch.max(outputs.data, 1)\n",
    "        correct += (predicted == classes.data).sum()\n",
    "        \n",
    "        iterations += 1\n",
    "\n",
    "    valid_loss.append(loss/iterations)\n",
    "    correct_scalar = np.array([correct.clone().cpu()])[0]\n",
    "    valid_accuracy.append(correct_scalar / len(test_loader.dataset) * 100.0)\n",
    "print (' Val Acc: %.4f'\n",
    "                   %(valid_accuracy[-1]))\n"
   ]
  },
  {
   "cell_type": "markdown",
   "id": "1b544cb1-a832-460c-a623-f682258d9128",
   "metadata": {},
   "source": [
    "### Freeze layer"
   ]
  },
  {
   "cell_type": "code",
   "execution_count": 81,
   "id": "faa605c3-b85d-4c73-98ff-f2a1194b3eb6",
   "metadata": {},
   "outputs": [],
   "source": [
    "del net\n",
    "net = ConvNet().cuda(0)"
   ]
  },
  {
   "cell_type": "code",
   "execution_count": 82,
   "id": "095d271e-be36-40ab-8c37-1ba617aff35c",
   "metadata": {},
   "outputs": [
    {
     "data": {
      "text/plain": [
       "<All keys matched successfully>"
      ]
     },
     "execution_count": 82,
     "metadata": {},
     "output_type": "execute_result"
    }
   ],
   "source": [
    "net.load_state_dict(torch.load('model_2class_7ch_CNN'))"
   ]
  },
  {
   "cell_type": "code",
   "execution_count": null,
   "id": "da37cb4f-0483-4927-ab86-a7656cc580ca",
   "metadata": {},
   "outputs": [],
   "source": []
  },
  {
   "cell_type": "code",
   "execution_count": 83,
   "id": "f879a0a6-89f1-4c17-8b85-4c301377e303",
   "metadata": {},
   "outputs": [
    {
     "data": {
      "text/plain": [
       "odict_keys(['layer1.0.weight', 'layer1.0.bias', 'layer1.1.weight', 'layer1.1.bias', 'layer1.1.running_mean', 'layer1.1.running_var', 'layer1.1.num_batches_tracked', 'layer2.0.weight', 'layer2.0.bias', 'layer2.1.weight', 'layer2.1.bias', 'layer2.1.running_mean', 'layer2.1.running_var', 'layer2.1.num_batches_tracked', 'fc.weight', 'fc.bias'])"
      ]
     },
     "execution_count": 83,
     "metadata": {},
     "output_type": "execute_result"
    }
   ],
   "source": [
    "parms = net.state_dict()\n",
    "parms.keys()"
   ]
  },
  {
   "cell_type": "code",
   "execution_count": 84,
   "id": "45dc7b5e-38bd-4be1-aa32-a11f5e8ef3d7",
   "metadata": {},
   "outputs": [],
   "source": [
    "for name,param in net.named_parameters():\n",
    "    if param.requires_grad and 'layer1' in name:\n",
    "        param.requires_grad = False\n",
    "    if param.requires_grad and 'layer2' in name:\n",
    "        param.requires_grad = False"
   ]
  },
  {
   "cell_type": "code",
   "execution_count": 85,
   "id": "6322a06c-e29f-497f-9e3d-7c08b0e23f71",
   "metadata": {},
   "outputs": [
    {
     "name": "stdout",
     "output_type": "stream",
     "text": [
      "Raw done\n",
      ">>> Apply filter.\n",
      "Filtering raw data in 3 contiguous segments\n",
      "Setting up band-pass filter from 1 - 40 Hz\n",
      "\n",
      "FIR filter parameters\n",
      "---------------------\n",
      "Designing a one-pass, zero-phase, non-causal bandpass filter:\n",
      "- Windowed time-domain design (firwin) method\n",
      "- Hamming window with 0.0194 passband ripple and 53 dB stopband attenuation\n",
      "- Lower passband edge: 1.00\n",
      "- Lower transition bandwidth: 1.00 Hz (-6 dB cutoff frequency: 0.50 Hz)\n",
      "- Upper passband edge: 40.00 Hz\n",
      "- Upper transition bandwidth: 10.00 Hz (-6 dB cutoff frequency: 45.00 Hz)\n",
      "- Filter length: 529 samples (3.306 sec)\n",
      "\n",
      "Filter done\n",
      ">>> Create Epochs.\n",
      "Used Annotations descriptions: ['T1', 'T2']\n",
      "Not setting metadata\n",
      "45 matching events found\n",
      "No baseline correction applied\n",
      "0 projection items activated\n",
      "Using data from preloaded Raw for 45 events and 641 original time points ...\n",
      "0 bad epochs dropped\n"
     ]
    },
    {
     "name": "stderr",
     "output_type": "stream",
     "text": [
      "[Parallel(n_jobs=1)]: Using backend SequentialBackend with 1 concurrent workers.\n",
      "[Parallel(n_jobs=1)]: Done   1 out of   1 | elapsed:    0.0s remaining:    0.0s\n",
      "[Parallel(n_jobs=1)]: Done   2 out of   2 | elapsed:    0.0s remaining:    0.0s\n",
      "[Parallel(n_jobs=1)]: Done   3 out of   3 | elapsed:    0.0s remaining:    0.0s\n",
      "[Parallel(n_jobs=1)]: Done   4 out of   4 | elapsed:    0.0s remaining:    0.0s\n",
      "[Parallel(n_jobs=1)]: Done  64 out of  64 | elapsed:    0.0s finished\n"
     ]
    },
    {
     "data": {
      "text/plain": [
       "(array([[  672,     0,     0],\n",
       "        [ 2000,     0,     1],\n",
       "        [ 3328,     0,     1],\n",
       "        [ 4656,     0,     0],\n",
       "        [ 5984,     0,     0],\n",
       "        [ 7312,     0,     1],\n",
       "        [ 8640,     0,     1],\n",
       "        [ 9968,     0,     0],\n",
       "        [11296,     0,     1],\n",
       "        [12624,     0,     0],\n",
       "        [13952,     0,     1],\n",
       "        [15280,     0,     0],\n",
       "        [16608,     0,     1],\n",
       "        [17936,     0,     0],\n",
       "        [19264,     0,     0],\n",
       "        [20672,     0,     0],\n",
       "        [22000,     0,     1],\n",
       "        [23328,     0,     0],\n",
       "        [24656,     0,     1],\n",
       "        [25984,     0,     1],\n",
       "        [27312,     0,     0],\n",
       "        [28640,     0,     0],\n",
       "        [29968,     0,     1],\n",
       "        [31296,     0,     1],\n",
       "        [32624,     0,     0],\n",
       "        [33952,     0,     1],\n",
       "        [35280,     0,     0],\n",
       "        [36608,     0,     1],\n",
       "        [37936,     0,     0],\n",
       "        [39264,     0,     1],\n",
       "        [40672,     0,     0],\n",
       "        [42000,     0,     1],\n",
       "        [43328,     0,     1],\n",
       "        [44656,     0,     0],\n",
       "        [45984,     0,     1],\n",
       "        [47312,     0,     0],\n",
       "        [48640,     0,     0],\n",
       "        [49968,     0,     1],\n",
       "        [51296,     0,     1],\n",
       "        [52624,     0,     0],\n",
       "        [53952,     0,     0],\n",
       "        [55280,     0,     1],\n",
       "        [56608,     0,     0],\n",
       "        [57936,     0,     1],\n",
       "        [59264,     0,     1]]),\n",
       " {'T1': 0, 'T2': 1})"
      ]
     },
     "execution_count": 85,
     "metadata": {},
     "output_type": "execute_result"
    }
   ],
   "source": [
    "# home directory + datasets folder\n",
    "#path = '/content/drive/MyDrive/MNE-eegbci-data/files/eegmmidb/'\n",
    "path = 'physionet.org/files/eegmmidb/1.0.0'\n",
    "base_url = 'https://physionet.org/files/eegmmidb/'\n",
    "# subjects = [1]\n",
    "#runs = [3, 4, 7, 8, 11, 12]\n",
    "runs = [4, 8, 12]\n",
    "subjects = [i for i in range(83,84)]\n",
    "#subjects = [1]\n",
    "# runs = [6,10,14]\n",
    "\n",
    "eeg = EEG(path, base_url, subjects, runs)\n",
    "raw=eeg.data_to_raw()\n",
    "print(\"Raw done\")\n",
    "# apply filter\n",
    "freq = (1., 40.)\n",
    "raw=eeg.filter(freq=freq)\n",
    "#raw=eeg.data_to_raw()\n",
    "print(\"Filter done\")\n",
    "#raw=eeg.raw_ica()\n",
    "eeg.create_epochs()"
   ]
  },
  {
   "cell_type": "code",
   "execution_count": 86,
   "id": "213faa07-a62b-4cd9-b769-79c873f76637",
   "metadata": {},
   "outputs": [
    {
     "name": "stdout",
     "output_type": "stream",
     "text": [
      "(45, 64, 641) (45,)\n"
     ]
    },
    {
     "data": {
      "text/plain": [
       "(45, 64, 641)"
      ]
     },
     "execution_count": 86,
     "metadata": {},
     "output_type": "execute_result"
    }
   ],
   "source": [
    "X, y = eeg.get_X_y()\n",
    "\n",
    "print(X.shape, y.shape)\n",
    "\n",
    "X = X[:,:,:]\n",
    "X.shape"
   ]
  },
  {
   "cell_type": "code",
   "execution_count": 87,
   "id": "54c393ed-c245-4609-ab84-3d4a485fb397",
   "metadata": {},
   "outputs": [
    {
     "name": "stdout",
     "output_type": "stream",
     "text": [
      "(45, 7, 641)\n"
     ]
    }
   ],
   "source": [
    "# pick 7 channels.\n",
    "X = X[:, 7:14, :]\n",
    "# = X2\n",
    "\n",
    "# pick C3 and C4 channels.\n",
    "#X2 = X[:, 1:2, :] \n",
    "#X3= X[:, 5:6, :]\n",
    "#X = np.concatenate((X2,X3), axis=1)\n",
    "# = X4\n",
    "#X = X[:, :,np.newaxis,:]\n",
    "print(X.shape)"
   ]
  },
  {
   "cell_type": "code",
   "execution_count": 88,
   "id": "f888af08-13a2-46d4-a75d-9efd94b6dc8a",
   "metadata": {},
   "outputs": [
    {
     "name": "stdout",
     "output_type": "stream",
     "text": [
      "(31, 7, 641) (31,)\n",
      "(14, 7, 641) (14,)\n",
      "(9, 7, 641) (9,)\n",
      "(5, 7, 641) (5,)\n"
     ]
    }
   ],
   "source": [
    "X_train, X_test, y_train, y_test = train_test_split(X, y, test_size=0.3)\n",
    "\n",
    "print(X_train.shape, y_train.shape)\n",
    "print(X_test.shape, y_test.shape)\n",
    "\n",
    "X_test, X_vail, y_test, y_vail = train_test_split(X_test, y_test, test_size=0.3)\n",
    "\n",
    "print(X_test.shape, y_test.shape)\n",
    "print(X_vail.shape, y_vail.shape)"
   ]
  },
  {
   "cell_type": "code",
   "execution_count": 89,
   "id": "dfaba4cf-417a-4b2d-bf00-65081c4dadee",
   "metadata": {},
   "outputs": [],
   "source": [
    "train_loader = create_dataloader(X_train, y_train, batch_size=batch_size)\n",
    "test_loader = create_dataloader(X_test, y_test, batch_size=batch_size)"
   ]
  },
  {
   "cell_type": "code",
   "execution_count": 95,
   "id": "c0342085-ba8c-4f89-b6ed-bbab7d5dcd8f",
   "metadata": {},
   "outputs": [],
   "source": [
    "#optimizer = optim.Adam(filter(lambda p: p.requires_grad, net.parameters()),lr=0.00000001)\n",
    "optimizer = optim.SGD(filter(lambda p: p.requires_grad, net.parameters()), lr=0.00001)\n",
    "#optimizer = optim.Adam(net.parameters(), lr=0.0000001)\n",
    "criterion = nn.CrossEntropyLoss()"
   ]
  },
  {
   "cell_type": "code",
   "execution_count": 96,
   "id": "212b4240-fc1c-42fe-80c0-9565e13a2788",
   "metadata": {},
   "outputs": [
    {
     "data": {
      "image/png": "[encoded data removed]",
      "text/plain": [
       "<Figure size 720x720 with 1 Axes>"
      ]
     },
     "metadata": {
      "needs_background": "light"
     },
     "output_type": "display_data"
    },
    {
     "data": {
      "image/png": "[encoded data removed]",
      "text/plain": [
       "<Figure size 720x720 with 1 Axes>"
      ]
     },
     "metadata": {
      "needs_background": "light"
     },
     "output_type": "display_data"
    },
    {
     "name": "stdout",
     "output_type": "stream",
     "text": [
      "Epoch 99951/100000, Tr Loss: 0.0033, Tr Acc: 100.0000, Val Loss: 1.0485, Val Acc: 55.5556\n",
      "Epoch 100000/100000, Tr Loss: 0.0034, Tr Acc: 100.0000, Val Loss: 1.0483, Val Acc: 55.5556\n"
     ]
    }
   ],
   "source": [
    "# Train the model\n",
    "num_epochs = 100000\n",
    "\n",
    "train_loss = []\n",
    "valid_loss = []\n",
    "train_accuracy = []\n",
    "valid_accuracy = []\n",
    "old_acc = 0\n",
    "for epoch in range(num_epochs):\n",
    "    iter_loss = 0.0\n",
    "    correct = 0\n",
    "    iterations = 0\n",
    "    \n",
    "    net.train()\n",
    "    \n",
    "    for i, (items, classes) in enumerate(train_loader):\n",
    "        items = Variable(items)\n",
    "        classes = Variable(classes)\n",
    "        \n",
    "        if cuda.is_available():\n",
    "            items = items.cuda(0)\n",
    "            classes = classes.cuda(0)\n",
    "        \n",
    "        optimizer.zero_grad()\n",
    "        outputs = net(items)\n",
    "        loss = criterion(outputs, classes)\n",
    "        #print(outputs)\n",
    "        iter_loss += loss.item()\n",
    "        loss.backward()\n",
    "        optimizer.step()\n",
    "        #print(loss)\n",
    "        _, predicted = torch.max(outputs.data, 1)\n",
    "        correct += (predicted == classes.data).sum()\n",
    "        iterations += 1\n",
    "\n",
    "    train_loss.append(iter_loss/iterations)\n",
    "    \n",
    "    train_accuracy.append((100 * correct.float() / len(train_loader.dataset)))\n",
    "    \n",
    "    loss = 0.0\n",
    "    correct = 0\n",
    "    iterations = 0\n",
    "    net.eval()\n",
    "    \n",
    "    for i, (items, classes) in enumerate(test_loader):\n",
    "        items = Variable(items)\n",
    "        classes = Variable(classes)\n",
    "        \n",
    "        if cuda.is_available():\n",
    "            items = items.cuda(0)\n",
    "            classes = classes.cuda(0)\n",
    "        \n",
    "        outputs = net(items)\n",
    "        loss += criterion(outputs, classes).item()\n",
    "        \n",
    "        _, predicted = torch.max(outputs.data, 1)\n",
    "        correct += (predicted == classes.data).sum()\n",
    "        \n",
    "        iterations += 1\n",
    "\n",
    "    valid_loss.append(loss/iterations)\n",
    "    correct_scalar = np.array([correct.clone().cpu()])[0]\n",
    "    valid_accuracy.append(correct_scalar / len(test_loader.dataset) * 100.0)\n",
    "    if valid_accuracy[-1] > old_acc :\n",
    "        torch.save(net.state_dict(), 'model_find_tune_2class_7ch')\n",
    "        old_acc = valid_accuracy[-1]\n",
    "    if (epoch%50) == 0 :\n",
    "        print ('Epoch %d/%d, Tr Loss: %.4f, Tr Acc: %.4f, Val Loss: %.4f, Val Acc: %.4f'\n",
    "                   %(epoch+1, num_epochs, train_loss[-1], train_accuracy[-1], valid_loss[-1], valid_accuracy[-1]))\n",
    "    if (epoch%300) == 0:\n",
    "        clear_output(wait=True)\n",
    "        do_plot(train_accuracy, valid_accuracy,\"acc\")\n",
    "        do_plot(train_loss, valid_loss,\"loss\")\n",
    "        \n",
    "print ('Epoch %d/%d, Tr Loss: %.4f, Tr Acc: %.4f, Val Loss: %.4f, Val Acc: %.4f'\n",
    "                   %(epoch+1, num_epochs, train_loss[-1], train_accuracy[-1], valid_loss[-1], valid_accuracy[-1]))\n"
   ]
  },
  {
   "cell_type": "code",
   "execution_count": 97,
   "id": "73d7e6d9-5273-4000-a351-3164b5956cd6",
   "metadata": {},
   "outputs": [
    {
     "data": {
      "image/png": "[encoded data removed]",
      "text/plain": [
       "<Figure size 720x720 with 1 Axes>"
      ]
     },
     "metadata": {
      "needs_background": "light"
     },
     "output_type": "display_data"
    }
   ],
   "source": [
    "do_plot(train_accuracy, valid_accuracy,\"acc\")"
   ]
  },
  {
   "cell_type": "code",
   "execution_count": 98,
   "id": "c9dcb2fd-b2b5-4b6c-8505-0e6301f22013",
   "metadata": {},
   "outputs": [
    {
     "data": {
      "image/png": "[encoded data removed]",
      "text/plain": [
       "<Figure size 720x720 with 1 Axes>"
      ]
     },
     "metadata": {
      "needs_background": "light"
     },
     "output_type": "display_data"
    }
   ],
   "source": [
    "do_plot(train_loss, valid_loss,\"loss\")"
   ]
  },
  {
   "cell_type": "markdown",
   "id": "933e1620-4c45-4616-b427-6bb66dae4812",
   "metadata": {},
   "source": [
    "### Validate Findtune"
   ]
  },
  {
   "cell_type": "code",
   "execution_count": 99,
   "id": "9e8341e5-ea95-4ae6-8418-1f792b15c39b",
   "metadata": {},
   "outputs": [],
   "source": [
    "del net"
   ]
  },
  {
   "cell_type": "code",
   "execution_count": 100,
   "id": "5c0fc2ea-ae32-4a90-a92a-eae5d1effcfc",
   "metadata": {},
   "outputs": [],
   "source": [
    "net = ConvNet().cuda(0)"
   ]
  },
  {
   "cell_type": "code",
   "execution_count": 101,
   "id": "79516f20-09c3-4d57-8a8f-1fd032fc77a3",
   "metadata": {},
   "outputs": [
    {
     "data": {
      "text/plain": [
       "<All keys matched successfully>"
      ]
     },
     "execution_count": 101,
     "metadata": {},
     "output_type": "execute_result"
    }
   ],
   "source": [
    "net.load_state_dict(torch.load('model_find_tune_2class_7ch'))"
   ]
  },
  {
   "cell_type": "code",
   "execution_count": 102,
   "id": "4cd67654-6054-4d7c-ae64-d9caf2f5f29e",
   "metadata": {},
   "outputs": [],
   "source": [
    "test_loader = create_dataloader(X_vail, y_vail, batch_size=batch_size)\n"
   ]
  },
  {
   "cell_type": "code",
   "execution_count": 106,
   "id": "3b448572-ac9b-439f-b017-dc5525b024a1",
   "metadata": {},
   "outputs": [
    {
     "name": "stdout",
     "output_type": "stream",
     "text": [
      "Predicted : tensor([1, 0, 1, 0, 1], device='cuda:1') \n",
      "classes.data : tensor([1, 0, 1, 1, 1], device='cuda:1') \n",
      " Val Acc: 80.0000\n"
     ]
    }
   ],
   "source": [
    "# Train the model\n",
    "num_epochs = 1\n",
    "\n",
    "train_loss = []\n",
    "valid_loss = []\n",
    "train_accuracy = []\n",
    "valid_accuracy = []\n",
    "old_acc = 0\n",
    "for epoch in range(num_epochs):\n",
    "\n",
    "    loss = 0.0\n",
    "    correct = 0\n",
    "    iterations = 0\n",
    "    net.eval()\n",
    "    for i, (items, classes) in enumerate(test_loader):\n",
    "        items = Variable(items)\n",
    "        classes = Variable(classes)\n",
    "        \n",
    "        if cuda.is_available():\n",
    "            items = items.cuda(0)\n",
    "            classes = classes.cuda(0)\n",
    "        \n",
    "        outputs = net(items)\n",
    "        \n",
    "        loss += criterion(outputs, classes).item()\n",
    "        \n",
    "        _, predicted = torch.max(outputs.data, 1)\n",
    "        correct += (predicted == classes.data).sum()\n",
    "        print(\"Predicted : {0} \".format(predicted))\n",
    "        print(\"classes.data : {0} \".format(classes.data))\n",
    "        iterations += 1\n",
    "\n",
    "    valid_loss.append(loss/iterations)\n",
    "    correct_scalar = np.array([correct.clone().cpu()])[0]\n",
    "    valid_accuracy.append(correct_scalar / len(test_loader.dataset) * 100.0)\n",
    "print (' Val Acc: %.4f'\n",
    "                   %(valid_accuracy[-1]))\n"
   ]
  },
  {
   "cell_type": "code",
   "execution_count": 104,
   "id": "c743c4d3-58ce-4fd3-8777-09e3ef283e11",
   "metadata": {},
   "outputs": [
    {
     "data": {
      "text/plain": [
       "array([1, 1, 1, 0, 1])"
      ]
     },
     "execution_count": 104,
     "metadata": {},
     "output_type": "execute_result"
    }
   ],
   "source": [
    "y_vail"
   ]
  },
  {
   "cell_type": "code",
   "execution_count": null,
   "id": "4eb8a1cb-9cdb-404a-b363-6e568d88261d",
   "metadata": {},
   "outputs": [],
   "source": []
  }
 ],
 "metadata": {
  "kernelspec": {
   "display_name": "Python 3 (ipykernel)",
   "language": "python",
   "name": "python3"
  },
  "language_info": {
   "codemirror_mode": {
    "name": "ipython",
    "version": 3
   },
   "file_extension": ".py",
   "mimetype": "text/x-python",
   "name": "python",
   "nbconvert_exporter": "python",
   "pygments_lexer": "ipython3",
   "version": "3.8.10"
  }
 },
 "nbformat": 4,
 "nbformat_minor": 5
}
