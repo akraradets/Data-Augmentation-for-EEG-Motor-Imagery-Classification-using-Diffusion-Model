{
 "cells": [
  {
   "cell_type": "code",
   "execution_count": 1,
   "id": "9c98b0ee-e674-429f-a390-d664ef22eeb8",
   "metadata": {},
   "outputs": [],
   "source": [
    "import numpy as np\n",
    "import matplotlib.pyplot as plt\n",
    "import mne\n",
    "import os\n",
    "import sys\n",
    "from mne.datasets import eegbci\n",
    "import glob\n",
    "from IPython.display import clear_output\n",
    "import numpy as np\n",
    "import torch\n",
    "from torch import nn\n",
    "import torch.optim as optim\n",
    "\n",
    "from mne.datasets import eegbci\n",
    "from sklearn.model_selection import train_test_split\n",
    "from torch.utils.data import TensorDataset\n",
    "from torch.utils.data import DataLoader\n",
    "from scipy import signal\n",
    "\n",
    "\n",
    "import torch\n",
    "import torch.cuda as cuda\n",
    "import torch.nn as nn\n",
    "from torch.autograd import Variable\n",
    "import math\n",
    "import wandb\n",
    "import os\n",
    "from common import train\n",
    "os.environ['http_proxy'] = \"http://192.41.170.23:3128\" \n",
    "os.environ['https_proxy'] = \"http://192.41.170.23:3128\" "
   ]
  },
  {
   "cell_type": "code",
   "execution_count": null,
   "id": "c38ac9e5-0ffa-4578-89f2-e8bce5c7caf3",
   "metadata": {},
   "outputs": [],
   "source": []
  },
  {
   "cell_type": "code",
   "execution_count": null,
   "id": "ff63f68d-e220-4fbd-9acd-987ca72107d0",
   "metadata": {},
   "outputs": [],
   "source": []
  },
  {
   "cell_type": "code",
   "execution_count": 2,
   "id": "ac7f0904-0005-4184-93fc-3f0bd2cd815e",
   "metadata": {},
   "outputs": [
    {
     "data": {
      "text/plain": [
       "'NVIDIA RTX A6000'"
      ]
     },
     "execution_count": 2,
     "metadata": {},
     "output_type": "execute_result"
    }
   ],
   "source": [
    "torch.cuda.is_available()\n",
    "torch.cuda.get_device_name(0)"
   ]
  },
  {
   "cell_type": "code",
   "execution_count": 3,
   "id": "1b75684e-46b1-4b7a-9d2b-f77dddfd943b",
   "metadata": {},
   "outputs": [],
   "source": [
    "from common import EEG_fif\n",
    "from common import create_dataloader"
   ]
  },
  {
   "cell_type": "code",
   "execution_count": 4,
   "id": "61a1af52-b20c-4259-92de-72a9938db85a",
   "metadata": {},
   "outputs": [],
   "source": [
    "\n",
    "# Convolutional neural network (two convolutional layers)\n",
    "class ConvNet(nn.Module):\n",
    "    def __init__(self, in_channels, out_channels, kernel_size, out_size):\n",
    "        super().__init__()\n",
    "        #using sequential helps bind multiple operations together\n",
    "        self.layer1 = nn.Sequential(\n",
    "            #padding = (kernel_size - 1) / 2 = 2\n",
    "            nn.Conv1d(in_channels, out_channels, kernel_size=kernel_size, stride=1, padding=2),\n",
    "            nn.BatchNorm1d(out_channels),\n",
    "            nn.ReLU(),\n",
    "            # nn.MaxPool2d(kernel_size=2, stride=2)\n",
    "        )\n",
    "        self.layer2 = nn.Sequential(\n",
    "            nn.Conv1d(out_channels, out_channels*2, kernel_size=kernel_size, stride=1, padding=2),\n",
    "            nn.BatchNorm1d(out_channels*2),\n",
    "            nn.ReLU(),\n",
    "            # nn.MaxPool2d(kernel_size=2, stride=2)\n",
    "        )\n",
    "        self.layer3 = nn.Sequential(\n",
    "            nn.Conv1d(out_channels*2, out_channels, kernel_size=kernel_size, stride=1, padding=2),\n",
    "            nn.BatchNorm1d(out_channels),\n",
    "            nn.ReLU(),\n",
    "        )\n",
    "        \n",
    "        \n",
    "        self.fc = nn.Linear(linear_shape  , out_size)\n",
    "        #self.fc = nn.Linear(80064 , 2)\n",
    "        \n",
    "        self.drop_out = nn.Dropout(0.5)\n",
    "        \n",
    "    def forward(self, x):\n",
    "        out = self.layer1(x)\n",
    "        out = self.drop_out(out)\n",
    "        out = self.layer2(out)\n",
    "        out = self.drop_out(out)\n",
    "        out = self.layer3(out)\n",
    "        #out = self.drop_out(out)\n",
    "        #out = self.layer4(out)\n",
    "        #out = self.drop_out(out)\n",
    "\n",
    "        out = out.reshape(out.size(0), -1)   #can also use .view()\n",
    "        out = self.fc(out)\n",
    "        return out"
   ]
  },
  {
   "cell_type": "code",
   "execution_count": 8,
   "id": "0798d879-5120-4680-b9fb-94fd92704865",
   "metadata": {},
   "outputs": [
    {
     "name": "stdout",
     "output_type": "stream",
     "text": [
      "subjects number : [20] \n"
     ]
    }
   ],
   "source": [
    "subjects = [20]\n",
    "print(\"subjects number : {} \".format(subjects))\n",
    "\n",
    "#[20,31,47,48,49,54,55,59,62]# list(range(36, 63))\n",
    "\n",
    "in_channels  = 2 #C3, C4\n",
    "out_channels = 64  #five is logical because we have freq= 8, 9, 10, 11, 12 that we want to capture\n",
    "out_size     = 2  #left or right\n",
    "kernel_size  = 5\n",
    "\n",
    "\n",
    "\n",
    "path = ''\n",
    "base_url = 'https://physionet.org/files/eegmmidb/'\n",
    "\n"
   ]
  },
  {
   "cell_type": "code",
   "execution_count": null,
   "id": "674bd72d-8273-47ee-a2e9-7dba3c7df8e1",
   "metadata": {},
   "outputs": [],
   "source": []
  },
  {
   "cell_type": "code",
   "execution_count": 9,
   "id": "0266eaa3-7d7f-4ac1-9179-c5c0cc1dda2d",
   "metadata": {},
   "outputs": [
    {
     "name": "stdout",
     "output_type": "stream",
     "text": [
      "############## 20 ########\n",
      "\n",
      "Raw done\n",
      "Setting up band-stop filter from 49 - 51 Hz\n",
      "\n",
      "FIR filter parameters\n",
      "---------------------\n",
      "Designing a one-pass, zero-phase, non-causal bandstop filter:\n",
      "- Windowed time-domain design (firwin) method\n"
     ]
    },
    {
     "name": "stderr",
     "output_type": "stream",
     "text": [
      "/home/nutapolt/eeg_mi/common.py:627: RuntimeWarning: This filename (S020/S020R03.fif) does not conform to MNE naming conventions. All raw files should end with raw.fif, raw_sss.fif, raw_tsss.fif, _meg.fif, _eeg.fif, _ieeg.fif, raw.fif.gz, raw_sss.fif.gz, raw_tsss.fif.gz, _meg.fif.gz, _eeg.fif.gz or _ieeg.fif.gz\n",
      "  raw = mne.io.read_raw_fif( path_file , preload=True, verbose='WARNING' )\n",
      "/home/nutapolt/eeg_mi/common.py:627: RuntimeWarning: This filename (S020/S020R05.fif) does not conform to MNE naming conventions. All raw files should end with raw.fif, raw_sss.fif, raw_tsss.fif, _meg.fif, _eeg.fif, _ieeg.fif, raw.fif.gz, raw_sss.fif.gz, raw_tsss.fif.gz, _meg.fif.gz, _eeg.fif.gz or _ieeg.fif.gz\n",
      "  raw = mne.io.read_raw_fif( path_file , preload=True, verbose='WARNING' )\n",
      "/home/nutapolt/eeg_mi/common.py:627: RuntimeWarning: This filename (S020/S020R07.fif) does not conform to MNE naming conventions. All raw files should end with raw.fif, raw_sss.fif, raw_tsss.fif, _meg.fif, _eeg.fif, _ieeg.fif, raw.fif.gz, raw_sss.fif.gz, raw_tsss.fif.gz, _meg.fif.gz, _eeg.fif.gz or _ieeg.fif.gz\n",
      "  raw = mne.io.read_raw_fif( path_file , preload=True, verbose='WARNING' )\n",
      "/home/nutapolt/eeg_mi/common.py:627: RuntimeWarning: This filename (S020/S020R09.fif) does not conform to MNE naming conventions. All raw files should end with raw.fif, raw_sss.fif, raw_tsss.fif, _meg.fif, _eeg.fif, _ieeg.fif, raw.fif.gz, raw_sss.fif.gz, raw_tsss.fif.gz, _meg.fif.gz, _eeg.fif.gz or _ieeg.fif.gz\n",
      "  raw = mne.io.read_raw_fif( path_file , preload=True, verbose='WARNING' )\n",
      "/home/nutapolt/eeg_mi/common.py:627: RuntimeWarning: This filename (S020/S020R03.fif) does not conform to MNE naming conventions. All raw files should end with raw.fif, raw_sss.fif, raw_tsss.fif, _meg.fif, _eeg.fif, _ieeg.fif, raw.fif.gz, raw_sss.fif.gz, raw_tsss.fif.gz, _meg.fif.gz, _eeg.fif.gz or _ieeg.fif.gz\n",
      "  raw = mne.io.read_raw_fif( path_file , preload=True, verbose='WARNING' )\n",
      "/home/nutapolt/eeg_mi/common.py:627: RuntimeWarning: This filename (S020/S020R05.fif) does not conform to MNE naming conventions. All raw files should end with raw.fif, raw_sss.fif, raw_tsss.fif, _meg.fif, _eeg.fif, _ieeg.fif, raw.fif.gz, raw_sss.fif.gz, raw_tsss.fif.gz, _meg.fif.gz, _eeg.fif.gz or _ieeg.fif.gz\n",
      "  raw = mne.io.read_raw_fif( path_file , preload=True, verbose='WARNING' )\n",
      "/home/nutapolt/eeg_mi/common.py:627: RuntimeWarning: This filename (S020/S020R07.fif) does not conform to MNE naming conventions. All raw files should end with raw.fif, raw_sss.fif, raw_tsss.fif, _meg.fif, _eeg.fif, _ieeg.fif, raw.fif.gz, raw_sss.fif.gz, raw_tsss.fif.gz, _meg.fif.gz, _eeg.fif.gz or _ieeg.fif.gz\n",
      "  raw = mne.io.read_raw_fif( path_file , preload=True, verbose='WARNING' )\n",
      "/home/nutapolt/eeg_mi/common.py:627: RuntimeWarning: This filename (S020/S020R09.fif) does not conform to MNE naming conventions. All raw files should end with raw.fif, raw_sss.fif, raw_tsss.fif, _meg.fif, _eeg.fif, _ieeg.fif, raw.fif.gz, raw_sss.fif.gz, raw_tsss.fif.gz, _meg.fif.gz, _eeg.fif.gz or _ieeg.fif.gz\n",
      "  raw = mne.io.read_raw_fif( path_file , preload=True, verbose='WARNING' )\n"
     ]
    },
    {
     "name": "stdout",
     "output_type": "stream",
     "text": [
      "- Hamming window with 0.0194 passband ripple and 53 dB stopband attenuation\n",
      "- Lower passband edge: 49.38\n",
      "- Lower transition bandwidth: 0.50 Hz (-6 dB cutoff frequency: 49.12 Hz)\n",
      "- Upper passband edge: 50.62 Hz\n",
      "- Upper transition bandwidth: 0.50 Hz (-6 dB cutoff frequency: 50.88 Hz)\n",
      "- Filter length: 1651 samples (6.604 sec)\n",
      "\n",
      "Filtering raw data in 4 contiguous segments\n",
      "Setting up band-pass filter from 8 - 14 Hz\n",
      "\n",
      "FIR filter parameters\n",
      "---------------------\n",
      "Designing a one-pass, zero-phase, non-causal bandpass filter:\n",
      "- Windowed time-domain design (firwin) method\n",
      "- Hamming window with 0.0194 passband ripple and 53 dB stopband attenuation\n",
      "- Lower passband edge: 8.00\n",
      "- Lower transition bandwidth: 2.00 Hz (-6 dB cutoff frequency: 7.00 Hz)\n",
      "- Upper passband edge: 14.00 Hz\n",
      "- Upper transition bandwidth: 3.50 Hz (-6 dB cutoff frequency: 15.75 Hz)\n",
      "- Filter length: 413 samples (1.652 sec)\n",
      "\n",
      "Filter done\n",
      "360 events found\n",
      "Event IDs: [1 2 4]\n",
      "Not setting metadata\n",
      "120 matching events found\n",
      "Applying baseline correction (mode: mean)\n",
      "0 projection items activated\n",
      "Using data from preloaded Raw for 120 events and 1751 original time points ...\n",
      "4 bad epochs dropped\n"
     ]
    },
    {
     "name": "stderr",
     "output_type": "stream",
     "text": [
      "[Parallel(n_jobs=1)]: Using backend SequentialBackend with 1 concurrent workers.\n",
      "[Parallel(n_jobs=1)]: Done   1 out of   1 | elapsed:    0.0s remaining:    0.0s\n",
      "[Parallel(n_jobs=1)]: Done   2 out of   2 | elapsed:    0.0s remaining:    0.0s\n",
      "[Parallel(n_jobs=1)]: Done   3 out of   3 | elapsed:    0.0s remaining:    0.0s\n",
      "[Parallel(n_jobs=1)]: Done   4 out of   4 | elapsed:    0.0s remaining:    0.0s\n",
      "[Parallel(n_jobs=1)]: Done   8 out of   8 | elapsed:    0.1s finished\n",
      "[Parallel(n_jobs=1)]: Using backend SequentialBackend with 1 concurrent workers.\n",
      "[Parallel(n_jobs=1)]: Done   1 out of   1 | elapsed:    0.0s remaining:    0.0s\n",
      "[Parallel(n_jobs=1)]: Done   2 out of   2 | elapsed:    0.0s remaining:    0.0s\n",
      "[Parallel(n_jobs=1)]: Done   3 out of   3 | elapsed:    0.0s remaining:    0.0s\n",
      "[Parallel(n_jobs=1)]: Done   4 out of   4 | elapsed:    0.0s remaining:    0.0s\n",
      "[Parallel(n_jobs=1)]: Done   8 out of   8 | elapsed:    0.0s finished\n",
      "/home/nutapolt/eeg_mi/common.py:657: RuntimeWarning: No matching events found for 3 (event id 3)\n",
      "  epochs = mne.Epochs(\n"
     ]
    },
    {
     "name": "stdout",
     "output_type": "stream",
     "text": [
      "train size (81, 2, 1751) (81,)\n",
      "Test size (35, 2, 1751) (35,)\n"
     ]
    },
    {
     "data": {
      "text/html": [
       "Finishing last run (ID:2kqlbos1) before initializing another..."
      ],
      "text/plain": [
       "<IPython.core.display.HTML object>"
      ]
     },
     "metadata": {},
     "output_type": "display_data"
    },
    {
     "data": {
      "text/html": [
       "Waiting for W&B process to finish... <strong style=\"color:green\">(success).</strong>"
      ],
      "text/plain": [
       "<IPython.core.display.HTML object>"
      ]
     },
     "metadata": {},
     "output_type": "display_data"
    },
    {
     "data": {
      "application/vnd.jupyter.widget-view+json": {
       "model_id": "",
       "version_major": 2,
       "version_minor": 0
      },
      "text/plain": [
       "VBox(children=(Label(value='0.001 MB of 0.001 MB uploaded (0.000 MB deduped)\\r'), FloatProgress(value=1.0, max…"
      ]
     },
     "metadata": {},
     "output_type": "display_data"
    },
    {
     "data": {
      "text/html": [
       "<style>\n",
       "    table.wandb td:nth-child(1) { padding: 0 10px; text-align: left ; width: auto;} td:nth-child(2) {text-align: left ; width: 100%}\n",
       "    .wandb-row { display: flex; flex-direction: row; flex-wrap: wrap; justify-content: flex-start; width: 100% }\n",
       "    .wandb-col { display: flex; flex-direction: column; flex-basis: 100%; flex: 1; padding: 10px; }\n",
       "    </style>\n",
       "<div class=\"wandb-row\"><div class=\"wandb-col\"><h3>Run history:</h3><br/><table class=\"wandb\"><tr><td>Test/Test_accuracy</td><td>▁▁▁▁▂▅▇▂▄▁▅█▁▇█▅▄▅▁▅▇▇▄▇▅▄▇▅▇▂▇▅▅▇▅▅▅▄▅▇</td></tr><tr><td>Test/Test_loss</td><td>▁▂█▄▂▁▂▂▂▂▂▂▂▂▂▂▂▂▂▂▂▂▂▂▂▂▃▂▂▂▂▃▃▂▂▂▃▃▂▃</td></tr><tr><td>train/train_accuracy</td><td>▁███████████████████████████████████████</td></tr><tr><td>train/train_loss</td><td>█▄▃▂▁▁▁▁▁▁▁▁▁▁▁▁▁▁▁▁▁▁▁▁▁▁▁▁▁▁▁▁▁▁▁▁▁▁▁▁</td></tr></table><br/></div><div class=\"wandb-col\"><h3>Run summary:</h3><br/><table class=\"wandb\"><tr><td>Test/Test_accuracy</td><td>56.52174</td></tr><tr><td>Test/Test_loss</td><td>1.4618</td></tr><tr><td>train/train_accuracy</td><td>100.0</td></tr><tr><td>train/train_loss</td><td>0.00039</td></tr></table><br/></div></div>"
      ],
      "text/plain": [
       "<IPython.core.display.HTML object>"
      ]
     },
     "metadata": {},
     "output_type": "display_data"
    },
    {
     "data": {
      "text/html": [
       "Synced <strong style=\"color:#cdcd00\">CNN_3layer_2class_S62_ALL_X</strong>: <a href=\"https://wandb.ai/eeg_mi/Motor-Imagery/runs/2kqlbos1\" target=\"_blank\">https://wandb.ai/eeg_mi/Motor-Imagery/runs/2kqlbos1</a><br/>Synced 5 W&B file(s), 0 media file(s), 0 artifact file(s) and 0 other file(s)"
      ],
      "text/plain": [
       "<IPython.core.display.HTML object>"
      ]
     },
     "metadata": {},
     "output_type": "display_data"
    },
    {
     "data": {
      "text/html": [
       "Find logs at: <code>./wandb/run-20230115_141557-2kqlbos1/logs</code>"
      ],
      "text/plain": [
       "<IPython.core.display.HTML object>"
      ]
     },
     "metadata": {},
     "output_type": "display_data"
    },
    {
     "data": {
      "text/html": [
       "Successfully finished last run (ID:2kqlbos1). Initializing new run:<br/>"
      ],
      "text/plain": [
       "<IPython.core.display.HTML object>"
      ]
     },
     "metadata": {},
     "output_type": "display_data"
    },
    {
     "data": {
      "text/html": [
       "wandb version 0.13.9 is available!  To upgrade, please run:\n",
       " $ pip install wandb --upgrade"
      ],
      "text/plain": [
       "<IPython.core.display.HTML object>"
      ]
     },
     "metadata": {},
     "output_type": "display_data"
    },
    {
     "data": {
      "text/html": [
       "Tracking run with wandb version 0.13.2"
      ],
      "text/plain": [
       "<IPython.core.display.HTML object>"
      ]
     },
     "metadata": {},
     "output_type": "display_data"
    },
    {
     "data": {
      "text/html": [
       "Run data is saved locally in <code>/home/nutapolt/eeg_mi/wandb/run-20230115_142146-1o2vns2c</code>"
      ],
      "text/plain": [
       "<IPython.core.display.HTML object>"
      ]
     },
     "metadata": {},
     "output_type": "display_data"
    },
    {
     "data": {
      "text/html": [
       "Syncing run <strong><a href=\"https://wandb.ai/eeg_mi/Motor-Imagery/runs/1o2vns2c\" target=\"_blank\">CNN_3layer_2class_S20_EX_X</a></strong> to <a href=\"https://wandb.ai/eeg_mi/Motor-Imagery\" target=\"_blank\">Weights & Biases</a> (<a href=\"https://wandb.me/run\" target=\"_blank\">docs</a>)<br/>"
      ],
      "text/plain": [
       "<IPython.core.display.HTML object>"
      ]
     },
     "metadata": {},
     "output_type": "display_data"
    },
    {
     "name": "stderr",
     "output_type": "stream",
     "text": [
      "\u001b[34m\u001b[1mwandb\u001b[0m: \u001b[33mWARNING\u001b[0m Calling wandb.login() after wandb.init() has no effect.\n"
     ]
    },
    {
     "name": "stdout",
     "output_type": "stream",
     "text": [
      "Epoch 1/3000, Tr Loss: 0.6933, Tr Acc: 56.7901, Val Loss: 0.6931, Val Acc: 51.4286\n",
      "Epoch 101/3000, Tr Loss: 0.0932, Tr Acc: 100.0000, Val Loss: 0.7518, Val Acc: 51.4286\n",
      "Epoch 201/3000, Tr Loss: 0.0297, Tr Acc: 100.0000, Val Loss: 3.0461, Val Acc: 48.5714\n",
      "Epoch 301/3000, Tr Loss: 0.0134, Tr Acc: 100.0000, Val Loss: 1.0623, Val Acc: 57.1429\n",
      "Epoch 401/3000, Tr Loss: 0.0070, Tr Acc: 100.0000, Val Loss: 1.1659, Val Acc: 57.1429\n",
      "Epoch 501/3000, Tr Loss: 0.0061, Tr Acc: 100.0000, Val Loss: 0.9170, Val Acc: 71.4286\n",
      "Epoch 601/3000, Tr Loss: 0.0036, Tr Acc: 100.0000, Val Loss: 1.0161, Val Acc: 65.7143\n",
      "Epoch 701/3000, Tr Loss: 0.0030, Tr Acc: 100.0000, Val Loss: 1.0356, Val Acc: 71.4286\n",
      "Epoch 801/3000, Tr Loss: 0.0024, Tr Acc: 100.0000, Val Loss: 0.9454, Val Acc: 71.4286\n",
      "Epoch 901/3000, Tr Loss: 0.0016, Tr Acc: 100.0000, Val Loss: 1.1603, Val Acc: 68.5714\n",
      "Epoch 1001/3000, Tr Loss: 0.0015, Tr Acc: 100.0000, Val Loss: 1.1021, Val Acc: 71.4286\n",
      "Epoch 1101/3000, Tr Loss: 0.0013, Tr Acc: 100.0000, Val Loss: 1.1603, Val Acc: 71.4286\n",
      "Epoch 1201/3000, Tr Loss: 0.0011, Tr Acc: 100.0000, Val Loss: 1.0385, Val Acc: 71.4286\n",
      "Epoch 1301/3000, Tr Loss: 0.0008, Tr Acc: 100.0000, Val Loss: 1.0637, Val Acc: 71.4286\n",
      "Epoch 1401/3000, Tr Loss: 0.0006, Tr Acc: 100.0000, Val Loss: 1.0777, Val Acc: 71.4286\n",
      "Epoch 1501/3000, Tr Loss: 0.0007, Tr Acc: 100.0000, Val Loss: 1.0599, Val Acc: 77.1429\n",
      "Epoch 1601/3000, Tr Loss: 0.0006, Tr Acc: 100.0000, Val Loss: 1.1348, Val Acc: 71.4286\n",
      "Epoch 1701/3000, Tr Loss: 0.0004, Tr Acc: 100.0000, Val Loss: 1.1448, Val Acc: 74.2857\n",
      "Epoch 1801/3000, Tr Loss: 0.0005, Tr Acc: 100.0000, Val Loss: 1.1293, Val Acc: 74.2857\n",
      "Epoch 1901/3000, Tr Loss: 0.0004, Tr Acc: 100.0000, Val Loss: 1.1506, Val Acc: 74.2857\n",
      "Epoch 2001/3000, Tr Loss: 0.0004, Tr Acc: 100.0000, Val Loss: 1.1212, Val Acc: 77.1429\n",
      "Epoch 2101/3000, Tr Loss: 0.0003, Tr Acc: 100.0000, Val Loss: 1.1180, Val Acc: 74.2857\n",
      "Epoch 2201/3000, Tr Loss: 0.0003, Tr Acc: 100.0000, Val Loss: 1.1788, Val Acc: 74.2857\n",
      "Epoch 2301/3000, Tr Loss: 0.0002, Tr Acc: 100.0000, Val Loss: 1.1883, Val Acc: 74.2857\n",
      "Epoch 2401/3000, Tr Loss: 0.0002, Tr Acc: 100.0000, Val Loss: 1.2233, Val Acc: 71.4286\n",
      "Epoch 2501/3000, Tr Loss: 0.0002, Tr Acc: 100.0000, Val Loss: 1.2100, Val Acc: 74.2857\n",
      "Epoch 2601/3000, Tr Loss: 0.0002, Tr Acc: 100.0000, Val Loss: 1.2274, Val Acc: 77.1429\n",
      "Epoch 2701/3000, Tr Loss: 0.0002, Tr Acc: 100.0000, Val Loss: 1.2123, Val Acc: 71.4286\n",
      "Epoch 2801/3000, Tr Loss: 0.0002, Tr Acc: 100.0000, Val Loss: 1.1652, Val Acc: 77.1429\n",
      "Epoch 2901/3000, Tr Loss: 0.0001, Tr Acc: 100.0000, Val Loss: 1.2414, Val Acc: 74.2857\n",
      "############## 20 ########\n",
      "\n",
      "Raw done\n",
      "Setting up band-stop filter from 49 - 51 Hz\n",
      "\n",
      "FIR filter parameters\n",
      "---------------------\n",
      "Designing a one-pass, zero-phase, non-causal bandstop filter:\n",
      "- Windowed time-domain design (firwin) method\n",
      "- Hamming window with 0.0194 passband ripple and 53 dB stopband attenuation\n",
      "- Lower passband edge: 49.38\n",
      "- Lower transition bandwidth: 0.50 Hz (-6 dB cutoff frequency: 49.12 Hz)\n",
      "- Upper passband edge: 50.62 Hz\n",
      "- Upper transition bandwidth: 0.50 Hz (-6 dB cutoff frequency: 50.88 Hz)\n",
      "- Filter length: 1651 samples (6.604 sec)\n",
      "\n",
      "Filtering raw data in 4 contiguous segments\n",
      "Setting up band-pass filter from 8 - 14 Hz\n",
      "\n",
      "FIR filter parameters\n",
      "---------------------\n",
      "Designing a one-pass, zero-phase, non-causal bandpass filter:\n",
      "- Windowed time-domain design (firwin) method\n",
      "- Hamming window with 0.0194 passband ripple and 53 dB stopband attenuation\n",
      "- Lower passband edge: 8.00\n",
      "- Lower transition bandwidth: 2.00 Hz (-6 dB cutoff frequency: 7.00 Hz)\n",
      "- Upper passband edge: 14.00 Hz\n",
      "- Upper transition bandwidth: 3.50 Hz (-6 dB cutoff frequency: 15.75 Hz)\n",
      "- Filter length: 413 samples (1.652 sec)\n",
      "\n"
     ]
    },
    {
     "name": "stderr",
     "output_type": "stream",
     "text": [
      "/home/nutapolt/eeg_mi/common.py:627: RuntimeWarning: This filename (S020/S020R04.fif) does not conform to MNE naming conventions. All raw files should end with raw.fif, raw_sss.fif, raw_tsss.fif, _meg.fif, _eeg.fif, _ieeg.fif, raw.fif.gz, raw_sss.fif.gz, raw_tsss.fif.gz, _meg.fif.gz, _eeg.fif.gz or _ieeg.fif.gz\n",
      "  raw = mne.io.read_raw_fif( path_file , preload=True, verbose='WARNING' )\n",
      "/home/nutapolt/eeg_mi/common.py:627: RuntimeWarning: This filename (S020/S020R06.fif) does not conform to MNE naming conventions. All raw files should end with raw.fif, raw_sss.fif, raw_tsss.fif, _meg.fif, _eeg.fif, _ieeg.fif, raw.fif.gz, raw_sss.fif.gz, raw_tsss.fif.gz, _meg.fif.gz, _eeg.fif.gz or _ieeg.fif.gz\n",
      "  raw = mne.io.read_raw_fif( path_file , preload=True, verbose='WARNING' )\n",
      "/home/nutapolt/eeg_mi/common.py:627: RuntimeWarning: This filename (S020/S020R08.fif) does not conform to MNE naming conventions. All raw files should end with raw.fif, raw_sss.fif, raw_tsss.fif, _meg.fif, _eeg.fif, _ieeg.fif, raw.fif.gz, raw_sss.fif.gz, raw_tsss.fif.gz, _meg.fif.gz, _eeg.fif.gz or _ieeg.fif.gz\n",
      "  raw = mne.io.read_raw_fif( path_file , preload=True, verbose='WARNING' )\n",
      "/home/nutapolt/eeg_mi/common.py:627: RuntimeWarning: This filename (S020/S020R10.fif) does not conform to MNE naming conventions. All raw files should end with raw.fif, raw_sss.fif, raw_tsss.fif, _meg.fif, _eeg.fif, _ieeg.fif, raw.fif.gz, raw_sss.fif.gz, raw_tsss.fif.gz, _meg.fif.gz, _eeg.fif.gz or _ieeg.fif.gz\n",
      "  raw = mne.io.read_raw_fif( path_file , preload=True, verbose='WARNING' )\n",
      "/home/nutapolt/eeg_mi/common.py:627: RuntimeWarning: This filename (S020/S020R04.fif) does not conform to MNE naming conventions. All raw files should end with raw.fif, raw_sss.fif, raw_tsss.fif, _meg.fif, _eeg.fif, _ieeg.fif, raw.fif.gz, raw_sss.fif.gz, raw_tsss.fif.gz, _meg.fif.gz, _eeg.fif.gz or _ieeg.fif.gz\n",
      "  raw = mne.io.read_raw_fif( path_file , preload=True, verbose='WARNING' )\n",
      "/home/nutapolt/eeg_mi/common.py:627: RuntimeWarning: This filename (S020/S020R06.fif) does not conform to MNE naming conventions. All raw files should end with raw.fif, raw_sss.fif, raw_tsss.fif, _meg.fif, _eeg.fif, _ieeg.fif, raw.fif.gz, raw_sss.fif.gz, raw_tsss.fif.gz, _meg.fif.gz, _eeg.fif.gz or _ieeg.fif.gz\n",
      "  raw = mne.io.read_raw_fif( path_file , preload=True, verbose='WARNING' )\n",
      "/home/nutapolt/eeg_mi/common.py:627: RuntimeWarning: This filename (S020/S020R08.fif) does not conform to MNE naming conventions. All raw files should end with raw.fif, raw_sss.fif, raw_tsss.fif, _meg.fif, _eeg.fif, _ieeg.fif, raw.fif.gz, raw_sss.fif.gz, raw_tsss.fif.gz, _meg.fif.gz, _eeg.fif.gz or _ieeg.fif.gz\n",
      "  raw = mne.io.read_raw_fif( path_file , preload=True, verbose='WARNING' )\n",
      "/home/nutapolt/eeg_mi/common.py:627: RuntimeWarning: This filename (S020/S020R10.fif) does not conform to MNE naming conventions. All raw files should end with raw.fif, raw_sss.fif, raw_tsss.fif, _meg.fif, _eeg.fif, _ieeg.fif, raw.fif.gz, raw_sss.fif.gz, raw_tsss.fif.gz, _meg.fif.gz, _eeg.fif.gz or _ieeg.fif.gz\n",
      "  raw = mne.io.read_raw_fif( path_file , preload=True, verbose='WARNING' )\n",
      "[Parallel(n_jobs=1)]: Using backend SequentialBackend with 1 concurrent workers.\n",
      "[Parallel(n_jobs=1)]: Done   1 out of   1 | elapsed:    0.0s remaining:    0.0s\n",
      "[Parallel(n_jobs=1)]: Done   2 out of   2 | elapsed:    0.0s remaining:    0.0s\n",
      "[Parallel(n_jobs=1)]: Done   3 out of   3 | elapsed:    0.0s remaining:    0.0s\n",
      "[Parallel(n_jobs=1)]: Done   4 out of   4 | elapsed:    0.0s remaining:    0.0s\n",
      "[Parallel(n_jobs=1)]: Done   8 out of   8 | elapsed:    0.0s finished\n"
     ]
    },
    {
     "name": "stdout",
     "output_type": "stream",
     "text": [
      "Filter done\n",
      "360 events found\n",
      "Event IDs: [1 2 4]\n",
      "Not setting metadata\n",
      "120 matching events found\n",
      "Applying baseline correction (mode: mean)\n",
      "0 projection items activated\n",
      "Using data from preloaded Raw for 120 events and 1751 original time points ...\n",
      "    Rejecting  epoch based on EEG : ['C4']\n",
      "5 bad epochs dropped\n",
      "train size (80, 2, 1751) (80,)\n",
      "Test size (35, 2, 1751) (35,)\n"
     ]
    },
    {
     "name": "stderr",
     "output_type": "stream",
     "text": [
      "[Parallel(n_jobs=1)]: Using backend SequentialBackend with 1 concurrent workers.\n",
      "[Parallel(n_jobs=1)]: Done   1 out of   1 | elapsed:    0.0s remaining:    0.0s\n",
      "[Parallel(n_jobs=1)]: Done   2 out of   2 | elapsed:    0.0s remaining:    0.0s\n",
      "[Parallel(n_jobs=1)]: Done   3 out of   3 | elapsed:    0.0s remaining:    0.0s\n",
      "[Parallel(n_jobs=1)]: Done   4 out of   4 | elapsed:    0.0s remaining:    0.0s\n",
      "[Parallel(n_jobs=1)]: Done   8 out of   8 | elapsed:    0.0s finished\n",
      "/home/nutapolt/eeg_mi/common.py:657: RuntimeWarning: No matching events found for 3 (event id 3)\n",
      "  epochs = mne.Epochs(\n"
     ]
    },
    {
     "data": {
      "text/html": [
       "Finishing last run (ID:1o2vns2c) before initializing another..."
      ],
      "text/plain": [
       "<IPython.core.display.HTML object>"
      ]
     },
     "metadata": {},
     "output_type": "display_data"
    },
    {
     "data": {
      "text/html": [
       "Waiting for W&B process to finish... <strong style=\"color:green\">(success).</strong>"
      ],
      "text/plain": [
       "<IPython.core.display.HTML object>"
      ]
     },
     "metadata": {},
     "output_type": "display_data"
    },
    {
     "data": {
      "application/vnd.jupyter.widget-view+json": {
       "model_id": "",
       "version_major": 2,
       "version_minor": 0
      },
      "text/plain": [
       "VBox(children=(Label(value='0.001 MB of 0.001 MB uploaded (0.000 MB deduped)\\r'), FloatProgress(value=1.0, max…"
      ]
     },
     "metadata": {},
     "output_type": "display_data"
    },
    {
     "data": {
      "text/html": [
       "<style>\n",
       "    table.wandb td:nth-child(1) { padding: 0 10px; text-align: left ; width: auto;} td:nth-child(2) {text-align: left ; width: 100%}\n",
       "    .wandb-row { display: flex; flex-direction: row; flex-wrap: wrap; justify-content: flex-start; width: 100% }\n",
       "    .wandb-col { display: flex; flex-direction: column; flex-basis: 100%; flex: 1; padding: 10px; }\n",
       "    </style>\n",
       "<div class=\"wandb-row\"><div class=\"wandb-col\"><h3>Run history:</h3><br/><table class=\"wandb\"><tr><td>Test/Test_accuracy</td><td>▂▂▂▁▆▅▇▇▆▇▄▇▇▇▇▇▇▇▇▇▇▇▆█▇▇▇▇▇▇▇▇▇▇█▇▇▇█▇</td></tr><tr><td>Test/Test_loss</td><td>▁▁█▂▂▁▁▁▁▁▁▂▁▁▂▂▂▂▁▂▂▂▂▁▂▂▂▂▂▂▂▂▂▂▂▂▂▂▂▂</td></tr><tr><td>train/train_accuracy</td><td>▁███████████████████████████████████████</td></tr><tr><td>train/train_loss</td><td>█▃▂▁▁▁▁▁▁▁▁▁▁▁▁▁▁▁▁▁▁▁▁▁▁▁▁▁▁▁▁▁▁▁▁▁▁▁▁▁</td></tr></table><br/></div><div class=\"wandb-col\"><h3>Run summary:</h3><br/><table class=\"wandb\"><tr><td>Test/Test_accuracy</td><td>71.42857</td></tr><tr><td>Test/Test_loss</td><td>1.27928</td></tr><tr><td>train/train_accuracy</td><td>100.0</td></tr><tr><td>train/train_loss</td><td>0.00014</td></tr></table><br/></div></div>"
      ],
      "text/plain": [
       "<IPython.core.display.HTML object>"
      ]
     },
     "metadata": {},
     "output_type": "display_data"
    },
    {
     "data": {
      "text/html": [
       "Synced <strong style=\"color:#cdcd00\">CNN_3layer_2class_S20_EX_X</strong>: <a href=\"https://wandb.ai/eeg_mi/Motor-Imagery/runs/1o2vns2c\" target=\"_blank\">https://wandb.ai/eeg_mi/Motor-Imagery/runs/1o2vns2c</a><br/>Synced 5 W&B file(s), 0 media file(s), 0 artifact file(s) and 0 other file(s)"
      ],
      "text/plain": [
       "<IPython.core.display.HTML object>"
      ]
     },
     "metadata": {},
     "output_type": "display_data"
    },
    {
     "data": {
      "text/html": [
       "Find logs at: <code>./wandb/run-20230115_142146-1o2vns2c/logs</code>"
      ],
      "text/plain": [
       "<IPython.core.display.HTML object>"
      ]
     },
     "metadata": {},
     "output_type": "display_data"
    },
    {
     "data": {
      "text/html": [
       "Successfully finished last run (ID:1o2vns2c). Initializing new run:<br/>"
      ],
      "text/plain": [
       "<IPython.core.display.HTML object>"
      ]
     },
     "metadata": {},
     "output_type": "display_data"
    },
    {
     "data": {
      "text/html": [
       "wandb version 0.13.9 is available!  To upgrade, please run:\n",
       " $ pip install wandb --upgrade"
      ],
      "text/plain": [
       "<IPython.core.display.HTML object>"
      ]
     },
     "metadata": {},
     "output_type": "display_data"
    },
    {
     "data": {
      "text/html": [
       "Tracking run with wandb version 0.13.2"
      ],
      "text/plain": [
       "<IPython.core.display.HTML object>"
      ]
     },
     "metadata": {},
     "output_type": "display_data"
    },
    {
     "data": {
      "text/html": [
       "Run data is saved locally in <code>/home/nutapolt/eeg_mi/wandb/run-20230115_142235-3cyylvjq</code>"
      ],
      "text/plain": [
       "<IPython.core.display.HTML object>"
      ]
     },
     "metadata": {},
     "output_type": "display_data"
    },
    {
     "data": {
      "text/html": [
       "Syncing run <strong><a href=\"https://wandb.ai/eeg_mi/Motor-Imagery/runs/3cyylvjq\" target=\"_blank\">CNN_3layer_2class_S20_MI_X</a></strong> to <a href=\"https://wandb.ai/eeg_mi/Motor-Imagery\" target=\"_blank\">Weights & Biases</a> (<a href=\"https://wandb.me/run\" target=\"_blank\">docs</a>)<br/>"
      ],
      "text/plain": [
       "<IPython.core.display.HTML object>"
      ]
     },
     "metadata": {},
     "output_type": "display_data"
    },
    {
     "name": "stderr",
     "output_type": "stream",
     "text": [
      "\u001b[34m\u001b[1mwandb\u001b[0m: \u001b[33mWARNING\u001b[0m Calling wandb.login() after wandb.init() has no effect.\n"
     ]
    },
    {
     "name": "stdout",
     "output_type": "stream",
     "text": [
      "Epoch 1/3000, Tr Loss: 0.7097, Tr Acc: 56.2500, Val Loss: 0.6928, Val Acc: 51.4286\n",
      "Epoch 101/3000, Tr Loss: 0.1912, Tr Acc: 98.7500, Val Loss: 4.2513, Val Acc: 48.5714\n",
      "Epoch 201/3000, Tr Loss: 0.0622, Tr Acc: 100.0000, Val Loss: 5.9652, Val Acc: 48.5714\n",
      "Epoch 301/3000, Tr Loss: 0.0288, Tr Acc: 100.0000, Val Loss: 0.9029, Val Acc: 54.2857\n",
      "Epoch 401/3000, Tr Loss: 0.0154, Tr Acc: 100.0000, Val Loss: 3.0247, Val Acc: 48.5714\n",
      "Epoch 501/3000, Tr Loss: 0.0118, Tr Acc: 100.0000, Val Loss: 1.6430, Val Acc: 57.1429\n",
      "Epoch 601/3000, Tr Loss: 0.0071, Tr Acc: 100.0000, Val Loss: 2.3878, Val Acc: 51.4286\n",
      "Epoch 701/3000, Tr Loss: 0.0050, Tr Acc: 100.0000, Val Loss: 1.5807, Val Acc: 57.1429\n",
      "Epoch 801/3000, Tr Loss: 0.0042, Tr Acc: 100.0000, Val Loss: 1.5905, Val Acc: 57.1429\n",
      "Epoch 901/3000, Tr Loss: 0.0038, Tr Acc: 100.0000, Val Loss: 1.2376, Val Acc: 57.1429\n",
      "Epoch 1001/3000, Tr Loss: 0.0031, Tr Acc: 100.0000, Val Loss: 1.3682, Val Acc: 57.1429\n",
      "Epoch 1101/3000, Tr Loss: 0.0026, Tr Acc: 100.0000, Val Loss: 1.1805, Val Acc: 45.7143\n",
      "Epoch 1201/3000, Tr Loss: 0.0019, Tr Acc: 100.0000, Val Loss: 1.1064, Val Acc: 42.8571\n",
      "Epoch 1301/3000, Tr Loss: 0.0018, Tr Acc: 100.0000, Val Loss: 1.1420, Val Acc: 42.8571\n",
      "Epoch 1401/3000, Tr Loss: 0.0014, Tr Acc: 100.0000, Val Loss: 1.1610, Val Acc: 45.7143\n",
      "Epoch 1501/3000, Tr Loss: 0.0013, Tr Acc: 100.0000, Val Loss: 1.2463, Val Acc: 45.7143\n",
      "Epoch 1601/3000, Tr Loss: 0.0011, Tr Acc: 100.0000, Val Loss: 1.2358, Val Acc: 40.0000\n",
      "Epoch 1701/3000, Tr Loss: 0.0009, Tr Acc: 100.0000, Val Loss: 1.3114, Val Acc: 45.7143\n",
      "Epoch 1801/3000, Tr Loss: 0.0008, Tr Acc: 100.0000, Val Loss: 1.3295, Val Acc: 48.5714\n",
      "Epoch 1901/3000, Tr Loss: 0.0009, Tr Acc: 100.0000, Val Loss: 1.2715, Val Acc: 45.7143\n",
      "Epoch 2001/3000, Tr Loss: 0.0007, Tr Acc: 100.0000, Val Loss: 1.2097, Val Acc: 42.8571\n",
      "Epoch 2101/3000, Tr Loss: 0.0007, Tr Acc: 100.0000, Val Loss: 1.3818, Val Acc: 48.5714\n",
      "Epoch 2201/3000, Tr Loss: 0.0006, Tr Acc: 100.0000, Val Loss: 1.4252, Val Acc: 45.7143\n",
      "Epoch 2301/3000, Tr Loss: 0.0005, Tr Acc: 100.0000, Val Loss: 1.3381, Val Acc: 42.8571\n",
      "Epoch 2401/3000, Tr Loss: 0.0005, Tr Acc: 100.0000, Val Loss: 1.4866, Val Acc: 45.7143\n",
      "Epoch 2501/3000, Tr Loss: 0.0005, Tr Acc: 100.0000, Val Loss: 1.4087, Val Acc: 42.8571\n",
      "Epoch 2601/3000, Tr Loss: 0.0004, Tr Acc: 100.0000, Val Loss: 1.4204, Val Acc: 45.7143\n",
      "Epoch 2701/3000, Tr Loss: 0.0003, Tr Acc: 100.0000, Val Loss: 1.4135, Val Acc: 45.7143\n",
      "Epoch 2801/3000, Tr Loss: 0.0004, Tr Acc: 100.0000, Val Loss: 1.3727, Val Acc: 45.7143\n",
      "Epoch 2901/3000, Tr Loss: 0.0003, Tr Acc: 100.0000, Val Loss: 1.4441, Val Acc: 48.5714\n",
      "############## 20 ########\n",
      "\n"
     ]
    },
    {
     "name": "stderr",
     "output_type": "stream",
     "text": [
      "/home/nutapolt/eeg_mi/common.py:627: RuntimeWarning: This filename (S020/S020R03.fif) does not conform to MNE naming conventions. All raw files should end with raw.fif, raw_sss.fif, raw_tsss.fif, _meg.fif, _eeg.fif, _ieeg.fif, raw.fif.gz, raw_sss.fif.gz, raw_tsss.fif.gz, _meg.fif.gz, _eeg.fif.gz or _ieeg.fif.gz\n",
      "  raw = mne.io.read_raw_fif( path_file , preload=True, verbose='WARNING' )\n",
      "/home/nutapolt/eeg_mi/common.py:627: RuntimeWarning: This filename (S020/S020R05.fif) does not conform to MNE naming conventions. All raw files should end with raw.fif, raw_sss.fif, raw_tsss.fif, _meg.fif, _eeg.fif, _ieeg.fif, raw.fif.gz, raw_sss.fif.gz, raw_tsss.fif.gz, _meg.fif.gz, _eeg.fif.gz or _ieeg.fif.gz\n",
      "  raw = mne.io.read_raw_fif( path_file , preload=True, verbose='WARNING' )\n",
      "/home/nutapolt/eeg_mi/common.py:627: RuntimeWarning: This filename (S020/S020R07.fif) does not conform to MNE naming conventions. All raw files should end with raw.fif, raw_sss.fif, raw_tsss.fif, _meg.fif, _eeg.fif, _ieeg.fif, raw.fif.gz, raw_sss.fif.gz, raw_tsss.fif.gz, _meg.fif.gz, _eeg.fif.gz or _ieeg.fif.gz\n",
      "  raw = mne.io.read_raw_fif( path_file , preload=True, verbose='WARNING' )\n",
      "/home/nutapolt/eeg_mi/common.py:627: RuntimeWarning: This filename (S020/S020R09.fif) does not conform to MNE naming conventions. All raw files should end with raw.fif, raw_sss.fif, raw_tsss.fif, _meg.fif, _eeg.fif, _ieeg.fif, raw.fif.gz, raw_sss.fif.gz, raw_tsss.fif.gz, _meg.fif.gz, _eeg.fif.gz or _ieeg.fif.gz\n",
      "  raw = mne.io.read_raw_fif( path_file , preload=True, verbose='WARNING' )\n",
      "/home/nutapolt/eeg_mi/common.py:627: RuntimeWarning: This filename (S020/S020R04.fif) does not conform to MNE naming conventions. All raw files should end with raw.fif, raw_sss.fif, raw_tsss.fif, _meg.fif, _eeg.fif, _ieeg.fif, raw.fif.gz, raw_sss.fif.gz, raw_tsss.fif.gz, _meg.fif.gz, _eeg.fif.gz or _ieeg.fif.gz\n",
      "  raw = mne.io.read_raw_fif( path_file , preload=True, verbose='WARNING' )\n",
      "/home/nutapolt/eeg_mi/common.py:627: RuntimeWarning: This filename (S020/S020R06.fif) does not conform to MNE naming conventions. All raw files should end with raw.fif, raw_sss.fif, raw_tsss.fif, _meg.fif, _eeg.fif, _ieeg.fif, raw.fif.gz, raw_sss.fif.gz, raw_tsss.fif.gz, _meg.fif.gz, _eeg.fif.gz or _ieeg.fif.gz\n",
      "  raw = mne.io.read_raw_fif( path_file , preload=True, verbose='WARNING' )\n",
      "/home/nutapolt/eeg_mi/common.py:627: RuntimeWarning: This filename (S020/S020R08.fif) does not conform to MNE naming conventions. All raw files should end with raw.fif, raw_sss.fif, raw_tsss.fif, _meg.fif, _eeg.fif, _ieeg.fif, raw.fif.gz, raw_sss.fif.gz, raw_tsss.fif.gz, _meg.fif.gz, _eeg.fif.gz or _ieeg.fif.gz\n",
      "  raw = mne.io.read_raw_fif( path_file , preload=True, verbose='WARNING' )\n",
      "/home/nutapolt/eeg_mi/common.py:627: RuntimeWarning: This filename (S020/S020R10.fif) does not conform to MNE naming conventions. All raw files should end with raw.fif, raw_sss.fif, raw_tsss.fif, _meg.fif, _eeg.fif, _ieeg.fif, raw.fif.gz, raw_sss.fif.gz, raw_tsss.fif.gz, _meg.fif.gz, _eeg.fif.gz or _ieeg.fif.gz\n",
      "  raw = mne.io.read_raw_fif( path_file , preload=True, verbose='WARNING' )\n",
      "/home/nutapolt/eeg_mi/common.py:627: RuntimeWarning: This filename (S020/S020R03.fif) does not conform to MNE naming conventions. All raw files should end with raw.fif, raw_sss.fif, raw_tsss.fif, _meg.fif, _eeg.fif, _ieeg.fif, raw.fif.gz, raw_sss.fif.gz, raw_tsss.fif.gz, _meg.fif.gz, _eeg.fif.gz or _ieeg.fif.gz\n",
      "  raw = mne.io.read_raw_fif( path_file , preload=True, verbose='WARNING' )\n",
      "/home/nutapolt/eeg_mi/common.py:627: RuntimeWarning: This filename (S020/S020R05.fif) does not conform to MNE naming conventions. All raw files should end with raw.fif, raw_sss.fif, raw_tsss.fif, _meg.fif, _eeg.fif, _ieeg.fif, raw.fif.gz, raw_sss.fif.gz, raw_tsss.fif.gz, _meg.fif.gz, _eeg.fif.gz or _ieeg.fif.gz\n",
      "  raw = mne.io.read_raw_fif( path_file , preload=True, verbose='WARNING' )\n",
      "/home/nutapolt/eeg_mi/common.py:627: RuntimeWarning: This filename (S020/S020R07.fif) does not conform to MNE naming conventions. All raw files should end with raw.fif, raw_sss.fif, raw_tsss.fif, _meg.fif, _eeg.fif, _ieeg.fif, raw.fif.gz, raw_sss.fif.gz, raw_tsss.fif.gz, _meg.fif.gz, _eeg.fif.gz or _ieeg.fif.gz\n",
      "  raw = mne.io.read_raw_fif( path_file , preload=True, verbose='WARNING' )\n"
     ]
    },
    {
     "name": "stdout",
     "output_type": "stream",
     "text": [
      "Raw done\n",
      "Setting up band-stop filter from 49 - 51 Hz\n",
      "\n",
      "FIR filter parameters\n",
      "---------------------\n",
      "Designing a one-pass, zero-phase, non-causal bandstop filter:\n",
      "- Windowed time-domain design (firwin) method\n",
      "- Hamming window with 0.0194 passband ripple and 53 dB stopband attenuation\n",
      "- Lower passband edge: 49.38\n",
      "- Lower transition bandwidth: 0.50 Hz (-6 dB cutoff frequency: 49.12 Hz)\n",
      "- Upper passband edge: 50.62 Hz\n",
      "- Upper transition bandwidth: 0.50 Hz (-6 dB cutoff frequency: 50.88 Hz)\n",
      "- Filter length: 1651 samples (6.604 sec)\n",
      "\n"
     ]
    },
    {
     "name": "stderr",
     "output_type": "stream",
     "text": [
      "/home/nutapolt/eeg_mi/common.py:627: RuntimeWarning: This filename (S020/S020R09.fif) does not conform to MNE naming conventions. All raw files should end with raw.fif, raw_sss.fif, raw_tsss.fif, _meg.fif, _eeg.fif, _ieeg.fif, raw.fif.gz, raw_sss.fif.gz, raw_tsss.fif.gz, _meg.fif.gz, _eeg.fif.gz or _ieeg.fif.gz\n",
      "  raw = mne.io.read_raw_fif( path_file , preload=True, verbose='WARNING' )\n",
      "/home/nutapolt/eeg_mi/common.py:627: RuntimeWarning: This filename (S020/S020R04.fif) does not conform to MNE naming conventions. All raw files should end with raw.fif, raw_sss.fif, raw_tsss.fif, _meg.fif, _eeg.fif, _ieeg.fif, raw.fif.gz, raw_sss.fif.gz, raw_tsss.fif.gz, _meg.fif.gz, _eeg.fif.gz or _ieeg.fif.gz\n",
      "  raw = mne.io.read_raw_fif( path_file , preload=True, verbose='WARNING' )\n",
      "/home/nutapolt/eeg_mi/common.py:627: RuntimeWarning: This filename (S020/S020R06.fif) does not conform to MNE naming conventions. All raw files should end with raw.fif, raw_sss.fif, raw_tsss.fif, _meg.fif, _eeg.fif, _ieeg.fif, raw.fif.gz, raw_sss.fif.gz, raw_tsss.fif.gz, _meg.fif.gz, _eeg.fif.gz or _ieeg.fif.gz\n",
      "  raw = mne.io.read_raw_fif( path_file , preload=True, verbose='WARNING' )\n",
      "/home/nutapolt/eeg_mi/common.py:627: RuntimeWarning: This filename (S020/S020R08.fif) does not conform to MNE naming conventions. All raw files should end with raw.fif, raw_sss.fif, raw_tsss.fif, _meg.fif, _eeg.fif, _ieeg.fif, raw.fif.gz, raw_sss.fif.gz, raw_tsss.fif.gz, _meg.fif.gz, _eeg.fif.gz or _ieeg.fif.gz\n",
      "  raw = mne.io.read_raw_fif( path_file , preload=True, verbose='WARNING' )\n",
      "/home/nutapolt/eeg_mi/common.py:627: RuntimeWarning: This filename (S020/S020R10.fif) does not conform to MNE naming conventions. All raw files should end with raw.fif, raw_sss.fif, raw_tsss.fif, _meg.fif, _eeg.fif, _ieeg.fif, raw.fif.gz, raw_sss.fif.gz, raw_tsss.fif.gz, _meg.fif.gz, _eeg.fif.gz or _ieeg.fif.gz\n",
      "  raw = mne.io.read_raw_fif( path_file , preload=True, verbose='WARNING' )\n",
      "[Parallel(n_jobs=1)]: Using backend SequentialBackend with 1 concurrent workers.\n",
      "[Parallel(n_jobs=1)]: Done   1 out of   1 | elapsed:    0.0s remaining:    0.0s\n",
      "[Parallel(n_jobs=1)]: Done   2 out of   2 | elapsed:    0.0s remaining:    0.0s\n",
      "[Parallel(n_jobs=1)]: Done   3 out of   3 | elapsed:    0.0s remaining:    0.0s\n",
      "[Parallel(n_jobs=1)]: Done   4 out of   4 | elapsed:    0.0s remaining:    0.0s\n",
      "[Parallel(n_jobs=1)]: Done   8 out of   8 | elapsed:    0.1s finished\n"
     ]
    },
    {
     "name": "stdout",
     "output_type": "stream",
     "text": [
      "Filtering raw data in 8 contiguous segments\n",
      "Setting up band-pass filter from 8 - 14 Hz\n",
      "\n",
      "FIR filter parameters\n",
      "---------------------\n",
      "Designing a one-pass, zero-phase, non-causal bandpass filter:\n",
      "- Windowed time-domain design (firwin) method\n",
      "- Hamming window with 0.0194 passband ripple and 53 dB stopband attenuation\n",
      "- Lower passband edge: 8.00\n",
      "- Lower transition bandwidth: 2.00 Hz (-6 dB cutoff frequency: 7.00 Hz)\n",
      "- Upper passband edge: 14.00 Hz\n",
      "- Upper transition bandwidth: 3.50 Hz (-6 dB cutoff frequency: 15.75 Hz)\n",
      "- Filter length: 413 samples (1.652 sec)\n",
      "\n",
      "Filter done\n",
      "720 events found\n",
      "Event IDs: [1 2 4]\n",
      "Not setting metadata\n",
      "240 matching events found\n",
      "Applying baseline correction (mode: mean)\n",
      "0 projection items activated\n",
      "Using data from preloaded Raw for 240 events and 1751 original time points ...\n",
      "    Rejecting  epoch based on EEG : ['C4']\n",
      "9 bad epochs dropped\n",
      "train size (161, 2, 1751) (161,)\n",
      "Test size (70, 2, 1751) (70,)\n"
     ]
    },
    {
     "name": "stderr",
     "output_type": "stream",
     "text": [
      "[Parallel(n_jobs=1)]: Using backend SequentialBackend with 1 concurrent workers.\n",
      "[Parallel(n_jobs=1)]: Done   1 out of   1 | elapsed:    0.0s remaining:    0.0s\n",
      "[Parallel(n_jobs=1)]: Done   2 out of   2 | elapsed:    0.0s remaining:    0.0s\n",
      "[Parallel(n_jobs=1)]: Done   3 out of   3 | elapsed:    0.0s remaining:    0.0s\n",
      "[Parallel(n_jobs=1)]: Done   4 out of   4 | elapsed:    0.0s remaining:    0.0s\n",
      "[Parallel(n_jobs=1)]: Done   8 out of   8 | elapsed:    0.0s finished\n",
      "/home/nutapolt/eeg_mi/common.py:657: RuntimeWarning: No matching events found for 3 (event id 3)\n",
      "  epochs = mne.Epochs(\n"
     ]
    },
    {
     "data": {
      "text/html": [
       "Finishing last run (ID:3cyylvjq) before initializing another..."
      ],
      "text/plain": [
       "<IPython.core.display.HTML object>"
      ]
     },
     "metadata": {},
     "output_type": "display_data"
    },
    {
     "data": {
      "text/html": [
       "Waiting for W&B process to finish... <strong style=\"color:green\">(success).</strong>"
      ],
      "text/plain": [
       "<IPython.core.display.HTML object>"
      ]
     },
     "metadata": {},
     "output_type": "display_data"
    },
    {
     "data": {
      "application/vnd.jupyter.widget-view+json": {
       "model_id": "",
       "version_major": 2,
       "version_minor": 0
      },
      "text/plain": [
       "VBox(children=(Label(value='0.001 MB of 0.001 MB uploaded (0.000 MB deduped)\\r'), FloatProgress(value=1.0, max…"
      ]
     },
     "metadata": {},
     "output_type": "display_data"
    },
    {
     "data": {
      "text/html": [
       "<style>\n",
       "    table.wandb td:nth-child(1) { padding: 0 10px; text-align: left ; width: auto;} td:nth-child(2) {text-align: left ; width: 100%}\n",
       "    .wandb-row { display: flex; flex-direction: row; flex-wrap: wrap; justify-content: flex-start; width: 100% }\n",
       "    .wandb-col { display: flex; flex-direction: column; flex-basis: 100%; flex: 1; padding: 10px; }\n",
       "    </style>\n",
       "<div class=\"wandb-row\"><div class=\"wandb-col\"><h3>Run history:</h3><br/><table class=\"wandb\"><tr><td>Test/Test_accuracy</td><td>▅▅▅▅▅▅▇▆▇██▅▂▆█▄▄▁█▄▂▂▃▆▄▃▄▄▄▄▆▃▄▄▅▄▄▄▅▄</td></tr><tr><td>Test/Test_loss</td><td>▁▅█▅▅▅▂▃▄▃▂▂▂▂▂▂▂▂▂▂▂▂▂▂▂▂▂▂▂▂▃▂▂▂▂▂▃▃▂▂</td></tr><tr><td>train/train_accuracy</td><td>▁███████████████████████████████████████</td></tr><tr><td>train/train_loss</td><td>█▄▂▂▁▁▁▁▁▁▁▁▁▁▁▁▁▁▁▁▁▁▁▁▁▁▁▁▁▁▁▁▁▁▁▁▁▁▁▁</td></tr></table><br/></div><div class=\"wandb-col\"><h3>Run summary:</h3><br/><table class=\"wandb\"><tr><td>Test/Test_accuracy</td><td>45.71429</td></tr><tr><td>Test/Test_loss</td><td>1.50196</td></tr><tr><td>train/train_accuracy</td><td>100.0</td></tr><tr><td>train/train_loss</td><td>0.00024</td></tr></table><br/></div></div>"
      ],
      "text/plain": [
       "<IPython.core.display.HTML object>"
      ]
     },
     "metadata": {},
     "output_type": "display_data"
    },
    {
     "data": {
      "text/html": [
       "Synced <strong style=\"color:#cdcd00\">CNN_3layer_2class_S20_MI_X</strong>: <a href=\"https://wandb.ai/eeg_mi/Motor-Imagery/runs/3cyylvjq\" target=\"_blank\">https://wandb.ai/eeg_mi/Motor-Imagery/runs/3cyylvjq</a><br/>Synced 5 W&B file(s), 0 media file(s), 0 artifact file(s) and 0 other file(s)"
      ],
      "text/plain": [
       "<IPython.core.display.HTML object>"
      ]
     },
     "metadata": {},
     "output_type": "display_data"
    },
    {
     "data": {
      "text/html": [
       "Find logs at: <code>./wandb/run-20230115_142235-3cyylvjq/logs</code>"
      ],
      "text/plain": [
       "<IPython.core.display.HTML object>"
      ]
     },
     "metadata": {},
     "output_type": "display_data"
    },
    {
     "data": {
      "text/html": [
       "Successfully finished last run (ID:3cyylvjq). Initializing new run:<br/>"
      ],
      "text/plain": [
       "<IPython.core.display.HTML object>"
      ]
     },
     "metadata": {},
     "output_type": "display_data"
    },
    {
     "data": {
      "text/html": [
       "wandb version 0.13.9 is available!  To upgrade, please run:\n",
       " $ pip install wandb --upgrade"
      ],
      "text/plain": [
       "<IPython.core.display.HTML object>"
      ]
     },
     "metadata": {},
     "output_type": "display_data"
    },
    {
     "data": {
      "text/html": [
       "Tracking run with wandb version 0.13.2"
      ],
      "text/plain": [
       "<IPython.core.display.HTML object>"
      ]
     },
     "metadata": {},
     "output_type": "display_data"
    },
    {
     "data": {
      "text/html": [
       "Run data is saved locally in <code>/home/nutapolt/eeg_mi/wandb/run-20230115_142327-38ac3kza</code>"
      ],
      "text/plain": [
       "<IPython.core.display.HTML object>"
      ]
     },
     "metadata": {},
     "output_type": "display_data"
    },
    {
     "data": {
      "text/html": [
       "Syncing run <strong><a href=\"https://wandb.ai/eeg_mi/Motor-Imagery/runs/38ac3kza\" target=\"_blank\">CNN_3layer_2class_S20_ALL_X</a></strong> to <a href=\"https://wandb.ai/eeg_mi/Motor-Imagery\" target=\"_blank\">Weights & Biases</a> (<a href=\"https://wandb.me/run\" target=\"_blank\">docs</a>)<br/>"
      ],
      "text/plain": [
       "<IPython.core.display.HTML object>"
      ]
     },
     "metadata": {},
     "output_type": "display_data"
    },
    {
     "name": "stderr",
     "output_type": "stream",
     "text": [
      "\u001b[34m\u001b[1mwandb\u001b[0m: \u001b[33mWARNING\u001b[0m Calling wandb.login() after wandb.init() has no effect.\n"
     ]
    },
    {
     "name": "stdout",
     "output_type": "stream",
     "text": [
      "Epoch 1/3000, Tr Loss: 0.6839, Tr Acc: 58.3851, Val Loss: 0.6935, Val Acc: 48.5714\n",
      "Epoch 101/3000, Tr Loss: 0.1962, Tr Acc: 98.1367, Val Loss: 2.6079, Val Acc: 48.5714\n",
      "Epoch 201/3000, Tr Loss: 0.0673, Tr Acc: 100.0000, Val Loss: 16.4396, Val Acc: 48.5714\n",
      "Epoch 301/3000, Tr Loss: 0.0269, Tr Acc: 100.0000, Val Loss: 3.3246, Val Acc: 48.5714\n",
      "Epoch 401/3000, Tr Loss: 0.0163, Tr Acc: 100.0000, Val Loss: 6.8935, Val Acc: 48.5714\n",
      "Epoch 501/3000, Tr Loss: 0.0119, Tr Acc: 100.0000, Val Loss: 0.5581, Val Acc: 72.8571\n",
      "Epoch 601/3000, Tr Loss: 0.0085, Tr Acc: 100.0000, Val Loss: 0.8388, Val Acc: 65.7143\n",
      "Epoch 701/3000, Tr Loss: 0.0055, Tr Acc: 100.0000, Val Loss: 1.3919, Val Acc: 62.8571\n",
      "Epoch 801/3000, Tr Loss: 0.0039, Tr Acc: 100.0000, Val Loss: 0.6477, Val Acc: 81.4286\n",
      "Epoch 901/3000, Tr Loss: 0.0036, Tr Acc: 100.0000, Val Loss: 0.6456, Val Acc: 75.7143\n",
      "Epoch 1001/3000, Tr Loss: 0.0027, Tr Acc: 100.0000, Val Loss: 0.6293, Val Acc: 80.0000\n",
      "Epoch 1101/3000, Tr Loss: 0.0023, Tr Acc: 100.0000, Val Loss: 0.6119, Val Acc: 81.4286\n",
      "Epoch 1201/3000, Tr Loss: 0.0017, Tr Acc: 100.0000, Val Loss: 0.6277, Val Acc: 82.8571\n",
      "Epoch 1301/3000, Tr Loss: 0.0016, Tr Acc: 100.0000, Val Loss: 1.1004, Val Acc: 67.1429\n",
      "Epoch 1401/3000, Tr Loss: 0.0013, Tr Acc: 100.0000, Val Loss: 0.6826, Val Acc: 77.1429\n",
      "Epoch 1501/3000, Tr Loss: 0.0013, Tr Acc: 100.0000, Val Loss: 0.6765, Val Acc: 78.5714\n",
      "Epoch 1601/3000, Tr Loss: 0.0011, Tr Acc: 100.0000, Val Loss: 0.6116, Val Acc: 80.0000\n",
      "Epoch 1701/3000, Tr Loss: 0.0011, Tr Acc: 100.0000, Val Loss: 0.7102, Val Acc: 80.0000\n",
      "Epoch 1801/3000, Tr Loss: 0.0008, Tr Acc: 100.0000, Val Loss: 0.6543, Val Acc: 80.0000\n",
      "Epoch 1901/3000, Tr Loss: 0.0007, Tr Acc: 100.0000, Val Loss: 0.7005, Val Acc: 78.5714\n",
      "Epoch 2001/3000, Tr Loss: 0.0007, Tr Acc: 100.0000, Val Loss: 0.7063, Val Acc: 78.5714\n",
      "Epoch 2101/3000, Tr Loss: 0.0006, Tr Acc: 100.0000, Val Loss: 0.7052, Val Acc: 80.0000\n",
      "Epoch 2201/3000, Tr Loss: 0.0006, Tr Acc: 100.0000, Val Loss: 0.7021, Val Acc: 80.0000\n",
      "Epoch 2301/3000, Tr Loss: 0.0005, Tr Acc: 100.0000, Val Loss: 0.6898, Val Acc: 80.0000\n",
      "Epoch 2401/3000, Tr Loss: 0.0004, Tr Acc: 100.0000, Val Loss: 0.7194, Val Acc: 80.0000\n",
      "Epoch 2501/3000, Tr Loss: 0.0004, Tr Acc: 100.0000, Val Loss: 0.6924, Val Acc: 78.5714\n",
      "Epoch 2601/3000, Tr Loss: 0.0004, Tr Acc: 100.0000, Val Loss: 0.7192, Val Acc: 80.0000\n",
      "Epoch 2701/3000, Tr Loss: 0.0003, Tr Acc: 100.0000, Val Loss: 0.6831, Val Acc: 78.5714\n",
      "Epoch 2801/3000, Tr Loss: 0.0003, Tr Acc: 100.0000, Val Loss: 0.7212, Val Acc: 80.0000\n",
      "Epoch 2901/3000, Tr Loss: 0.0003, Tr Acc: 100.0000, Val Loss: 0.7310, Val Acc: 80.0000\n"
     ]
    }
   ],
   "source": [
    "for i in range(3):\n",
    "    if i == 0:\n",
    "        n_type = \"EX\"\n",
    "    if i == 1:\n",
    "        n_type = \"MI\"\n",
    "    if i == 2:\n",
    "        n_type = \"ALL\"\n",
    "\n",
    "    if n_type == \"EX\":\n",
    "        runs = [3,5,7,9]\n",
    "    if n_type == \"MI\":\n",
    "        runs = [4,6,8,10]\n",
    "    if n_type == \"ALL\":\n",
    "        runs = [3,5,7,9,4,6,8,10]\n",
    "    for subject in subjects:\n",
    "        print(\"############## {} ########\".format(subject))\n",
    "\n",
    "\n",
    "        eeg = EEG_fif(path, base_url, [subject], runs)\n",
    "        raw=eeg.data_to_raw()\n",
    "        print(\"Raw done\")\n",
    "        raw=raw.notch_filter([50])\n",
    "        raw=raw.filter( 8,14, method='fir', verbose=20)\n",
    "        #raw.resample(160)\n",
    "        print(\"Filter done\")\n",
    "        raw.pick_channels(['C3', 'C4', 'STIM MARKERS'])\n",
    "        epochs=eeg.epochs_visu(raw,tmin=0,tmax=7,baseline=(0,1))\n",
    "        X, y = eeg.get_X_y(epochs)\n",
    "        y=y-1\n",
    "        X_train, X_test, y_train, y_test = train_test_split(X, y, test_size=0.3,stratify=y)\n",
    "\n",
    "        print('train size',X_train.shape, y_train.shape)\n",
    "        print('Test size',X_test.shape, y_test.shape)\n",
    "        batch_size = X_train.shape[2]\n",
    "        train_loader = create_dataloader(X_train, y_train, batch_size=batch_size)\n",
    "        test_loader = create_dataloader(X_test, y_test, batch_size=batch_size)\n",
    "        num_step =math.ceil(len(train_loader.dataset) / batch_size)\n",
    "\n",
    "        x_train = torch.FloatTensor(X_train)\n",
    "        fake_eeg_data = torch.randn_like(x_train) #(batch_size, channel, length)\n",
    "\n",
    "            #using sequential helps bind multiple operations together\n",
    "        layer1 = nn.Sequential(\n",
    "                    #padding = (kernel_size - 1) / 2 = 2\n",
    "                    nn.Conv1d(in_channels, out_channels, kernel_size=kernel_size, stride=1, padding=2),\n",
    "                    nn.BatchNorm1d(out_channels),\n",
    "                    nn.ReLU()\n",
    "                    # nn.MaxPool2d(kernel_size=2, stride=2)\n",
    "                )\n",
    "        layer2 = nn.Sequential(\n",
    "                    nn.Conv1d(out_channels, out_channels*2, kernel_size=kernel_size, stride=1, padding=2),\n",
    "                    nn.BatchNorm1d(out_channels*2),\n",
    "                    nn.ReLU()\n",
    "                    # nn.MaxPool2d(kernel_size=2, stride=2)\n",
    "                )\n",
    "        layer3 = nn.Sequential(\n",
    "                    nn.Conv1d(out_channels*2, out_channels, kernel_size=kernel_size, stride=1, padding=2),\n",
    "                    nn.BatchNorm1d(out_channels),\n",
    "                    nn.ReLU()\n",
    "                )\n",
    "\n",
    "\n",
    "        out = layer1(fake_eeg_data)\n",
    "        out = layer2(out)\n",
    "        out = layer3(out)\n",
    "        out = out.reshape(out.size(0), -1)\n",
    "        linear_shape = out.shape[1]\n",
    "        fc = nn.Linear(linear_shape, out_size)\n",
    "        out = fc(out)\n",
    "\n",
    "        wand = wandb.init(\n",
    "\n",
    "              # Set the project where this run will be logged\n",
    "              project=\"Motor-Imagery\", \n",
    "              # We pass a run name (otherwise it’ll be randomly assigned, like sunshine-lollypop-10)\n",
    "              name=\"CNN_3layer_2class_S{0}_{1}_X\".format(subject,n_type), \n",
    "              # Track hyperparameters and run metadata\n",
    "              config={\n",
    "              \"learning_rate\": 0.00001,\n",
    "              \"architecture\": \"CNN\",\n",
    "              \"dataset\": \"S{}\".format(subjects[0]),\n",
    "              \"epochs\": 3000,\n",
    "              \"weightname\":\"CNN_3layer_2class_S{0}_{1}_X\".format(subject,n_type),\n",
    "              \"num_step_per_epoch\" : num_step, \n",
    "\n",
    "              }\n",
    "            )\n",
    "        wandb.login()\n",
    "        config = wand.config\n",
    "        net = ConvNet(in_channels, out_channels, kernel_size, out_size).cuda(0)\n",
    "        optimizer = optim.Adam(net.parameters(), lr=config.learning_rate)\n",
    "        criterion = nn.CrossEntropyLoss()\n",
    "\n",
    "\n",
    "        train_loss,valid_loss,train_accuracy,valid_accuracy =train(\n",
    "            model = net,\n",
    "            gpu_num = 0,\n",
    "            train_loader = train_loader,\n",
    "            test_loader = test_loader,\n",
    "            optimizer = optimizer  ,\n",
    "            criterion = criterion ,\n",
    "            wand = wand\n",
    "                 )\n",
    "\n",
    "\n",
    "        wandb.alert(\n",
    "                    title='Finish',\n",
    "                    text=f'Finishing training',\n",
    "                )"
   ]
  },
  {
   "cell_type": "code",
   "execution_count": null,
   "id": "3e2a1af2-75e8-4965-9c12-8555df2a62ac",
   "metadata": {},
   "outputs": [],
   "source": [
    "\n"
   ]
  },
  {
   "cell_type": "code",
   "execution_count": null,
   "id": "70ec6087-3a39-4b2b-853c-7721ae49088c",
   "metadata": {},
   "outputs": [],
   "source": []
  },
  {
   "cell_type": "code",
   "execution_count": null,
   "id": "1cfc6a1b-820c-461e-814e-6b58a6d353b1",
   "metadata": {},
   "outputs": [],
   "source": []
  },
  {
   "cell_type": "code",
   "execution_count": null,
   "id": "4ad5c4cd-1544-4e82-ac0e-52722a6041b8",
   "metadata": {},
   "outputs": [],
   "source": []
  },
  {
   "cell_type": "code",
   "execution_count": null,
   "id": "92ad7a46-ab03-4407-8ce5-de691c7cb81d",
   "metadata": {},
   "outputs": [],
   "source": []
  },
  {
   "cell_type": "code",
   "execution_count": null,
   "id": "7d2142f5-a712-496d-b1fd-b9b1767f03b0",
   "metadata": {},
   "outputs": [],
   "source": []
  },
  {
   "cell_type": "code",
   "execution_count": null,
   "id": "72400789-60e3-41a1-9aa9-e7e58caa573d",
   "metadata": {},
   "outputs": [],
   "source": []
  },
  {
   "cell_type": "code",
   "execution_count": null,
   "id": "37d11b35-7b36-41c5-96bb-b18f3f9e850c",
   "metadata": {},
   "outputs": [],
   "source": [
    "##PACK\n",
    "for i in range(3):\n",
    "    if i == 0:\n",
    "        n_type = \"EX\"\n",
    "    if i == 1:\n",
    "        n_type = \"MI\"\n",
    "    if i == 2:\n",
    "        n_type = \"ALL\"\n",
    "\n",
    "    if n_type == \"EX\":\n",
    "        runs = [3,5,7,9]\n",
    "    if n_type == \"MI\":\n",
    "        runs = [4,6,8,10]\n",
    "    if n_type == \"ALL\":\n",
    "        runs = [3,5,7,9,4,6,8,10]\n",
    "    print(\"############## {} ########\".format(subjects))\n",
    "\n",
    "    eeg = EEG_fif(path, base_url, subjects, runs)\n",
    "    raw=eeg.data_to_raw()\n",
    "    print(\"Raw done\")\n",
    "    raw=raw.notch_filter([50])\n",
    "    raw=raw.filter( 8,14, method='fir', verbose=20)\n",
    "    #raw.resample(160)\n",
    "    print(\"Filter done\")\n",
    "    raw.pick_channels(['C3', 'C4', 'STIM MARKERS'])\n",
    "    epochs=eeg.epochs_visu(raw,tmin=0,tmax=7,baseline=(0,1))\n",
    "    X, y = eeg.get_X_y(epochs)\n",
    "    y=y-1\n",
    "    X_train, X_test, y_train, y_test = train_test_split(X, y, test_size=0.3,stratify=y)\n",
    "\n",
    "    print('train size',X_train.shape, y_train.shape)\n",
    "    print('Test size',X_test.shape, y_test.shape)\n",
    "    batch_size = X_train.shape[2]\n",
    "    train_loader = create_dataloader(X_train, y_train, batch_size=batch_size)\n",
    "    test_loader = create_dataloader(X_test, y_test, batch_size=batch_size)\n",
    "    num_step =math.ceil(len(train_loader.dataset) / batch_size)\n",
    "\n",
    "    x_train = torch.FloatTensor(X_train)\n",
    "    fake_eeg_data = torch.randn_like(x_train) #(batch_size, channel, length)\n",
    "\n",
    "        #using sequential helps bind multiple operations together\n",
    "    layer1 = nn.Sequential(\n",
    "                #padding = (kernel_size - 1) / 2 = 2\n",
    "                nn.Conv1d(in_channels, out_channels, kernel_size=kernel_size, stride=1, padding=2),\n",
    "                nn.BatchNorm1d(out_channels),\n",
    "                nn.ReLU()\n",
    "                # nn.MaxPool2d(kernel_size=2, stride=2)\n",
    "            )\n",
    "    layer2 = nn.Sequential(\n",
    "                nn.Conv1d(out_channels, out_channels*2, kernel_size=kernel_size, stride=1, padding=2),\n",
    "                nn.BatchNorm1d(out_channels*2),\n",
    "                nn.ReLU()\n",
    "                # nn.MaxPool2d(kernel_size=2, stride=2)\n",
    "            )\n",
    "    layer3 = nn.Sequential(\n",
    "                nn.Conv1d(out_channels*2, out_channels, kernel_size=kernel_size, stride=1, padding=2),\n",
    "                nn.BatchNorm1d(out_channels),\n",
    "                nn.ReLU()\n",
    "            )\n",
    "\n",
    "\n",
    "    out = layer1(fake_eeg_data)\n",
    "    out = layer2(out)\n",
    "    out = layer3(out)\n",
    "    out = out.reshape(out.size(0), -1)\n",
    "    linear_shape = out.shape[1]\n",
    "    fc = nn.Linear(linear_shape, out_size)\n",
    "    out = fc(out)\n",
    "\n",
    "    wand = wandb.init(\n",
    "\n",
    "          # Set the project where this run will be logged\n",
    "          project=\"Motor-Imagery\", \n",
    "          # We pass a run name (otherwise it’ll be randomly assigned, like sunshine-lollypop-10)\n",
    "          name=\"CNN_3layer_2class_S{0}_{1}_ne\".format(subjects,n_type), \n",
    "          # Track hyperparameters and run metadata\n",
    "          config={\n",
    "          \"learning_rate\": 0.000001,\n",
    "          \"architecture\": \"CNN\",\n",
    "          \"dataset\": \"S{}\".format(subjects),\n",
    "          \"epochs\": 3000,\n",
    "          \"weightname\":\"CNN_3layer_2class_S{0}_{1}_ne\".format(subjects,n_type),\n",
    "          \"num_step_per_epoch\" : num_step, \n",
    "\n",
    "          }\n",
    "        )\n",
    "    wandb.login()\n",
    "    config = wand.config\n",
    "    net = ConvNet(in_channels, out_channels, kernel_size, out_size).cuda(0)\n",
    "    optimizer = optim.Adam(net.parameters(), lr=config.learning_rate)\n",
    "    criterion = nn.CrossEntropyLoss()\n",
    "\n",
    "\n",
    "    train_loss,valid_loss,train_accuracy,valid_accuracy =train(\n",
    "        model = net,\n",
    "        gpu_num = 0,\n",
    "        train_loader = train_loader,\n",
    "        test_loader = test_loader,\n",
    "        optimizer = optimizer  ,\n",
    "        criterion = criterion ,\n",
    "        wand = wand\n",
    "             )\n",
    "\n",
    "\n",
    "    wandb.alert(\n",
    "                title='Finish',\n",
    "                text=f'Finishing training',\n",
    "            )"
   ]
  }
 ],
 "metadata": {
  "kernelspec": {
   "display_name": "Python 3 (ipykernel)",
   "language": "python",
   "name": "python3"
  },
  "language_info": {
   "codemirror_mode": {
    "name": "ipython",
    "version": 3
   },
   "file_extension": ".py",
   "mimetype": "text/x-python",
   "name": "python",
   "nbconvert_exporter": "python",
   "pygments_lexer": "ipython3",
   "version": "3.8.10"
  }
 },
 "nbformat": 4,
 "nbformat_minor": 5
}
