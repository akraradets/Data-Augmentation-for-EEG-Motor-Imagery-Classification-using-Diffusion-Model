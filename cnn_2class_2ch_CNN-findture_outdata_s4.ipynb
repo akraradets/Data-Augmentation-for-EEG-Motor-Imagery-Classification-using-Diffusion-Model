{
 "cells": [
  {
   "cell_type": "code",
   "execution_count": 1,
   "id": "851d3258-8cf6-45d4-8f14-0132010a75a0",
   "metadata": {},
   "outputs": [],
   "source": [
    "import numpy as np\n",
    "import matplotlib.pyplot as plt\n",
    "import mne\n",
    "import os\n",
    "import sys\n",
    "from mne.datasets import eegbci\n",
    "import glob\n",
    "from IPython.display import clear_output\n",
    "import numpy as np\n",
    "import torch\n",
    "from torch import nn\n",
    "import torch.optim as optim\n",
    "\n",
    "from mne.datasets import eegbci\n",
    "from sklearn.model_selection import train_test_split\n",
    "from torch.utils.data import TensorDataset\n",
    "from torch.utils.data import DataLoader\n",
    "from scipy import signal\n",
    "\n",
    "\n",
    "\n",
    "import torch\n",
    "import torch.cuda as cuda\n",
    "import torch.nn as nn\n",
    "from torch.autograd import Variable\n",
    "import math\n",
    "from sklearn.metrics import confusion_matrix\n",
    "from sklearn.metrics import plot_confusion_matrix\n",
    "from sklearn.metrics import ConfusionMatrixDisplay"
   ]
  },
  {
   "cell_type": "code",
   "execution_count": 2,
   "id": "2cd385f6-ab9b-4056-9519-3a8fecd46d59",
   "metadata": {},
   "outputs": [],
   "source": [
    "from common import EEG_fif\n",
    "from common import create_dataloader"
   ]
  },
  {
   "cell_type": "code",
   "execution_count": 3,
   "id": "656ab20d-d5d5-41f2-b4dd-6155ae8e5f30",
   "metadata": {},
   "outputs": [
    {
     "data": {
      "text/plain": [
       "True"
      ]
     },
     "execution_count": 3,
     "metadata": {},
     "output_type": "execute_result"
    }
   ],
   "source": [
    "torch.cuda.is_available()"
   ]
  },
  {
   "cell_type": "code",
   "execution_count": 4,
   "id": "b1d9fa44-0f50-41f0-aec3-07e6f7a4a72f",
   "metadata": {},
   "outputs": [
    {
     "name": "stdout",
     "output_type": "stream",
     "text": [
      "\n",
      "\n",
      "Raw done\n",
      "Setting up band-stop filter\n",
      "\n",
      "FIR filter parameters\n",
      "---------------------\n",
      "Designing a one-pass, zero-phase, non-causal bandstop filter:\n",
      "- Windowed time-domain design (firwin) method\n",
      "- Hamming window with 0.0194 passband ripple and 53 dB stopband attenuation\n",
      "- Lower transition bandwidth: 0.50 Hz\n",
      "- Upper transition bandwidth: 0.50 Hz\n",
      "- Filter length: 1651 samples (6.604 sec)\n",
      "\n",
      "Filtering raw data in 1 contiguous segment\n",
      "Setting up band-pass filter from 8 - 14 Hz\n",
      "\n",
      "FIR filter parameters\n",
      "---------------------\n",
      "Designing a one-pass, zero-phase, non-causal bandpass filter:\n",
      "- Windowed time-domain design (firwin) method\n",
      "- Hamming window with 0.0194 passband ripple and 53 dB stopband attenuation\n",
      "- Lower passband edge: 8.00\n",
      "- Lower transition bandwidth: 2.00 Hz (-6 dB cutoff frequency: 7.00 Hz)\n",
      "- Upper passband edge: 14.00 Hz\n",
      "- Upper transition bandwidth: 3.50 Hz (-6 dB cutoff frequency: 15.75 Hz)\n",
      "- Filter length: 413 samples (1.652 sec)\n",
      "\n",
      "Filter done\n"
     ]
    },
    {
     "name": "stderr",
     "output_type": "stream",
     "text": [
      "/home/nutapolt/eeg_mi/common.py:627: RuntimeWarning: This filename (S001/S001R03.fif) does not conform to MNE naming conventions. All raw files should end with raw.fif, raw_sss.fif, raw_tsss.fif, _meg.fif, _eeg.fif, _ieeg.fif, raw.fif.gz, raw_sss.fif.gz, raw_tsss.fif.gz, _meg.fif.gz, _eeg.fif.gz or _ieeg.fif.gz\n",
      "  raw = mne.io.read_raw_fif( path_file , preload=True, verbose='WARNING' )\n",
      "/home/nutapolt/eeg_mi/common.py:627: RuntimeWarning: This filename (S001/S001R03.fif) does not conform to MNE naming conventions. All raw files should end with raw.fif, raw_sss.fif, raw_tsss.fif, _meg.fif, _eeg.fif, _ieeg.fif, raw.fif.gz, raw_sss.fif.gz, raw_tsss.fif.gz, _meg.fif.gz, _eeg.fif.gz or _ieeg.fif.gz\n",
      "  raw = mne.io.read_raw_fif( path_file , preload=True, verbose='WARNING' )\n",
      "[Parallel(n_jobs=1)]: Using backend SequentialBackend with 1 concurrent workers.\n",
      "[Parallel(n_jobs=1)]: Done   1 out of   1 | elapsed:    0.0s remaining:    0.0s\n",
      "[Parallel(n_jobs=1)]: Done   2 out of   2 | elapsed:    0.0s remaining:    0.0s\n",
      "[Parallel(n_jobs=1)]: Done   3 out of   3 | elapsed:    0.0s remaining:    0.0s\n",
      "[Parallel(n_jobs=1)]: Done   4 out of   4 | elapsed:    0.0s remaining:    0.0s\n",
      "[Parallel(n_jobs=1)]: Done   8 out of   8 | elapsed:    0.0s finished\n",
      "[Parallel(n_jobs=1)]: Using backend SequentialBackend with 1 concurrent workers.\n",
      "[Parallel(n_jobs=1)]: Done   1 out of   1 | elapsed:    0.0s remaining:    0.0s\n",
      "[Parallel(n_jobs=1)]: Done   2 out of   2 | elapsed:    0.0s remaining:    0.0s\n",
      "[Parallel(n_jobs=1)]: Done   3 out of   3 | elapsed:    0.0s remaining:    0.0s\n",
      "[Parallel(n_jobs=1)]: Done   4 out of   4 | elapsed:    0.0s remaining:    0.0s\n",
      "[Parallel(n_jobs=1)]: Done   8 out of   8 | elapsed:    0.0s finished\n"
     ]
    }
   ],
   "source": [
    "# home directory + datasets folder\n",
    "#path = '/content/drive/MyDrive/MNE-eegbci-data/files/eegmmidb/'\n",
    "path = ''\n",
    "base_url = 'https://physionet.org/files/eegmmidb/'\n",
    "#runs = [4, 6, 8, 10, 12,14]\n",
    "#runs = [1,2,3,4,5,6,7,8,9,10,11,12,13,14,15,16,17,18,19,20]\n",
    "#runs = [3,4,5,6,7,8,9,10,11,12,13,14]\n",
    "\n",
    "#runs = [11,13,15,17]\n",
    "#runs = [4,6,8,10]\n",
    "#runs = [3,5,7,9,4,6,8,10]\n",
    "\n",
    "\n",
    "\n",
    "#runs = [3]\n",
    "subjects = [62]\n",
    "\n",
    "print(path)\n",
    "eeg = EEG_fif(path, base_url, subjects, runs)\n",
    "raw=eeg.data_to_raw()\n",
    "\n",
    "print(\"Raw done\")\n",
    "# apply filter\n",
    "#freq = (1., 45.)\n",
    "\n",
    "#raw=eeg.raw_ica(n_components=8,max_iter=1000)\n",
    "raw=raw.notch_filter([50,75,100])\n",
    "raw=raw.filter( 8,14, method='fir', verbose=20)\n",
    "\n",
    "\n",
    "print(\"Filter done\")"
   ]
  },
  {
   "cell_type": "code",
   "execution_count": 5,
   "id": "63a3a2e5-191f-470b-b430-5664994ade63",
   "metadata": {},
   "outputs": [
    {
     "data": {
      "text/plain": [
       "['Fp1', 'Fp2', 'C3', 'C4', 'P7', 'P8', 'O1', 'O2', 'STIM MARKERS']"
      ]
     },
     "execution_count": 5,
     "metadata": {},
     "output_type": "execute_result"
    }
   ],
   "source": [
    "raw.ch_names"
   ]
  },
  {
   "cell_type": "code",
   "execution_count": 6,
   "id": "02c863d5-9efc-4dca-b118-ea139ce2adca",
   "metadata": {},
   "outputs": [
    {
     "data": {
      "text/plain": [
       "['C3', 'C4', 'STIM MARKERS']"
      ]
     },
     "execution_count": 6,
     "metadata": {},
     "output_type": "execute_result"
    }
   ],
   "source": [
    "#raw = raw.drop_channels(['C3'])\n",
    "raw = raw.drop_channels(['Fp1', 'Fp2', 'P7', 'P8', 'O1', 'O2'])\n",
    "raw.ch_names"
   ]
  },
  {
   "cell_type": "code",
   "execution_count": 7,
   "id": "6f762f0f-086b-42d8-a8af-75afc67f6204",
   "metadata": {},
   "outputs": [
    {
     "name": "stdout",
     "output_type": "stream",
     "text": [
      "60 events found\n",
      "Event IDs: [1 2 4]\n",
      "Not setting metadata\n",
      "20 matching events found\n",
      "Applying baseline correction (mode: mean)\n",
      "0 projection items activated\n",
      "Using data from preloaded Raw for 20 events and 1751 original time points ...\n",
      "1 bad epochs dropped\n"
     ]
    },
    {
     "name": "stderr",
     "output_type": "stream",
     "text": [
      "/home/nutapolt/eeg_mi/common.py:657: RuntimeWarning: No matching events found for 3 (event id 3)\n",
      "  epochs = mne.Epochs(\n"
     ]
    }
   ],
   "source": [
    "#epochs=eeg.epochs_visu(raw,tmin=0,tmax=6,baseline=(0,3))\n",
    "epochs=eeg.epochs_visu(raw,tmin=0,tmax=7,baseline=(0,2))"
   ]
  },
  {
   "cell_type": "code",
   "execution_count": 8,
   "id": "7829aa9d-a88f-4e0c-8b44-74cde0db7dd6",
   "metadata": {},
   "outputs": [
    {
     "name": "stdout",
     "output_type": "stream",
     "text": [
      "(19, 2, 1751)\n",
      "(19, 2, 1438)\n"
     ]
    },
    {
     "data": {
      "text/plain": [
       "array([0, 1, 0, 1, 0, 1, 0, 1, 0, 1, 0, 1, 0, 1, 0, 1, 0, 1, 0])"
      ]
     },
     "execution_count": 8,
     "metadata": {},
     "output_type": "execute_result"
    }
   ],
   "source": [
    "#X = X[:, :,np.newaxis,:]\n",
    "X, y = eeg.get_X_y(epochs)\n",
    "print(X.shape)\n",
    "X=X[:,:,int(0.25*250):int(1750-(250*1))]\n",
    "#X = X[:, np.newaxis,:,:]\n",
    "print(X.shape)\n",
    "y=y-1\n",
    "y\n"
   ]
  },
  {
   "cell_type": "raw",
   "id": "9a9cd02d-0934-4abb-b0fd-1bd8eec6ebda",
   "metadata": {},
   "source": [
    "(76, 2, 1751)\n",
    "(76, 2, 1438)\n"
   ]
  },
  {
   "cell_type": "code",
   "execution_count": 9,
   "id": "baa4ab14-d3e8-4b87-9a1f-3fb522d64af5",
   "metadata": {},
   "outputs": [
    {
     "name": "stdout",
     "output_type": "stream",
     "text": [
      "train size (13, 2, 1438) (13,)\n",
      "Test size (6, 2, 1438) (6,)\n"
     ]
    }
   ],
   "source": [
    "X_train, X_test, y_train, y_test = train_test_split(X, y, test_size=0.3,stratify=y)\n",
    "\n",
    "print('train size',X_train.shape, y_train.shape)\n",
    "print('Test size',X_test.shape, y_test.shape)"
   ]
  },
  {
   "cell_type": "code",
   "execution_count": 10,
   "id": "c0b137eb-dd3a-4846-bb9b-9fe0d6bfd8b8",
   "metadata": {},
   "outputs": [],
   "source": [
    "\n",
    "batch_size = X_train.shape[2]\n",
    "\n",
    "train_loader = create_dataloader(X_train, y_train, batch_size=batch_size)\n",
    "test_loader = create_dataloader(X_test, y_test, batch_size=batch_size)\n",
    "\n",
    "num_step =math.ceil(len(train_loader.dataset) / batch_size)\n",
    "\n",
    "in_channels  = X.shape[1]  #C3, C4\n",
    "out_channels = 64  #five is logical because we have freq= 8, 9, 10, 11, 12 that we want to capture\n",
    "out_size     = 2  #left or right\n",
    "kernel_size  = 5\n"
   ]
  },
  {
   "cell_type": "code",
   "execution_count": 11,
   "id": "772211be-c391-495c-80c3-cdf91b487656",
   "metadata": {},
   "outputs": [],
   "source": [
    "X_train = torch.FloatTensor(X_train)\n",
    "fake_eeg_data = torch.randn_like(X_train) #(batch_size, channel, length)"
   ]
  },
  {
   "cell_type": "code",
   "execution_count": 12,
   "id": "897a7955-a9e4-4ffe-9503-b5c994ce4088",
   "metadata": {},
   "outputs": [],
   "source": [
    "        \n",
    "        #using sequential helps bind multiple operations together\n",
    "layer1 = nn.Sequential(\n",
    "            #padding = (kernel_size - 1) / 2 = 2\n",
    "            nn.Conv1d(in_channels, out_channels, kernel_size=kernel_size, stride=1, padding=2),\n",
    "            nn.BatchNorm1d(out_channels),\n",
    "            nn.ReLU()\n",
    "            # nn.MaxPool2d(kernel_size=2, stride=2)\n",
    "        )\n",
    "layer2 = nn.Sequential(\n",
    "            nn.Conv1d(out_channels, out_channels*2, kernel_size=kernel_size, stride=1, padding=2),\n",
    "            nn.BatchNorm1d(out_channels*2),\n",
    "            nn.ReLU()\n",
    "            # nn.MaxPool2d(kernel_size=2, stride=2)\n",
    "        )\n",
    "layer3 = nn.Sequential(\n",
    "            nn.Conv1d(out_channels*2, out_channels, kernel_size=kernel_size, stride=1, padding=2),\n",
    "            nn.BatchNorm1d(out_channels),\n",
    "            nn.ReLU()\n",
    "        )\n",
    "        "
   ]
  },
  {
   "cell_type": "code",
   "execution_count": 13,
   "id": "b5f30951-1ab4-458a-97eb-a532b0c620c4",
   "metadata": {},
   "outputs": [
    {
     "data": {
      "text/plain": [
       "torch.Size([13, 64, 1438])"
      ]
     },
     "execution_count": 13,
     "metadata": {},
     "output_type": "execute_result"
    }
   ],
   "source": [
    "out = layer1(fake_eeg_data)\n",
    "out.shape"
   ]
  },
  {
   "cell_type": "code",
   "execution_count": 14,
   "id": "48e1c035-a1e1-4710-8adc-74f0e65a0d1a",
   "metadata": {},
   "outputs": [
    {
     "data": {
      "text/plain": [
       "torch.Size([13, 128, 1438])"
      ]
     },
     "execution_count": 14,
     "metadata": {},
     "output_type": "execute_result"
    }
   ],
   "source": [
    "out = layer2(out)\n",
    "out.shape"
   ]
  },
  {
   "cell_type": "code",
   "execution_count": 15,
   "id": "7398ae79-a9f4-4608-935e-e2f3dea0a783",
   "metadata": {},
   "outputs": [
    {
     "data": {
      "text/plain": [
       "torch.Size([13, 64, 1438])"
      ]
     },
     "execution_count": 15,
     "metadata": {},
     "output_type": "execute_result"
    }
   ],
   "source": [
    "out = layer3(out)\n",
    "out.shape"
   ]
  },
  {
   "cell_type": "code",
   "execution_count": 16,
   "id": "ddf994b0-eea4-43b1-9596-75aa916b209e",
   "metadata": {},
   "outputs": [
    {
     "data": {
      "text/plain": [
       "92032"
      ]
     },
     "execution_count": 16,
     "metadata": {},
     "output_type": "execute_result"
    }
   ],
   "source": [
    "out = out.reshape(out.size(0), -1)\n",
    "\n",
    "linear_shape = out.shape[1]\n",
    "linear_shape"
   ]
  },
  {
   "cell_type": "code",
   "execution_count": 17,
   "id": "df34fabc-29c3-41cf-9125-9b64d63f5ee1",
   "metadata": {},
   "outputs": [
    {
     "data": {
      "text/plain": [
       "torch.Size([13, 2])"
      ]
     },
     "execution_count": 17,
     "metadata": {},
     "output_type": "execute_result"
    }
   ],
   "source": [
    "fc = nn.Linear(linear_shape, out_size)\n",
    "out = fc(out)\n",
    "out.shape"
   ]
  },
  {
   "cell_type": "code",
   "execution_count": null,
   "id": "2ca9da78-72a3-4a8e-8891-9f3ef0753516",
   "metadata": {},
   "outputs": [],
   "source": []
  },
  {
   "cell_type": "code",
   "execution_count": 18,
   "id": "086871a3-b5ed-4865-bdc8-372270251077",
   "metadata": {},
   "outputs": [],
   "source": [
    "\n",
    "\n",
    "# Convolutional neural network (two convolutional layers)\n",
    "class ConvNet(nn.Module):\n",
    "    def __init__(self, in_channels, out_channels, kernel_size, out_size):\n",
    "        super().__init__()\n",
    "        #using sequential helps bind multiple operations together\n",
    "        self.layer1 = nn.Sequential(\n",
    "            #padding = (kernel_size - 1) / 2 = 2\n",
    "            nn.Conv1d(in_channels, out_channels, kernel_size=kernel_size, stride=1, padding=2),\n",
    "            nn.BatchNorm1d(out_channels),\n",
    "            nn.ReLU(),\n",
    "            # nn.MaxPool2d(kernel_size=2, stride=2)\n",
    "        )\n",
    "        self.layer2 = nn.Sequential(\n",
    "            nn.Conv1d(out_channels, out_channels*2, kernel_size=kernel_size, stride=1, padding=2),\n",
    "            nn.BatchNorm1d(out_channels*2),\n",
    "            nn.ReLU(),\n",
    "            # nn.MaxPool2d(kernel_size=2, stride=2)\n",
    "        )\n",
    "        self.layer3 = nn.Sequential(\n",
    "            nn.Conv1d(out_channels*2, out_channels, kernel_size=kernel_size, stride=1, padding=2),\n",
    "            nn.BatchNorm1d(out_channels),\n",
    "            nn.ReLU(),\n",
    "        )\n",
    "        \n",
    "        \n",
    "        self.fc = nn.Linear(linear_shape  , out_size)\n",
    "        #self.fc = nn.Linear(80064 , 2)\n",
    "        \n",
    "        self.drop_out = nn.Dropout(0.5)\n",
    "        \n",
    "    def forward(self, x):\n",
    "        out = self.layer1(x)\n",
    "        out = self.drop_out(out)\n",
    "        out = self.layer2(out)\n",
    "        out = self.drop_out(out)\n",
    "        out = self.layer3(out)\n",
    "        #out = self.drop_out(out)\n",
    "        #out = self.layer4(out)\n",
    "        #out = self.drop_out(out)\n",
    "\n",
    "        out = out.reshape(out.size(0), -1)   #can also use .view()\n",
    "        out = self.fc(out)\n",
    "        return out"
   ]
  },
  {
   "cell_type": "code",
   "execution_count": null,
   "id": "fc8f634a-bfa9-4c2e-890b-a884bf376fda",
   "metadata": {},
   "outputs": [],
   "source": []
  },
  {
   "cell_type": "markdown",
   "id": "1b544cb1-a832-460c-a623-f682258d9128",
   "metadata": {},
   "source": [
    "### Freeze layer"
   ]
  },
  {
   "cell_type": "code",
   "execution_count": 26,
   "id": "6bed1c2d-2be1-48fd-976e-2da1001f0289",
   "metadata": {},
   "outputs": [],
   "source": [
    "del net\n",
    "net = ConvNet(in_channels, out_channels, kernel_size, out_size).cuda(0)"
   ]
  },
  {
   "cell_type": "code",
   "execution_count": 27,
   "id": "095d271e-be36-40ab-8c37-1ba617aff35c",
   "metadata": {},
   "outputs": [
    {
     "data": {
      "text/plain": [
       "<All keys matched successfully>"
      ]
     },
     "execution_count": 27,
     "metadata": {},
     "output_type": "execute_result"
    }
   ],
   "source": [
    "net.load_state_dict(torch.load('New/0.6563_OurData_CNN_2class_S49_5S_EX_0.6563_73.9130'))"
   ]
  },
  {
   "cell_type": "code",
   "execution_count": null,
   "id": "da37cb4f-0483-4927-ab86-a7656cc580ca",
   "metadata": {},
   "outputs": [],
   "source": []
  },
  {
   "cell_type": "code",
   "execution_count": 28,
   "id": "f879a0a6-89f1-4c17-8b85-4c301377e303",
   "metadata": {},
   "outputs": [
    {
     "data": {
      "text/plain": [
       "odict_keys(['layer1.0.weight', 'layer1.0.bias', 'layer1.1.weight', 'layer1.1.bias', 'layer1.1.running_mean', 'layer1.1.running_var', 'layer1.1.num_batches_tracked', 'layer2.0.weight', 'layer2.0.bias', 'layer2.1.weight', 'layer2.1.bias', 'layer2.1.running_mean', 'layer2.1.running_var', 'layer2.1.num_batches_tracked', 'layer3.0.weight', 'layer3.0.bias', 'layer3.1.weight', 'layer3.1.bias', 'layer3.1.running_mean', 'layer3.1.running_var', 'layer3.1.num_batches_tracked', 'fc.weight', 'fc.bias'])"
      ]
     },
     "execution_count": 28,
     "metadata": {},
     "output_type": "execute_result"
    }
   ],
   "source": [
    "parms = net.state_dict()\n",
    "parms.keys()"
   ]
  },
  {
   "cell_type": "code",
   "execution_count": 29,
   "id": "45dc7b5e-38bd-4be1-aa32-a11f5e8ef3d7",
   "metadata": {},
   "outputs": [],
   "source": [
    "for name,param in net.named_parameters():\n",
    "    if param.requires_grad and 'layer1' in name:\n",
    "        param.requires_grad = False\n",
    "    if param.requires_grad and 'layer2' in name:\n",
    "        param.requires_grad = False\n",
    "    # if param.requires_grad and 'layer3' in name:\n",
    "    #     param.requires_grad = False"
   ]
  },
  {
   "cell_type": "code",
   "execution_count": 30,
   "id": "247d40ad-e0ab-41d0-a8cc-596ddb62acd1",
   "metadata": {},
   "outputs": [
    {
     "name": "stderr",
     "output_type": "stream",
     "text": [
      "\u001b[34m\u001b[1mwandb\u001b[0m: \u001b[33mWARNING\u001b[0m Calling wandb.login() after wandb.init() has no effect.\n"
     ]
    },
    {
     "data": {
      "text/html": [
       "Finishing last run (ID:1rnmw2j8) before initializing another..."
      ],
      "text/plain": [
       "<IPython.core.display.HTML object>"
      ]
     },
     "metadata": {},
     "output_type": "display_data"
    },
    {
     "data": {
      "text/html": [
       "Waiting for W&B process to finish... <strong style=\"color:green\">(success).</strong>"
      ],
      "text/plain": [
       "<IPython.core.display.HTML object>"
      ]
     },
     "metadata": {},
     "output_type": "display_data"
    },
    {
     "data": {
      "application/vnd.jupyter.widget-view+json": {
       "model_id": "",
       "version_major": 2,
       "version_minor": 0
      },
      "text/plain": [
       "VBox(children=(Label(value='0.001 MB of 0.001 MB uploaded (0.000 MB deduped)\\r'), FloatProgress(value=1.0, max…"
      ]
     },
     "metadata": {},
     "output_type": "display_data"
    },
    {
     "data": {
      "text/html": [
       "<style>\n",
       "    table.wandb td:nth-child(1) { padding: 0 10px; text-align: left ; width: auto;} td:nth-child(2) {text-align: left ; width: 100%}\n",
       "    .wandb-row { display: flex; flex-direction: row; flex-wrap: wrap; justify-content: flex-start; width: 100% }\n",
       "    .wandb-col { display: flex; flex-direction: column; flex-basis: 100%; flex: 1; padding: 10px; }\n",
       "    </style>\n",
       "<div class=\"wandb-row\"><div class=\"wandb-col\"><h3>Run history:</h3><br/><table class=\"wandb\"><tr><td>Test/Test_accuracy</td><td>████▅▅▅▅▅▅▅▅▅▅▅▅▅▅███████▅▅▅▁▁▁▁▁▁▁▁▁▁▁▁</td></tr><tr><td>Test/Test_loss</td><td>▁▁▁▁▁▁▂▂▂▂▂▂▂▂▂▂▃▃▃▃▃▃▄▄▄▄▄▅▅▅▅▆▆▆▆▇▇▇██</td></tr><tr><td>train/train_accuracy</td><td>▄▁▅▃█▂▅▅▆▆▅▇▇▇▇▇▅████▇██▇███████████████</td></tr><tr><td>train/train_loss</td><td>██▇▇▅▇▅▆▅▅▅▅▄▄▄▄▄▃▃▃▃▄▃▃▂▂▃▂▂▂▁▂▁▁▁▁▂▁▁▁</td></tr></table><br/></div><div class=\"wandb-col\"><h3>Run summary:</h3><br/><table class=\"wandb\"><tr><td>Test/Test_accuracy</td><td>66.66667</td></tr><tr><td>Test/Test_loss</td><td>0.63308</td></tr><tr><td>train/train_accuracy</td><td>100.0</td></tr><tr><td>train/train_loss</td><td>0.12855</td></tr></table><br/></div></div>"
      ],
      "text/plain": [
       "<IPython.core.display.HTML object>"
      ]
     },
     "metadata": {},
     "output_type": "display_data"
    },
    {
     "data": {
      "text/html": [
       "Synced <strong style=\"color:#cdcd00\">OurData_CNN_3layer_cuttime_2class_S49_findtune_freeze_1_2_online_EX</strong>: <a href=\"https://wandb.ai/nutapol-1997/Motor-Imagery/runs/1rnmw2j8\" target=\"_blank\">https://wandb.ai/nutapol-1997/Motor-Imagery/runs/1rnmw2j8</a><br/>Synced 5 W&B file(s), 0 media file(s), 0 artifact file(s) and 0 other file(s)"
      ],
      "text/plain": [
       "<IPython.core.display.HTML object>"
      ]
     },
     "metadata": {},
     "output_type": "display_data"
    },
    {
     "data": {
      "text/html": [
       "Find logs at: <code>./wandb/run-20221212_050138-1rnmw2j8/logs</code>"
      ],
      "text/plain": [
       "<IPython.core.display.HTML object>"
      ]
     },
     "metadata": {},
     "output_type": "display_data"
    },
    {
     "data": {
      "text/html": [
       "Successfully finished last run (ID:1rnmw2j8). Initializing new run:<br/>"
      ],
      "text/plain": [
       "<IPython.core.display.HTML object>"
      ]
     },
     "metadata": {},
     "output_type": "display_data"
    },
    {
     "data": {
      "text/html": [
       "wandb version 0.13.6 is available!  To upgrade, please run:\n",
       " $ pip install wandb --upgrade"
      ],
      "text/plain": [
       "<IPython.core.display.HTML object>"
      ]
     },
     "metadata": {},
     "output_type": "display_data"
    },
    {
     "data": {
      "text/html": [
       "Tracking run with wandb version 0.13.2"
      ],
      "text/plain": [
       "<IPython.core.display.HTML object>"
      ]
     },
     "metadata": {},
     "output_type": "display_data"
    },
    {
     "data": {
      "text/html": [
       "Run data is saved locally in <code>/home/nutapolt/eeg_mi/wandb/run-20221212_050437-21zwif0l</code>"
      ],
      "text/plain": [
       "<IPython.core.display.HTML object>"
      ]
     },
     "metadata": {},
     "output_type": "display_data"
    },
    {
     "data": {
      "text/html": [
       "Syncing run <strong><a href=\"https://wandb.ai/nutapol-1997/Motor-Imagery/runs/21zwif0l\" target=\"_blank\">OurData_CNN_3layer_cuttime_2class_S49_findtune_freeze_1_2_online_EX</a></strong> to <a href=\"https://wandb.ai/nutapol-1997/Motor-Imagery\" target=\"_blank\">Weights & Biases</a> (<a href=\"https://wandb.me/run\" target=\"_blank\">docs</a>)<br/>"
      ],
      "text/plain": [
       "<IPython.core.display.HTML object>"
      ]
     },
     "metadata": {},
     "output_type": "display_data"
    },
    {
     "name": "stdout",
     "output_type": "stream",
     "text": [
      "1\n"
     ]
    }
   ],
   "source": [
    "import wandb\n",
    "wandb.login()\n",
    "\n",
    "\n",
    "wand = wandb.init(\n",
    "        \n",
    "      # Set the project where this run will be logged\n",
    "      project=\"Motor-Imagery\", \n",
    "      # We pass a run name (otherwise it’ll be randomly assigned, like sunshine-lollypop-10)\n",
    "      name=f\"OurData_CNN_3layer_cuttime_2class_S49_findtune_freeze_1_2_online_EX\", \n",
    "      # Track hyperparameters and run metadata\n",
    "      config={\n",
    "      \"learning_rate\": 0.00000001,\n",
    "      \"architecture\": \"CNN\",\n",
    "      \"dataset\": \"S20\",\n",
    "      \"epochs\": 1000000,\n",
    "      \"weightname\":\"OurData_CNN_3layer_cuttime_2class_S49_findtune_freeze_1_2_online_EX\",\n",
    "      \"num_step_per_epoch\" : num_step, \n",
    "        \n",
    "      }\n",
    "    )\n",
    "\n",
    "\n",
    "\n",
    "\n",
    "config = wand.config\n",
    "print(config.num_step_per_epoch)\n"
   ]
  },
  {
   "cell_type": "code",
   "execution_count": null,
   "id": "03b28775-e145-47e9-b8f7-bc9408eed859",
   "metadata": {},
   "outputs": [],
   "source": []
  },
  {
   "cell_type": "code",
   "execution_count": 31,
   "id": "04d87cbc-d0e6-4775-b088-bbdc208d8178",
   "metadata": {},
   "outputs": [
    {
     "name": "stdout",
     "output_type": "stream",
     "text": [
      "Epoch 1/1000000, Tr Loss: 0.7645, Tr Acc: 38.4615, Val Loss: 0.6006, Val Acc: 83.3333\n",
      "Epoch 101/1000000, Tr Loss: 0.7709, Tr Acc: 53.8462, Val Loss: 0.6023, Val Acc: 100.0000\n",
      "Epoch 201/1000000, Tr Loss: 0.8395, Tr Acc: 23.0769, Val Loss: 0.6028, Val Acc: 100.0000\n",
      "Epoch 301/1000000, Tr Loss: 0.6433, Tr Acc: 69.2308, Val Loss: 0.6027, Val Acc: 100.0000\n",
      "Epoch 401/1000000, Tr Loss: 0.7797, Tr Acc: 38.4615, Val Loss: 0.6029, Val Acc: 100.0000\n",
      "Epoch 501/1000000, Tr Loss: 0.6633, Tr Acc: 53.8462, Val Loss: 0.6029, Val Acc: 100.0000\n",
      "Epoch 601/1000000, Tr Loss: 0.6014, Tr Acc: 61.5385, Val Loss: 0.6032, Val Acc: 100.0000\n",
      "Epoch 701/1000000, Tr Loss: 0.7622, Tr Acc: 38.4615, Val Loss: 0.6033, Val Acc: 100.0000\n",
      "Epoch 801/1000000, Tr Loss: 0.6612, Tr Acc: 53.8462, Val Loss: 0.6033, Val Acc: 100.0000\n",
      "Epoch 901/1000000, Tr Loss: 0.6044, Tr Acc: 76.9231, Val Loss: 0.6034, Val Acc: 100.0000\n",
      "Epoch 1001/1000000, Tr Loss: 0.7418, Tr Acc: 53.8462, Val Loss: 0.6033, Val Acc: 100.0000\n",
      "Epoch 1101/1000000, Tr Loss: 0.6992, Tr Acc: 53.8462, Val Loss: 0.6040, Val Acc: 100.0000\n",
      "Epoch 1201/1000000, Tr Loss: 0.7574, Tr Acc: 30.7692, Val Loss: 0.6034, Val Acc: 100.0000\n",
      "Epoch 1301/1000000, Tr Loss: 0.7576, Tr Acc: 46.1538, Val Loss: 0.6036, Val Acc: 100.0000\n",
      "Epoch 1401/1000000, Tr Loss: 0.6998, Tr Acc: 38.4615, Val Loss: 0.6034, Val Acc: 100.0000\n",
      "Epoch 1501/1000000, Tr Loss: 0.6569, Tr Acc: 53.8462, Val Loss: 0.6037, Val Acc: 100.0000\n",
      "Epoch 1601/1000000, Tr Loss: 0.6484, Tr Acc: 53.8462, Val Loss: 0.6039, Val Acc: 100.0000\n",
      "Epoch 1701/1000000, Tr Loss: 0.6139, Tr Acc: 76.9231, Val Loss: 0.6038, Val Acc: 100.0000\n",
      "Epoch 1801/1000000, Tr Loss: 0.6569, Tr Acc: 53.8462, Val Loss: 0.6039, Val Acc: 100.0000\n",
      "Epoch 1901/1000000, Tr Loss: 0.6360, Tr Acc: 61.5385, Val Loss: 0.6040, Val Acc: 100.0000\n",
      "Epoch 2001/1000000, Tr Loss: 0.6743, Tr Acc: 69.2308, Val Loss: 0.6037, Val Acc: 100.0000\n",
      "Epoch 2101/1000000, Tr Loss: 0.6328, Tr Acc: 46.1538, Val Loss: 0.6038, Val Acc: 100.0000\n",
      "Epoch 2201/1000000, Tr Loss: 0.6307, Tr Acc: 61.5385, Val Loss: 0.6044, Val Acc: 100.0000\n",
      "Epoch 2301/1000000, Tr Loss: 0.6429, Tr Acc: 61.5385, Val Loss: 0.6042, Val Acc: 100.0000\n",
      "Epoch 2401/1000000, Tr Loss: 0.6386, Tr Acc: 46.1538, Val Loss: 0.6045, Val Acc: 100.0000\n",
      "Epoch 2501/1000000, Tr Loss: 0.5951, Tr Acc: 61.5385, Val Loss: 0.6044, Val Acc: 100.0000\n",
      "Epoch 2601/1000000, Tr Loss: 0.5561, Tr Acc: 76.9231, Val Loss: 0.6042, Val Acc: 100.0000\n",
      "Epoch 2701/1000000, Tr Loss: 0.6201, Tr Acc: 53.8462, Val Loss: 0.6044, Val Acc: 100.0000\n",
      "Epoch 2801/1000000, Tr Loss: 0.6217, Tr Acc: 53.8462, Val Loss: 0.6046, Val Acc: 100.0000\n",
      "Epoch 2901/1000000, Tr Loss: 0.6233, Tr Acc: 61.5385, Val Loss: 0.6046, Val Acc: 100.0000\n",
      "Epoch 3001/1000000, Tr Loss: 0.6308, Tr Acc: 61.5385, Val Loss: 0.6045, Val Acc: 100.0000\n",
      "Epoch 3101/1000000, Tr Loss: 0.7699, Tr Acc: 38.4615, Val Loss: 0.6043, Val Acc: 100.0000\n",
      "Epoch 3201/1000000, Tr Loss: 0.6035, Tr Acc: 61.5385, Val Loss: 0.6048, Val Acc: 100.0000\n",
      "Epoch 3301/1000000, Tr Loss: 0.6437, Tr Acc: 61.5385, Val Loss: 0.6048, Val Acc: 100.0000\n",
      "Epoch 3401/1000000, Tr Loss: 0.6808, Tr Acc: 46.1538, Val Loss: 0.6048, Val Acc: 83.3333\n",
      "Epoch 3501/1000000, Tr Loss: 0.6000, Tr Acc: 53.8462, Val Loss: 0.6052, Val Acc: 100.0000\n",
      "Epoch 3601/1000000, Tr Loss: 0.7138, Tr Acc: 53.8462, Val Loss: 0.6046, Val Acc: 83.3333\n",
      "Epoch 3701/1000000, Tr Loss: 0.6483, Tr Acc: 61.5385, Val Loss: 0.6050, Val Acc: 83.3333\n",
      "Epoch 3801/1000000, Tr Loss: 0.5984, Tr Acc: 69.2308, Val Loss: 0.6050, Val Acc: 83.3333\n",
      "Epoch 3901/1000000, Tr Loss: 0.6255, Tr Acc: 69.2308, Val Loss: 0.6048, Val Acc: 83.3333\n",
      "Epoch 4001/1000000, Tr Loss: 0.6369, Tr Acc: 61.5385, Val Loss: 0.6050, Val Acc: 83.3333\n",
      "Epoch 4101/1000000, Tr Loss: 0.6621, Tr Acc: 76.9231, Val Loss: 0.6049, Val Acc: 83.3333\n",
      "Epoch 4201/1000000, Tr Loss: 0.6146, Tr Acc: 61.5385, Val Loss: 0.6052, Val Acc: 83.3333\n",
      "Epoch 4301/1000000, Tr Loss: 0.5060, Tr Acc: 84.6154, Val Loss: 0.6050, Val Acc: 83.3333\n",
      "Epoch 4401/1000000, Tr Loss: 0.5096, Tr Acc: 84.6154, Val Loss: 0.6054, Val Acc: 83.3333\n",
      "Epoch 4501/1000000, Tr Loss: 0.5862, Tr Acc: 69.2308, Val Loss: 0.6053, Val Acc: 83.3333\n",
      "Epoch 4601/1000000, Tr Loss: 0.5890, Tr Acc: 69.2308, Val Loss: 0.6051, Val Acc: 83.3333\n",
      "Epoch 4701/1000000, Tr Loss: 0.6229, Tr Acc: 61.5385, Val Loss: 0.6055, Val Acc: 83.3333\n",
      "Epoch 4801/1000000, Tr Loss: 0.6502, Tr Acc: 53.8462, Val Loss: 0.6054, Val Acc: 83.3333\n",
      "Epoch 4901/1000000, Tr Loss: 0.6587, Tr Acc: 61.5385, Val Loss: 0.6054, Val Acc: 83.3333\n",
      "Epoch 5001/1000000, Tr Loss: 0.5608, Tr Acc: 76.9231, Val Loss: 0.6053, Val Acc: 83.3333\n",
      "Epoch 5101/1000000, Tr Loss: 0.4922, Tr Acc: 92.3077, Val Loss: 0.6055, Val Acc: 83.3333\n",
      "Epoch 5201/1000000, Tr Loss: 0.5700, Tr Acc: 69.2308, Val Loss: 0.6055, Val Acc: 83.3333\n",
      "Epoch 5301/1000000, Tr Loss: 0.5341, Tr Acc: 69.2308, Val Loss: 0.6054, Val Acc: 83.3333\n",
      "Epoch 5401/1000000, Tr Loss: 0.5708, Tr Acc: 61.5385, Val Loss: 0.6054, Val Acc: 83.3333\n",
      "Epoch 5501/1000000, Tr Loss: 0.5153, Tr Acc: 76.9231, Val Loss: 0.6052, Val Acc: 83.3333\n",
      "Epoch 5601/1000000, Tr Loss: 0.6495, Tr Acc: 46.1538, Val Loss: 0.6055, Val Acc: 83.3333\n",
      "Epoch 5701/1000000, Tr Loss: 0.5181, Tr Acc: 84.6154, Val Loss: 0.6053, Val Acc: 83.3333\n",
      "Epoch 5801/1000000, Tr Loss: 0.4689, Tr Acc: 92.3077, Val Loss: 0.6056, Val Acc: 83.3333\n",
      "Epoch 5901/1000000, Tr Loss: 0.5424, Tr Acc: 76.9231, Val Loss: 0.6054, Val Acc: 83.3333\n",
      "Epoch 6001/1000000, Tr Loss: 0.5951, Tr Acc: 53.8462, Val Loss: 0.6057, Val Acc: 83.3333\n",
      "Epoch 6101/1000000, Tr Loss: 0.5989, Tr Acc: 53.8462, Val Loss: 0.6057, Val Acc: 83.3333\n",
      "Epoch 6201/1000000, Tr Loss: 0.5169, Tr Acc: 76.9231, Val Loss: 0.6061, Val Acc: 83.3333\n",
      "Epoch 6301/1000000, Tr Loss: 0.5631, Tr Acc: 61.5385, Val Loss: 0.6057, Val Acc: 83.3333\n",
      "Epoch 6401/1000000, Tr Loss: 0.5710, Tr Acc: 69.2308, Val Loss: 0.6057, Val Acc: 83.3333\n",
      "Epoch 6501/1000000, Tr Loss: 0.5734, Tr Acc: 76.9231, Val Loss: 0.6057, Val Acc: 83.3333\n",
      "Epoch 6601/1000000, Tr Loss: 0.5521, Tr Acc: 76.9231, Val Loss: 0.6059, Val Acc: 83.3333\n",
      "Epoch 6701/1000000, Tr Loss: 0.5004, Tr Acc: 76.9231, Val Loss: 0.6063, Val Acc: 83.3333\n",
      "Epoch 6801/1000000, Tr Loss: 0.5335, Tr Acc: 69.2308, Val Loss: 0.6059, Val Acc: 83.3333\n",
      "Epoch 6901/1000000, Tr Loss: 0.4813, Tr Acc: 84.6154, Val Loss: 0.6056, Val Acc: 83.3333\n",
      "Epoch 7001/1000000, Tr Loss: 0.5192, Tr Acc: 92.3077, Val Loss: 0.6059, Val Acc: 83.3333\n",
      "Epoch 7101/1000000, Tr Loss: 0.4484, Tr Acc: 92.3077, Val Loss: 0.6058, Val Acc: 83.3333\n",
      "Epoch 7201/1000000, Tr Loss: 0.4514, Tr Acc: 84.6154, Val Loss: 0.6062, Val Acc: 83.3333\n",
      "Epoch 7301/1000000, Tr Loss: 0.5529, Tr Acc: 69.2308, Val Loss: 0.6060, Val Acc: 83.3333\n",
      "Epoch 7401/1000000, Tr Loss: 0.4774, Tr Acc: 84.6154, Val Loss: 0.6062, Val Acc: 83.3333\n",
      "Epoch 7501/1000000, Tr Loss: 0.4733, Tr Acc: 84.6154, Val Loss: 0.6064, Val Acc: 83.3333\n",
      "Epoch 7601/1000000, Tr Loss: 0.5126, Tr Acc: 92.3077, Val Loss: 0.6061, Val Acc: 83.3333\n",
      "Epoch 7701/1000000, Tr Loss: 0.5337, Tr Acc: 84.6154, Val Loss: 0.6060, Val Acc: 83.3333\n",
      "Epoch 7801/1000000, Tr Loss: 0.5533, Tr Acc: 76.9231, Val Loss: 0.6063, Val Acc: 83.3333\n",
      "Epoch 7901/1000000, Tr Loss: 0.4729, Tr Acc: 76.9231, Val Loss: 0.6065, Val Acc: 83.3333\n",
      "Epoch 8001/1000000, Tr Loss: 0.5041, Tr Acc: 69.2308, Val Loss: 0.6064, Val Acc: 83.3333\n",
      "Epoch 8101/1000000, Tr Loss: 0.5091, Tr Acc: 76.9231, Val Loss: 0.6062, Val Acc: 83.3333\n",
      "Epoch 8201/1000000, Tr Loss: 0.6000, Tr Acc: 76.9231, Val Loss: 0.6066, Val Acc: 83.3333\n",
      "Epoch 8301/1000000, Tr Loss: 0.4595, Tr Acc: 84.6154, Val Loss: 0.6065, Val Acc: 83.3333\n",
      "Epoch 8401/1000000, Tr Loss: 0.5120, Tr Acc: 69.2308, Val Loss: 0.6065, Val Acc: 83.3333\n",
      "Epoch 8501/1000000, Tr Loss: 0.6235, Tr Acc: 53.8462, Val Loss: 0.6068, Val Acc: 83.3333\n",
      "Epoch 8601/1000000, Tr Loss: 0.4655, Tr Acc: 84.6154, Val Loss: 0.6064, Val Acc: 83.3333\n",
      "Epoch 8701/1000000, Tr Loss: 0.4659, Tr Acc: 84.6154, Val Loss: 0.6064, Val Acc: 83.3333\n",
      "Epoch 8801/1000000, Tr Loss: 0.4499, Tr Acc: 84.6154, Val Loss: 0.6070, Val Acc: 83.3333\n",
      "Epoch 8901/1000000, Tr Loss: 0.4792, Tr Acc: 84.6154, Val Loss: 0.6065, Val Acc: 83.3333\n",
      "Epoch 9001/1000000, Tr Loss: 0.5484, Tr Acc: 69.2308, Val Loss: 0.6066, Val Acc: 83.3333\n",
      "Epoch 9101/1000000, Tr Loss: 0.5341, Tr Acc: 76.9231, Val Loss: 0.6066, Val Acc: 83.3333\n",
      "Epoch 9201/1000000, Tr Loss: 0.5146, Tr Acc: 76.9231, Val Loss: 0.6068, Val Acc: 83.3333\n",
      "Epoch 9301/1000000, Tr Loss: 0.4106, Tr Acc: 100.0000, Val Loss: 0.6068, Val Acc: 83.3333\n",
      "Epoch 9401/1000000, Tr Loss: 0.4328, Tr Acc: 84.6154, Val Loss: 0.6066, Val Acc: 83.3333\n",
      "Epoch 9501/1000000, Tr Loss: 0.4008, Tr Acc: 92.3077, Val Loss: 0.6069, Val Acc: 83.3333\n",
      "Epoch 9601/1000000, Tr Loss: 0.4495, Tr Acc: 84.6154, Val Loss: 0.6070, Val Acc: 83.3333\n",
      "Epoch 9701/1000000, Tr Loss: 0.5727, Tr Acc: 84.6154, Val Loss: 0.6070, Val Acc: 83.3333\n",
      "Epoch 9801/1000000, Tr Loss: 0.5289, Tr Acc: 76.9231, Val Loss: 0.6070, Val Acc: 83.3333\n",
      "Epoch 9901/1000000, Tr Loss: 0.4903, Tr Acc: 92.3077, Val Loss: 0.6070, Val Acc: 83.3333\n",
      "Epoch 10001/1000000, Tr Loss: 0.4670, Tr Acc: 84.6154, Val Loss: 0.6069, Val Acc: 83.3333\n",
      "Epoch 10101/1000000, Tr Loss: 0.4786, Tr Acc: 76.9231, Val Loss: 0.6071, Val Acc: 83.3333\n",
      "Epoch 10201/1000000, Tr Loss: 0.4645, Tr Acc: 100.0000, Val Loss: 0.6072, Val Acc: 83.3333\n",
      "Epoch 10301/1000000, Tr Loss: 0.4607, Tr Acc: 92.3077, Val Loss: 0.6071, Val Acc: 83.3333\n",
      "Epoch 10401/1000000, Tr Loss: 0.4848, Tr Acc: 69.2308, Val Loss: 0.6072, Val Acc: 83.3333\n",
      "Epoch 10501/1000000, Tr Loss: 0.4627, Tr Acc: 92.3077, Val Loss: 0.6073, Val Acc: 83.3333\n",
      "Epoch 10601/1000000, Tr Loss: 0.4972, Tr Acc: 84.6154, Val Loss: 0.6070, Val Acc: 83.3333\n",
      "Epoch 10701/1000000, Tr Loss: 0.4810, Tr Acc: 92.3077, Val Loss: 0.6072, Val Acc: 83.3333\n",
      "Epoch 10801/1000000, Tr Loss: 0.4947, Tr Acc: 76.9231, Val Loss: 0.6075, Val Acc: 83.3333\n",
      "Epoch 10901/1000000, Tr Loss: 0.4372, Tr Acc: 84.6154, Val Loss: 0.6075, Val Acc: 83.3333\n",
      "Epoch 11001/1000000, Tr Loss: 0.4185, Tr Acc: 100.0000, Val Loss: 0.6073, Val Acc: 83.3333\n",
      "Epoch 11101/1000000, Tr Loss: 0.4283, Tr Acc: 92.3077, Val Loss: 0.6073, Val Acc: 83.3333\n",
      "Epoch 11201/1000000, Tr Loss: 0.4646, Tr Acc: 84.6154, Val Loss: 0.6074, Val Acc: 83.3333\n",
      "Epoch 11301/1000000, Tr Loss: 0.3927, Tr Acc: 100.0000, Val Loss: 0.6077, Val Acc: 83.3333\n",
      "Epoch 11401/1000000, Tr Loss: 0.4252, Tr Acc: 92.3077, Val Loss: 0.6078, Val Acc: 83.3333\n",
      "Epoch 11501/1000000, Tr Loss: 0.3790, Tr Acc: 92.3077, Val Loss: 0.6079, Val Acc: 83.3333\n",
      "Epoch 11601/1000000, Tr Loss: 0.5283, Tr Acc: 92.3077, Val Loss: 0.6073, Val Acc: 83.3333\n",
      "Epoch 11701/1000000, Tr Loss: 0.4594, Tr Acc: 100.0000, Val Loss: 0.6077, Val Acc: 83.3333\n",
      "Epoch 11801/1000000, Tr Loss: 0.4708, Tr Acc: 84.6154, Val Loss: 0.6079, Val Acc: 83.3333\n",
      "Epoch 11901/1000000, Tr Loss: 0.4709, Tr Acc: 84.6154, Val Loss: 0.6081, Val Acc: 83.3333\n",
      "Epoch 12001/1000000, Tr Loss: 0.4396, Tr Acc: 84.6154, Val Loss: 0.6079, Val Acc: 83.3333\n",
      "Epoch 12101/1000000, Tr Loss: 0.3861, Tr Acc: 100.0000, Val Loss: 0.6081, Val Acc: 83.3333\n",
      "Epoch 12201/1000000, Tr Loss: 0.4037, Tr Acc: 100.0000, Val Loss: 0.6081, Val Acc: 83.3333\n",
      "Epoch 12301/1000000, Tr Loss: 0.3965, Tr Acc: 100.0000, Val Loss: 0.6080, Val Acc: 83.3333\n",
      "Epoch 12401/1000000, Tr Loss: 0.4167, Tr Acc: 92.3077, Val Loss: 0.6083, Val Acc: 83.3333\n",
      "Epoch 12501/1000000, Tr Loss: 0.4009, Tr Acc: 92.3077, Val Loss: 0.6080, Val Acc: 83.3333\n",
      "Epoch 12601/1000000, Tr Loss: 0.4018, Tr Acc: 100.0000, Val Loss: 0.6082, Val Acc: 83.3333\n",
      "Epoch 12701/1000000, Tr Loss: 0.4001, Tr Acc: 92.3077, Val Loss: 0.6081, Val Acc: 83.3333\n",
      "Epoch 12801/1000000, Tr Loss: 0.3873, Tr Acc: 100.0000, Val Loss: 0.6086, Val Acc: 83.3333\n",
      "Epoch 12901/1000000, Tr Loss: 0.4563, Tr Acc: 84.6154, Val Loss: 0.6084, Val Acc: 83.3333\n",
      "Epoch 13001/1000000, Tr Loss: 0.4759, Tr Acc: 84.6154, Val Loss: 0.6088, Val Acc: 83.3333\n",
      "Epoch 13101/1000000, Tr Loss: 0.4383, Tr Acc: 76.9231, Val Loss: 0.6084, Val Acc: 83.3333\n",
      "Epoch 13201/1000000, Tr Loss: 0.3747, Tr Acc: 100.0000, Val Loss: 0.6086, Val Acc: 83.3333\n",
      "Epoch 13301/1000000, Tr Loss: 0.3367, Tr Acc: 100.0000, Val Loss: 0.6089, Val Acc: 83.3333\n",
      "Epoch 13401/1000000, Tr Loss: 0.3569, Tr Acc: 100.0000, Val Loss: 0.6088, Val Acc: 83.3333\n",
      "Epoch 13501/1000000, Tr Loss: 0.3339, Tr Acc: 100.0000, Val Loss: 0.6087, Val Acc: 83.3333\n",
      "Epoch 13601/1000000, Tr Loss: 0.4305, Tr Acc: 100.0000, Val Loss: 0.6083, Val Acc: 83.3333\n",
      "Epoch 13701/1000000, Tr Loss: 0.3436, Tr Acc: 100.0000, Val Loss: 0.6089, Val Acc: 83.3333\n",
      "Epoch 13801/1000000, Tr Loss: 0.3942, Tr Acc: 92.3077, Val Loss: 0.6088, Val Acc: 83.3333\n",
      "Epoch 13901/1000000, Tr Loss: 0.3934, Tr Acc: 92.3077, Val Loss: 0.6089, Val Acc: 83.3333\n",
      "Epoch 14001/1000000, Tr Loss: 0.3768, Tr Acc: 92.3077, Val Loss: 0.6085, Val Acc: 83.3333\n",
      "Epoch 14101/1000000, Tr Loss: 0.3294, Tr Acc: 100.0000, Val Loss: 0.6093, Val Acc: 83.3333\n",
      "Epoch 14201/1000000, Tr Loss: 0.3803, Tr Acc: 84.6154, Val Loss: 0.6090, Val Acc: 83.3333\n",
      "Epoch 14301/1000000, Tr Loss: 0.3668, Tr Acc: 92.3077, Val Loss: 0.6091, Val Acc: 83.3333\n",
      "Epoch 14401/1000000, Tr Loss: 0.4005, Tr Acc: 92.3077, Val Loss: 0.6092, Val Acc: 83.3333\n",
      "Epoch 14501/1000000, Tr Loss: 0.3033, Tr Acc: 100.0000, Val Loss: 0.6090, Val Acc: 83.3333\n",
      "Epoch 14601/1000000, Tr Loss: 0.4452, Tr Acc: 84.6154, Val Loss: 0.6094, Val Acc: 83.3333\n",
      "Epoch 14701/1000000, Tr Loss: 0.3540, Tr Acc: 100.0000, Val Loss: 0.6095, Val Acc: 83.3333\n",
      "Epoch 14801/1000000, Tr Loss: 0.3399, Tr Acc: 92.3077, Val Loss: 0.6096, Val Acc: 83.3333\n",
      "Epoch 14901/1000000, Tr Loss: 0.3774, Tr Acc: 100.0000, Val Loss: 0.6092, Val Acc: 83.3333\n",
      "Epoch 15001/1000000, Tr Loss: 0.3802, Tr Acc: 100.0000, Val Loss: 0.6098, Val Acc: 83.3333\n",
      "Epoch 15101/1000000, Tr Loss: 0.4032, Tr Acc: 92.3077, Val Loss: 0.6099, Val Acc: 83.3333\n",
      "Epoch 15201/1000000, Tr Loss: 0.3098, Tr Acc: 100.0000, Val Loss: 0.6096, Val Acc: 83.3333\n",
      "Epoch 15301/1000000, Tr Loss: 0.3545, Tr Acc: 100.0000, Val Loss: 0.6099, Val Acc: 83.3333\n",
      "Epoch 15401/1000000, Tr Loss: 0.3808, Tr Acc: 92.3077, Val Loss: 0.6098, Val Acc: 83.3333\n",
      "Epoch 15501/1000000, Tr Loss: 0.4198, Tr Acc: 92.3077, Val Loss: 0.6101, Val Acc: 83.3333\n",
      "Epoch 15601/1000000, Tr Loss: 0.3712, Tr Acc: 100.0000, Val Loss: 0.6098, Val Acc: 83.3333\n",
      "Epoch 15701/1000000, Tr Loss: 0.3286, Tr Acc: 100.0000, Val Loss: 0.6098, Val Acc: 100.0000\n",
      "Epoch 15801/1000000, Tr Loss: 0.4323, Tr Acc: 84.6154, Val Loss: 0.6103, Val Acc: 83.3333\n",
      "Epoch 15901/1000000, Tr Loss: 0.3605, Tr Acc: 100.0000, Val Loss: 0.6104, Val Acc: 83.3333\n",
      "Epoch 16001/1000000, Tr Loss: 0.3472, Tr Acc: 100.0000, Val Loss: 0.6103, Val Acc: 83.3333\n",
      "Epoch 16101/1000000, Tr Loss: 0.3778, Tr Acc: 92.3077, Val Loss: 0.6104, Val Acc: 83.3333\n",
      "Epoch 16201/1000000, Tr Loss: 0.3745, Tr Acc: 92.3077, Val Loss: 0.6106, Val Acc: 83.3333\n",
      "Epoch 16301/1000000, Tr Loss: 0.3504, Tr Acc: 92.3077, Val Loss: 0.6105, Val Acc: 100.0000\n",
      "Epoch 16401/1000000, Tr Loss: 0.4271, Tr Acc: 84.6154, Val Loss: 0.6105, Val Acc: 100.0000\n",
      "Epoch 16501/1000000, Tr Loss: 0.3817, Tr Acc: 92.3077, Val Loss: 0.6105, Val Acc: 100.0000\n",
      "Epoch 16601/1000000, Tr Loss: 0.3067, Tr Acc: 100.0000, Val Loss: 0.6107, Val Acc: 100.0000\n",
      "Epoch 16701/1000000, Tr Loss: 0.3942, Tr Acc: 92.3077, Val Loss: 0.6107, Val Acc: 100.0000\n",
      "Epoch 16801/1000000, Tr Loss: 0.2719, Tr Acc: 100.0000, Val Loss: 0.6107, Val Acc: 100.0000\n",
      "Epoch 16901/1000000, Tr Loss: 0.3357, Tr Acc: 100.0000, Val Loss: 0.6110, Val Acc: 100.0000\n",
      "Epoch 17001/1000000, Tr Loss: 0.3994, Tr Acc: 92.3077, Val Loss: 0.6111, Val Acc: 100.0000\n",
      "Epoch 17101/1000000, Tr Loss: 0.2864, Tr Acc: 100.0000, Val Loss: 0.6110, Val Acc: 100.0000\n",
      "Epoch 17201/1000000, Tr Loss: 0.3572, Tr Acc: 92.3077, Val Loss: 0.6112, Val Acc: 100.0000\n",
      "Epoch 17301/1000000, Tr Loss: 0.3297, Tr Acc: 100.0000, Val Loss: 0.6110, Val Acc: 100.0000\n",
      "Epoch 17401/1000000, Tr Loss: 0.3198, Tr Acc: 92.3077, Val Loss: 0.6114, Val Acc: 100.0000\n",
      "Epoch 17501/1000000, Tr Loss: 0.2844, Tr Acc: 100.0000, Val Loss: 0.6114, Val Acc: 100.0000\n",
      "Epoch 17601/1000000, Tr Loss: 0.3911, Tr Acc: 92.3077, Val Loss: 0.6116, Val Acc: 100.0000\n",
      "Epoch 17701/1000000, Tr Loss: 0.3674, Tr Acc: 92.3077, Val Loss: 0.6116, Val Acc: 100.0000\n",
      "Epoch 17801/1000000, Tr Loss: 0.2961, Tr Acc: 100.0000, Val Loss: 0.6118, Val Acc: 100.0000\n",
      "Epoch 17901/1000000, Tr Loss: 0.3580, Tr Acc: 92.3077, Val Loss: 0.6116, Val Acc: 100.0000\n",
      "Epoch 18001/1000000, Tr Loss: 0.2647, Tr Acc: 100.0000, Val Loss: 0.6116, Val Acc: 100.0000\n",
      "Epoch 18101/1000000, Tr Loss: 0.3205, Tr Acc: 92.3077, Val Loss: 0.6119, Val Acc: 100.0000\n",
      "Epoch 18201/1000000, Tr Loss: 0.3353, Tr Acc: 100.0000, Val Loss: 0.6118, Val Acc: 100.0000\n",
      "Epoch 18301/1000000, Tr Loss: 0.3605, Tr Acc: 92.3077, Val Loss: 0.6119, Val Acc: 100.0000\n",
      "Epoch 18401/1000000, Tr Loss: 0.2950, Tr Acc: 100.0000, Val Loss: 0.6119, Val Acc: 100.0000\n",
      "Epoch 18501/1000000, Tr Loss: 0.2698, Tr Acc: 100.0000, Val Loss: 0.6124, Val Acc: 100.0000\n",
      "Epoch 18601/1000000, Tr Loss: 0.3513, Tr Acc: 100.0000, Val Loss: 0.6121, Val Acc: 100.0000\n",
      "Epoch 18701/1000000, Tr Loss: 0.2993, Tr Acc: 100.0000, Val Loss: 0.6124, Val Acc: 100.0000\n",
      "Epoch 18801/1000000, Tr Loss: 0.2876, Tr Acc: 100.0000, Val Loss: 0.6122, Val Acc: 100.0000\n",
      "Epoch 18901/1000000, Tr Loss: 0.2787, Tr Acc: 100.0000, Val Loss: 0.6124, Val Acc: 100.0000\n",
      "Epoch 19001/1000000, Tr Loss: 0.3329, Tr Acc: 92.3077, Val Loss: 0.6124, Val Acc: 100.0000\n",
      "Epoch 19101/1000000, Tr Loss: 0.3328, Tr Acc: 100.0000, Val Loss: 0.6129, Val Acc: 100.0000\n",
      "Epoch 19201/1000000, Tr Loss: 0.3162, Tr Acc: 100.0000, Val Loss: 0.6128, Val Acc: 100.0000\n",
      "Epoch 19301/1000000, Tr Loss: 0.3125, Tr Acc: 100.0000, Val Loss: 0.6127, Val Acc: 100.0000\n",
      "Epoch 19401/1000000, Tr Loss: 0.3271, Tr Acc: 92.3077, Val Loss: 0.6130, Val Acc: 100.0000\n",
      "Epoch 19501/1000000, Tr Loss: 0.2886, Tr Acc: 100.0000, Val Loss: 0.6131, Val Acc: 100.0000\n",
      "Epoch 19601/1000000, Tr Loss: 0.3254, Tr Acc: 100.0000, Val Loss: 0.6133, Val Acc: 100.0000\n",
      "Epoch 19701/1000000, Tr Loss: 0.2718, Tr Acc: 100.0000, Val Loss: 0.6132, Val Acc: 100.0000\n",
      "Epoch 19801/1000000, Tr Loss: 0.2955, Tr Acc: 100.0000, Val Loss: 0.6132, Val Acc: 100.0000\n",
      "Epoch 19901/1000000, Tr Loss: 0.3420, Tr Acc: 100.0000, Val Loss: 0.6134, Val Acc: 100.0000\n",
      "Epoch 20001/1000000, Tr Loss: 0.3122, Tr Acc: 92.3077, Val Loss: 0.6134, Val Acc: 100.0000\n",
      "Epoch 20101/1000000, Tr Loss: 0.2585, Tr Acc: 100.0000, Val Loss: 0.6135, Val Acc: 100.0000\n",
      "Epoch 20201/1000000, Tr Loss: 0.3048, Tr Acc: 100.0000, Val Loss: 0.6136, Val Acc: 100.0000\n",
      "Epoch 20301/1000000, Tr Loss: 0.2863, Tr Acc: 100.0000, Val Loss: 0.6138, Val Acc: 100.0000\n",
      "Epoch 20401/1000000, Tr Loss: 0.3270, Tr Acc: 100.0000, Val Loss: 0.6135, Val Acc: 100.0000\n",
      "Epoch 20501/1000000, Tr Loss: 0.2765, Tr Acc: 100.0000, Val Loss: 0.6139, Val Acc: 100.0000\n",
      "Epoch 20601/1000000, Tr Loss: 0.2774, Tr Acc: 100.0000, Val Loss: 0.6138, Val Acc: 100.0000\n",
      "Epoch 20701/1000000, Tr Loss: 0.2775, Tr Acc: 92.3077, Val Loss: 0.6139, Val Acc: 100.0000\n",
      "Epoch 20801/1000000, Tr Loss: 0.2312, Tr Acc: 100.0000, Val Loss: 0.6141, Val Acc: 100.0000\n",
      "Epoch 20901/1000000, Tr Loss: 0.3163, Tr Acc: 100.0000, Val Loss: 0.6143, Val Acc: 100.0000\n",
      "Epoch 21001/1000000, Tr Loss: 0.3138, Tr Acc: 100.0000, Val Loss: 0.6139, Val Acc: 100.0000\n",
      "Epoch 21101/1000000, Tr Loss: 0.2907, Tr Acc: 100.0000, Val Loss: 0.6145, Val Acc: 100.0000\n",
      "Epoch 21201/1000000, Tr Loss: 0.3029, Tr Acc: 100.0000, Val Loss: 0.6147, Val Acc: 100.0000\n",
      "Epoch 21301/1000000, Tr Loss: 0.2807, Tr Acc: 100.0000, Val Loss: 0.6147, Val Acc: 100.0000\n",
      "Epoch 21401/1000000, Tr Loss: 0.2852, Tr Acc: 100.0000, Val Loss: 0.6148, Val Acc: 100.0000\n",
      "Epoch 21501/1000000, Tr Loss: 0.2613, Tr Acc: 100.0000, Val Loss: 0.6150, Val Acc: 100.0000\n",
      "Epoch 21601/1000000, Tr Loss: 0.2807, Tr Acc: 100.0000, Val Loss: 0.6149, Val Acc: 100.0000\n",
      "Epoch 21701/1000000, Tr Loss: 0.2692, Tr Acc: 100.0000, Val Loss: 0.6147, Val Acc: 100.0000\n",
      "Epoch 21801/1000000, Tr Loss: 0.3333, Tr Acc: 92.3077, Val Loss: 0.6151, Val Acc: 100.0000\n",
      "Epoch 21901/1000000, Tr Loss: 0.2992, Tr Acc: 100.0000, Val Loss: 0.6152, Val Acc: 100.0000\n",
      "Epoch 22001/1000000, Tr Loss: 0.2417, Tr Acc: 100.0000, Val Loss: 0.6154, Val Acc: 100.0000\n",
      "Epoch 22101/1000000, Tr Loss: 0.2584, Tr Acc: 100.0000, Val Loss: 0.6152, Val Acc: 100.0000\n",
      "Epoch 22201/1000000, Tr Loss: 0.2346, Tr Acc: 100.0000, Val Loss: 0.6155, Val Acc: 100.0000\n",
      "Epoch 22301/1000000, Tr Loss: 0.2644, Tr Acc: 100.0000, Val Loss: 0.6156, Val Acc: 100.0000\n",
      "Epoch 22401/1000000, Tr Loss: 0.2795, Tr Acc: 92.3077, Val Loss: 0.6155, Val Acc: 100.0000\n",
      "Epoch 22501/1000000, Tr Loss: 0.2776, Tr Acc: 100.0000, Val Loss: 0.6159, Val Acc: 100.0000\n",
      "Epoch 22601/1000000, Tr Loss: 0.2239, Tr Acc: 100.0000, Val Loss: 0.6160, Val Acc: 100.0000\n",
      "Epoch 22701/1000000, Tr Loss: 0.2198, Tr Acc: 100.0000, Val Loss: 0.6159, Val Acc: 100.0000\n",
      "Epoch 22801/1000000, Tr Loss: 0.2497, Tr Acc: 100.0000, Val Loss: 0.6157, Val Acc: 83.3333\n",
      "Epoch 22901/1000000, Tr Loss: 0.2425, Tr Acc: 100.0000, Val Loss: 0.6163, Val Acc: 83.3333\n",
      "Epoch 23001/1000000, Tr Loss: 0.2655, Tr Acc: 100.0000, Val Loss: 0.6163, Val Acc: 83.3333\n",
      "Epoch 23101/1000000, Tr Loss: 0.2386, Tr Acc: 100.0000, Val Loss: 0.6164, Val Acc: 83.3333\n",
      "Epoch 23201/1000000, Tr Loss: 0.2779, Tr Acc: 100.0000, Val Loss: 0.6166, Val Acc: 83.3333\n",
      "Epoch 23301/1000000, Tr Loss: 0.1931, Tr Acc: 100.0000, Val Loss: 0.6167, Val Acc: 83.3333\n",
      "Epoch 23401/1000000, Tr Loss: 0.2436, Tr Acc: 100.0000, Val Loss: 0.6165, Val Acc: 83.3333\n",
      "Epoch 23501/1000000, Tr Loss: 0.2086, Tr Acc: 100.0000, Val Loss: 0.6168, Val Acc: 83.3333\n",
      "Epoch 23601/1000000, Tr Loss: 0.2326, Tr Acc: 100.0000, Val Loss: 0.6165, Val Acc: 83.3333\n",
      "Epoch 23701/1000000, Tr Loss: 0.2673, Tr Acc: 100.0000, Val Loss: 0.6169, Val Acc: 83.3333\n",
      "Epoch 23801/1000000, Tr Loss: 0.2737, Tr Acc: 100.0000, Val Loss: 0.6169, Val Acc: 83.3333\n",
      "Epoch 23901/1000000, Tr Loss: 0.2750, Tr Acc: 100.0000, Val Loss: 0.6174, Val Acc: 83.3333\n",
      "Epoch 24001/1000000, Tr Loss: 0.2516, Tr Acc: 100.0000, Val Loss: 0.6173, Val Acc: 83.3333\n",
      "Epoch 24101/1000000, Tr Loss: 0.2476, Tr Acc: 100.0000, Val Loss: 0.6174, Val Acc: 83.3333\n",
      "Epoch 24201/1000000, Tr Loss: 0.2236, Tr Acc: 100.0000, Val Loss: 0.6172, Val Acc: 83.3333\n",
      "Epoch 24301/1000000, Tr Loss: 0.2727, Tr Acc: 92.3077, Val Loss: 0.6175, Val Acc: 83.3333\n",
      "Epoch 24401/1000000, Tr Loss: 0.2611, Tr Acc: 92.3077, Val Loss: 0.6173, Val Acc: 83.3333\n",
      "Epoch 24501/1000000, Tr Loss: 0.2649, Tr Acc: 100.0000, Val Loss: 0.6176, Val Acc: 83.3333\n",
      "Epoch 24601/1000000, Tr Loss: 0.2099, Tr Acc: 100.0000, Val Loss: 0.6176, Val Acc: 83.3333\n",
      "Epoch 24701/1000000, Tr Loss: 0.2187, Tr Acc: 100.0000, Val Loss: 0.6176, Val Acc: 83.3333\n",
      "Epoch 24801/1000000, Tr Loss: 0.2317, Tr Acc: 100.0000, Val Loss: 0.6177, Val Acc: 83.3333\n",
      "Epoch 24901/1000000, Tr Loss: 0.2161, Tr Acc: 100.0000, Val Loss: 0.6182, Val Acc: 83.3333\n",
      "Epoch 25001/1000000, Tr Loss: 0.2036, Tr Acc: 100.0000, Val Loss: 0.6183, Val Acc: 83.3333\n",
      "Epoch 25101/1000000, Tr Loss: 0.2548, Tr Acc: 100.0000, Val Loss: 0.6182, Val Acc: 83.3333\n",
      "Epoch 25201/1000000, Tr Loss: 0.2606, Tr Acc: 100.0000, Val Loss: 0.6183, Val Acc: 83.3333\n",
      "Epoch 25301/1000000, Tr Loss: 0.2471, Tr Acc: 100.0000, Val Loss: 0.6184, Val Acc: 83.3333\n",
      "Epoch 25401/1000000, Tr Loss: 0.2249, Tr Acc: 100.0000, Val Loss: 0.6187, Val Acc: 83.3333\n",
      "Epoch 25501/1000000, Tr Loss: 0.2202, Tr Acc: 100.0000, Val Loss: 0.6187, Val Acc: 83.3333\n",
      "Epoch 25601/1000000, Tr Loss: 0.1998, Tr Acc: 100.0000, Val Loss: 0.6188, Val Acc: 66.6667\n",
      "Epoch 25701/1000000, Tr Loss: 0.2253, Tr Acc: 100.0000, Val Loss: 0.6187, Val Acc: 66.6667\n",
      "Epoch 25801/1000000, Tr Loss: 0.2686, Tr Acc: 100.0000, Val Loss: 0.6187, Val Acc: 66.6667\n",
      "Epoch 25901/1000000, Tr Loss: 0.2504, Tr Acc: 100.0000, Val Loss: 0.6189, Val Acc: 66.6667\n",
      "Epoch 26001/1000000, Tr Loss: 0.2339, Tr Acc: 100.0000, Val Loss: 0.6194, Val Acc: 66.6667\n",
      "Epoch 26101/1000000, Tr Loss: 0.2288, Tr Acc: 100.0000, Val Loss: 0.6194, Val Acc: 66.6667\n",
      "Epoch 26201/1000000, Tr Loss: 0.1920, Tr Acc: 100.0000, Val Loss: 0.6196, Val Acc: 66.6667\n",
      "Epoch 26301/1000000, Tr Loss: 0.2148, Tr Acc: 100.0000, Val Loss: 0.6194, Val Acc: 66.6667\n",
      "Epoch 26401/1000000, Tr Loss: 0.2039, Tr Acc: 100.0000, Val Loss: 0.6194, Val Acc: 66.6667\n",
      "Epoch 26501/1000000, Tr Loss: 0.2421, Tr Acc: 100.0000, Val Loss: 0.6197, Val Acc: 66.6667\n",
      "Epoch 26601/1000000, Tr Loss: 0.1957, Tr Acc: 100.0000, Val Loss: 0.6196, Val Acc: 66.6667\n",
      "Epoch 26701/1000000, Tr Loss: 0.2234, Tr Acc: 100.0000, Val Loss: 0.6197, Val Acc: 66.6667\n",
      "Epoch 26801/1000000, Tr Loss: 0.2589, Tr Acc: 100.0000, Val Loss: 0.6200, Val Acc: 66.6667\n",
      "Epoch 26901/1000000, Tr Loss: 0.2219, Tr Acc: 100.0000, Val Loss: 0.6203, Val Acc: 66.6667\n",
      "Epoch 27001/1000000, Tr Loss: 0.2267, Tr Acc: 100.0000, Val Loss: 0.6201, Val Acc: 66.6667\n",
      "Epoch 27101/1000000, Tr Loss: 0.2163, Tr Acc: 100.0000, Val Loss: 0.6202, Val Acc: 66.6667\n",
      "Epoch 27201/1000000, Tr Loss: 0.2336, Tr Acc: 100.0000, Val Loss: 0.6204, Val Acc: 66.6667\n",
      "Epoch 27301/1000000, Tr Loss: 0.2182, Tr Acc: 100.0000, Val Loss: 0.6206, Val Acc: 66.6667\n",
      "Epoch 27401/1000000, Tr Loss: 0.2148, Tr Acc: 100.0000, Val Loss: 0.6207, Val Acc: 66.6667\n",
      "Epoch 27501/1000000, Tr Loss: 0.2107, Tr Acc: 100.0000, Val Loss: 0.6209, Val Acc: 66.6667\n",
      "Epoch 27601/1000000, Tr Loss: 0.2206, Tr Acc: 92.3077, Val Loss: 0.6209, Val Acc: 66.6667\n",
      "Epoch 27701/1000000, Tr Loss: 0.1979, Tr Acc: 100.0000, Val Loss: 0.6212, Val Acc: 66.6667\n",
      "Epoch 27801/1000000, Tr Loss: 0.2065, Tr Acc: 100.0000, Val Loss: 0.6211, Val Acc: 66.6667\n",
      "Epoch 27901/1000000, Tr Loss: 0.1903, Tr Acc: 100.0000, Val Loss: 0.6212, Val Acc: 66.6667\n",
      "Epoch 28001/1000000, Tr Loss: 0.1859, Tr Acc: 100.0000, Val Loss: 0.6213, Val Acc: 66.6667\n",
      "Epoch 28101/1000000, Tr Loss: 0.2363, Tr Acc: 100.0000, Val Loss: 0.6214, Val Acc: 66.6667\n",
      "Epoch 28201/1000000, Tr Loss: 0.1998, Tr Acc: 100.0000, Val Loss: 0.6217, Val Acc: 66.6667\n",
      "Epoch 28301/1000000, Tr Loss: 0.1890, Tr Acc: 100.0000, Val Loss: 0.6219, Val Acc: 66.6667\n",
      "Epoch 28401/1000000, Tr Loss: 0.1854, Tr Acc: 100.0000, Val Loss: 0.6219, Val Acc: 66.6667\n",
      "Epoch 28501/1000000, Tr Loss: 0.2144, Tr Acc: 100.0000, Val Loss: 0.6220, Val Acc: 66.6667\n",
      "Epoch 28601/1000000, Tr Loss: 0.1682, Tr Acc: 100.0000, Val Loss: 0.6220, Val Acc: 66.6667\n",
      "Epoch 28701/1000000, Tr Loss: 0.1724, Tr Acc: 100.0000, Val Loss: 0.6223, Val Acc: 66.6667\n",
      "Epoch 28801/1000000, Tr Loss: 0.2253, Tr Acc: 100.0000, Val Loss: 0.6222, Val Acc: 66.6667\n",
      "Epoch 28901/1000000, Tr Loss: 0.2155, Tr Acc: 100.0000, Val Loss: 0.6225, Val Acc: 66.6667\n",
      "Epoch 29001/1000000, Tr Loss: 0.1506, Tr Acc: 100.0000, Val Loss: 0.6225, Val Acc: 66.6667\n",
      "Epoch 29101/1000000, Tr Loss: 0.1847, Tr Acc: 100.0000, Val Loss: 0.6228, Val Acc: 66.6667\n",
      "Epoch 29201/1000000, Tr Loss: 0.1709, Tr Acc: 100.0000, Val Loss: 0.6231, Val Acc: 66.6667\n",
      "Epoch 29301/1000000, Tr Loss: 0.1890, Tr Acc: 100.0000, Val Loss: 0.6230, Val Acc: 66.6667\n",
      "Epoch 29401/1000000, Tr Loss: 0.2067, Tr Acc: 100.0000, Val Loss: 0.6231, Val Acc: 66.6667\n",
      "Epoch 29501/1000000, Tr Loss: 0.1587, Tr Acc: 100.0000, Val Loss: 0.6236, Val Acc: 66.6667\n",
      "Epoch 29601/1000000, Tr Loss: 0.2017, Tr Acc: 100.0000, Val Loss: 0.6230, Val Acc: 66.6667\n",
      "Epoch 29701/1000000, Tr Loss: 0.1673, Tr Acc: 100.0000, Val Loss: 0.6235, Val Acc: 66.6667\n",
      "Epoch 29801/1000000, Tr Loss: 0.1819, Tr Acc: 100.0000, Val Loss: 0.6236, Val Acc: 66.6667\n",
      "Epoch 29901/1000000, Tr Loss: 0.1782, Tr Acc: 100.0000, Val Loss: 0.6238, Val Acc: 66.6667\n",
      "Epoch 30001/1000000, Tr Loss: 0.1858, Tr Acc: 100.0000, Val Loss: 0.6238, Val Acc: 66.6667\n",
      "Epoch 30101/1000000, Tr Loss: 0.1880, Tr Acc: 100.0000, Val Loss: 0.6242, Val Acc: 66.6667\n",
      "Epoch 30201/1000000, Tr Loss: 0.1846, Tr Acc: 100.0000, Val Loss: 0.6242, Val Acc: 66.6667\n",
      "Epoch 30301/1000000, Tr Loss: 0.1911, Tr Acc: 100.0000, Val Loss: 0.6244, Val Acc: 66.6667\n",
      "Epoch 30401/1000000, Tr Loss: 0.1970, Tr Acc: 100.0000, Val Loss: 0.6240, Val Acc: 66.6667\n",
      "Epoch 30501/1000000, Tr Loss: 0.2127, Tr Acc: 100.0000, Val Loss: 0.6244, Val Acc: 66.6667\n",
      "Epoch 30601/1000000, Tr Loss: 0.1786, Tr Acc: 100.0000, Val Loss: 0.6248, Val Acc: 66.6667\n",
      "Epoch 30701/1000000, Tr Loss: 0.1834, Tr Acc: 100.0000, Val Loss: 0.6246, Val Acc: 66.6667\n",
      "Epoch 30801/1000000, Tr Loss: 0.1547, Tr Acc: 100.0000, Val Loss: 0.6247, Val Acc: 66.6667\n",
      "Epoch 30901/1000000, Tr Loss: 0.1118, Tr Acc: 100.0000, Val Loss: 0.6246, Val Acc: 66.6667\n",
      "Epoch 31001/1000000, Tr Loss: 0.1672, Tr Acc: 100.0000, Val Loss: 0.6251, Val Acc: 66.6667\n",
      "Epoch 31101/1000000, Tr Loss: 0.2007, Tr Acc: 92.3077, Val Loss: 0.6252, Val Acc: 66.6667\n",
      "Epoch 31201/1000000, Tr Loss: 0.1830, Tr Acc: 100.0000, Val Loss: 0.6251, Val Acc: 66.6667\n",
      "Epoch 31301/1000000, Tr Loss: 0.1726, Tr Acc: 100.0000, Val Loss: 0.6253, Val Acc: 66.6667\n",
      "Epoch 31401/1000000, Tr Loss: 0.1720, Tr Acc: 100.0000, Val Loss: 0.6252, Val Acc: 66.6667\n",
      "Epoch 31501/1000000, Tr Loss: 0.2338, Tr Acc: 92.3077, Val Loss: 0.6254, Val Acc: 66.6667\n",
      "Epoch 31601/1000000, Tr Loss: 0.1590, Tr Acc: 100.0000, Val Loss: 0.6261, Val Acc: 66.6667\n",
      "Epoch 31701/1000000, Tr Loss: 0.2065, Tr Acc: 100.0000, Val Loss: 0.6258, Val Acc: 66.6667\n",
      "Epoch 31801/1000000, Tr Loss: 0.1543, Tr Acc: 100.0000, Val Loss: 0.6264, Val Acc: 66.6667\n",
      "Epoch 31901/1000000, Tr Loss: 0.1371, Tr Acc: 100.0000, Val Loss: 0.6264, Val Acc: 66.6667\n",
      "Epoch 32001/1000000, Tr Loss: 0.1514, Tr Acc: 100.0000, Val Loss: 0.6264, Val Acc: 66.6667\n",
      "Epoch 32101/1000000, Tr Loss: 0.1436, Tr Acc: 100.0000, Val Loss: 0.6264, Val Acc: 66.6667\n",
      "Epoch 32201/1000000, Tr Loss: 0.1809, Tr Acc: 100.0000, Val Loss: 0.6266, Val Acc: 66.6667\n",
      "Epoch 32301/1000000, Tr Loss: 0.1552, Tr Acc: 100.0000, Val Loss: 0.6268, Val Acc: 66.6667\n",
      "Epoch 32401/1000000, Tr Loss: 0.1427, Tr Acc: 100.0000, Val Loss: 0.6270, Val Acc: 66.6667\n",
      "Epoch 32501/1000000, Tr Loss: 0.1689, Tr Acc: 100.0000, Val Loss: 0.6271, Val Acc: 66.6667\n",
      "Epoch 32601/1000000, Tr Loss: 0.1471, Tr Acc: 100.0000, Val Loss: 0.6271, Val Acc: 66.6667\n",
      "Epoch 32701/1000000, Tr Loss: 0.1618, Tr Acc: 100.0000, Val Loss: 0.6274, Val Acc: 66.6667\n",
      "Epoch 32801/1000000, Tr Loss: 0.1562, Tr Acc: 100.0000, Val Loss: 0.6273, Val Acc: 66.6667\n",
      "Epoch 32901/1000000, Tr Loss: 0.1453, Tr Acc: 100.0000, Val Loss: 0.6273, Val Acc: 66.6667\n",
      "Epoch 33001/1000000, Tr Loss: 0.1494, Tr Acc: 100.0000, Val Loss: 0.6276, Val Acc: 66.6667\n",
      "Epoch 33101/1000000, Tr Loss: 0.1549, Tr Acc: 100.0000, Val Loss: 0.6281, Val Acc: 66.6667\n",
      "Epoch 33201/1000000, Tr Loss: 0.1471, Tr Acc: 100.0000, Val Loss: 0.6280, Val Acc: 66.6667\n",
      "Epoch 33301/1000000, Tr Loss: 0.1462, Tr Acc: 100.0000, Val Loss: 0.6278, Val Acc: 66.6667\n",
      "Epoch 33401/1000000, Tr Loss: 0.1434, Tr Acc: 100.0000, Val Loss: 0.6280, Val Acc: 66.6667\n",
      "Epoch 33501/1000000, Tr Loss: 0.1703, Tr Acc: 100.0000, Val Loss: 0.6284, Val Acc: 66.6667\n",
      "Epoch 33601/1000000, Tr Loss: 0.1524, Tr Acc: 100.0000, Val Loss: 0.6282, Val Acc: 66.6667\n",
      "Epoch 33701/1000000, Tr Loss: 0.1551, Tr Acc: 100.0000, Val Loss: 0.6288, Val Acc: 66.6667\n",
      "Epoch 33801/1000000, Tr Loss: 0.1197, Tr Acc: 100.0000, Val Loss: 0.6288, Val Acc: 66.6667\n",
      "Epoch 33901/1000000, Tr Loss: 0.1354, Tr Acc: 100.0000, Val Loss: 0.6289, Val Acc: 66.6667\n",
      "Epoch 34001/1000000, Tr Loss: 0.1758, Tr Acc: 100.0000, Val Loss: 0.6290, Val Acc: 66.6667\n",
      "Epoch 34101/1000000, Tr Loss: 0.1803, Tr Acc: 100.0000, Val Loss: 0.6292, Val Acc: 66.6667\n",
      "Epoch 34201/1000000, Tr Loss: 0.1580, Tr Acc: 100.0000, Val Loss: 0.6292, Val Acc: 66.6667\n",
      "Epoch 34301/1000000, Tr Loss: 0.1273, Tr Acc: 100.0000, Val Loss: 0.6296, Val Acc: 66.6667\n",
      "Epoch 34401/1000000, Tr Loss: 0.1392, Tr Acc: 100.0000, Val Loss: 0.6300, Val Acc: 66.6667\n",
      "Epoch 34501/1000000, Tr Loss: 0.1364, Tr Acc: 100.0000, Val Loss: 0.6296, Val Acc: 66.6667\n",
      "Epoch 34601/1000000, Tr Loss: 0.1486, Tr Acc: 100.0000, Val Loss: 0.6298, Val Acc: 66.6667\n",
      "Epoch 34701/1000000, Tr Loss: 0.1702, Tr Acc: 100.0000, Val Loss: 0.6298, Val Acc: 66.6667\n",
      "Epoch 34801/1000000, Tr Loss: 0.1917, Tr Acc: 100.0000, Val Loss: 0.6299, Val Acc: 66.6667\n",
      "Epoch 34901/1000000, Tr Loss: 0.1293, Tr Acc: 100.0000, Val Loss: 0.6300, Val Acc: 66.6667\n",
      "Epoch 35001/1000000, Tr Loss: 0.1461, Tr Acc: 100.0000, Val Loss: 0.6301, Val Acc: 66.6667\n",
      "Epoch 35101/1000000, Tr Loss: 0.1412, Tr Acc: 100.0000, Val Loss: 0.6304, Val Acc: 66.6667\n",
      "Epoch 35201/1000000, Tr Loss: 0.1652, Tr Acc: 100.0000, Val Loss: 0.6308, Val Acc: 66.6667\n",
      "Epoch 35301/1000000, Tr Loss: 0.1526, Tr Acc: 100.0000, Val Loss: 0.6310, Val Acc: 66.6667\n",
      "Epoch 35401/1000000, Tr Loss: 0.1419, Tr Acc: 100.0000, Val Loss: 0.6312, Val Acc: 66.6667\n",
      "Epoch 35501/1000000, Tr Loss: 0.1762, Tr Acc: 100.0000, Val Loss: 0.6311, Val Acc: 66.6667\n",
      "Epoch 35601/1000000, Tr Loss: 0.1407, Tr Acc: 100.0000, Val Loss: 0.6314, Val Acc: 66.6667\n",
      "Epoch 35701/1000000, Tr Loss: 0.1233, Tr Acc: 100.0000, Val Loss: 0.6316, Val Acc: 66.6667\n",
      "Epoch 35801/1000000, Tr Loss: 0.1532, Tr Acc: 100.0000, Val Loss: 0.6317, Val Acc: 66.6667\n",
      "Epoch 35901/1000000, Tr Loss: 0.1444, Tr Acc: 100.0000, Val Loss: 0.6320, Val Acc: 66.6667\n",
      "Epoch 36001/1000000, Tr Loss: 0.1302, Tr Acc: 100.0000, Val Loss: 0.6318, Val Acc: 66.6667\n",
      "Epoch 36101/1000000, Tr Loss: 0.1045, Tr Acc: 100.0000, Val Loss: 0.6320, Val Acc: 66.6667\n",
      "Epoch 36201/1000000, Tr Loss: 0.1862, Tr Acc: 100.0000, Val Loss: 0.6321, Val Acc: 66.6667\n",
      "Epoch 36301/1000000, Tr Loss: 0.1620, Tr Acc: 100.0000, Val Loss: 0.6320, Val Acc: 66.6667\n",
      "Epoch 36401/1000000, Tr Loss: 0.1411, Tr Acc: 100.0000, Val Loss: 0.6325, Val Acc: 66.6667\n",
      "Epoch 36501/1000000, Tr Loss: 0.1426, Tr Acc: 100.0000, Val Loss: 0.6323, Val Acc: 66.6667\n",
      "Epoch 36601/1000000, Tr Loss: 0.1289, Tr Acc: 100.0000, Val Loss: 0.6329, Val Acc: 66.6667\n",
      "Epoch 36701/1000000, Tr Loss: 0.1500, Tr Acc: 100.0000, Val Loss: 0.6329, Val Acc: 66.6667\n",
      "Epoch 36801/1000000, Tr Loss: 0.1208, Tr Acc: 100.0000, Val Loss: 0.6329, Val Acc: 66.6667\n",
      "Epoch 36901/1000000, Tr Loss: 0.1106, Tr Acc: 100.0000, Val Loss: 0.6333, Val Acc: 66.6667\n",
      "Epoch 37001/1000000, Tr Loss: 0.1345, Tr Acc: 100.0000, Val Loss: 0.6332, Val Acc: 66.6667\n",
      "Epoch 37101/1000000, Tr Loss: 0.1292, Tr Acc: 100.0000, Val Loss: 0.6335, Val Acc: 66.6667\n",
      "Epoch 37201/1000000, Tr Loss: 0.1286, Tr Acc: 100.0000, Val Loss: 0.6334, Val Acc: 66.6667\n",
      "Epoch 37301/1000000, Tr Loss: 0.1330, Tr Acc: 100.0000, Val Loss: 0.6338, Val Acc: 66.6667\n",
      "Epoch 37401/1000000, Tr Loss: 0.1551, Tr Acc: 100.0000, Val Loss: 0.6336, Val Acc: 66.6667\n",
      "Epoch 37501/1000000, Tr Loss: 0.1362, Tr Acc: 100.0000, Val Loss: 0.6342, Val Acc: 66.6667\n",
      "Epoch 37601/1000000, Tr Loss: 0.1365, Tr Acc: 100.0000, Val Loss: 0.6341, Val Acc: 66.6667\n",
      "Epoch 37701/1000000, Tr Loss: 0.0957, Tr Acc: 100.0000, Val Loss: 0.6344, Val Acc: 66.6667\n",
      "Epoch 37801/1000000, Tr Loss: 0.1129, Tr Acc: 100.0000, Val Loss: 0.6346, Val Acc: 66.6667\n",
      "Epoch 37901/1000000, Tr Loss: 0.1000, Tr Acc: 100.0000, Val Loss: 0.6344, Val Acc: 66.6667\n",
      "Epoch 38001/1000000, Tr Loss: 0.1208, Tr Acc: 100.0000, Val Loss: 0.6347, Val Acc: 66.6667\n",
      "Epoch 38101/1000000, Tr Loss: 0.1110, Tr Acc: 100.0000, Val Loss: 0.6350, Val Acc: 66.6667\n",
      "Epoch 38201/1000000, Tr Loss: 0.1426, Tr Acc: 100.0000, Val Loss: 0.6350, Val Acc: 66.6667\n",
      "Epoch 38301/1000000, Tr Loss: 0.1154, Tr Acc: 100.0000, Val Loss: 0.6352, Val Acc: 66.6667\n",
      "Epoch 38401/1000000, Tr Loss: 0.1056, Tr Acc: 100.0000, Val Loss: 0.6351, Val Acc: 66.6667\n",
      "Epoch 38501/1000000, Tr Loss: 0.1436, Tr Acc: 100.0000, Val Loss: 0.6355, Val Acc: 66.6667\n",
      "Epoch 38601/1000000, Tr Loss: 0.1114, Tr Acc: 100.0000, Val Loss: 0.6354, Val Acc: 66.6667\n",
      "Epoch 38701/1000000, Tr Loss: 0.0998, Tr Acc: 100.0000, Val Loss: 0.6358, Val Acc: 66.6667\n",
      "Epoch 38801/1000000, Tr Loss: 0.1131, Tr Acc: 100.0000, Val Loss: 0.6361, Val Acc: 66.6667\n",
      "Epoch 38901/1000000, Tr Loss: 0.1250, Tr Acc: 100.0000, Val Loss: 0.6358, Val Acc: 66.6667\n",
      "Epoch 39001/1000000, Tr Loss: 0.0986, Tr Acc: 100.0000, Val Loss: 0.6361, Val Acc: 66.6667\n",
      "Epoch 39101/1000000, Tr Loss: 0.1178, Tr Acc: 100.0000, Val Loss: 0.6365, Val Acc: 66.6667\n",
      "Epoch 39201/1000000, Tr Loss: 0.1124, Tr Acc: 100.0000, Val Loss: 0.6365, Val Acc: 66.6667\n",
      "Epoch 39301/1000000, Tr Loss: 0.1167, Tr Acc: 100.0000, Val Loss: 0.6370, Val Acc: 66.6667\n",
      "Epoch 39401/1000000, Tr Loss: 0.1105, Tr Acc: 100.0000, Val Loss: 0.6370, Val Acc: 66.6667\n",
      "Epoch 39501/1000000, Tr Loss: 0.1001, Tr Acc: 100.0000, Val Loss: 0.6371, Val Acc: 66.6667\n",
      "Epoch 39601/1000000, Tr Loss: 0.1016, Tr Acc: 100.0000, Val Loss: 0.6370, Val Acc: 66.6667\n",
      "Epoch 39701/1000000, Tr Loss: 0.1164, Tr Acc: 100.0000, Val Loss: 0.6374, Val Acc: 66.6667\n",
      "Epoch 39801/1000000, Tr Loss: 0.1186, Tr Acc: 100.0000, Val Loss: 0.6376, Val Acc: 66.6667\n",
      "Epoch 39901/1000000, Tr Loss: 0.0801, Tr Acc: 100.0000, Val Loss: 0.6374, Val Acc: 66.6667\n",
      "Epoch 40001/1000000, Tr Loss: 0.1216, Tr Acc: 100.0000, Val Loss: 0.6376, Val Acc: 66.6667\n",
      "Epoch 40101/1000000, Tr Loss: 0.1092, Tr Acc: 100.0000, Val Loss: 0.6378, Val Acc: 66.6667\n",
      "Epoch 40201/1000000, Tr Loss: 0.1016, Tr Acc: 100.0000, Val Loss: 0.6380, Val Acc: 66.6667\n",
      "Epoch 40301/1000000, Tr Loss: 0.1224, Tr Acc: 100.0000, Val Loss: 0.6381, Val Acc: 66.6667\n",
      "Epoch 40401/1000000, Tr Loss: 0.0918, Tr Acc: 100.0000, Val Loss: 0.6385, Val Acc: 66.6667\n",
      "Epoch 40501/1000000, Tr Loss: 0.1170, Tr Acc: 100.0000, Val Loss: 0.6385, Val Acc: 66.6667\n",
      "Epoch 40601/1000000, Tr Loss: 0.1113, Tr Acc: 100.0000, Val Loss: 0.6386, Val Acc: 66.6667\n",
      "Epoch 40701/1000000, Tr Loss: 0.0900, Tr Acc: 100.0000, Val Loss: 0.6388, Val Acc: 66.6667\n",
      "Epoch 40801/1000000, Tr Loss: 0.0943, Tr Acc: 100.0000, Val Loss: 0.6390, Val Acc: 66.6667\n",
      "Epoch 40901/1000000, Tr Loss: 0.0950, Tr Acc: 100.0000, Val Loss: 0.6393, Val Acc: 66.6667\n",
      "Epoch 41001/1000000, Tr Loss: 0.1001, Tr Acc: 100.0000, Val Loss: 0.6393, Val Acc: 66.6667\n",
      "Epoch 41101/1000000, Tr Loss: 0.1121, Tr Acc: 100.0000, Val Loss: 0.6397, Val Acc: 66.6667\n",
      "Epoch 41201/1000000, Tr Loss: 0.0908, Tr Acc: 100.0000, Val Loss: 0.6395, Val Acc: 66.6667\n",
      "Epoch 41301/1000000, Tr Loss: 0.1091, Tr Acc: 100.0000, Val Loss: 0.6397, Val Acc: 66.6667\n",
      "Epoch 41401/1000000, Tr Loss: 0.1035, Tr Acc: 100.0000, Val Loss: 0.6402, Val Acc: 66.6667\n",
      "Epoch 41501/1000000, Tr Loss: 0.0914, Tr Acc: 100.0000, Val Loss: 0.6405, Val Acc: 66.6667\n",
      "Epoch 41601/1000000, Tr Loss: 0.0986, Tr Acc: 100.0000, Val Loss: 0.6400, Val Acc: 66.6667\n",
      "Epoch 41701/1000000, Tr Loss: 0.1163, Tr Acc: 100.0000, Val Loss: 0.6404, Val Acc: 66.6667\n",
      "Epoch 41801/1000000, Tr Loss: 0.0971, Tr Acc: 100.0000, Val Loss: 0.6406, Val Acc: 66.6667\n",
      "Epoch 41901/1000000, Tr Loss: 0.0970, Tr Acc: 100.0000, Val Loss: 0.6404, Val Acc: 66.6667\n",
      "Epoch 42001/1000000, Tr Loss: 0.1507, Tr Acc: 100.0000, Val Loss: 0.6410, Val Acc: 66.6667\n",
      "Epoch 42101/1000000, Tr Loss: 0.0856, Tr Acc: 100.0000, Val Loss: 0.6410, Val Acc: 66.6667\n",
      "Epoch 42201/1000000, Tr Loss: 0.0869, Tr Acc: 100.0000, Val Loss: 0.6412, Val Acc: 66.6667\n",
      "Epoch 42301/1000000, Tr Loss: 0.0860, Tr Acc: 100.0000, Val Loss: 0.6413, Val Acc: 66.6667\n",
      "Epoch 42401/1000000, Tr Loss: 0.0923, Tr Acc: 100.0000, Val Loss: 0.6418, Val Acc: 66.6667\n",
      "Epoch 42501/1000000, Tr Loss: 0.0963, Tr Acc: 100.0000, Val Loss: 0.6416, Val Acc: 66.6667\n",
      "Epoch 42601/1000000, Tr Loss: 0.1119, Tr Acc: 100.0000, Val Loss: 0.6420, Val Acc: 66.6667\n",
      "Epoch 42701/1000000, Tr Loss: 0.0896, Tr Acc: 100.0000, Val Loss: 0.6419, Val Acc: 66.6667\n"
     ]
    },
    {
     "ename": "KeyboardInterrupt",
     "evalue": "",
     "output_type": "error",
     "traceback": [
      "\u001b[0;31m---------------------------------------------------------------------------\u001b[0m",
      "\u001b[0;31mKeyboardInterrupt\u001b[0m                         Traceback (most recent call last)",
      "Cell \u001b[0;32mIn [31], line 7\u001b[0m\n\u001b[1;32m      3\u001b[0m optimizer \u001b[38;5;241m=\u001b[39m optim\u001b[38;5;241m.\u001b[39mAdam(net\u001b[38;5;241m.\u001b[39mparameters(), lr\u001b[38;5;241m=\u001b[39mconfig\u001b[38;5;241m.\u001b[39mlearning_rate)\n\u001b[1;32m      4\u001b[0m criterion \u001b[38;5;241m=\u001b[39m nn\u001b[38;5;241m.\u001b[39mCrossEntropyLoss()\n\u001b[0;32m----> 7\u001b[0m train_loss,valid_loss,train_accuracy,valid_accuracy \u001b[38;5;241m=\u001b[39m\u001b[43mtrain\u001b[49m\u001b[43m(\u001b[49m\n\u001b[1;32m      8\u001b[0m \u001b[43m    \u001b[49m\u001b[43mmodel\u001b[49m\u001b[43m \u001b[49m\u001b[38;5;241;43m=\u001b[39;49m\u001b[43m \u001b[49m\u001b[43mnet\u001b[49m\u001b[43m,\u001b[49m\n\u001b[1;32m      9\u001b[0m \u001b[43m    \u001b[49m\u001b[43mgpu_num\u001b[49m\u001b[43m \u001b[49m\u001b[38;5;241;43m=\u001b[39;49m\u001b[43m \u001b[49m\u001b[38;5;241;43m0\u001b[39;49m\u001b[43m,\u001b[49m\n\u001b[1;32m     10\u001b[0m \u001b[43m    \u001b[49m\u001b[43mtrain_loader\u001b[49m\u001b[43m \u001b[49m\u001b[38;5;241;43m=\u001b[39;49m\u001b[43m \u001b[49m\u001b[43mtrain_loader\u001b[49m\u001b[43m,\u001b[49m\n\u001b[1;32m     11\u001b[0m \u001b[43m    \u001b[49m\u001b[43mtest_loader\u001b[49m\u001b[43m \u001b[49m\u001b[38;5;241;43m=\u001b[39;49m\u001b[43m \u001b[49m\u001b[43mtest_loader\u001b[49m\u001b[43m,\u001b[49m\n\u001b[1;32m     12\u001b[0m \u001b[43m    \u001b[49m\u001b[43moptimizer\u001b[49m\u001b[43m \u001b[49m\u001b[38;5;241;43m=\u001b[39;49m\u001b[43m \u001b[49m\u001b[43moptimizer\u001b[49m\u001b[43m  \u001b[49m\u001b[43m,\u001b[49m\n\u001b[1;32m     13\u001b[0m \u001b[43m    \u001b[49m\u001b[43mcriterion\u001b[49m\u001b[43m \u001b[49m\u001b[38;5;241;43m=\u001b[39;49m\u001b[43m \u001b[49m\u001b[43mcriterion\u001b[49m\u001b[43m \u001b[49m\u001b[43m,\u001b[49m\n\u001b[1;32m     14\u001b[0m \u001b[43m    \u001b[49m\u001b[43mvail_loader\u001b[49m\u001b[43m \u001b[49m\u001b[38;5;241;43m=\u001b[39;49m\u001b[43m \u001b[49m\u001b[38;5;28;43;01mNone\u001b[39;49;00m\u001b[43m,\u001b[49m\n\u001b[1;32m     15\u001b[0m \u001b[43m    \u001b[49m\u001b[43mwand\u001b[49m\u001b[43m \u001b[49m\u001b[38;5;241;43m=\u001b[39;49m\u001b[43m \u001b[49m\u001b[43mwand\u001b[49m\n\u001b[1;32m     16\u001b[0m \u001b[43m         \u001b[49m\u001b[43m)\u001b[49m\n\u001b[1;32m     19\u001b[0m wandb\u001b[38;5;241m.\u001b[39malert(\n\u001b[1;32m     20\u001b[0m             title\u001b[38;5;241m=\u001b[39m\u001b[38;5;124m'\u001b[39m\u001b[38;5;124mFinish\u001b[39m\u001b[38;5;124m'\u001b[39m,\n\u001b[1;32m     21\u001b[0m             text\u001b[38;5;241m=\u001b[39m\u001b[38;5;124mf\u001b[39m\u001b[38;5;124m'\u001b[39m\u001b[38;5;124mFinishing training\u001b[39m\u001b[38;5;124m'\u001b[39m,\n\u001b[1;32m     22\u001b[0m         )\n",
      "File \u001b[0;32m~/eeg_mi/common.py:91\u001b[0m, in \u001b[0;36mtrain\u001b[0;34m(model, gpu_num, train_loader, test_loader, optimizer, criterion, wand, vail_loader, cross)\u001b[0m\n\u001b[1;32m     89\u001b[0m iter_loss \u001b[38;5;241m+\u001b[39m\u001b[38;5;241m=\u001b[39m loss\u001b[38;5;241m.\u001b[39mitem()\n\u001b[1;32m     90\u001b[0m loss\u001b[38;5;241m.\u001b[39mbackward()\n\u001b[0;32m---> 91\u001b[0m \u001b[43moptimizer\u001b[49m\u001b[38;5;241;43m.\u001b[39;49m\u001b[43mstep\u001b[49m\u001b[43m(\u001b[49m\u001b[43m)\u001b[49m\n\u001b[1;32m     93\u001b[0m metrics \u001b[38;5;241m=\u001b[39m {\u001b[38;5;124m\"\u001b[39m\u001b[38;5;124mtrain/train_loss\u001b[39m\u001b[38;5;124m\"\u001b[39m: loss}\n\u001b[1;32m     94\u001b[0m \u001b[38;5;28;01mif\u001b[39;00m i \u001b[38;5;241m+\u001b[39m \u001b[38;5;241m1\u001b[39m \u001b[38;5;241m<\u001b[39m config\u001b[38;5;241m.\u001b[39mnum_step_per_epoch:\n\u001b[1;32m     95\u001b[0m     \u001b[38;5;66;03m# 🐝 Log train metrics to wandb \u001b[39;00m\n",
      "File \u001b[0;32m~/.local/lib/python3.8/site-packages/torch/optim/optimizer.py:113\u001b[0m, in \u001b[0;36mOptimizer._hook_for_profile.<locals>.profile_hook_step.<locals>.wrapper\u001b[0;34m(*args, **kwargs)\u001b[0m\n\u001b[1;32m    111\u001b[0m profile_name \u001b[38;5;241m=\u001b[39m \u001b[38;5;124m\"\u001b[39m\u001b[38;5;124mOptimizer.step#\u001b[39m\u001b[38;5;132;01m{}\u001b[39;00m\u001b[38;5;124m.step\u001b[39m\u001b[38;5;124m\"\u001b[39m\u001b[38;5;241m.\u001b[39mformat(obj\u001b[38;5;241m.\u001b[39m\u001b[38;5;18m__class__\u001b[39m\u001b[38;5;241m.\u001b[39m\u001b[38;5;18m__name__\u001b[39m)\n\u001b[1;32m    112\u001b[0m \u001b[38;5;28;01mwith\u001b[39;00m torch\u001b[38;5;241m.\u001b[39mautograd\u001b[38;5;241m.\u001b[39mprofiler\u001b[38;5;241m.\u001b[39mrecord_function(profile_name):\n\u001b[0;32m--> 113\u001b[0m     \u001b[38;5;28;01mreturn\u001b[39;00m \u001b[43mfunc\u001b[49m\u001b[43m(\u001b[49m\u001b[38;5;241;43m*\u001b[39;49m\u001b[43margs\u001b[49m\u001b[43m,\u001b[49m\u001b[43m \u001b[49m\u001b[38;5;241;43m*\u001b[39;49m\u001b[38;5;241;43m*\u001b[39;49m\u001b[43mkwargs\u001b[49m\u001b[43m)\u001b[49m\n",
      "File \u001b[0;32m~/.local/lib/python3.8/site-packages/torch/autograd/grad_mode.py:27\u001b[0m, in \u001b[0;36m_DecoratorContextManager.__call__.<locals>.decorate_context\u001b[0;34m(*args, **kwargs)\u001b[0m\n\u001b[1;32m     24\u001b[0m \u001b[38;5;129m@functools\u001b[39m\u001b[38;5;241m.\u001b[39mwraps(func)\n\u001b[1;32m     25\u001b[0m \u001b[38;5;28;01mdef\u001b[39;00m \u001b[38;5;21mdecorate_context\u001b[39m(\u001b[38;5;241m*\u001b[39margs, \u001b[38;5;241m*\u001b[39m\u001b[38;5;241m*\u001b[39mkwargs):\n\u001b[1;32m     26\u001b[0m     \u001b[38;5;28;01mwith\u001b[39;00m \u001b[38;5;28mself\u001b[39m\u001b[38;5;241m.\u001b[39mclone():\n\u001b[0;32m---> 27\u001b[0m         \u001b[38;5;28;01mreturn\u001b[39;00m \u001b[43mfunc\u001b[49m\u001b[43m(\u001b[49m\u001b[38;5;241;43m*\u001b[39;49m\u001b[43margs\u001b[49m\u001b[43m,\u001b[49m\u001b[43m \u001b[49m\u001b[38;5;241;43m*\u001b[39;49m\u001b[38;5;241;43m*\u001b[39;49m\u001b[43mkwargs\u001b[49m\u001b[43m)\u001b[49m\n",
      "File \u001b[0;32m~/.local/lib/python3.8/site-packages/torch/optim/adam.py:132\u001b[0m, in \u001b[0;36mAdam.step\u001b[0;34m(self, closure)\u001b[0m\n\u001b[1;32m    130\u001b[0m \u001b[38;5;28;01mif\u001b[39;00m p\u001b[38;5;241m.\u001b[39mgrad \u001b[38;5;129;01mis\u001b[39;00m \u001b[38;5;129;01mnot\u001b[39;00m \u001b[38;5;28;01mNone\u001b[39;00m:\n\u001b[1;32m    131\u001b[0m     params_with_grad\u001b[38;5;241m.\u001b[39mappend(p)\n\u001b[0;32m--> 132\u001b[0m     \u001b[38;5;28;01mif\u001b[39;00m \u001b[43mp\u001b[49m\u001b[38;5;241;43m.\u001b[39;49m\u001b[43mgrad\u001b[49m\u001b[38;5;241m.\u001b[39mis_sparse:\n\u001b[1;32m    133\u001b[0m         \u001b[38;5;28;01mraise\u001b[39;00m \u001b[38;5;167;01mRuntimeError\u001b[39;00m(\u001b[38;5;124m'\u001b[39m\u001b[38;5;124mAdam does not support sparse gradients, please consider SparseAdam instead\u001b[39m\u001b[38;5;124m'\u001b[39m)\n\u001b[1;32m    134\u001b[0m     grads\u001b[38;5;241m.\u001b[39mappend(p\u001b[38;5;241m.\u001b[39mgrad)\n",
      "File \u001b[0;32m~/.local/lib/python3.8/site-packages/torch/_tensor.py:1079\u001b[0m, in \u001b[0;36mTensor.grad\u001b[0;34m(self)\u001b[0m\n\u001b[1;32m   1071\u001b[0m \u001b[38;5;129m@property\u001b[39m\n\u001b[1;32m   1072\u001b[0m \u001b[38;5;28;01mdef\u001b[39;00m \u001b[38;5;21mgrad\u001b[39m(\u001b[38;5;28mself\u001b[39m):\n\u001b[1;32m   1073\u001b[0m     \u001b[38;5;124;03m\"\"\"\u001b[39;00m\n\u001b[1;32m   1074\u001b[0m \u001b[38;5;124;03m    This attribute is ``None`` by default and becomes a Tensor the first time a call to\u001b[39;00m\n\u001b[1;32m   1075\u001b[0m \u001b[38;5;124;03m    :func:`backward` computes gradients for ``self``.\u001b[39;00m\n\u001b[1;32m   1076\u001b[0m \u001b[38;5;124;03m    The attribute will then contain the gradients computed and future calls to\u001b[39;00m\n\u001b[1;32m   1077\u001b[0m \u001b[38;5;124;03m    :func:`backward` will accumulate (add) gradients into it.\u001b[39;00m\n\u001b[1;32m   1078\u001b[0m \u001b[38;5;124;03m    \"\"\"\u001b[39;00m\n\u001b[0;32m-> 1079\u001b[0m     \u001b[38;5;28;01mif\u001b[39;00m \u001b[43mhas_torch_function_unary\u001b[49m\u001b[43m(\u001b[49m\u001b[38;5;28;43mself\u001b[39;49m\u001b[43m)\u001b[49m:\n\u001b[1;32m   1080\u001b[0m         \u001b[38;5;66;03m# TODO mypy doesn't support @property, see: https://github.com/python/mypy/issues/6185\u001b[39;00m\n\u001b[1;32m   1081\u001b[0m         \u001b[38;5;28;01mreturn\u001b[39;00m handle_torch_function(Tensor\u001b[38;5;241m.\u001b[39mgrad\u001b[38;5;241m.\u001b[39m\u001b[38;5;21m__get__\u001b[39m, (\u001b[38;5;28mself\u001b[39m,), \u001b[38;5;28mself\u001b[39m)  \u001b[38;5;66;03m# type: ignore[attr-defined]\u001b[39;00m\n\u001b[1;32m   1083\u001b[0m     \u001b[38;5;28;01mreturn\u001b[39;00m \u001b[38;5;28mself\u001b[39m\u001b[38;5;241m.\u001b[39m_grad\n",
      "\u001b[0;31mKeyboardInterrupt\u001b[0m: "
     ]
    }
   ],
   "source": [
    "from common import train\n",
    "#net = ConvNet().cuda(0)\n",
    "optimizer = optim.Adam(net.parameters(), lr=config.learning_rate)\n",
    "criterion = nn.CrossEntropyLoss()\n",
    "\n",
    "\n",
    "train_loss,valid_loss,train_accuracy,valid_accuracy =train(\n",
    "    model = net,\n",
    "    gpu_num = 0,\n",
    "    train_loader = train_loader,\n",
    "    test_loader = test_loader,\n",
    "    optimizer = optimizer  ,\n",
    "    criterion = criterion ,\n",
    "    vail_loader = None,\n",
    "    wand = wand\n",
    "         )\n",
    "\n",
    "\n",
    "wandb.alert(\n",
    "            title='Finish',\n",
    "            text=f'Finishing training',\n",
    "        )"
   ]
  },
  {
   "cell_type": "code",
   "execution_count": null,
   "id": "9e963254-e8b4-4a34-b5e0-e9e37f6f620d",
   "metadata": {},
   "outputs": [],
   "source": []
  },
  {
   "cell_type": "code",
   "execution_count": null,
   "id": "3f6aeaf6-7134-4903-8b8f-7c77a0572dcb",
   "metadata": {},
   "outputs": [],
   "source": []
  },
  {
   "cell_type": "code",
   "execution_count": null,
   "id": "a6d6475f-8945-4ca2-b4f8-2a8c1c4ca9ab",
   "metadata": {},
   "outputs": [],
   "source": []
  },
  {
   "cell_type": "code",
   "execution_count": null,
   "id": "37838c96-4e84-464b-a8e2-f22414dcbfc4",
   "metadata": {},
   "outputs": [],
   "source": []
  },
  {
   "cell_type": "code",
   "execution_count": null,
   "id": "de935f5b-431e-4ce7-8334-bd77600ca4b2",
   "metadata": {},
   "outputs": [],
   "source": []
  },
  {
   "cell_type": "markdown",
   "id": "933e1620-4c45-4616-b427-6bb66dae4812",
   "metadata": {},
   "source": [
    "### Validate Findtune"
   ]
  },
  {
   "cell_type": "code",
   "execution_count": 52,
   "id": "9e8341e5-ea95-4ae6-8418-1f792b15c39b",
   "metadata": {},
   "outputs": [],
   "source": [
    "del net"
   ]
  },
  {
   "cell_type": "code",
   "execution_count": 53,
   "id": "5c0fc2ea-ae32-4a90-a92a-eae5d1effcfc",
   "metadata": {},
   "outputs": [],
   "source": [
    "net = ConvNet(in_channels, out_channels, kernel_size, out_size).cuda(0)"
   ]
  },
  {
   "cell_type": "code",
   "execution_count": 68,
   "id": "79516f20-09c3-4d57-8a8f-1fd032fc77a3",
   "metadata": {},
   "outputs": [
    {
     "data": {
      "text/plain": [
       "<All keys matched successfully>"
      ]
     },
     "execution_count": 68,
     "metadata": {},
     "output_type": "execute_result"
    }
   ],
   "source": [
    "net.load_state_dict(torch.load('OurData_CNN_3layer_cuttime_2class_S49_findtune_freeze_1_2_online_ex_find_MI_C3_C4/0.5584_OurData_CNN_3layer_cuttime_2class_S49_findtune_freeze_1_2_online_ex_find_MI_C3_C4_0.5584_83.3333'))"
   ]
  },
  {
   "cell_type": "code",
   "execution_count": 70,
   "id": "bcaf2d7b-54f5-4f94-9ea7-fb4ea80e05f2",
   "metadata": {},
   "outputs": [
    {
     "name": "stdout",
     "output_type": "stream",
     "text": [
      "\n",
      "\n",
      "<Raw | S001R04.fif, 9 x 36305 (145.2 s), ~2.5 MB, data loaded>\n",
      "Raw done\n",
      "Setting up band-stop filter\n",
      "\n",
      "FIR filter parameters\n",
      "---------------------\n",
      "Designing a one-pass, zero-phase, non-causal bandstop filter:\n",
      "- Windowed time-domain design (firwin) method\n",
      "- Hamming window with 0.0194 passband ripple and 53 dB stopband attenuation\n",
      "- Lower transition bandwidth: 0.50 Hz\n",
      "- Upper transition bandwidth: 0.50 Hz\n",
      "- Filter length: 1651 samples (6.604 sec)\n",
      "\n",
      "Filtering raw data in 1 contiguous segment\n",
      "Setting up band-pass filter from 8 - 14 Hz\n",
      "\n",
      "FIR filter parameters\n",
      "---------------------\n",
      "Designing a one-pass, zero-phase, non-causal bandpass filter:\n",
      "- Windowed time-domain design (firwin) method\n",
      "- Hamming window with 0.0194 passband ripple and 53 dB stopband attenuation\n",
      "- Lower passband edge: 8.00\n",
      "- Lower transition bandwidth: 2.00 Hz (-6 dB cutoff frequency: 7.00 Hz)\n",
      "- Upper passband edge: 14.00 Hz\n",
      "- Upper transition bandwidth: 3.50 Hz (-6 dB cutoff frequency: 15.75 Hz)\n",
      "- Filter length: 413 samples (1.652 sec)\n",
      "\n",
      "Filter done\n"
     ]
    },
    {
     "name": "stderr",
     "output_type": "stream",
     "text": [
      "/home/nutapolt/eeg_mi/common.py:627: RuntimeWarning: This filename (S001/S001R04.fif) does not conform to MNE naming conventions. All raw files should end with raw.fif, raw_sss.fif, raw_tsss.fif, _meg.fif, _eeg.fif, _ieeg.fif, raw.fif.gz, raw_sss.fif.gz, raw_tsss.fif.gz, _meg.fif.gz, _eeg.fif.gz or _ieeg.fif.gz\n",
      "  raw = mne.io.read_raw_fif( path_file , preload=True, verbose='WARNING' )\n",
      "/home/nutapolt/eeg_mi/common.py:627: RuntimeWarning: This filename (S001/S001R04.fif) does not conform to MNE naming conventions. All raw files should end with raw.fif, raw_sss.fif, raw_tsss.fif, _meg.fif, _eeg.fif, _ieeg.fif, raw.fif.gz, raw_sss.fif.gz, raw_tsss.fif.gz, _meg.fif.gz, _eeg.fif.gz or _ieeg.fif.gz\n",
      "  raw = mne.io.read_raw_fif( path_file , preload=True, verbose='WARNING' )\n",
      "[Parallel(n_jobs=1)]: Using backend SequentialBackend with 1 concurrent workers.\n",
      "[Parallel(n_jobs=1)]: Done   1 out of   1 | elapsed:    0.0s remaining:    0.0s\n",
      "[Parallel(n_jobs=1)]: Done   2 out of   2 | elapsed:    0.0s remaining:    0.0s\n",
      "[Parallel(n_jobs=1)]: Done   3 out of   3 | elapsed:    0.0s remaining:    0.0s\n",
      "[Parallel(n_jobs=1)]: Done   4 out of   4 | elapsed:    0.0s remaining:    0.0s\n",
      "[Parallel(n_jobs=1)]: Done   8 out of   8 | elapsed:    0.0s finished\n",
      "[Parallel(n_jobs=1)]: Using backend SequentialBackend with 1 concurrent workers.\n",
      "[Parallel(n_jobs=1)]: Done   1 out of   1 | elapsed:    0.0s remaining:    0.0s\n",
      "[Parallel(n_jobs=1)]: Done   2 out of   2 | elapsed:    0.0s remaining:    0.0s\n",
      "[Parallel(n_jobs=1)]: Done   3 out of   3 | elapsed:    0.0s remaining:    0.0s\n",
      "[Parallel(n_jobs=1)]: Done   4 out of   4 | elapsed:    0.0s remaining:    0.0s\n",
      "[Parallel(n_jobs=1)]: Done   8 out of   8 | elapsed:    0.0s finished\n"
     ]
    }
   ],
   "source": [
    "# home directory + datasets folder\n",
    "#path = '/content/drive/MyDrive/MNE-eegbci-data/files/eegmmidb/'\n",
    "path = ''\n",
    "base_url = 'https://physionet.org/files/eegmmidb/'\n",
    "#runs = [4, 6, 8, 10, 12,14]\n",
    "#runs = [1,2,3,4,5,6,7,8,9,10,11,12,13,14,15,16,17,18,19,20]\n",
    "#runs = [3,4,5,6,7,8,9,10,11,12,13,14]\n",
    "runs = [4]\n",
    "#runs = [11,13,15,17]\n",
    "#runs = [4,6,8,10]\n",
    "#runs = [3,5,7,9,4,6,8,10]\n",
    "subjects = [1]\n",
    "\n",
    "print(path)\n",
    "eeg = EEG_fif(path, base_url, subjects, runs)\n",
    "raw=eeg.data_to_raw()\n",
    "print(raw)\n",
    "print(\"Raw done\")\n",
    "# apply filter\n",
    "#freq = (1., 45.)\n",
    "\n",
    "#raw=eeg.raw_ica(n_components=8,max_iter=1000)\n",
    "raw=raw.notch_filter([50,75,100])\n",
    "raw=raw.filter( 8,14, method='fir', verbose=20)\n",
    "\n",
    "\n",
    "print(\"Filter done\")"
   ]
  },
  {
   "cell_type": "raw",
   "id": "589547b4-828d-4c58-8c68-f9874762782e",
   "metadata": {},
   "source": [
    "# home directory + datasets folder\n",
    "#path = '/content/drive/MyDrive/MNE-eegbci-data/files/eegmmidb/'\n",
    "path = ''\n",
    "base_url = 'https://physionet.org/files/eegmmidb/'\n",
    "#runs = [4, 6, 8, 10, 12,14]\n",
    "#runs = [3,5,7,9,11,13]\n",
    "#runs = [3,4,5,6,7,8,9,10,11,12,13,14]\n",
    "\n",
    "runs = [3]\n",
    "#runs = [4,6,8,10]\n",
    "#runs = [3,5,7,9,4,6,8,10]\n",
    "subjects = [1]\n",
    "\n",
    "print(path)\n",
    "eeg = EEG_fif(path, base_url, subjects, runs)\n",
    "raw=eeg.data_to_raw()\n",
    "\n",
    "print(\"Raw done\")\n",
    "# apply filter\n",
    "#freq = (1., 45.)\n",
    "\n",
    "#raw=eeg.raw_ica(n_components=8,max_iter=1000)\n",
    "raw=raw.notch_filter([50,75,100])\n",
    "raw=raw.filter( 8,14, method='fir', verbose=20)\n",
    "\n",
    "\n",
    "print(\"Filter done\")"
   ]
  },
  {
   "cell_type": "code",
   "execution_count": 71,
   "id": "c9873ce1-7e6b-4771-a294-f64ced739da3",
   "metadata": {},
   "outputs": [
    {
     "data": {
      "text/plain": [
       "['C3', 'C4', 'STIM MARKERS']"
      ]
     },
     "execution_count": 71,
     "metadata": {},
     "output_type": "execute_result"
    }
   ],
   "source": [
    "raw.ch_names\n",
    "raw = raw.drop_channels(['Fp1', 'Fp2', 'P7', 'P8', 'O1', 'O2'])\n",
    "raw.ch_names"
   ]
  },
  {
   "cell_type": "code",
   "execution_count": 72,
   "id": "57cf2937-a4d4-49a3-ab79-362b7774fb34",
   "metadata": {},
   "outputs": [
    {
     "name": "stdout",
     "output_type": "stream",
     "text": [
      "60 events found\n",
      "Event IDs: [1 2 4]\n",
      "Not setting metadata\n",
      "20 matching events found\n",
      "Applying baseline correction (mode: mean)\n",
      "0 projection items activated\n",
      "Using data from preloaded Raw for 20 events and 1751 original time points ...\n",
      "1 bad epochs dropped\n"
     ]
    },
    {
     "name": "stderr",
     "output_type": "stream",
     "text": [
      "/home/nutapolt/eeg_mi/common.py:657: RuntimeWarning: No matching events found for 3 (event id 3)\n",
      "  epochs = mne.Epochs(\n"
     ]
    }
   ],
   "source": [
    "#epochs=eeg.epochs_visu(raw,tmin=0,tmax=6,baseline=(0,3))\n",
    "epochs=eeg.epochs_visu(raw,tmin=0,tmax=7,baseline=(0,2))"
   ]
  },
  {
   "cell_type": "code",
   "execution_count": 73,
   "id": "7d06c694-28b6-425b-8345-11a011e8eddb",
   "metadata": {},
   "outputs": [
    {
     "name": "stdout",
     "output_type": "stream",
     "text": [
      "(19, 2, 1751)\n",
      "(19, 2, 1438)\n"
     ]
    },
    {
     "data": {
      "text/plain": [
       "array([0, 1, 0, 1, 0, 1, 0, 1, 0, 1, 0, 1, 0, 1, 0, 1, 0, 1, 0])"
      ]
     },
     "execution_count": 73,
     "metadata": {},
     "output_type": "execute_result"
    }
   ],
   "source": [
    "#X = X[:, :,np.newaxis,:]\n",
    "X, y = eeg.get_X_y(epochs)\n",
    "print(X.shape)\n",
    "\n",
    "#X=X[:,:,int(0.25*250):1500]\n",
    "X=X[:,:,int(0.25*250):int(1750-(250*1))]\n",
    "#X = X[:, np.newaxis,:,:]\n",
    "print(X.shape)\n",
    "y=y-1\n",
    "y"
   ]
  },
  {
   "cell_type": "code",
   "execution_count": 74,
   "id": "e4188cb9-5275-4a16-9b08-d1a50e914ff0",
   "metadata": {},
   "outputs": [],
   "source": [
    "\n",
    "batch_size = 1438\n",
    "\n",
    "\n",
    "\n"
   ]
  },
  {
   "cell_type": "code",
   "execution_count": null,
   "id": "f0028a72-22a5-4950-aea0-1cdcf4f9376b",
   "metadata": {},
   "outputs": [],
   "source": []
  },
  {
   "cell_type": "code",
   "execution_count": null,
   "id": "a66ab444-dff1-4026-bfa9-0672f0d3f7dc",
   "metadata": {},
   "outputs": [],
   "source": []
  },
  {
   "cell_type": "code",
   "execution_count": null,
   "id": "c0b427c4-c295-4603-9b26-f8bbece82aa4",
   "metadata": {},
   "outputs": [],
   "source": []
  },
  {
   "cell_type": "code",
   "execution_count": 75,
   "id": "4cd67654-6054-4d7c-ae64-d9caf2f5f29e",
   "metadata": {},
   "outputs": [],
   "source": [
    "test_loader = create_dataloader(X, y, batch_size=batch_size)\n",
    "num_step =math.ceil(len(test_loader.dataset) / batch_size)"
   ]
  },
  {
   "cell_type": "code",
   "execution_count": 76,
   "id": "3b448572-ac9b-439f-b017-dc5525b024a1",
   "metadata": {},
   "outputs": [
    {
     "name": "stdout",
     "output_type": "stream",
     "text": [
      " Val Acc: 52.6316\n"
     ]
    }
   ],
   "source": [
    "# Train the model\n",
    "num_epochs = 1\n",
    "\n",
    "train_loss = []\n",
    "valid_loss = []\n",
    "train_accuracy = []\n",
    "valid_accuracy = []\n",
    "old_acc = 0\n",
    "for epoch in range(num_epochs):\n",
    "\n",
    "    loss = 0.0\n",
    "    correct = 0\n",
    "    iterations = 0\n",
    "    net.eval()\n",
    "    for i, (items, classes) in enumerate(test_loader):\n",
    "        items = Variable(items)\n",
    "        classes = Variable(classes)\n",
    "        \n",
    "        if cuda.is_available():\n",
    "            items = items.cuda(0)\n",
    "            classes = classes.cuda(0)\n",
    "        \n",
    "        outputs = net(items)\n",
    "        #loss += criterion(outputs, classes).item()\n",
    "        \n",
    "        _, predicted = torch.max(outputs.data, 1)\n",
    "        \n",
    "        for i in range(predicted.shape[0]):\n",
    "            \n",
    "            if predicted[i] == classes.data[i]:\n",
    "                correct += 1\n",
    "            \n",
    "        #correct += (predicted == classes.data).sum()\n",
    "        \n",
    "        iterations += 1\n",
    "\n",
    "    #valid_loss.append(loss/iterations)\n",
    "    #correct_scalar = np.array([correct.clone().cpu()])[0]\n",
    "    valid_accuracy.append(correct / len(test_loader.dataset) * 100.0)\n",
    "print (' Val Acc: %.4f'\n",
    "                   %(valid_accuracy[-1]))\n"
   ]
  },
  {
   "cell_type": "code",
   "execution_count": 77,
   "id": "b6f382ee-967d-42fe-adc5-408102844a37",
   "metadata": {},
   "outputs": [
    {
     "data": {
      "text/plain": [
       "tensor([1, 0, 0, 0, 1, 0, 1, 0, 0, 0, 1, 0, 1, 1, 1, 1, 0, 1, 1],\n",
       "       device='cuda:0')"
      ]
     },
     "execution_count": 77,
     "metadata": {},
     "output_type": "execute_result"
    }
   ],
   "source": [
    "predicted\n"
   ]
  },
  {
   "cell_type": "code",
   "execution_count": 78,
   "id": "c743c4d3-58ce-4fd3-8777-09e3ef283e11",
   "metadata": {},
   "outputs": [
    {
     "data": {
      "text/plain": [
       "array([1, 0, 1, 1, 1, 1, 0, 1, 0, 0, 0, 0, 1, 0, 1, 0, 0, 1, 0])"
      ]
     },
     "execution_count": 78,
     "metadata": {},
     "output_type": "execute_result"
    }
   ],
   "source": [
    "y_true=classes.data.cpu().numpy()\n",
    "y_true"
   ]
  },
  {
   "cell_type": "code",
   "execution_count": 79,
   "id": "4eb8a1cb-9cdb-404a-b363-6e568d88261d",
   "metadata": {},
   "outputs": [
    {
     "data": {
      "text/plain": [
       "tensor([1, 0, 0, 0, 1, 0, 1, 0, 0, 0, 1, 0, 1, 1, 1, 1, 0, 1, 1],\n",
       "       device='cuda:0')"
      ]
     },
     "execution_count": 79,
     "metadata": {},
     "output_type": "execute_result"
    }
   ],
   "source": [
    "predicted"
   ]
  },
  {
   "cell_type": "code",
   "execution_count": 80,
   "id": "1dff5a55-76df-47ff-965a-789643120c4a",
   "metadata": {},
   "outputs": [
    {
     "data": {
      "text/plain": [
       "array([1, 0, 0, 0, 1, 0, 1, 0, 0, 0, 1, 0, 1, 1, 1, 1, 0, 1, 1])"
      ]
     },
     "execution_count": 80,
     "metadata": {},
     "output_type": "execute_result"
    }
   ],
   "source": [
    "y_pred=predicted.cpu().numpy()\n",
    "y_pred"
   ]
  },
  {
   "cell_type": "code",
   "execution_count": 81,
   "id": "b68075d6-f7fd-4d1a-bfe4-7ccb412e819c",
   "metadata": {},
   "outputs": [
    {
     "data": {
      "text/plain": [
       "array([[5, 5],\n",
       "       [4, 5]])"
      ]
     },
     "execution_count": 81,
     "metadata": {},
     "output_type": "execute_result"
    }
   ],
   "source": [
    "confusion_matrix(y_true, y_pred)"
   ]
  },
  {
   "cell_type": "code",
   "execution_count": 82,
   "id": "c39e61b9-efd3-4cc3-b358-88f05150649e",
   "metadata": {},
   "outputs": [
    {
     "data": {
      "text/plain": [
       "<sklearn.metrics._plot.confusion_matrix.ConfusionMatrixDisplay at 0x7efc3c15a670>"
      ]
     },
     "execution_count": 82,
     "metadata": {},
     "output_type": "execute_result"
    },
    {
     "data": {
      "image/png": "[encoded data removed]",
      "text/plain": [
       "<Figure size 640x480 with 2 Axes>"
      ]
     },
     "metadata": {},
     "output_type": "display_data"
    }
   ],
   "source": [
    "ConfusionMatrixDisplay.from_predictions(y_true, y_pred)"
   ]
  },
  {
   "cell_type": "code",
   "execution_count": null,
   "id": "69e0b600-6374-453c-a6d2-9735a257d2f4",
   "metadata": {},
   "outputs": [],
   "source": []
  },
  {
   "cell_type": "markdown",
   "id": "8c3a5de1-5e3a-4a2e-9b4c-ceaef932eb38",
   "metadata": {},
   "source": [
    "### Validate Findtune V2"
   ]
  },
  {
   "cell_type": "code",
   "execution_count": null,
   "id": "157a3d45-8214-4776-8b4b-a0de8a205f5c",
   "metadata": {},
   "outputs": [],
   "source": [
    "del net"
   ]
  },
  {
   "cell_type": "code",
   "execution_count": null,
   "id": "eddc2317-73fe-4263-a1ce-24e11ed51171",
   "metadata": {},
   "outputs": [],
   "source": [
    "net = ConvNet().cuda(0)"
   ]
  },
  {
   "cell_type": "code",
   "execution_count": null,
   "id": "f645b3f8-ff6b-4b56-86bc-021fd3e2fd14",
   "metadata": {},
   "outputs": [],
   "source": [
    "torch.cuda.get_device_name(0)"
   ]
  },
  {
   "cell_type": "code",
   "execution_count": null,
   "id": "d1fcc913-cee3-41fe-a284-5fe02acc4266",
   "metadata": {},
   "outputs": [],
   "source": [
    "net.load_state_dict(torch.load('OurData_CNN_4layer_2ch_2class_S20_EX_10_Nov_findtune/0.5425_OurData_CNN_3layer_cuttime_2class_S20_EX_findtune_freeze_1_2_online_MI_C3_C4_0.5425_88.8889'))"
   ]
  },
  {
   "cell_type": "code",
   "execution_count": null,
   "id": "30441b8e-959a-4807-a127-1c2454aec96c",
   "metadata": {},
   "outputs": [],
   "source": [
    "# Train the model\n",
    "num_epochs = 1\n",
    "\n",
    "train_loss = []\n",
    "valid_loss = []\n",
    "train_accuracy = []\n",
    "valid_accuracy = []\n",
    "old_acc = 0\n",
    "for epoch in range(num_epochs):\n",
    "\n",
    "    loss = 0.0\n",
    "    correct = 0\n",
    "    iterations = 0\n",
    "    net.eval()\n",
    "    for i, (items, classes) in enumerate(test_loader):\n",
    "        items = Variable(items)\n",
    "        classes = Variable(classes)\n",
    "        \n",
    "        if cuda.is_available():\n",
    "            items = items.cuda(1)\n",
    "            classes = classes.cuda(1)\n",
    "        \n",
    "        outputs = net(items)\n",
    "        loss += criterion(outputs, classes).item()\n",
    "        \n",
    "        _, predicted = torch.max(outputs.data, 1)\n",
    "        correct += (predicted == classes.data).sum()\n",
    "        \n",
    "        iterations += 1\n",
    "\n",
    "    valid_loss.append(loss/iterations)\n",
    "    correct_scalar = np.array([correct.clone().cpu()])[0]\n",
    "    valid_accuracy.append(correct_scalar / len(test_loader.dataset) * 100.0)\n",
    "print (' Val Acc: %.4f'\n",
    "                   %(valid_accuracy[-1]))\n"
   ]
  },
  {
   "cell_type": "code",
   "execution_count": null,
   "id": "7499693a-d16b-4bf8-9225-ec40c3aa66f1",
   "metadata": {},
   "outputs": [],
   "source": [
    "y"
   ]
  },
  {
   "cell_type": "code",
   "execution_count": null,
   "id": "7effb920-d34b-4d2b-a65e-5eec962033cd",
   "metadata": {},
   "outputs": [],
   "source": [
    "y_pred=predicted.cpu().numpy()\n"
   ]
  },
  {
   "cell_type": "code",
   "execution_count": null,
   "id": "09f1fc9d-a06d-4bb5-b103-cb8218f58ad6",
   "metadata": {},
   "outputs": [],
   "source": [
    "from sklearn.metrics import confusion_matrix\n",
    "from sklearn.metrics import plot_confusion_matrix\n",
    "from sklearn.metrics import ConfusionMatrixDisplay"
   ]
  },
  {
   "cell_type": "code",
   "execution_count": null,
   "id": "494cf420-f0e3-455d-a210-e4faf041edcf",
   "metadata": {},
   "outputs": [],
   "source": [
    "confusion_matrix(y, y_pred)"
   ]
  },
  {
   "cell_type": "code",
   "execution_count": null,
   "id": "02f800ef-1ef1-47a1-8213-a42c429eb0fd",
   "metadata": {},
   "outputs": [],
   "source": [
    "ConfusionMatrixDisplay.from_predictions(y, y_pred)"
   ]
  },
  {
   "cell_type": "code",
   "execution_count": null,
   "id": "6881bbb0-25b6-4c91-b9a3-04b37dcb4e87",
   "metadata": {},
   "outputs": [],
   "source": []
  }
 ],
 "metadata": {
  "kernelspec": {
   "display_name": "Python 3 (ipykernel)",
   "language": "python",
   "name": "python3"
  },
  "language_info": {
   "codemirror_mode": {
    "name": "ipython",
    "version": 3
   },
   "file_extension": ".py",
   "mimetype": "text/x-python",
   "name": "python",
   "nbconvert_exporter": "python",
   "pygments_lexer": "ipython3",
   "version": "3.8.10"
  }
 },
 "nbformat": 4,
 "nbformat_minor": 5
}
