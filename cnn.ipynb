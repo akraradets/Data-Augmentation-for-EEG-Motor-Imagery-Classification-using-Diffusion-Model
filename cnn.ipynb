{
 "cells": [
  {
   "cell_type": "code",
   "execution_count": 1,
   "id": "8c66c108-7c19-4d92-8e87-1873c3ea4e99",
   "metadata": {},
   "outputs": [],
   "source": [
    "import os\n",
    "#comment this if you are not using puffer?\n",
    "os.environ['http_proxy'] = 'http://192.41.170.23:3128'\n",
    "os.environ['https_proxy'] = 'http://192.41.170.23:3128'"
   ]
  },
  {
   "cell_type": "code",
   "execution_count": 2,
   "id": "2a72bb6b-d99e-4a4f-a77e-b00892a377c9",
   "metadata": {},
   "outputs": [
    {
     "name": "stdout",
     "output_type": "stream",
     "text": [
      "Requirement already satisfied: mne in /home/nutapolt/.local/lib/python3.8/site-packages (1.1.0)\n",
      "Requirement already satisfied: scipy>=1.1.0 in /home/nutapolt/.local/lib/python3.8/site-packages (from mne) (1.9.0)\n",
      "Requirement already satisfied: numpy>=1.15.4 in /home/nutapolt/.local/lib/python3.8/site-packages (from mne) (1.23.2)\n",
      "Requirement already satisfied: matplotlib in /home/nutapolt/.local/lib/python3.8/site-packages (from mne) (3.5.3)\n",
      "Requirement already satisfied: tqdm in /home/nutapolt/.local/lib/python3.8/site-packages (from mne) (4.64.0)\n",
      "Requirement already satisfied: jinja2 in /usr/local/lib/python3.8/dist-packages (from mne) (3.1.2)\n",
      "Requirement already satisfied: decorator in /usr/local/lib/python3.8/dist-packages (from mne) (5.1.1)\n",
      "Requirement already satisfied: packaging in /usr/local/lib/python3.8/dist-packages (from mne) (21.3)\n",
      "Requirement already satisfied: pooch>=1.5 in /home/nutapolt/.local/lib/python3.8/site-packages (from mne) (1.6.0)\n",
      "Requirement already satisfied: cycler>=0.10 in /home/nutapolt/.local/lib/python3.8/site-packages (from matplotlib->mne) (0.11.0)\n",
      "Requirement already satisfied: fonttools>=4.22.0 in /home/nutapolt/.local/lib/python3.8/site-packages (from matplotlib->mne) (4.36.0)\n",
      "Requirement already satisfied: pyparsing>=2.2.1 in /usr/local/lib/python3.8/dist-packages (from matplotlib->mne) (3.0.9)\n",
      "Requirement already satisfied: python-dateutil>=2.7 in /usr/local/lib/python3.8/dist-packages (from matplotlib->mne) (2.8.2)\n",
      "Requirement already satisfied: kiwisolver>=1.0.1 in /home/nutapolt/.local/lib/python3.8/site-packages (from matplotlib->mne) (1.4.4)\n",
      "Requirement already satisfied: pillow>=6.2.0 in /home/nutapolt/.local/lib/python3.8/site-packages (from matplotlib->mne) (9.2.0)\n",
      "Requirement already satisfied: MarkupSafe>=2.0 in /usr/local/lib/python3.8/dist-packages (from jinja2->mne) (2.1.1)\n",
      "Requirement already satisfied: requests>=2.19.0 in /usr/local/lib/python3.8/dist-packages (from pooch>=1.5->mne) (2.28.1)\n",
      "Requirement already satisfied: appdirs>=1.3.0 in /home/nutapolt/.local/lib/python3.8/site-packages (from pooch>=1.5->mne) (1.4.4)\n",
      "Requirement already satisfied: six>=1.5 in /usr/local/lib/python3.8/dist-packages (from python-dateutil>=2.7->matplotlib->mne) (1.16.0)\n",
      "Requirement already satisfied: idna<4,>=2.5 in /usr/local/lib/python3.8/dist-packages (from requests>=2.19.0->pooch>=1.5->mne) (3.3)\n",
      "Requirement already satisfied: charset-normalizer<3,>=2 in /usr/local/lib/python3.8/dist-packages (from requests>=2.19.0->pooch>=1.5->mne) (2.1.0)\n",
      "Requirement already satisfied: certifi>=2017.4.17 in /usr/local/lib/python3.8/dist-packages (from requests>=2.19.0->pooch>=1.5->mne) (2022.6.15)\n",
      "Requirement already satisfied: urllib3<1.27,>=1.21.1 in /usr/local/lib/python3.8/dist-packages (from requests>=2.19.0->pooch>=1.5->mne) (1.26.11)\n"
     ]
    }
   ],
   "source": [
    "!pip install mne"
   ]
  },
  {
   "cell_type": "code",
   "execution_count": 3,
   "id": "851d3258-8cf6-45d4-8f14-0132010a75a0",
   "metadata": {},
   "outputs": [
    {
     "name": "stderr",
     "output_type": "stream",
     "text": [
      "/home/nutapolt/.local/lib/python3.8/site-packages/tqdm/auto.py:22: TqdmWarning: IProgress not found. Please update jupyter and ipywidgets. See https://ipywidgets.readthedocs.io/en/stable/user_install.html\n",
      "  from .autonotebook import tqdm as notebook_tqdm\n"
     ]
    }
   ],
   "source": [
    "import numpy as np\n",
    "import matplotlib.pyplot as plt\n",
    "import mne\n",
    "import os\n",
    "import sys\n",
    "from mne.datasets import eegbci\n",
    "import glob\n",
    "from IPython.display import clear_output\n",
    "import numpy as np\n",
    "import torch\n",
    "from torch import nn\n",
    "import torch.optim as optim\n",
    "\n",
    "from mne.datasets import eegbci\n",
    "from sklearn.model_selection import train_test_split\n",
    "from torch.utils.data import TensorDataset\n",
    "from torch.utils.data import DataLoader\n",
    "from scipy import signal\n",
    "\n",
    "import torch\n",
    "import torch.cuda as cuda\n",
    "import torch.nn as nn\n",
    "from torch.autograd import Variable"
   ]
  },
  {
   "cell_type": "code",
   "execution_count": 5,
   "id": "6430125e-3012-4823-a449-d8711d5ec4ea",
   "metadata": {},
   "outputs": [
    {
     "data": {
      "text/plain": [
       "'NVIDIA RTX A6000'"
      ]
     },
     "execution_count": 5,
     "metadata": {},
     "output_type": "execute_result"
    }
   ],
   "source": [
    "torch.cuda.get_device_name(0)"
   ]
  },
  {
   "cell_type": "code",
   "execution_count": 4,
   "id": "2cd385f6-ab9b-4056-9519-3a8fecd46d59",
   "metadata": {},
   "outputs": [],
   "source": [
    "class EEG:\n",
    "    def __init__(self, path, base_url, subjects, runs):\n",
    "        self.subpath = ''\n",
    "        self.path = path\n",
    "        self.base_url = base_url\n",
    "        self.subjects = subjects\n",
    "        self.runs = runs\n",
    "        \n",
    "        # download data if does not exist in path.\n",
    "        # self.load_data()\n",
    "        self.data_to_raw()\n",
    "    \n",
    "    def load_data(self):\n",
    "        print(f\">>> Start download from: {self.base_url}.\")\n",
    "        print(f\"Downloading files to: {self.path}.\")\n",
    "        for subject in self.subjects:\n",
    "            eegbci.load_data(subject,self.runs,path=self.path,base_url=self.base_url)\n",
    "        print(\"Done.\")\n",
    "    \n",
    "    \n",
    "        \n",
    "        print(\"Done.\")\n",
    "        return self.raw\n",
    "    def filter(self, freq):\n",
    "        raw = self.raw\n",
    "        low, high = freq\n",
    "        print(f\">>> Apply filter.\")\n",
    "        self.raw.filter(low, high, fir_design='firwin', verbose=20)\n",
    "        return  raw\n",
    "    def raw_ica(self):\n",
    "        raw = self.raw\n",
    "        ica = mne.preprocessing.ICA(n_components=64, max_iter=100)\n",
    "        ica.fit(raw)\n",
    "        ica.exclude = [1, 2]  # details on how we picked these are omitted here\n",
    "        ica.plot_properties(raw, picks=ica.exclude)\n",
    "        ica.apply(raw)\n",
    "        print('ICA DONE ????')\n",
    "        return  raw\n",
    "        \n",
    "    def get_events(self):\n",
    "        event_id = dict(T1=0, T2=1) # the events we want to extract\n",
    "        events, event_id = mne.events_from_annotations(self.raw, event_id=event_id)\n",
    "        return events, event_id\n",
    "    \n",
    "    def get_epochs(self, events, event_id):\n",
    "        picks = mne.pick_types(self.raw.info, eeg=True, exclude='bads')\n",
    "        tmin = 0\n",
    "        tmax = 4\n",
    "        epochs = mne.Epochs(self.raw, events, event_id, tmin, tmax, proj=True, \n",
    "                            picks=picks, baseline=None, preload=True)\n",
    "        return epochs\n",
    "    \n",
    "    def create_epochs(self):\n",
    "        print(\">>> Create Epochs.\")\n",
    "        events, event_id = self.get_events()\n",
    "        self.epochs = self.get_epochs(events, event_id)\n",
    "        return events , event_id\n",
    "        \n",
    "        print(\"Done.\")\n",
    "    \n",
    "    def get_X_y(self):\n",
    "        if self.epochs is None:\n",
    "            events , event_id=self.create_epochs()\n",
    "        self.X = self.epochs.get_data()\n",
    "        self.y = self.epochs.events[:, -1]\n",
    "        return self.X, self.y\n",
    "    \n",
    "    \n",
    "    def data_to_raw(self):\n",
    "        fullpath = os.path.join(self.path, *self.subpath.split(sep='/'))\n",
    "        #print(f\">>> Extract all subjects from: {fullpath}.\")\n",
    "        extension = \"edf\"\n",
    "        raws = []\n",
    "        count = 1\n",
    "        for i, subject in enumerate(self.subjects):\n",
    "            sname = f\"S{str(subject).zfill(3)}\".upper()\n",
    "            \n",
    "            for j, run in enumerate(self.runs):\n",
    "                rname = f\"{sname}R{str(run).zfill(2)}\".upper()\n",
    "                path_file = os.path.join(fullpath, sname, f'{rname}.{extension}')\n",
    "                #print(path_file)\n",
    "                #print(f\"Loading file #{count}/{len(self.subjects)*len(self.runs)}: {f'{rname}.{extension}'}\")\n",
    "                raw = mne.io.read_raw_edf( path_file , preload=True, verbose='WARNING' )\n",
    "                raws.append(raw)\n",
    "                count += 1\n",
    "\n",
    "        raw = mne.io.concatenate_raws(raws)\n",
    "        eegbci.standardize(raw)\n",
    "        montage = mne.channels.make_standard_montage('standard_1005')\n",
    "        raw.set_montage(montage)\n",
    "        self.raw = raw\n",
    "        \n",
    "        \n",
    "        \n",
    "def do_plot(train_loss, valid_loss,ty):\n",
    "    if ty == \"loss\":\n",
    "        plt.figure(figsize=(10,10))\n",
    "        clear_output(wait=True)\n",
    "        plt.plot(train_loss, label='train_loss')\n",
    "        plt.plot(valid_loss, label='valid_loss')\n",
    "        plt.title('loss {}'.format(iter))\n",
    "        plt.legend()\n",
    "        plt.show()\n",
    "    if ty == \"acc\":\n",
    "        plt.figure(figsize=(10,10))\n",
    "        clear_output(wait=True)\n",
    "        plot_ty=torch.tensor(train_loss, device = 'cpu')\n",
    "        plat_va=torch.tensor(valid_loss, device = 'cpu')\n",
    "        plt.plot(plot_ty, label='train_acc')\n",
    "        plt.plot(plat_va, label='valid_acc')\n",
    "        plt.title('acc {}'.format(iter))\n",
    "        plt.legend()\n",
    "        plt.show()"
   ]
  },
  {
   "cell_type": "code",
   "execution_count": 25,
   "id": "b1d9fa44-0f50-41f0-aec3-07e6f7a4a72f",
   "metadata": {},
   "outputs": [
    {
     "name": "stdout",
     "output_type": "stream",
     "text": [
      "Raw done\n",
      ">>> Apply filter.\n",
      "Filtering raw data in 237 contiguous segments\n",
      "Setting up band-pass filter from 1 - 40 Hz\n",
      "\n",
      "FIR filter parameters\n",
      "---------------------\n",
      "Designing a one-pass, zero-phase, non-causal bandpass filter:\n",
      "- Windowed time-domain design (firwin) method\n",
      "- Hamming window with 0.0194 passband ripple and 53 dB stopband attenuation\n",
      "- Lower passband edge: 1.00\n",
      "- Lower transition bandwidth: 1.00 Hz (-6 dB cutoff frequency: 0.50 Hz)\n",
      "- Upper passband edge: 40.00 Hz\n",
      "- Upper transition bandwidth: 10.00 Hz (-6 dB cutoff frequency: 45.00 Hz)\n",
      "- Filter length: 529 samples (3.306 sec)\n",
      "\n"
     ]
    },
    {
     "name": "stderr",
     "output_type": "stream",
     "text": [
      "[Parallel(n_jobs=1)]: Using backend SequentialBackend with 1 concurrent workers.\n",
      "[Parallel(n_jobs=1)]: Done   1 out of   1 | elapsed:    0.0s remaining:    0.0s\n",
      "[Parallel(n_jobs=1)]: Done   2 out of   2 | elapsed:    0.0s remaining:    0.0s\n",
      "[Parallel(n_jobs=1)]: Done   3 out of   3 | elapsed:    0.0s remaining:    0.0s\n",
      "[Parallel(n_jobs=1)]: Done   4 out of   4 | elapsed:    0.0s remaining:    0.0s\n",
      "[Parallel(n_jobs=1)]: Done  64 out of  64 | elapsed:    0.1s finished\n"
     ]
    },
    {
     "name": "stdout",
     "output_type": "stream",
     "text": [
      "Filter done\n",
      ">>> Create Epochs.\n",
      "Used Annotations descriptions: ['T1', 'T2']\n",
      "Not setting metadata\n",
      "3555 matching events found\n",
      "No baseline correction applied\n",
      "0 projection items activated\n",
      "Using data from preloaded Raw for 3555 events and 641 original time points ...\n",
      "16 bad epochs dropped\n"
     ]
    },
    {
     "data": {
      "text/plain": [
       "(array([[    672,       0,       1],\n",
       "        [   2000,       0,       0],\n",
       "        [   3328,       0,       0],\n",
       "        ...,\n",
       "        [4676928,       0,       1],\n",
       "        [4678256,       0,       0],\n",
       "        [4679584,       0,       1]]),\n",
       " {'T1': 0, 'T2': 1})"
      ]
     },
     "execution_count": 25,
     "metadata": {},
     "output_type": "execute_result"
    }
   ],
   "source": [
    "# home directory + datasets folder\n",
    "#path = '/content/drive/MyDrive/MNE-eegbci-data/files/eegmmidb/'\n",
    "path = '1.0.0'\n",
    "base_url = 'https://physionet.org/files/eegmmidb/'\n",
    "# subjects = [1]\n",
    "#runs = [3, 4, 7, 8, 11, 12]\n",
    "runs = [4, 8, 12]\n",
    "subjects = [i for i in range(1,80)]\n",
    "#subjects = [1]\n",
    "# runs = [6,10,14]\n",
    "\n",
    "eeg = EEG(path, base_url, subjects, runs)\n",
    "raw=eeg.data_to_raw()\n",
    "print(\"Raw done\")\n",
    "# apply filter\n",
    "freq = (1., 40.)\n",
    "raw=eeg.filter(freq=freq)\n",
    "#raw=eeg.data_to_raw()\n",
    "print(\"Filter done\")\n",
    "#raw=eeg.raw_ica()\n",
    "eeg.create_epochs()"
   ]
  },
  {
   "cell_type": "code",
   "execution_count": 26,
   "id": "02c863d5-9efc-4dca-b118-ea139ce2adca",
   "metadata": {},
   "outputs": [
    {
     "name": "stdout",
     "output_type": "stream",
     "text": [
      "(3539, 64, 641) (3539,)\n"
     ]
    },
    {
     "data": {
      "text/plain": [
       "(3539, 64, 641)"
      ]
     },
     "execution_count": 26,
     "metadata": {},
     "output_type": "execute_result"
    }
   ],
   "source": [
    "X, y = eeg.get_X_y()\n",
    "\n",
    "print(X.shape, y.shape)\n",
    "X = X[:,:,:]\n",
    "X.shape"
   ]
  },
  {
   "cell_type": "code",
   "execution_count": 27,
   "id": "7829aa9d-a88f-4e0c-8b44-74cde0db7dd6",
   "metadata": {},
   "outputs": [
    {
     "name": "stdout",
     "output_type": "stream",
     "text": [
      "(3539, 64, 641)\n"
     ]
    }
   ],
   "source": [
    "# pick 7 channels.\n",
    "#2 = X[:, :14, :]\n",
    "# = X2\n",
    "\n",
    "# pick C3 and C4 channels.\n",
    "#2 = X[:, 1:2, :] \n",
    "#3= X[:, 5:6, :]\n",
    "#4 = np.concatenate((X2,X3), axis=1)\n",
    "# = X4\n",
    "\n",
    "print(X.shape)"
   ]
  },
  {
   "cell_type": "code",
   "execution_count": 28,
   "id": "baa4ab14-d3e8-4b87-9a1f-3fb522d64af5",
   "metadata": {},
   "outputs": [
    {
     "name": "stdout",
     "output_type": "stream",
     "text": [
      "(2831, 64, 641) (2831,)\n"
     ]
    }
   ],
   "source": [
    "X_train, X_test, y_train, y_test = train_test_split(X, y, test_size=0.2)\n",
    "\n",
    "print(X_train.shape, y_train.shape)"
   ]
  },
  {
   "cell_type": "code",
   "execution_count": 29,
   "id": "c0b137eb-dd3a-4846-bb9b-9fe0d6bfd8b8",
   "metadata": {},
   "outputs": [],
   "source": [
    "from sklearn.model_selection import train_test_split\n",
    "from torch.utils.data import TensorDataset\n",
    "from torch.utils.data import DataLoader\n",
    "\n",
    "batch_size = 32\n",
    "\n",
    "def create_dataloader(X, y, batch_size):\n",
    "    X_tensor = torch.tensor(X).float()\n",
    "    y_tensor = torch.tensor(y).long()\n",
    "    dataset_tensor = TensorDataset(X_tensor, y_tensor)\n",
    "    dl = torch.utils.data.DataLoader(dataset_tensor, batch_size=batch_size, shuffle=True)\n",
    "    return dl\n",
    "train_loader = create_dataloader(X_train, y_train, batch_size=batch_size)\n",
    "test_loader = create_dataloader(X_test, y_test, batch_size=batch_size)"
   ]
  },
  {
   "cell_type": "code",
   "execution_count": 49,
   "id": "086871a3-b5ed-4865-bdc8-372270251077",
   "metadata": {},
   "outputs": [],
   "source": [
    "# Convolutional neural network (two convolutional layers)\n",
    "class ConvNet(nn.Module):\n",
    "    def __init__(self):\n",
    "        super(ConvNet, self).__init__()\n",
    "        \n",
    "        #using sequential helps bind multiple operations together\n",
    "        self.layer1 = nn.Sequential(\n",
    "            #padding = (kernel_size - 1) / 2 = 2\n",
    "            nn.Conv1d(64, 64, kernel_size=5, stride=1, padding=2),\n",
    "            nn.BatchNorm1d(64),\n",
    "            nn.ReLU(),\n",
    "            # nn.MaxPool2d(kernel_size=2, stride=2)\n",
    "        )\n",
    "        self.layer2 = nn.Sequential(\n",
    "            nn.Conv1d(64, 128, kernel_size=5, stride=1, padding=2),\n",
    "            nn.BatchNorm1d(128),\n",
    "            nn.ReLU(),\n",
    "            # nn.MaxPool2d(kernel_size=2, stride=2)\n",
    "        )\n",
    "        self.fc = nn.Linear(82048, 2)\n",
    "        self.drop_out = nn.Dropout(0.5)\n",
    "        \n",
    "    def forward(self, x):\n",
    "        out = self.layer1(x)\n",
    "        out = self.drop_out(out)\n",
    "        out = self.layer2(out)\n",
    "        out = self.drop_out(out)\n",
    "        out = out.reshape(out.size(0), -1)   #can also use .view()\n",
    "        out = self.fc(out)\n",
    "        return out"
   ]
  },
  {
   "cell_type": "code",
   "execution_count": 50,
   "id": "3837bacf-8c00-4afc-bcdf-46222d1c1620",
   "metadata": {},
   "outputs": [],
   "source": [
    "net = ConvNet().cuda(3)"
   ]
  },
  {
   "cell_type": "code",
   "execution_count": 51,
   "id": "d8672d38-f98e-45a2-84bc-32dc70278eb0",
   "metadata": {},
   "outputs": [],
   "source": [
    "# Loss and optimizer\n",
    "optimizer = optim.Adam(net.parameters(), lr=0.0000001)\n",
    "criterion = nn.CrossEntropyLoss()"
   ]
  },
  {
   "cell_type": "code",
   "execution_count": 52,
   "id": "6d8858ae-695d-495f-a6d9-a134328c831f",
   "metadata": {},
   "outputs": [
    {
     "name": "stdout",
     "output_type": "stream",
     "text": [
      "Epoch 1/10000, Tr Loss: 0.7317, Tr Acc: 50.7241, Val Loss: 0.6931, Val Acc: 50.8475\n",
      "Epoch 51/10000, Tr Loss: 0.7187, Tr Acc: 52.4196, Val Loss: 0.6857, Val Acc: 53.6723\n",
      "Epoch 101/10000, Tr Loss: 0.6952, Tr Acc: 57.0117, Val Loss: 0.6734, Val Acc: 56.6384\n",
      "Epoch 151/10000, Tr Loss: 0.6823, Tr Acc: 57.8594, Val Loss: 0.6595, Val Acc: 60.1695\n",
      "Epoch 201/10000, Tr Loss: 0.6526, Tr Acc: 61.6037, Val Loss: 0.6470, Val Acc: 63.1356\n",
      "Epoch 251/10000, Tr Loss: 0.6377, Tr Acc: 63.9350, Val Loss: 0.6496, Val Acc: 65.5367\n",
      "Epoch 301/10000, Tr Loss: 0.6308, Tr Acc: 64.7121, Val Loss: 0.6268, Val Acc: 66.6667\n",
      "Epoch 351/10000, Tr Loss: 0.6170, Tr Acc: 66.4076, Val Loss: 0.6237, Val Acc: 67.5141\n",
      "Epoch 401/10000, Tr Loss: 0.5921, Tr Acc: 69.9399, Val Loss: 0.6112, Val Acc: 67.6554\n",
      "Epoch 451/10000, Tr Loss: 0.5853, Tr Acc: 70.9643, Val Loss: 0.5919, Val Acc: 69.6328\n",
      "Epoch 501/10000, Tr Loss: 0.5632, Tr Acc: 73.5076, Val Loss: 0.5733, Val Acc: 70.9040\n",
      "Epoch 551/10000, Tr Loss: 0.5482, Tr Acc: 74.2141, Val Loss: 0.5654, Val Acc: 70.3390\n",
      "Epoch 601/10000, Tr Loss: 0.5254, Tr Acc: 74.4966, Val Loss: 0.5583, Val Acc: 71.6102\n",
      "Epoch 651/10000, Tr Loss: 0.5140, Tr Acc: 76.6514, Val Loss: 0.5539, Val Acc: 71.4689\n",
      "Epoch 701/10000, Tr Loss: 0.5057, Tr Acc: 76.5807, Val Loss: 0.5441, Val Acc: 72.4576\n",
      "Epoch 751/10000, Tr Loss: 0.4831, Tr Acc: 78.7354, Val Loss: 0.5260, Val Acc: 73.4463\n",
      "Epoch 801/10000, Tr Loss: 0.4792, Tr Acc: 76.8280, Val Loss: 0.5173, Val Acc: 74.2938\n",
      "Epoch 851/10000, Tr Loss: 0.4581, Tr Acc: 79.1593, Val Loss: 0.4953, Val Acc: 74.1525\n",
      "Epoch 901/10000, Tr Loss: 0.4563, Tr Acc: 79.5125, Val Loss: 0.4934, Val Acc: 74.7175\n",
      "Epoch 951/10000, Tr Loss: 0.4422, Tr Acc: 80.2543, Val Loss: 0.4836, Val Acc: 75.0000\n",
      "Epoch 1001/10000, Tr Loss: 0.4281, Tr Acc: 79.8658, Val Loss: 0.4820, Val Acc: 75.4237\n",
      "Epoch 1051/10000, Tr Loss: 0.4274, Tr Acc: 80.8901, Val Loss: 0.4836, Val Acc: 75.8475\n",
      "Epoch 1101/10000, Tr Loss: 0.4175, Tr Acc: 81.5260, Val Loss: 0.4805, Val Acc: 76.5537\n",
      "Epoch 1151/10000, Tr Loss: 0.4148, Tr Acc: 80.4663, Val Loss: 0.4727, Val Acc: 77.1186\n",
      "Epoch 1201/10000, Tr Loss: 0.4077, Tr Acc: 81.2081, Val Loss: 0.4525, Val Acc: 77.1186\n",
      "Epoch 1251/10000, Tr Loss: 0.4045, Tr Acc: 81.2787, Val Loss: 0.4461, Val Acc: 77.2599\n",
      "Epoch 1301/10000, Tr Loss: 0.3994, Tr Acc: 82.1265, Val Loss: 0.4503, Val Acc: 77.5424\n",
      "Epoch 1351/10000, Tr Loss: 0.3962, Tr Acc: 82.5503, Val Loss: 0.4412, Val Acc: 77.5424\n",
      "Epoch 1401/10000, Tr Loss: 0.3926, Tr Acc: 82.0558, Val Loss: 0.4360, Val Acc: 77.8249\n",
      "Epoch 1451/10000, Tr Loss: 0.3792, Tr Acc: 82.9389, Val Loss: 0.4459, Val Acc: 77.9661\n",
      "Epoch 1501/10000, Tr Loss: 0.3772, Tr Acc: 82.8682, Val Loss: 0.4287, Val Acc: 78.1073\n",
      "Epoch 1551/10000, Tr Loss: 0.3761, Tr Acc: 83.0802, Val Loss: 0.4380, Val Acc: 78.2486\n",
      "Epoch 1601/10000, Tr Loss: 0.3718, Tr Acc: 83.3628, Val Loss: 0.4372, Val Acc: 78.1073\n",
      "Epoch 1651/10000, Tr Loss: 0.3646, Tr Acc: 83.7513, Val Loss: 0.4533, Val Acc: 78.3898\n",
      "Epoch 1701/10000, Tr Loss: 0.3640, Tr Acc: 82.7976, Val Loss: 0.4449, Val Acc: 78.2486\n",
      "Epoch 1751/10000, Tr Loss: 0.3617, Tr Acc: 84.0339, Val Loss: 0.4304, Val Acc: 77.9661\n",
      "Epoch 1801/10000, Tr Loss: 0.3528, Tr Acc: 83.8573, Val Loss: 0.4235, Val Acc: 78.3898\n",
      "Epoch 1851/10000, Tr Loss: 0.3518, Tr Acc: 83.9279, Val Loss: 0.4216, Val Acc: 78.2486\n",
      "Epoch 1901/10000, Tr Loss: 0.3461, Tr Acc: 84.6344, Val Loss: 0.4192, Val Acc: 78.3898\n",
      "Epoch 1951/10000, Tr Loss: 0.3407, Tr Acc: 85.0230, Val Loss: 0.4264, Val Acc: 78.5311\n",
      "Epoch 2001/10000, Tr Loss: 0.3451, Tr Acc: 84.5638, Val Loss: 0.4274, Val Acc: 78.6723\n",
      "Epoch 2051/10000, Tr Loss: 0.3422, Tr Acc: 84.8817, Val Loss: 0.4387, Val Acc: 78.6723\n",
      "Epoch 2101/10000, Tr Loss: 0.3351, Tr Acc: 85.4468, Val Loss: 0.4709, Val Acc: 78.9548\n",
      "Epoch 2151/10000, Tr Loss: 0.3343, Tr Acc: 85.1996, Val Loss: 0.4201, Val Acc: 78.9548\n",
      "Epoch 2201/10000, Tr Loss: 0.3321, Tr Acc: 85.0936, Val Loss: 0.4276, Val Acc: 78.9548\n",
      "Epoch 2251/10000, Tr Loss: 0.3336, Tr Acc: 84.5284, Val Loss: 0.4295, Val Acc: 78.6723\n",
      "Epoch 2301/10000, Tr Loss: 0.3298, Tr Acc: 85.2702, Val Loss: 0.4139, Val Acc: 78.6723\n",
      "Epoch 2351/10000, Tr Loss: 0.3256, Tr Acc: 85.0230, Val Loss: 0.4133, Val Acc: 78.3898\n",
      "Epoch 2401/10000, Tr Loss: 0.3272, Tr Acc: 85.6941, Val Loss: 0.4189, Val Acc: 78.5311\n",
      "Epoch 2451/10000, Tr Loss: 0.3169, Tr Acc: 86.1180, Val Loss: 0.4200, Val Acc: 78.8136\n",
      "Epoch 2501/10000, Tr Loss: 0.3129, Tr Acc: 86.0473, Val Loss: 0.4218, Val Acc: 78.6723\n",
      "Epoch 2551/10000, Tr Loss: 0.3170, Tr Acc: 86.8951, Val Loss: 0.4189, Val Acc: 78.5311\n",
      "Epoch 2601/10000, Tr Loss: 0.3161, Tr Acc: 85.6941, Val Loss: 0.4195, Val Acc: 78.5311\n",
      "Epoch 2651/10000, Tr Loss: 0.3135, Tr Acc: 86.9304, Val Loss: 0.4260, Val Acc: 78.6723\n",
      "Epoch 2701/10000, Tr Loss: 0.3051, Tr Acc: 86.2593, Val Loss: 0.4280, Val Acc: 78.6723\n",
      "Epoch 2751/10000, Tr Loss: 0.3073, Tr Acc: 86.4359, Val Loss: 0.4163, Val Acc: 79.0960\n",
      "Epoch 2801/10000, Tr Loss: 0.3047, Tr Acc: 86.8951, Val Loss: 0.4280, Val Acc: 78.6723\n",
      "Epoch 2851/10000, Tr Loss: 0.2977, Tr Acc: 87.3543, Val Loss: 0.4121, Val Acc: 78.8136\n",
      "Epoch 2901/10000, Tr Loss: 0.3043, Tr Acc: 86.1533, Val Loss: 0.4394, Val Acc: 78.8136\n",
      "Epoch 2951/10000, Tr Loss: 0.2949, Tr Acc: 87.3543, Val Loss: 0.4202, Val Acc: 78.8136\n",
      "Epoch 3001/10000, Tr Loss: 0.2934, Tr Acc: 87.8841, Val Loss: 0.4224, Val Acc: 79.0960\n",
      "Epoch 3051/10000, Tr Loss: 0.2924, Tr Acc: 87.0011, Val Loss: 0.4052, Val Acc: 79.2373\n",
      "Epoch 3101/10000, Tr Loss: 0.2995, Tr Acc: 87.5309, Val Loss: 0.4158, Val Acc: 79.2373\n",
      "Epoch 3151/10000, Tr Loss: 0.2883, Tr Acc: 87.4249, Val Loss: 0.4133, Val Acc: 79.3785\n",
      "Epoch 3201/10000, Tr Loss: 0.2895, Tr Acc: 87.6722, Val Loss: 0.4240, Val Acc: 79.2373\n",
      "Epoch 3251/10000, Tr Loss: 0.2822, Tr Acc: 88.1314, Val Loss: 0.4133, Val Acc: 79.3785\n",
      "Epoch 3301/10000, Tr Loss: 0.2817, Tr Acc: 87.6722, Val Loss: 0.4124, Val Acc: 79.3785\n",
      "Epoch 3351/10000, Tr Loss: 0.2787, Tr Acc: 88.2020, Val Loss: 0.4146, Val Acc: 79.3785\n",
      "Epoch 3401/10000, Tr Loss: 0.2746, Tr Acc: 88.1314, Val Loss: 0.4083, Val Acc: 79.0960\n",
      "Epoch 3451/10000, Tr Loss: 0.2788, Tr Acc: 88.5906, Val Loss: 0.4034, Val Acc: 79.3785\n",
      "Epoch 3501/10000, Tr Loss: 0.2742, Tr Acc: 88.5906, Val Loss: 0.4071, Val Acc: 79.2373\n",
      "Epoch 3551/10000, Tr Loss: 0.2696, Tr Acc: 89.3677, Val Loss: 0.4283, Val Acc: 79.3785\n",
      "Epoch 3601/10000, Tr Loss: 0.2703, Tr Acc: 88.5200, Val Loss: 0.4073, Val Acc: 79.3785\n",
      "Epoch 3651/10000, Tr Loss: 0.2736, Tr Acc: 88.0254, Val Loss: 0.4373, Val Acc: 79.5198\n",
      "Epoch 3701/10000, Tr Loss: 0.2688, Tr Acc: 89.4030, Val Loss: 0.4229, Val Acc: 79.3785\n",
      "Epoch 3751/10000, Tr Loss: 0.2658, Tr Acc: 88.8732, Val Loss: 0.4308, Val Acc: 79.5198\n",
      "Epoch 3801/10000, Tr Loss: 0.2601, Tr Acc: 89.5443, Val Loss: 0.4189, Val Acc: 79.3785\n",
      "Epoch 3851/10000, Tr Loss: 0.2665, Tr Acc: 88.6259, Val Loss: 0.4169, Val Acc: 79.3785\n",
      "Epoch 3901/10000, Tr Loss: 0.2628, Tr Acc: 88.9792, Val Loss: 0.4174, Val Acc: 79.3785\n",
      "Epoch 3951/10000, Tr Loss: 0.2624, Tr Acc: 89.1911, Val Loss: 0.4105, Val Acc: 79.2373\n",
      "Epoch 4001/10000, Tr Loss: 0.2615, Tr Acc: 88.6966, Val Loss: 0.4064, Val Acc: 79.6610\n",
      "Epoch 4051/10000, Tr Loss: 0.2593, Tr Acc: 89.2971, Val Loss: 0.4273, Val Acc: 79.6610\n",
      "Epoch 4101/10000, Tr Loss: 0.2564, Tr Acc: 89.4030, Val Loss: 0.4137, Val Acc: 79.8023\n",
      "Epoch 4151/10000, Tr Loss: 0.2582, Tr Acc: 89.2264, Val Loss: 0.4036, Val Acc: 79.6610\n",
      "Epoch 4201/10000, Tr Loss: 0.2490, Tr Acc: 89.7209, Val Loss: 0.4178, Val Acc: 79.8023\n",
      "Epoch 4251/10000, Tr Loss: 0.2518, Tr Acc: 89.5797, Val Loss: 0.4148, Val Acc: 79.9435\n",
      "Epoch 4301/10000, Tr Loss: 0.2468, Tr Acc: 90.0389, Val Loss: 0.4033, Val Acc: 79.9435\n",
      "Epoch 4351/10000, Tr Loss: 0.2439, Tr Acc: 90.1448, Val Loss: 0.4085, Val Acc: 80.0847\n",
      "Epoch 4401/10000, Tr Loss: 0.2426, Tr Acc: 90.0742, Val Loss: 0.4138, Val Acc: 79.6610\n",
      "Epoch 4451/10000, Tr Loss: 0.2429, Tr Acc: 89.7209, Val Loss: 0.4222, Val Acc: 79.6610\n",
      "Epoch 4501/10000, Tr Loss: 0.2432, Tr Acc: 90.1802, Val Loss: 0.4403, Val Acc: 79.8023\n",
      "Epoch 4551/10000, Tr Loss: 0.2442, Tr Acc: 89.8976, Val Loss: 0.4364, Val Acc: 79.9435\n",
      "Epoch 4601/10000, Tr Loss: 0.2349, Tr Acc: 90.8513, Val Loss: 0.4072, Val Acc: 80.0847\n",
      "Epoch 4651/10000, Tr Loss: 0.2375, Tr Acc: 90.4627, Val Loss: 0.4133, Val Acc: 79.9435\n",
      "Epoch 4701/10000, Tr Loss: 0.2353, Tr Acc: 90.6394, Val Loss: 0.4201, Val Acc: 79.8023\n",
      "Epoch 4751/10000, Tr Loss: 0.2366, Tr Acc: 90.5334, Val Loss: 0.4188, Val Acc: 79.6610\n",
      "Epoch 4801/10000, Tr Loss: 0.2349, Tr Acc: 90.8160, Val Loss: 0.4170, Val Acc: 79.8023\n",
      "Epoch 4851/10000, Tr Loss: 0.2342, Tr Acc: 90.8160, Val Loss: 0.4139, Val Acc: 79.9435\n",
      "Epoch 4901/10000, Tr Loss: 0.2345, Tr Acc: 90.9926, Val Loss: 0.4183, Val Acc: 79.2373\n",
      "Epoch 4951/10000, Tr Loss: 0.2343, Tr Acc: 90.7806, Val Loss: 0.4159, Val Acc: 79.9435\n",
      "Epoch 5001/10000, Tr Loss: 0.2300, Tr Acc: 91.2045, Val Loss: 0.4046, Val Acc: 79.5198\n",
      "Epoch 5051/10000, Tr Loss: 0.2292, Tr Acc: 90.3921, Val Loss: 0.4041, Val Acc: 79.5198\n",
      "Epoch 5101/10000, Tr Loss: 0.2272, Tr Acc: 90.9573, Val Loss: 0.4213, Val Acc: 80.0847\n",
      "Epoch 5151/10000, Tr Loss: 0.2304, Tr Acc: 90.4627, Val Loss: 0.4428, Val Acc: 79.3785\n",
      "Epoch 5201/10000, Tr Loss: 0.2238, Tr Acc: 91.6991, Val Loss: 0.4366, Val Acc: 79.9435\n",
      "Epoch 5251/10000, Tr Loss: 0.2263, Tr Acc: 91.0279, Val Loss: 0.4360, Val Acc: 79.2373\n",
      "Epoch 5301/10000, Tr Loss: 0.2229, Tr Acc: 90.6394, Val Loss: 0.4317, Val Acc: 79.6610\n",
      "Epoch 5351/10000, Tr Loss: 0.2256, Tr Acc: 91.2045, Val Loss: 0.4212, Val Acc: 80.3672\n",
      "Epoch 5401/10000, Tr Loss: 0.2182, Tr Acc: 91.8757, Val Loss: 0.4193, Val Acc: 79.0960\n",
      "Epoch 5451/10000, Tr Loss: 0.2176, Tr Acc: 91.8757, Val Loss: 0.4222, Val Acc: 80.2260\n",
      "Epoch 5501/10000, Tr Loss: 0.2155, Tr Acc: 91.8403, Val Loss: 0.4174, Val Acc: 79.6610\n",
      "Epoch 5551/10000, Tr Loss: 0.2168, Tr Acc: 91.4165, Val Loss: 0.4244, Val Acc: 79.8023\n",
      "Epoch 5601/10000, Tr Loss: 0.2157, Tr Acc: 91.4871, Val Loss: 0.4209, Val Acc: 79.5198\n",
      "Epoch 5651/10000, Tr Loss: 0.2130, Tr Acc: 92.0170, Val Loss: 0.4082, Val Acc: 79.3785\n",
      "Epoch 5701/10000, Tr Loss: 0.2083, Tr Acc: 92.0876, Val Loss: 0.4083, Val Acc: 79.5198\n",
      "Epoch 5751/10000, Tr Loss: 0.2123, Tr Acc: 92.0876, Val Loss: 0.4234, Val Acc: 80.2260\n",
      "Epoch 5801/10000, Tr Loss: 0.2058, Tr Acc: 92.0170, Val Loss: 0.4232, Val Acc: 79.2373\n",
      "Epoch 5851/10000, Tr Loss: 0.2051, Tr Acc: 92.2995, Val Loss: 0.4124, Val Acc: 79.5198\n",
      "Epoch 5901/10000, Tr Loss: 0.2132, Tr Acc: 92.9000, Val Loss: 0.4080, Val Acc: 79.5198\n",
      "Epoch 5951/10000, Tr Loss: 0.2073, Tr Acc: 92.6881, Val Loss: 0.4898, Val Acc: 79.6610\n",
      "Epoch 6001/10000, Tr Loss: 0.2091, Tr Acc: 91.3458, Val Loss: 0.4379, Val Acc: 79.9435\n",
      "Epoch 6051/10000, Tr Loss: 0.2047, Tr Acc: 93.0060, Val Loss: 0.4194, Val Acc: 79.5198\n",
      "Epoch 6101/10000, Tr Loss: 0.1993, Tr Acc: 93.0060, Val Loss: 0.4132, Val Acc: 79.8023\n",
      "Epoch 6151/10000, Tr Loss: 0.2027, Tr Acc: 92.3702, Val Loss: 0.4325, Val Acc: 79.8023\n",
      "Epoch 6201/10000, Tr Loss: 0.1997, Tr Acc: 92.6528, Val Loss: 0.4499, Val Acc: 79.9435\n",
      "Epoch 6251/10000, Tr Loss: 0.2004, Tr Acc: 92.9000, Val Loss: 0.4280, Val Acc: 79.9435\n",
      "Epoch 6301/10000, Tr Loss: 0.2001, Tr Acc: 92.4762, Val Loss: 0.4268, Val Acc: 80.0847\n",
      "Epoch 6351/10000, Tr Loss: 0.1978, Tr Acc: 93.1473, Val Loss: 0.4314, Val Acc: 79.6610\n",
      "Epoch 6401/10000, Tr Loss: 0.1984, Tr Acc: 92.6528, Val Loss: 0.4231, Val Acc: 80.2260\n",
      "Epoch 6451/10000, Tr Loss: 0.1995, Tr Acc: 92.4762, Val Loss: 0.4469, Val Acc: 79.8023\n",
      "Epoch 6501/10000, Tr Loss: 0.1948, Tr Acc: 92.4408, Val Loss: 0.4409, Val Acc: 79.6610\n",
      "Epoch 6551/10000, Tr Loss: 0.1933, Tr Acc: 92.9354, Val Loss: 0.4195, Val Acc: 80.0847\n",
      "Epoch 6601/10000, Tr Loss: 0.1921, Tr Acc: 92.7941, Val Loss: 0.4235, Val Acc: 80.0847\n",
      "Epoch 6651/10000, Tr Loss: 0.1929, Tr Acc: 92.9000, Val Loss: 0.4446, Val Acc: 80.0847\n",
      "Epoch 6701/10000, Tr Loss: 0.1920, Tr Acc: 93.1473, Val Loss: 0.4377, Val Acc: 79.9435\n",
      "Epoch 6751/10000, Tr Loss: 0.1911, Tr Acc: 92.7941, Val Loss: 0.4419, Val Acc: 79.5198\n",
      "Epoch 6801/10000, Tr Loss: 0.1900, Tr Acc: 93.0767, Val Loss: 0.4147, Val Acc: 79.9435\n",
      "Epoch 6851/10000, Tr Loss: 0.1914, Tr Acc: 93.0413, Val Loss: 0.4240, Val Acc: 80.0847\n",
      "Epoch 6901/10000, Tr Loss: 0.1858, Tr Acc: 93.7125, Val Loss: 0.4204, Val Acc: 79.8023\n",
      "Epoch 6951/10000, Tr Loss: 0.1888, Tr Acc: 92.6881, Val Loss: 0.4172, Val Acc: 79.8023\n",
      "Epoch 7001/10000, Tr Loss: 0.1847, Tr Acc: 93.1473, Val Loss: 0.4184, Val Acc: 79.6610\n",
      "Epoch 7051/10000, Tr Loss: 0.1849, Tr Acc: 93.5712, Val Loss: 0.4537, Val Acc: 79.5198\n",
      "Epoch 7101/10000, Tr Loss: 0.1830, Tr Acc: 93.0767, Val Loss: 0.4180, Val Acc: 79.8023\n",
      "Epoch 7151/10000, Tr Loss: 0.1809, Tr Acc: 93.4652, Val Loss: 0.4283, Val Acc: 79.8023\n",
      "Epoch 7201/10000, Tr Loss: 0.1805, Tr Acc: 93.5005, Val Loss: 0.4343, Val Acc: 79.8023\n",
      "Epoch 7251/10000, Tr Loss: 0.1829, Tr Acc: 93.3946, Val Loss: 0.4495, Val Acc: 79.8023\n",
      "Epoch 7301/10000, Tr Loss: 0.1755, Tr Acc: 93.5712, Val Loss: 0.4158, Val Acc: 79.6610\n",
      "Epoch 7351/10000, Tr Loss: 0.1795, Tr Acc: 93.5712, Val Loss: 0.4276, Val Acc: 79.9435\n",
      "Epoch 7401/10000, Tr Loss: 0.1789, Tr Acc: 93.5359, Val Loss: 0.4558, Val Acc: 80.2260\n",
      "Epoch 7451/10000, Tr Loss: 0.1756, Tr Acc: 93.6065, Val Loss: 0.4249, Val Acc: 79.8023\n",
      "Epoch 7501/10000, Tr Loss: 0.1743, Tr Acc: 94.0304, Val Loss: 0.4164, Val Acc: 79.9435\n",
      "Epoch 7551/10000, Tr Loss: 0.1746, Tr Acc: 93.9951, Val Loss: 0.4359, Val Acc: 79.6610\n",
      "Epoch 7601/10000, Tr Loss: 0.1724, Tr Acc: 93.9951, Val Loss: 0.4407, Val Acc: 79.8023\n",
      "Epoch 7651/10000, Tr Loss: 0.1699, Tr Acc: 94.1717, Val Loss: 0.4189, Val Acc: 79.9435\n",
      "Epoch 7701/10000, Tr Loss: 0.1791, Tr Acc: 93.8538, Val Loss: 0.4510, Val Acc: 79.3785\n",
      "Epoch 7751/10000, Tr Loss: 0.1717, Tr Acc: 93.8184, Val Loss: 0.4442, Val Acc: 80.0847\n",
      "Epoch 7801/10000, Tr Loss: 0.1694, Tr Acc: 94.0657, Val Loss: 0.4237, Val Acc: 79.6610\n",
      "Epoch 7851/10000, Tr Loss: 0.1698, Tr Acc: 94.3130, Val Loss: 0.4235, Val Acc: 79.8023\n",
      "Epoch 7901/10000, Tr Loss: 0.1680, Tr Acc: 94.1717, Val Loss: 0.4238, Val Acc: 79.6610\n",
      "Epoch 7951/10000, Tr Loss: 0.1631, Tr Acc: 94.5602, Val Loss: 0.4336, Val Acc: 79.8023\n",
      "Epoch 8001/10000, Tr Loss: 0.1669, Tr Acc: 94.6309, Val Loss: 0.4220, Val Acc: 79.9435\n",
      "Epoch 8051/10000, Tr Loss: 0.1628, Tr Acc: 93.8891, Val Loss: 0.4482, Val Acc: 79.6610\n",
      "Epoch 8101/10000, Tr Loss: 0.1625, Tr Acc: 94.4543, Val Loss: 0.4257, Val Acc: 79.9435\n",
      "Epoch 8151/10000, Tr Loss: 0.1644, Tr Acc: 94.2070, Val Loss: 0.4398, Val Acc: 79.6610\n",
      "Epoch 8201/10000, Tr Loss: 0.1587, Tr Acc: 94.5249, Val Loss: 0.4268, Val Acc: 79.6610\n",
      "Epoch 8251/10000, Tr Loss: 0.1614, Tr Acc: 94.5956, Val Loss: 0.4414, Val Acc: 79.8023\n",
      "Epoch 8301/10000, Tr Loss: 0.1646, Tr Acc: 94.3130, Val Loss: 0.4391, Val Acc: 79.9435\n",
      "Epoch 8351/10000, Tr Loss: 0.1637, Tr Acc: 94.5249, Val Loss: 0.4237, Val Acc: 79.9435\n",
      "Epoch 8401/10000, Tr Loss: 0.1630, Tr Acc: 94.3483, Val Loss: 0.4603, Val Acc: 80.0847\n",
      "Epoch 8451/10000, Tr Loss: 0.1560, Tr Acc: 94.6309, Val Loss: 0.4342, Val Acc: 79.8023\n",
      "Epoch 8501/10000, Tr Loss: 0.1564, Tr Acc: 94.7015, Val Loss: 0.4465, Val Acc: 79.6610\n",
      "Epoch 8551/10000, Tr Loss: 0.1622, Tr Acc: 94.1364, Val Loss: 0.4492, Val Acc: 79.8023\n",
      "Epoch 8601/10000, Tr Loss: 0.1561, Tr Acc: 95.2667, Val Loss: 0.4402, Val Acc: 79.8023\n",
      "Epoch 8651/10000, Tr Loss: 0.1538, Tr Acc: 94.9488, Val Loss: 0.4345, Val Acc: 79.9435\n",
      "Epoch 8701/10000, Tr Loss: 0.1550, Tr Acc: 94.4896, Val Loss: 0.4616, Val Acc: 79.8023\n",
      "Epoch 8751/10000, Tr Loss: 0.1483, Tr Acc: 95.3727, Val Loss: 0.4554, Val Acc: 79.8023\n",
      "Epoch 8801/10000, Tr Loss: 0.1515, Tr Acc: 95.1254, Val Loss: 0.4290, Val Acc: 79.8023\n",
      "Epoch 8851/10000, Tr Loss: 0.1509, Tr Acc: 94.9488, Val Loss: 0.4669, Val Acc: 79.8023\n",
      "Epoch 8901/10000, Tr Loss: 0.1498, Tr Acc: 95.0548, Val Loss: 0.4552, Val Acc: 80.0847\n",
      "Epoch 8951/10000, Tr Loss: 0.1518, Tr Acc: 94.8781, Val Loss: 0.4726, Val Acc: 79.6610\n",
      "Epoch 9001/10000, Tr Loss: 0.1501, Tr Acc: 95.1960, Val Loss: 0.4347, Val Acc: 79.5198\n",
      "Epoch 9051/10000, Tr Loss: 0.1512, Tr Acc: 94.9841, Val Loss: 0.4381, Val Acc: 80.3672\n",
      "Epoch 9101/10000, Tr Loss: 0.1485, Tr Acc: 95.0194, Val Loss: 0.4338, Val Acc: 79.8023\n",
      "Epoch 9151/10000, Tr Loss: 0.1520, Tr Acc: 94.5956, Val Loss: 0.4310, Val Acc: 79.8023\n",
      "Epoch 9201/10000, Tr Loss: 0.1494, Tr Acc: 94.9488, Val Loss: 0.4532, Val Acc: 79.5198\n",
      "Epoch 9251/10000, Tr Loss: 0.1447, Tr Acc: 95.3727, Val Loss: 0.4479, Val Acc: 79.6610\n",
      "Epoch 9301/10000, Tr Loss: 0.1473, Tr Acc: 94.9488, Val Loss: 0.4418, Val Acc: 79.9435\n",
      "Epoch 9351/10000, Tr Loss: 0.1425, Tr Acc: 95.7259, Val Loss: 0.4862, Val Acc: 80.3672\n",
      "Epoch 9401/10000, Tr Loss: 0.1481, Tr Acc: 95.0901, Val Loss: 0.4442, Val Acc: 80.0847\n",
      "Epoch 9451/10000, Tr Loss: 0.1469, Tr Acc: 95.0548, Val Loss: 0.4502, Val Acc: 79.8023\n",
      "Epoch 9501/10000, Tr Loss: 0.1439, Tr Acc: 95.1254, Val Loss: 0.4447, Val Acc: 79.8023\n",
      "Epoch 9551/10000, Tr Loss: 0.1450, Tr Acc: 95.4080, Val Loss: 0.4678, Val Acc: 80.3672\n",
      "Epoch 9601/10000, Tr Loss: 0.1407, Tr Acc: 95.5493, Val Loss: 0.5036, Val Acc: 79.9435\n",
      "Epoch 9651/10000, Tr Loss: 0.1397, Tr Acc: 95.7965, Val Loss: 0.4532, Val Acc: 80.2260\n",
      "Epoch 9701/10000, Tr Loss: 0.1381, Tr Acc: 95.7612, Val Loss: 0.4435, Val Acc: 80.0847\n",
      "Epoch 9751/10000, Tr Loss: 0.1415, Tr Acc: 95.1254, Val Loss: 0.4456, Val Acc: 80.2260\n",
      "Epoch 9801/10000, Tr Loss: 0.1370, Tr Acc: 96.0791, Val Loss: 0.4468, Val Acc: 79.6610\n",
      "Epoch 9851/10000, Tr Loss: 0.1396, Tr Acc: 95.6906, Val Loss: 0.4481, Val Acc: 80.0847\n",
      "Epoch 9901/10000, Tr Loss: 0.1392, Tr Acc: 95.7259, Val Loss: 0.4367, Val Acc: 80.0847\n",
      "Epoch 9951/10000, Tr Loss: 0.1375, Tr Acc: 95.5493, Val Loss: 0.4359, Val Acc: 80.0847\n"
     ]
    }
   ],
   "source": [
    "# Train the model\n",
    "num_epochs = 10000\n",
    "\n",
    "train_loss = []\n",
    "valid_loss = []\n",
    "train_accuracy = []\n",
    "valid_accuracy = []\n",
    "old_acc = 0\n",
    "for epoch in range(num_epochs):\n",
    "    iter_loss = 0.0\n",
    "    correct = 0\n",
    "    iterations = 0\n",
    "    \n",
    "    net.train()\n",
    "    \n",
    "    for i, (items, classes) in enumerate(train_loader):\n",
    "        items = Variable(items)\n",
    "        classes = Variable(classes)\n",
    "        \n",
    "        if cuda.is_available():\n",
    "            items = items.cuda(3)\n",
    "            classes = classes.cuda(3)\n",
    "        \n",
    "        optimizer.zero_grad()\n",
    "        outputs = net(items)\n",
    "        loss = criterion(outputs, classes)\n",
    "        #print(outputs)\n",
    "        iter_loss += loss.item()\n",
    "        loss.backward()\n",
    "        optimizer.step()\n",
    "        #print(loss)\n",
    "        _, predicted = torch.max(outputs.data, 1)\n",
    "        correct += (predicted == classes.data).sum()\n",
    "        iterations += 1\n",
    "\n",
    "    train_loss.append(iter_loss/iterations)\n",
    "    \n",
    "    train_accuracy.append((100 * correct.float() / len(train_loader.dataset)))\n",
    "    \n",
    "    loss = 0.0\n",
    "    correct = 0\n",
    "    iterations = 0\n",
    "    net.eval()\n",
    "    \n",
    "    for i, (items, classes) in enumerate(test_loader):\n",
    "        items = Variable(items)\n",
    "        classes = Variable(classes)\n",
    "        \n",
    "        if cuda.is_available():\n",
    "            items = items.cuda(3)\n",
    "            classes = classes.cuda(3)\n",
    "        \n",
    "        outputs = net(items)\n",
    "        loss += criterion(outputs, classes).item()\n",
    "        \n",
    "        _, predicted = torch.max(outputs.data, 1)\n",
    "        correct += (predicted == classes.data).sum()\n",
    "        \n",
    "        iterations += 1\n",
    "\n",
    "    valid_loss.append(loss/iterations)\n",
    "    correct_scalar = np.array([correct.clone().cpu()])[0]\n",
    "    valid_accuracy.append(correct_scalar / len(test_loader.dataset) * 100.0)\n",
    "    if valid_accuracy[-1] > old_acc :\n",
    "        torch.save(net.state_dict(), 'model_')\n",
    "        old_acc = valid_accuracy[-1]\n",
    "    if (epoch%50) == 0 :\n",
    "        print ('Epoch %d/%d, Tr Loss: %.4f, Tr Acc: %.4f, Val Loss: %.4f, Val Acc: %.4f'\n",
    "                   %(epoch+1, num_epochs, train_loss[-1], train_accuracy[-1], valid_loss[-1], valid_accuracy[-1]))\n",
    "print ('Epoch %d/%d, Tr Loss: %.4f, Tr Acc: %.4f, Val Loss: %.4f, Val Acc: %.4f'\n",
    "                   %(epoch+1, num_epochs, train_loss[-1], train_accuracy[-1], valid_loss[-1], valid_accuracy[-1]))\n"
   ]
  },
  {
   "cell_type": "code",
   "execution_count": 53,
   "id": "8a8b7fd5-7c9d-4d45-8479-a22b9b3b9599",
   "metadata": {},
   "outputs": [
    {
     "data": {
      "image/png": "[encoded data removed]",
      "text/plain": [
       "<Figure size 720x720 with 1 Axes>"
      ]
     },
     "metadata": {
      "needs_background": "light"
     },
     "output_type": "display_data"
    }
   ],
   "source": [
    "do_plot(train_accuracy, valid_accuracy,\"acc\")"
   ]
  },
  {
   "cell_type": "code",
   "execution_count": 54,
   "id": "e1fa9269-aff3-4916-bbe8-f0f0dbea9604",
   "metadata": {},
   "outputs": [
    {
     "data": {
      "image/png": "[encoded data removed]",
      "text/plain": [
       "<Figure size 720x720 with 1 Axes>"
      ]
     },
     "metadata": {
      "needs_background": "light"
     },
     "output_type": "display_data"
    }
   ],
   "source": [
    "do_plot(train_loss, valid_loss,\"loss\")"
   ]
  },
  {
   "cell_type": "markdown",
   "id": "3463cc08-42bf-44bf-bb60-f8f91c6ca4d9",
   "metadata": {},
   "source": [
    "### validate\n"
   ]
  },
  {
   "cell_type": "code",
   "execution_count": 80,
   "id": "1fdb330a-630d-44a7-9b63-a9c8e63e7d17",
   "metadata": {},
   "outputs": [
    {
     "name": "stdout",
     "output_type": "stream",
     "text": [
      "Raw done\n",
      ">>> Apply filter.\n",
      "Filtering raw data in 3 contiguous segments\n",
      "Setting up band-pass filter from 1 - 40 Hz\n",
      "\n",
      "FIR filter parameters\n",
      "---------------------\n",
      "Designing a one-pass, zero-phase, non-causal bandpass filter:\n",
      "- Windowed time-domain design (firwin) method\n",
      "- Hamming window with 0.0194 passband ripple and 53 dB stopband attenuation\n",
      "- Lower passband edge: 1.00\n",
      "- Lower transition bandwidth: 1.00 Hz (-6 dB cutoff frequency: 0.50 Hz)\n",
      "- Upper passband edge: 40.00 Hz\n",
      "- Upper transition bandwidth: 10.00 Hz (-6 dB cutoff frequency: 45.00 Hz)\n",
      "- Filter length: 529 samples (3.306 sec)\n",
      "\n"
     ]
    },
    {
     "name": "stderr",
     "output_type": "stream",
     "text": [
      "[Parallel(n_jobs=1)]: Using backend SequentialBackend with 1 concurrent workers.\n",
      "[Parallel(n_jobs=1)]: Done   1 out of   1 | elapsed:    0.0s remaining:    0.0s\n",
      "[Parallel(n_jobs=1)]: Done   2 out of   2 | elapsed:    0.0s remaining:    0.0s\n",
      "[Parallel(n_jobs=1)]: Done   3 out of   3 | elapsed:    0.0s remaining:    0.0s\n",
      "[Parallel(n_jobs=1)]: Done   4 out of   4 | elapsed:    0.0s remaining:    0.0s\n",
      "[Parallel(n_jobs=1)]: Done  64 out of  64 | elapsed:    0.1s finished\n"
     ]
    },
    {
     "name": "stdout",
     "output_type": "stream",
     "text": [
      "Filter done\n",
      ">>> Create Epochs.\n",
      "Used Annotations descriptions: ['T1', 'T2']\n",
      "Not setting metadata\n",
      "45 matching events found\n",
      "No baseline correction applied\n",
      "0 projection items activated\n",
      "Using data from preloaded Raw for 45 events and 641 original time points ...\n",
      "0 bad epochs dropped\n"
     ]
    },
    {
     "data": {
      "text/plain": [
       "(array([[  672,     0,     0],\n",
       "        [ 2000,     0,     1],\n",
       "        [ 3328,     0,     1],\n",
       "        [ 4656,     0,     0],\n",
       "        [ 5984,     0,     0],\n",
       "        [ 7312,     0,     1],\n",
       "        [ 8640,     0,     1],\n",
       "        [ 9968,     0,     0],\n",
       "        [11296,     0,     1],\n",
       "        [12624,     0,     0],\n",
       "        [13952,     0,     1],\n",
       "        [15280,     0,     0],\n",
       "        [16608,     0,     1],\n",
       "        [17936,     0,     0],\n",
       "        [19264,     0,     0],\n",
       "        [20672,     0,     0],\n",
       "        [22000,     0,     1],\n",
       "        [23328,     0,     0],\n",
       "        [24656,     0,     1],\n",
       "        [25984,     0,     1],\n",
       "        [27312,     0,     0],\n",
       "        [28640,     0,     0],\n",
       "        [29968,     0,     1],\n",
       "        [31296,     0,     1],\n",
       "        [32624,     0,     0],\n",
       "        [33952,     0,     1],\n",
       "        [35280,     0,     0],\n",
       "        [36608,     0,     1],\n",
       "        [37936,     0,     0],\n",
       "        [39264,     0,     1],\n",
       "        [40672,     0,     0],\n",
       "        [42000,     0,     1],\n",
       "        [43328,     0,     1],\n",
       "        [44656,     0,     0],\n",
       "        [45984,     0,     1],\n",
       "        [47312,     0,     0],\n",
       "        [48640,     0,     0],\n",
       "        [49968,     0,     1],\n",
       "        [51296,     0,     1],\n",
       "        [52624,     0,     0],\n",
       "        [53952,     0,     0],\n",
       "        [55280,     0,     1],\n",
       "        [56608,     0,     0],\n",
       "        [57936,     0,     1],\n",
       "        [59264,     0,     1]]),\n",
       " {'T1': 0, 'T2': 1})"
      ]
     },
     "execution_count": 80,
     "metadata": {},
     "output_type": "execute_result"
    }
   ],
   "source": [
    "# home directory + datasets folder\n",
    "#path = '/content/drive/MyDrive/MNE-eegbci-data/files/eegmmidb/'\n",
    "path = '1.0.0'\n",
    "base_url = 'https://physionet.org/files/eegmmidb/'\n",
    "# subjects = [1]\n",
    "#runs = [3, 4, 7, 8, 11, 12]\n",
    "runs = [4, 8, 12]\n",
    "subjects = [i for i in range(83,84)]\n",
    "#subjects = [1]\n",
    "# runs = [6,10,14]\n",
    "\n",
    "eeg = EEG(path, base_url, subjects, runs)\n",
    "raw=eeg.data_to_raw()\n",
    "print(\"Raw done\")\n",
    "# apply filter\n",
    "freq = (1., 40.)\n",
    "raw=eeg.filter(freq=freq)\n",
    "#raw=eeg.data_to_raw()\n",
    "print(\"Filter done\")\n",
    "#raw=eeg.raw_ica()\n",
    "eeg.create_epochs()"
   ]
  },
  {
   "cell_type": "code",
   "execution_count": 81,
   "id": "5d776b41-bffa-4706-8e0b-b401ae6e9f06",
   "metadata": {},
   "outputs": [
    {
     "name": "stdout",
     "output_type": "stream",
     "text": [
      "(45, 64, 641) (45,)\n"
     ]
    },
    {
     "data": {
      "text/plain": [
       "(45, 64, 641)"
      ]
     },
     "execution_count": 81,
     "metadata": {},
     "output_type": "execute_result"
    }
   ],
   "source": [
    "X_val, y_val = eeg.get_X_y()\n",
    "\n",
    "print(X.shape, y.shape)\n",
    "\n",
    "X_val = X_val[:,:,:]\n",
    "X_val.shape"
   ]
  },
  {
   "cell_type": "code",
   "execution_count": 82,
   "id": "e591afc7-bae9-44e4-95a9-7410b980da3f",
   "metadata": {},
   "outputs": [],
   "source": [
    "test_loader = create_dataloader(X_val, y_val, batch_size=batch_size)"
   ]
  },
  {
   "cell_type": "code",
   "execution_count": 101,
   "id": "e75f0fb0-2262-4a55-828d-dd30f3179a53",
   "metadata": {},
   "outputs": [
    {
     "name": "stdout",
     "output_type": "stream",
     "text": [
      " Val Acc: 88.8889\n"
     ]
    }
   ],
   "source": [
    "# Train the model\n",
    "num_epochs = 1\n",
    "\n",
    "train_loss = []\n",
    "valid_loss = []\n",
    "train_accuracy = []\n",
    "valid_accuracy = []\n",
    "old_acc = 0\n",
    "for epoch in range(num_epochs):\n",
    "\n",
    "    loss = 0.0\n",
    "    correct = 0\n",
    "    iterations = 0\n",
    "    net.eval()\n",
    "    for i, (items, classes) in enumerate(test_loader):\n",
    "        items = Variable(items)\n",
    "        classes = Variable(classes)\n",
    "        \n",
    "        if cuda.is_available():\n",
    "            items = items.cuda(3)\n",
    "            classes = classes.cuda(3)\n",
    "        \n",
    "        outputs = net(items)\n",
    "        loss += criterion(outputs, classes).item()\n",
    "        \n",
    "        _, predicted = torch.max(outputs.data, 1)\n",
    "        correct += (predicted == classes.data).sum()\n",
    "        \n",
    "        iterations += 1\n",
    "\n",
    "    valid_loss.append(loss/iterations)\n",
    "    correct_scalar = np.array([correct.clone().cpu()])[0]\n",
    "    valid_accuracy.append(correct_scalar / len(test_loader.dataset) * 100.0)\n",
    "print (' Val Acc: %.4f'\n",
    "                   %(valid_accuracy[-1]))\n"
   ]
  },
  {
   "cell_type": "markdown",
   "id": "1b544cb1-a832-460c-a623-f682258d9128",
   "metadata": {},
   "source": [
    "### Freeze layer"
   ]
  },
  {
   "cell_type": "code",
   "execution_count": 84,
   "id": "39fbabc3-469a-4aec-8f86-b76d190c36e2",
   "metadata": {},
   "outputs": [
    {
     "name": "stdout",
     "output_type": "stream",
     "text": [
      "Parameter containing:\n",
      "tensor([[[ 4.1647e-02,  3.4528e-02, -5.7438e-02, -4.7233e-02,  2.3287e-02],\n",
      "         [ 1.4989e-02, -5.6901e-03,  1.8233e-02, -2.4305e-02, -3.6511e-02],\n",
      "         [-4.9470e-02,  3.7368e-02,  1.5992e-02, -5.2324e-02, -4.6464e-02],\n",
      "         ...,\n",
      "         [ 4.0320e-02, -1.3623e-02,  4.8849e-02,  5.8337e-03,  5.1701e-02],\n",
      "         [-3.5901e-02, -2.9651e-02, -2.4911e-02, -1.4278e-02, -3.8129e-03],\n",
      "         [ 1.6191e-02,  6.7435e-03, -2.5139e-02,  4.9338e-02, -5.5015e-02]],\n",
      "\n",
      "        [[ 3.5161e-02,  1.7648e-02, -2.9901e-02,  3.2451e-02, -6.8587e-03],\n",
      "         [ 2.4664e-02, -1.7039e-02, -2.3792e-02, -3.5417e-02,  3.6605e-02],\n",
      "         [-3.9870e-02,  2.4531e-02,  3.1589e-02, -4.7702e-02,  3.1310e-02],\n",
      "         ...,\n",
      "         [-9.2841e-03, -3.8762e-02,  4.7822e-03,  5.0097e-02, -3.5561e-02],\n",
      "         [ 3.4020e-02, -3.8841e-02, -4.3921e-02, -3.5000e-02,  3.0236e-02],\n",
      "         [ 3.2494e-02,  7.3372e-03,  2.7424e-02,  6.4405e-03,  5.4075e-02]],\n",
      "\n",
      "        [[ 2.8824e-02,  1.4765e-02, -3.6367e-02, -4.0954e-02,  2.2092e-02],\n",
      "         [-2.8004e-03,  3.8529e-04, -4.8772e-02,  6.7670e-03, -3.8765e-02],\n",
      "         [ 4.2687e-02,  1.7970e-02, -4.0735e-02, -4.4579e-02,  1.1522e-02],\n",
      "         ...,\n",
      "         [-3.9044e-02,  1.4203e-02, -1.5680e-03,  3.4154e-02,  3.6317e-02],\n",
      "         [ 9.9423e-04, -3.0522e-02, -5.2972e-02, -1.9573e-02,  8.3829e-04],\n",
      "         [ 1.7278e-02, -1.5854e-02, -2.0382e-02,  3.1798e-02,  4.1996e-02]],\n",
      "\n",
      "        ...,\n",
      "\n",
      "        [[-7.5661e-03, -4.3987e-03,  3.1617e-02,  2.8222e-03, -3.9121e-03],\n",
      "         [-1.1598e-02, -4.3462e-02, -1.7880e-02,  1.3649e-02,  1.4931e-02],\n",
      "         [ 2.2669e-03,  4.0095e-02,  2.8446e-02, -1.7757e-02,  3.0897e-02],\n",
      "         ...,\n",
      "         [-5.4711e-02,  1.1441e-03, -4.2720e-02, -5.2366e-02,  3.0126e-02],\n",
      "         [ 4.6360e-02,  3.9618e-02,  2.6463e-03,  2.2740e-02, -3.3569e-02],\n",
      "         [-4.8391e-02,  5.0534e-02,  2.1935e-02, -4.0827e-02, -9.9365e-03]],\n",
      "\n",
      "        [[-1.2845e-02,  1.9971e-03, -4.4461e-02,  3.8409e-02,  2.3950e-02],\n",
      "         [ 3.3379e-02,  1.2829e-02, -4.8019e-02, -2.0491e-02,  1.4815e-02],\n",
      "         [-4.4029e-02, -3.1993e-02,  3.6781e-02,  2.1198e-02, -3.5508e-02],\n",
      "         ...,\n",
      "         [-1.3377e-02, -4.0980e-02,  3.0147e-03, -5.6406e-02, -5.8708e-02],\n",
      "         [ 2.4865e-03, -1.4307e-02, -4.2247e-02,  9.0559e-05, -4.9553e-02],\n",
      "         [ 5.4458e-03,  1.4065e-02,  4.7734e-02,  3.1252e-02,  1.6678e-02]],\n",
      "\n",
      "        [[-2.8968e-02,  6.3136e-03,  4.1625e-02, -3.0447e-02, -7.2668e-03],\n",
      "         [-4.5249e-02,  1.6216e-02,  3.8491e-02, -2.7225e-02, -9.5477e-03],\n",
      "         [-2.9516e-02,  3.9766e-02, -4.5493e-03,  2.4520e-02,  3.9197e-02],\n",
      "         ...,\n",
      "         [ 2.1761e-02, -3.8446e-02, -2.1734e-02,  2.3387e-02, -2.5033e-02],\n",
      "         [ 2.3715e-02,  2.0376e-02,  4.4517e-02,  4.3592e-02, -5.6284e-03],\n",
      "         [ 4.4319e-02, -3.3858e-02, -4.4137e-02, -3.3015e-02, -2.7262e-02]]],\n",
      "       device='cuda:3')\n",
      "Parameter containing:\n",
      "tensor([-0.0291, -0.0417,  0.0493, -0.0024, -0.0473,  0.0344, -0.0107, -0.0408,\n",
      "         0.0523,  0.0278,  0.0383,  0.0052,  0.0079, -0.0196, -0.0181,  0.0175,\n",
      "        -0.0065, -0.0229, -0.0286,  0.0096, -0.0425,  0.0234,  0.0425,  0.0123,\n",
      "        -0.0420,  0.0255,  0.0331, -0.0174, -0.0299,  0.0543,  0.0263, -0.0112,\n",
      "        -0.0393, -0.0014,  0.0329, -0.0144,  0.0425, -0.0498, -0.0005, -0.0202,\n",
      "         0.0467,  0.0458,  0.0156,  0.0266,  0.0275,  0.0385,  0.0308,  0.0194,\n",
      "        -0.0246,  0.0171,  0.0413, -0.0150, -0.0225,  0.0447,  0.0018,  0.0364,\n",
      "        -0.0146,  0.0138,  0.0421, -0.0497,  0.0396,  0.0561,  0.0460, -0.0285],\n",
      "       device='cuda:3')\n",
      "Parameter containing:\n",
      "tensor([1.0028, 1.0032, 1.0021, 1.0015, 1.0016, 1.0014, 1.0011, 1.0014, 1.0037,\n",
      "        1.0030, 1.0027, 1.0019, 1.0004, 1.0025, 1.0019, 1.0014, 1.0018, 1.0009,\n",
      "        1.0010, 1.0023, 1.0024, 1.0015, 1.0018, 1.0009, 1.0013, 1.0017, 1.0010,\n",
      "        1.0009, 1.0015, 1.0056, 1.0017, 1.0002, 1.0008, 1.0008, 1.0016, 1.0015,\n",
      "        1.0007, 1.0006, 1.0006, 1.0008, 1.0018, 1.0027, 1.0013, 1.0027, 1.0004,\n",
      "        1.0035, 1.0009, 1.0059, 0.9967, 1.0008, 1.0012, 1.0009, 1.0017, 1.0041,\n",
      "        1.0010, 1.0011, 1.0044, 1.0010, 0.9970, 1.0008, 1.0006, 1.0008, 1.0026,\n",
      "        1.0021], device='cuda:3')\n",
      "Parameter containing:\n",
      "tensor([ 0.0017,  0.0007,  0.0012,  0.0012,  0.0011,  0.0007,  0.0014,  0.0009,\n",
      "         0.0017,  0.0012,  0.0013,  0.0013,  0.0003,  0.0015,  0.0019, -0.0002,\n",
      "         0.0012,  0.0009,  0.0018,  0.0017,  0.0013,  0.0012, -0.0002,  0.0010,\n",
      "         0.0013,  0.0007,  0.0008,  0.0008,  0.0009,  0.0017,  0.0016, -0.0006,\n",
      "        -0.0007,  0.0012,  0.0018,  0.0006,  0.0013,  0.0005,  0.0009, -0.0002,\n",
      "         0.0012,  0.0010,  0.0009,  0.0016, -0.0002,  0.0019, -0.0013,  0.0019,\n",
      "         0.0005,  0.0013,  0.0013,  0.0012,  0.0010,  0.0007,  0.0013,  0.0003,\n",
      "         0.0013, -0.0010, -0.0040,  0.0010, -0.0004,  0.0018,  0.0012,  0.0014],\n",
      "       device='cuda:3')\n",
      "Parameter containing:\n",
      "tensor([[[-1.6470e-02, -2.1441e-02, -3.2774e-02,  4.8768e-02,  1.1380e-02],\n",
      "         [ 3.8128e-02,  4.0583e-03, -1.3012e-03,  2.8485e-05, -1.7355e-02],\n",
      "         [ 2.6851e-02, -4.0928e-02, -1.4957e-03,  5.1069e-02,  3.2448e-02],\n",
      "         ...,\n",
      "         [ 4.0273e-02,  1.8413e-03, -3.6851e-02, -4.6609e-02, -2.8686e-02],\n",
      "         [-8.6218e-03,  3.6343e-02,  3.4861e-02, -4.2653e-02,  3.0469e-02],\n",
      "         [-2.7943e-02, -5.1773e-02, -4.3858e-02, -7.3528e-03, -3.4963e-02]],\n",
      "\n",
      "        [[-3.4538e-02, -4.5807e-02,  4.9448e-02,  5.0518e-02,  1.0984e-02],\n",
      "         [ 4.1366e-02, -4.1433e-02,  4.4718e-02,  7.9920e-03, -4.6423e-02],\n",
      "         [-5.0320e-02, -2.7322e-02, -2.1259e-02, -3.0302e-02,  3.8611e-02],\n",
      "         ...,\n",
      "         [ 2.2177e-02, -1.3442e-02,  1.2098e-03,  1.1227e-02,  1.9534e-02],\n",
      "         [-4.7855e-02,  4.3203e-02, -1.0058e-03, -1.7702e-03, -1.0769e-02],\n",
      "         [-5.9128e-03,  5.0395e-02, -1.7882e-02,  5.9242e-03, -5.6556e-02]],\n",
      "\n",
      "        [[ 1.1440e-02,  4.0510e-02, -4.1774e-02,  4.1367e-02,  4.6549e-02],\n",
      "         [ 4.1479e-02, -5.3982e-02, -2.9870e-02,  1.9772e-02, -1.5910e-02],\n",
      "         [ 2.2733e-02, -1.2438e-02, -8.4402e-03,  2.2968e-02, -1.7606e-02],\n",
      "         ...,\n",
      "         [ 3.0567e-02, -1.8674e-03, -1.2382e-02,  2.5601e-03,  2.5466e-02],\n",
      "         [-4.6378e-02,  2.9575e-02,  5.4928e-02,  3.7553e-02, -5.2113e-02],\n",
      "         [-4.8924e-02, -7.9425e-04,  5.0187e-02,  2.8184e-02,  5.1535e-02]],\n",
      "\n",
      "        ...,\n",
      "\n",
      "        [[ 5.5689e-02,  6.0629e-02,  2.3110e-02,  5.1377e-02, -2.2090e-02],\n",
      "         [ 3.6226e-02,  4.9559e-03, -2.5904e-02,  4.1635e-02, -2.5527e-02],\n",
      "         [-3.0241e-02,  4.3112e-02, -1.4308e-02, -4.6625e-02, -4.9252e-02],\n",
      "         ...,\n",
      "         [-2.9073e-02, -3.1149e-02, -2.3166e-02, -1.1249e-03,  3.0406e-02],\n",
      "         [ 3.5758e-02,  9.7893e-03, -4.4115e-02,  3.3129e-03, -2.7318e-02],\n",
      "         [ 2.4142e-02,  2.9872e-02,  8.2646e-03,  2.1359e-02,  4.2331e-02]],\n",
      "\n",
      "        [[ 8.9584e-03,  5.9259e-02,  6.2063e-02,  3.8365e-02, -9.5346e-03],\n",
      "         [ 1.7590e-02,  2.3766e-02, -2.3042e-02, -4.8536e-02,  1.6645e-02],\n",
      "         [-3.3220e-02, -3.9820e-02,  4.3527e-02, -2.9682e-02, -4.3663e-02],\n",
      "         ...,\n",
      "         [ 1.3656e-02,  3.1093e-02, -2.8482e-02, -1.3673e-02, -4.5257e-02],\n",
      "         [ 2.9137e-02, -4.3419e-02, -1.9593e-02, -2.7833e-02, -1.9963e-02],\n",
      "         [ 8.8027e-03,  2.7464e-02, -7.5699e-03,  1.4524e-02, -5.2109e-02]],\n",
      "\n",
      "        [[ 3.2886e-02,  1.2235e-02,  2.2875e-03, -4.6811e-02,  3.2583e-02],\n",
      "         [ 4.0247e-02,  1.6966e-02, -1.6681e-02,  5.3863e-02, -2.7493e-02],\n",
      "         [ 4.7958e-02, -2.3627e-02,  4.7509e-02,  3.8762e-02, -2.1922e-02],\n",
      "         ...,\n",
      "         [ 1.6402e-02, -3.9567e-03,  4.3484e-02,  4.5081e-02, -5.1915e-02],\n",
      "         [-5.3311e-02,  3.0924e-02, -4.5815e-02, -4.1589e-03, -4.7676e-02],\n",
      "         [-3.2816e-03, -3.9415e-02,  9.5804e-05, -8.2858e-03,  3.8894e-02]]],\n",
      "       device='cuda:3')\n",
      "Parameter containing:\n",
      "tensor([ 3.9156e-02,  4.8002e-02, -8.5742e-03, -5.2428e-03, -1.0122e-02,\n",
      "        -4.8356e-02, -4.6249e-02, -2.8289e-02, -3.5431e-03,  5.1186e-02,\n",
      "        -2.6992e-02, -5.2796e-02, -1.0515e-02,  3.2348e-02, -2.6065e-02,\n",
      "        -2.7734e-02,  5.0628e-03,  2.8502e-02, -3.7820e-02, -4.3754e-02,\n",
      "        -2.2383e-02, -5.4794e-03, -4.1161e-02, -5.5689e-02,  2.1425e-02,\n",
      "        -2.1625e-02, -3.3283e-02, -3.6811e-02,  3.8658e-02, -4.6823e-02,\n",
      "        -1.6938e-02,  4.9041e-02,  3.2823e-02, -3.7870e-03, -5.0817e-02,\n",
      "         1.4099e-02, -1.9052e-02, -5.1892e-02, -4.4792e-02,  3.4775e-02,\n",
      "         3.4824e-02, -1.9233e-02,  4.4584e-02, -2.9763e-02,  6.0987e-03,\n",
      "         5.2137e-02,  3.1275e-02, -4.4472e-02, -2.5058e-02, -2.6822e-02,\n",
      "        -1.9537e-02,  3.4602e-03, -4.4940e-02,  4.4854e-02, -3.9248e-02,\n",
      "        -6.3306e-03,  3.0792e-02, -7.2908e-04,  5.5555e-02,  1.0694e-02,\n",
      "        -4.2307e-02, -5.1302e-02, -4.0549e-02,  1.2278e-02, -3.7090e-02,\n",
      "        -3.7437e-02, -4.6765e-02,  4.5141e-02, -4.3343e-02, -2.8776e-02,\n",
      "        -3.2025e-02,  2.8063e-02, -3.7299e-02,  2.3798e-02, -3.2315e-02,\n",
      "         5.0749e-02,  1.2557e-02, -3.3950e-03, -4.4709e-02, -3.6862e-03,\n",
      "        -4.1230e-02, -1.2016e-02, -4.5513e-05,  2.7489e-02, -4.3514e-02,\n",
      "        -1.1229e-02, -5.1719e-02, -1.2731e-02,  1.0681e-02, -4.0219e-02,\n",
      "        -1.5499e-02, -1.5045e-03,  2.9509e-02,  5.0860e-02,  4.5203e-03,\n",
      "         3.3978e-02,  2.1824e-02, -1.4370e-02, -5.1140e-02,  1.2214e-02,\n",
      "        -4.6432e-02, -4.7367e-02,  5.4772e-02,  4.6392e-04,  8.6901e-03,\n",
      "         8.0300e-03,  3.8301e-02,  3.2484e-02, -2.8383e-02,  4.8068e-02,\n",
      "         2.1802e-02,  4.0569e-02,  2.9551e-02,  1.5152e-02, -4.2289e-02,\n",
      "        -4.6299e-02,  4.9663e-02,  1.8008e-02, -4.1857e-02, -1.7265e-02,\n",
      "        -4.0835e-02,  4.6335e-02,  3.4363e-02,  1.5040e-02,  2.9962e-02,\n",
      "         2.9968e-02,  4.5124e-02,  4.7031e-02], device='cuda:3')\n",
      "Parameter containing:\n",
      "tensor([1.0014, 1.0069, 1.0021, 1.0025, 1.0075, 1.0021, 1.0053, 1.0019, 1.0038,\n",
      "        1.0054, 1.0043, 1.0016, 1.0020, 1.0055, 1.0008, 1.0013, 1.0041, 1.0012,\n",
      "        1.0025, 1.0040, 1.0053, 1.0049, 1.0064, 1.0020, 1.0017, 1.0038, 1.0023,\n",
      "        1.0017, 1.0066, 1.0053, 1.0016, 1.0018, 1.0047, 1.0019, 1.0063, 1.0027,\n",
      "        1.0011, 1.0040, 1.0052, 1.0038, 1.0014, 1.0067, 1.0037, 1.0008, 1.0015,\n",
      "        1.0053, 1.0028, 1.0081, 1.0031, 1.0013, 1.0045, 1.0034, 1.0010, 1.0013,\n",
      "        1.0047, 1.0014, 1.0017, 1.0040, 1.0031, 1.0040, 1.0044, 1.0015, 1.0012,\n",
      "        1.0034, 1.0042, 1.0019, 1.0055, 1.0072, 1.0031, 1.0062, 1.0052, 1.0041,\n",
      "        1.0032, 1.0013, 1.0044, 1.0030, 1.0051, 1.0037, 1.0011, 1.0041, 1.0023,\n",
      "        1.0049, 1.0034, 1.0089, 1.0026, 1.0096, 1.0041, 1.0028, 1.0025, 1.0028,\n",
      "        1.0019, 1.0048, 1.0027, 1.0035, 1.0026, 1.0010, 1.0017, 1.0045, 1.0059,\n",
      "        1.0024, 1.0045, 1.0068, 1.0037, 1.0023, 1.0012, 1.0035, 1.0044, 1.0041,\n",
      "        1.0030, 1.0035, 1.0013, 1.0024, 1.0033, 1.0009, 1.0046, 1.0025, 1.0028,\n",
      "        1.0039, 1.0027, 1.0008, 1.0091, 1.0010, 1.0013, 1.0014, 1.0009, 1.0056,\n",
      "        1.0024, 1.0022], device='cuda:3')\n",
      "Parameter containing:\n",
      "tensor([0.0033, 0.0132, 0.0071, 0.0073, 0.0142, 0.0078, 0.0180, 0.0072, 0.0086,\n",
      "        0.0106, 0.0089, 0.0069, 0.0071, 0.0147, 0.0003, 0.0041, 0.0093, 0.0040,\n",
      "        0.0066, 0.0112, 0.0116, 0.0146, 0.0125, 0.0064, 0.0047, 0.0103, 0.0074,\n",
      "        0.0064, 0.0107, 0.0134, 0.0055, 0.0053, 0.0140, 0.0076, 0.0153, 0.0083,\n",
      "        0.0029, 0.0099, 0.0095, 0.0068, 0.0048, 0.0111, 0.0090, 0.0037, 0.0044,\n",
      "        0.0096, 0.0076, 0.0142, 0.0097, 0.0026, 0.0137, 0.0076, 0.0018, 0.0031,\n",
      "        0.0130, 0.0039, 0.0046, 0.0154, 0.0093, 0.0138, 0.0127, 0.0020, 0.0037,\n",
      "        0.0071, 0.0111, 0.0044, 0.0120, 0.0182, 0.0082, 0.0175, 0.0120, 0.0104,\n",
      "        0.0075, 0.0054, 0.0102, 0.0091, 0.0135, 0.0074, 0.0044, 0.0134, 0.0063,\n",
      "        0.0103, 0.0074, 0.0138, 0.0117, 0.0161, 0.0126, 0.0109, 0.0092, 0.0138,\n",
      "        0.0085, 0.0175, 0.0069, 0.0080, 0.0118, 0.0033, 0.0063, 0.0158, 0.0103,\n",
      "        0.0063, 0.0095, 0.0157, 0.0088, 0.0058, 0.0037, 0.0086, 0.0127, 0.0106,\n",
      "        0.0147, 0.0113, 0.0049, 0.0056, 0.0092, 0.0033, 0.0128, 0.0053, 0.0072,\n",
      "        0.0059, 0.0066, 0.0034, 0.0148, 0.0035, 0.0048, 0.0063, 0.0031, 0.0199,\n",
      "        0.0115, 0.0088], device='cuda:3')\n",
      "Parameter containing:\n",
      "tensor([[ 0.0120, -0.1353, -0.0337,  ..., -0.0848, -0.0460,  0.0075],\n",
      "        [-0.0109,  0.1339,  0.0359,  ...,  0.0912,  0.0477, -0.0110]],\n",
      "       device='cuda:3', requires_grad=True)\n",
      "Parameter containing:\n",
      "tensor([-0.0054,  0.0035], device='cuda:3', requires_grad=True)\n"
     ]
    }
   ],
   "source": [
    "for para in net.parameters():\n",
    "    print(para)"
   ]
  },
  {
   "cell_type": "code",
   "execution_count": 85,
   "id": "f879a0a6-89f1-4c17-8b85-4c301377e303",
   "metadata": {},
   "outputs": [
    {
     "data": {
      "text/plain": [
       "odict_keys(['layer1.0.weight', 'layer1.0.bias', 'layer1.1.weight', 'layer1.1.bias', 'layer1.1.running_mean', 'layer1.1.running_var', 'layer1.1.num_batches_tracked', 'layer2.0.weight', 'layer2.0.bias', 'layer2.1.weight', 'layer2.1.bias', 'layer2.1.running_mean', 'layer2.1.running_var', 'layer2.1.num_batches_tracked', 'fc.weight', 'fc.bias'])"
      ]
     },
     "execution_count": 85,
     "metadata": {},
     "output_type": "execute_result"
    }
   ],
   "source": [
    "parms = net.state_dict()\n",
    "parms.keys()"
   ]
  },
  {
   "cell_type": "code",
   "execution_count": 86,
   "id": "45dc7b5e-38bd-4be1-aa32-a11f5e8ef3d7",
   "metadata": {},
   "outputs": [],
   "source": [
    "for name,param in net.named_parameters():\n",
    "    if param.requires_grad and 'layer1' in name:\n",
    "        param.requires_grad = False\n",
    "    if param.requires_grad and 'layer2' in name:\n",
    "        param.requires_grad = False"
   ]
  },
  {
   "cell_type": "code",
   "execution_count": 87,
   "id": "c0342085-ba8c-4f89-b6ed-bbab7d5dcd8f",
   "metadata": {},
   "outputs": [],
   "source": [
    "optimizer = optim.SGD(filter(lambda p: p.requires_grad, net.parameters()), lr=0.1)"
   ]
  },
  {
   "cell_type": "code",
   "execution_count": 94,
   "id": "6322a06c-e29f-497f-9e3d-7c08b0e23f71",
   "metadata": {},
   "outputs": [
    {
     "name": "stdout",
     "output_type": "stream",
     "text": [
      "Raw done\n",
      ">>> Apply filter.\n",
      "Filtering raw data in 3 contiguous segments\n",
      "Setting up band-pass filter from 1 - 40 Hz\n",
      "\n",
      "FIR filter parameters\n",
      "---------------------\n",
      "Designing a one-pass, zero-phase, non-causal bandpass filter:\n",
      "- Windowed time-domain design (firwin) method\n",
      "- Hamming window with 0.0194 passband ripple and 53 dB stopband attenuation\n",
      "- Lower passband edge: 1.00\n",
      "- Lower transition bandwidth: 1.00 Hz (-6 dB cutoff frequency: 0.50 Hz)\n",
      "- Upper passband edge: 40.00 Hz\n",
      "- Upper transition bandwidth: 10.00 Hz (-6 dB cutoff frequency: 45.00 Hz)\n",
      "- Filter length: 529 samples (3.306 sec)\n",
      "\n"
     ]
    },
    {
     "name": "stderr",
     "output_type": "stream",
     "text": [
      "[Parallel(n_jobs=1)]: Using backend SequentialBackend with 1 concurrent workers.\n",
      "[Parallel(n_jobs=1)]: Done   1 out of   1 | elapsed:    0.0s remaining:    0.0s\n",
      "[Parallel(n_jobs=1)]: Done   2 out of   2 | elapsed:    0.0s remaining:    0.0s\n",
      "[Parallel(n_jobs=1)]: Done   3 out of   3 | elapsed:    0.0s remaining:    0.0s\n",
      "[Parallel(n_jobs=1)]: Done   4 out of   4 | elapsed:    0.0s remaining:    0.0s\n",
      "[Parallel(n_jobs=1)]: Done  64 out of  64 | elapsed:    0.1s finished\n"
     ]
    },
    {
     "name": "stdout",
     "output_type": "stream",
     "text": [
      "Filter done\n",
      ">>> Create Epochs.\n",
      "Used Annotations descriptions: ['T1', 'T2']\n",
      "Not setting metadata\n",
      "45 matching events found\n",
      "No baseline correction applied\n",
      "0 projection items activated\n",
      "Using data from preloaded Raw for 45 events and 641 original time points ...\n",
      "0 bad epochs dropped\n"
     ]
    },
    {
     "data": {
      "text/plain": [
       "(array([[  672,     0,     0],\n",
       "        [ 2000,     0,     1],\n",
       "        [ 3328,     0,     1],\n",
       "        [ 4656,     0,     0],\n",
       "        [ 5984,     0,     0],\n",
       "        [ 7312,     0,     1],\n",
       "        [ 8640,     0,     1],\n",
       "        [ 9968,     0,     0],\n",
       "        [11296,     0,     1],\n",
       "        [12624,     0,     0],\n",
       "        [13952,     0,     1],\n",
       "        [15280,     0,     0],\n",
       "        [16608,     0,     1],\n",
       "        [17936,     0,     0],\n",
       "        [19264,     0,     0],\n",
       "        [20672,     0,     0],\n",
       "        [22000,     0,     1],\n",
       "        [23328,     0,     0],\n",
       "        [24656,     0,     1],\n",
       "        [25984,     0,     1],\n",
       "        [27312,     0,     0],\n",
       "        [28640,     0,     0],\n",
       "        [29968,     0,     1],\n",
       "        [31296,     0,     1],\n",
       "        [32624,     0,     0],\n",
       "        [33952,     0,     1],\n",
       "        [35280,     0,     0],\n",
       "        [36608,     0,     1],\n",
       "        [37936,     0,     0],\n",
       "        [39264,     0,     1],\n",
       "        [40672,     0,     0],\n",
       "        [42000,     0,     1],\n",
       "        [43328,     0,     1],\n",
       "        [44656,     0,     0],\n",
       "        [45984,     0,     1],\n",
       "        [47312,     0,     0],\n",
       "        [48640,     0,     0],\n",
       "        [49968,     0,     1],\n",
       "        [51296,     0,     1],\n",
       "        [52624,     0,     0],\n",
       "        [53952,     0,     0],\n",
       "        [55280,     0,     1],\n",
       "        [56608,     0,     0],\n",
       "        [57936,     0,     1],\n",
       "        [59264,     0,     1]]),\n",
       " {'T1': 0, 'T2': 1})"
      ]
     },
     "execution_count": 94,
     "metadata": {},
     "output_type": "execute_result"
    }
   ],
   "source": [
    "# home directory + datasets folder\n",
    "#path = '/content/drive/MyDrive/MNE-eegbci-data/files/eegmmidb/'\n",
    "path = '1.0.0'\n",
    "base_url = 'https://physionet.org/files/eegmmidb/'\n",
    "# subjects = [1]\n",
    "#runs = [3, 4, 7, 8, 11, 12]\n",
    "runs = [4, 8, 12]\n",
    "subjects = [i for i in range(83,84)]\n",
    "#subjects = [1]\n",
    "# runs = [6,10,14]\n",
    "\n",
    "eeg = EEG(path, base_url, subjects, runs)\n",
    "raw=eeg.data_to_raw()\n",
    "print(\"Raw done\")\n",
    "# apply filter\n",
    "freq = (1., 40.)\n",
    "raw=eeg.filter(freq=freq)\n",
    "#raw=eeg.data_to_raw()\n",
    "print(\"Filter done\")\n",
    "#raw=eeg.raw_ica()\n",
    "eeg.create_epochs()"
   ]
  },
  {
   "cell_type": "code",
   "execution_count": 95,
   "id": "213faa07-a62b-4cd9-b769-79c873f76637",
   "metadata": {},
   "outputs": [
    {
     "name": "stdout",
     "output_type": "stream",
     "text": [
      "(45, 64, 641) (45,)\n"
     ]
    },
    {
     "data": {
      "text/plain": [
       "(45, 64, 641)"
      ]
     },
     "execution_count": 95,
     "metadata": {},
     "output_type": "execute_result"
    }
   ],
   "source": [
    "X, y = eeg.get_X_y()\n",
    "\n",
    "print(X.shape, y.shape)\n",
    "\n",
    "X = X[:,:,:]\n",
    "X.shape"
   ]
  },
  {
   "cell_type": "code",
   "execution_count": 96,
   "id": "f888af08-13a2-46d4-a75d-9efd94b6dc8a",
   "metadata": {},
   "outputs": [
    {
     "name": "stdout",
     "output_type": "stream",
     "text": [
      "(36, 64, 641) (36,)\n"
     ]
    }
   ],
   "source": [
    "X_train, X_test, y_train, y_test = train_test_split(X, y, test_size=0.2)\n",
    "\n",
    "print(X_train.shape, y_train.shape)"
   ]
  },
  {
   "cell_type": "code",
   "execution_count": 97,
   "id": "dfaba4cf-417a-4b2d-bf00-65081c4dadee",
   "metadata": {},
   "outputs": [],
   "source": [
    "train_loader = create_dataloader(X_train, y_train, batch_size=batch_size)\n",
    "test_loader = create_dataloader(X_test, y_test, batch_size=batch_size)"
   ]
  },
  {
   "cell_type": "code",
   "execution_count": 98,
   "id": "0129c003-105e-4a1e-bf46-1ec9344fc13f",
   "metadata": {},
   "outputs": [
    {
     "name": "stdout",
     "output_type": "stream",
     "text": [
      "Epoch 1/100, Tr Loss: 172.0203, Tr Acc: 41.6667, Val Loss: 239.8651, Val Acc: 66.6667\n",
      "Epoch 51/100, Tr Loss: 0.0000, Tr Acc: 100.0000, Val Loss: 6.8296, Val Acc: 88.8889\n",
      "Epoch 100/100, Tr Loss: 0.0000, Tr Acc: 100.0000, Val Loss: 6.7768, Val Acc: 88.8889\n"
     ]
    }
   ],
   "source": [
    "# Train the model\n",
    "num_epochs = 100\n",
    "\n",
    "train_loss = []\n",
    "valid_loss = []\n",
    "train_accuracy = []\n",
    "valid_accuracy = []\n",
    "old_acc = 0\n",
    "for epoch in range(num_epochs):\n",
    "    iter_loss = 0.0\n",
    "    correct = 0\n",
    "    iterations = 0\n",
    "    \n",
    "    net.train()\n",
    "    \n",
    "    for i, (items, classes) in enumerate(train_loader):\n",
    "        items = Variable(items)\n",
    "        classes = Variable(classes)\n",
    "        \n",
    "        if cuda.is_available():\n",
    "            items = items.cuda(3)\n",
    "            classes = classes.cuda(3)\n",
    "        \n",
    "        optimizer.zero_grad()\n",
    "        outputs = net(items)\n",
    "        loss = criterion(outputs, classes)\n",
    "        #print(outputs)\n",
    "        iter_loss += loss.item()\n",
    "        loss.backward()\n",
    "        optimizer.step()\n",
    "        #print(loss)\n",
    "        _, predicted = torch.max(outputs.data, 1)\n",
    "        correct += (predicted == classes.data).sum()\n",
    "        iterations += 1\n",
    "\n",
    "    train_loss.append(iter_loss/iterations)\n",
    "    \n",
    "    train_accuracy.append((100 * correct.float() / len(train_loader.dataset)))\n",
    "    \n",
    "    loss = 0.0\n",
    "    correct = 0\n",
    "    iterations = 0\n",
    "    net.eval()\n",
    "    \n",
    "    for i, (items, classes) in enumerate(test_loader):\n",
    "        items = Variable(items)\n",
    "        classes = Variable(classes)\n",
    "        \n",
    "        if cuda.is_available():\n",
    "            items = items.cuda(3)\n",
    "            classes = classes.cuda(3)\n",
    "        \n",
    "        outputs = net(items)\n",
    "        loss += criterion(outputs, classes).item()\n",
    "        \n",
    "        _, predicted = torch.max(outputs.data, 1)\n",
    "        correct += (predicted == classes.data).sum()\n",
    "        \n",
    "        iterations += 1\n",
    "\n",
    "    valid_loss.append(loss/iterations)\n",
    "    correct_scalar = np.array([correct.clone().cpu()])[0]\n",
    "    valid_accuracy.append(correct_scalar / len(test_loader.dataset) * 100.0)\n",
    "    if valid_accuracy[-1] > old_acc :\n",
    "        torch.save(net.state_dict(), 'model_find_tune')\n",
    "        old_acc = valid_accuracy[-1]\n",
    "    if (epoch%50) == 0 :\n",
    "        print ('Epoch %d/%d, Tr Loss: %.4f, Tr Acc: %.4f, Val Loss: %.4f, Val Acc: %.4f'\n",
    "                   %(epoch+1, num_epochs, train_loss[-1], train_accuracy[-1], valid_loss[-1], valid_accuracy[-1]))\n",
    "print ('Epoch %d/%d, Tr Loss: %.4f, Tr Acc: %.4f, Val Loss: %.4f, Val Acc: %.4f'\n",
    "                   %(epoch+1, num_epochs, train_loss[-1], train_accuracy[-1], valid_loss[-1], valid_accuracy[-1]))\n"
   ]
  },
  {
   "cell_type": "code",
   "execution_count": 99,
   "id": "73d7e6d9-5273-4000-a351-3164b5956cd6",
   "metadata": {},
   "outputs": [
    {
     "data": {
      "image/png": "[encoded data removed]",
      "text/plain": [
       "<Figure size 720x720 with 1 Axes>"
      ]
     },
     "metadata": {
      "needs_background": "light"
     },
     "output_type": "display_data"
    }
   ],
   "source": [
    "do_plot(train_accuracy, valid_accuracy,\"acc\")"
   ]
  },
  {
   "cell_type": "code",
   "execution_count": 100,
   "id": "c9dcb2fd-b2b5-4b6c-8505-0e6301f22013",
   "metadata": {},
   "outputs": [
    {
     "data": {
      "image/png": "[encoded data removed]",
      "text/plain": [
       "<Figure size 720x720 with 1 Axes>"
      ]
     },
     "metadata": {
      "needs_background": "light"
     },
     "output_type": "display_data"
    }
   ],
   "source": [
    "do_plot(train_loss, valid_loss,\"loss\")"
   ]
  },
  {
   "cell_type": "code",
   "execution_count": null,
   "id": "1463f200-df21-4705-98c2-a82249e984d7",
   "metadata": {},
   "outputs": [],
   "source": []
  }
 ],
 "metadata": {
  "kernelspec": {
   "display_name": "Python 3 (ipykernel)",
   "language": "python",
   "name": "python3"
  },
  "language_info": {
   "codemirror_mode": {
    "name": "ipython",
    "version": 3
   },
   "file_extension": ".py",
   "mimetype": "text/x-python",
   "name": "python",
   "nbconvert_exporter": "python",
   "pygments_lexer": "ipython3",
   "version": "3.8.10"
  }
 },
 "nbformat": 4,
 "nbformat_minor": 5
}
