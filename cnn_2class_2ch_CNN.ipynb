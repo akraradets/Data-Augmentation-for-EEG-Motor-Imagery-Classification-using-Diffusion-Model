{
 "cells": [
  {
   "cell_type": "code",
   "execution_count": 1,
   "id": "8c66c108-7c19-4d92-8e87-1873c3ea4e99",
   "metadata": {},
   "outputs": [],
   "source": [
    "import os\n",
    "#comment this if you are not using puffer?\n",
    "os.environ['http_proxy'] = 'http://192.41.170.23:3128'\n",
    "os.environ['https_proxy'] = 'http://192.41.170.23:3128'"
   ]
  },
  {
   "cell_type": "code",
   "execution_count": 2,
   "id": "2a72bb6b-d99e-4a4f-a77e-b00892a377c9",
   "metadata": {},
   "outputs": [],
   "source": [
    "#!pip install mne"
   ]
  },
  {
   "cell_type": "code",
   "execution_count": 45,
   "id": "851d3258-8cf6-45d4-8f14-0132010a75a0",
   "metadata": {},
   "outputs": [],
   "source": [
    "import numpy as np\n",
    "import matplotlib.pyplot as plt\n",
    "import mne\n",
    "import os\n",
    "import sys\n",
    "from mne.datasets import eegbci\n",
    "import glob\n",
    "from IPython.display import clear_output\n",
    "import numpy as np\n",
    "import torch\n",
    "from torch import nn\n",
    "import torch.optim as optim\n",
    "\n",
    "from mne.datasets import eegbci\n",
    "from sklearn.model_selection import train_test_split\n",
    "from torch.utils.data import TensorDataset\n",
    "from torch.utils.data import DataLoader\n",
    "from scipy import signal\n",
    "\n",
    "import torch\n",
    "import torch.cuda as cuda\n",
    "import torch.nn as nn\n",
    "from torch.autograd import Variable\n",
    "import math"
   ]
  },
  {
   "cell_type": "code",
   "execution_count": 46,
   "id": "2cd385f6-ab9b-4056-9519-3a8fecd46d59",
   "metadata": {},
   "outputs": [],
   "source": [
    "class EEG:\n",
    "    def __init__(self, path, base_url, subjects, runs):\n",
    "        self.subpath = ''\n",
    "        self.path = path\n",
    "        self.base_url = base_url\n",
    "        self.subjects = subjects\n",
    "        self.runs = runs\n",
    "        \n",
    "        # download data if does not exist in path.\n",
    "        # self.load_data()\n",
    "        self.data_to_raw()\n",
    "    \n",
    "    def load_data(self):\n",
    "        print(f\">>> Start download from: {self.base_url}.\")\n",
    "        print(f\"Downloading files to: {self.path}.\")\n",
    "        for subject in self.subjects:\n",
    "            eegbci.load_data(subject,self.runs,path=self.path,base_url=self.base_url)\n",
    "        print(\"Done.\")\n",
    "    \n",
    "    \n",
    "        \n",
    "        print(\"Done.\")\n",
    "        return self.raw\n",
    "    def filter(self, freq):\n",
    "        raw = self.raw\n",
    "        low, high = freq\n",
    "        print(f\">>> Apply filter.\")\n",
    "        self.raw.filter(low, high, fir_design='firwin', verbose=20)\n",
    "        return  raw\n",
    "    def raw_ica(self):\n",
    "        raw = self.raw\n",
    "        ica = mne.preprocessing.ICA(n_components=64, max_iter=100)\n",
    "        ica.fit(raw)\n",
    "        ica.exclude = [1, 2]  # details on how we picked these are omitted here\n",
    "        ica.plot_properties(raw, picks=ica.exclude)\n",
    "        ica.apply(raw)\n",
    "        print('ICA DONE ????')\n",
    "        return  raw\n",
    "        \n",
    "    def get_events(self):\n",
    "        event_id = dict(T1=0, T2=1) # the events we want to extract\n",
    "        events, event_id = mne.events_from_annotations(self.raw, event_id=event_id)\n",
    "        return events, event_id\n",
    "    \n",
    "    def get_epochs(self, events, event_id):\n",
    "        picks = mne.pick_types(self.raw.info, eeg=True, exclude='bads')\n",
    "        tmin = 0\n",
    "        tmax = 4\n",
    "        epochs = mne.Epochs(self.raw, events, event_id, tmin, tmax, proj=True, \n",
    "                            picks=picks, baseline=None, preload=True)\n",
    "        return epochs\n",
    "    \n",
    "    def create_epochs(self):\n",
    "        print(\">>> Create Epochs.\")\n",
    "        events, event_id = self.get_events()\n",
    "        self.epochs = self.get_epochs(events, event_id)\n",
    "        return events , event_id\n",
    "        \n",
    "        print(\"Done.\")\n",
    "    \n",
    "    def get_X_y(self):\n",
    "        if self.epochs is None:\n",
    "            events , event_id=self.create_epochs()\n",
    "        self.X = self.epochs.get_data()\n",
    "        self.y = self.epochs.events[:, -1]\n",
    "        return self.X, self.y\n",
    "    \n",
    "    \n",
    "    def data_to_raw(self):\n",
    "        fullpath = os.path.join(self.path, *self.subpath.split(sep='/'))\n",
    "        #print(f\">>> Extract all subjects from: {fullpath}.\")\n",
    "        extension = \"edf\"\n",
    "        raws = []\n",
    "        count = 1\n",
    "        for i, subject in enumerate(self.subjects):\n",
    "            sname = f\"S{str(subject).zfill(3)}\".upper()\n",
    "            \n",
    "            for j, run in enumerate(self.runs):\n",
    "                rname = f\"{sname}R{str(run).zfill(2)}\".upper()\n",
    "                path_file = os.path.join(fullpath, sname, f'{rname}.{extension}')\n",
    "                #print(path_file)\n",
    "                #print(f\"Loading file #{count}/{len(self.subjects)*len(self.runs)}: {f'{rname}.{extension}'}\")\n",
    "                raw = mne.io.read_raw_edf( path_file , preload=True, verbose='WARNING' )\n",
    "                raws.append(raw)\n",
    "                count += 1\n",
    "\n",
    "        raw = mne.io.concatenate_raws(raws)\n",
    "        eegbci.standardize(raw)\n",
    "        montage = mne.channels.make_standard_montage('standard_1005')\n",
    "        raw.set_montage(montage)\n",
    "        self.raw = raw\n",
    "        \n",
    "        \n",
    "        \n",
    "def do_plot(train_loss, valid_loss,ty):\n",
    "    if ty == \"loss\":\n",
    "        plt.figure(figsize=(10,10))\n",
    "        \n",
    "        plt.plot(train_loss, label='train_loss')\n",
    "        plt.plot(valid_loss, label='valid_loss')\n",
    "        plt.title('loss {}'.format(iter))\n",
    "        plt.legend()\n",
    "        plt.show()\n",
    "    if ty == \"acc\":\n",
    "        plt.figure(figsize=(10,10))\n",
    "        \n",
    "        plot_ty=torch.tensor(train_loss, device = 'cpu')\n",
    "        plat_va=torch.tensor(valid_loss, device = 'cpu')\n",
    "        plt.plot(plot_ty, label='train_acc')\n",
    "        plt.plot(plat_va, label='valid_acc')\n",
    "        plt.title('acc {}'.format(iter))\n",
    "        plt.legend()\n",
    "        plt.show()"
   ]
  },
  {
   "cell_type": "code",
   "execution_count": 47,
   "id": "b1d9fa44-0f50-41f0-aec3-07e6f7a4a72f",
   "metadata": {},
   "outputs": [
    {
     "name": "stdout",
     "output_type": "stream",
     "text": [
      "Raw done\n",
      ">>> Apply filter.\n",
      "Filtering raw data in 237 contiguous segments\n",
      "Setting up band-pass filter from 1 - 40 Hz\n",
      "\n",
      "FIR filter parameters\n",
      "---------------------\n",
      "Designing a one-pass, zero-phase, non-causal bandpass filter:\n",
      "- Windowed time-domain design (firwin) method\n",
      "- Hamming window with 0.0194 passband ripple and 53 dB stopband attenuation\n",
      "- Lower passband edge: 1.00\n",
      "- Lower transition bandwidth: 1.00 Hz (-6 dB cutoff frequency: 0.50 Hz)\n",
      "- Upper passband edge: 40.00 Hz\n",
      "- Upper transition bandwidth: 10.00 Hz (-6 dB cutoff frequency: 45.00 Hz)\n",
      "- Filter length: 529 samples (3.306 sec)\n",
      "\n"
     ]
    },
    {
     "name": "stderr",
     "output_type": "stream",
     "text": [
      "[Parallel(n_jobs=1)]: Using backend SequentialBackend with 1 concurrent workers.\n",
      "[Parallel(n_jobs=1)]: Done   1 out of   1 | elapsed:    0.0s remaining:    0.0s\n",
      "[Parallel(n_jobs=1)]: Done   2 out of   2 | elapsed:    0.0s remaining:    0.0s\n",
      "[Parallel(n_jobs=1)]: Done   3 out of   3 | elapsed:    0.0s remaining:    0.0s\n",
      "[Parallel(n_jobs=1)]: Done   4 out of   4 | elapsed:    0.0s remaining:    0.0s\n",
      "[Parallel(n_jobs=1)]: Done  64 out of  64 | elapsed:    0.0s finished\n"
     ]
    },
    {
     "name": "stdout",
     "output_type": "stream",
     "text": [
      "Filter done\n",
      ">>> Create Epochs.\n",
      "Used Annotations descriptions: ['T1', 'T2']\n",
      "Not setting metadata\n",
      "3555 matching events found\n",
      "No baseline correction applied\n",
      "0 projection items activated\n",
      "Using data from preloaded Raw for 3555 events and 641 original time points ...\n",
      "16 bad epochs dropped\n"
     ]
    },
    {
     "data": {
      "text/plain": [
       "(array([[    672,       0,       1],\n",
       "        [   2000,       0,       0],\n",
       "        [   3328,       0,       0],\n",
       "        ...,\n",
       "        [4676928,       0,       1],\n",
       "        [4678256,       0,       0],\n",
       "        [4679584,       0,       1]]),\n",
       " {'T1': 0, 'T2': 1})"
      ]
     },
     "execution_count": 47,
     "metadata": {},
     "output_type": "execute_result"
    }
   ],
   "source": [
    "# home directory + datasets folder\n",
    "#path = '/content/drive/MyDrive/MNE-eegbci-data/files/eegmmidb/'\n",
    "path = 'physionet.org/files/eegmmidb/1.0.0'\n",
    "base_url = 'https://physionet.org/files/eegmmidb/'\n",
    "# subjects = [1]\n",
    "#runs = [3, 4, 7, 8, 11, 12]\n",
    "runs = [4, 8, 12]\n",
    "subjects = [i for i in range(1,80)]\n",
    "#subjects = [1]\n",
    "# runs = [6,10,14]\n",
    "\n",
    "eeg = EEG(path, base_url, subjects, runs)\n",
    "raw=eeg.data_to_raw()\n",
    "print(\"Raw done\")\n",
    "# apply filter\n",
    "freq = (1., 40.)\n",
    "raw=eeg.filter(freq=freq)\n",
    "#raw=eeg.data_to_raw()\n",
    "print(\"Filter done\")\n",
    "#raw=eeg.raw_ica()\n",
    "eeg.create_epochs()"
   ]
  },
  {
   "cell_type": "code",
   "execution_count": 48,
   "id": "02c863d5-9efc-4dca-b118-ea139ce2adca",
   "metadata": {},
   "outputs": [
    {
     "name": "stdout",
     "output_type": "stream",
     "text": [
      "(3539, 64, 641) (3539,)\n"
     ]
    },
    {
     "data": {
      "text/plain": [
       "(3539, 64, 641)"
      ]
     },
     "execution_count": 48,
     "metadata": {},
     "output_type": "execute_result"
    }
   ],
   "source": [
    "X, y = eeg.get_X_y()\n",
    "\n",
    "print(X.shape, y.shape)\n",
    "X = X[:,:,:]\n",
    "X.shape"
   ]
  },
  {
   "cell_type": "code",
   "execution_count": 49,
   "id": "7829aa9d-a88f-4e0c-8b44-74cde0db7dd6",
   "metadata": {},
   "outputs": [
    {
     "name": "stdout",
     "output_type": "stream",
     "text": [
      "(3539, 2, 641)\n"
     ]
    }
   ],
   "source": [
    "# pick 7 channels.\n",
    "#X2 = X[:, :14, :]\n",
    "# = X2\n",
    "\n",
    "# pick C3 and C4 channels.\n",
    "X2 = X[:, 1:2, :] \n",
    "X3= X[:, 5:6, :]\n",
    "X = np.concatenate((X2,X3), axis=1)\n",
    "# = X4\n",
    "#X = X[:, :,np.newaxis,:]\n",
    "print(X.shape)"
   ]
  },
  {
   "cell_type": "code",
   "execution_count": 50,
   "id": "baa4ab14-d3e8-4b87-9a1f-3fb522d64af5",
   "metadata": {},
   "outputs": [
    {
     "name": "stdout",
     "output_type": "stream",
     "text": [
      "train size (2477, 2, 641) (2477,)\n",
      "Test size (1062, 2, 641) (1062,)\n"
     ]
    }
   ],
   "source": [
    "X_train, X_test, y_train, y_test = train_test_split(X, y, test_size=0.3)\n",
    "\n",
    "print('train size',X_train.shape, y_train.shape)\n",
    "print('Test size',X_test.shape, y_test.shape)"
   ]
  },
  {
   "cell_type": "code",
   "execution_count": 51,
   "id": "c0b137eb-dd3a-4846-bb9b-9fe0d6bfd8b8",
   "metadata": {},
   "outputs": [],
   "source": [
    "from sklearn.model_selection import train_test_split\n",
    "from torch.utils.data import TensorDataset\n",
    "from torch.utils.data import DataLoader\n",
    "\n",
    "batch_size = 32\n",
    "\n",
    "def create_dataloader(X, y, batch_size):\n",
    "    X_tensor = torch.tensor(X).float()\n",
    "    y_tensor = torch.tensor(y).long()\n",
    "    dataset_tensor = TensorDataset(X_tensor, y_tensor)\n",
    "    dl = torch.utils.data.DataLoader(dataset_tensor, batch_size=batch_size, shuffle=True)\n",
    "    return dl\n",
    "train_loader = create_dataloader(X_train, y_train, batch_size=batch_size)\n",
    "test_loader = create_dataloader(X_test, y_test, batch_size=batch_size)\n",
    "\n",
    "num_step =math.ceil(len(train_loader.dataset) / batch_size)"
   ]
  },
  {
   "cell_type": "code",
   "execution_count": 52,
   "id": "086871a3-b5ed-4865-bdc8-372270251077",
   "metadata": {},
   "outputs": [],
   "source": [
    "# Convolutional neural network (two convolutional layers)\n",
    "class ConvNet(nn.Module):\n",
    "    def __init__(self):\n",
    "        super(ConvNet, self).__init__()\n",
    "        \n",
    "        #using sequential helps bind multiple operations together\n",
    "        self.layer1 = nn.Sequential(\n",
    "            #padding = (kernel_size - 1) / 2 = 2\n",
    "            nn.Conv1d(2, 64, kernel_size=5, stride=1, padding=2),\n",
    "            nn.BatchNorm1d(64),\n",
    "            nn.ReLU(),\n",
    "            # nn.MaxPool2d(kernel_size=2, stride=2)\n",
    "        )\n",
    "        self.layer2 = nn.Sequential(\n",
    "            nn.Conv1d(64, 128, kernel_size=5, stride=1, padding=2),\n",
    "            nn.BatchNorm1d(128),\n",
    "            nn.ReLU(),\n",
    "            # nn.MaxPool2d(kernel_size=2, stride=2)\n",
    "        )\n",
    "        self.fc = nn.Linear(82048, 2)\n",
    "        self.drop_out = nn.Dropout(0.5)\n",
    "        \n",
    "    def forward(self, x):\n",
    "        out = self.layer1(x)\n",
    "        out = self.drop_out(out)\n",
    "        out = self.layer2(out)\n",
    "        out = self.drop_out(out)\n",
    "        out = out.reshape(out.size(0), -1)   #can also use .view()\n",
    "        out = self.fc(out)\n",
    "        return out"
   ]
  },
  {
   "cell_type": "code",
   "execution_count": 53,
   "id": "17760388-df51-4c8c-9ecc-ec81da1946a3",
   "metadata": {},
   "outputs": [
    {
     "name": "stderr",
     "output_type": "stream",
     "text": [
      "\u001b[34m\u001b[1mwandb\u001b[0m: \u001b[33mWARNING\u001b[0m Calling wandb.login() after wandb.init() has no effect.\n"
     ]
    },
    {
     "data": {
      "text/html": [
       "Finishing last run (ID:wdtze9a9) before initializing another..."
      ],
      "text/plain": [
       "<IPython.core.display.HTML object>"
      ]
     },
     "metadata": {},
     "output_type": "display_data"
    },
    {
     "data": {
      "text/html": [
       "Waiting for W&B process to finish... <strong style=\"color:green\">(success).</strong>"
      ],
      "text/plain": [
       "<IPython.core.display.HTML object>"
      ]
     },
     "metadata": {},
     "output_type": "display_data"
    },
    {
     "data": {
      "text/html": [
       "<style>\n",
       "    table.wandb td:nth-child(1) { padding: 0 10px; text-align: left ; width: auto;} td:nth-child(2) {text-align: left ; width: 100%}\n",
       "    .wandb-row { display: flex; flex-direction: row; flex-wrap: wrap; justify-content: flex-start; width: 100% }\n",
       "    .wandb-col { display: flex; flex-direction: column; flex-basis: 100%; flex: 1; padding: 10px; }\n",
       "    </style>\n",
       "<div class=\"wandb-row\"><div class=\"wandb-col\"><h3>Run history:</h3><br/><table class=\"wandb\"><tr><td>train/train_accuracy</td><td>▁▄▅█████████████████████████████████████</td></tr><tr><td>train/train_loss</td><td>█▆▅▃▃▂▂▂▂▂▂▁▁▁▁▁▁▁▁▁▁▁▁▁▁▁▁▁▁▁▁▁▁▁▁▁▁▁▁▁</td></tr><tr><td>val/val_accuracy</td><td>▁▁▁▅▅▅███▅█▅▅▅▅██████████▅▅█▅███████████</td></tr><tr><td>val/val_loss</td><td>▁▁▁▁▁▂▃▃▃▄▄▄▅▅▅▅▅▅▆▆▆▆▆▆▆▇▇▇▇▇▇▇▇▇██████</td></tr></table><br/></div><div class=\"wandb-col\"><h3>Run summary:</h3><br/><table class=\"wandb\"><tr><td>train/train_accuracy</td><td>100.0</td></tr><tr><td>train/train_loss</td><td>0.00517</td></tr><tr><td>val/val_accuracy</td><td>66.66667</td></tr><tr><td>val/val_loss</td><td>1.15121</td></tr></table><br/></div></div>"
      ],
      "text/plain": [
       "<IPython.core.display.HTML object>"
      ]
     },
     "metadata": {},
     "output_type": "display_data"
    },
    {
     "data": {
      "text/html": [
       "Synced <strong style=\"color:#cdcd00\">physionet_CNN_2ch_2class_findtune</strong>: <a href=\"https://wandb.ai/nutapol-1997/Motor-Imagery/runs/wdtze9a9\" target=\"_blank\">https://wandb.ai/nutapol-1997/Motor-Imagery/runs/wdtze9a9</a><br/>Synced 5 W&B file(s), 0 media file(s), 0 artifact file(s) and 0 other file(s)"
      ],
      "text/plain": [
       "<IPython.core.display.HTML object>"
      ]
     },
     "metadata": {},
     "output_type": "display_data"
    },
    {
     "data": {
      "text/html": [
       "Find logs at: <code>./wandb/run-20220830_094657-wdtze9a9/logs</code>"
      ],
      "text/plain": [
       "<IPython.core.display.HTML object>"
      ]
     },
     "metadata": {},
     "output_type": "display_data"
    },
    {
     "data": {
      "text/html": [
       "Successfully finished last run (ID:wdtze9a9). Initializing new run:<br/>"
      ],
      "text/plain": [
       "<IPython.core.display.HTML object>"
      ]
     },
     "metadata": {},
     "output_type": "display_data"
    },
    {
     "data": {
      "text/html": [
       "Tracking run with wandb version 0.13.2"
      ],
      "text/plain": [
       "<IPython.core.display.HTML object>"
      ]
     },
     "metadata": {},
     "output_type": "display_data"
    },
    {
     "data": {
      "text/html": [
       "Run data is saved locally in <code>/home/nutapolt/eeg_mi/wandb/run-20220830_100907-3qh1ji9u</code>"
      ],
      "text/plain": [
       "<IPython.core.display.HTML object>"
      ]
     },
     "metadata": {},
     "output_type": "display_data"
    },
    {
     "data": {
      "text/html": [
       "Syncing run <strong><a href=\"https://wandb.ai/nutapol-1997/Motor-Imagery/runs/3qh1ji9u\" target=\"_blank\">physionet_CNN_2ch_2class</a></strong> to <a href=\"https://wandb.ai/nutapol-1997/Motor-Imagery\" target=\"_blank\">Weights & Biases</a> (<a href=\"https://wandb.me/run\" target=\"_blank\">docs</a>)<br/>"
      ],
      "text/plain": [
       "<IPython.core.display.HTML object>"
      ]
     },
     "metadata": {},
     "output_type": "display_data"
    },
    {
     "name": "stdout",
     "output_type": "stream",
     "text": [
      "78\n"
     ]
    }
   ],
   "source": [
    "import wandb\n",
    "wandb.login()\n",
    "\n",
    "\n",
    "wand = wandb.init(\n",
    "        \n",
    "      # Set the project where this run will be logged\n",
    "      project=\"Motor-Imagery\", \n",
    "      # We pass a run name (otherwise it’ll be randomly assigned, like sunshine-lollypop-10)\n",
    "      name=f\"physionet_CNN_2ch_2class\", \n",
    "      # Track hyperparameters and run metadata\n",
    "      config={\n",
    "      \"learning_rate\": 0.0000001,\n",
    "      \"architecture\": \"CNN\",\n",
    "      \"dataset\": \"Nutapol T.\",\n",
    "      \"epochs\": 1000,\n",
    "      \"weightname\":\"physionet_CNN_2ch_2class\",\n",
    "      \"num_step_per_epoch\" : num_step, \n",
    "        \n",
    "      }\n",
    "    )\n",
    "\n",
    "config = wand.config\n",
    "print(config.num_step_per_epoch)"
   ]
  },
  {
   "cell_type": "code",
   "execution_count": 54,
   "id": "eccef9ae-6ad7-4d2e-8035-88fcb28d1ad0",
   "metadata": {},
   "outputs": [
    {
     "name": "stdout",
     "output_type": "stream",
     "text": [
      "Epoch 1/1000, Tr Loss: 0.7492, Tr Acc: 50.3835, Val Loss: 0.6933, Val Acc: 49.1525\n",
      "Epoch 51/1000, Tr Loss: 0.7118, Tr Acc: 53.2095, Val Loss: 0.6945, Val Acc: 53.0132\n",
      "Epoch 101/1000, Tr Loss: 0.7093, Tr Acc: 54.2592, Val Loss: 0.6904, Val Acc: 55.9322\n",
      "Epoch 151/1000, Tr Loss: 0.6862, Tr Acc: 58.5386, Val Loss: 0.6844, Val Acc: 59.3220\n",
      "Epoch 201/1000, Tr Loss: 0.6839, Tr Acc: 57.9330, Val Loss: 0.6766, Val Acc: 60.8286\n",
      "Epoch 251/1000, Tr Loss: 0.6689, Tr Acc: 59.0634, Val Loss: 0.6687, Val Acc: 61.9586\n",
      "Epoch 301/1000, Tr Loss: 0.6619, Tr Acc: 61.4857, Val Loss: 0.6645, Val Acc: 62.5235\n",
      "Epoch 351/1000, Tr Loss: 0.6541, Tr Acc: 63.0602, Val Loss: 0.6595, Val Acc: 63.2768\n",
      "Epoch 401/1000, Tr Loss: 0.6302, Tr Acc: 66.2091, Val Loss: 0.6591, Val Acc: 64.0301\n",
      "Epoch 451/1000, Tr Loss: 0.6215, Tr Acc: 65.8862, Val Loss: 0.6540, Val Acc: 65.7250\n",
      "Epoch 501/1000, Tr Loss: 0.6166, Tr Acc: 66.4513, Val Loss: 0.6417, Val Acc: 66.0075\n",
      "Epoch 551/1000, Tr Loss: 0.6120, Tr Acc: 67.9451, Val Loss: 0.6437, Val Acc: 66.1959\n",
      "Epoch 601/1000, Tr Loss: 0.5960, Tr Acc: 68.6314, Val Loss: 0.6318, Val Acc: 66.6667\n",
      "Epoch 651/1000, Tr Loss: 0.5947, Tr Acc: 68.8736, Val Loss: 0.6378, Val Acc: 67.0433\n",
      "Epoch 701/1000, Tr Loss: 0.5907, Tr Acc: 68.3084, Val Loss: 0.6342, Val Acc: 67.1375\n",
      "Epoch 751/1000, Tr Loss: 0.5709, Tr Acc: 71.2152, Val Loss: 0.6223, Val Acc: 67.6083\n",
      "Epoch 801/1000, Tr Loss: 0.5768, Tr Acc: 70.7711, Val Loss: 0.6208, Val Acc: 67.5141\n",
      "Epoch 851/1000, Tr Loss: 0.5647, Tr Acc: 72.3859, Val Loss: 0.6147, Val Acc: 67.9849\n",
      "Epoch 901/1000, Tr Loss: 0.5602, Tr Acc: 71.5785, Val Loss: 0.6092, Val Acc: 67.9849\n",
      "Epoch 951/1000, Tr Loss: 0.5550, Tr Acc: 72.9915, Val Loss: 0.6084, Val Acc: 68.3616\n"
     ]
    }
   ],
   "source": [
    "from common import train\n",
    "net = ConvNet().cuda(0)\n",
    "optimizer = optim.Adam(net.parameters(), lr=config.learning_rate)\n",
    "criterion = nn.CrossEntropyLoss()\n",
    "\n",
    "\n",
    "train_loss,valid_loss,train_accuracy,valid_accuracy =train(\n",
    "    model = net,\n",
    "    gpu_num = 0,\n",
    "    train_loader = train_loader,\n",
    "    test_loader = test_loader,\n",
    "    optimizer = optimizer  ,\n",
    "    criterion = criterion ,\n",
    "    wand = wand\n",
    "         )\n",
    "\n",
    "\n",
    "wandb.alert(\n",
    "            title='Finish',\n",
    "            text=f'Finishing training',\n",
    "        )"
   ]
  },
  {
   "cell_type": "markdown",
   "id": "3463cc08-42bf-44bf-bb60-f8f91c6ca4d9",
   "metadata": {},
   "source": [
    "### validate\n"
   ]
  },
  {
   "cell_type": "code",
   "execution_count": 17,
   "id": "6bed1c2d-2be1-48fd-976e-2da1001f0289",
   "metadata": {},
   "outputs": [],
   "source": [
    "del net\n",
    "net = ConvNet().cuda(1)"
   ]
  },
  {
   "cell_type": "code",
   "execution_count": 18,
   "id": "1fdb330a-630d-44a7-9b63-a9c8e63e7d17",
   "metadata": {
    "tags": []
   },
   "outputs": [
    {
     "name": "stdout",
     "output_type": "stream",
     "text": [
      "Raw done\n",
      ">>> Apply filter.\n",
      "Filtering raw data in 3 contiguous segments\n",
      "Setting up band-pass filter from 1 - 40 Hz\n",
      "\n",
      "FIR filter parameters\n",
      "---------------------\n",
      "Designing a one-pass, zero-phase, non-causal bandpass filter:\n",
      "- Windowed time-domain design (firwin) method\n",
      "- Hamming window with 0.0194 passband ripple and 53 dB stopband attenuation\n",
      "- Lower passband edge: 1.00\n",
      "- Lower transition bandwidth: 1.00 Hz (-6 dB cutoff frequency: 0.50 Hz)\n",
      "- Upper passband edge: 40.00 Hz\n",
      "- Upper transition bandwidth: 10.00 Hz (-6 dB cutoff frequency: 45.00 Hz)\n",
      "- Filter length: 529 samples (3.306 sec)\n",
      "\n",
      "Filter done\n",
      ">>> Create Epochs.\n",
      "Used Annotations descriptions: ['T1', 'T2']\n",
      "Not setting metadata\n",
      "45 matching events found\n",
      "No baseline correction applied\n",
      "0 projection items activated\n",
      "Using data from preloaded Raw for 45 events and 641 original time points ...\n",
      "0 bad epochs dropped\n"
     ]
    },
    {
     "name": "stderr",
     "output_type": "stream",
     "text": [
      "[Parallel(n_jobs=1)]: Using backend SequentialBackend with 1 concurrent workers.\n",
      "[Parallel(n_jobs=1)]: Done   1 out of   1 | elapsed:    0.0s remaining:    0.0s\n",
      "[Parallel(n_jobs=1)]: Done   2 out of   2 | elapsed:    0.0s remaining:    0.0s\n",
      "[Parallel(n_jobs=1)]: Done   3 out of   3 | elapsed:    0.0s remaining:    0.0s\n",
      "[Parallel(n_jobs=1)]: Done   4 out of   4 | elapsed:    0.0s remaining:    0.0s\n",
      "[Parallel(n_jobs=1)]: Done  64 out of  64 | elapsed:    0.0s finished\n"
     ]
    },
    {
     "data": {
      "text/plain": [
       "(array([[  672,     0,     0],\n",
       "        [ 2000,     0,     1],\n",
       "        [ 3328,     0,     1],\n",
       "        [ 4656,     0,     0],\n",
       "        [ 5984,     0,     0],\n",
       "        [ 7312,     0,     1],\n",
       "        [ 8640,     0,     1],\n",
       "        [ 9968,     0,     0],\n",
       "        [11296,     0,     1],\n",
       "        [12624,     0,     0],\n",
       "        [13952,     0,     1],\n",
       "        [15280,     0,     0],\n",
       "        [16608,     0,     1],\n",
       "        [17936,     0,     0],\n",
       "        [19264,     0,     0],\n",
       "        [20672,     0,     0],\n",
       "        [22000,     0,     1],\n",
       "        [23328,     0,     0],\n",
       "        [24656,     0,     1],\n",
       "        [25984,     0,     1],\n",
       "        [27312,     0,     0],\n",
       "        [28640,     0,     0],\n",
       "        [29968,     0,     1],\n",
       "        [31296,     0,     1],\n",
       "        [32624,     0,     0],\n",
       "        [33952,     0,     1],\n",
       "        [35280,     0,     0],\n",
       "        [36608,     0,     1],\n",
       "        [37936,     0,     0],\n",
       "        [39264,     0,     1],\n",
       "        [40672,     0,     0],\n",
       "        [42000,     0,     1],\n",
       "        [43328,     0,     1],\n",
       "        [44656,     0,     0],\n",
       "        [45984,     0,     1],\n",
       "        [47312,     0,     0],\n",
       "        [48640,     0,     0],\n",
       "        [49968,     0,     1],\n",
       "        [51296,     0,     1],\n",
       "        [52624,     0,     0],\n",
       "        [53952,     0,     0],\n",
       "        [55280,     0,     1],\n",
       "        [56608,     0,     0],\n",
       "        [57936,     0,     1],\n",
       "        [59264,     0,     1]]),\n",
       " {'T1': 0, 'T2': 1})"
      ]
     },
     "execution_count": 18,
     "metadata": {},
     "output_type": "execute_result"
    }
   ],
   "source": [
    "# home directory + datasets folder\n",
    "#path = '/content/drive/MyDrive/MNE-eegbci-data/files/eegmmidb/'\n",
    "path = 'physionet.org/files/eegmmidb/1.0.0'\n",
    "base_url = 'https://physionet.org/files/eegmmidb/'\n",
    "# subjects = [1]\n",
    "#runs = [3, 4, 7, 8, 11, 12]\n",
    "runs = [4, 8, 12]\n",
    "subjects = [i for i in range(83,84)]\n",
    "#subjects = [1]\n",
    "# runs = [6,10,14]\n",
    "\n",
    "eeg = EEG(path, base_url, subjects, runs)\n",
    "raw=eeg.data_to_raw()\n",
    "print(\"Raw done\")\n",
    "# apply filter\n",
    "freq = (1., 40.)\n",
    "raw=eeg.filter(freq=freq)\n",
    "#raw=eeg.data_to_raw()\n",
    "print(\"Filter done\")\n",
    "#raw=eeg.raw_ica()\n",
    "eeg.create_epochs()"
   ]
  },
  {
   "cell_type": "code",
   "execution_count": 19,
   "id": "5d776b41-bffa-4706-8e0b-b401ae6e9f06",
   "metadata": {},
   "outputs": [
    {
     "name": "stdout",
     "output_type": "stream",
     "text": [
      "(45, 2, 641)\n"
     ]
    }
   ],
   "source": [
    "# pick 7 channels.\n",
    "#X2 = X[:, :14, :]\n",
    "# = X2\n",
    "\n",
    "# pick C3 and C4 channels.\n",
    "\n",
    "X_val, y_val = eeg.get_X_y()\n",
    "\n",
    "X2 = X_val[:, 1:2, :] \n",
    "X3= X_val[:, 5:6, :]\n",
    "X_val = np.concatenate((X2,X3), axis=1)\n",
    "# = X4\n",
    "#X_val = X_val[:, :,np.newaxis,:]\n",
    "print(X_val.shape)\n",
    "\n",
    "\n"
   ]
  },
  {
   "cell_type": "code",
   "execution_count": 20,
   "id": "e591afc7-bae9-44e4-95a9-7410b980da3f",
   "metadata": {},
   "outputs": [],
   "source": [
    "test_loader = create_dataloader(X_val, y_val, batch_size=batch_size)\n"
   ]
  },
  {
   "cell_type": "code",
   "execution_count": null,
   "id": "25ca5717-2aa6-49e3-8cd3-41a4a7cf9852",
   "metadata": {},
   "outputs": [],
   "source": []
  },
  {
   "cell_type": "code",
   "execution_count": 21,
   "id": "e75f0fb0-2262-4a55-828d-dd30f3179a53",
   "metadata": {},
   "outputs": [
    {
     "name": "stdout",
     "output_type": "stream",
     "text": [
      " Val Acc: 48.8889\n"
     ]
    }
   ],
   "source": [
    "# Train the model\n",
    "num_epochs = 1\n",
    "\n",
    "train_loss = []\n",
    "valid_loss = []\n",
    "train_accuracy = []\n",
    "valid_accuracy = []\n",
    "old_acc = 0\n",
    "for epoch in range(num_epochs):\n",
    "\n",
    "    loss = 0.0\n",
    "    correct = 0\n",
    "    iterations = 0\n",
    "    net.eval()\n",
    "    for i, (items, classes) in enumerate(test_loader):\n",
    "        items = Variable(items)\n",
    "        classes = Variable(classes)\n",
    "        \n",
    "        if cuda.is_available():\n",
    "            items = items.cuda(1)\n",
    "            classes = classes.cuda(1)\n",
    "        \n",
    "        outputs = net(items)\n",
    "        loss += criterion(outputs, classes).item()\n",
    "        \n",
    "        _, predicted = torch.max(outputs.data, 1)\n",
    "        correct += (predicted == classes.data).sum()\n",
    "        \n",
    "        iterations += 1\n",
    "\n",
    "    valid_loss.append(loss/iterations)\n",
    "    correct_scalar = np.array([correct.clone().cpu()])[0]\n",
    "    valid_accuracy.append(correct_scalar / len(test_loader.dataset) * 100.0)\n",
    "print (' Val Acc: %.4f'\n",
    "                   %(valid_accuracy[-1]))\n"
   ]
  },
  {
   "cell_type": "markdown",
   "id": "1b544cb1-a832-460c-a623-f682258d9128",
   "metadata": {},
   "source": [
    "### Freeze layer"
   ]
  },
  {
   "cell_type": "code",
   "execution_count": 22,
   "id": "faa605c3-b85d-4c73-98ff-f2a1194b3eb6",
   "metadata": {},
   "outputs": [],
   "source": [
    "del net\n",
    "net = ConvNet().cuda(1)"
   ]
  },
  {
   "cell_type": "code",
   "execution_count": 23,
   "id": "095d271e-be36-40ab-8c37-1ba617aff35c",
   "metadata": {},
   "outputs": [
    {
     "data": {
      "text/plain": [
       "<All keys matched successfully>"
      ]
     },
     "execution_count": 23,
     "metadata": {},
     "output_type": "execute_result"
    }
   ],
   "source": [
    "net.load_state_dict(torch.load('model_2class_2ch_CNN'))"
   ]
  },
  {
   "cell_type": "code",
   "execution_count": null,
   "id": "da37cb4f-0483-4927-ab86-a7656cc580ca",
   "metadata": {},
   "outputs": [],
   "source": []
  },
  {
   "cell_type": "code",
   "execution_count": 24,
   "id": "f879a0a6-89f1-4c17-8b85-4c301377e303",
   "metadata": {},
   "outputs": [
    {
     "data": {
      "text/plain": [
       "odict_keys(['layer1.0.weight', 'layer1.0.bias', 'layer1.1.weight', 'layer1.1.bias', 'layer1.1.running_mean', 'layer1.1.running_var', 'layer1.1.num_batches_tracked', 'layer2.0.weight', 'layer2.0.bias', 'layer2.1.weight', 'layer2.1.bias', 'layer2.1.running_mean', 'layer2.1.running_var', 'layer2.1.num_batches_tracked', 'fc.weight', 'fc.bias'])"
      ]
     },
     "execution_count": 24,
     "metadata": {},
     "output_type": "execute_result"
    }
   ],
   "source": [
    "parms = net.state_dict()\n",
    "parms.keys()"
   ]
  },
  {
   "cell_type": "code",
   "execution_count": 25,
   "id": "45dc7b5e-38bd-4be1-aa32-a11f5e8ef3d7",
   "metadata": {},
   "outputs": [],
   "source": [
    "for name,param in net.named_parameters():\n",
    "    if param.requires_grad and 'layer1' in name:\n",
    "        param.requires_grad = False\n",
    "    if param.requires_grad and 'layer2' in name:\n",
    "        param.requires_grad = False"
   ]
  },
  {
   "cell_type": "code",
   "execution_count": 26,
   "id": "6322a06c-e29f-497f-9e3d-7c08b0e23f71",
   "metadata": {},
   "outputs": [
    {
     "name": "stdout",
     "output_type": "stream",
     "text": [
      "Raw done\n",
      ">>> Apply filter.\n",
      "Filtering raw data in 3 contiguous segments\n",
      "Setting up band-pass filter from 1 - 40 Hz\n",
      "\n",
      "FIR filter parameters\n",
      "---------------------\n",
      "Designing a one-pass, zero-phase, non-causal bandpass filter:\n",
      "- Windowed time-domain design (firwin) method\n",
      "- Hamming window with 0.0194 passband ripple and 53 dB stopband attenuation\n",
      "- Lower passband edge: 1.00\n",
      "- Lower transition bandwidth: 1.00 Hz (-6 dB cutoff frequency: 0.50 Hz)\n",
      "- Upper passband edge: 40.00 Hz\n",
      "- Upper transition bandwidth: 10.00 Hz (-6 dB cutoff frequency: 45.00 Hz)\n",
      "- Filter length: 529 samples (3.306 sec)\n",
      "\n",
      "Filter done\n",
      ">>> Create Epochs.\n",
      "Used Annotations descriptions: ['T1', 'T2']\n",
      "Not setting metadata\n",
      "45 matching events found\n",
      "No baseline correction applied\n",
      "0 projection items activated\n",
      "Using data from preloaded Raw for 45 events and 641 original time points ...\n",
      "0 bad epochs dropped\n"
     ]
    },
    {
     "name": "stderr",
     "output_type": "stream",
     "text": [
      "[Parallel(n_jobs=1)]: Using backend SequentialBackend with 1 concurrent workers.\n",
      "[Parallel(n_jobs=1)]: Done   1 out of   1 | elapsed:    0.0s remaining:    0.0s\n",
      "[Parallel(n_jobs=1)]: Done   2 out of   2 | elapsed:    0.0s remaining:    0.0s\n",
      "[Parallel(n_jobs=1)]: Done   3 out of   3 | elapsed:    0.0s remaining:    0.0s\n",
      "[Parallel(n_jobs=1)]: Done   4 out of   4 | elapsed:    0.0s remaining:    0.0s\n",
      "[Parallel(n_jobs=1)]: Done  64 out of  64 | elapsed:    0.0s finished\n"
     ]
    },
    {
     "data": {
      "text/plain": [
       "(array([[  672,     0,     0],\n",
       "        [ 2000,     0,     1],\n",
       "        [ 3328,     0,     1],\n",
       "        [ 4656,     0,     0],\n",
       "        [ 5984,     0,     0],\n",
       "        [ 7312,     0,     1],\n",
       "        [ 8640,     0,     1],\n",
       "        [ 9968,     0,     0],\n",
       "        [11296,     0,     1],\n",
       "        [12624,     0,     0],\n",
       "        [13952,     0,     1],\n",
       "        [15280,     0,     0],\n",
       "        [16608,     0,     1],\n",
       "        [17936,     0,     0],\n",
       "        [19264,     0,     0],\n",
       "        [20672,     0,     0],\n",
       "        [22000,     0,     1],\n",
       "        [23328,     0,     0],\n",
       "        [24656,     0,     1],\n",
       "        [25984,     0,     1],\n",
       "        [27312,     0,     0],\n",
       "        [28640,     0,     0],\n",
       "        [29968,     0,     1],\n",
       "        [31296,     0,     1],\n",
       "        [32624,     0,     0],\n",
       "        [33952,     0,     1],\n",
       "        [35280,     0,     0],\n",
       "        [36608,     0,     1],\n",
       "        [37936,     0,     0],\n",
       "        [39264,     0,     1],\n",
       "        [40672,     0,     0],\n",
       "        [42000,     0,     1],\n",
       "        [43328,     0,     1],\n",
       "        [44656,     0,     0],\n",
       "        [45984,     0,     1],\n",
       "        [47312,     0,     0],\n",
       "        [48640,     0,     0],\n",
       "        [49968,     0,     1],\n",
       "        [51296,     0,     1],\n",
       "        [52624,     0,     0],\n",
       "        [53952,     0,     0],\n",
       "        [55280,     0,     1],\n",
       "        [56608,     0,     0],\n",
       "        [57936,     0,     1],\n",
       "        [59264,     0,     1]]),\n",
       " {'T1': 0, 'T2': 1})"
      ]
     },
     "execution_count": 26,
     "metadata": {},
     "output_type": "execute_result"
    }
   ],
   "source": [
    "# home directory + datasets folder\n",
    "#path = '/content/drive/MyDrive/MNE-eegbci-data/files/eegmmidb/'\n",
    "path = 'physionet.org/files/eegmmidb/1.0.0'\n",
    "base_url = 'https://physionet.org/files/eegmmidb/'\n",
    "# subjects = [1]\n",
    "#runs = [3, 4, 7, 8, 11, 12]\n",
    "runs = [4, 8, 12]\n",
    "subjects = [i for i in range(83,84)]\n",
    "#subjects = [1]\n",
    "# runs = [6,10,14]\n",
    "\n",
    "eeg = EEG(path, base_url, subjects, runs)\n",
    "raw=eeg.data_to_raw()\n",
    "print(\"Raw done\")\n",
    "# apply filter\n",
    "freq = (1., 40.)\n",
    "raw=eeg.filter(freq=freq)\n",
    "#raw=eeg.data_to_raw()\n",
    "print(\"Filter done\")\n",
    "#raw=eeg.raw_ica()\n",
    "eeg.create_epochs()"
   ]
  },
  {
   "cell_type": "code",
   "execution_count": 27,
   "id": "213faa07-a62b-4cd9-b769-79c873f76637",
   "metadata": {},
   "outputs": [
    {
     "name": "stdout",
     "output_type": "stream",
     "text": [
      "(45, 64, 641) (45,)\n"
     ]
    },
    {
     "data": {
      "text/plain": [
       "(45, 64, 641)"
      ]
     },
     "execution_count": 27,
     "metadata": {},
     "output_type": "execute_result"
    }
   ],
   "source": [
    "X, y = eeg.get_X_y()\n",
    "\n",
    "print(X.shape, y.shape)\n",
    "\n",
    "X = X[:,:,:]\n",
    "X.shape"
   ]
  },
  {
   "cell_type": "code",
   "execution_count": 28,
   "id": "54c393ed-c245-4609-ab84-3d4a485fb397",
   "metadata": {},
   "outputs": [
    {
     "name": "stdout",
     "output_type": "stream",
     "text": [
      "(45, 2, 641)\n"
     ]
    }
   ],
   "source": [
    "# pick 7 channels.\n",
    "#X2 = X[:, :14, :]\n",
    "# = X2\n",
    "\n",
    "# pick C3 and C4 channels.\n",
    "X2 = X[:, 1:2, :] \n",
    "X3= X[:, 5:6, :]\n",
    "X = np.concatenate((X2,X3), axis=1)\n",
    "# = X4\n",
    "#X = X[:, :,np.newaxis,:]\n",
    "print(X.shape)"
   ]
  },
  {
   "cell_type": "code",
   "execution_count": 29,
   "id": "f888af08-13a2-46d4-a75d-9efd94b6dc8a",
   "metadata": {},
   "outputs": [
    {
     "name": "stdout",
     "output_type": "stream",
     "text": [
      "(31, 2, 641) (31,)\n",
      "(14, 2, 641) (14,)\n",
      "(9, 2, 641) (9,)\n",
      "(5, 2, 641) (5,)\n"
     ]
    }
   ],
   "source": [
    "X_train, X_test, y_train, y_test = train_test_split(X, y, test_size=0.3)\n",
    "\n",
    "print(X_train.shape, y_train.shape)\n",
    "print(X_test.shape, y_test.shape)\n",
    "\n",
    "X_test, X_vail, y_test, y_vail = train_test_split(X_test, y_test, test_size=0.3)\n",
    "\n",
    "print(X_test.shape, y_test.shape)\n",
    "print(X_vail.shape, y_vail.shape)"
   ]
  },
  {
   "cell_type": "code",
   "execution_count": 30,
   "id": "dfaba4cf-417a-4b2d-bf00-65081c4dadee",
   "metadata": {},
   "outputs": [],
   "source": [
    "train_loader = create_dataloader(X_train, y_train, batch_size=batch_size)\n",
    "test_loader = create_dataloader(X_test, y_test, batch_size=batch_size)\n",
    "num_step =math.ceil(len(train_loader.dataset) / batch_size)"
   ]
  },
  {
   "cell_type": "code",
   "execution_count": 31,
   "id": "c0342085-ba8c-4f89-b6ed-bbab7d5dcd8f",
   "metadata": {},
   "outputs": [],
   "source": [
    "#optimizer = optim.Adam(filter(lambda p: p.requires_grad, net.parameters()),lr=0.00001)\n",
    "optimizer = optim.SGD(filter(lambda p: p.requires_grad, net.parameters()), lr=0.00001)\n",
    "#optimizer = optim.Adam(net.parameters(), lr=0.0000001)\n",
    "criterion = nn.CrossEntropyLoss()"
   ]
  },
  {
   "cell_type": "code",
   "execution_count": 35,
   "id": "247d40ad-e0ab-41d0-a8cc-596ddb62acd1",
   "metadata": {},
   "outputs": [
    {
     "name": "stderr",
     "output_type": "stream",
     "text": [
      "\u001b[34m\u001b[1mwandb\u001b[0m: \u001b[33mWARNING\u001b[0m Calling wandb.login() after wandb.init() has no effect.\n"
     ]
    },
    {
     "data": {
      "text/html": [
       "Finishing last run (ID:2uc5s4n8) before initializing another..."
      ],
      "text/plain": [
       "<IPython.core.display.HTML object>"
      ]
     },
     "metadata": {},
     "output_type": "display_data"
    },
    {
     "data": {
      "text/html": [
       "Waiting for W&B process to finish... <strong style=\"color:green\">(success).</strong>"
      ],
      "text/plain": [
       "<IPython.core.display.HTML object>"
      ]
     },
     "metadata": {},
     "output_type": "display_data"
    },
    {
     "data": {
      "text/html": [
       "<style>\n",
       "    table.wandb td:nth-child(1) { padding: 0 10px; text-align: left ; width: auto;} td:nth-child(2) {text-align: left ; width: 100%}\n",
       "    .wandb-row { display: flex; flex-direction: row; flex-wrap: wrap; justify-content: flex-start; width: 100% }\n",
       "    .wandb-col { display: flex; flex-direction: column; flex-basis: 100%; flex: 1; padding: 10px; }\n",
       "    </style>\n",
       "<div class=\"wandb-row\"><div class=\"wandb-col\"><h3>Run history:</h3><br/><table class=\"wandb\"><tr><td>train/train_accuracy</td><td>▃▆▃▆▅▄▇▁▅▃▅▅▆▅▇▃▄▇▆▆▂▆▇▆▅▆▂▅▇▅▅▇▅█▃▄▇▇▅▆</td></tr><tr><td>train/train_loss</td><td>▆▅▅▃▄▄▂█▅▆▄▄▃▅▂▅▄▄▄▃▄▃▃▂▅▂▆▄▃▄▄▃▅▂▇▆▁▂▅▄</td></tr><tr><td>val/val_accuracy</td><td>▁▁▁▁▁▁▁▁▁▁▁▁▁▁▁▁▁▁▁▁▁▁▁▁▁▁▁▁▁▁▁▁▁▁▁▁▁▁▁▁</td></tr><tr><td>val/val_loss</td><td>▂▂▃▁▁▃▄▄▄▄▅▅▅▅▅▅▅▅▅▅▅▆▆▇▇▆▆▇▇▇▇▇▇▇██▇███</td></tr></table><br/></div><div class=\"wandb-col\"><h3>Run summary:</h3><br/><table class=\"wandb\"><tr><td>train/train_accuracy</td><td>58.06451</td></tr><tr><td>train/train_loss</td><td>0.61564</td></tr><tr><td>val/val_accuracy</td><td>44.44444</td></tr><tr><td>val/val_loss</td><td>0.70689</td></tr></table><br/></div></div>"
      ],
      "text/plain": [
       "<IPython.core.display.HTML object>"
      ]
     },
     "metadata": {},
     "output_type": "display_data"
    },
    {
     "data": {
      "text/html": [
       "Synced <strong style=\"color:#cdcd00\">physionet_CNN_2ch_2class_findtune</strong>: <a href=\"https://wandb.ai/nutapol-1997/Motor-Imagery/runs/2uc5s4n8\" target=\"_blank\">https://wandb.ai/nutapol-1997/Motor-Imagery/runs/2uc5s4n8</a><br/>Synced 5 W&B file(s), 0 media file(s), 0 artifact file(s) and 0 other file(s)"
      ],
      "text/plain": [
       "<IPython.core.display.HTML object>"
      ]
     },
     "metadata": {},
     "output_type": "display_data"
    },
    {
     "data": {
      "text/html": [
       "Find logs at: <code>./wandb/run-20220830_094444-2uc5s4n8/logs</code>"
      ],
      "text/plain": [
       "<IPython.core.display.HTML object>"
      ]
     },
     "metadata": {},
     "output_type": "display_data"
    },
    {
     "data": {
      "text/html": [
       "Successfully finished last run (ID:2uc5s4n8). Initializing new run:<br/>"
      ],
      "text/plain": [
       "<IPython.core.display.HTML object>"
      ]
     },
     "metadata": {},
     "output_type": "display_data"
    },
    {
     "data": {
      "text/html": [
       "Tracking run with wandb version 0.13.2"
      ],
      "text/plain": [
       "<IPython.core.display.HTML object>"
      ]
     },
     "metadata": {},
     "output_type": "display_data"
    },
    {
     "data": {
      "text/html": [
       "Run data is saved locally in <code>/home/nutapolt/eeg_mi/wandb/run-20220830_094657-wdtze9a9</code>"
      ],
      "text/plain": [
       "<IPython.core.display.HTML object>"
      ]
     },
     "metadata": {},
     "output_type": "display_data"
    },
    {
     "data": {
      "text/html": [
       "Syncing run <strong><a href=\"https://wandb.ai/nutapol-1997/Motor-Imagery/runs/wdtze9a9\" target=\"_blank\">physionet_CNN_2ch_2class_findtune</a></strong> to <a href=\"https://wandb.ai/nutapol-1997/Motor-Imagery\" target=\"_blank\">Weights & Biases</a> (<a href=\"https://wandb.me/run\" target=\"_blank\">docs</a>)<br/>"
      ],
      "text/plain": [
       "<IPython.core.display.HTML object>"
      ]
     },
     "metadata": {},
     "output_type": "display_data"
    },
    {
     "name": "stdout",
     "output_type": "stream",
     "text": [
      "1\n"
     ]
    }
   ],
   "source": [
    "import wandb\n",
    "wandb.login()\n",
    "\n",
    "\n",
    "wand = wandb.init(\n",
    "        \n",
    "      # Set the project where this run will be logged\n",
    "      project=\"Motor-Imagery\", \n",
    "      # We pass a run name (otherwise it’ll be randomly assigned, like sunshine-lollypop-10)\n",
    "      name=f\"physionet_CNN_2ch_2class_findtune\", \n",
    "      # Track hyperparameters and run metadata\n",
    "      config={\n",
    "      \"learning_rate\": 0.00001,\n",
    "      \"architecture\": \"CNN\",\n",
    "      \"dataset\": \"Nutapol T.\",\n",
    "      \"epochs\": 1000,\n",
    "      \"weightname\":\"physionet_CNN_2ch_2class_findtune\",\n",
    "      \"num_step_per_epoch\" : num_step, \n",
    "        \n",
    "      }\n",
    "    )\n",
    "\n",
    "config = wand.config\n",
    "print(config.num_step_per_epoch)\n"
   ]
  },
  {
   "cell_type": "code",
   "execution_count": 36,
   "id": "04d87cbc-d0e6-4775-b088-bbdc208d8178",
   "metadata": {},
   "outputs": [
    {
     "name": "stdout",
     "output_type": "stream",
     "text": [
      "Epoch 1/1000, Tr Loss: 0.7681, Tr Acc: 51.6129, Val Loss: 0.6944, Val Acc: 44.4444\n",
      "Epoch 51/1000, Tr Loss: 0.3673, Tr Acc: 93.5484, Val Loss: 0.6978, Val Acc: 44.4444\n",
      "Epoch 101/1000, Tr Loss: 0.1894, Tr Acc: 100.0000, Val Loss: 0.6939, Val Acc: 55.5556\n",
      "Epoch 151/1000, Tr Loss: 0.1083, Tr Acc: 100.0000, Val Loss: 0.8272, Val Acc: 55.5556\n",
      "Epoch 201/1000, Tr Loss: 0.0701, Tr Acc: 100.0000, Val Loss: 0.8570, Val Acc: 66.6667\n",
      "Epoch 251/1000, Tr Loss: 0.0543, Tr Acc: 100.0000, Val Loss: 0.9011, Val Acc: 55.5556\n",
      "Epoch 301/1000, Tr Loss: 0.0489, Tr Acc: 100.0000, Val Loss: 0.9500, Val Acc: 55.5556\n",
      "Epoch 351/1000, Tr Loss: 0.0333, Tr Acc: 100.0000, Val Loss: 0.9691, Val Acc: 55.5556\n",
      "Epoch 401/1000, Tr Loss: 0.0281, Tr Acc: 100.0000, Val Loss: 0.9662, Val Acc: 66.6667\n",
      "Epoch 451/1000, Tr Loss: 0.0222, Tr Acc: 100.0000, Val Loss: 0.9656, Val Acc: 66.6667\n",
      "Epoch 501/1000, Tr Loss: 0.0200, Tr Acc: 100.0000, Val Loss: 1.0178, Val Acc: 66.6667\n",
      "Epoch 551/1000, Tr Loss: 0.0175, Tr Acc: 100.0000, Val Loss: 1.0054, Val Acc: 66.6667\n",
      "Epoch 601/1000, Tr Loss: 0.0121, Tr Acc: 100.0000, Val Loss: 1.0287, Val Acc: 66.6667\n",
      "Epoch 651/1000, Tr Loss: 0.0109, Tr Acc: 100.0000, Val Loss: 1.0626, Val Acc: 55.5556\n",
      "Epoch 701/1000, Tr Loss: 0.0117, Tr Acc: 100.0000, Val Loss: 1.0688, Val Acc: 66.6667\n",
      "Epoch 751/1000, Tr Loss: 0.0084, Tr Acc: 100.0000, Val Loss: 1.0733, Val Acc: 66.6667\n",
      "Epoch 801/1000, Tr Loss: 0.0067, Tr Acc: 100.0000, Val Loss: 1.0868, Val Acc: 66.6667\n",
      "Epoch 851/1000, Tr Loss: 0.0064, Tr Acc: 100.0000, Val Loss: 1.1126, Val Acc: 66.6667\n",
      "Epoch 901/1000, Tr Loss: 0.0058, Tr Acc: 100.0000, Val Loss: 1.1205, Val Acc: 66.6667\n",
      "Epoch 951/1000, Tr Loss: 0.0050, Tr Acc: 100.0000, Val Loss: 1.1424, Val Acc: 66.6667\n"
     ]
    }
   ],
   "source": [
    "from common import train\n",
    "net = ConvNet().cuda(0)\n",
    "optimizer = optim.Adam(net.parameters(), lr=config.learning_rate)\n",
    "criterion = nn.CrossEntropyLoss()\n",
    "\n",
    "\n",
    "train_loss,valid_loss,train_accuracy,valid_accuracy =train(\n",
    "    model = net,\n",
    "    gpu_num = 0,\n",
    "    train_loader = train_loader,\n",
    "    test_loader = test_loader,\n",
    "    optimizer = optimizer  ,\n",
    "    criterion = criterion ,\n",
    "    wand = wand\n",
    "         )\n",
    "\n",
    "\n",
    "wandb.alert(\n",
    "            title='Finish',\n",
    "            text=f'Finishing training',\n",
    "        )"
   ]
  },
  {
   "cell_type": "code",
   "execution_count": null,
   "id": "9e963254-e8b4-4a34-b5e0-e9e37f6f620d",
   "metadata": {},
   "outputs": [],
   "source": []
  },
  {
   "cell_type": "markdown",
   "id": "933e1620-4c45-4616-b427-6bb66dae4812",
   "metadata": {},
   "source": [
    "### Validate Findtune"
   ]
  },
  {
   "cell_type": "code",
   "execution_count": 39,
   "id": "9e8341e5-ea95-4ae6-8418-1f792b15c39b",
   "metadata": {},
   "outputs": [],
   "source": [
    "del net"
   ]
  },
  {
   "cell_type": "code",
   "execution_count": 40,
   "id": "5c0fc2ea-ae32-4a90-a92a-eae5d1effcfc",
   "metadata": {},
   "outputs": [],
   "source": [
    "net = ConvNet().cuda(1)"
   ]
  },
  {
   "cell_type": "code",
   "execution_count": 41,
   "id": "79516f20-09c3-4d57-8a8f-1fd032fc77a3",
   "metadata": {},
   "outputs": [
    {
     "data": {
      "text/plain": [
       "<All keys matched successfully>"
      ]
     },
     "execution_count": 41,
     "metadata": {},
     "output_type": "execute_result"
    }
   ],
   "source": [
    "net.load_state_dict(torch.load('model_find_tune_2class_2ch'))"
   ]
  },
  {
   "cell_type": "code",
   "execution_count": 42,
   "id": "4cd67654-6054-4d7c-ae64-d9caf2f5f29e",
   "metadata": {},
   "outputs": [],
   "source": [
    "test_loader = create_dataloader(X_vail, y_vail, batch_size=batch_size)\n"
   ]
  },
  {
   "cell_type": "code",
   "execution_count": 43,
   "id": "3b448572-ac9b-439f-b017-dc5525b024a1",
   "metadata": {},
   "outputs": [
    {
     "name": "stdout",
     "output_type": "stream",
     "text": [
      " Val Acc: 100.0000\n"
     ]
    }
   ],
   "source": [
    "# Train the model\n",
    "num_epochs = 1\n",
    "\n",
    "train_loss = []\n",
    "valid_loss = []\n",
    "train_accuracy = []\n",
    "valid_accuracy = []\n",
    "old_acc = 0\n",
    "for epoch in range(num_epochs):\n",
    "\n",
    "    loss = 0.0\n",
    "    correct = 0\n",
    "    iterations = 0\n",
    "    net.eval()\n",
    "    for i, (items, classes) in enumerate(test_loader):\n",
    "        items = Variable(items)\n",
    "        classes = Variable(classes)\n",
    "        \n",
    "        if cuda.is_available():\n",
    "            items = items.cuda(1)\n",
    "            classes = classes.cuda(1)\n",
    "        \n",
    "        outputs = net(items)\n",
    "        loss += criterion(outputs, classes).item()\n",
    "        \n",
    "        _, predicted = torch.max(outputs.data, 1)\n",
    "        correct += (predicted == classes.data).sum()\n",
    "        \n",
    "        iterations += 1\n",
    "\n",
    "    valid_loss.append(loss/iterations)\n",
    "    correct_scalar = np.array([correct.clone().cpu()])[0]\n",
    "    valid_accuracy.append(correct_scalar / len(test_loader.dataset) * 100.0)\n",
    "print (' Val Acc: %.4f'\n",
    "                   %(valid_accuracy[-1]))\n"
   ]
  },
  {
   "cell_type": "code",
   "execution_count": 44,
   "id": "c743c4d3-58ce-4fd3-8777-09e3ef283e11",
   "metadata": {},
   "outputs": [
    {
     "data": {
      "text/plain": [
       "array([0, 0, 0, 1, 1])"
      ]
     },
     "execution_count": 44,
     "metadata": {},
     "output_type": "execute_result"
    }
   ],
   "source": [
    "y_vail"
   ]
  },
  {
   "cell_type": "code",
   "execution_count": null,
   "id": "4eb8a1cb-9cdb-404a-b363-6e568d88261d",
   "metadata": {},
   "outputs": [],
   "source": []
  }
 ],
 "metadata": {
  "kernelspec": {
   "display_name": "Python 3 (ipykernel)",
   "language": "python",
   "name": "python3"
  },
  "language_info": {
   "codemirror_mode": {
    "name": "ipython",
    "version": 3
   },
   "file_extension": ".py",
   "mimetype": "text/x-python",
   "name": "python",
   "nbconvert_exporter": "python",
   "pygments_lexer": "ipython3",
   "version": "3.8.10"
  }
 },
 "nbformat": 4,
 "nbformat_minor": 5
}
