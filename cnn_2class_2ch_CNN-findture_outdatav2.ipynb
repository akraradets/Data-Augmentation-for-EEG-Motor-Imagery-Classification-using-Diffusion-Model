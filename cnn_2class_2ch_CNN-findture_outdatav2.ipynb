{
 "cells": [
  {
   "cell_type": "code",
   "execution_count": 1,
   "id": "8c66c108-7c19-4d92-8e87-1873c3ea4e99",
   "metadata": {},
   "outputs": [],
   "source": [
    "import os\n",
    "#comment this if you are not using puffer?\n",
    "os.environ['http_proxy'] = 'http://192.41.170.23:3128'\n",
    "os.environ['https_proxy'] = 'http://192.41.170.23:3128'"
   ]
  },
  {
   "cell_type": "code",
   "execution_count": 2,
   "id": "2a72bb6b-d99e-4a4f-a77e-b00892a377c9",
   "metadata": {},
   "outputs": [],
   "source": [
    "#!pip install mne"
   ]
  },
  {
   "cell_type": "code",
   "execution_count": 3,
   "id": "851d3258-8cf6-45d4-8f14-0132010a75a0",
   "metadata": {},
   "outputs": [
    {
     "name": "stderr",
     "output_type": "stream",
     "text": [
      "/home/nutapolt/.local/lib/python3.8/site-packages/tqdm/auto.py:22: TqdmWarning: IProgress not found. Please update jupyter and ipywidgets. See https://ipywidgets.readthedocs.io/en/stable/user_install.html\n",
      "  from .autonotebook import tqdm as notebook_tqdm\n",
      "Failed to detect the name of this notebook, you can set it manually with the WANDB_NOTEBOOK_NAME environment variable to enable code saving.\n",
      "\u001b[34m\u001b[1mwandb\u001b[0m: Currently logged in as: \u001b[33mnutapol-1997\u001b[0m. Use \u001b[1m`wandb login --relogin`\u001b[0m to force relogin\n"
     ]
    },
    {
     "data": {
      "text/plain": [
       "True"
      ]
     },
     "execution_count": 3,
     "metadata": {},
     "output_type": "execute_result"
    }
   ],
   "source": [
    "import numpy as np\n",
    "import matplotlib.pyplot as plt\n",
    "import mne\n",
    "import os\n",
    "import sys\n",
    "from mne.datasets import eegbci\n",
    "import glob\n",
    "from IPython.display import clear_output\n",
    "import numpy as np\n",
    "import torch\n",
    "from torch import nn\n",
    "import torch.optim as optim\n",
    "\n",
    "from mne.datasets import eegbci\n",
    "from sklearn.model_selection import train_test_split\n",
    "from torch.utils.data import TensorDataset\n",
    "from torch.utils.data import DataLoader,SubsetRandomSampler\n",
    "from scipy import signal\n",
    "\n",
    "import torch\n",
    "import torch.cuda as cuda\n",
    "import torch.nn as nn\n",
    "from torch.autograd import Variable\n",
    "import math\n",
    "from sklearn.model_selection import train_test_split\n",
    "from torch.utils.data import TensorDataset\n",
    "from torch.utils.data import DataLoader\n",
    "\n",
    "from common import setup_dataflow\n",
    "import wandb\n",
    "from mne.datasets import sample\n",
    "wandb.login()"
   ]
  },
  {
   "cell_type": "code",
   "execution_count": 4,
   "id": "2cd385f6-ab9b-4056-9519-3a8fecd46d59",
   "metadata": {},
   "outputs": [],
   "source": [
    "from common import EEG"
   ]
  },
  {
   "cell_type": "code",
   "execution_count": 5,
   "id": "656ab20d-d5d5-41f2-b4dd-6155ae8e5f30",
   "metadata": {},
   "outputs": [
    {
     "data": {
      "text/plain": [
       "True"
      ]
     },
     "execution_count": 5,
     "metadata": {},
     "output_type": "execute_result"
    }
   ],
   "source": [
    "torch.cuda.is_available()\n"
   ]
  },
  {
   "cell_type": "code",
   "execution_count": 33,
   "id": "b1d9fa44-0f50-41f0-aec3-07e6f7a4a72f",
   "metadata": {},
   "outputs": [
    {
     "name": "stdout",
     "output_type": "stream",
     "text": [
      "Raw done\n",
      ">>> Apply filter.\n",
      "Filtering raw data in 237 contiguous segments\n",
      "Setting up band-pass filter from 1 - 40 Hz\n",
      "\n",
      "FIR filter parameters\n",
      "---------------------\n",
      "Designing a one-pass, zero-phase, non-causal bandpass filter:\n",
      "- Windowed time-domain design (firwin) method\n",
      "- Hamming window with 0.0194 passband ripple and 53 dB stopband attenuation\n",
      "- Lower passband edge: 1.00\n",
      "- Lower transition bandwidth: 1.00 Hz (-6 dB cutoff frequency: 0.50 Hz)\n",
      "- Upper passband edge: 40.00 Hz\n",
      "- Upper transition bandwidth: 10.00 Hz (-6 dB cutoff frequency: 45.00 Hz)\n",
      "- Filter length: 529 samples (3.306 sec)\n",
      "\n"
     ]
    },
    {
     "name": "stderr",
     "output_type": "stream",
     "text": [
      "[Parallel(n_jobs=1)]: Using backend SequentialBackend with 1 concurrent workers.\n",
      "[Parallel(n_jobs=1)]: Done   1 out of   1 | elapsed:    0.0s remaining:    0.0s\n",
      "[Parallel(n_jobs=1)]: Done   2 out of   2 | elapsed:    0.0s remaining:    0.0s\n",
      "[Parallel(n_jobs=1)]: Done   3 out of   3 | elapsed:    0.0s remaining:    0.0s\n",
      "[Parallel(n_jobs=1)]: Done   4 out of   4 | elapsed:    0.0s remaining:    0.0s\n",
      "[Parallel(n_jobs=1)]: Done  64 out of  64 | elapsed:    0.0s finished\n"
     ]
    },
    {
     "name": "stdout",
     "output_type": "stream",
     "text": [
      "Filter done\n",
      ">>> Create Epochs.\n",
      "Used Annotations descriptions: ['T1', 'T2']\n",
      "Not setting metadata\n",
      "3555 matching events found\n",
      "No baseline correction applied\n",
      "0 projection items activated\n",
      "Using data from preloaded Raw for 3555 events and 641 original time points ...\n",
      "16 bad epochs dropped\n"
     ]
    },
    {
     "data": {
      "text/plain": [
       "(array([[    672,       0,       1],\n",
       "        [   2000,       0,       0],\n",
       "        [   3328,       0,       0],\n",
       "        ...,\n",
       "        [4676928,       0,       1],\n",
       "        [4678256,       0,       0],\n",
       "        [4679584,       0,       1]]),\n",
       " {'T1': 0, 'T2': 1})"
      ]
     },
     "execution_count": 33,
     "metadata": {},
     "output_type": "execute_result"
    }
   ],
   "source": [
    "# home directory + datasets folder\n",
    "#path = '/content/drive/MyDrive/MNE-eegbci-data/files/eegmmidb/'\n",
    "path = 'physionet.org/files/eegmmidb/1.0.0'\n",
    "base_url = 'https://physionet.org/files/eegmmidb/'\n",
    "# subjects = [1]\n",
    "#runs = [3, 4, 7, 8, 11, 12]\n",
    "runs = [4, 8, 12]\n",
    "subjects = [i for i in range(1,80)]\n",
    "#subjects = [1]\n",
    "# runs = [6,10,14]\n",
    "\n",
    "eeg = EEG(path, base_url, subjects, runs)\n",
    "raw=eeg.data_to_raw()\n",
    "print(\"Raw done\")\n",
    "# apply filter\n",
    "freq = (1., 40.)\n",
    "raw=eeg.filter(freq=freq)\n",
    "#raw=eeg.data_to_raw()\n",
    "print(\"Filter done\")\n",
    "#raw=eeg.raw_ica()\n",
    "eeg.create_epochs()"
   ]
  },
  {
   "cell_type": "code",
   "execution_count": 34,
   "id": "02c863d5-9efc-4dca-b118-ea139ce2adca",
   "metadata": {},
   "outputs": [
    {
     "name": "stdout",
     "output_type": "stream",
     "text": [
      "(3539, 64, 641) (3539,)\n"
     ]
    },
    {
     "data": {
      "text/plain": [
       "(3539, 64, 641)"
      ]
     },
     "execution_count": 34,
     "metadata": {},
     "output_type": "execute_result"
    }
   ],
   "source": [
    "X, y = eeg.get_X_y()\n",
    "\n",
    "print(X.shape, y.shape)\n",
    "X = X[:,:,:]\n",
    "X.shape"
   ]
  },
  {
   "cell_type": "code",
   "execution_count": 35,
   "id": "6f762f0f-086b-42d8-a8af-75afc67f6204",
   "metadata": {},
   "outputs": [
    {
     "name": "stdout",
     "output_type": "stream",
     "text": [
      "(3539, 1, 2, 641)\n"
     ]
    }
   ],
   "source": [
    "#for Game net\n",
    "# pick 7 channels.\n",
    "#X2 = X[:, :14, :]\n",
    "# = X2\n",
    "\n",
    "# pick C3 and C4 channels.\n",
    "X2 = X[:, 1:2, :] \n",
    "X3= X[:, 5:6, :]\n",
    "X = np.concatenate((X2,X3), axis=1)\n",
    "# = X4\n",
    "X = X[:,np.newaxis,:,:]\n",
    "print(X.shape)"
   ]
  },
  {
   "cell_type": "code",
   "execution_count": 6,
   "id": "7829aa9d-a88f-4e0c-8b44-74cde0db7dd6",
   "metadata": {},
   "outputs": [
    {
     "name": "stdout",
     "output_type": "stream",
     "text": [
      "(3539, 2, 641)\n"
     ]
    }
   ],
   "source": [
    "#For CNN\n",
    "# pick 7 channels.\n",
    "#X2 = X[:, :14, :]\n",
    "# = X2\n",
    "\n",
    "# pick C3 and C4 channels.\n",
    "X2 = X[:, 1:2, :] \n",
    "X3= X[:, 5:6, :]\n",
    "X = np.concatenate((X2,X3), axis=1)\n",
    "# = X4\n",
    "#X = X[:, :,np.newaxis,:]\n",
    "print(X.shape)"
   ]
  },
  {
   "cell_type": "code",
   "execution_count": 36,
   "id": "baa4ab14-d3e8-4b87-9a1f-3fb522d64af5",
   "metadata": {},
   "outputs": [
    {
     "name": "stdout",
     "output_type": "stream",
     "text": [
      "train size (2477, 1, 2, 641) (2477,)\n",
      "Test size (1062, 1, 2, 641) (1062,)\n"
     ]
    }
   ],
   "source": [
    "X_train, X_test, y_train, y_test = train_test_split(X, y, test_size=0.3)\n",
    "\n",
    "print('train size',X_train.shape, y_train.shape)\n",
    "print('Test size',X_test.shape, y_test.shape)"
   ]
  },
  {
   "cell_type": "code",
   "execution_count": 37,
   "id": "c0b137eb-dd3a-4846-bb9b-9fe0d6bfd8b8",
   "metadata": {},
   "outputs": [],
   "source": [
    "from sklearn.model_selection import train_test_split\n",
    "from torch.utils.data import TensorDataset\n",
    "from torch.utils.data import DataLoader\n",
    "\n",
    "batch_size = 32\n",
    "\n",
    "def create_dataloader(X, y, batch_size):\n",
    "    X_tensor = torch.tensor(X).float()\n",
    "    y_tensor = torch.tensor(y).long()\n",
    "    dataset_tensor = TensorDataset(X_tensor, y_tensor)\n",
    "    dl = torch.utils.data.DataLoader(dataset_tensor, batch_size=batch_size, shuffle=True)\n",
    "    return dl\n",
    "train_loader = create_dataloader(X_train, y_train, batch_size=batch_size)\n",
    "test_loader = create_dataloader(X_test, y_test, batch_size=batch_size)\n",
    "\n",
    "num_step =math.ceil(len(train_loader.dataset) / batch_size)"
   ]
  },
  {
   "cell_type": "code",
   "execution_count": 6,
   "id": "086871a3-b5ed-4865-bdc8-372270251077",
   "metadata": {},
   "outputs": [],
   "source": [
    "# Convolutional neural network (two convolutional layers)\n",
    "class ConvNet(nn.Module):\n",
    "    def __init__(self):\n",
    "        super(ConvNet, self).__init__()\n",
    "        \n",
    "        #using sequential helps bind multiple operations together\n",
    "        self.layer1 = nn.Sequential(\n",
    "            #padding = (kernel_size - 1) / 2 = 2\n",
    "            nn.Conv1d(2, 64, kernel_size=5, stride=1, padding=2),\n",
    "            nn.BatchNorm1d(64),\n",
    "            nn.ReLU(),\n",
    "            # nn.MaxPool2d(kernel_size=2, stride=2)\n",
    "        )\n",
    "        self.layer2 = nn.Sequential(\n",
    "            nn.Conv1d(64, 128, kernel_size=5, stride=1, padding=2),\n",
    "            nn.BatchNorm1d(128),\n",
    "            nn.ReLU(),\n",
    "            # nn.MaxPool2d(kernel_size=2, stride=2)\n",
    "        )\n",
    "        self.fc = nn.Linear(82048, 2)\n",
    "        self.drop_out = nn.Dropout(0.5)\n",
    "        \n",
    "    def forward(self, x):\n",
    "        out = self.layer1(x)\n",
    "        out = self.drop_out(out)\n",
    "        out = self.layer2(out)\n",
    "        out = self.drop_out(out)\n",
    "        out = out.reshape(out.size(0), -1)   #can also use .view()\n",
    "        out = self.fc(out)\n",
    "        return out"
   ]
  },
  {
   "cell_type": "code",
   "execution_count": 7,
   "id": "a1c9860b-7ecf-43c2-a622-336a6c3cca7b",
   "metadata": {},
   "outputs": [],
   "source": [
    "class gamenet(nn.Module):\n",
    "    def __init__(self):\n",
    "        \n",
    "        super(gamenet,self).__init__()\n",
    "        \n",
    "        self.l1 = nn.Sequential(\n",
    "            #in_channel = 16\n",
    "            #out_channel or Filter size = 100\n",
    "            #kernel size = (1,25)\n",
    "            #stride = 1\n",
    "            #padding = Same\n",
    "            #Relu\n",
    "            nn.Conv2d(1,100,kernel_size=(1,25),stride=1,padding='same'),\n",
    "            nn.ReLU(),\n",
    "            nn.BatchNorm2d(100)\n",
    "        )\n",
    "        self.l2 = nn.Sequential(\n",
    "            #in_channel = 100\n",
    "            #out_channel or Filter size = 100\n",
    "            #kernel size = (16,1)\n",
    "            #stride = 1\n",
    "            #padding = Valid\n",
    "            #Relu\n",
    "            nn.Conv2d(100,100,kernel_size=(1,16),stride=1,padding='valid'),\n",
    "            #nn.Conv2d(100,100,kernel_size=(64,1),stride=1,padding='valid'),\n",
    "            nn.ReLU(),\n",
    "            nn.BatchNorm2d(100)\n",
    "        )\n",
    "        self.l3 = nn.Sequential(\n",
    "            #in_channel = 100\n",
    "            #out_channel = 50\n",
    "            #kernel size = (1,30)\n",
    "            #stride = 1\n",
    "            #padding = Same\n",
    "            #Relu\n",
    "            nn.Conv2d(100,50,kernel_size=(1,30),stride=1,padding='same'),\n",
    "            nn.ReLU(),\n",
    "            nn.BatchNorm2d(50)\n",
    "        )\n",
    "        self.maxpooling1 = nn.MaxPool2d(kernel_size=(1,7),stride=5)\n",
    "        self.l4 = nn.Sequential(\n",
    "            #in_channel = 50\n",
    "            #out_channel = 50\n",
    "            #kernel size = (1,30)\n",
    "            #stride = 1\n",
    "            #padding = Same\n",
    "            #Relu\n",
    "            nn.Conv2d(50,50,kernel_size=(1,30),stride=1,padding='same'),\n",
    "            nn.ReLU(),\n",
    "            nn.BatchNorm2d(50)\n",
    "        )\n",
    "        self.maxpooling2 = nn.MaxPool2d(kernel_size=(1,3),stride=2)\n",
    "        \n",
    "\n",
    "        self.flatten = nn.Sequential(\n",
    "            nn.Flatten(),\n",
    "            nn.BatchNorm1d(3050),\n",
    "            nn.Dropout(0.15)\n",
    "        )\n",
    "        self.fc1 = nn.Sequential(\n",
    "            nn.Linear(3050,1024),\n",
    "            nn.ReLU(),\n",
    "            nn.BatchNorm1d(1024),\n",
    "            nn.Dropout(0.15)\n",
    "        )\n",
    "        self.fc2 = nn.Sequential(\n",
    "            nn.Linear(1024,512),\n",
    "            nn.ReLU(),\n",
    "            nn.BatchNorm1d(512),\n",
    "            nn.Dropout(0.15)\n",
    "        )\n",
    "        self.fc3 = nn.Sequential(\n",
    "            nn.Linear(512,256),\n",
    "            nn.ReLU(),\n",
    "            nn.BatchNorm1d(256),\n",
    "            nn.Dropout(0.15)\n",
    "        )\n",
    "        self.fc3 = nn.Sequential(\n",
    "            nn.Linear(512,256),\n",
    "            nn.ReLU(),\n",
    "            nn.BatchNorm1d(256),\n",
    "            nn.Dropout(0.15)\n",
    "        )\n",
    "        self.fc4 = nn.Sequential(\n",
    "            nn.Linear(256,128),\n",
    "            nn.ReLU(),\n",
    "            nn.BatchNorm1d(128),\n",
    "            nn.Dropout(0.15)\n",
    "        )\n",
    "        self.fc5 = nn.Sequential(\n",
    "            nn.Linear(128,64),\n",
    "            nn.ReLU(),\n",
    "            nn.BatchNorm1d(64),\n",
    "            nn.Dropout(0.15)\n",
    "        )\n",
    "        self.fc6 = nn.Sequential(\n",
    "            nn.Linear(64,32),\n",
    "            nn.ReLU(),\n",
    "            nn.BatchNorm1d(32),\n",
    "            nn.Dropout(0.15)\n",
    "        )\n",
    "        self.softmax = nn.Sequential(\n",
    "            nn.Linear(32,2),\n",
    "            nn.Softmax()\n",
    "        )\n",
    "    def forward(self,x):\n",
    "        \n",
    "        out = self.l1(x)\n",
    "        out = self.l2(out)\n",
    "        out = self.l3(out)\n",
    "        out = self.maxpooling1(out)\n",
    "        out = self.l4(out)\n",
    "        out = self.maxpooling2(out)\n",
    "        out = self.flatten(out)\n",
    "        out = self.fc1(out)\n",
    "        out = self.fc2(out)\n",
    "        out = self.fc3(out)\n",
    "        out = self.fc4(out)\n",
    "        out = self.fc5(out)\n",
    "        out = self.fc6(out)\n",
    "        out = self.softmax(out)\n",
    "        return out"
   ]
  },
  {
   "cell_type": "code",
   "execution_count": 39,
   "id": "17760388-df51-4c8c-9ecc-ec81da1946a3",
   "metadata": {},
   "outputs": [
    {
     "name": "stderr",
     "output_type": "stream",
     "text": [
      "\u001b[34m\u001b[1mwandb\u001b[0m: \u001b[33mWARNING\u001b[0m Calling wandb.login() after wandb.init() has no effect.\n"
     ]
    },
    {
     "data": {
      "text/html": [
       "Finishing last run (ID:11h860pc) before initializing another..."
      ],
      "text/plain": [
       "<IPython.core.display.HTML object>"
      ]
     },
     "metadata": {},
     "output_type": "display_data"
    },
    {
     "data": {
      "text/html": [
       "Waiting for W&B process to finish... <strong style=\"color:green\">(success).</strong>"
      ],
      "text/plain": [
       "<IPython.core.display.HTML object>"
      ]
     },
     "metadata": {},
     "output_type": "display_data"
    },
    {
     "data": {
      "text/html": [
       "<style>\n",
       "    table.wandb td:nth-child(1) { padding: 0 10px; text-align: left ; width: auto;} td:nth-child(2) {text-align: left ; width: 100%}\n",
       "    .wandb-row { display: flex; flex-direction: row; flex-wrap: wrap; justify-content: flex-start; width: 100% }\n",
       "    .wandb-col { display: flex; flex-direction: column; flex-basis: 100%; flex: 1; padding: 10px; }\n",
       "    </style>\n",
       "<div class=\"wandb-row\"><div class=\"wandb-col\"><h3>Run history:</h3><br/><table class=\"wandb\"><tr><td>Test/Test_accuracy</td><td>▃▃▃▆█████▆▆▆▆▆▆▆▆▃▃▃▃▃▃▃▃▃▃▃▃▃▃▃▃▃▃▁▃▃▃▃</td></tr><tr><td>Test/Test_loss</td><td>▂▂▂▂▁▁▁▁▁▁▁▁▁▁▁▂▂▂▂▂▃▃▃▃▄▄▄▅▅▅▆▆▆▆▇▇▇▇██</td></tr><tr><td>train/train_accuracy</td><td>▁▁▃▃▃▃▅▅▆▅▆▇▆▇▆▇▇▇▇██▇█▇████████████████</td></tr><tr><td>train/train_loss</td><td>▇█▇▆▇▅▅▅▄▄▄▄▃▄▄▄▃▃▃▃▂▂▃▂▃▂▂▂▂▂▂▂▁▂▂▂▁▁▂▁</td></tr></table><br/></div><div class=\"wandb-col\"><h3>Run summary:</h3><br/><table class=\"wandb\"><tr><td>Test/Test_accuracy</td><td>68.18182</td></tr><tr><td>Test/Test_loss</td><td>0.8077</td></tr><tr><td>train/train_accuracy</td><td>100.0</td></tr><tr><td>train/train_loss</td><td>0.11236</td></tr></table><br/></div></div>"
      ],
      "text/plain": [
       "<IPython.core.display.HTML object>"
      ]
     },
     "metadata": {},
     "output_type": "display_data"
    },
    {
     "data": {
      "text/html": [
       "Synced <strong style=\"color:#cdcd00\">physionet_CNN_2ch_2class_findtune</strong>: <a href=\"https://wandb.ai/nutapol-1997/Motor-Imagery/runs/11h860pc\" target=\"_blank\">https://wandb.ai/nutapol-1997/Motor-Imagery/runs/11h860pc</a><br/>Synced 5 W&B file(s), 0 media file(s), 0 artifact file(s) and 0 other file(s)"
      ],
      "text/plain": [
       "<IPython.core.display.HTML object>"
      ]
     },
     "metadata": {},
     "output_type": "display_data"
    },
    {
     "data": {
      "text/html": [
       "Find logs at: <code>./wandb/run-20220912_075307-11h860pc/logs</code>"
      ],
      "text/plain": [
       "<IPython.core.display.HTML object>"
      ]
     },
     "metadata": {},
     "output_type": "display_data"
    },
    {
     "data": {
      "text/html": [
       "Successfully finished last run (ID:11h860pc). Initializing new run:<br/>"
      ],
      "text/plain": [
       "<IPython.core.display.HTML object>"
      ]
     },
     "metadata": {},
     "output_type": "display_data"
    },
    {
     "data": {
      "text/html": [
       "wandb version 0.13.3 is available!  To upgrade, please run:\n",
       " $ pip install wandb --upgrade"
      ],
      "text/plain": [
       "<IPython.core.display.HTML object>"
      ]
     },
     "metadata": {},
     "output_type": "display_data"
    },
    {
     "data": {
      "text/html": [
       "Tracking run with wandb version 0.13.2"
      ],
      "text/plain": [
       "<IPython.core.display.HTML object>"
      ]
     },
     "metadata": {},
     "output_type": "display_data"
    },
    {
     "data": {
      "text/html": [
       "Run data is saved locally in <code>/home/nutapolt/eeg_mi/wandb/run-20220912_083351-3s2r7wyj</code>"
      ],
      "text/plain": [
       "<IPython.core.display.HTML object>"
      ]
     },
     "metadata": {},
     "output_type": "display_data"
    },
    {
     "data": {
      "text/html": [
       "Syncing run <strong><a href=\"https://wandb.ai/nutapol-1997/Motor-Imagery/runs/3s2r7wyj\" target=\"_blank\">physionet_Gamenet_2ch_2class</a></strong> to <a href=\"https://wandb.ai/nutapol-1997/Motor-Imagery\" target=\"_blank\">Weights & Biases</a> (<a href=\"https://wandb.me/run\" target=\"_blank\">docs</a>)<br/>"
      ],
      "text/plain": [
       "<IPython.core.display.HTML object>"
      ]
     },
     "metadata": {},
     "output_type": "display_data"
    },
    {
     "name": "stdout",
     "output_type": "stream",
     "text": [
      "78\n"
     ]
    }
   ],
   "source": [
    "import wandb\n",
    "wandb.login()\n",
    "\n",
    "\n",
    "wand = wandb.init(\n",
    "        \n",
    "      # Set the project where this run will be logged\n",
    "      project=\"Motor-Imagery\", \n",
    "      # We pass a run name (otherwise it’ll be randomly assigned, like sunshine-lollypop-10)\n",
    "      name=f\"physionet_Gamenet_2ch_2class\", \n",
    "      # Track hyperparameters and run metadata\n",
    "      config={\n",
    "      \"learning_rate\": 0.0000001,\n",
    "      \"architecture\": \"CNN\",\n",
    "      \"dataset\": \"Nutapol T.\",\n",
    "      \"epochs\": 10000,\n",
    "      \"weightname\":\"physionet_CNN_2ch_2class\",\n",
    "      \"num_step_per_epoch\" : num_step, \n",
    "        \n",
    "      }\n",
    "    )\n",
    "\n",
    "config = wand.config\n",
    "print(config.num_step_per_epoch)"
   ]
  },
  {
   "cell_type": "code",
   "execution_count": 40,
   "id": "eccef9ae-6ad7-4d2e-8035-88fcb28d1ad0",
   "metadata": {},
   "outputs": [
    {
     "name": "stderr",
     "output_type": "stream",
     "text": [
      "/home/nutapolt/.local/lib/python3.8/site-packages/torch/nn/modules/conv.py:453: UserWarning: Using padding='same' with even kernel lengths and odd dilation may require a zero-padded copy of the input be created (Triggered internally at  ../aten/src/ATen/native/Convolution.cpp:882.)\n",
      "  return F.conv2d(input, weight, bias, self.stride,\n",
      "/home/nutapolt/.local/lib/python3.8/site-packages/torch/nn/modules/container.py:139: UserWarning: Implicit dimension choice for softmax has been deprecated. Change the call to include dim=X as an argument.\n",
      "  input = module(input)\n"
     ]
    },
    {
     "name": "stdout",
     "output_type": "stream",
     "text": [
      "Epoch 1/10000, Tr Loss: 0.7071, Tr Acc: 50.7872, Val Loss: 0.6940, Val Acc: 47.6460\n",
      "Epoch 101/10000, Tr Loss: 0.6997, Tr Acc: 52.4021, Val Loss: 0.6936, Val Acc: 53.3898\n",
      "Epoch 201/10000, Tr Loss: 0.6961, Tr Acc: 53.0884, Val Loss: 0.6956, Val Acc: 52.0716\n",
      "Epoch 301/10000, Tr Loss: 0.6866, Tr Acc: 55.9144, Val Loss: 0.6883, Val Acc: 55.0847\n",
      "Epoch 401/10000, Tr Loss: 0.6910, Tr Acc: 53.8151, Val Loss: 0.6874, Val Acc: 55.1789\n",
      "Epoch 501/10000, Tr Loss: 0.6756, Tr Acc: 57.7715, Val Loss: 0.6833, Val Acc: 55.1789\n",
      "Epoch 601/10000, Tr Loss: 0.6696, Tr Acc: 58.4982, Val Loss: 0.6800, Val Acc: 56.2147\n",
      "Epoch 701/10000, Tr Loss: 0.6674, Tr Acc: 59.3056, Val Loss: 0.6752, Val Acc: 57.8154\n",
      "Epoch 801/10000, Tr Loss: 0.6625, Tr Acc: 61.7279, Val Loss: 0.6775, Val Acc: 57.8154\n",
      "Epoch 901/10000, Tr Loss: 0.6600, Tr Acc: 61.4857, Val Loss: 0.6711, Val Acc: 58.7571\n",
      "Epoch 1001/10000, Tr Loss: 0.6519, Tr Acc: 61.3646, Val Loss: 0.6647, Val Acc: 60.6403\n",
      "Epoch 1101/10000, Tr Loss: 0.6480, Tr Acc: 63.1005, Val Loss: 0.6699, Val Acc: 59.5104\n",
      "Epoch 1201/10000, Tr Loss: 0.6462, Tr Acc: 63.8272, Val Loss: 0.6634, Val Acc: 61.1111\n",
      "Epoch 1301/10000, Tr Loss: 0.6471, Tr Acc: 63.5042, Val Loss: 0.6589, Val Acc: 61.0169\n",
      "Epoch 1401/10000, Tr Loss: 0.6344, Tr Acc: 64.9172, Val Loss: 0.6582, Val Acc: 61.4878\n",
      "Epoch 1501/10000, Tr Loss: 0.6359, Tr Acc: 63.9887, Val Loss: 0.6609, Val Acc: 61.3936\n",
      "Epoch 1601/10000, Tr Loss: 0.6293, Tr Acc: 65.7650, Val Loss: 0.6552, Val Acc: 60.4520\n",
      "Epoch 1701/10000, Tr Loss: 0.6229, Tr Acc: 66.5725, Val Loss: 0.6537, Val Acc: 61.3936\n",
      "Epoch 1801/10000, Tr Loss: 0.6208, Tr Acc: 67.6221, Val Loss: 0.6527, Val Acc: 62.1469\n",
      "Epoch 1901/10000, Tr Loss: 0.6093, Tr Acc: 69.5196, Val Loss: 0.6536, Val Acc: 62.1469\n",
      "Epoch 2001/10000, Tr Loss: 0.6059, Tr Acc: 70.0444, Val Loss: 0.6585, Val Acc: 61.9586\n",
      "Epoch 2101/10000, Tr Loss: 0.5963, Tr Acc: 71.8611, Val Loss: 0.6517, Val Acc: 63.5593\n",
      "Epoch 2201/10000, Tr Loss: 0.5948, Tr Acc: 71.0133, Val Loss: 0.6509, Val Acc: 61.4878\n",
      "Epoch 2301/10000, Tr Loss: 0.5872, Tr Acc: 72.6282, Val Loss: 0.6472, Val Acc: 63.4652\n",
      "Epoch 2401/10000, Tr Loss: 0.5865, Tr Acc: 72.1437, Val Loss: 0.6452, Val Acc: 63.0885\n",
      "Epoch 2501/10000, Tr Loss: 0.5814, Tr Acc: 73.0723, Val Loss: 0.6456, Val Acc: 64.1243\n",
      "Epoch 2601/10000, Tr Loss: 0.5816, Tr Acc: 73.6778, Val Loss: 0.6483, Val Acc: 62.0527\n",
      "Epoch 2701/10000, Tr Loss: 0.5747, Tr Acc: 74.0412, Val Loss: 0.6414, Val Acc: 63.3710\n",
      "Epoch 2801/10000, Tr Loss: 0.5637, Tr Acc: 76.3827, Val Loss: 0.6417, Val Acc: 64.2185\n",
      "Epoch 2901/10000, Tr Loss: 0.5622, Tr Acc: 75.8983, Val Loss: 0.6428, Val Acc: 62.9944\n",
      "Epoch 3001/10000, Tr Loss: 0.5567, Tr Acc: 76.8268, Val Loss: 0.6515, Val Acc: 62.4294\n",
      "Epoch 3101/10000, Tr Loss: 0.5475, Tr Acc: 78.1187, Val Loss: 0.6482, Val Acc: 62.3352\n",
      "Epoch 3201/10000, Tr Loss: 0.5403, Tr Acc: 78.6031, Val Loss: 0.6469, Val Acc: 63.0885\n",
      "Epoch 3301/10000, Tr Loss: 0.5412, Tr Acc: 78.4820, Val Loss: 0.6492, Val Acc: 62.7119\n",
      "Epoch 3401/10000, Tr Loss: 0.5327, Tr Acc: 80.7832, Val Loss: 0.6450, Val Acc: 62.5235\n",
      "Epoch 3501/10000, Tr Loss: 0.5277, Tr Acc: 80.2987, Val Loss: 0.6460, Val Acc: 62.3352\n",
      "Epoch 3601/10000, Tr Loss: 0.5164, Tr Acc: 83.2459, Val Loss: 0.6441, Val Acc: 62.7119\n",
      "Epoch 3701/10000, Tr Loss: 0.5173, Tr Acc: 82.0751, Val Loss: 0.6467, Val Acc: 62.9944\n",
      "Epoch 3801/10000, Tr Loss: 0.5139, Tr Acc: 82.7614, Val Loss: 0.6497, Val Acc: 62.3352\n",
      "Epoch 3901/10000, Tr Loss: 0.5050, Tr Acc: 82.8421, Val Loss: 0.6525, Val Acc: 62.2411\n",
      "Epoch 4001/10000, Tr Loss: 0.4973, Tr Acc: 84.0533, Val Loss: 0.6462, Val Acc: 61.4878\n",
      "Epoch 4101/10000, Tr Loss: 0.4950, Tr Acc: 84.6992, Val Loss: 0.6525, Val Acc: 62.1469\n",
      "Epoch 4201/10000, Tr Loss: 0.4912, Tr Acc: 84.7800, Val Loss: 0.6491, Val Acc: 61.7702\n",
      "Epoch 4401/10000, Tr Loss: 0.4740, Tr Acc: 87.0811, Val Loss: 0.6515, Val Acc: 61.9586\n",
      "Epoch 4501/10000, Tr Loss: 0.4684, Tr Acc: 87.6463, Val Loss: 0.6473, Val Acc: 61.8644\n",
      "Epoch 4601/10000, Tr Loss: 0.4618, Tr Acc: 88.2923, Val Loss: 0.6504, Val Acc: 61.2053\n",
      "Epoch 4701/10000, Tr Loss: 0.4614, Tr Acc: 88.2923, Val Loss: 0.6483, Val Acc: 62.4294\n",
      "Epoch 4801/10000, Tr Loss: 0.4584, Tr Acc: 88.0904, Val Loss: 0.6525, Val Acc: 61.5819\n",
      "Epoch 4901/10000, Tr Loss: 0.4515, Tr Acc: 89.1401, Val Loss: 0.6536, Val Acc: 61.1111\n",
      "Epoch 5001/10000, Tr Loss: 0.4364, Tr Acc: 91.0375, Val Loss: 0.6526, Val Acc: 61.2994\n",
      "Epoch 5101/10000, Tr Loss: 0.4410, Tr Acc: 90.3109, Val Loss: 0.6531, Val Acc: 61.8644\n",
      "Epoch 5201/10000, Tr Loss: 0.4364, Tr Acc: 90.8357, Val Loss: 0.6542, Val Acc: 61.8644\n",
      "Epoch 5301/10000, Tr Loss: 0.4315, Tr Acc: 91.4413, Val Loss: 0.6529, Val Acc: 61.2994\n",
      "Epoch 5401/10000, Tr Loss: 0.4299, Tr Acc: 90.9164, Val Loss: 0.6583, Val Acc: 61.1111\n",
      "Epoch 5501/10000, Tr Loss: 0.4195, Tr Acc: 92.7331, Val Loss: 0.6499, Val Acc: 61.4878\n",
      "Epoch 5601/10000, Tr Loss: 0.4170, Tr Acc: 93.3387, Val Loss: 0.6508, Val Acc: 61.2053\n",
      "Epoch 5701/10000, Tr Loss: 0.4157, Tr Acc: 92.8139, Val Loss: 0.6582, Val Acc: 61.5819\n",
      "Epoch 5801/10000, Tr Loss: 0.4131, Tr Acc: 92.9350, Val Loss: 0.6541, Val Acc: 61.6761\n",
      "Epoch 5901/10000, Tr Loss: 0.4077, Tr Acc: 93.5809, Val Loss: 0.6568, Val Acc: 60.8286\n",
      "Epoch 6001/10000, Tr Loss: 0.4032, Tr Acc: 94.1058, Val Loss: 0.6579, Val Acc: 60.5461\n",
      "Epoch 6101/10000, Tr Loss: 0.3996, Tr Acc: 94.3076, Val Loss: 0.6627, Val Acc: 60.9228\n",
      "Epoch 6201/10000, Tr Loss: 0.4030, Tr Acc: 93.2580, Val Loss: 0.6592, Val Acc: 59.8870\n",
      "Epoch 6301/10000, Tr Loss: 0.3962, Tr Acc: 94.0250, Val Loss: 0.6546, Val Acc: 61.3936\n",
      "Epoch 6401/10000, Tr Loss: 0.3887, Tr Acc: 94.9132, Val Loss: 0.6553, Val Acc: 60.6403\n",
      "Epoch 6501/10000, Tr Loss: 0.3848, Tr Acc: 95.3573, Val Loss: 0.6554, Val Acc: 60.7345\n",
      "Epoch 6601/10000, Tr Loss: 0.3862, Tr Acc: 95.3977, Val Loss: 0.6584, Val Acc: 60.9228\n",
      "Epoch 6701/10000, Tr Loss: 0.3775, Tr Acc: 96.2455, Val Loss: 0.6558, Val Acc: 60.5461\n",
      "Epoch 6801/10000, Tr Loss: 0.3873, Tr Acc: 94.8728, Val Loss: 0.6638, Val Acc: 60.9228\n",
      "Epoch 6901/10000, Tr Loss: 0.3776, Tr Acc: 96.0436, Val Loss: 0.6594, Val Acc: 61.0169\n",
      "Epoch 7001/10000, Tr Loss: 0.3725, Tr Acc: 96.5281, Val Loss: 0.6687, Val Acc: 61.2994\n",
      "Epoch 7101/10000, Tr Loss: 0.3747, Tr Acc: 96.0436, Val Loss: 0.6682, Val Acc: 60.2637\n",
      "Epoch 7301/10000, Tr Loss: 0.3705, Tr Acc: 96.3666, Val Loss: 0.6660, Val Acc: 60.6403\n",
      "Epoch 7401/10000, Tr Loss: 0.3663, Tr Acc: 96.9721, Val Loss: 0.6661, Val Acc: 60.7345\n",
      "Epoch 7501/10000, Tr Loss: 0.3688, Tr Acc: 96.4877, Val Loss: 0.6639, Val Acc: 60.3578\n",
      "Epoch 7601/10000, Tr Loss: 0.3653, Tr Acc: 96.8914, Val Loss: 0.6681, Val Acc: 59.9812\n",
      "Epoch 7701/10000, Tr Loss: 0.3684, Tr Acc: 96.0436, Val Loss: 0.6660, Val Acc: 60.8286\n",
      "Epoch 7801/10000, Tr Loss: 0.3586, Tr Acc: 97.2547, Val Loss: 0.6727, Val Acc: 60.9228\n",
      "Epoch 7901/10000, Tr Loss: 0.3628, Tr Acc: 96.6088, Val Loss: 0.6715, Val Acc: 61.0169\n",
      "Epoch 8001/10000, Tr Loss: 0.3604, Tr Acc: 97.0529, Val Loss: 0.6672, Val Acc: 60.6403\n",
      "Epoch 8101/10000, Tr Loss: 0.3605, Tr Acc: 96.9318, Val Loss: 0.6769, Val Acc: 60.5461\n",
      "Epoch 8201/10000, Tr Loss: 0.3583, Tr Acc: 97.4970, Val Loss: 0.6707, Val Acc: 60.7345\n",
      "Epoch 8301/10000, Tr Loss: 0.3552, Tr Acc: 97.4970, Val Loss: 0.6690, Val Acc: 60.2637\n",
      "Epoch 8401/10000, Tr Loss: 0.3519, Tr Acc: 97.9814, Val Loss: 0.6772, Val Acc: 60.2637\n",
      "Epoch 8501/10000, Tr Loss: 0.3519, Tr Acc: 97.6585, Val Loss: 0.6778, Val Acc: 60.4520\n",
      "Epoch 8601/10000, Tr Loss: 0.3505, Tr Acc: 97.3355, Val Loss: 0.6849, Val Acc: 59.5104\n",
      "Epoch 8701/10000, Tr Loss: 0.3499, Tr Acc: 97.9007, Val Loss: 0.6737, Val Acc: 60.2637\n",
      "Epoch 8801/10000, Tr Loss: 0.3441, Tr Acc: 98.4255, Val Loss: 0.6723, Val Acc: 60.6403\n",
      "Epoch 8901/10000, Tr Loss: 0.3507, Tr Acc: 97.5373, Val Loss: 0.6732, Val Acc: 60.0753\n",
      "Epoch 9001/10000, Tr Loss: 0.3457, Tr Acc: 97.8199, Val Loss: 0.6777, Val Acc: 59.6987\n",
      "Epoch 9201/10000, Tr Loss: 0.3453, Tr Acc: 97.9007, Val Loss: 0.6770, Val Acc: 60.6403\n",
      "Epoch 9301/10000, Tr Loss: 0.3384, Tr Acc: 98.7081, Val Loss: 0.6689, Val Acc: 61.5819\n",
      "Epoch 9401/10000, Tr Loss: 0.3481, Tr Acc: 97.5373, Val Loss: 0.6751, Val Acc: 59.8870\n",
      "Epoch 9501/10000, Tr Loss: 0.3444, Tr Acc: 97.9411, Val Loss: 0.6800, Val Acc: 60.7345\n",
      "Epoch 9601/10000, Tr Loss: 0.3415, Tr Acc: 98.1025, Val Loss: 0.6803, Val Acc: 60.3578\n",
      "Epoch 9701/10000, Tr Loss: 0.3380, Tr Acc: 98.5870, Val Loss: 0.6758, Val Acc: 60.3578\n",
      "Epoch 9801/10000, Tr Loss: 0.3444, Tr Acc: 97.6988, Val Loss: 0.6810, Val Acc: 60.8286\n",
      "Epoch 9901/10000, Tr Loss: 0.3521, Tr Acc: 96.7703, Val Loss: 0.6763, Val Acc: 60.4520\n"
     ]
    }
   ],
   "source": [
    "from common import train\n",
    "net = gamenet().cuda(0)\n",
    "optimizer = optim.Adam(net.parameters(), lr=config.learning_rate)\n",
    "criterion = nn.CrossEntropyLoss()\n",
    "\n",
    "\n",
    "train_loss,valid_loss,train_accuracy,valid_accuracy =train(\n",
    "    model = net,\n",
    "    gpu_num = 0,\n",
    "    train_loader = train_loader,\n",
    "    test_loader = test_loader,\n",
    "    vail_loader = None,\n",
    "    optimizer = optimizer  ,\n",
    "    criterion = criterion ,\n",
    "    wand = wand\n",
    "         )\n",
    "\n",
    "\n",
    "wandb.alert(\n",
    "            title='Finish',\n",
    "            text=f'Finishing training',\n",
    "        )"
   ]
  },
  {
   "cell_type": "code",
   "execution_count": null,
   "id": "fc8f634a-bfa9-4c2e-890b-a884bf376fda",
   "metadata": {},
   "outputs": [],
   "source": []
  },
  {
   "cell_type": "markdown",
   "id": "1b544cb1-a832-460c-a623-f682258d9128",
   "metadata": {},
   "source": [
    "### Freeze layer"
   ]
  },
  {
   "cell_type": "code",
   "execution_count": 10,
   "id": "6bed1c2d-2be1-48fd-976e-2da1001f0289",
   "metadata": {},
   "outputs": [],
   "source": [
    "#del net\n",
    "net = ConvNet().cuda(0)"
   ]
  },
  {
   "cell_type": "code",
   "execution_count": 11,
   "id": "31d9e7ba-834f-4f43-b1a2-c93f794664c6",
   "metadata": {},
   "outputs": [],
   "source": [
    "class EEG:\n",
    "    def __init__(self, path, base_url, subjects, runs):\n",
    "        self.subpath = ''\n",
    "        self.path = path\n",
    "        print(path)\n",
    "        self.base_url = base_url\n",
    "        self.subjects = subjects\n",
    "        self.runs = runs\n",
    "        \n",
    "        # download data if does not exist in path.\n",
    "        # self.load_data()\n",
    "        self.data_to_raw()\n",
    "    \n",
    "    def load_data(self):\n",
    "        print(f\">>> Start download from: {self.base_url}.\")\n",
    "        print(f\"Downloading files to: {self.path}.\")\n",
    "        for subject in self.subjects:\n",
    "            eegbci.load_data(subject,self.runs,path=self.path,base_url=self.base_url)\n",
    "        print(\"Done.\")\n",
    "    \n",
    "    \n",
    "        \n",
    "        print(\"Done.\")\n",
    "        return self.raw\n",
    "    def filter(self, freq):\n",
    "        raw = self.raw\n",
    "        low, high = freq\n",
    "        print(f\">>> Apply filter.\")\n",
    "        self.raw.filter(low, high, fir_design='firwin', verbose=20)\n",
    "        return  raw\n",
    "    def raw_ica(self):\n",
    "        raw = self.raw\n",
    "        ica = mne.preprocessing.ICA(n_components=1, max_iter=100)\n",
    "        ica.fit(raw)\n",
    "        ica.exclude = [1, 2]  # details on how we picked these are omitted here\n",
    "        ica.plot_properties(raw, picks=ica.exclude)\n",
    "        ica.apply(raw)\n",
    "        print('ICA DONE ????')\n",
    "        return  raw\n",
    "        \n",
    "    def get_events(self):\n",
    "        event_id = dict(T1=0, T2=1) # the events we want to extract\n",
    "        events, event_id = mne.events_from_annotations(self.raw, event_id=event_id)\n",
    "        return events, event_id\n",
    "    \n",
    "    def get_epochs(self, events, event_id):\n",
    "        picks = mne.pick_types(self.raw.info, eeg=True, exclude='bads')\n",
    "        tmin = 0\n",
    "        tmax = 4\n",
    "        epochs = mne.Epochs(self.raw, events, event_id, tmin, tmax, proj=True, \n",
    "                            picks=picks, baseline=None, preload=True)\n",
    "        return epochs\n",
    "    \n",
    "    \n",
    "        \n",
    "    \n",
    "    def data_to_raw(self):\n",
    "        fullpath = os.path.join(self.path, *self.subpath.split(sep='/'))\n",
    "        #print(f\">>> Extract all subjects from: {fullpath}.\")\n",
    "        extension = \"fif\"\n",
    "        raws = []\n",
    "        count = 1\n",
    "        for i, subject in enumerate(self.subjects):\n",
    "            sname = f\"S{str(subject).zfill(3)}\".upper()\n",
    "            \n",
    "            for j, run in enumerate(self.runs):\n",
    "                rname = f\"{sname}R{str(run).zfill(2)}\".upper()\n",
    "                path_file = os.path.join(fullpath, sname, f'{rname}.{extension}')\n",
    "                #print(path_file)\n",
    "                #print(f\"Loading file #{count}/{len(self.subjects)*len(self.runs)}: {f'{rname}.{extension}'}\")\n",
    "                raw = mne.io.read_raw_fif( path_file , preload=True, verbose='WARNING' )\n",
    "                raws.append(raw)\n",
    "                count += 1\n",
    "\n",
    "        raw = mne.io.concatenate_raws(raws)\n",
    "        eegbci.standardize(raw)\n",
    "        montage = mne.channels.make_standard_montage('standard_1005')\n",
    "        raw.set_montage(montage)\n",
    "        self.raw = raw\n",
    "    \n",
    "    def create_epochs(self):\n",
    "        print(\">>> Create Epochs.\")\n",
    "        \n",
    "        events, event_id = self.get_events()\n",
    "        self.epochs = self.get_epochs(events, event_id)\n",
    "        print(\"Done.\")\n",
    "        return events , event_id\n",
    "# getepoch(raw,4, 10,reject_bad=False,on_missing='warn')    \n",
    "    def get_X_y_cross(self):\n",
    "        events = mne.find_events(raw)\n",
    "        \n",
    "        epochs = mne.Epochs(\n",
    "        raw,\n",
    "        events,\n",
    "        event_id=[1,2,3],\n",
    "        tmin=0,\n",
    "        tmax=4,\n",
    "        picks=\"data\",\n",
    "        on_missing='warn',\n",
    "        baseline=None,\n",
    "            preload=True\n",
    "    )\n",
    "        epochs=epochs.resample(160)\n",
    "            #events , event_id=self.create_epochs()\n",
    "        self.X = epochs.get_data()\n",
    "        self.y = epochs.events[:, -1]\n",
    "        return self.X, self.y \n",
    "\n",
    "        \n",
    "def getepoch(raws,trial_duration, calibration_duration,reject_bad=False,on_missing='warn'):\n",
    "    #reject_criteria = dict(eeg=100e-6)  # 100 µV\n",
    "    #flat_criteria = dict(eeg=1e-6)  # 1 µV\n",
    "    epochs_list = []\n",
    "    raws = [raws]\n",
    "    print(len(raws))\n",
    "    for raw in raws:\n",
    "        print(raw)\n",
    "        events = mne.find_events(raw)\n",
    "        epochs = mne.Epochs(\n",
    "            raw,\n",
    "            events,\n",
    "            event_id=[1,2,3],\n",
    "            tmin=-calibration_duration,\n",
    "            tmax=trial_duration,\n",
    "            picks=\"data\",\n",
    "            on_missing=on_missing,\n",
    "            baseline=None,\n",
    "            preload=True\n",
    "        )\n",
    "        \n",
    "        epochs_list.append(epochs)\n",
    "    epochs = mne.concatenate_epochs(epochs_list)\n",
    "    labels = epochs.events[:,-1]\n",
    "    \n",
    "    print(f'Found {len(labels)} epochs')\n",
    "    print(epochs)\n",
    "    print(labels)\n",
    "\n",
    "    return epochs.get_data(),epochs,labels\n",
    "\n",
    "        \n",
    "        \n",
    "def do_plot(train_loss, valid_loss,ty):\n",
    "    if ty == \"loss\":\n",
    "        plt.figure(figsize=(10,10))\n",
    "        \n",
    "        plt.plot(train_loss, label='train_loss')\n",
    "        plt.plot(valid_loss, label='valid_loss')\n",
    "        plt.title('loss {}'.format(iter))\n",
    "        plt.legend()\n",
    "        plt.show()\n",
    "    if ty == \"acc\":\n",
    "        plt.figure(figsize=(10,10))\n",
    "        \n",
    "        plot_ty=torch.tensor(train_loss, device = 'cpu')\n",
    "        plat_va=torch.tensor(valid_loss, device = 'cpu')\n",
    "        plt.plot(plot_ty, label='train_acc')\n",
    "        plt.plot(plat_va, label='valid_acc')\n",
    "        plt.title('acc {}'.format(iter))\n",
    "        plt.legend()\n",
    "        plt.show()"
   ]
  },
  {
   "cell_type": "code",
   "execution_count": 14,
   "id": "1fdb330a-630d-44a7-9b63-a9c8e63e7d17",
   "metadata": {
    "tags": []
   },
   "outputs": [
    {
     "name": "stdout",
     "output_type": "stream",
     "text": [
      "\n",
      "\n"
     ]
    },
    {
     "name": "stderr",
     "output_type": "stream",
     "text": [
      "/tmp/ipykernel_18229/1353350491.py:71: RuntimeWarning: This filename (S004/S004R03.fif) does not conform to MNE naming conventions. All raw files should end with raw.fif, raw_sss.fif, raw_tsss.fif, _meg.fif, _eeg.fif, _ieeg.fif, raw.fif.gz, raw_sss.fif.gz, raw_tsss.fif.gz, _meg.fif.gz, _eeg.fif.gz or _ieeg.fif.gz\n",
      "  raw = mne.io.read_raw_fif( path_file , preload=True, verbose='WARNING' )\n",
      "/tmp/ipykernel_18229/1353350491.py:71: RuntimeWarning: This filename (S004/S004R04.fif) does not conform to MNE naming conventions. All raw files should end with raw.fif, raw_sss.fif, raw_tsss.fif, _meg.fif, _eeg.fif, _ieeg.fif, raw.fif.gz, raw_sss.fif.gz, raw_tsss.fif.gz, _meg.fif.gz, _eeg.fif.gz or _ieeg.fif.gz\n",
      "  raw = mne.io.read_raw_fif( path_file , preload=True, verbose='WARNING' )\n",
      "/tmp/ipykernel_18229/1353350491.py:71: RuntimeWarning: This filename (S004/S004R05.fif) does not conform to MNE naming conventions. All raw files should end with raw.fif, raw_sss.fif, raw_tsss.fif, _meg.fif, _eeg.fif, _ieeg.fif, raw.fif.gz, raw_sss.fif.gz, raw_tsss.fif.gz, _meg.fif.gz, _eeg.fif.gz or _ieeg.fif.gz\n",
      "  raw = mne.io.read_raw_fif( path_file , preload=True, verbose='WARNING' )\n",
      "/tmp/ipykernel_18229/1353350491.py:71: RuntimeWarning: This filename (S004/S004R06.fif) does not conform to MNE naming conventions. All raw files should end with raw.fif, raw_sss.fif, raw_tsss.fif, _meg.fif, _eeg.fif, _ieeg.fif, raw.fif.gz, raw_sss.fif.gz, raw_tsss.fif.gz, _meg.fif.gz, _eeg.fif.gz or _ieeg.fif.gz\n",
      "  raw = mne.io.read_raw_fif( path_file , preload=True, verbose='WARNING' )\n",
      "/tmp/ipykernel_18229/1353350491.py:71: RuntimeWarning: This filename (S004/S004R07.fif) does not conform to MNE naming conventions. All raw files should end with raw.fif, raw_sss.fif, raw_tsss.fif, _meg.fif, _eeg.fif, _ieeg.fif, raw.fif.gz, raw_sss.fif.gz, raw_tsss.fif.gz, _meg.fif.gz, _eeg.fif.gz or _ieeg.fif.gz\n",
      "  raw = mne.io.read_raw_fif( path_file , preload=True, verbose='WARNING' )\n",
      "/tmp/ipykernel_18229/1353350491.py:71: RuntimeWarning: This filename (S004/S004R08.fif) does not conform to MNE naming conventions. All raw files should end with raw.fif, raw_sss.fif, raw_tsss.fif, _meg.fif, _eeg.fif, _ieeg.fif, raw.fif.gz, raw_sss.fif.gz, raw_tsss.fif.gz, _meg.fif.gz, _eeg.fif.gz or _ieeg.fif.gz\n",
      "  raw = mne.io.read_raw_fif( path_file , preload=True, verbose='WARNING' )\n",
      "/tmp/ipykernel_18229/1353350491.py:71: RuntimeWarning: This filename (S004/S004R03.fif) does not conform to MNE naming conventions. All raw files should end with raw.fif, raw_sss.fif, raw_tsss.fif, _meg.fif, _eeg.fif, _ieeg.fif, raw.fif.gz, raw_sss.fif.gz, raw_tsss.fif.gz, _meg.fif.gz, _eeg.fif.gz or _ieeg.fif.gz\n",
      "  raw = mne.io.read_raw_fif( path_file , preload=True, verbose='WARNING' )\n",
      "/tmp/ipykernel_18229/1353350491.py:71: RuntimeWarning: This filename (S004/S004R04.fif) does not conform to MNE naming conventions. All raw files should end with raw.fif, raw_sss.fif, raw_tsss.fif, _meg.fif, _eeg.fif, _ieeg.fif, raw.fif.gz, raw_sss.fif.gz, raw_tsss.fif.gz, _meg.fif.gz, _eeg.fif.gz or _ieeg.fif.gz\n",
      "  raw = mne.io.read_raw_fif( path_file , preload=True, verbose='WARNING' )\n",
      "/tmp/ipykernel_18229/1353350491.py:71: RuntimeWarning: This filename (S004/S004R05.fif) does not conform to MNE naming conventions. All raw files should end with raw.fif, raw_sss.fif, raw_tsss.fif, _meg.fif, _eeg.fif, _ieeg.fif, raw.fif.gz, raw_sss.fif.gz, raw_tsss.fif.gz, _meg.fif.gz, _eeg.fif.gz or _ieeg.fif.gz\n",
      "  raw = mne.io.read_raw_fif( path_file , preload=True, verbose='WARNING' )\n",
      "/tmp/ipykernel_18229/1353350491.py:71: RuntimeWarning: This filename (S004/S004R06.fif) does not conform to MNE naming conventions. All raw files should end with raw.fif, raw_sss.fif, raw_tsss.fif, _meg.fif, _eeg.fif, _ieeg.fif, raw.fif.gz, raw_sss.fif.gz, raw_tsss.fif.gz, _meg.fif.gz, _eeg.fif.gz or _ieeg.fif.gz\n",
      "  raw = mne.io.read_raw_fif( path_file , preload=True, verbose='WARNING' )\n",
      "/tmp/ipykernel_18229/1353350491.py:71: RuntimeWarning: This filename (S004/S004R07.fif) does not conform to MNE naming conventions. All raw files should end with raw.fif, raw_sss.fif, raw_tsss.fif, _meg.fif, _eeg.fif, _ieeg.fif, raw.fif.gz, raw_sss.fif.gz, raw_tsss.fif.gz, _meg.fif.gz, _eeg.fif.gz or _ieeg.fif.gz\n",
      "  raw = mne.io.read_raw_fif( path_file , preload=True, verbose='WARNING' )\n",
      "/tmp/ipykernel_18229/1353350491.py:71: RuntimeWarning: This filename (S004/S004R08.fif) does not conform to MNE naming conventions. All raw files should end with raw.fif, raw_sss.fif, raw_tsss.fif, _meg.fif, _eeg.fif, _ieeg.fif, raw.fif.gz, raw_sss.fif.gz, raw_tsss.fif.gz, _meg.fif.gz, _eeg.fif.gz or _ieeg.fif.gz\n",
      "  raw = mne.io.read_raw_fif( path_file , preload=True, verbose='WARNING' )\n"
     ]
    },
    {
     "name": "stdout",
     "output_type": "stream",
     "text": [
      "Raw done\n",
      ">>> Apply filter.\n",
      "Filtering raw data in 6 contiguous segments\n",
      "Setting up band-pass filter from 1 - 45 Hz\n",
      "\n",
      "FIR filter parameters\n",
      "---------------------\n",
      "Designing a one-pass, zero-phase, non-causal bandpass filter:\n",
      "- Windowed time-domain design (firwin) method\n",
      "- Hamming window with 0.0194 passband ripple and 53 dB stopband attenuation\n",
      "- Lower passband edge: 1.00\n",
      "- Lower transition bandwidth: 1.00 Hz (-6 dB cutoff frequency: 0.50 Hz)\n",
      "- Upper passband edge: 45.00 Hz\n",
      "- Upper transition bandwidth: 11.25 Hz (-6 dB cutoff frequency: 50.62 Hz)\n",
      "- Filter length: 825 samples (3.300 sec)\n",
      "\n",
      "Filter done\n"
     ]
    },
    {
     "name": "stderr",
     "output_type": "stream",
     "text": [
      "[Parallel(n_jobs=1)]: Using backend SequentialBackend with 1 concurrent workers.\n",
      "[Parallel(n_jobs=1)]: Done   1 out of   1 | elapsed:    0.0s remaining:    0.0s\n",
      "[Parallel(n_jobs=1)]: Done   2 out of   2 | elapsed:    0.0s remaining:    0.0s\n",
      "[Parallel(n_jobs=1)]: Done   2 out of   2 | elapsed:    0.0s finished\n"
     ]
    }
   ],
   "source": [
    "# home directory + datasets folder\n",
    "#path = '/content/drive/MyDrive/MNE-eegbci-data/files/eegmmidb/'\n",
    "path = ''\n",
    "base_url = 'https://physionet.org/files/eegmmidb/'\n",
    "# subjects = [1]\n",
    "#runs = [3, 4, 7, 8, 11, 12]\n",
    "runs = [3,4, 5,6, 7,8]\n",
    "subjects = [i for i in range(4,5)]\n",
    "#subjects = [1]\n",
    "# runs = [6,10,14]\n",
    "print(path)\n",
    "eeg = EEG(path, base_url, subjects, runs)\n",
    "raw=eeg.data_to_raw()\n",
    "\n",
    "print(\"Raw done\")\n",
    "# apply filter \n",
    "freq = (1., 45.)\n",
    "raw=eeg.filter(freq=freq)\n",
    "#raw=eeg.data_to_raw()\n",
    "print(\"Filter done\")\n",
    "#raw=eeg.raw_ica()\n",
    "#eeg.create_epochs()"
   ]
  },
  {
   "cell_type": "code",
   "execution_count": 15,
   "id": "5d776b41-bffa-4706-8e0b-b401ae6e9f06",
   "metadata": {},
   "outputs": [
    {
     "name": "stdout",
     "output_type": "stream",
     "text": [
      "288 events found\n",
      "Event IDs: [1 2 4]\n",
      "Not setting metadata\n",
      "144 matching events found\n",
      "No baseline correction applied\n",
      "0 projection items activated\n",
      "Using data from preloaded Raw for 144 events and 1001 original time points ...\n",
      "0 bad epochs dropped\n",
      "(144, 2, 641) (144,)\n"
     ]
    },
    {
     "name": "stderr",
     "output_type": "stream",
     "text": [
      "/tmp/ipykernel_18229/1353350491.py:92: RuntimeWarning: No matching events found for 3 (event id 3)\n",
      "  epochs = mne.Epochs(\n"
     ]
    }
   ],
   "source": [
    "X, y = eeg.get_X_y_cross()\n",
    "print(X.shape, y.shape)\n",
    "#X = X[:, :,np.newaxis,:]\n",
    "#X = X[:,:,:]\n"
   ]
  },
  {
   "cell_type": "code",
   "execution_count": 16,
   "id": "e591afc7-bae9-44e4-95a9-7410b980da3f",
   "metadata": {},
   "outputs": [
    {
     "data": {
      "text/plain": [
       "array([0, 0, 0, 0, 0, 0, 0, 0, 0, 0, 0, 0, 1, 1, 1, 1, 1, 1, 1, 1, 1, 1,\n",
       "       1, 1, 0, 0, 0, 0, 0, 0, 0, 0, 0, 0, 0, 0, 1, 1, 1, 1, 1, 1, 1, 1,\n",
       "       1, 1, 1, 1, 0, 0, 0, 0, 0, 0, 0, 0, 0, 0, 0, 0, 1, 1, 1, 1, 1, 1,\n",
       "       1, 1, 1, 1, 1, 1, 0, 0, 0, 0, 0, 0, 0, 0, 0, 0, 0, 0, 1, 1, 1, 1,\n",
       "       1, 1, 1, 1, 1, 1, 1, 1, 0, 0, 0, 0, 0, 0, 0, 0, 0, 0, 0, 0, 1, 1,\n",
       "       1, 1, 1, 1, 1, 1, 1, 1, 1, 1, 0, 0, 0, 0, 0, 0, 0, 0, 0, 0, 0, 0,\n",
       "       1, 1, 1, 1, 1, 1, 1, 1, 1, 1, 1, 1])"
      ]
     },
     "execution_count": 16,
     "metadata": {},
     "output_type": "execute_result"
    }
   ],
   "source": [
    "y=y-1\n",
    "y"
   ]
  },
  {
   "cell_type": "code",
   "execution_count": 17,
   "id": "9ba05efa-afe2-4e10-8548-2a1181dc6680",
   "metadata": {},
   "outputs": [
    {
     "name": "stdout",
     "output_type": "stream",
     "text": [
      "Train size (100, 2, 641) (100,)\n",
      "Test size (44, 2, 641) (44,)\n"
     ]
    }
   ],
   "source": [
    "X_train, X_test, y_train, y_test = train_test_split(X, y, test_size=0.3,stratify=y)\n",
    "#X_test, X_vail, y_test, y_vail = train_test_split(X_test, y_test, test_size=0.3,stratify=y_test)\n",
    "\n",
    "\n",
    "\n",
    "print('Train size',X_train.shape, y_train.shape)\n",
    "print('Test size',X_test.shape, y_test.shape)\n",
    "#print('Vail size',X_vail.shape, y_vail.shape)"
   ]
  },
  {
   "cell_type": "code",
   "execution_count": 19,
   "id": "f4a2e288-071f-476a-8b28-8b2b00acb517",
   "metadata": {},
   "outputs": [],
   "source": [
    "batch_size = 32\n",
    "\n",
    "def create_dataloader(X, y, batch_size):\n",
    "    X_tensor = torch.tensor(X).float()\n",
    "    y_tensor = torch.tensor(y).long()\n",
    "    dataset_tensor = TensorDataset(X_tensor, y_tensor)\n",
    "    dl = torch.utils.data.DataLoader(dataset_tensor, batch_size=batch_size, shuffle=True)\n",
    "    return dl\n",
    "\n",
    "train_loader = create_dataloader(X_train, y_train, batch_size=batch_size)\n",
    "test_loader = create_dataloader(X_test, y_test, batch_size=batch_size)\n",
    "\n",
    "num_step =math.ceil(len(train_loader.dataset) / batch_size)"
   ]
  },
  {
   "cell_type": "code",
   "execution_count": 20,
   "id": "095d271e-be36-40ab-8c37-1ba617aff35c",
   "metadata": {},
   "outputs": [
    {
     "data": {
      "text/plain": [
       "<All keys matched successfully>"
      ]
     },
     "execution_count": 20,
     "metadata": {},
     "output_type": "execute_result"
    }
   ],
   "source": [
    "net.load_state_dict(torch.load('weight/physionet_CNN_2ch_2class_0.5670'))"
   ]
  },
  {
   "cell_type": "code",
   "execution_count": null,
   "id": "da37cb4f-0483-4927-ab86-a7656cc580ca",
   "metadata": {},
   "outputs": [],
   "source": []
  },
  {
   "cell_type": "code",
   "execution_count": 21,
   "id": "f879a0a6-89f1-4c17-8b85-4c301377e303",
   "metadata": {},
   "outputs": [
    {
     "data": {
      "text/plain": [
       "odict_keys(['layer1.0.weight', 'layer1.0.bias', 'layer1.1.weight', 'layer1.1.bias', 'layer1.1.running_mean', 'layer1.1.running_var', 'layer1.1.num_batches_tracked', 'layer2.0.weight', 'layer2.0.bias', 'layer2.1.weight', 'layer2.1.bias', 'layer2.1.running_mean', 'layer2.1.running_var', 'layer2.1.num_batches_tracked', 'fc.weight', 'fc.bias'])"
      ]
     },
     "execution_count": 21,
     "metadata": {},
     "output_type": "execute_result"
    }
   ],
   "source": [
    "parms = net.state_dict()\n",
    "parms.keys()"
   ]
  },
  {
   "cell_type": "code",
   "execution_count": 22,
   "id": "45dc7b5e-38bd-4be1-aa32-a11f5e8ef3d7",
   "metadata": {},
   "outputs": [],
   "source": [
    "for name,param in net.named_parameters():\n",
    "    if param.requires_grad and 'layer1' in name:\n",
    "        param.requires_grad = False\n",
    "    if param.requires_grad and 'layer2' in name:\n",
    "        param.requires_grad = False"
   ]
  },
  {
   "cell_type": "code",
   "execution_count": null,
   "id": "247d40ad-e0ab-41d0-a8cc-596ddb62acd1",
   "metadata": {},
   "outputs": [],
   "source": [
    "import wandb\n",
    "wandb.login()\n",
    "\n",
    "\n",
    "wand = wandb.init(\n",
    "        \n",
    "      # Set the project where this run will be logged\n",
    "      project=\"Motor-Imagery\", \n",
    "      # We pass a run name (otherwise it’ll be randomly assigned, like sunshine-lollypop-10)\n",
    "      name=f\"physionet_CNN_2ch_2class_findtune\", \n",
    "      # Track hyperparameters and run metadata\n",
    "      config={\n",
    "      \"learning_rate\": 0.0000001,\n",
    "      \"architecture\": \"CNN\",\n",
    "      \"dataset\": \"Nutapol T.\",\n",
    "      \"epochs\": 300000,\n",
    "      \"weightname\":\"physionet_CNN_2ch_2class_findtune_ourdata\",\n",
    "      \"num_step_per_epoch\" : num_step, \n",
    "        \n",
    "      }\n",
    "    )\n",
    "\n",
    "config = wand.config\n",
    "print(config.num_step_per_epoch)\n"
   ]
  },
  {
   "cell_type": "code",
   "execution_count": null,
   "id": "c0342085-ba8c-4f89-b6ed-bbab7d5dcd8f",
   "metadata": {},
   "outputs": [],
   "source": [
    "#optimizer = optim.Adam(filter(lambda p: p.requires_grad, net.parameters()),lr=0.00001)\n",
    "#optimizer = optim.SGD(filter(lambda p: p.requires_grad, net.parameters()), lr=0.00001)\n",
    "#optimizer = optim.Adam(net.parameters(), lr=0.0000001)\n",
    "#criterion = nn.CrossEntropyLoss()"
   ]
  },
  {
   "cell_type": "code",
   "execution_count": null,
   "id": "03b28775-e145-47e9-b8f7-bc9408eed859",
   "metadata": {},
   "outputs": [],
   "source": []
  },
  {
   "cell_type": "code",
   "execution_count": null,
   "id": "04d87cbc-d0e6-4775-b088-bbdc208d8178",
   "metadata": {},
   "outputs": [],
   "source": [
    "from common import train\n",
    "#net = ConvNet().cuda(0)\n",
    "optimizer = optim.Adam(net.parameters(), lr=config.learning_rate)\n",
    "criterion = nn.CrossEntropyLoss()\n",
    "\n",
    "\n",
    "train_loss,valid_loss,train_accuracy,valid_accuracy =train(\n",
    "    model = net,\n",
    "    gpu_num = 0,\n",
    "    train_loader = train_loader,\n",
    "    test_loader = test_loader,\n",
    "    optimizer = optimizer  ,\n",
    "    criterion = criterion ,\n",
    "    vail_loader = None,\n",
    "    wand = wand\n",
    "         )\n",
    "\n",
    "\n",
    "wandb.alert(\n",
    "            title='Finish',\n",
    "            text=f'Finishing training',\n",
    "        )"
   ]
  },
  {
   "cell_type": "code",
   "execution_count": null,
   "id": "9e963254-e8b4-4a34-b5e0-e9e37f6f620d",
   "metadata": {},
   "outputs": [],
   "source": []
  },
  {
   "cell_type": "markdown",
   "id": "933e1620-4c45-4616-b427-6bb66dae4812",
   "metadata": {},
   "source": [
    "### Validate Findtune"
   ]
  },
  {
   "cell_type": "code",
   "execution_count": 93,
   "id": "9e8341e5-ea95-4ae6-8418-1f792b15c39b",
   "metadata": {},
   "outputs": [],
   "source": [
    "del net"
   ]
  },
  {
   "cell_type": "code",
   "execution_count": 94,
   "id": "5c0fc2ea-ae32-4a90-a92a-eae5d1effcfc",
   "metadata": {},
   "outputs": [],
   "source": [
    "net = ConvNet().cuda(1)"
   ]
  },
  {
   "cell_type": "code",
   "execution_count": 95,
   "id": "79516f20-09c3-4d57-8a8f-1fd032fc77a3",
   "metadata": {},
   "outputs": [
    {
     "data": {
      "text/plain": [
       "<All keys matched successfully>"
      ]
     },
     "execution_count": 95,
     "metadata": {},
     "output_type": "execute_result"
    }
   ],
   "source": [
    "net.load_state_dict(torch.load('weight/physionet_CNN_2ch_2class_findtune_ourdata_0.48609423637390137'))"
   ]
  },
  {
   "cell_type": "code",
   "execution_count": 96,
   "id": "4cd67654-6054-4d7c-ae64-d9caf2f5f29e",
   "metadata": {},
   "outputs": [
    {
     "ename": "NameError",
     "evalue": "name 'X_vail' is not defined",
     "output_type": "error",
     "traceback": [
      "\u001b[0;31m---------------------------------------------------------------------------\u001b[0m",
      "\u001b[0;31mNameError\u001b[0m                                 Traceback (most recent call last)",
      "Input \u001b[0;32mIn [96]\u001b[0m, in \u001b[0;36m<cell line: 1>\u001b[0;34m()\u001b[0m\n\u001b[0;32m----> 1\u001b[0m test_loader \u001b[38;5;241m=\u001b[39m create_dataloader(\u001b[43mX_vail\u001b[49m, y_vail, batch_size\u001b[38;5;241m=\u001b[39mbatch_size)\n",
      "\u001b[0;31mNameError\u001b[0m: name 'X_vail' is not defined"
     ]
    }
   ],
   "source": [
    "test_loader = create_dataloader(X_vail, y_vail, batch_size=batch_size)\n"
   ]
  },
  {
   "cell_type": "code",
   "execution_count": 43,
   "id": "3b448572-ac9b-439f-b017-dc5525b024a1",
   "metadata": {},
   "outputs": [
    {
     "name": "stdout",
     "output_type": "stream",
     "text": [
      " Val Acc: 100.0000\n"
     ]
    }
   ],
   "source": [
    "# Train the model\n",
    "num_epochs = 1\n",
    "\n",
    "train_loss = []\n",
    "valid_loss = []\n",
    "train_accuracy = []\n",
    "valid_accuracy = []\n",
    "old_acc = 0\n",
    "for epoch in range(num_epochs):\n",
    "\n",
    "    loss = 0.0\n",
    "    correct = 0\n",
    "    iterations = 0\n",
    "    net.eval()\n",
    "    for i, (items, classes) in enumerate(test_loader):\n",
    "        items = Variable(items)\n",
    "        classes = Variable(classes)\n",
    "        \n",
    "        if cuda.is_available():\n",
    "            items = items.cuda(1)\n",
    "            classes = classes.cuda(1)\n",
    "        \n",
    "        outputs = net(items)\n",
    "        loss += criterion(outputs, classes).item()\n",
    "        \n",
    "        _, predicted = torch.max(outputs.data, 1)\n",
    "        correct += (predicted == classes.data).sum()\n",
    "        \n",
    "        iterations += 1\n",
    "\n",
    "    valid_loss.append(loss/iterations)\n",
    "    correct_scalar = np.array([correct.clone().cpu()])[0]\n",
    "    valid_accuracy.append(correct_scalar / len(test_loader.dataset) * 100.0)\n",
    "print (' Val Acc: %.4f'\n",
    "                   %(valid_accuracy[-1]))\n"
   ]
  },
  {
   "cell_type": "code",
   "execution_count": 44,
   "id": "c743c4d3-58ce-4fd3-8777-09e3ef283e11",
   "metadata": {},
   "outputs": [
    {
     "data": {
      "text/plain": [
       "array([0, 0, 0, 1, 1])"
      ]
     },
     "execution_count": 44,
     "metadata": {},
     "output_type": "execute_result"
    }
   ],
   "source": [
    "y_vail"
   ]
  },
  {
   "cell_type": "code",
   "execution_count": null,
   "id": "4eb8a1cb-9cdb-404a-b363-6e568d88261d",
   "metadata": {},
   "outputs": [],
   "source": []
  }
 ],
 "metadata": {
  "kernelspec": {
   "display_name": "Python 3 (ipykernel)",
   "language": "python",
   "name": "python3"
  },
  "language_info": {
   "codemirror_mode": {
    "name": "ipython",
    "version": 3
   },
   "file_extension": ".py",
   "mimetype": "text/x-python",
   "name": "python",
   "nbconvert_exporter": "python",
   "pygments_lexer": "ipython3",
   "version": "3.8.10"
  }
 },
 "nbformat": 4,
 "nbformat_minor": 5
}
