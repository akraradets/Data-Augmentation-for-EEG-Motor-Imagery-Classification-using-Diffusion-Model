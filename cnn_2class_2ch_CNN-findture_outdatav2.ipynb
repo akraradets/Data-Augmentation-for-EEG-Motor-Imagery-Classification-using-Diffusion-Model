{
 "cells": [
  {
   "cell_type": "code",
   "execution_count": 1,
   "id": "8c66c108-7c19-4d92-8e87-1873c3ea4e99",
   "metadata": {},
   "outputs": [],
   "source": [
    "import os\n",
    "#comment this if you are not using puffer?\n",
    "os.environ['http_proxy'] = 'http://192.41.170.23:3128'\n",
    "os.environ['https_proxy'] = 'http://192.41.170.23:3128'"
   ]
  },
  {
   "cell_type": "code",
   "execution_count": 2,
   "id": "2a72bb6b-d99e-4a4f-a77e-b00892a377c9",
   "metadata": {},
   "outputs": [],
   "source": [
    "#!pip install mne"
   ]
  },
  {
   "cell_type": "code",
   "execution_count": 1,
   "id": "851d3258-8cf6-45d4-8f14-0132010a75a0",
   "metadata": {},
   "outputs": [
    {
     "name": "stderr",
     "output_type": "stream",
     "text": [
      "/home/nutapolt/.local/lib/python3.8/site-packages/tqdm/auto.py:22: TqdmWarning: IProgress not found. Please update jupyter and ipywidgets. See https://ipywidgets.readthedocs.io/en/stable/user_install.html\n",
      "  from .autonotebook import tqdm as notebook_tqdm\n",
      "Failed to detect the name of this notebook, you can set it manually with the WANDB_NOTEBOOK_NAME environment variable to enable code saving.\n",
      "\u001b[34m\u001b[1mwandb\u001b[0m: Currently logged in as: \u001b[33mnutapol-1997\u001b[0m. Use \u001b[1m`wandb login --relogin`\u001b[0m to force relogin\n"
     ]
    },
    {
     "data": {
      "text/plain": [
       "True"
      ]
     },
     "execution_count": 1,
     "metadata": {},
     "output_type": "execute_result"
    }
   ],
   "source": [
    "import numpy as np\n",
    "import matplotlib.pyplot as plt\n",
    "import mne\n",
    "import os\n",
    "import sys\n",
    "from mne.datasets import eegbci\n",
    "import glob\n",
    "from IPython.display import clear_output\n",
    "import numpy as np\n",
    "import torch\n",
    "from torch import nn\n",
    "import torch.optim as optim\n",
    "\n",
    "from mne.datasets import eegbci\n",
    "from sklearn.model_selection import train_test_split\n",
    "from torch.utils.data import TensorDataset\n",
    "from torch.utils.data import DataLoader,SubsetRandomSampler\n",
    "from scipy import signal\n",
    "\n",
    "import torch\n",
    "import torch.cuda as cuda\n",
    "import torch.nn as nn\n",
    "from torch.autograd import Variable\n",
    "import math\n",
    "from sklearn.model_selection import train_test_split\n",
    "from torch.utils.data import TensorDataset\n",
    "from torch.utils.data import DataLoader\n",
    "\n",
    "from common import setup_dataflow\n",
    "import wandb\n",
    "from mne.datasets import sample\n",
    "wandb.login()"
   ]
  },
  {
   "cell_type": "code",
   "execution_count": 2,
   "id": "2cd385f6-ab9b-4056-9519-3a8fecd46d59",
   "metadata": {},
   "outputs": [],
   "source": [
    "from common import EEG"
   ]
  },
  {
   "cell_type": "code",
   "execution_count": 3,
   "id": "656ab20d-d5d5-41f2-b4dd-6155ae8e5f30",
   "metadata": {},
   "outputs": [
    {
     "data": {
      "text/plain": [
       "True"
      ]
     },
     "execution_count": 3,
     "metadata": {},
     "output_type": "execute_result"
    }
   ],
   "source": [
    "torch.cuda.is_available()\n"
   ]
  },
  {
   "cell_type": "code",
   "execution_count": 4,
   "id": "b1d9fa44-0f50-41f0-aec3-07e6f7a4a72f",
   "metadata": {},
   "outputs": [
    {
     "name": "stdout",
     "output_type": "stream",
     "text": [
      "Raw done\n",
      ">>> Apply filter.\n",
      "Filtering raw data in 237 contiguous segments\n",
      "Setting up band-pass filter from 1 - 40 Hz\n",
      "\n",
      "FIR filter parameters\n",
      "---------------------\n",
      "Designing a one-pass, zero-phase, non-causal bandpass filter:\n",
      "- Windowed time-domain design (firwin) method\n",
      "- Hamming window with 0.0194 passband ripple and 53 dB stopband attenuation\n",
      "- Lower passband edge: 1.00\n",
      "- Lower transition bandwidth: 1.00 Hz (-6 dB cutoff frequency: 0.50 Hz)\n",
      "- Upper passband edge: 40.00 Hz\n",
      "- Upper transition bandwidth: 10.00 Hz (-6 dB cutoff frequency: 45.00 Hz)\n",
      "- Filter length: 529 samples (3.306 sec)\n",
      "\n"
     ]
    },
    {
     "name": "stderr",
     "output_type": "stream",
     "text": [
      "[Parallel(n_jobs=1)]: Using backend SequentialBackend with 1 concurrent workers.\n",
      "[Parallel(n_jobs=1)]: Done   1 out of   1 | elapsed:    0.0s remaining:    0.0s\n",
      "[Parallel(n_jobs=1)]: Done   2 out of   2 | elapsed:    0.0s remaining:    0.0s\n",
      "[Parallel(n_jobs=1)]: Done   3 out of   3 | elapsed:    0.0s remaining:    0.0s\n",
      "[Parallel(n_jobs=1)]: Done   4 out of   4 | elapsed:    0.0s remaining:    0.0s\n",
      "[Parallel(n_jobs=1)]: Done  64 out of  64 | elapsed:    0.1s finished\n"
     ]
    },
    {
     "name": "stdout",
     "output_type": "stream",
     "text": [
      "Filter done\n",
      ">>> Create Epochs.\n",
      "Used Annotations descriptions: ['T1', 'T2']\n",
      "Not setting metadata\n",
      "3555 matching events found\n",
      "No baseline correction applied\n",
      "0 projection items activated\n",
      "Using data from preloaded Raw for 3555 events and 641 original time points ...\n",
      "16 bad epochs dropped\n"
     ]
    },
    {
     "data": {
      "text/plain": [
       "(array([[    672,       0,       1],\n",
       "        [   2000,       0,       0],\n",
       "        [   3328,       0,       0],\n",
       "        ...,\n",
       "        [4676928,       0,       1],\n",
       "        [4678256,       0,       0],\n",
       "        [4679584,       0,       1]]),\n",
       " {'T1': 0, 'T2': 1})"
      ]
     },
     "execution_count": 4,
     "metadata": {},
     "output_type": "execute_result"
    }
   ],
   "source": [
    "# home directory + datasets folder\n",
    "#path = '/content/drive/MyDrive/MNE-eegbci-data/files/eegmmidb/'\n",
    "path = 'physionet.org/files/eegmmidb/1.0.0'\n",
    "base_url = 'https://physionet.org/files/eegmmidb/'\n",
    "# subjects = [1]\n",
    "#runs = [3, 4, 7, 8, 11, 12]\n",
    "runs = [4, 8, 12]\n",
    "subjects = [i for i in range(1,80)]\n",
    "#subjects = [1]\n",
    "# runs = [6,10,14]\n",
    "\n",
    "eeg = EEG(path, base_url, subjects, runs)\n",
    "raw=eeg.data_to_raw()\n",
    "print(\"Raw done\")\n",
    "# apply filter\n",
    "freq = (1., 40.)\n",
    "raw=eeg.filter(freq=freq)\n",
    "#raw=eeg.data_to_raw()\n",
    "print(\"Filter done\")\n",
    "#raw=eeg.raw_ica()\n",
    "eeg.create_epochs()"
   ]
  },
  {
   "cell_type": "code",
   "execution_count": 5,
   "id": "02c863d5-9efc-4dca-b118-ea139ce2adca",
   "metadata": {},
   "outputs": [
    {
     "name": "stdout",
     "output_type": "stream",
     "text": [
      "(3539, 64, 641) (3539,)\n"
     ]
    },
    {
     "data": {
      "text/plain": [
       "(3539, 64, 641)"
      ]
     },
     "execution_count": 5,
     "metadata": {},
     "output_type": "execute_result"
    }
   ],
   "source": [
    "X, y = eeg.get_X_y()\n",
    "\n",
    "print(X.shape, y.shape)\n",
    "X = X[:,:,:]\n",
    "X.shape"
   ]
  },
  {
   "cell_type": "code",
   "execution_count": 6,
   "id": "7829aa9d-a88f-4e0c-8b44-74cde0db7dd6",
   "metadata": {},
   "outputs": [
    {
     "name": "stdout",
     "output_type": "stream",
     "text": [
      "(3539, 2, 641)\n"
     ]
    }
   ],
   "source": [
    "# pick 7 channels.\n",
    "#X2 = X[:, :14, :]\n",
    "# = X2\n",
    "\n",
    "# pick C3 and C4 channels.\n",
    "X2 = X[:, 1:2, :] \n",
    "X3= X[:, 5:6, :]\n",
    "X = np.concatenate((X2,X3), axis=1)\n",
    "# = X4\n",
    "#X = X[:, :,np.newaxis,:]\n",
    "print(X.shape)"
   ]
  },
  {
   "cell_type": "code",
   "execution_count": 7,
   "id": "baa4ab14-d3e8-4b87-9a1f-3fb522d64af5",
   "metadata": {},
   "outputs": [
    {
     "name": "stdout",
     "output_type": "stream",
     "text": [
      "train size (2477, 2, 641) (2477,)\n",
      "Test size (1062, 2, 641) (1062,)\n"
     ]
    }
   ],
   "source": [
    "X_train, X_test, y_train, y_test = train_test_split(X, y, test_size=0.3)\n",
    "\n",
    "print('train size',X_train.shape, y_train.shape)\n",
    "print('Test size',X_test.shape, y_test.shape)"
   ]
  },
  {
   "cell_type": "code",
   "execution_count": 8,
   "id": "c0b137eb-dd3a-4846-bb9b-9fe0d6bfd8b8",
   "metadata": {},
   "outputs": [],
   "source": [
    "from sklearn.model_selection import train_test_split\n",
    "from torch.utils.data import TensorDataset\n",
    "from torch.utils.data import DataLoader\n",
    "\n",
    "batch_size = 32\n",
    "\n",
    "def create_dataloader(X, y, batch_size):\n",
    "    X_tensor = torch.tensor(X).float()\n",
    "    y_tensor = torch.tensor(y).long()\n",
    "    dataset_tensor = TensorDataset(X_tensor, y_tensor)\n",
    "    dl = torch.utils.data.DataLoader(dataset_tensor, batch_size=batch_size, shuffle=True)\n",
    "    return dl\n",
    "train_loader = create_dataloader(X_train, y_train, batch_size=batch_size)\n",
    "test_loader = create_dataloader(X_test, y_test, batch_size=batch_size)\n",
    "\n",
    "num_step =math.ceil(len(train_loader.dataset) / batch_size)"
   ]
  },
  {
   "cell_type": "code",
   "execution_count": 9,
   "id": "086871a3-b5ed-4865-bdc8-372270251077",
   "metadata": {},
   "outputs": [],
   "source": [
    "# Convolutional neural network (two convolutional layers)\n",
    "class ConvNet(nn.Module):\n",
    "    def __init__(self):\n",
    "        super(ConvNet, self).__init__()\n",
    "        \n",
    "        #using sequential helps bind multiple operations together\n",
    "        self.layer1 = nn.Sequential(\n",
    "            #padding = (kernel_size - 1) / 2 = 2\n",
    "            nn.Conv1d(2, 64, kernel_size=5, stride=1, padding=2),\n",
    "            nn.BatchNorm1d(64),\n",
    "            nn.ReLU(),\n",
    "            # nn.MaxPool2d(kernel_size=2, stride=2)\n",
    "        )\n",
    "        self.layer2 = nn.Sequential(\n",
    "            nn.Conv1d(64, 128, kernel_size=5, stride=1, padding=2),\n",
    "            nn.BatchNorm1d(128),\n",
    "            nn.ReLU(),\n",
    "            # nn.MaxPool2d(kernel_size=2, stride=2)\n",
    "        )\n",
    "        self.fc = nn.Linear(82048, 2)\n",
    "        self.drop_out = nn.Dropout(0.5)\n",
    "        \n",
    "    def forward(self, x):\n",
    "        out = self.layer1(x)\n",
    "        out = self.drop_out(out)\n",
    "        out = self.layer2(out)\n",
    "        out = self.drop_out(out)\n",
    "        out = out.reshape(out.size(0), -1)   #can also use .view()\n",
    "        out = self.fc(out)\n",
    "        return out"
   ]
  },
  {
   "cell_type": "code",
   "execution_count": 10,
   "id": "17760388-df51-4c8c-9ecc-ec81da1946a3",
   "metadata": {},
   "outputs": [
    {
     "data": {
      "text/html": [
       "wandb version 0.13.3 is available!  To upgrade, please run:\n",
       " $ pip install wandb --upgrade"
      ],
      "text/plain": [
       "<IPython.core.display.HTML object>"
      ]
     },
     "metadata": {},
     "output_type": "display_data"
    },
    {
     "data": {
      "text/html": [
       "Tracking run with wandb version 0.13.2"
      ],
      "text/plain": [
       "<IPython.core.display.HTML object>"
      ]
     },
     "metadata": {},
     "output_type": "display_data"
    },
    {
     "data": {
      "text/html": [
       "Run data is saved locally in <code>/home/nutapolt/eeg_mi/wandb/run-20220912_032022-2cf3dcd3</code>"
      ],
      "text/plain": [
       "<IPython.core.display.HTML object>"
      ]
     },
     "metadata": {},
     "output_type": "display_data"
    },
    {
     "data": {
      "text/html": [
       "Syncing run <strong><a href=\"https://wandb.ai/nutapol-1997/Motor-Imagery/runs/2cf3dcd3\" target=\"_blank\">physionet_CNN_2ch_2class</a></strong> to <a href=\"https://wandb.ai/nutapol-1997/Motor-Imagery\" target=\"_blank\">Weights & Biases</a> (<a href=\"https://wandb.me/run\" target=\"_blank\">docs</a>)<br/>"
      ],
      "text/plain": [
       "<IPython.core.display.HTML object>"
      ]
     },
     "metadata": {},
     "output_type": "display_data"
    },
    {
     "name": "stdout",
     "output_type": "stream",
     "text": [
      "78\n"
     ]
    }
   ],
   "source": [
    "import wandb\n",
    "wandb.login()\n",
    "\n",
    "\n",
    "wand = wandb.init(\n",
    "        \n",
    "      # Set the project where this run will be logged\n",
    "      project=\"Motor-Imagery\", \n",
    "      # We pass a run name (otherwise it’ll be randomly assigned, like sunshine-lollypop-10)\n",
    "      name=f\"physionet_CNN_2ch_2class\", \n",
    "      # Track hyperparameters and run metadata\n",
    "      config={\n",
    "      \"learning_rate\": 0.0000001,\n",
    "      \"architecture\": \"CNN\",\n",
    "      \"dataset\": \"Nutapol T.\",\n",
    "      \"epochs\": 10000,\n",
    "      \"weightname\":\"physionet_CNN_2ch_2class\",\n",
    "      \"num_step_per_epoch\" : num_step, \n",
    "        \n",
    "      }\n",
    "    )\n",
    "\n",
    "config = wand.config\n",
    "print(config.num_step_per_epoch)"
   ]
  },
  {
   "cell_type": "code",
   "execution_count": null,
   "id": "eccef9ae-6ad7-4d2e-8035-88fcb28d1ad0",
   "metadata": {},
   "outputs": [
    {
     "name": "stdout",
     "output_type": "stream",
     "text": [
      "Epoch 1/10000, Tr Loss: 0.7364, Tr Acc: 50.2624, Val Loss: 0.6928, Val Acc: 51.5066\n",
      "Epoch 101/10000, Tr Loss: 0.6946, Tr Acc: 55.4300, Val Loss: 0.6846, Val Acc: 55.4614\n",
      "Epoch 201/10000, Tr Loss: 0.6783, Tr Acc: 57.2870, Val Loss: 0.6726, Val Acc: 60.0753\n",
      "Epoch 301/10000, Tr Loss: 0.6602, Tr Acc: 61.1627, Val Loss: 0.6627, Val Acc: 62.9002\n",
      "Epoch 401/10000, Tr Loss: 0.6504, Tr Acc: 62.9794, Val Loss: 0.6511, Val Acc: 64.5951\n",
      "Epoch 501/10000, Tr Loss: 0.6263, Tr Acc: 66.4110, Val Loss: 0.6390, Val Acc: 65.1601\n",
      "Epoch 601/10000, Tr Loss: 0.6107, Tr Acc: 67.3799, Val Loss: 0.6323, Val Acc: 66.0075\n",
      "Epoch 701/10000, Tr Loss: 0.5991, Tr Acc: 68.6718, Val Loss: 0.6269, Val Acc: 67.2316\n",
      "Epoch 801/10000, Tr Loss: 0.5886, Tr Acc: 70.1252, Val Loss: 0.6144, Val Acc: 68.2674\n",
      "Epoch 901/10000, Tr Loss: 0.5643, Tr Acc: 72.5071, Val Loss: 0.6079, Val Acc: 68.6441\n",
      "Epoch 1001/10000, Tr Loss: 0.5571, Tr Acc: 72.5474, Val Loss: 0.5946, Val Acc: 69.1149\n",
      "Epoch 1101/10000, Tr Loss: 0.5425, Tr Acc: 74.0816, Val Loss: 0.5949, Val Acc: 69.9623\n",
      "Epoch 1201/10000, Tr Loss: 0.5315, Tr Acc: 74.7275, Val Loss: 0.5918, Val Acc: 70.3390\n",
      "Epoch 1301/10000, Tr Loss: 0.5337, Tr Acc: 74.9697, Val Loss: 0.5795, Val Acc: 70.4331\n",
      "Epoch 1401/10000, Tr Loss: 0.5208, Tr Acc: 75.9790, Val Loss: 0.5753, Val Acc: 70.3390\n",
      "Epoch 1501/10000, Tr Loss: 0.5192, Tr Acc: 75.7368, Val Loss: 0.5801, Val Acc: 70.3390\n",
      "Epoch 1601/10000, Tr Loss: 0.5072, Tr Acc: 76.8672, Val Loss: 0.5863, Val Acc: 70.8098\n",
      "Epoch 1701/10000, Tr Loss: 0.5104, Tr Acc: 75.4138, Val Loss: 0.5676, Val Acc: 70.6215\n",
      "Epoch 1801/10000, Tr Loss: 0.4923, Tr Acc: 77.3920, Val Loss: 0.5715, Val Acc: 70.9981\n",
      "Epoch 1901/10000, Tr Loss: 0.4839, Tr Acc: 78.8050, Val Loss: 0.5724, Val Acc: 70.9981\n",
      "Epoch 2001/10000, Tr Loss: 0.4798, Tr Acc: 77.9976, Val Loss: 0.5664, Val Acc: 70.9981\n",
      "Epoch 2101/10000, Tr Loss: 0.4859, Tr Acc: 77.2305, Val Loss: 0.5587, Val Acc: 71.4689\n",
      "Epoch 2201/10000, Tr Loss: 0.4723, Tr Acc: 78.3609, Val Loss: 0.5569, Val Acc: 71.9397\n",
      "Epoch 2301/10000, Tr Loss: 0.4708, Tr Acc: 78.4417, Val Loss: 0.5612, Val Acc: 72.0339\n",
      "Epoch 2401/10000, Tr Loss: 0.4633, Tr Acc: 79.0876, Val Loss: 0.5669, Val Acc: 72.0339\n",
      "Epoch 2501/10000, Tr Loss: 0.4603, Tr Acc: 79.5721, Val Loss: 0.5626, Val Acc: 71.8456\n",
      "Epoch 2601/10000, Tr Loss: 0.4667, Tr Acc: 78.5224, Val Loss: 0.5618, Val Acc: 72.2222\n",
      "Epoch 2701/10000, Tr Loss: 0.4584, Tr Acc: 78.4820, Val Loss: 0.5646, Val Acc: 71.7514\n",
      "Epoch 2801/10000, Tr Loss: 0.4501, Tr Acc: 78.9261, Val Loss: 0.5589, Val Acc: 71.7514\n",
      "Epoch 2901/10000, Tr Loss: 0.4485, Tr Acc: 79.8950, Val Loss: 0.5690, Val Acc: 71.9397\n",
      "Epoch 3001/10000, Tr Loss: 0.4464, Tr Acc: 80.0565, Val Loss: 0.5631, Val Acc: 71.8456\n",
      "Epoch 3101/10000, Tr Loss: 0.4467, Tr Acc: 79.6932, Val Loss: 0.5615, Val Acc: 71.7514\n",
      "Epoch 3201/10000, Tr Loss: 0.4384, Tr Acc: 79.3702, Val Loss: 0.5617, Val Acc: 71.5631\n",
      "Epoch 3301/10000, Tr Loss: 0.4399, Tr Acc: 80.7428, Val Loss: 0.5613, Val Acc: 71.3748\n",
      "Epoch 3401/10000, Tr Loss: 0.4352, Tr Acc: 81.0658, Val Loss: 0.5621, Val Acc: 71.1864\n",
      "Epoch 3501/10000, Tr Loss: 0.4379, Tr Acc: 80.5813, Val Loss: 0.5704, Val Acc: 71.0923\n",
      "Epoch 3601/10000, Tr Loss: 0.4267, Tr Acc: 80.9447, Val Loss: 0.5661, Val Acc: 71.0923\n",
      "Epoch 3701/10000, Tr Loss: 0.4299, Tr Acc: 82.0347, Val Loss: 0.5705, Val Acc: 70.9040\n",
      "Epoch 3801/10000, Tr Loss: 0.4236, Tr Acc: 81.3080, Val Loss: 0.5677, Val Acc: 70.7156\n",
      "Epoch 3901/10000, Tr Loss: 0.4179, Tr Acc: 82.1962, Val Loss: 0.5640, Val Acc: 71.0923\n"
     ]
    }
   ],
   "source": [
    "from common import train\n",
    "net = ConvNet().cuda(0)\n",
    "optimizer = optim.Adam(net.parameters(), lr=config.learning_rate)\n",
    "criterion = nn.CrossEntropyLoss()\n",
    "\n",
    "\n",
    "train_loss,valid_loss,train_accuracy,valid_accuracy =train(\n",
    "    model = net,\n",
    "    gpu_num = 0,\n",
    "    train_loader = train_loader,\n",
    "    test_loader = test_loader,\n",
    "    vail_loader = None,\n",
    "    optimizer = optimizer  ,\n",
    "    criterion = criterion ,\n",
    "    wand = wand\n",
    "         )\n",
    "\n",
    "\n",
    "wandb.alert(\n",
    "            title='Finish',\n",
    "            text=f'Finishing training',\n",
    "        )"
   ]
  },
  {
   "cell_type": "code",
   "execution_count": null,
   "id": "fc8f634a-bfa9-4c2e-890b-a884bf376fda",
   "metadata": {},
   "outputs": [],
   "source": []
  },
  {
   "cell_type": "markdown",
   "id": "1b544cb1-a832-460c-a623-f682258d9128",
   "metadata": {},
   "source": [
    "### Freeze layer"
   ]
  },
  {
   "cell_type": "code",
   "execution_count": 135,
   "id": "6bed1c2d-2be1-48fd-976e-2da1001f0289",
   "metadata": {},
   "outputs": [],
   "source": [
    "del net\n",
    "net = ConvNet().cuda(0)"
   ]
  },
  {
   "cell_type": "code",
   "execution_count": 136,
   "id": "31d9e7ba-834f-4f43-b1a2-c93f794664c6",
   "metadata": {},
   "outputs": [],
   "source": [
    "class EEG:\n",
    "    def __init__(self, path, base_url, subjects, runs):\n",
    "        self.subpath = ''\n",
    "        self.path = path\n",
    "        print(path)\n",
    "        self.base_url = base_url\n",
    "        self.subjects = subjects\n",
    "        self.runs = runs\n",
    "        \n",
    "        # download data if does not exist in path.\n",
    "        # self.load_data()\n",
    "        self.data_to_raw()\n",
    "    \n",
    "    def load_data(self):\n",
    "        print(f\">>> Start download from: {self.base_url}.\")\n",
    "        print(f\"Downloading files to: {self.path}.\")\n",
    "        for subject in self.subjects:\n",
    "            eegbci.load_data(subject,self.runs,path=self.path,base_url=self.base_url)\n",
    "        print(\"Done.\")\n",
    "    \n",
    "    \n",
    "        \n",
    "        print(\"Done.\")\n",
    "        return self.raw\n",
    "    def filter(self, freq):\n",
    "        raw = self.raw\n",
    "        low, high = freq\n",
    "        print(f\">>> Apply filter.\")\n",
    "        self.raw.filter(low, high, fir_design='firwin', verbose=20)\n",
    "        return  raw\n",
    "    def raw_ica(self):\n",
    "        raw = self.raw\n",
    "        ica = mne.preprocessing.ICA(n_components=1, max_iter=100)\n",
    "        ica.fit(raw)\n",
    "        ica.exclude = [1, 2]  # details on how we picked these are omitted here\n",
    "        ica.plot_properties(raw, picks=ica.exclude)\n",
    "        ica.apply(raw)\n",
    "        print('ICA DONE ????')\n",
    "        return  raw\n",
    "        \n",
    "    def get_events(self):\n",
    "        event_id = dict(T1=0, T2=1) # the events we want to extract\n",
    "        events, event_id = mne.events_from_annotations(self.raw, event_id=event_id)\n",
    "        return events, event_id\n",
    "    \n",
    "    def get_epochs(self, events, event_id):\n",
    "        picks = mne.pick_types(self.raw.info, eeg=True, exclude='bads')\n",
    "        tmin = 0\n",
    "        tmax = 4\n",
    "        epochs = mne.Epochs(self.raw, events, event_id, tmin, tmax, proj=True, \n",
    "                            picks=picks, baseline=None, preload=True)\n",
    "        return epochs\n",
    "    \n",
    "    \n",
    "        \n",
    "    \n",
    "    def data_to_raw(self):\n",
    "        fullpath = os.path.join(self.path, *self.subpath.split(sep='/'))\n",
    "        #print(f\">>> Extract all subjects from: {fullpath}.\")\n",
    "        extension = \"fif\"\n",
    "        raws = []\n",
    "        count = 1\n",
    "        for i, subject in enumerate(self.subjects):\n",
    "            sname = f\"S{str(subject).zfill(3)}\".upper()\n",
    "            \n",
    "            for j, run in enumerate(self.runs):\n",
    "                rname = f\"{sname}R{str(run).zfill(2)}\".upper()\n",
    "                path_file = os.path.join(fullpath, sname, f'{rname}.{extension}')\n",
    "                #print(path_file)\n",
    "                #print(f\"Loading file #{count}/{len(self.subjects)*len(self.runs)}: {f'{rname}.{extension}'}\")\n",
    "                raw = mne.io.read_raw_fif( path_file , preload=True, verbose='WARNING' )\n",
    "                raws.append(raw)\n",
    "                count += 1\n",
    "\n",
    "        raw = mne.io.concatenate_raws(raws)\n",
    "        eegbci.standardize(raw)\n",
    "        montage = mne.channels.make_standard_montage('standard_1005')\n",
    "        raw.set_montage(montage)\n",
    "        self.raw = raw\n",
    "    \n",
    "    def create_epochs(self):\n",
    "        print(\">>> Create Epochs.\")\n",
    "        \n",
    "        events, event_id = self.get_events()\n",
    "        self.epochs = self.get_epochs(events, event_id)\n",
    "        print(\"Done.\")\n",
    "        return events , event_id\n",
    "# getepoch(raw,4, 10,reject_bad=False,on_missing='warn')    \n",
    "    def get_X_y_cross(self):\n",
    "        events = mne.find_events(raw)\n",
    "        \n",
    "        epochs = mne.Epochs(\n",
    "        raw,\n",
    "        events,\n",
    "        event_id=[1,2,3],\n",
    "        tmin=0,\n",
    "        tmax=4,\n",
    "        picks=\"data\",\n",
    "        on_missing='warn',\n",
    "        baseline=None,\n",
    "            preload=True\n",
    "    )\n",
    "        epochs=epochs.resample(160)\n",
    "            #events , event_id=self.create_epochs()\n",
    "        self.X = epochs.get_data()\n",
    "        self.y = epochs.events[:, -1]\n",
    "        return self.X, self.y \n",
    "\n",
    "        \n",
    "def getepoch(raws,trial_duration, calibration_duration,reject_bad=False,on_missing='warn'):\n",
    "    #reject_criteria = dict(eeg=100e-6)  # 100 µV\n",
    "    #flat_criteria = dict(eeg=1e-6)  # 1 µV\n",
    "    epochs_list = []\n",
    "    raws = [raws]\n",
    "    print(len(raws))\n",
    "    for raw in raws:\n",
    "        print(raw)\n",
    "        events = mne.find_events(raw)\n",
    "        epochs = mne.Epochs(\n",
    "            raw,\n",
    "            events,\n",
    "            event_id=[1,2,3],\n",
    "            tmin=-calibration_duration,\n",
    "            tmax=trial_duration,\n",
    "            picks=\"data\",\n",
    "            on_missing=on_missing,\n",
    "            baseline=None,\n",
    "            preload=True\n",
    "        )\n",
    "        \n",
    "        epochs_list.append(epochs)\n",
    "    epochs = mne.concatenate_epochs(epochs_list)\n",
    "    labels = epochs.events[:,-1]\n",
    "    \n",
    "    print(f'Found {len(labels)} epochs')\n",
    "    print(epochs)\n",
    "    print(labels)\n",
    "\n",
    "    return epochs.get_data(),epochs,labels\n",
    "\n",
    "        \n",
    "        \n",
    "def do_plot(train_loss, valid_loss,ty):\n",
    "    if ty == \"loss\":\n",
    "        plt.figure(figsize=(10,10))\n",
    "        \n",
    "        plt.plot(train_loss, label='train_loss')\n",
    "        plt.plot(valid_loss, label='valid_loss')\n",
    "        plt.title('loss {}'.format(iter))\n",
    "        plt.legend()\n",
    "        plt.show()\n",
    "    if ty == \"acc\":\n",
    "        plt.figure(figsize=(10,10))\n",
    "        \n",
    "        plot_ty=torch.tensor(train_loss, device = 'cpu')\n",
    "        plat_va=torch.tensor(valid_loss, device = 'cpu')\n",
    "        plt.plot(plot_ty, label='train_acc')\n",
    "        plt.plot(plat_va, label='valid_acc')\n",
    "        plt.title('acc {}'.format(iter))\n",
    "        plt.legend()\n",
    "        plt.show()"
   ]
  },
  {
   "cell_type": "code",
   "execution_count": 137,
   "id": "1fdb330a-630d-44a7-9b63-a9c8e63e7d17",
   "metadata": {
    "tags": []
   },
   "outputs": [
    {
     "name": "stdout",
     "output_type": "stream",
     "text": [
      "\n",
      "\n"
     ]
    },
    {
     "name": "stderr",
     "output_type": "stream",
     "text": [
      "/tmp/ipykernel_16406/1353350491.py:71: RuntimeWarning: This filename (S003/S003R03.fif) does not conform to MNE naming conventions. All raw files should end with raw.fif, raw_sss.fif, raw_tsss.fif, _meg.fif, _eeg.fif, _ieeg.fif, raw.fif.gz, raw_sss.fif.gz, raw_tsss.fif.gz, _meg.fif.gz, _eeg.fif.gz or _ieeg.fif.gz\n",
      "  raw = mne.io.read_raw_fif( path_file , preload=True, verbose='WARNING' )\n",
      "/tmp/ipykernel_16406/1353350491.py:71: RuntimeWarning: This filename (S003/S003R05.fif) does not conform to MNE naming conventions. All raw files should end with raw.fif, raw_sss.fif, raw_tsss.fif, _meg.fif, _eeg.fif, _ieeg.fif, raw.fif.gz, raw_sss.fif.gz, raw_tsss.fif.gz, _meg.fif.gz, _eeg.fif.gz or _ieeg.fif.gz\n",
      "  raw = mne.io.read_raw_fif( path_file , preload=True, verbose='WARNING' )\n",
      "/tmp/ipykernel_16406/1353350491.py:71: RuntimeWarning: This filename (S003/S003R07.fif) does not conform to MNE naming conventions. All raw files should end with raw.fif, raw_sss.fif, raw_tsss.fif, _meg.fif, _eeg.fif, _ieeg.fif, raw.fif.gz, raw_sss.fif.gz, raw_tsss.fif.gz, _meg.fif.gz, _eeg.fif.gz or _ieeg.fif.gz\n",
      "  raw = mne.io.read_raw_fif( path_file , preload=True, verbose='WARNING' )\n",
      "/tmp/ipykernel_16406/1353350491.py:71: RuntimeWarning: This filename (S003/S003R03.fif) does not conform to MNE naming conventions. All raw files should end with raw.fif, raw_sss.fif, raw_tsss.fif, _meg.fif, _eeg.fif, _ieeg.fif, raw.fif.gz, raw_sss.fif.gz, raw_tsss.fif.gz, _meg.fif.gz, _eeg.fif.gz or _ieeg.fif.gz\n",
      "  raw = mne.io.read_raw_fif( path_file , preload=True, verbose='WARNING' )\n",
      "/tmp/ipykernel_16406/1353350491.py:71: RuntimeWarning: This filename (S003/S003R05.fif) does not conform to MNE naming conventions. All raw files should end with raw.fif, raw_sss.fif, raw_tsss.fif, _meg.fif, _eeg.fif, _ieeg.fif, raw.fif.gz, raw_sss.fif.gz, raw_tsss.fif.gz, _meg.fif.gz, _eeg.fif.gz or _ieeg.fif.gz\n",
      "  raw = mne.io.read_raw_fif( path_file , preload=True, verbose='WARNING' )\n",
      "/tmp/ipykernel_16406/1353350491.py:71: RuntimeWarning: This filename (S003/S003R07.fif) does not conform to MNE naming conventions. All raw files should end with raw.fif, raw_sss.fif, raw_tsss.fif, _meg.fif, _eeg.fif, _ieeg.fif, raw.fif.gz, raw_sss.fif.gz, raw_tsss.fif.gz, _meg.fif.gz, _eeg.fif.gz or _ieeg.fif.gz\n",
      "  raw = mne.io.read_raw_fif( path_file , preload=True, verbose='WARNING' )\n"
     ]
    },
    {
     "name": "stdout",
     "output_type": "stream",
     "text": [
      "Raw done\n",
      ">>> Apply filter.\n",
      "Filtering raw data in 3 contiguous segments\n",
      "Setting up band-pass filter from 1 - 45 Hz\n",
      "\n",
      "FIR filter parameters\n",
      "---------------------\n",
      "Designing a one-pass, zero-phase, non-causal bandpass filter:\n",
      "- Windowed time-domain design (firwin) method\n",
      "- Hamming window with 0.0194 passband ripple and 53 dB stopband attenuation\n",
      "- Lower passband edge: 1.00\n",
      "- Lower transition bandwidth: 1.00 Hz (-6 dB cutoff frequency: 0.50 Hz)\n",
      "- Upper passband edge: 45.00 Hz\n",
      "- Upper transition bandwidth: 11.25 Hz (-6 dB cutoff frequency: 50.62 Hz)\n",
      "- Filter length: 825 samples (3.300 sec)\n",
      "\n",
      "Filter done\n"
     ]
    },
    {
     "name": "stderr",
     "output_type": "stream",
     "text": [
      "[Parallel(n_jobs=1)]: Using backend SequentialBackend with 1 concurrent workers.\n",
      "[Parallel(n_jobs=1)]: Done   1 out of   1 | elapsed:    0.0s remaining:    0.0s\n",
      "[Parallel(n_jobs=1)]: Done   2 out of   2 | elapsed:    0.0s remaining:    0.0s\n",
      "[Parallel(n_jobs=1)]: Done   2 out of   2 | elapsed:    0.0s finished\n"
     ]
    }
   ],
   "source": [
    "# home directory + datasets folder\n",
    "#path = '/content/drive/MyDrive/MNE-eegbci-data/files/eegmmidb/'\n",
    "path = ''\n",
    "base_url = 'https://physionet.org/files/eegmmidb/'\n",
    "# subjects = [1]\n",
    "#runs = [3, 4, 7, 8, 11, 12]\n",
    "runs = [3, 5, 7]\n",
    "subjects = [i for i in range(3,4)]\n",
    "#subjects = [1]\n",
    "# runs = [6,10,14]\n",
    "print(path)\n",
    "eeg = EEG(path, base_url, subjects, runs)\n",
    "raw=eeg.data_to_raw()\n",
    "\n",
    "print(\"Raw done\")\n",
    "# apply filter\n",
    "freq = (1., 45.)\n",
    "raw=eeg.filter(freq=freq)\n",
    "#raw=eeg.data_to_raw()\n",
    "print(\"Filter done\")\n",
    "#raw=eeg.raw_ica()\n",
    "#eeg.create_epochs()"
   ]
  },
  {
   "cell_type": "code",
   "execution_count": 138,
   "id": "5d776b41-bffa-4706-8e0b-b401ae6e9f06",
   "metadata": {},
   "outputs": [
    {
     "name": "stdout",
     "output_type": "stream",
     "text": [
      "144 events found\n",
      "Event IDs: [1 2 4]\n",
      "Not setting metadata\n",
      "72 matching events found\n",
      "No baseline correction applied\n",
      "0 projection items activated\n",
      "Using data from preloaded Raw for 72 events and 1001 original time points ...\n",
      "0 bad epochs dropped\n"
     ]
    },
    {
     "name": "stderr",
     "output_type": "stream",
     "text": [
      "/tmp/ipykernel_16406/1353350491.py:92: RuntimeWarning: No matching events found for 3 (event id 3)\n",
      "  epochs = mne.Epochs(\n"
     ]
    },
    {
     "name": "stdout",
     "output_type": "stream",
     "text": [
      "(72, 2, 641) (72,)\n"
     ]
    }
   ],
   "source": [
    "X, y = eeg.get_X_y_cross()\n",
    "print(X.shape, y.shape)\n",
    "#X = X[:, :,np.newaxis,:]\n",
    "#X = X[:,:,:]\n"
   ]
  },
  {
   "cell_type": "code",
   "execution_count": 139,
   "id": "e591afc7-bae9-44e4-95a9-7410b980da3f",
   "metadata": {},
   "outputs": [
    {
     "data": {
      "text/plain": [
       "array([0, 0, 0, 0, 0, 0, 0, 0, 0, 0, 0, 0, 1, 1, 1, 1, 1, 1, 1, 1, 1, 1,\n",
       "       1, 1, 0, 0, 0, 0, 0, 0, 0, 0, 0, 0, 0, 0, 1, 1, 1, 1, 1, 1, 1, 1,\n",
       "       1, 1, 1, 1, 0, 0, 0, 0, 0, 0, 0, 0, 0, 0, 0, 0, 1, 1, 1, 1, 1, 1,\n",
       "       1, 1, 1, 1, 1, 1])"
      ]
     },
     "execution_count": 139,
     "metadata": {},
     "output_type": "execute_result"
    }
   ],
   "source": [
    "y=y-1\n",
    "y"
   ]
  },
  {
   "cell_type": "code",
   "execution_count": 140,
   "id": "9ba05efa-afe2-4e10-8548-2a1181dc6680",
   "metadata": {},
   "outputs": [
    {
     "name": "stdout",
     "output_type": "stream",
     "text": [
      "Train size (50, 2, 641) (50,)\n",
      "Test size (22, 2, 641) (22,)\n"
     ]
    }
   ],
   "source": [
    "X_train, X_test, y_train, y_test = train_test_split(X, y, test_size=0.3,stratify=y)\n",
    "#X_test, X_vail, y_test, y_vail = train_test_split(X_test, y_test, test_size=0.3,stratify=y_test)\n",
    "\n",
    "\n",
    "\n",
    "print('Train size',X_train.shape, y_train.shape)\n",
    "print('Test size',X_test.shape, y_test.shape)\n",
    "#print('Vail size',X_vail.shape, y_vail.shape)"
   ]
  },
  {
   "cell_type": "code",
   "execution_count": 141,
   "id": "f4a2e288-071f-476a-8b28-8b2b00acb517",
   "metadata": {},
   "outputs": [],
   "source": [
    "train_loader = create_dataloader(X_train, y_train, batch_size=batch_size)\n",
    "test_loader = create_dataloader(X_test, y_test, batch_size=batch_size)\n",
    "\n",
    "num_step =math.ceil(len(train_loader.dataset) / batch_size)"
   ]
  },
  {
   "cell_type": "code",
   "execution_count": 142,
   "id": "095d271e-be36-40ab-8c37-1ba617aff35c",
   "metadata": {},
   "outputs": [
    {
     "data": {
      "text/plain": [
       "<All keys matched successfully>"
      ]
     },
     "execution_count": 142,
     "metadata": {},
     "output_type": "execute_result"
    }
   ],
   "source": [
    "net.load_state_dict(torch.load('weight/physionet_CNN_2ch_2class_0.5522516141919529'))"
   ]
  },
  {
   "cell_type": "code",
   "execution_count": null,
   "id": "da37cb4f-0483-4927-ab86-a7656cc580ca",
   "metadata": {},
   "outputs": [],
   "source": []
  },
  {
   "cell_type": "code",
   "execution_count": 143,
   "id": "f879a0a6-89f1-4c17-8b85-4c301377e303",
   "metadata": {},
   "outputs": [
    {
     "data": {
      "text/plain": [
       "odict_keys(['layer1.0.weight', 'layer1.0.bias', 'layer1.1.weight', 'layer1.1.bias', 'layer1.1.running_mean', 'layer1.1.running_var', 'layer1.1.num_batches_tracked', 'layer2.0.weight', 'layer2.0.bias', 'layer2.1.weight', 'layer2.1.bias', 'layer2.1.running_mean', 'layer2.1.running_var', 'layer2.1.num_batches_tracked', 'fc.weight', 'fc.bias'])"
      ]
     },
     "execution_count": 143,
     "metadata": {},
     "output_type": "execute_result"
    }
   ],
   "source": [
    "parms = net.state_dict()\n",
    "parms.keys()"
   ]
  },
  {
   "cell_type": "code",
   "execution_count": 144,
   "id": "45dc7b5e-38bd-4be1-aa32-a11f5e8ef3d7",
   "metadata": {},
   "outputs": [],
   "source": [
    "for name,param in net.named_parameters():\n",
    "    if param.requires_grad and 'layer1' in name:\n",
    "        param.requires_grad = False\n",
    "    if param.requires_grad and 'layer2' in name:\n",
    "        param.requires_grad = False"
   ]
  },
  {
   "cell_type": "code",
   "execution_count": 145,
   "id": "247d40ad-e0ab-41d0-a8cc-596ddb62acd1",
   "metadata": {},
   "outputs": [
    {
     "name": "stderr",
     "output_type": "stream",
     "text": [
      "\u001b[34m\u001b[1mwandb\u001b[0m: \u001b[33mWARNING\u001b[0m Calling wandb.login() after wandb.init() has no effect.\n"
     ]
    },
    {
     "data": {
      "text/html": [
       "Finishing last run (ID:1ziud0ag) before initializing another..."
      ],
      "text/plain": [
       "<IPython.core.display.HTML object>"
      ]
     },
     "metadata": {},
     "output_type": "display_data"
    },
    {
     "data": {
      "text/html": [
       "Waiting for W&B process to finish... <strong style=\"color:green\">(success).</strong>"
      ],
      "text/plain": [
       "<IPython.core.display.HTML object>"
      ]
     },
     "metadata": {},
     "output_type": "display_data"
    },
    {
     "data": {
      "text/html": [
       "<style>\n",
       "    table.wandb td:nth-child(1) { padding: 0 10px; text-align: left ; width: auto;} td:nth-child(2) {text-align: left ; width: 100%}\n",
       "    .wandb-row { display: flex; flex-direction: row; flex-wrap: wrap; justify-content: flex-start; width: 100% }\n",
       "    .wandb-col { display: flex; flex-direction: column; flex-basis: 100%; flex: 1; padding: 10px; }\n",
       "    </style>\n",
       "<div class=\"wandb-row\"><div class=\"wandb-col\"><h3>Run history:</h3><br/><table class=\"wandb\"><tr><td>Test/Test_accuracy</td><td>▁▁▁▁▁▁▅▅▅▅▅▅▅▅████████████████████████▅▅</td></tr><tr><td>Test/Test_loss</td><td>███▇▇▇▇▇▇▇▆▆▆▆▆▆▅▅▅▄▄▄▄▄▄▄▃▃▃▂▂▂▂▂▂▂▁▁▁▁</td></tr><tr><td>train/train_accuracy</td><td>▃▁▃▃▃▄▃▃▃▃▄▅▄▄▄▅▅▅▅▆▄▅▄▅▅▆▆▆▆▆▆▆▆▇▆▇▇▇▇█</td></tr><tr><td>train/train_loss</td><td>█▇▆▇▅▆▅▅▅▅▄▃▅▅▄▅▅▅▃▃▃▃▄▂▄▃▄▂▃▃▃▃▂▃▃▂▃▂▁▂</td></tr></table><br/></div><div class=\"wandb-col\"><h3>Run summary:</h3><br/><table class=\"wandb\"><tr><td>Test/Test_accuracy</td><td>54.54545</td></tr><tr><td>Test/Test_loss</td><td>0.68973</td></tr><tr><td>train/train_accuracy</td><td>86.0</td></tr><tr><td>train/train_loss</td><td>0.44698</td></tr></table><br/></div></div>"
      ],
      "text/plain": [
       "<IPython.core.display.HTML object>"
      ]
     },
     "metadata": {},
     "output_type": "display_data"
    },
    {
     "data": {
      "text/html": [
       "Synced <strong style=\"color:#cdcd00\">physionet_CNN_2ch_2class_findtune</strong>: <a href=\"https://wandb.ai/nutapol-1997/Motor-Imagery/runs/1ziud0ag\" target=\"_blank\">https://wandb.ai/nutapol-1997/Motor-Imagery/runs/1ziud0ag</a><br/>Synced 5 W&B file(s), 0 media file(s), 0 artifact file(s) and 0 other file(s)"
      ],
      "text/plain": [
       "<IPython.core.display.HTML object>"
      ]
     },
     "metadata": {},
     "output_type": "display_data"
    },
    {
     "data": {
      "text/html": [
       "Find logs at: <code>./wandb/run-20220912_025144-1ziud0ag/logs</code>"
      ],
      "text/plain": [
       "<IPython.core.display.HTML object>"
      ]
     },
     "metadata": {},
     "output_type": "display_data"
    },
    {
     "data": {
      "text/html": [
       "Successfully finished last run (ID:1ziud0ag). Initializing new run:<br/>"
      ],
      "text/plain": [
       "<IPython.core.display.HTML object>"
      ]
     },
     "metadata": {},
     "output_type": "display_data"
    },
    {
     "data": {
      "text/html": [
       "wandb version 0.13.3 is available!  To upgrade, please run:\n",
       " $ pip install wandb --upgrade"
      ],
      "text/plain": [
       "<IPython.core.display.HTML object>"
      ]
     },
     "metadata": {},
     "output_type": "display_data"
    },
    {
     "data": {
      "text/html": [
       "Tracking run with wandb version 0.13.2"
      ],
      "text/plain": [
       "<IPython.core.display.HTML object>"
      ]
     },
     "metadata": {},
     "output_type": "display_data"
    },
    {
     "data": {
      "text/html": [
       "Run data is saved locally in <code>/home/nutapolt/eeg_mi/wandb/run-20220912_025955-15u94j28</code>"
      ],
      "text/plain": [
       "<IPython.core.display.HTML object>"
      ]
     },
     "metadata": {},
     "output_type": "display_data"
    },
    {
     "data": {
      "text/html": [
       "Syncing run <strong><a href=\"https://wandb.ai/nutapol-1997/Motor-Imagery/runs/15u94j28\" target=\"_blank\">physionet_CNN_2ch_2class_findtune</a></strong> to <a href=\"https://wandb.ai/nutapol-1997/Motor-Imagery\" target=\"_blank\">Weights & Biases</a> (<a href=\"https://wandb.me/run\" target=\"_blank\">docs</a>)<br/>"
      ],
      "text/plain": [
       "<IPython.core.display.HTML object>"
      ]
     },
     "metadata": {},
     "output_type": "display_data"
    },
    {
     "name": "stdout",
     "output_type": "stream",
     "text": [
      "2\n"
     ]
    }
   ],
   "source": [
    "import wandb\n",
    "wandb.login()\n",
    "\n",
    "\n",
    "wand = wandb.init(\n",
    "        \n",
    "      # Set the project where this run will be logged\n",
    "      project=\"Motor-Imagery\", \n",
    "      # We pass a run name (otherwise it’ll be randomly assigned, like sunshine-lollypop-10)\n",
    "      name=f\"physionet_CNN_2ch_2class_findtune\", \n",
    "      # Track hyperparameters and run metadata\n",
    "      config={\n",
    "      \"learning_rate\": 0.0000001,\n",
    "      \"architecture\": \"CNN\",\n",
    "      \"dataset\": \"Nutapol T.\",\n",
    "      \"epochs\": 30000,\n",
    "      \"weightname\":\"physionet_CNN_2ch_2class_findtune_ourdata\",\n",
    "      \"num_step_per_epoch\" : num_step, \n",
    "        \n",
    "      }\n",
    "    )\n",
    "\n",
    "config = wand.config\n",
    "print(config.num_step_per_epoch)\n"
   ]
  },
  {
   "cell_type": "code",
   "execution_count": 146,
   "id": "c0342085-ba8c-4f89-b6ed-bbab7d5dcd8f",
   "metadata": {},
   "outputs": [],
   "source": [
    "#optimizer = optim.Adam(filter(lambda p: p.requires_grad, net.parameters()),lr=0.00001)\n",
    "#optimizer = optim.SGD(filter(lambda p: p.requires_grad, net.parameters()), lr=0.00001)\n",
    "#optimizer = optim.Adam(net.parameters(), lr=0.0000001)\n",
    "#criterion = nn.CrossEntropyLoss()"
   ]
  },
  {
   "cell_type": "code",
   "execution_count": null,
   "id": "03b28775-e145-47e9-b8f7-bc9408eed859",
   "metadata": {},
   "outputs": [],
   "source": []
  },
  {
   "cell_type": "code",
   "execution_count": null,
   "id": "04d87cbc-d0e6-4775-b088-bbdc208d8178",
   "metadata": {},
   "outputs": [
    {
     "name": "stdout",
     "output_type": "stream",
     "text": [
      "Epoch 1/30000, Tr Loss: 0.7294, Tr Acc: 52.0000, Val Loss: 0.7962, Val Acc: 45.4545\n",
      "Epoch 101/30000, Tr Loss: 0.7649, Tr Acc: 54.0000, Val Loss: 0.7955, Val Acc: 45.4545\n",
      "Epoch 201/30000, Tr Loss: 0.6706, Tr Acc: 54.0000, Val Loss: 0.7950, Val Acc: 45.4545\n",
      "Epoch 301/30000, Tr Loss: 0.6716, Tr Acc: 56.0000, Val Loss: 0.7913, Val Acc: 45.4545\n",
      "Epoch 401/30000, Tr Loss: 0.6589, Tr Acc: 64.0000, Val Loss: 0.7832, Val Acc: 45.4545\n",
      "Epoch 501/30000, Tr Loss: 0.6517, Tr Acc: 56.0000, Val Loss: 0.7826, Val Acc: 50.0000\n",
      "Epoch 601/30000, Tr Loss: 0.6982, Tr Acc: 62.0000, Val Loss: 0.7814, Val Acc: 50.0000\n",
      "Epoch 701/30000, Tr Loss: 0.7076, Tr Acc: 54.0000, Val Loss: 0.7772, Val Acc: 50.0000\n",
      "Epoch 801/30000, Tr Loss: 0.6577, Tr Acc: 56.0000, Val Loss: 0.7729, Val Acc: 50.0000\n",
      "Epoch 901/30000, Tr Loss: 0.7198, Tr Acc: 56.0000, Val Loss: 0.7706, Val Acc: 50.0000\n",
      "Epoch 1001/30000, Tr Loss: 0.6537, Tr Acc: 54.0000, Val Loss: 0.7703, Val Acc: 50.0000\n",
      "Epoch 1101/30000, Tr Loss: 0.6303, Tr Acc: 58.0000, Val Loss: 0.7620, Val Acc: 50.0000\n",
      "Epoch 1201/30000, Tr Loss: 0.6097, Tr Acc: 64.0000, Val Loss: 0.7636, Val Acc: 50.0000\n",
      "Epoch 1301/30000, Tr Loss: 0.6368, Tr Acc: 54.0000, Val Loss: 0.7625, Val Acc: 50.0000\n",
      "Epoch 1401/30000, Tr Loss: 0.5959, Tr Acc: 64.0000, Val Loss: 0.7594, Val Acc: 54.5455\n",
      "Epoch 1501/30000, Tr Loss: 0.6351, Tr Acc: 64.0000, Val Loss: 0.7580, Val Acc: 54.5455\n",
      "Epoch 1601/30000, Tr Loss: 0.5760, Tr Acc: 66.0000, Val Loss: 0.7572, Val Acc: 54.5455\n",
      "Epoch 1701/30000, Tr Loss: 0.5569, Tr Acc: 64.0000, Val Loss: 0.7574, Val Acc: 54.5455\n",
      "Epoch 1801/30000, Tr Loss: 0.6011, Tr Acc: 62.0000, Val Loss: 0.7546, Val Acc: 59.0909\n",
      "Epoch 1901/30000, Tr Loss: 0.5425, Tr Acc: 62.0000, Val Loss: 0.7528, Val Acc: 59.0909\n",
      "Epoch 2001/30000, Tr Loss: 0.5659, Tr Acc: 70.0000, Val Loss: 0.7522, Val Acc: 59.0909\n",
      "Epoch 2101/30000, Tr Loss: 0.5668, Tr Acc: 66.0000, Val Loss: 0.7526, Val Acc: 59.0909\n",
      "Epoch 2201/30000, Tr Loss: 0.5300, Tr Acc: 68.0000, Val Loss: 0.7522, Val Acc: 59.0909\n",
      "Epoch 2301/30000, Tr Loss: 0.5208, Tr Acc: 66.0000, Val Loss: 0.7477, Val Acc: 59.0909\n",
      "Epoch 2401/30000, Tr Loss: 0.5561, Tr Acc: 68.0000, Val Loss: 0.7522, Val Acc: 59.0909\n",
      "Epoch 2501/30000, Tr Loss: 0.5761, Tr Acc: 68.0000, Val Loss: 0.7513, Val Acc: 59.0909\n",
      "Epoch 2601/30000, Tr Loss: 0.5230, Tr Acc: 70.0000, Val Loss: 0.7518, Val Acc: 59.0909\n",
      "Epoch 2701/30000, Tr Loss: 0.5059, Tr Acc: 70.0000, Val Loss: 0.7511, Val Acc: 59.0909\n",
      "Epoch 2801/30000, Tr Loss: 0.4838, Tr Acc: 70.0000, Val Loss: 0.7492, Val Acc: 59.0909\n",
      "Epoch 2901/30000, Tr Loss: 0.4715, Tr Acc: 80.0000, Val Loss: 0.7505, Val Acc: 59.0909\n",
      "Epoch 3001/30000, Tr Loss: 0.5248, Tr Acc: 74.0000, Val Loss: 0.7501, Val Acc: 59.0909\n",
      "Epoch 3101/30000, Tr Loss: 0.4706, Tr Acc: 76.0000, Val Loss: 0.7488, Val Acc: 59.0909\n",
      "Epoch 3201/30000, Tr Loss: 0.5070, Tr Acc: 70.0000, Val Loss: 0.7533, Val Acc: 59.0909\n",
      "Epoch 3301/30000, Tr Loss: 0.4533, Tr Acc: 78.0000, Val Loss: 0.7503, Val Acc: 59.0909\n",
      "Epoch 3401/30000, Tr Loss: 0.4973, Tr Acc: 68.0000, Val Loss: 0.7505, Val Acc: 59.0909\n",
      "Epoch 3501/30000, Tr Loss: 0.4509, Tr Acc: 74.0000, Val Loss: 0.7532, Val Acc: 59.0909\n",
      "Epoch 3601/30000, Tr Loss: 0.4826, Tr Acc: 68.0000, Val Loss: 0.7532, Val Acc: 59.0909\n",
      "Epoch 3701/30000, Tr Loss: 0.5494, Tr Acc: 68.0000, Val Loss: 0.7506, Val Acc: 59.0909\n",
      "Epoch 3801/30000, Tr Loss: 0.4448, Tr Acc: 78.0000, Val Loss: 0.7528, Val Acc: 59.0909\n",
      "Epoch 3901/30000, Tr Loss: 0.4076, Tr Acc: 84.0000, Val Loss: 0.7534, Val Acc: 59.0909\n",
      "Epoch 4001/30000, Tr Loss: 0.5368, Tr Acc: 74.0000, Val Loss: 0.7564, Val Acc: 59.0909\n",
      "Epoch 4101/30000, Tr Loss: 0.4394, Tr Acc: 76.0000, Val Loss: 0.7565, Val Acc: 59.0909\n",
      "Epoch 4201/30000, Tr Loss: 0.4465, Tr Acc: 80.0000, Val Loss: 0.7545, Val Acc: 54.5455\n",
      "Epoch 4301/30000, Tr Loss: 0.4069, Tr Acc: 72.0000, Val Loss: 0.7564, Val Acc: 54.5455\n",
      "Epoch 4401/30000, Tr Loss: 0.4238, Tr Acc: 80.0000, Val Loss: 0.7563, Val Acc: 54.5455\n",
      "Epoch 4501/30000, Tr Loss: 0.4324, Tr Acc: 76.0000, Val Loss: 0.7579, Val Acc: 54.5455\n",
      "Epoch 4601/30000, Tr Loss: 0.4138, Tr Acc: 80.0000, Val Loss: 0.7594, Val Acc: 54.5455\n",
      "Epoch 4701/30000, Tr Loss: 0.4202, Tr Acc: 80.0000, Val Loss: 0.7609, Val Acc: 54.5455\n",
      "Epoch 4801/30000, Tr Loss: 0.4230, Tr Acc: 86.0000, Val Loss: 0.7606, Val Acc: 54.5455\n",
      "Epoch 4901/30000, Tr Loss: 0.4076, Tr Acc: 78.0000, Val Loss: 0.7604, Val Acc: 54.5455\n",
      "Epoch 5001/30000, Tr Loss: 0.4492, Tr Acc: 76.0000, Val Loss: 0.7634, Val Acc: 54.5455\n",
      "Epoch 5101/30000, Tr Loss: 0.4874, Tr Acc: 80.0000, Val Loss: 0.7647, Val Acc: 54.5455\n",
      "Epoch 5201/30000, Tr Loss: 0.4138, Tr Acc: 82.0000, Val Loss: 0.7637, Val Acc: 54.5455\n",
      "Epoch 5301/30000, Tr Loss: 0.3758, Tr Acc: 86.0000, Val Loss: 0.7650, Val Acc: 54.5455\n",
      "Epoch 5401/30000, Tr Loss: 0.3853, Tr Acc: 84.0000, Val Loss: 0.7670, Val Acc: 54.5455\n",
      "Epoch 5501/30000, Tr Loss: 0.4232, Tr Acc: 78.0000, Val Loss: 0.7679, Val Acc: 54.5455\n",
      "Epoch 5601/30000, Tr Loss: 0.4245, Tr Acc: 78.0000, Val Loss: 0.7671, Val Acc: 59.0909\n",
      "Epoch 5701/30000, Tr Loss: 0.4004, Tr Acc: 84.0000, Val Loss: 0.7677, Val Acc: 59.0909\n",
      "Epoch 5801/30000, Tr Loss: 0.4045, Tr Acc: 76.0000, Val Loss: 0.7709, Val Acc: 54.5455\n",
      "Epoch 5901/30000, Tr Loss: 0.3854, Tr Acc: 82.0000, Val Loss: 0.7685, Val Acc: 59.0909\n",
      "Epoch 6001/30000, Tr Loss: 0.3797, Tr Acc: 82.0000, Val Loss: 0.7708, Val Acc: 59.0909\n",
      "Epoch 6101/30000, Tr Loss: 0.3688, Tr Acc: 88.0000, Val Loss: 0.7742, Val Acc: 54.5455\n",
      "Epoch 6201/30000, Tr Loss: 0.3597, Tr Acc: 88.0000, Val Loss: 0.7750, Val Acc: 54.5455\n",
      "Epoch 6301/30000, Tr Loss: 0.4014, Tr Acc: 78.0000, Val Loss: 0.7775, Val Acc: 59.0909\n",
      "Epoch 6401/30000, Tr Loss: 0.3670, Tr Acc: 82.0000, Val Loss: 0.7760, Val Acc: 59.0909\n",
      "Epoch 6501/30000, Tr Loss: 0.3646, Tr Acc: 86.0000, Val Loss: 0.7795, Val Acc: 59.0909\n",
      "Epoch 6601/30000, Tr Loss: 0.3620, Tr Acc: 86.0000, Val Loss: 0.7810, Val Acc: 59.0909\n",
      "Epoch 6701/30000, Tr Loss: 0.3750, Tr Acc: 84.0000, Val Loss: 0.7815, Val Acc: 59.0909\n",
      "Epoch 6801/30000, Tr Loss: 0.3599, Tr Acc: 86.0000, Val Loss: 0.7844, Val Acc: 59.0909\n",
      "Epoch 6901/30000, Tr Loss: 0.3532, Tr Acc: 94.0000, Val Loss: 0.7864, Val Acc: 59.0909\n",
      "Epoch 7001/30000, Tr Loss: 0.3425, Tr Acc: 86.0000, Val Loss: 0.7877, Val Acc: 59.0909\n",
      "Epoch 7101/30000, Tr Loss: 0.3993, Tr Acc: 84.0000, Val Loss: 0.7909, Val Acc: 59.0909\n",
      "Epoch 7201/30000, Tr Loss: 0.3644, Tr Acc: 88.0000, Val Loss: 0.7893, Val Acc: 59.0909\n",
      "Epoch 7301/30000, Tr Loss: 0.3332, Tr Acc: 90.0000, Val Loss: 0.7884, Val Acc: 59.0909\n",
      "Epoch 7401/30000, Tr Loss: 0.3390, Tr Acc: 90.0000, Val Loss: 0.7919, Val Acc: 59.0909\n",
      "Epoch 7501/30000, Tr Loss: 0.3767, Tr Acc: 88.0000, Val Loss: 0.7944, Val Acc: 59.0909\n",
      "Epoch 7601/30000, Tr Loss: 0.3694, Tr Acc: 86.0000, Val Loss: 0.7962, Val Acc: 59.0909\n",
      "Epoch 7701/30000, Tr Loss: 0.3330, Tr Acc: 86.0000, Val Loss: 0.7986, Val Acc: 59.0909\n",
      "Epoch 7801/30000, Tr Loss: 0.3459, Tr Acc: 90.0000, Val Loss: 0.8018, Val Acc: 59.0909\n",
      "Epoch 7901/30000, Tr Loss: 0.3461, Tr Acc: 86.0000, Val Loss: 0.8019, Val Acc: 59.0909\n",
      "Epoch 8001/30000, Tr Loss: 0.3274, Tr Acc: 88.0000, Val Loss: 0.8046, Val Acc: 59.0909\n",
      "Epoch 8101/30000, Tr Loss: 0.3414, Tr Acc: 88.0000, Val Loss: 0.8039, Val Acc: 59.0909\n",
      "Epoch 8201/30000, Tr Loss: 0.3140, Tr Acc: 92.0000, Val Loss: 0.8069, Val Acc: 59.0909\n",
      "Epoch 8301/30000, Tr Loss: 0.3405, Tr Acc: 90.0000, Val Loss: 0.8083, Val Acc: 59.0909\n",
      "Epoch 8401/30000, Tr Loss: 0.3565, Tr Acc: 82.0000, Val Loss: 0.8117, Val Acc: 59.0909\n",
      "Epoch 8501/30000, Tr Loss: 0.3663, Tr Acc: 78.0000, Val Loss: 0.8127, Val Acc: 59.0909\n",
      "Epoch 8601/30000, Tr Loss: 0.2931, Tr Acc: 94.0000, Val Loss: 0.8140, Val Acc: 59.0909\n",
      "Epoch 8701/30000, Tr Loss: 0.3159, Tr Acc: 92.0000, Val Loss: 0.8164, Val Acc: 59.0909\n",
      "Epoch 8801/30000, Tr Loss: 0.2963, Tr Acc: 96.0000, Val Loss: 0.8190, Val Acc: 59.0909\n",
      "Epoch 8901/30000, Tr Loss: 0.3321, Tr Acc: 90.0000, Val Loss: 0.8193, Val Acc: 59.0909\n",
      "Epoch 9001/30000, Tr Loss: 0.3122, Tr Acc: 94.0000, Val Loss: 0.8243, Val Acc: 59.0909\n",
      "Epoch 9101/30000, Tr Loss: 0.2829, Tr Acc: 96.0000, Val Loss: 0.8274, Val Acc: 54.5455\n",
      "Epoch 9201/30000, Tr Loss: 0.2995, Tr Acc: 88.0000, Val Loss: 0.8271, Val Acc: 54.5455\n",
      "Epoch 9301/30000, Tr Loss: 0.2817, Tr Acc: 92.0000, Val Loss: 0.8302, Val Acc: 54.5455\n",
      "Epoch 9401/30000, Tr Loss: 0.3176, Tr Acc: 90.0000, Val Loss: 0.8289, Val Acc: 54.5455\n",
      "Epoch 9501/30000, Tr Loss: 0.2887, Tr Acc: 88.0000, Val Loss: 0.8364, Val Acc: 54.5455\n",
      "Epoch 9601/30000, Tr Loss: 0.2730, Tr Acc: 94.0000, Val Loss: 0.8386, Val Acc: 54.5455\n",
      "Epoch 9701/30000, Tr Loss: 0.3241, Tr Acc: 86.0000, Val Loss: 0.8408, Val Acc: 54.5455\n",
      "Epoch 9801/30000, Tr Loss: 0.2582, Tr Acc: 94.0000, Val Loss: 0.8411, Val Acc: 54.5455\n",
      "Epoch 9901/30000, Tr Loss: 0.3172, Tr Acc: 92.0000, Val Loss: 0.8464, Val Acc: 54.5455\n",
      "Epoch 10001/30000, Tr Loss: 0.2554, Tr Acc: 94.0000, Val Loss: 0.8470, Val Acc: 54.5455\n",
      "Epoch 10101/30000, Tr Loss: 0.2565, Tr Acc: 94.0000, Val Loss: 0.8501, Val Acc: 54.5455\n",
      "Epoch 10201/30000, Tr Loss: 0.2491, Tr Acc: 98.0000, Val Loss: 0.8494, Val Acc: 54.5455\n",
      "Epoch 10301/30000, Tr Loss: 0.3109, Tr Acc: 92.0000, Val Loss: 0.8531, Val Acc: 54.5455\n",
      "Epoch 10401/30000, Tr Loss: 0.2850, Tr Acc: 94.0000, Val Loss: 0.8546, Val Acc: 54.5455\n",
      "Epoch 10501/30000, Tr Loss: 0.2621, Tr Acc: 92.0000, Val Loss: 0.8555, Val Acc: 54.5455\n",
      "Epoch 10601/30000, Tr Loss: 0.2800, Tr Acc: 96.0000, Val Loss: 0.8619, Val Acc: 54.5455\n",
      "Epoch 10701/30000, Tr Loss: 0.2728, Tr Acc: 92.0000, Val Loss: 0.8653, Val Acc: 54.5455\n",
      "Epoch 10801/30000, Tr Loss: 0.3199, Tr Acc: 90.0000, Val Loss: 0.8659, Val Acc: 54.5455\n",
      "Epoch 10901/30000, Tr Loss: 0.2446, Tr Acc: 90.0000, Val Loss: 0.8660, Val Acc: 54.5455\n",
      "Epoch 11001/30000, Tr Loss: 0.2635, Tr Acc: 96.0000, Val Loss: 0.8720, Val Acc: 54.5455\n",
      "Epoch 11101/30000, Tr Loss: 0.2685, Tr Acc: 94.0000, Val Loss: 0.8774, Val Acc: 54.5455\n",
      "Epoch 11201/30000, Tr Loss: 0.2596, Tr Acc: 96.0000, Val Loss: 0.8725, Val Acc: 54.5455\n",
      "Epoch 11301/30000, Tr Loss: 0.2573, Tr Acc: 94.0000, Val Loss: 0.8760, Val Acc: 54.5455\n",
      "Epoch 11401/30000, Tr Loss: 0.2246, Tr Acc: 100.0000, Val Loss: 0.8790, Val Acc: 54.5455\n",
      "Epoch 11501/30000, Tr Loss: 0.2706, Tr Acc: 90.0000, Val Loss: 0.8836, Val Acc: 54.5455\n",
      "Epoch 11601/30000, Tr Loss: 0.2529, Tr Acc: 98.0000, Val Loss: 0.8873, Val Acc: 54.5455\n",
      "Epoch 11701/30000, Tr Loss: 0.2112, Tr Acc: 98.0000, Val Loss: 0.8912, Val Acc: 54.5455\n",
      "Epoch 11801/30000, Tr Loss: 0.2634, Tr Acc: 96.0000, Val Loss: 0.8966, Val Acc: 54.5455\n",
      "Epoch 11901/30000, Tr Loss: 0.2276, Tr Acc: 96.0000, Val Loss: 0.8970, Val Acc: 54.5455\n",
      "Epoch 12001/30000, Tr Loss: 0.2521, Tr Acc: 98.0000, Val Loss: 0.9009, Val Acc: 54.5455\n",
      "Epoch 12101/30000, Tr Loss: 0.2406, Tr Acc: 96.0000, Val Loss: 0.9028, Val Acc: 54.5455\n",
      "Epoch 12201/30000, Tr Loss: 0.2450, Tr Acc: 94.0000, Val Loss: 0.9066, Val Acc: 54.5455\n",
      "Epoch 12301/30000, Tr Loss: 0.2384, Tr Acc: 94.0000, Val Loss: 0.9078, Val Acc: 54.5455\n",
      "Epoch 12401/30000, Tr Loss: 0.2421, Tr Acc: 92.0000, Val Loss: 0.9095, Val Acc: 54.5455\n",
      "Epoch 12501/30000, Tr Loss: 0.2164, Tr Acc: 96.0000, Val Loss: 0.9094, Val Acc: 54.5455\n",
      "Epoch 12601/30000, Tr Loss: 0.2466, Tr Acc: 96.0000, Val Loss: 0.9115, Val Acc: 54.5455\n",
      "Epoch 12701/30000, Tr Loss: 0.2511, Tr Acc: 92.0000, Val Loss: 0.9169, Val Acc: 54.5455\n",
      "Epoch 12801/30000, Tr Loss: 0.2680, Tr Acc: 92.0000, Val Loss: 0.9191, Val Acc: 54.5455\n",
      "Epoch 12901/30000, Tr Loss: 0.2901, Tr Acc: 90.0000, Val Loss: 0.9289, Val Acc: 54.5455\n",
      "Epoch 13001/30000, Tr Loss: 0.2350, Tr Acc: 94.0000, Val Loss: 0.9257, Val Acc: 54.5455\n",
      "Epoch 13101/30000, Tr Loss: 0.2125, Tr Acc: 98.0000, Val Loss: 0.9327, Val Acc: 54.5455\n",
      "Epoch 13201/30000, Tr Loss: 0.2272, Tr Acc: 98.0000, Val Loss: 0.9305, Val Acc: 54.5455\n",
      "Epoch 13301/30000, Tr Loss: 0.2020, Tr Acc: 94.0000, Val Loss: 0.9345, Val Acc: 54.5455\n",
      "Epoch 13401/30000, Tr Loss: 0.2310, Tr Acc: 96.0000, Val Loss: 0.9375, Val Acc: 54.5455\n",
      "Epoch 13501/30000, Tr Loss: 0.2142, Tr Acc: 92.0000, Val Loss: 0.9403, Val Acc: 54.5455\n",
      "Epoch 13601/30000, Tr Loss: 0.2140, Tr Acc: 98.0000, Val Loss: 0.9429, Val Acc: 54.5455\n",
      "Epoch 13701/30000, Tr Loss: 0.2391, Tr Acc: 94.0000, Val Loss: 0.9442, Val Acc: 54.5455\n",
      "Epoch 13801/30000, Tr Loss: 0.2332, Tr Acc: 94.0000, Val Loss: 0.9484, Val Acc: 54.5455\n",
      "Epoch 13901/30000, Tr Loss: 0.2054, Tr Acc: 98.0000, Val Loss: 0.9495, Val Acc: 54.5455\n",
      "Epoch 14001/30000, Tr Loss: 0.2053, Tr Acc: 96.0000, Val Loss: 0.9589, Val Acc: 54.5455\n",
      "Epoch 14101/30000, Tr Loss: 0.1971, Tr Acc: 98.0000, Val Loss: 0.9501, Val Acc: 54.5455\n",
      "Epoch 14201/30000, Tr Loss: 0.1919, Tr Acc: 98.0000, Val Loss: 0.9614, Val Acc: 54.5455\n",
      "Epoch 14301/30000, Tr Loss: 0.2003, Tr Acc: 98.0000, Val Loss: 0.9621, Val Acc: 54.5455\n",
      "Epoch 14401/30000, Tr Loss: 0.1866, Tr Acc: 100.0000, Val Loss: 0.9654, Val Acc: 54.5455\n",
      "Epoch 14501/30000, Tr Loss: 0.2179, Tr Acc: 100.0000, Val Loss: 0.9629, Val Acc: 54.5455\n",
      "Epoch 14601/30000, Tr Loss: 0.2157, Tr Acc: 96.0000, Val Loss: 0.9681, Val Acc: 54.5455\n",
      "Epoch 14701/30000, Tr Loss: 0.1695, Tr Acc: 98.0000, Val Loss: 0.9698, Val Acc: 54.5455\n",
      "Epoch 14801/30000, Tr Loss: 0.1947, Tr Acc: 98.0000, Val Loss: 0.9727, Val Acc: 54.5455\n",
      "Epoch 14901/30000, Tr Loss: 0.2071, Tr Acc: 98.0000, Val Loss: 0.9742, Val Acc: 54.5455\n",
      "Epoch 15001/30000, Tr Loss: 0.2188, Tr Acc: 96.0000, Val Loss: 0.9876, Val Acc: 54.5455\n",
      "Epoch 15101/30000, Tr Loss: 0.1918, Tr Acc: 98.0000, Val Loss: 0.9849, Val Acc: 54.5455\n",
      "Epoch 15201/30000, Tr Loss: 0.1805, Tr Acc: 96.0000, Val Loss: 0.9958, Val Acc: 54.5455\n",
      "Epoch 15301/30000, Tr Loss: 0.1928, Tr Acc: 98.0000, Val Loss: 0.9910, Val Acc: 54.5455\n"
     ]
    }
   ],
   "source": [
    "from common import train\n",
    "#net = ConvNet().cuda(0)\n",
    "optimizer = optim.Adam(net.parameters(), lr=config.learning_rate)\n",
    "criterion = nn.CrossEntropyLoss()\n",
    "\n",
    "\n",
    "train_loss,valid_loss,train_accuracy,valid_accuracy =train(\n",
    "    model = net,\n",
    "    gpu_num = 0,\n",
    "    train_loader = train_loader,\n",
    "    test_loader = test_loader,\n",
    "    optimizer = optimizer  ,\n",
    "    criterion = criterion ,\n",
    "    vail_loader = None,\n",
    "    wand = wand\n",
    "         )\n",
    "\n",
    "\n",
    "wandb.alert(\n",
    "            title='Finish',\n",
    "            text=f'Finishing training',\n",
    "        )"
   ]
  },
  {
   "cell_type": "code",
   "execution_count": null,
   "id": "9e963254-e8b4-4a34-b5e0-e9e37f6f620d",
   "metadata": {},
   "outputs": [],
   "source": []
  },
  {
   "cell_type": "markdown",
   "id": "933e1620-4c45-4616-b427-6bb66dae4812",
   "metadata": {},
   "source": [
    "### Validate Findtune"
   ]
  },
  {
   "cell_type": "code",
   "execution_count": 93,
   "id": "9e8341e5-ea95-4ae6-8418-1f792b15c39b",
   "metadata": {},
   "outputs": [],
   "source": [
    "del net"
   ]
  },
  {
   "cell_type": "code",
   "execution_count": 94,
   "id": "5c0fc2ea-ae32-4a90-a92a-eae5d1effcfc",
   "metadata": {},
   "outputs": [],
   "source": [
    "net = ConvNet().cuda(1)"
   ]
  },
  {
   "cell_type": "code",
   "execution_count": 95,
   "id": "79516f20-09c3-4d57-8a8f-1fd032fc77a3",
   "metadata": {},
   "outputs": [
    {
     "data": {
      "text/plain": [
       "<All keys matched successfully>"
      ]
     },
     "execution_count": 95,
     "metadata": {},
     "output_type": "execute_result"
    }
   ],
   "source": [
    "net.load_state_dict(torch.load('weight/physionet_CNN_2ch_2class_findtune_ourdata_0.48609423637390137'))"
   ]
  },
  {
   "cell_type": "code",
   "execution_count": 96,
   "id": "4cd67654-6054-4d7c-ae64-d9caf2f5f29e",
   "metadata": {},
   "outputs": [
    {
     "ename": "NameError",
     "evalue": "name 'X_vail' is not defined",
     "output_type": "error",
     "traceback": [
      "\u001b[0;31m---------------------------------------------------------------------------\u001b[0m",
      "\u001b[0;31mNameError\u001b[0m                                 Traceback (most recent call last)",
      "Input \u001b[0;32mIn [96]\u001b[0m, in \u001b[0;36m<cell line: 1>\u001b[0;34m()\u001b[0m\n\u001b[0;32m----> 1\u001b[0m test_loader \u001b[38;5;241m=\u001b[39m create_dataloader(\u001b[43mX_vail\u001b[49m, y_vail, batch_size\u001b[38;5;241m=\u001b[39mbatch_size)\n",
      "\u001b[0;31mNameError\u001b[0m: name 'X_vail' is not defined"
     ]
    }
   ],
   "source": [
    "test_loader = create_dataloader(X_vail, y_vail, batch_size=batch_size)\n"
   ]
  },
  {
   "cell_type": "code",
   "execution_count": 43,
   "id": "3b448572-ac9b-439f-b017-dc5525b024a1",
   "metadata": {},
   "outputs": [
    {
     "name": "stdout",
     "output_type": "stream",
     "text": [
      " Val Acc: 100.0000\n"
     ]
    }
   ],
   "source": [
    "# Train the model\n",
    "num_epochs = 1\n",
    "\n",
    "train_loss = []\n",
    "valid_loss = []\n",
    "train_accuracy = []\n",
    "valid_accuracy = []\n",
    "old_acc = 0\n",
    "for epoch in range(num_epochs):\n",
    "\n",
    "    loss = 0.0\n",
    "    correct = 0\n",
    "    iterations = 0\n",
    "    net.eval()\n",
    "    for i, (items, classes) in enumerate(test_loader):\n",
    "        items = Variable(items)\n",
    "        classes = Variable(classes)\n",
    "        \n",
    "        if cuda.is_available():\n",
    "            items = items.cuda(1)\n",
    "            classes = classes.cuda(1)\n",
    "        \n",
    "        outputs = net(items)\n",
    "        loss += criterion(outputs, classes).item()\n",
    "        \n",
    "        _, predicted = torch.max(outputs.data, 1)\n",
    "        correct += (predicted == classes.data).sum()\n",
    "        \n",
    "        iterations += 1\n",
    "\n",
    "    valid_loss.append(loss/iterations)\n",
    "    correct_scalar = np.array([correct.clone().cpu()])[0]\n",
    "    valid_accuracy.append(correct_scalar / len(test_loader.dataset) * 100.0)\n",
    "print (' Val Acc: %.4f'\n",
    "                   %(valid_accuracy[-1]))\n"
   ]
  },
  {
   "cell_type": "code",
   "execution_count": 44,
   "id": "c743c4d3-58ce-4fd3-8777-09e3ef283e11",
   "metadata": {},
   "outputs": [
    {
     "data": {
      "text/plain": [
       "array([0, 0, 0, 1, 1])"
      ]
     },
     "execution_count": 44,
     "metadata": {},
     "output_type": "execute_result"
    }
   ],
   "source": [
    "y_vail"
   ]
  },
  {
   "cell_type": "code",
   "execution_count": null,
   "id": "4eb8a1cb-9cdb-404a-b363-6e568d88261d",
   "metadata": {},
   "outputs": [],
   "source": []
  }
 ],
 "metadata": {
  "kernelspec": {
   "display_name": "Python 3 (ipykernel)",
   "language": "python",
   "name": "python3"
  },
  "language_info": {
   "codemirror_mode": {
    "name": "ipython",
    "version": 3
   },
   "file_extension": ".py",
   "mimetype": "text/x-python",
   "name": "python",
   "nbconvert_exporter": "python",
   "pygments_lexer": "ipython3",
   "version": "3.8.10"
  }
 },
 "nbformat": 4,
 "nbformat_minor": 5
}
