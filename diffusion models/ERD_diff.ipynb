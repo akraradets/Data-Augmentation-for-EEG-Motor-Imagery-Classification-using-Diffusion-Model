{
 "cells": [
  {
   "cell_type": "code",
   "execution_count": 36,
   "metadata": {
    "collapsed": true
   },
   "outputs": [],
   "source": [
    "import numpy as np,matplotlib.pyplot as plt,mne,os,sys,glob,numpy as np,torch\n",
    "from mne.datasets import eegbci\n",
    "from IPython.display import clear_output\n",
    "from torch import nn\n",
    "import torch.optim as optim\n",
    "from mne.datasets import eegbci\n",
    "from sklearn.model_selection import train_test_split\n",
    "from torch.utils.data import TensorDataset\n",
    "from torch.utils.data import DataLoader\n",
    "from scipy import signal\n",
    "import torch\n",
    "import torch.cuda as cuda\n",
    "import torch.nn as nn\n",
    "from torch.autograd import Variable\n",
    "import math\n",
    "from mne import (io, compute_raw_covariance, read_events, pick_types, Epochs)\n",
    "from mne.preprocessing import Xdawn\n",
    "import numpy as np\n",
    "import matplotlib.pyplot as plt\n",
    "from matplotlib.colors import TwoSlopeNorm\n",
    "import pandas as pd\n",
    "import seaborn as sns\n",
    "import mne\n",
    "from mne.datasets import eegbci\n",
    "from mne.io import concatenate_raws, read_raw_edf\n",
    "from mne.time_frequency import tfr_multitaper\n",
    "from mne.stats import permutation_cluster_1samp_test as pcluster_test"
   ]
  },
  {
   "cell_type": "code",
   "execution_count": 37,
   "outputs": [
    {
     "ename": "FileNotFoundError",
     "evalue": "[Errno 2] No such file or directory: \"Synthetic_data_more/X_subject_1_72_['left', 'right', 'foot', 'tongue'].npy\"",
     "output_type": "error",
     "traceback": [
      "\u001B[0;31m---------------------------------------------------------------------------\u001B[0m",
      "\u001B[0;31mFileNotFoundError\u001B[0m                         Traceback (most recent call last)",
      "Cell \u001B[0;32mIn [37], line 5\u001B[0m\n\u001B[1;32m      1\u001B[0m \u001B[38;5;66;03m#X_syntheic = np.load(\"Synthetic_data_V2/X_subject_7_72_['left', 'right', 'foot', 'tongue'].npy\")\u001B[39;00m\n\u001B[1;32m      2\u001B[0m \u001B[38;5;66;03m#y_syntheic = np.load(\"Synthetic_data_V2/y_subject_7_72_['left', 'right', 'foot', 'tongue'].npy\")\u001B[39;00m\n\u001B[0;32m----> 5\u001B[0m X_syntheic \u001B[38;5;241m=\u001B[39m \u001B[43mnp\u001B[49m\u001B[38;5;241;43m.\u001B[39;49m\u001B[43mload\u001B[49m\u001B[43m(\u001B[49m\u001B[38;5;124;43m\"\u001B[39;49m\u001B[38;5;124;43mSynthetic_data_more/X_subject_1_72_[\u001B[39;49m\u001B[38;5;124;43m'\u001B[39;49m\u001B[38;5;124;43mleft\u001B[39;49m\u001B[38;5;124;43m'\u001B[39;49m\u001B[38;5;124;43m, \u001B[39;49m\u001B[38;5;124;43m'\u001B[39;49m\u001B[38;5;124;43mright\u001B[39;49m\u001B[38;5;124;43m'\u001B[39;49m\u001B[38;5;124;43m, \u001B[39;49m\u001B[38;5;124;43m'\u001B[39;49m\u001B[38;5;124;43mfoot\u001B[39;49m\u001B[38;5;124;43m'\u001B[39;49m\u001B[38;5;124;43m, \u001B[39;49m\u001B[38;5;124;43m'\u001B[39;49m\u001B[38;5;124;43mtongue\u001B[39;49m\u001B[38;5;124;43m'\u001B[39;49m\u001B[38;5;124;43m].npy\u001B[39;49m\u001B[38;5;124;43m\"\u001B[39;49m\u001B[43m)\u001B[49m\n\u001B[1;32m      6\u001B[0m y_syntheic \u001B[38;5;241m=\u001B[39m np\u001B[38;5;241m.\u001B[39mload(\u001B[38;5;124m\"\u001B[39m\u001B[38;5;124mSynthetic_data_more/y_subject_1_72_[\u001B[39m\u001B[38;5;124m'\u001B[39m\u001B[38;5;124mleft\u001B[39m\u001B[38;5;124m'\u001B[39m\u001B[38;5;124m, \u001B[39m\u001B[38;5;124m'\u001B[39m\u001B[38;5;124mright\u001B[39m\u001B[38;5;124m'\u001B[39m\u001B[38;5;124m, \u001B[39m\u001B[38;5;124m'\u001B[39m\u001B[38;5;124mfoot\u001B[39m\u001B[38;5;124m'\u001B[39m\u001B[38;5;124m, \u001B[39m\u001B[38;5;124m'\u001B[39m\u001B[38;5;124mtongue\u001B[39m\u001B[38;5;124m'\u001B[39m\u001B[38;5;124m].npy\u001B[39m\u001B[38;5;124m\"\u001B[39m)\n",
      "File \u001B[0;32m~/.local/lib/python3.8/site-packages/numpy/lib/npyio.py:390\u001B[0m, in \u001B[0;36mload\u001B[0;34m(file, mmap_mode, allow_pickle, fix_imports, encoding)\u001B[0m\n\u001B[1;32m    388\u001B[0m     own_fid \u001B[38;5;241m=\u001B[39m \u001B[38;5;28;01mFalse\u001B[39;00m\n\u001B[1;32m    389\u001B[0m \u001B[38;5;28;01melse\u001B[39;00m:\n\u001B[0;32m--> 390\u001B[0m     fid \u001B[38;5;241m=\u001B[39m stack\u001B[38;5;241m.\u001B[39menter_context(\u001B[38;5;28;43mopen\u001B[39;49m\u001B[43m(\u001B[49m\u001B[43mos_fspath\u001B[49m\u001B[43m(\u001B[49m\u001B[43mfile\u001B[49m\u001B[43m)\u001B[49m\u001B[43m,\u001B[49m\u001B[43m \u001B[49m\u001B[38;5;124;43m\"\u001B[39;49m\u001B[38;5;124;43mrb\u001B[39;49m\u001B[38;5;124;43m\"\u001B[39;49m\u001B[43m)\u001B[49m)\n\u001B[1;32m    391\u001B[0m     own_fid \u001B[38;5;241m=\u001B[39m \u001B[38;5;28;01mTrue\u001B[39;00m\n\u001B[1;32m    393\u001B[0m \u001B[38;5;66;03m# Code to distinguish from NumPy binary files and pickles.\u001B[39;00m\n",
      "\u001B[0;31mFileNotFoundError\u001B[0m: [Errno 2] No such file or directory: \"Synthetic_data_more/X_subject_1_72_['left', 'right', 'foot', 'tongue'].npy\""
     ]
    }
   ],
   "source": [
    "#X_syntheic = np.load(\"Synthetic_data_V2/X_subject_7_72_['left', 'right', 'foot', 'tongue'].npy\")\n",
    "#y_syntheic = np.load(\"Synthetic_data_V2/y_subject_7_72_['left', 'right', 'foot', 'tongue'].npy\")\n",
    "\n",
    "\n",
    "X_syntheic = np.load(\"Synthetic_data_more/X_subject_1_72_['left', 'right', 'foot', 'tongue'].npy\")\n",
    "y_syntheic = np.load(\"Synthetic_data_more/y_subject_1_72_['left', 'right', 'foot', 'tongue'].npy\")"
   ],
   "metadata": {
    "collapsed": false
   }
  },
  {
   "cell_type": "code",
   "execution_count": null,
   "outputs": [],
   "source": [],
   "metadata": {
    "collapsed": false
   }
  },
  {
   "cell_type": "code",
   "execution_count": null,
   "outputs": [],
   "source": [
    "from mne.io import RawArray\n",
    "freqs = np.arange(8, 14)  # frequencies from 2-35Hz\n",
    "vmin, vmax = -1, 1.5  # set min and max ERDS values in plot\n",
    "baseline = (0, 0.025)  # baseline interval (in s)\n",
    "tmin, tmax = 0, 4\n",
    "freq_bounds = {'_': 0,\n",
    "               'delta': 3,\n",
    "               'theta': 7,\n",
    "               'alpha': 13,\n",
    "               'beta': 35,\n",
    "               'gamma': 140}\n",
    "freq_bands_of_interest = ['delta', 'theta', 'alpha', 'beta']\n",
    "\n",
    "\n",
    "ch_names = [\"Fz\",\n",
    " 'FC3','FC1','FCZ','FC2','FC4',\n",
    " 'C5','C3','C1','Cz','C2','C4','C6',\n",
    " 'CP3','CP1','CPz','CP2','CP4',\n",
    " 'P1','Pz','P2',\n",
    " 'POZ'\n",
    " ]"
   ],
   "metadata": {
    "collapsed": false
   }
  },
  {
   "cell_type": "code",
   "execution_count": null,
   "outputs": [],
   "source": [
    "info = mne.create_info(ch_names=ch_names,sfreq = 250 ,ch_types =\"eeg\")\n",
    "epochs = mne.EpochsArray(X_syntheic,info,baseline=baseline)\n",
    "for i in range(y_syntheic.shape[0]):\n",
    "    epochs.events[i][2] = y_syntheic[i]\n",
    "epochs.event_id = {'0':0,'1':1,'2':2,'3':3}\n",
    "\n",
    "epochs.pick_channels([\"C3\",\"C4\"])\n",
    "cnorm = TwoSlopeNorm(vmin=vmin, vcenter=0, vmax=vmax)\n",
    "kwargs = dict(n_permutations=100, step_down_p=0.05, seed=1,\n",
    "                  buffer_size=None, out_type='mask')\n",
    "tfr = tfr_multitaper(epochs, freqs=freqs, n_cycles=freqs, use_fft=True,return_itc=False, average=False, decim=1)\n",
    "tfr.crop(tmin, tmax).apply_baseline(baseline, mode=\"percent\")\n",
    "df = tfr.to_data_frame(time_format=None, long_format=True)\n",
    "df['band'] = pd.cut(df['freq'], list(freq_bounds.values()),\n",
    "                    labels=list(freq_bounds)[1:])\n",
    "\n",
    "\n",
    "\n",
    "df = df[df.band.isin(freq_bands_of_interest)]\n",
    "\n",
    "df['band'] = df['band'].cat.remove_unused_categories()\n",
    "\n",
    "# Order channels for plotting:\n",
    "df['channel'] = df['channel'].cat.reorder_categories(('C3', 'C4'),\n",
    "                                                     ordered=True)\n",
    "\n",
    "g = sns.FacetGrid(df, row='band', col='condition')\n",
    "g.map(sns.lineplot, 'time', 'value', 'channel', n_boot=10)\n",
    "axline_kw = dict(color='black', linestyle='dashed', linewidth=0.5, alpha=0.5)\n",
    "g.map(plt.axhline, y=0, **axline_kw)\n",
    "g.map(plt.axvline, x=0, **axline_kw)\n",
    "g.set(ylim=(-1, None))\n",
    "g.set_axis_labels(\"Time (s)\", \"ERDS (%)\")\n",
    "g.set_titles(col_template=\"{col_name}\", row_template=\"{row_name}\")\n",
    "g.add_legend(ncol=2, loc='lower center')\n",
    "g.fig.subplots_adjust(left=0.1, right=0.9, top=0.9, bottom=0.08)\n",
    "\n",
    "#g.savefig(\"ERD/{0}_ERD_S{1}.png\".format(runs_name[i],subjects[0]))\n",
    "#g.savefig(\"unicorn/{0}_ERD_S{1}.png\".format(runs_name[i],subjects[0]))\n",
    "g.fig#.clf()"
   ],
   "metadata": {
    "collapsed": false
   }
  },
  {
   "cell_type": "code",
   "execution_count": null,
   "outputs": [],
   "source": [],
   "metadata": {
    "collapsed": false
   }
  },
  {
   "cell_type": "code",
   "execution_count": null,
   "outputs": [],
   "source": [],
   "metadata": {
    "collapsed": false
   }
  },
  {
   "cell_type": "code",
   "execution_count": null,
   "outputs": [],
   "source": [],
   "metadata": {
    "collapsed": false
   }
  }
 ],
 "metadata": {
  "kernelspec": {
   "display_name": "Python 3",
   "language": "python",
   "name": "python3"
  },
  "language_info": {
   "codemirror_mode": {
    "name": "ipython",
    "version": 2
   },
   "file_extension": ".py",
   "mimetype": "text/x-python",
   "name": "python",
   "nbconvert_exporter": "python",
   "pygments_lexer": "ipython2",
   "version": "2.7.6"
  }
 },
 "nbformat": 4,
 "nbformat_minor": 0
}
