{
 "cells": [
  {
   "cell_type": "code",
   "execution_count": 1,
   "id": "9c98b0ee-e674-429f-a390-d664ef22eeb8",
   "metadata": {},
   "outputs": [],
   "source": [
    "import numpy as np\n",
    "import matplotlib.pyplot as plt\n",
    "import mne\n",
    "import os\n",
    "import sys\n",
    "from mne.datasets import eegbci\n",
    "import glob\n",
    "from IPython.display import clear_output\n",
    "import numpy as np\n",
    "import torch\n",
    "from torch import nn\n",
    "import torch.optim as optim\n",
    "\n",
    "from mne.datasets import eegbci\n",
    "from sklearn.model_selection import train_test_split\n",
    "from torch.utils.data import TensorDataset\n",
    "from torch.utils.data import DataLoader\n",
    "from scipy import signal\n",
    "\n",
    "import torch\n",
    "import torch.cuda as cuda\n",
    "import torch.nn as nn\n",
    "from torch.autograd import Variable\n",
    "import math\n",
    "import wandb\n"
   ]
  },
  {
   "cell_type": "code",
   "execution_count": null,
   "id": "ff63f68d-e220-4fbd-9acd-987ca72107d0",
   "metadata": {},
   "outputs": [],
   "source": []
  },
  {
   "cell_type": "code",
   "execution_count": 2,
   "id": "ac7f0904-0005-4184-93fc-3f0bd2cd815e",
   "metadata": {},
   "outputs": [
    {
     "data": {
      "text/plain": [
       "True"
      ]
     },
     "execution_count": 2,
     "metadata": {},
     "output_type": "execute_result"
    }
   ],
   "source": [
    "torch.cuda.is_available()"
   ]
  },
  {
   "cell_type": "code",
   "execution_count": 3,
   "id": "1b75684e-46b1-4b7a-9d2b-f77dddfd943b",
   "metadata": {},
   "outputs": [],
   "source": [
    "from common import EEG_fif\n",
    "from common import create_dataloader"
   ]
  },
  {
   "cell_type": "code",
   "execution_count": null,
   "id": "0798d879-5120-4680-b9fb-94fd92704865",
   "metadata": {},
   "outputs": [],
   "source": []
  },
  {
   "cell_type": "code",
   "execution_count": 4,
   "id": "9c66b031-4c3d-4b03-8c50-90c2d4e2573a",
   "metadata": {},
   "outputs": [
    {
     "name": "stdout",
     "output_type": "stream",
     "text": [
      "\n",
      "\n"
     ]
    },
    {
     "name": "stderr",
     "output_type": "stream",
     "text": [
      "/home/nutapolt/eeg_mi/common.py:627: RuntimeWarning: This filename (S009/S009R03.fif) does not conform to MNE naming conventions. All raw files should end with raw.fif, raw_sss.fif, raw_tsss.fif, _meg.fif, _eeg.fif, _ieeg.fif, raw.fif.gz, raw_sss.fif.gz, raw_tsss.fif.gz, _meg.fif.gz, _eeg.fif.gz or _ieeg.fif.gz\n",
      "  raw = mne.io.read_raw_fif( path_file , preload=True, verbose='WARNING' )\n"
     ]
    },
    {
     "name": "stdout",
     "output_type": "stream",
     "text": [
      "Raw done\n",
      "Setting up band-stop filter\n",
      "\n",
      "FIR filter parameters\n",
      "---------------------\n",
      "Designing a one-pass, zero-phase, non-causal bandstop filter:\n",
      "- Windowed time-domain design (firwin) method\n",
      "- Hamming window with 0.0194 passband ripple and 53 dB stopband attenuation\n",
      "- Lower transition bandwidth: 0.50 Hz\n",
      "- Upper transition bandwidth: 0.50 Hz\n",
      "- Filter length: 1651 samples (6.604 sec)\n",
      "\n"
     ]
    },
    {
     "name": "stderr",
     "output_type": "stream",
     "text": [
      "/home/nutapolt/eeg_mi/common.py:627: RuntimeWarning: This filename (S009/S009R05.fif) does not conform to MNE naming conventions. All raw files should end with raw.fif, raw_sss.fif, raw_tsss.fif, _meg.fif, _eeg.fif, _ieeg.fif, raw.fif.gz, raw_sss.fif.gz, raw_tsss.fif.gz, _meg.fif.gz, _eeg.fif.gz or _ieeg.fif.gz\n",
      "  raw = mne.io.read_raw_fif( path_file , preload=True, verbose='WARNING' )\n",
      "/home/nutapolt/eeg_mi/common.py:627: RuntimeWarning: This filename (S009/S009R07.fif) does not conform to MNE naming conventions. All raw files should end with raw.fif, raw_sss.fif, raw_tsss.fif, _meg.fif, _eeg.fif, _ieeg.fif, raw.fif.gz, raw_sss.fif.gz, raw_tsss.fif.gz, _meg.fif.gz, _eeg.fif.gz or _ieeg.fif.gz\n",
      "  raw = mne.io.read_raw_fif( path_file , preload=True, verbose='WARNING' )\n",
      "/home/nutapolt/eeg_mi/common.py:627: RuntimeWarning: This filename (S009/S009R09.fif) does not conform to MNE naming conventions. All raw files should end with raw.fif, raw_sss.fif, raw_tsss.fif, _meg.fif, _eeg.fif, _ieeg.fif, raw.fif.gz, raw_sss.fif.gz, raw_tsss.fif.gz, _meg.fif.gz, _eeg.fif.gz or _ieeg.fif.gz\n",
      "  raw = mne.io.read_raw_fif( path_file , preload=True, verbose='WARNING' )\n",
      "/home/nutapolt/eeg_mi/common.py:627: RuntimeWarning: This filename (S009/S009R04.fif) does not conform to MNE naming conventions. All raw files should end with raw.fif, raw_sss.fif, raw_tsss.fif, _meg.fif, _eeg.fif, _ieeg.fif, raw.fif.gz, raw_sss.fif.gz, raw_tsss.fif.gz, _meg.fif.gz, _eeg.fif.gz or _ieeg.fif.gz\n",
      "  raw = mne.io.read_raw_fif( path_file , preload=True, verbose='WARNING' )\n",
      "/home/nutapolt/eeg_mi/common.py:627: RuntimeWarning: This filename (S009/S009R06.fif) does not conform to MNE naming conventions. All raw files should end with raw.fif, raw_sss.fif, raw_tsss.fif, _meg.fif, _eeg.fif, _ieeg.fif, raw.fif.gz, raw_sss.fif.gz, raw_tsss.fif.gz, _meg.fif.gz, _eeg.fif.gz or _ieeg.fif.gz\n",
      "  raw = mne.io.read_raw_fif( path_file , preload=True, verbose='WARNING' )\n",
      "/home/nutapolt/eeg_mi/common.py:627: RuntimeWarning: This filename (S009/S009R08.fif) does not conform to MNE naming conventions. All raw files should end with raw.fif, raw_sss.fif, raw_tsss.fif, _meg.fif, _eeg.fif, _ieeg.fif, raw.fif.gz, raw_sss.fif.gz, raw_tsss.fif.gz, _meg.fif.gz, _eeg.fif.gz or _ieeg.fif.gz\n",
      "  raw = mne.io.read_raw_fif( path_file , preload=True, verbose='WARNING' )\n",
      "/home/nutapolt/eeg_mi/common.py:627: RuntimeWarning: This filename (S009/S009R10.fif) does not conform to MNE naming conventions. All raw files should end with raw.fif, raw_sss.fif, raw_tsss.fif, _meg.fif, _eeg.fif, _ieeg.fif, raw.fif.gz, raw_sss.fif.gz, raw_tsss.fif.gz, _meg.fif.gz, _eeg.fif.gz or _ieeg.fif.gz\n",
      "  raw = mne.io.read_raw_fif( path_file , preload=True, verbose='WARNING' )\n",
      "/home/nutapolt/eeg_mi/common.py:627: RuntimeWarning: This filename (S009/S009R03.fif) does not conform to MNE naming conventions. All raw files should end with raw.fif, raw_sss.fif, raw_tsss.fif, _meg.fif, _eeg.fif, _ieeg.fif, raw.fif.gz, raw_sss.fif.gz, raw_tsss.fif.gz, _meg.fif.gz, _eeg.fif.gz or _ieeg.fif.gz\n",
      "  raw = mne.io.read_raw_fif( path_file , preload=True, verbose='WARNING' )\n",
      "/home/nutapolt/eeg_mi/common.py:627: RuntimeWarning: This filename (S009/S009R05.fif) does not conform to MNE naming conventions. All raw files should end with raw.fif, raw_sss.fif, raw_tsss.fif, _meg.fif, _eeg.fif, _ieeg.fif, raw.fif.gz, raw_sss.fif.gz, raw_tsss.fif.gz, _meg.fif.gz, _eeg.fif.gz or _ieeg.fif.gz\n",
      "  raw = mne.io.read_raw_fif( path_file , preload=True, verbose='WARNING' )\n",
      "/home/nutapolt/eeg_mi/common.py:627: RuntimeWarning: This filename (S009/S009R07.fif) does not conform to MNE naming conventions. All raw files should end with raw.fif, raw_sss.fif, raw_tsss.fif, _meg.fif, _eeg.fif, _ieeg.fif, raw.fif.gz, raw_sss.fif.gz, raw_tsss.fif.gz, _meg.fif.gz, _eeg.fif.gz or _ieeg.fif.gz\n",
      "  raw = mne.io.read_raw_fif( path_file , preload=True, verbose='WARNING' )\n",
      "/home/nutapolt/eeg_mi/common.py:627: RuntimeWarning: This filename (S009/S009R09.fif) does not conform to MNE naming conventions. All raw files should end with raw.fif, raw_sss.fif, raw_tsss.fif, _meg.fif, _eeg.fif, _ieeg.fif, raw.fif.gz, raw_sss.fif.gz, raw_tsss.fif.gz, _meg.fif.gz, _eeg.fif.gz or _ieeg.fif.gz\n",
      "  raw = mne.io.read_raw_fif( path_file , preload=True, verbose='WARNING' )\n",
      "/home/nutapolt/eeg_mi/common.py:627: RuntimeWarning: This filename (S009/S009R04.fif) does not conform to MNE naming conventions. All raw files should end with raw.fif, raw_sss.fif, raw_tsss.fif, _meg.fif, _eeg.fif, _ieeg.fif, raw.fif.gz, raw_sss.fif.gz, raw_tsss.fif.gz, _meg.fif.gz, _eeg.fif.gz or _ieeg.fif.gz\n",
      "  raw = mne.io.read_raw_fif( path_file , preload=True, verbose='WARNING' )\n",
      "/home/nutapolt/eeg_mi/common.py:627: RuntimeWarning: This filename (S009/S009R06.fif) does not conform to MNE naming conventions. All raw files should end with raw.fif, raw_sss.fif, raw_tsss.fif, _meg.fif, _eeg.fif, _ieeg.fif, raw.fif.gz, raw_sss.fif.gz, raw_tsss.fif.gz, _meg.fif.gz, _eeg.fif.gz or _ieeg.fif.gz\n",
      "  raw = mne.io.read_raw_fif( path_file , preload=True, verbose='WARNING' )\n",
      "/home/nutapolt/eeg_mi/common.py:627: RuntimeWarning: This filename (S009/S009R08.fif) does not conform to MNE naming conventions. All raw files should end with raw.fif, raw_sss.fif, raw_tsss.fif, _meg.fif, _eeg.fif, _ieeg.fif, raw.fif.gz, raw_sss.fif.gz, raw_tsss.fif.gz, _meg.fif.gz, _eeg.fif.gz or _ieeg.fif.gz\n",
      "  raw = mne.io.read_raw_fif( path_file , preload=True, verbose='WARNING' )\n",
      "/home/nutapolt/eeg_mi/common.py:627: RuntimeWarning: This filename (S009/S009R10.fif) does not conform to MNE naming conventions. All raw files should end with raw.fif, raw_sss.fif, raw_tsss.fif, _meg.fif, _eeg.fif, _ieeg.fif, raw.fif.gz, raw_sss.fif.gz, raw_tsss.fif.gz, _meg.fif.gz, _eeg.fif.gz or _ieeg.fif.gz\n",
      "  raw = mne.io.read_raw_fif( path_file , preload=True, verbose='WARNING' )\n"
     ]
    },
    {
     "name": "stdout",
     "output_type": "stream",
     "text": [
      "Filtering raw data in 8 contiguous segments\n",
      "Setting up band-pass filter from 8 - 14 Hz\n",
      "\n",
      "FIR filter parameters\n",
      "---------------------\n",
      "Designing a one-pass, zero-phase, non-causal bandpass filter:\n",
      "- Windowed time-domain design (firwin) method\n",
      "- Hamming window with 0.0194 passband ripple and 53 dB stopband attenuation\n",
      "- Lower passband edge: 8.00\n",
      "- Lower transition bandwidth: 2.00 Hz (-6 dB cutoff frequency: 7.00 Hz)\n",
      "- Upper passband edge: 14.00 Hz\n",
      "- Upper transition bandwidth: 3.50 Hz (-6 dB cutoff frequency: 15.75 Hz)\n",
      "- Filter length: 413 samples (1.652 sec)\n",
      "\n",
      "Filter done\n"
     ]
    },
    {
     "name": "stderr",
     "output_type": "stream",
     "text": [
      "[Parallel(n_jobs=1)]: Using backend SequentialBackend with 1 concurrent workers.\n",
      "[Parallel(n_jobs=1)]: Done   1 out of   1 | elapsed:    0.0s remaining:    0.0s\n",
      "[Parallel(n_jobs=1)]: Done   2 out of   2 | elapsed:    0.0s remaining:    0.0s\n",
      "[Parallel(n_jobs=1)]: Done   3 out of   3 | elapsed:    0.0s remaining:    0.0s\n",
      "[Parallel(n_jobs=1)]: Done   4 out of   4 | elapsed:    0.0s remaining:    0.0s\n",
      "[Parallel(n_jobs=1)]: Done   8 out of   8 | elapsed:    0.0s finished\n",
      "[Parallel(n_jobs=1)]: Using backend SequentialBackend with 1 concurrent workers.\n",
      "[Parallel(n_jobs=1)]: Done   1 out of   1 | elapsed:    0.0s remaining:    0.0s\n",
      "[Parallel(n_jobs=1)]: Done   2 out of   2 | elapsed:    0.0s remaining:    0.0s\n",
      "[Parallel(n_jobs=1)]: Done   3 out of   3 | elapsed:    0.0s remaining:    0.0s\n",
      "[Parallel(n_jobs=1)]: Done   4 out of   4 | elapsed:    0.0s remaining:    0.0s\n",
      "[Parallel(n_jobs=1)]: Done   8 out of   8 | elapsed:    0.0s finished\n"
     ]
    }
   ],
   "source": [
    "# home directory + datasets folder\n",
    "#path = '/content/drive/MyDrive/MNE-eegbci-data/files/eegmmidb/'\n",
    "path = ''\n",
    "base_url = 'https://physionet.org/files/eegmmidb/'\n",
    "#runs = [4, 6, 8, 10, 12,14]\n",
    "#runs = [3,5,7,9,11,13]\n",
    "#runs = [3,4,5,6,7,8,9,10,11,12,13,14]\n",
    "\n",
    "n_type = \"ALL\"\n",
    "#n_type = \"MI\"\n",
    "#n_type = \"EX\"\n",
    "#runs = [3,5,7,9]\n",
    "#runs = [4,6,8,10]\n",
    "runs = [3,5,7,9,4,6,8,10]\n",
    "\n",
    "#subjects = [20,31,48,50,54,55,59,62]\n",
    "subjects = [9]\n",
    "print(path)\n",
    "eeg = EEG_fif(path, base_url, subjects, runs)\n",
    "raw=eeg.data_to_raw()\n",
    "\n",
    "print(\"Raw done\")\n",
    "# apply filter\n",
    "#freq = (1., 45.)\n",
    "\n",
    "#raw=eeg.raw_ica(n_components=8,max_iter=1000)\n",
    "raw=raw.notch_filter([50,75,100])\n",
    "\n",
    "#raw=raw.notch_filter([13,14,15,16,17])\n",
    "raw=raw.filter( 8,14, method='fir', verbose=20)\n",
    "#raw=raw.filter( 8,27, method='fir', verbose=20)\n",
    "#for i in range(5):\n",
    "#    raw=raw.notch_filter([13+i])\n",
    "#    print(13+i)\n",
    "print(\"Filter done\")"
   ]
  },
  {
   "cell_type": "code",
   "execution_count": 5,
   "id": "b97dae19-a54d-4fda-af54-a25b7157096a",
   "metadata": {},
   "outputs": [
    {
     "data": {
      "text/plain": [
       "['C3', 'C4', 'STIM MARKERS']"
      ]
     },
     "execution_count": 5,
     "metadata": {},
     "output_type": "execute_result"
    }
   ],
   "source": [
    "#raw = raw.drop_channels(['Fp1', 'Fp2', 'P7', 'P8', 'O1', 'O2'])\n",
    "raw=raw.pick_channels(['C3', 'C4', 'STIM MARKERS'])\n",
    "# raw = raw.drop_channels(['Fz',\n",
    "#  'Cz',\n",
    "#  'Pz',\n",
    "#  'PO7',\n",
    "#  'Oz',\n",
    "#  'PO8',\n",
    "#  'F5',\n",
    "#  'F7',\n",
    "#  'F3',\n",
    "#  'F1',\n",
    "#  'F2',\n",
    "#  'F4',\n",
    "#  'F6',\n",
    "#  'F8'])\n",
    "raw.ch_names"
   ]
  },
  {
   "cell_type": "code",
   "execution_count": 6,
   "id": "05d1c640-12c5-49ec-80f0-8890ec4c5462",
   "metadata": {},
   "outputs": [
    {
     "name": "stdout",
     "output_type": "stream",
     "text": [
      "Effective window size : 8.192 (s)\n"
     ]
    },
    {
     "name": "stderr",
     "output_type": "stream",
     "text": [
      "[Parallel(n_jobs=1)]: Using backend SequentialBackend with 1 concurrent workers.\n",
      "[Parallel(n_jobs=1)]: Done   1 out of   1 | elapsed:    0.0s remaining:    0.0s\n",
      "[Parallel(n_jobs=1)]: Done   1 out of   1 | elapsed:    0.0s finished\n"
     ]
    },
    {
     "data": {
      "image/png": "[encoded data removed]",
      "text/plain": [
       "<MNELineFigure size 1000x350 with 2 Axes>"
      ]
     },
     "metadata": {},
     "output_type": "display_data"
    },
    {
     "data": {
      "image/png": "[encoded data removed]",
      "text/plain": [
       "<MNELineFigure size 1000x350 with 2 Axes>"
      ]
     },
     "execution_count": 6,
     "metadata": {},
     "output_type": "execute_result"
    }
   ],
   "source": [
    "eeg.raw.plot_psd(fmax=20)"
   ]
  },
  {
   "cell_type": "code",
   "execution_count": 7,
   "id": "a230de8a-3651-4dd8-834f-060482bfe81c",
   "metadata": {},
   "outputs": [
    {
     "name": "stdout",
     "output_type": "stream",
     "text": [
      "480 events found\n",
      "Event IDs: [1 2 4]\n",
      "Not setting metadata\n",
      "160 matching events found\n",
      "Applying baseline correction (mode: mean)\n",
      "0 projection items activated\n",
      "Using data from preloaded Raw for 160 events and 1751 original time points ...\n",
      "8 bad epochs dropped\n"
     ]
    },
    {
     "name": "stderr",
     "output_type": "stream",
     "text": [
      "/home/nutapolt/eeg_mi/common.py:657: RuntimeWarning: No matching events found for 3 (event id 3)\n",
      "  epochs = mne.Epochs(\n"
     ]
    }
   ],
   "source": [
    "#epochs=eeg.epochs_visu(raw,tmin=0,tmax=6,baseline=(0,3))\n",
    "epochs=eeg.epochs_visu(raw,tmin=0,tmax=7,baseline=(0,2))"
   ]
  },
  {
   "cell_type": "code",
   "execution_count": 8,
   "id": "74fdce51-777c-4bef-8e71-36a5cc3430e7",
   "metadata": {},
   "outputs": [
    {
     "data": {
      "text/html": [
       "<table class=\"table table-hover table-striped table-sm table-responsive small\">\n",
       "    <tr>\n",
       "        <th>Number of events</th>\n",
       "        <td>152</td>\n",
       "    </tr>\n",
       "    <tr>\n",
       "        <th>Events</th>\n",
       "        \n",
       "        <td>3: 0<br/>Left: 72<br/>Right: 80</td>\n",
       "        \n",
       "    </tr>\n",
       "    <tr>\n",
       "        <th>Time range</th>\n",
       "        <td>0.000 – 7.000 sec</td>\n",
       "    </tr>\n",
       "    <tr>\n",
       "        <th>Baseline</th>\n",
       "        <td>0.000 – 2.000 sec</td>\n",
       "    </tr>\n",
       "</table>"
      ],
      "text/plain": [
       "<Epochs |  152 events (all good), 0 - 7 sec, baseline 0 – 2 sec, ~4.1 MB, data loaded,\n",
       " 'Left': 72\n",
       " 'Right': 80\n",
       " '3': 0>"
      ]
     },
     "execution_count": 8,
     "metadata": {},
     "output_type": "execute_result"
    }
   ],
   "source": [
    "epochs"
   ]
  },
  {
   "cell_type": "code",
   "execution_count": 9,
   "id": "eeb0f3ae-0df7-484d-8e41-62e49a05b080",
   "metadata": {},
   "outputs": [
    {
     "name": "stdout",
     "output_type": "stream",
     "text": [
      "(152, 2, 1751)\n",
      "(152, 2, 1438)\n"
     ]
    },
    {
     "data": {
      "text/plain": [
       "array([0, 1, 0, 1, 0, 1, 0, 1, 0, 1, 0, 1, 0, 1, 0, 1, 0, 1, 0, 0, 1, 0,\n",
       "       1, 0, 1, 0, 1, 0, 1, 0, 1, 0, 1, 0, 1, 0, 1, 0, 0, 1, 0, 1, 0, 1,\n",
       "       0, 1, 0, 1, 0, 1, 0, 1, 0, 1, 0, 1, 0, 0, 1, 0, 1, 0, 1, 0, 1, 0,\n",
       "       1, 0, 1, 0, 1, 0, 1, 0, 1, 0, 0, 1, 0, 1, 0, 1, 0, 1, 0, 1, 0, 1,\n",
       "       0, 1, 0, 1, 0, 1, 0, 0, 1, 0, 1, 0, 1, 0, 1, 0, 1, 0, 1, 0, 1, 0,\n",
       "       1, 0, 1, 0, 0, 1, 0, 1, 0, 1, 0, 1, 0, 1, 0, 1, 0, 1, 0, 1, 0, 1,\n",
       "       0, 0, 1, 0, 1, 0, 1, 0, 1, 0, 1, 0, 1, 0, 1, 0, 1, 0, 1, 0])"
      ]
     },
     "execution_count": 9,
     "metadata": {},
     "output_type": "execute_result"
    }
   ],
   "source": [
    "#X = X[:, :,np.newaxis,:]\n",
    "X, y = eeg.get_X_y(epochs)\n",
    "print(X.shape)\n",
    "X=X[:,:,int(0.25*250):1500]\n",
    "#X = X[:, np.newaxis,:,:]\n",
    "print(X.shape)\n",
    "y=y-1\n",
    "y"
   ]
  },
  {
   "cell_type": "code",
   "execution_count": 10,
   "id": "36138a5b-8974-498f-b712-4da295552b7b",
   "metadata": {},
   "outputs": [
    {
     "name": "stdout",
     "output_type": "stream",
     "text": [
      "train size (106, 2, 1438) (106,)\n",
      "Test size (46, 2, 1438) (46,)\n"
     ]
    }
   ],
   "source": [
    "X_train, X_test, y_train, y_test = train_test_split(X, y, test_size=0.3,stratify=y)\n",
    "\n",
    "print('train size',X_train.shape, y_train.shape)\n",
    "print('Test size',X_test.shape, y_test.shape)"
   ]
  },
  {
   "cell_type": "code",
   "execution_count": 11,
   "id": "3d0b5c85-1d11-49f3-bc46-0650dd6b810c",
   "metadata": {},
   "outputs": [
    {
     "data": {
      "text/plain": [
       "array([0, 1, 0, 0, 0, 1, 1, 0, 1, 0, 0, 0, 0, 0, 0, 1, 0, 1, 1, 0, 1, 1,\n",
       "       0, 1, 1, 0, 0, 0, 1, 0, 0, 1, 1, 1, 1, 1, 0, 0, 0, 1, 0, 1, 1, 1,\n",
       "       0, 1])"
      ]
     },
     "execution_count": 11,
     "metadata": {},
     "output_type": "execute_result"
    }
   ],
   "source": [
    "y_test"
   ]
  },
  {
   "cell_type": "code",
   "execution_count": 12,
   "id": "4bece4f5-7c27-497d-9ee0-bf4ba68fae50",
   "metadata": {},
   "outputs": [],
   "source": [
    "\n",
    "\n",
    "\n",
    "batch_size = X_train.shape[2]\n",
    "\n",
    "train_loader = create_dataloader(X_train, y_train, batch_size=batch_size)\n",
    "test_loader = create_dataloader(X_test, y_test, batch_size=batch_size)\n",
    "\n",
    "num_step =math.ceil(len(train_loader.dataset) / batch_size)\n",
    "\n",
    "\n",
    "\n",
    "in_channels  = X.shape[1] #C3, C4\n",
    "out_channels = 64  #five is logical because we have freq= 8, 9, 10, 11, 12 that we want to capture\n",
    "out_size     = 2  #left or right\n",
    "kernel_size  = 5\n",
    "\n",
    "\n"
   ]
  },
  {
   "cell_type": "code",
   "execution_count": 13,
   "id": "16452627-8e5a-472e-83ae-6cf2c0309b6a",
   "metadata": {},
   "outputs": [],
   "source": [
    "\n",
    "# Convolutional neural network (two convolutional layers)\n",
    "class ConvNet(nn.Module):\n",
    "    def __init__(self, in_channels, out_channels, kernel_size, out_size):\n",
    "        super().__init__()\n",
    "        #using sequential helps bind multiple operations together\n",
    "        self.layer1 = nn.Sequential(\n",
    "            #padding = (kernel_size - 1) / 2 = 2\n",
    "            nn.Conv1d(in_channels, out_channels, kernel_size=kernel_size, stride=1, padding=2),\n",
    "            nn.BatchNorm1d(out_channels),\n",
    "            nn.ReLU(),\n",
    "            # nn.MaxPool2d(kernel_size=2, stride=2)\n",
    "        )\n",
    "        self.layer2 = nn.Sequential(\n",
    "            nn.Conv1d(out_channels, out_channels*2, kernel_size=kernel_size, stride=1, padding=2),\n",
    "            nn.BatchNorm1d(out_channels*2),\n",
    "            nn.ReLU(),\n",
    "            # nn.MaxPool2d(kernel_size=2, stride=2)\n",
    "        )\n",
    "        self.layer3 = nn.Sequential(\n",
    "            nn.Conv1d(out_channels*2, out_channels, kernel_size=kernel_size, stride=1, padding=2),\n",
    "            nn.BatchNorm1d(out_channels),\n",
    "            nn.ReLU(),\n",
    "        )\n",
    "        \n",
    "        \n",
    "        self.fc = nn.Linear(linear_shape  , out_size)\n",
    "        #self.fc = nn.Linear(80064 , 2)\n",
    "        \n",
    "        self.drop_out = nn.Dropout(0.5)\n",
    "        \n",
    "    def forward(self, x):\n",
    "        out = self.layer1(x)\n",
    "        out = self.drop_out(out)\n",
    "        out = self.layer2(out)\n",
    "        out = self.drop_out(out)\n",
    "        out = self.layer3(out)\n",
    "        #out = self.drop_out(out)\n",
    "        #out = self.layer4(out)\n",
    "        #out = self.drop_out(out)\n",
    "\n",
    "        out = out.reshape(out.size(0), -1)   #can also use .view()\n",
    "        out = self.fc(out)\n",
    "        return out"
   ]
  },
  {
   "cell_type": "code",
   "execution_count": null,
   "id": "7db80edd-1700-4fbc-bb1a-a409da0fd687",
   "metadata": {},
   "outputs": [],
   "source": []
  },
  {
   "cell_type": "code",
   "execution_count": 14,
   "id": "ca4606ad-9b0b-4ba8-9b77-35dd39ea4d1f",
   "metadata": {},
   "outputs": [],
   "source": [
    "x_train = torch.FloatTensor(X_train)"
   ]
  },
  {
   "cell_type": "code",
   "execution_count": 15,
   "id": "1fa7bba3-17f0-47de-be87-6ccddc8a10b7",
   "metadata": {},
   "outputs": [],
   "source": [
    "fake_eeg_data = torch.randn_like(x_train) #(batch_size, channel, length)"
   ]
  },
  {
   "cell_type": "code",
   "execution_count": 16,
   "id": "78cbb4c6-8546-4df4-a8c3-bb7eced19b15",
   "metadata": {},
   "outputs": [],
   "source": [
    "layer1 = nn.Sequential(\n",
    "                #padding = (kernel_size - 1) / 2 = 2\n",
    "                nn.Conv1d(in_channels, out_channels, kernel_size=kernel_size, stride=1, padding=2),\n",
    "                nn.BatchNorm1d(out_channels),\n",
    "                nn.ReLU()\n",
    "                # nn.MaxPool2d(kernel_size=2, stride=2)\n",
    "            )\n",
    "layer2 = nn.Sequential(\n",
    "                nn.Conv1d(out_channels, out_channels*2, kernel_size=kernel_size, stride=1, padding=2),\n",
    "                nn.BatchNorm1d(out_channels*2),\n",
    "                nn.ReLU()\n",
    "                # nn.MaxPool2d(kernel_size=2, stride=2)\n",
    "            )\n",
    "layer3 = nn.Sequential(\n",
    "                nn.Conv1d(out_channels*2, out_channels, kernel_size=kernel_size, stride=1, padding=2),\n",
    "                nn.BatchNorm1d(out_channels),\n",
    "                nn.ReLU()\n",
    "            )\n",
    "\n",
    "\n",
    "out = layer1(fake_eeg_data)\n",
    "out = layer2(out)\n",
    "out = layer3(out)\n",
    "out = out.reshape(out.size(0), -1)\n",
    "linear_shape = out.shape[1]\n",
    "fc = nn.Linear(linear_shape, out_size)\n",
    "out = fc(out)"
   ]
  },
  {
   "cell_type": "code",
   "execution_count": 17,
   "id": "5ec9b73a-cf97-4621-87b1-f792c524814a",
   "metadata": {},
   "outputs": [
    {
     "data": {
      "text/plain": [
       "'NVIDIA RTX A6000'"
      ]
     },
     "execution_count": 17,
     "metadata": {},
     "output_type": "execute_result"
    }
   ],
   "source": [
    "torch.cuda.get_device_name(0)"
   ]
  },
  {
   "cell_type": "code",
   "execution_count": 18,
   "id": "226b7be4-73f5-48ef-b8c7-8c3a18dc2895",
   "metadata": {},
   "outputs": [
    {
     "name": "stderr",
     "output_type": "stream",
     "text": [
      "Failed to detect the name of this notebook, you can set it manually with the WANDB_NOTEBOOK_NAME environment variable to enable code saving.\n",
      "\u001b[34m\u001b[1mwandb\u001b[0m: Currently logged in as: \u001b[33mnutapol-1997\u001b[0m (\u001b[33meeg_mi\u001b[0m). Use \u001b[1m`wandb login --relogin`\u001b[0m to force relogin\n"
     ]
    },
    {
     "data": {
      "text/plain": [
       "True"
      ]
     },
     "execution_count": 18,
     "metadata": {},
     "output_type": "execute_result"
    }
   ],
   "source": [
    "wandb.login()"
   ]
  },
  {
   "cell_type": "code",
   "execution_count": 19,
   "id": "fa87b745-99cc-4923-812b-55882207f016",
   "metadata": {},
   "outputs": [],
   "source": [
    "import os\n",
    "os.environ['http_proxy'] = \"http://192.41.170.23:3128\" \n",
    "os.environ['https_proxy'] = \"http://192.41.170.23:3128\" "
   ]
  },
  {
   "cell_type": "code",
   "execution_count": 20,
   "id": "4451a37b-9e83-44ae-ab95-5375ad56a5c3",
   "metadata": {},
   "outputs": [
    {
     "data": {
      "text/html": [
       "wandb version 0.13.9 is available!  To upgrade, please run:\n",
       " $ pip install wandb --upgrade"
      ],
      "text/plain": [
       "<IPython.core.display.HTML object>"
      ]
     },
     "metadata": {},
     "output_type": "display_data"
    },
    {
     "data": {
      "text/html": [
       "Tracking run with wandb version 0.13.2"
      ],
      "text/plain": [
       "<IPython.core.display.HTML object>"
      ]
     },
     "metadata": {},
     "output_type": "display_data"
    },
    {
     "data": {
      "text/html": [
       "Run data is saved locally in <code>/home/nutapolt/eeg_mi/wandb/run-20230114_084131-2j40vrxh</code>"
      ],
      "text/plain": [
       "<IPython.core.display.HTML object>"
      ]
     },
     "metadata": {},
     "output_type": "display_data"
    },
    {
     "data": {
      "text/html": [
       "Syncing run <strong><a href=\"https://wandb.ai/eeg_mi/Motor-Imagery/runs/2j40vrxh\" target=\"_blank\">CNN_2class_S[9]_ALL_New</a></strong> to <a href=\"https://wandb.ai/eeg_mi/Motor-Imagery\" target=\"_blank\">Weights & Biases</a> (<a href=\"https://wandb.me/run\" target=\"_blank\">docs</a>)<br/>"
      ],
      "text/plain": [
       "<IPython.core.display.HTML object>"
      ]
     },
     "metadata": {},
     "output_type": "display_data"
    }
   ],
   "source": [
    "\n",
    "wand = wandb.init(\n",
    "        \n",
    "      # Set the project where this run will be logged\n",
    "      project=\"Motor-Imagery\", \n",
    "      # We pass a run name (otherwise it’ll be randomly assigned, like sunshine-lollypop-10)\n",
    "      name=\"CNN_2class_S{0}_{1}_New\".format(subjects[:],n_type), \n",
    "      # Track hyperparameters and run metadata\n",
    "      config={\n",
    "      \"learning_rate\": 0.0000001,\n",
    "      \"architecture\": \"CNN\",\n",
    "      \"dataset\": \"S{}\".format(subjects[0]),\n",
    "      \"epochs\": 100000,\n",
    "      \"weightname\":\"CNN_2class_S{0}_{1}_New\".format(subjects[:],n_type),\n",
    "      \"num_step_per_epoch\" : num_step, \n",
    "        \n",
    "      }\n",
    "    )\n",
    "\n"
   ]
  },
  {
   "cell_type": "code",
   "execution_count": null,
   "id": "3f7b67fe-a740-4c09-9665-3de9479c227a",
   "metadata": {},
   "outputs": [],
   "source": []
  },
  {
   "cell_type": "code",
   "execution_count": 21,
   "id": "cd656ad4-86d1-4210-8a3b-b9bac330e2c5",
   "metadata": {},
   "outputs": [
    {
     "name": "stdout",
     "output_type": "stream",
     "text": [
      "1\n"
     ]
    }
   ],
   "source": [
    "config = wand.config\n",
    "print(config.num_step_per_epoch)"
   ]
  },
  {
   "cell_type": "code",
   "execution_count": 22,
   "id": "a525b620-d5df-49d8-953c-6edfbd571ff5",
   "metadata": {},
   "outputs": [],
   "source": [
    "from common import train"
   ]
  },
  {
   "cell_type": "code",
   "execution_count": 23,
   "id": "af3ab67d-3ffe-42b6-b58e-69c4eba04627",
   "metadata": {},
   "outputs": [
    {
     "name": "stdout",
     "output_type": "stream",
     "text": [
      "Epoch 1/100000, Tr Loss: 0.7176, Tr Acc: 50.9434, Val Loss: 0.6924, Val Acc: 52.1739\n",
      "Epoch 101/100000, Tr Loss: 0.7533, Tr Acc: 50.9434, Val Loss: 0.7066, Val Acc: 45.6522\n",
      "Epoch 201/100000, Tr Loss: 0.7136, Tr Acc: 51.8868, Val Loss: 0.6904, Val Acc: 56.5217\n",
      "Epoch 301/100000, Tr Loss: 0.7238, Tr Acc: 51.8868, Val Loss: 0.6904, Val Acc: 56.5217\n",
      "Epoch 401/100000, Tr Loss: 0.7001, Tr Acc: 57.5472, Val Loss: 0.6926, Val Acc: 56.5217\n",
      "Epoch 501/100000, Tr Loss: 0.6999, Tr Acc: 54.7170, Val Loss: 0.6938, Val Acc: 52.1739\n",
      "Epoch 601/100000, Tr Loss: 0.6716, Tr Acc: 56.6038, Val Loss: 0.6920, Val Acc: 58.6957\n",
      "Epoch 701/100000, Tr Loss: 0.7038, Tr Acc: 51.8868, Val Loss: 0.6907, Val Acc: 56.5217\n",
      "Epoch 801/100000, Tr Loss: 0.6518, Tr Acc: 60.3774, Val Loss: 0.6931, Val Acc: 56.5217\n",
      "Epoch 901/100000, Tr Loss: 0.6578, Tr Acc: 64.1509, Val Loss: 0.6920, Val Acc: 60.8696\n",
      "Epoch 1001/100000, Tr Loss: 0.6563, Tr Acc: 61.3208, Val Loss: 0.6925, Val Acc: 56.5217\n",
      "Epoch 1101/100000, Tr Loss: 0.6436, Tr Acc: 66.0377, Val Loss: 0.6943, Val Acc: 56.5217\n",
      "Epoch 1201/100000, Tr Loss: 0.6577, Tr Acc: 62.2642, Val Loss: 0.6948, Val Acc: 56.5217\n",
      "Epoch 1301/100000, Tr Loss: 0.6478, Tr Acc: 65.0943, Val Loss: 0.6969, Val Acc: 54.3478\n",
      "Epoch 1401/100000, Tr Loss: 0.6327, Tr Acc: 66.9811, Val Loss: 0.6926, Val Acc: 60.8696\n",
      "Epoch 1501/100000, Tr Loss: 0.5730, Tr Acc: 68.8679, Val Loss: 0.6962, Val Acc: 56.5217\n",
      "Epoch 1601/100000, Tr Loss: 0.6093, Tr Acc: 64.1509, Val Loss: 0.6960, Val Acc: 47.8261\n",
      "Epoch 1701/100000, Tr Loss: 0.5965, Tr Acc: 71.6981, Val Loss: 0.6972, Val Acc: 50.0000\n",
      "Epoch 1801/100000, Tr Loss: 0.5910, Tr Acc: 74.5283, Val Loss: 0.7045, Val Acc: 47.8261\n",
      "Epoch 1901/100000, Tr Loss: 0.5620, Tr Acc: 73.5849, Val Loss: 0.6966, Val Acc: 54.3478\n",
      "Epoch 2001/100000, Tr Loss: 0.5501, Tr Acc: 76.4151, Val Loss: 0.7002, Val Acc: 50.0000\n",
      "Epoch 2101/100000, Tr Loss: 0.5644, Tr Acc: 71.6981, Val Loss: 0.7011, Val Acc: 50.0000\n",
      "Epoch 2201/100000, Tr Loss: 0.5502, Tr Acc: 75.4717, Val Loss: 0.7029, Val Acc: 50.0000\n",
      "Epoch 2301/100000, Tr Loss: 0.5734, Tr Acc: 73.5849, Val Loss: 0.7032, Val Acc: 47.8261\n",
      "Epoch 2401/100000, Tr Loss: 0.5769, Tr Acc: 66.9811, Val Loss: 0.7026, Val Acc: 50.0000\n",
      "Epoch 2501/100000, Tr Loss: 0.5678, Tr Acc: 71.6981, Val Loss: 0.7024, Val Acc: 52.1739\n",
      "Epoch 2601/100000, Tr Loss: 0.5435, Tr Acc: 80.1887, Val Loss: 0.7022, Val Acc: 52.1739\n",
      "Epoch 2701/100000, Tr Loss: 0.5122, Tr Acc: 81.1321, Val Loss: 0.7040, Val Acc: 52.1739\n",
      "Epoch 2801/100000, Tr Loss: 0.5446, Tr Acc: 74.5283, Val Loss: 0.7065, Val Acc: 45.6522\n",
      "Epoch 2901/100000, Tr Loss: 0.5044, Tr Acc: 77.3585, Val Loss: 0.7099, Val Acc: 47.8261\n",
      "Epoch 3001/100000, Tr Loss: 0.5278, Tr Acc: 78.3019, Val Loss: 0.7066, Val Acc: 50.0000\n",
      "Epoch 3101/100000, Tr Loss: 0.5155, Tr Acc: 80.1887, Val Loss: 0.7075, Val Acc: 47.8261\n",
      "Epoch 3201/100000, Tr Loss: 0.4624, Tr Acc: 86.7925, Val Loss: 0.7063, Val Acc: 47.8261\n",
      "Epoch 3301/100000, Tr Loss: 0.4920, Tr Acc: 79.2453, Val Loss: 0.7074, Val Acc: 50.0000\n",
      "Epoch 3401/100000, Tr Loss: 0.4843, Tr Acc: 81.1321, Val Loss: 0.7108, Val Acc: 50.0000\n",
      "Epoch 3501/100000, Tr Loss: 0.4882, Tr Acc: 82.0755, Val Loss: 0.7106, Val Acc: 54.3478\n",
      "Epoch 3601/100000, Tr Loss: 0.4764, Tr Acc: 82.0755, Val Loss: 0.7135, Val Acc: 45.6522\n",
      "Epoch 3701/100000, Tr Loss: 0.4698, Tr Acc: 82.0755, Val Loss: 0.7134, Val Acc: 47.8261\n",
      "Epoch 3801/100000, Tr Loss: 0.4799, Tr Acc: 82.0755, Val Loss: 0.7173, Val Acc: 45.6522\n",
      "Epoch 3901/100000, Tr Loss: 0.4767, Tr Acc: 78.3019, Val Loss: 0.7161, Val Acc: 52.1739\n",
      "Epoch 4001/100000, Tr Loss: 0.4560, Tr Acc: 86.7925, Val Loss: 0.7171, Val Acc: 52.1739\n",
      "Epoch 4101/100000, Tr Loss: 0.4555, Tr Acc: 83.0189, Val Loss: 0.7165, Val Acc: 50.0000\n",
      "Epoch 4201/100000, Tr Loss: 0.4733, Tr Acc: 83.0189, Val Loss: 0.7177, Val Acc: 52.1739\n",
      "Epoch 4301/100000, Tr Loss: 0.4613, Tr Acc: 85.8491, Val Loss: 0.7192, Val Acc: 52.1739\n",
      "Epoch 4401/100000, Tr Loss: 0.4520, Tr Acc: 81.1321, Val Loss: 0.7192, Val Acc: 54.3478\n",
      "Epoch 4501/100000, Tr Loss: 0.4488, Tr Acc: 85.8491, Val Loss: 0.7243, Val Acc: 52.1739\n",
      "Epoch 4601/100000, Tr Loss: 0.4369, Tr Acc: 85.8491, Val Loss: 0.7245, Val Acc: 45.6522\n",
      "Epoch 4701/100000, Tr Loss: 0.3981, Tr Acc: 87.7358, Val Loss: 0.7237, Val Acc: 54.3478\n",
      "Epoch 4801/100000, Tr Loss: 0.4290, Tr Acc: 86.7925, Val Loss: 0.7252, Val Acc: 52.1739\n",
      "Epoch 4901/100000, Tr Loss: 0.4248, Tr Acc: 92.4528, Val Loss: 0.7270, Val Acc: 52.1739\n",
      "Epoch 5001/100000, Tr Loss: 0.4045, Tr Acc: 88.6792, Val Loss: 0.7257, Val Acc: 54.3478\n",
      "Epoch 5101/100000, Tr Loss: 0.3879, Tr Acc: 92.4528, Val Loss: 0.7273, Val Acc: 54.3478\n",
      "Epoch 5201/100000, Tr Loss: 0.3714, Tr Acc: 90.5660, Val Loss: 0.7268, Val Acc: 54.3478\n",
      "Epoch 5301/100000, Tr Loss: 0.3997, Tr Acc: 88.6792, Val Loss: 0.7286, Val Acc: 54.3478\n",
      "Epoch 5401/100000, Tr Loss: 0.3816, Tr Acc: 90.5660, Val Loss: 0.7322, Val Acc: 54.3478\n",
      "Epoch 5501/100000, Tr Loss: 0.3820, Tr Acc: 94.3396, Val Loss: 0.7355, Val Acc: 54.3478\n",
      "Epoch 5601/100000, Tr Loss: 0.3530, Tr Acc: 92.4528, Val Loss: 0.7344, Val Acc: 54.3478\n",
      "Epoch 5701/100000, Tr Loss: 0.3837, Tr Acc: 90.5660, Val Loss: 0.7351, Val Acc: 56.5217\n",
      "Epoch 5801/100000, Tr Loss: 0.3603, Tr Acc: 92.4528, Val Loss: 0.7376, Val Acc: 54.3478\n",
      "Epoch 5901/100000, Tr Loss: 0.3689, Tr Acc: 90.5660, Val Loss: 0.7411, Val Acc: 52.1739\n",
      "Epoch 6001/100000, Tr Loss: 0.3361, Tr Acc: 93.3962, Val Loss: 0.7393, Val Acc: 54.3478\n",
      "Epoch 6101/100000, Tr Loss: 0.3243, Tr Acc: 96.2264, Val Loss: 0.7428, Val Acc: 56.5217\n",
      "Epoch 6201/100000, Tr Loss: 0.3253, Tr Acc: 93.3962, Val Loss: 0.7434, Val Acc: 56.5217\n",
      "Epoch 6301/100000, Tr Loss: 0.3367, Tr Acc: 94.3396, Val Loss: 0.7428, Val Acc: 54.3478\n",
      "Epoch 6401/100000, Tr Loss: 0.3445, Tr Acc: 91.5094, Val Loss: 0.7481, Val Acc: 54.3478\n",
      "Epoch 6501/100000, Tr Loss: 0.3147, Tr Acc: 94.3396, Val Loss: 0.7467, Val Acc: 52.1739\n",
      "Epoch 6601/100000, Tr Loss: 0.3305, Tr Acc: 93.3962, Val Loss: 0.7496, Val Acc: 56.5217\n",
      "Epoch 6701/100000, Tr Loss: 0.3138, Tr Acc: 96.2264, Val Loss: 0.7539, Val Acc: 56.5217\n",
      "Epoch 6801/100000, Tr Loss: 0.3229, Tr Acc: 94.3396, Val Loss: 0.7520, Val Acc: 52.1739\n",
      "Epoch 6901/100000, Tr Loss: 0.3076, Tr Acc: 95.2830, Val Loss: 0.7552, Val Acc: 52.1739\n",
      "Epoch 7001/100000, Tr Loss: 0.2884, Tr Acc: 98.1132, Val Loss: 0.7589, Val Acc: 54.3478\n",
      "Epoch 7101/100000, Tr Loss: 0.3058, Tr Acc: 96.2264, Val Loss: 0.7593, Val Acc: 54.3478\n",
      "Epoch 7201/100000, Tr Loss: 0.2865, Tr Acc: 98.1132, Val Loss: 0.7567, Val Acc: 54.3478\n",
      "Epoch 7301/100000, Tr Loss: 0.2910, Tr Acc: 97.1698, Val Loss: 0.7590, Val Acc: 52.1739\n",
      "Epoch 7401/100000, Tr Loss: 0.2968, Tr Acc: 96.2264, Val Loss: 0.7654, Val Acc: 54.3478\n",
      "Epoch 7501/100000, Tr Loss: 0.2871, Tr Acc: 96.2264, Val Loss: 0.7670, Val Acc: 56.5217\n",
      "Epoch 7601/100000, Tr Loss: 0.2768, Tr Acc: 100.0000, Val Loss: 0.7688, Val Acc: 54.3478\n",
      "Epoch 7701/100000, Tr Loss: 0.2768, Tr Acc: 98.1132, Val Loss: 0.7668, Val Acc: 56.5217\n",
      "Epoch 7801/100000, Tr Loss: 0.2745, Tr Acc: 100.0000, Val Loss: 0.7736, Val Acc: 58.6957\n",
      "Epoch 7901/100000, Tr Loss: 0.2662, Tr Acc: 96.2264, Val Loss: 0.7749, Val Acc: 56.5217\n",
      "Epoch 8001/100000, Tr Loss: 0.2794, Tr Acc: 96.2264, Val Loss: 0.7734, Val Acc: 54.3478\n",
      "Epoch 8101/100000, Tr Loss: 0.2505, Tr Acc: 99.0566, Val Loss: 0.7839, Val Acc: 54.3478\n",
      "Epoch 8201/100000, Tr Loss: 0.2388, Tr Acc: 98.1132, Val Loss: 0.7855, Val Acc: 56.5217\n",
      "Epoch 8301/100000, Tr Loss: 0.2568, Tr Acc: 98.1132, Val Loss: 0.7838, Val Acc: 54.3478\n",
      "Epoch 8401/100000, Tr Loss: 0.2453, Tr Acc: 98.1132, Val Loss: 0.7834, Val Acc: 54.3478\n",
      "Epoch 8501/100000, Tr Loss: 0.2513, Tr Acc: 97.1698, Val Loss: 0.7884, Val Acc: 56.5217\n",
      "Epoch 8601/100000, Tr Loss: 0.2337, Tr Acc: 97.1698, Val Loss: 0.7931, Val Acc: 56.5217\n",
      "Epoch 8701/100000, Tr Loss: 0.2300, Tr Acc: 97.1698, Val Loss: 0.7978, Val Acc: 56.5217\n",
      "Epoch 8801/100000, Tr Loss: 0.2442, Tr Acc: 98.1132, Val Loss: 0.7932, Val Acc: 54.3478\n",
      "Epoch 8901/100000, Tr Loss: 0.2156, Tr Acc: 98.1132, Val Loss: 0.7948, Val Acc: 56.5217\n",
      "Epoch 9001/100000, Tr Loss: 0.2216, Tr Acc: 100.0000, Val Loss: 0.8008, Val Acc: 56.5217\n",
      "Epoch 9101/100000, Tr Loss: 0.2282, Tr Acc: 98.1132, Val Loss: 0.7998, Val Acc: 56.5217\n",
      "Epoch 9201/100000, Tr Loss: 0.2128, Tr Acc: 99.0566, Val Loss: 0.8073, Val Acc: 56.5217\n",
      "Epoch 9301/100000, Tr Loss: 0.2260, Tr Acc: 99.0566, Val Loss: 0.8004, Val Acc: 54.3478\n",
      "Epoch 9401/100000, Tr Loss: 0.2337, Tr Acc: 94.3396, Val Loss: 0.8087, Val Acc: 56.5217\n",
      "Epoch 9501/100000, Tr Loss: 0.2154, Tr Acc: 100.0000, Val Loss: 0.8118, Val Acc: 56.5217\n",
      "Epoch 9601/100000, Tr Loss: 0.1967, Tr Acc: 97.1698, Val Loss: 0.8157, Val Acc: 56.5217\n",
      "Epoch 9701/100000, Tr Loss: 0.1989, Tr Acc: 100.0000, Val Loss: 0.8150, Val Acc: 56.5217\n",
      "Epoch 9801/100000, Tr Loss: 0.1847, Tr Acc: 100.0000, Val Loss: 0.8151, Val Acc: 54.3478\n",
      "Epoch 9901/100000, Tr Loss: 0.2010, Tr Acc: 100.0000, Val Loss: 0.8172, Val Acc: 54.3478\n",
      "Epoch 10001/100000, Tr Loss: 0.1832, Tr Acc: 99.0566, Val Loss: 0.8212, Val Acc: 56.5217\n",
      "Epoch 10101/100000, Tr Loss: 0.1847, Tr Acc: 100.0000, Val Loss: 0.8275, Val Acc: 56.5217\n",
      "Epoch 10201/100000, Tr Loss: 0.1843, Tr Acc: 99.0566, Val Loss: 0.8332, Val Acc: 56.5217\n",
      "Epoch 10301/100000, Tr Loss: 0.1921, Tr Acc: 99.0566, Val Loss: 0.8324, Val Acc: 56.5217\n",
      "Epoch 10401/100000, Tr Loss: 0.1851, Tr Acc: 99.0566, Val Loss: 0.8311, Val Acc: 56.5217\n",
      "Epoch 10501/100000, Tr Loss: 0.1861, Tr Acc: 99.0566, Val Loss: 0.8401, Val Acc: 56.5217\n",
      "Epoch 10601/100000, Tr Loss: 0.1816, Tr Acc: 100.0000, Val Loss: 0.8388, Val Acc: 56.5217\n",
      "Epoch 10701/100000, Tr Loss: 0.1767, Tr Acc: 99.0566, Val Loss: 0.8417, Val Acc: 56.5217\n",
      "Epoch 10801/100000, Tr Loss: 0.1783, Tr Acc: 100.0000, Val Loss: 0.8455, Val Acc: 56.5217\n",
      "Epoch 10901/100000, Tr Loss: 0.1724, Tr Acc: 100.0000, Val Loss: 0.8462, Val Acc: 56.5217\n",
      "Epoch 11001/100000, Tr Loss: 0.1657, Tr Acc: 100.0000, Val Loss: 0.8572, Val Acc: 56.5217\n",
      "Epoch 11101/100000, Tr Loss: 0.1630, Tr Acc: 100.0000, Val Loss: 0.8542, Val Acc: 56.5217\n",
      "Epoch 11201/100000, Tr Loss: 0.1608, Tr Acc: 99.0566, Val Loss: 0.8629, Val Acc: 56.5217\n",
      "Epoch 11301/100000, Tr Loss: 0.1564, Tr Acc: 100.0000, Val Loss: 0.8670, Val Acc: 54.3478\n",
      "Epoch 11401/100000, Tr Loss: 0.1542, Tr Acc: 100.0000, Val Loss: 0.8672, Val Acc: 56.5217\n",
      "Epoch 11501/100000, Tr Loss: 0.1422, Tr Acc: 100.0000, Val Loss: 0.8662, Val Acc: 56.5217\n",
      "Epoch 11601/100000, Tr Loss: 0.1540, Tr Acc: 100.0000, Val Loss: 0.8720, Val Acc: 56.5217\n",
      "Epoch 11701/100000, Tr Loss: 0.1521, Tr Acc: 100.0000, Val Loss: 0.8712, Val Acc: 56.5217\n",
      "Epoch 11801/100000, Tr Loss: 0.1541, Tr Acc: 99.0566, Val Loss: 0.8679, Val Acc: 56.5217\n",
      "Epoch 11901/100000, Tr Loss: 0.1387, Tr Acc: 100.0000, Val Loss: 0.8854, Val Acc: 56.5217\n",
      "Epoch 12001/100000, Tr Loss: 0.1520, Tr Acc: 100.0000, Val Loss: 0.8844, Val Acc: 56.5217\n",
      "Epoch 12101/100000, Tr Loss: 0.1367, Tr Acc: 100.0000, Val Loss: 0.8824, Val Acc: 54.3478\n",
      "Epoch 12201/100000, Tr Loss: 0.1357, Tr Acc: 100.0000, Val Loss: 0.8832, Val Acc: 54.3478\n",
      "Epoch 12301/100000, Tr Loss: 0.1241, Tr Acc: 100.0000, Val Loss: 0.8878, Val Acc: 54.3478\n",
      "Epoch 12401/100000, Tr Loss: 0.1345, Tr Acc: 100.0000, Val Loss: 0.9027, Val Acc: 52.1739\n",
      "Epoch 12501/100000, Tr Loss: 0.1207, Tr Acc: 100.0000, Val Loss: 0.8992, Val Acc: 54.3478\n",
      "Epoch 12601/100000, Tr Loss: 0.1307, Tr Acc: 100.0000, Val Loss: 0.9004, Val Acc: 54.3478\n",
      "Epoch 12701/100000, Tr Loss: 0.1250, Tr Acc: 100.0000, Val Loss: 0.9150, Val Acc: 52.1739\n",
      "Epoch 12801/100000, Tr Loss: 0.1190, Tr Acc: 100.0000, Val Loss: 0.9053, Val Acc: 54.3478\n",
      "Epoch 12901/100000, Tr Loss: 0.1184, Tr Acc: 100.0000, Val Loss: 0.9120, Val Acc: 54.3478\n",
      "Epoch 13001/100000, Tr Loss: 0.1151, Tr Acc: 100.0000, Val Loss: 0.9189, Val Acc: 52.1739\n",
      "Epoch 13101/100000, Tr Loss: 0.1128, Tr Acc: 100.0000, Val Loss: 0.9203, Val Acc: 54.3478\n"
     ]
    },
    {
     "ename": "KeyboardInterrupt",
     "evalue": "",
     "output_type": "error",
     "traceback": [
      "\u001b[0;31m---------------------------------------------------------------------------\u001b[0m",
      "\u001b[0;31mKeyboardInterrupt\u001b[0m                         Traceback (most recent call last)",
      "Cell \u001b[0;32mIn [23], line 6\u001b[0m\n\u001b[1;32m      2\u001b[0m optimizer \u001b[38;5;241m=\u001b[39m optim\u001b[38;5;241m.\u001b[39mAdam(net\u001b[38;5;241m.\u001b[39mparameters(), lr\u001b[38;5;241m=\u001b[39mconfig\u001b[38;5;241m.\u001b[39mlearning_rate)\n\u001b[1;32m      3\u001b[0m criterion \u001b[38;5;241m=\u001b[39m nn\u001b[38;5;241m.\u001b[39mCrossEntropyLoss()\n\u001b[0;32m----> 6\u001b[0m train_loss,valid_loss,train_accuracy,valid_accuracy \u001b[38;5;241m=\u001b[39m\u001b[43mtrain\u001b[49m\u001b[43m(\u001b[49m\n\u001b[1;32m      7\u001b[0m \u001b[43m    \u001b[49m\u001b[43mmodel\u001b[49m\u001b[43m \u001b[49m\u001b[38;5;241;43m=\u001b[39;49m\u001b[43m \u001b[49m\u001b[43mnet\u001b[49m\u001b[43m,\u001b[49m\n\u001b[1;32m      8\u001b[0m \u001b[43m    \u001b[49m\u001b[43mgpu_num\u001b[49m\u001b[43m \u001b[49m\u001b[38;5;241;43m=\u001b[39;49m\u001b[43m \u001b[49m\u001b[38;5;241;43m0\u001b[39;49m\u001b[43m,\u001b[49m\n\u001b[1;32m      9\u001b[0m \u001b[43m    \u001b[49m\u001b[43mtrain_loader\u001b[49m\u001b[43m \u001b[49m\u001b[38;5;241;43m=\u001b[39;49m\u001b[43m \u001b[49m\u001b[43mtrain_loader\u001b[49m\u001b[43m,\u001b[49m\n\u001b[1;32m     10\u001b[0m \u001b[43m    \u001b[49m\u001b[43mtest_loader\u001b[49m\u001b[43m \u001b[49m\u001b[38;5;241;43m=\u001b[39;49m\u001b[43m \u001b[49m\u001b[43mtest_loader\u001b[49m\u001b[43m,\u001b[49m\n\u001b[1;32m     11\u001b[0m \u001b[43m    \u001b[49m\u001b[43moptimizer\u001b[49m\u001b[43m \u001b[49m\u001b[38;5;241;43m=\u001b[39;49m\u001b[43m \u001b[49m\u001b[43moptimizer\u001b[49m\u001b[43m  \u001b[49m\u001b[43m,\u001b[49m\n\u001b[1;32m     12\u001b[0m \u001b[43m    \u001b[49m\u001b[43mcriterion\u001b[49m\u001b[43m \u001b[49m\u001b[38;5;241;43m=\u001b[39;49m\u001b[43m \u001b[49m\u001b[43mcriterion\u001b[49m\u001b[43m \u001b[49m\u001b[43m,\u001b[49m\n\u001b[1;32m     13\u001b[0m \u001b[43m    \u001b[49m\u001b[43mwand\u001b[49m\u001b[43m \u001b[49m\u001b[38;5;241;43m=\u001b[39;49m\u001b[43m \u001b[49m\u001b[43mwand\u001b[49m\n\u001b[1;32m     14\u001b[0m \u001b[43m         \u001b[49m\u001b[43m)\u001b[49m\n\u001b[1;32m     17\u001b[0m wandb\u001b[38;5;241m.\u001b[39malert(\n\u001b[1;32m     18\u001b[0m             title\u001b[38;5;241m=\u001b[39m\u001b[38;5;124m'\u001b[39m\u001b[38;5;124mFinish\u001b[39m\u001b[38;5;124m'\u001b[39m,\n\u001b[1;32m     19\u001b[0m             text\u001b[38;5;241m=\u001b[39m\u001b[38;5;124mf\u001b[39m\u001b[38;5;124m'\u001b[39m\u001b[38;5;124mFinishing training\u001b[39m\u001b[38;5;124m'\u001b[39m,\n\u001b[1;32m     20\u001b[0m         )\n",
      "File \u001b[0;32m~/eeg_mi/common.py:110\u001b[0m, in \u001b[0;36mtrain\u001b[0;34m(model, gpu_num, train_loader, test_loader, optimizer, criterion, wand, vail_loader, cross)\u001b[0m\n\u001b[1;32m    106\u001b[0m train_accuracy\u001b[38;5;241m.\u001b[39mappend((\u001b[38;5;241m100\u001b[39m \u001b[38;5;241m*\u001b[39m correct\u001b[38;5;241m.\u001b[39mfloat() \u001b[38;5;241m/\u001b[39m \u001b[38;5;28mlen\u001b[39m(train_loader\u001b[38;5;241m.\u001b[39mdataset)))\n\u001b[1;32m    107\u001b[0m train_metrics \u001b[38;5;241m=\u001b[39m {\u001b[38;5;124m\"\u001b[39m\u001b[38;5;124mtrain/train_loss\u001b[39m\u001b[38;5;124m\"\u001b[39m: iter_loss\u001b[38;5;241m/\u001b[39miterations, \n\u001b[1;32m    108\u001b[0m                \u001b[38;5;124m\"\u001b[39m\u001b[38;5;124mtrain/train_accuracy\u001b[39m\u001b[38;5;124m\"\u001b[39m: (\u001b[38;5;241m100\u001b[39m \u001b[38;5;241m*\u001b[39m correct\u001b[38;5;241m.\u001b[39mfloat() \u001b[38;5;241m/\u001b[39m \u001b[38;5;28mlen\u001b[39m(train_loader\u001b[38;5;241m.\u001b[39mdataset))}\n\u001b[0;32m--> 110\u001b[0m \u001b[43mwand\u001b[49m\u001b[38;5;241;43m.\u001b[39;49m\u001b[43mlog\u001b[49m\u001b[43m(\u001b[49m\u001b[43m{\u001b[49m\u001b[38;5;241;43m*\u001b[39;49m\u001b[38;5;241;43m*\u001b[39;49m\u001b[43mmetrics\u001b[49m\u001b[43m,\u001b[49m\u001b[43m \u001b[49m\u001b[38;5;241;43m*\u001b[39;49m\u001b[38;5;241;43m*\u001b[39;49m\u001b[43mtrain_metrics\u001b[49m\u001b[43m}\u001b[49m\u001b[43m)\u001b[49m\n\u001b[1;32m    113\u001b[0m loss \u001b[38;5;241m=\u001b[39m \u001b[38;5;241m0.0\u001b[39m\n\u001b[1;32m    114\u001b[0m correct \u001b[38;5;241m=\u001b[39m \u001b[38;5;241m0\u001b[39m\n",
      "File \u001b[0;32m~/.local/lib/python3.8/site-packages/wandb/sdk/wandb_run.py:289\u001b[0m, in \u001b[0;36m_run_decorator._noop.<locals>.wrapper\u001b[0;34m(self, *args, **kwargs)\u001b[0m\n\u001b[1;32m    286\u001b[0m         wandb\u001b[38;5;241m.\u001b[39mtermwarn(message, repeat\u001b[38;5;241m=\u001b[39m\u001b[38;5;28;01mFalse\u001b[39;00m)\n\u001b[1;32m    287\u001b[0m         \u001b[38;5;28;01mreturn\u001b[39;00m \u001b[38;5;28mcls\u001b[39m\u001b[38;5;241m.\u001b[39mDummy()\n\u001b[0;32m--> 289\u001b[0m \u001b[38;5;28;01mreturn\u001b[39;00m \u001b[43mfunc\u001b[49m\u001b[43m(\u001b[49m\u001b[38;5;28;43mself\u001b[39;49m\u001b[43m,\u001b[49m\u001b[43m \u001b[49m\u001b[38;5;241;43m*\u001b[39;49m\u001b[43margs\u001b[49m\u001b[43m,\u001b[49m\u001b[43m \u001b[49m\u001b[38;5;241;43m*\u001b[39;49m\u001b[38;5;241;43m*\u001b[39;49m\u001b[43mkwargs\u001b[49m\u001b[43m)\u001b[49m\n",
      "File \u001b[0;32m~/.local/lib/python3.8/site-packages/wandb/sdk/wandb_run.py:255\u001b[0m, in \u001b[0;36m_run_decorator._attach.<locals>.wrapper\u001b[0;34m(self, *args, **kwargs)\u001b[0m\n\u001b[1;32m    253\u001b[0m         \u001b[38;5;28;01mraise\u001b[39;00m e\n\u001b[1;32m    254\u001b[0m     \u001b[38;5;28mcls\u001b[39m\u001b[38;5;241m.\u001b[39m_is_attaching \u001b[38;5;241m=\u001b[39m \u001b[38;5;124m\"\u001b[39m\u001b[38;5;124m\"\u001b[39m\n\u001b[0;32m--> 255\u001b[0m \u001b[38;5;28;01mreturn\u001b[39;00m \u001b[43mfunc\u001b[49m\u001b[43m(\u001b[49m\u001b[38;5;28;43mself\u001b[39;49m\u001b[43m,\u001b[49m\u001b[43m \u001b[49m\u001b[38;5;241;43m*\u001b[39;49m\u001b[43margs\u001b[49m\u001b[43m,\u001b[49m\u001b[43m \u001b[49m\u001b[38;5;241;43m*\u001b[39;49m\u001b[38;5;241;43m*\u001b[39;49m\u001b[43mkwargs\u001b[49m\u001b[43m)\u001b[49m\n",
      "File \u001b[0;32m~/.local/lib/python3.8/site-packages/wandb/sdk/wandb_run.py:1591\u001b[0m, in \u001b[0;36mRun.log\u001b[0;34m(self, data, step, commit, sync)\u001b[0m\n\u001b[1;32m   1584\u001b[0m \u001b[38;5;28;01mif\u001b[39;00m sync \u001b[38;5;129;01mis\u001b[39;00m \u001b[38;5;129;01mnot\u001b[39;00m \u001b[38;5;28;01mNone\u001b[39;00m:\n\u001b[1;32m   1585\u001b[0m     deprecate\u001b[38;5;241m.\u001b[39mdeprecate(\n\u001b[1;32m   1586\u001b[0m         field_name\u001b[38;5;241m=\u001b[39mdeprecate\u001b[38;5;241m.\u001b[39mDeprecated\u001b[38;5;241m.\u001b[39mrun__log_sync,\n\u001b[1;32m   1587\u001b[0m         warning_message\u001b[38;5;241m=\u001b[39m(\n\u001b[1;32m   1588\u001b[0m             \u001b[38;5;124m\"\u001b[39m\u001b[38;5;124m`sync` argument is deprecated and does not affect the behaviour of `wandb.log`\u001b[39m\u001b[38;5;124m\"\u001b[39m\n\u001b[1;32m   1589\u001b[0m         ),\n\u001b[1;32m   1590\u001b[0m     )\n\u001b[0;32m-> 1591\u001b[0m \u001b[38;5;28;43mself\u001b[39;49m\u001b[38;5;241;43m.\u001b[39;49m\u001b[43m_log\u001b[49m\u001b[43m(\u001b[49m\u001b[43mdata\u001b[49m\u001b[38;5;241;43m=\u001b[39;49m\u001b[43mdata\u001b[49m\u001b[43m,\u001b[49m\u001b[43m \u001b[49m\u001b[43mstep\u001b[49m\u001b[38;5;241;43m=\u001b[39;49m\u001b[43mstep\u001b[49m\u001b[43m,\u001b[49m\u001b[43m \u001b[49m\u001b[43mcommit\u001b[49m\u001b[38;5;241;43m=\u001b[39;49m\u001b[43mcommit\u001b[49m\u001b[43m)\u001b[49m\n",
      "File \u001b[0;32m~/.local/lib/python3.8/site-packages/wandb/sdk/wandb_run.py:1375\u001b[0m, in \u001b[0;36mRun._log\u001b[0;34m(self, data, step, commit)\u001b[0m\n\u001b[1;32m   1372\u001b[0m \u001b[38;5;28;01mif\u001b[39;00m \u001b[38;5;28many\u001b[39m(\u001b[38;5;129;01mnot\u001b[39;00m \u001b[38;5;28misinstance\u001b[39m(key, \u001b[38;5;28mstr\u001b[39m) \u001b[38;5;28;01mfor\u001b[39;00m key \u001b[38;5;129;01min\u001b[39;00m data\u001b[38;5;241m.\u001b[39mkeys()):\n\u001b[1;32m   1373\u001b[0m     \u001b[38;5;28;01mraise\u001b[39;00m \u001b[38;5;167;01mValueError\u001b[39;00m(\u001b[38;5;124m\"\u001b[39m\u001b[38;5;124mKey values passed to `wandb.log` must be strings.\u001b[39m\u001b[38;5;124m\"\u001b[39m)\n\u001b[0;32m-> 1375\u001b[0m \u001b[38;5;28;43mself\u001b[39;49m\u001b[38;5;241;43m.\u001b[39;49m\u001b[43m_partial_history_callback\u001b[49m\u001b[43m(\u001b[49m\u001b[43mdata\u001b[49m\u001b[43m,\u001b[49m\u001b[43m \u001b[49m\u001b[43mstep\u001b[49m\u001b[43m,\u001b[49m\u001b[43m \u001b[49m\u001b[43mcommit\u001b[49m\u001b[43m)\u001b[49m\n\u001b[1;32m   1377\u001b[0m \u001b[38;5;28;01mif\u001b[39;00m step \u001b[38;5;129;01mis\u001b[39;00m \u001b[38;5;129;01mnot\u001b[39;00m \u001b[38;5;28;01mNone\u001b[39;00m:\n\u001b[1;32m   1378\u001b[0m     \u001b[38;5;28;01mif\u001b[39;00m os\u001b[38;5;241m.\u001b[39mgetpid() \u001b[38;5;241m!=\u001b[39m \u001b[38;5;28mself\u001b[39m\u001b[38;5;241m.\u001b[39m_init_pid \u001b[38;5;129;01mor\u001b[39;00m \u001b[38;5;28mself\u001b[39m\u001b[38;5;241m.\u001b[39m_is_attached:\n",
      "File \u001b[0;32m~/.local/lib/python3.8/site-packages/wandb/sdk/wandb_run.py:1259\u001b[0m, in \u001b[0;36mRun._partial_history_callback\u001b[0;34m(self, row, step, commit)\u001b[0m\n\u001b[1;32m   1256\u001b[0m \u001b[38;5;28;01mif\u001b[39;00m \u001b[38;5;28mself\u001b[39m\u001b[38;5;241m.\u001b[39m_backend \u001b[38;5;129;01mand\u001b[39;00m \u001b[38;5;28mself\u001b[39m\u001b[38;5;241m.\u001b[39m_backend\u001b[38;5;241m.\u001b[39minterface:\n\u001b[1;32m   1257\u001b[0m     not_using_tensorboard \u001b[38;5;241m=\u001b[39m \u001b[38;5;28mlen\u001b[39m(wandb\u001b[38;5;241m.\u001b[39mpatched[\u001b[38;5;124m\"\u001b[39m\u001b[38;5;124mtensorboard\u001b[39m\u001b[38;5;124m\"\u001b[39m]) \u001b[38;5;241m==\u001b[39m \u001b[38;5;241m0\u001b[39m\n\u001b[0;32m-> 1259\u001b[0m     \u001b[38;5;28;43mself\u001b[39;49m\u001b[38;5;241;43m.\u001b[39;49m\u001b[43m_backend\u001b[49m\u001b[38;5;241;43m.\u001b[39;49m\u001b[43minterface\u001b[49m\u001b[38;5;241;43m.\u001b[39;49m\u001b[43mpublish_partial_history\u001b[49m\u001b[43m(\u001b[49m\n\u001b[1;32m   1260\u001b[0m \u001b[43m        \u001b[49m\u001b[43mrow\u001b[49m\u001b[43m,\u001b[49m\n\u001b[1;32m   1261\u001b[0m \u001b[43m        \u001b[49m\u001b[43muser_step\u001b[49m\u001b[38;5;241;43m=\u001b[39;49m\u001b[38;5;28;43mself\u001b[39;49m\u001b[38;5;241;43m.\u001b[39;49m\u001b[43m_step\u001b[49m\u001b[43m,\u001b[49m\n\u001b[1;32m   1262\u001b[0m \u001b[43m        \u001b[49m\u001b[43mstep\u001b[49m\u001b[38;5;241;43m=\u001b[39;49m\u001b[43mstep\u001b[49m\u001b[43m,\u001b[49m\n\u001b[1;32m   1263\u001b[0m \u001b[43m        \u001b[49m\u001b[43mflush\u001b[49m\u001b[38;5;241;43m=\u001b[39;49m\u001b[43mcommit\u001b[49m\u001b[43m,\u001b[49m\n\u001b[1;32m   1264\u001b[0m \u001b[43m        \u001b[49m\u001b[43mpublish_step\u001b[49m\u001b[38;5;241;43m=\u001b[39;49m\u001b[43mnot_using_tensorboard\u001b[49m\u001b[43m,\u001b[49m\n\u001b[1;32m   1265\u001b[0m \u001b[43m    \u001b[49m\u001b[43m)\u001b[49m\n",
      "File \u001b[0;32m~/.local/lib/python3.8/site-packages/wandb/sdk/interface/interface.py:548\u001b[0m, in \u001b[0;36mInterfaceBase.publish_partial_history\u001b[0;34m(self, data, user_step, step, flush, publish_step, run)\u001b[0m\n\u001b[1;32m    546\u001b[0m     item \u001b[38;5;241m=\u001b[39m partial_history\u001b[38;5;241m.\u001b[39mitem\u001b[38;5;241m.\u001b[39madd()\n\u001b[1;32m    547\u001b[0m     item\u001b[38;5;241m.\u001b[39mkey \u001b[38;5;241m=\u001b[39m k\n\u001b[0;32m--> 548\u001b[0m     item\u001b[38;5;241m.\u001b[39mvalue_json \u001b[38;5;241m=\u001b[39m \u001b[43mjson_dumps_safer_history\u001b[49m\u001b[43m(\u001b[49m\u001b[43mv\u001b[49m\u001b[43m)\u001b[49m\n\u001b[1;32m    549\u001b[0m \u001b[38;5;28;01mif\u001b[39;00m publish_step \u001b[38;5;129;01mand\u001b[39;00m step \u001b[38;5;129;01mis\u001b[39;00m \u001b[38;5;129;01mnot\u001b[39;00m \u001b[38;5;28;01mNone\u001b[39;00m:\n\u001b[1;32m    550\u001b[0m     partial_history\u001b[38;5;241m.\u001b[39mstep\u001b[38;5;241m.\u001b[39mnum \u001b[38;5;241m=\u001b[39m step\n",
      "File \u001b[0;32m~/.local/lib/python3.8/site-packages/wandb/util.py:827\u001b[0m, in \u001b[0;36mjson_dumps_safer_history\u001b[0;34m(obj, **kwargs)\u001b[0m\n\u001b[1;32m    825\u001b[0m \u001b[38;5;28;01mdef\u001b[39;00m \u001b[38;5;21mjson_dumps_safer_history\u001b[39m(obj: Any, \u001b[38;5;241m*\u001b[39m\u001b[38;5;241m*\u001b[39mkwargs: Any) \u001b[38;5;241m-\u001b[39m\u001b[38;5;241m>\u001b[39m \u001b[38;5;28mstr\u001b[39m:\n\u001b[1;32m    826\u001b[0m     \u001b[38;5;124;03m\"\"\"Convert obj to json, with some extra encodable types, including histograms\"\"\"\u001b[39;00m\n\u001b[0;32m--> 827\u001b[0m     \u001b[38;5;28;01mreturn\u001b[39;00m \u001b[43mjson\u001b[49m\u001b[38;5;241;43m.\u001b[39;49m\u001b[43mdumps\u001b[49m\u001b[43m(\u001b[49m\u001b[43mobj\u001b[49m\u001b[43m,\u001b[49m\u001b[43m \u001b[49m\u001b[38;5;28;43mcls\u001b[39;49m\u001b[38;5;241;43m=\u001b[39;49m\u001b[43mWandBHistoryJSONEncoder\u001b[49m\u001b[43m,\u001b[49m\u001b[43m \u001b[49m\u001b[38;5;241;43m*\u001b[39;49m\u001b[38;5;241;43m*\u001b[39;49m\u001b[43mkwargs\u001b[49m\u001b[43m)\u001b[49m\n",
      "File \u001b[0;32m/usr/lib/python3.8/json/__init__.py:234\u001b[0m, in \u001b[0;36mdumps\u001b[0;34m(obj, skipkeys, ensure_ascii, check_circular, allow_nan, cls, indent, separators, default, sort_keys, **kw)\u001b[0m\n\u001b[1;32m    232\u001b[0m \u001b[38;5;28;01mif\u001b[39;00m \u001b[38;5;28mcls\u001b[39m \u001b[38;5;129;01mis\u001b[39;00m \u001b[38;5;28;01mNone\u001b[39;00m:\n\u001b[1;32m    233\u001b[0m     \u001b[38;5;28mcls\u001b[39m \u001b[38;5;241m=\u001b[39m JSONEncoder\n\u001b[0;32m--> 234\u001b[0m \u001b[38;5;28;01mreturn\u001b[39;00m \u001b[38;5;28;43mcls\u001b[39;49m\u001b[43m(\u001b[49m\n\u001b[1;32m    235\u001b[0m \u001b[43m    \u001b[49m\u001b[43mskipkeys\u001b[49m\u001b[38;5;241;43m=\u001b[39;49m\u001b[43mskipkeys\u001b[49m\u001b[43m,\u001b[49m\u001b[43m \u001b[49m\u001b[43mensure_ascii\u001b[49m\u001b[38;5;241;43m=\u001b[39;49m\u001b[43mensure_ascii\u001b[49m\u001b[43m,\u001b[49m\n\u001b[1;32m    236\u001b[0m \u001b[43m    \u001b[49m\u001b[43mcheck_circular\u001b[49m\u001b[38;5;241;43m=\u001b[39;49m\u001b[43mcheck_circular\u001b[49m\u001b[43m,\u001b[49m\u001b[43m \u001b[49m\u001b[43mallow_nan\u001b[49m\u001b[38;5;241;43m=\u001b[39;49m\u001b[43mallow_nan\u001b[49m\u001b[43m,\u001b[49m\u001b[43m \u001b[49m\u001b[43mindent\u001b[49m\u001b[38;5;241;43m=\u001b[39;49m\u001b[43mindent\u001b[49m\u001b[43m,\u001b[49m\n\u001b[1;32m    237\u001b[0m \u001b[43m    \u001b[49m\u001b[43mseparators\u001b[49m\u001b[38;5;241;43m=\u001b[39;49m\u001b[43mseparators\u001b[49m\u001b[43m,\u001b[49m\u001b[43m \u001b[49m\u001b[43mdefault\u001b[49m\u001b[38;5;241;43m=\u001b[39;49m\u001b[43mdefault\u001b[49m\u001b[43m,\u001b[49m\u001b[43m \u001b[49m\u001b[43msort_keys\u001b[49m\u001b[38;5;241;43m=\u001b[39;49m\u001b[43msort_keys\u001b[49m\u001b[43m,\u001b[49m\n\u001b[1;32m    238\u001b[0m \u001b[43m    \u001b[49m\u001b[38;5;241;43m*\u001b[39;49m\u001b[38;5;241;43m*\u001b[39;49m\u001b[43mkw\u001b[49m\u001b[43m)\u001b[49m\u001b[38;5;241;43m.\u001b[39;49m\u001b[43mencode\u001b[49m\u001b[43m(\u001b[49m\u001b[43mobj\u001b[49m\u001b[43m)\u001b[49m\n",
      "File \u001b[0;32m/usr/lib/python3.8/json/encoder.py:199\u001b[0m, in \u001b[0;36mJSONEncoder.encode\u001b[0;34m(self, o)\u001b[0m\n\u001b[1;32m    195\u001b[0m         \u001b[38;5;28;01mreturn\u001b[39;00m encode_basestring(o)\n\u001b[1;32m    196\u001b[0m \u001b[38;5;66;03m# This doesn't pass the iterator directly to ''.join() because the\u001b[39;00m\n\u001b[1;32m    197\u001b[0m \u001b[38;5;66;03m# exceptions aren't as detailed.  The list call should be roughly\u001b[39;00m\n\u001b[1;32m    198\u001b[0m \u001b[38;5;66;03m# equivalent to the PySequence_Fast that ''.join() would do.\u001b[39;00m\n\u001b[0;32m--> 199\u001b[0m chunks \u001b[38;5;241m=\u001b[39m \u001b[38;5;28;43mself\u001b[39;49m\u001b[38;5;241;43m.\u001b[39;49m\u001b[43miterencode\u001b[49m\u001b[43m(\u001b[49m\u001b[43mo\u001b[49m\u001b[43m,\u001b[49m\u001b[43m \u001b[49m\u001b[43m_one_shot\u001b[49m\u001b[38;5;241;43m=\u001b[39;49m\u001b[38;5;28;43;01mTrue\u001b[39;49;00m\u001b[43m)\u001b[49m\n\u001b[1;32m    200\u001b[0m \u001b[38;5;28;01mif\u001b[39;00m \u001b[38;5;129;01mnot\u001b[39;00m \u001b[38;5;28misinstance\u001b[39m(chunks, (\u001b[38;5;28mlist\u001b[39m, \u001b[38;5;28mtuple\u001b[39m)):\n\u001b[1;32m    201\u001b[0m     chunks \u001b[38;5;241m=\u001b[39m \u001b[38;5;28mlist\u001b[39m(chunks)\n",
      "File \u001b[0;32m/usr/lib/python3.8/json/encoder.py:257\u001b[0m, in \u001b[0;36mJSONEncoder.iterencode\u001b[0;34m(self, o, _one_shot)\u001b[0m\n\u001b[1;32m    252\u001b[0m \u001b[38;5;28;01melse\u001b[39;00m:\n\u001b[1;32m    253\u001b[0m     _iterencode \u001b[38;5;241m=\u001b[39m _make_iterencode(\n\u001b[1;32m    254\u001b[0m         markers, \u001b[38;5;28mself\u001b[39m\u001b[38;5;241m.\u001b[39mdefault, _encoder, \u001b[38;5;28mself\u001b[39m\u001b[38;5;241m.\u001b[39mindent, floatstr,\n\u001b[1;32m    255\u001b[0m         \u001b[38;5;28mself\u001b[39m\u001b[38;5;241m.\u001b[39mkey_separator, \u001b[38;5;28mself\u001b[39m\u001b[38;5;241m.\u001b[39mitem_separator, \u001b[38;5;28mself\u001b[39m\u001b[38;5;241m.\u001b[39msort_keys,\n\u001b[1;32m    256\u001b[0m         \u001b[38;5;28mself\u001b[39m\u001b[38;5;241m.\u001b[39mskipkeys, _one_shot)\n\u001b[0;32m--> 257\u001b[0m \u001b[38;5;28;01mreturn\u001b[39;00m \u001b[43m_iterencode\u001b[49m\u001b[43m(\u001b[49m\u001b[43mo\u001b[49m\u001b[43m,\u001b[49m\u001b[43m \u001b[49m\u001b[38;5;241;43m0\u001b[39;49m\u001b[43m)\u001b[49m\n",
      "File \u001b[0;32m~/.local/lib/python3.8/site-packages/wandb/util.py:790\u001b[0m, in \u001b[0;36mWandBHistoryJSONEncoder.default\u001b[0;34m(self, obj)\u001b[0m\n\u001b[1;32m    789\u001b[0m \u001b[38;5;28;01mdef\u001b[39;00m \u001b[38;5;21mdefault\u001b[39m(\u001b[38;5;28mself\u001b[39m, obj: Any) \u001b[38;5;241m-\u001b[39m\u001b[38;5;241m>\u001b[39m Any:\n\u001b[0;32m--> 790\u001b[0m     obj, converted \u001b[38;5;241m=\u001b[39m \u001b[43mjson_friendly\u001b[49m\u001b[43m(\u001b[49m\u001b[43mobj\u001b[49m\u001b[43m)\u001b[49m\n\u001b[1;32m    791\u001b[0m     obj, compressed \u001b[38;5;241m=\u001b[39m maybe_compress_history(obj)\n\u001b[1;32m    792\u001b[0m     \u001b[38;5;28;01mif\u001b[39;00m converted:\n",
      "File \u001b[0;32m~/.local/lib/python3.8/site-packages/wandb/util.py:604\u001b[0m, in \u001b[0;36mjson_friendly\u001b[0;34m(obj)\u001b[0m\n\u001b[1;32m    602\u001b[0m         obj \u001b[38;5;241m=\u001b[39m obj\u001b[38;5;241m.\u001b[39mcpu()\u001b[38;5;241m.\u001b[39mdetach()\u001b[38;5;241m.\u001b[39mnumpy()\n\u001b[1;32m    603\u001b[0m     \u001b[38;5;28;01melse\u001b[39;00m:\n\u001b[0;32m--> 604\u001b[0m         \u001b[38;5;28;01mreturn\u001b[39;00m \u001b[43mobj\u001b[49m\u001b[38;5;241;43m.\u001b[39;49m\u001b[43mitem\u001b[49m\u001b[43m(\u001b[49m\u001b[43m)\u001b[49m, \u001b[38;5;28;01mTrue\u001b[39;00m\n\u001b[1;32m    605\u001b[0m \u001b[38;5;28;01melif\u001b[39;00m is_jax_tensor_typename(typename):\n\u001b[1;32m    606\u001b[0m     obj \u001b[38;5;241m=\u001b[39m get_jax_tensor(obj)\n",
      "\u001b[0;31mKeyboardInterrupt\u001b[0m: "
     ]
    }
   ],
   "source": [
    "net = ConvNet(in_channels, out_channels, kernel_size, out_size).cuda(0)\n",
    "optimizer = optim.Adam(net.parameters(), lr=config.learning_rate)\n",
    "criterion = nn.CrossEntropyLoss()\n",
    "\n",
    "\n",
    "train_loss,valid_loss,train_accuracy,valid_accuracy =train(\n",
    "    model = net,\n",
    "    gpu_num = 0,\n",
    "    train_loader = train_loader,\n",
    "    test_loader = test_loader,\n",
    "    optimizer = optimizer  ,\n",
    "    criterion = criterion ,\n",
    "    wand = wand\n",
    "         )\n",
    "\n",
    "\n",
    "wandb.alert(\n",
    "            title='Finish',\n",
    "            text=f'Finishing training',\n",
    "        )"
   ]
  },
  {
   "cell_type": "code",
   "execution_count": null,
   "id": "0266eaa3-7d7f-4ac1-9179-c5c0cc1dda2d",
   "metadata": {},
   "outputs": [],
   "source": []
  },
  {
   "cell_type": "code",
   "execution_count": null,
   "id": "70ec6087-3a39-4b2b-853c-7721ae49088c",
   "metadata": {},
   "outputs": [],
   "source": []
  },
  {
   "cell_type": "code",
   "execution_count": null,
   "id": "1cfc6a1b-820c-461e-814e-6b58a6d353b1",
   "metadata": {},
   "outputs": [],
   "source": []
  },
  {
   "cell_type": "code",
   "execution_count": null,
   "id": "4ad5c4cd-1544-4e82-ac0e-52722a6041b8",
   "metadata": {},
   "outputs": [],
   "source": []
  },
  {
   "cell_type": "code",
   "execution_count": null,
   "id": "92ad7a46-ab03-4407-8ce5-de691c7cb81d",
   "metadata": {},
   "outputs": [],
   "source": []
  },
  {
   "cell_type": "code",
   "execution_count": null,
   "id": "7d2142f5-a712-496d-b1fd-b9b1767f03b0",
   "metadata": {},
   "outputs": [],
   "source": []
  },
  {
   "cell_type": "code",
   "execution_count": null,
   "id": "72400789-60e3-41a1-9aa9-e7e58caa573d",
   "metadata": {},
   "outputs": [],
   "source": []
  },
  {
   "cell_type": "code",
   "execution_count": null,
   "id": "37d11b35-7b36-41c5-96bb-b18f3f9e850c",
   "metadata": {},
   "outputs": [],
   "source": []
  }
 ],
 "metadata": {
  "kernelspec": {
   "display_name": "Python 3 (ipykernel)",
   "language": "python",
   "name": "python3"
  },
  "language_info": {
   "codemirror_mode": {
    "name": "ipython",
    "version": 3
   },
   "file_extension": ".py",
   "mimetype": "text/x-python",
   "name": "python",
   "nbconvert_exporter": "python",
   "pygments_lexer": "ipython3",
   "version": "3.8.10"
  }
 },
 "nbformat": 4,
 "nbformat_minor": 5
}
