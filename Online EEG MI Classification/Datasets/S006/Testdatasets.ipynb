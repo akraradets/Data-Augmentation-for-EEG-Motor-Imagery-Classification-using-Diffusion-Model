{
 "cells": [
  {
   "cell_type": "code",
   "execution_count": 1,
   "metadata": {
    "collapsed": true
   },
   "outputs": [],
   "source": [
    "# Authors: Lukas Gemein <l.gemein@gmail.com>\n",
    "#          Hubert Banville <hubert.jbanville@gmail.com>\n",
    "#          Simon Brandt <simonbrandt@protonmail.com>\n",
    "#\n",
    "# License: BSD (3-clause)\n",
    "\n",
    "import matplotlib.pyplot as plt\n",
    "\n",
    "from braindecode.datasets import MOABBDataset\n",
    "from braindecode.preprocessing import \\\n",
    "    create_windows_from_events, create_fixed_length_windows\n",
    "from braindecode.preprocessing import preprocess, Preprocessor"
   ]
  },
  {
   "cell_type": "code",
   "execution_count": 2,
   "outputs": [
    {
     "name": "stdout",
     "output_type": "stream",
     "text": [
      "20 events found\n",
      "Event IDs: [1 2]\n",
      "20 events found\n",
      "Event IDs: [1 2]\n",
      "20 events found\n",
      "Event IDs: [1 2]\n",
      "20 events found\n",
      "Event IDs: [1 2]\n",
      "20 events found\n",
      "Event IDs: [1 2]\n",
      "20 events found\n",
      "Event IDs: [1 2]\n",
      "20 events found\n",
      "Event IDs: [1 2]\n",
      "20 events found\n",
      "Event IDs: [1 2]\n"
     ]
    }
   ],
   "source": [
    "dataset = MOABBDataset(dataset_name=\"BNCI2014002\", subject_ids=[1])"
   ],
   "metadata": {
    "collapsed": false
   }
  },
  {
   "cell_type": "code",
   "execution_count": 3,
   "outputs": [
    {
     "name": "stdout",
     "output_type": "stream",
     "text": [
      "512.0\n"
     ]
    }
   ],
   "source": [
    "print(dataset.datasets[0].raw.info[\"sfreq\"])"
   ],
   "metadata": {
    "collapsed": false
   }
  },
  {
   "cell_type": "code",
   "execution_count": 4,
   "outputs": [
    {
     "name": "stdout",
     "output_type": "stream",
     "text": [
      "{'session_0': 901120}\n"
     ]
    }
   ],
   "source": [
    "subsets = dataset.split(\"session\")\n",
    "print({subset_name: len(subset) for subset_name, subset in subsets.items()})"
   ],
   "metadata": {
    "collapsed": false
   }
  },
  {
   "cell_type": "code",
   "execution_count": null,
   "outputs": [],
   "source": [
    "windows_dataset = create_windows_from_events(\n",
    "    dataset, trial_start_offset_samples=0, trial_stop_offset_samples=100,\n",
    "    window_size_samples=400, window_stride_samples=100,\n",
    "    drop_last_window=False)"
   ],
   "metadata": {
    "collapsed": false
   }
  },
  {
   "cell_type": "code",
   "execution_count": null,
   "outputs": [],
   "source": [
    "sliding_windows_dataset = create_fixed_length_windows(\n",
    "    dataset, start_offset_samples=0, stop_offset_samples=0,\n",
    "    window_size_samples=1200, window_stride_samples=1000,\n",
    "    drop_last_window=False)\n",
    "\n",
    "print(len(sliding_windows_dataset))\n",
    "for x, y, window_ind in sliding_windows_dataset:\n",
    "    print(x.shape, y, window_ind)\n",
    "    break\n",
    "\n",
    "sliding_windows_dataset.description"
   ],
   "metadata": {
    "collapsed": false
   }
  }
 ],
 "metadata": {
  "kernelspec": {
   "display_name": "Python 3",
   "language": "python",
   "name": "python3"
  },
  "language_info": {
   "codemirror_mode": {
    "name": "ipython",
    "version": 2
   },
   "file_extension": ".py",
   "mimetype": "text/x-python",
   "name": "python",
   "nbconvert_exporter": "python",
   "pygments_lexer": "ipython2",
   "version": "2.7.6"
  }
 },
 "nbformat": 4,
 "nbformat_minor": 0
}
