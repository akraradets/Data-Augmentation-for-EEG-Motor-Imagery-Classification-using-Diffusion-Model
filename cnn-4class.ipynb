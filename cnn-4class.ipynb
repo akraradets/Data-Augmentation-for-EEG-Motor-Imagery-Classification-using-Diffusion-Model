{
 "cells": [
  {
   "cell_type": "code",
   "execution_count": 1,
   "id": "8c66c108-7c19-4d92-8e87-1873c3ea4e99",
   "metadata": {},
   "outputs": [],
   "source": [
    "import os\n",
    "#comment this if you are not using puffer?\n",
    "os.environ['http_proxy'] = 'http://192.41.170.23:3128'\n",
    "os.environ['https_proxy'] = 'http://192.41.170.23:3128'"
   ]
  },
  {
   "cell_type": "code",
   "execution_count": 2,
   "id": "d221c85a-58c4-4fe4-8dae-801bb20c2229",
   "metadata": {},
   "outputs": [],
   "source": [
    "#!wget -r -N -c -np https://physionet.org/files/eegmmidb/1.0.0/"
   ]
  },
  {
   "cell_type": "code",
   "execution_count": 3,
   "id": "4c4c12e7-8a8b-47fc-9bac-f9f9fce2de68",
   "metadata": {},
   "outputs": [],
   "source": [
    "#!pip3 install -U scikit-learn"
   ]
  },
  {
   "cell_type": "code",
   "execution_count": 4,
   "id": "db765278-7350-4023-899a-db6c9beb9de9",
   "metadata": {},
   "outputs": [],
   "source": [
    "#!pip3 install torch torchvision torchaudio --extra-index-url https://download.pytorch.org/whl/cu116"
   ]
  },
  {
   "cell_type": "code",
   "execution_count": 5,
   "id": "687bdb6e-9bdb-49ed-9d40-c014b8377dd2",
   "metadata": {},
   "outputs": [],
   "source": [
    "#!pip install numpy"
   ]
  },
  {
   "cell_type": "code",
   "execution_count": 6,
   "id": "2a72bb6b-d99e-4a4f-a77e-b00892a377c9",
   "metadata": {},
   "outputs": [],
   "source": [
    "#!pip install mne"
   ]
  },
  {
   "cell_type": "code",
   "execution_count": 7,
   "id": "851d3258-8cf6-45d4-8f14-0132010a75a0",
   "metadata": {},
   "outputs": [
    {
     "name": "stderr",
     "output_type": "stream",
     "text": [
      "/home/nutapolt/.local/lib/python3.8/site-packages/tqdm/auto.py:22: TqdmWarning: IProgress not found. Please update jupyter and ipywidgets. See https://ipywidgets.readthedocs.io/en/stable/user_install.html\n",
      "  from .autonotebook import tqdm as notebook_tqdm\n"
     ]
    }
   ],
   "source": [
    "import numpy as np\n",
    "import matplotlib.pyplot as plt\n",
    "import mne\n",
    "import os\n",
    "import sys\n",
    "from mne.datasets import eegbci\n",
    "import glob\n",
    "from IPython.display import clear_output\n",
    "import numpy as np\n",
    "import torch\n",
    "from torch import nn\n",
    "import torch.optim as optim\n",
    "\n",
    "from mne.datasets import eegbci\n",
    "from sklearn.model_selection import train_test_split\n",
    "from torch.utils.data import TensorDataset\n",
    "from torch.utils.data import DataLoader\n",
    "from scipy import signal\n",
    "\n",
    "import torch\n",
    "import torch.cuda as cuda\n",
    "import torch.nn as nn\n",
    "from torch.autograd import Variable"
   ]
  },
  {
   "cell_type": "code",
   "execution_count": 8,
   "id": "2cd385f6-ab9b-4056-9519-3a8fecd46d59",
   "metadata": {},
   "outputs": [],
   "source": [
    "class EEG:\n",
    "    def __init__(self, path, base_url, subjects, runs):\n",
    "        self.subpath = ''\n",
    "        self.path = path\n",
    "        self.base_url = base_url\n",
    "        self.subjects = subjects\n",
    "        self.runs = runs\n",
    "        \n",
    "        # download data if does not exist in path.\n",
    "        # self.load_data()\n",
    "        self.data_to_raw()\n",
    "    \n",
    "    def load_data(self):\n",
    "        print(f\">>> Start download from: {self.base_url}.\")\n",
    "        print(f\"Downloading files to: {self.path}.\")\n",
    "        for subject in self.subjects:\n",
    "            eegbci.load_data(subject,self.runs,path=self.path,base_url=self.base_url)\n",
    "        print(\"Done.\")\n",
    "    \n",
    "    \n",
    "        \n",
    "        print(\"Done.\")\n",
    "        return self.raw\n",
    "    def filter(self, freq):\n",
    "        raw = self.raw\n",
    "        low, high = freq\n",
    "        print(f\">>> Apply filter.\")\n",
    "        self.raw.filter(low, high, fir_design='firwin', verbose=20)\n",
    "        return  raw\n",
    "    def raw_ica(self):\n",
    "        raw = self.raw\n",
    "        ica = mne.preprocessing.ICA(n_components=64, max_iter=100)\n",
    "        ica.fit(raw)\n",
    "        ica.exclude = [1, 2]  # details on how we picked these are omitted here\n",
    "        ica.plot_properties(raw, picks=ica.exclude)\n",
    "        ica.apply(raw)\n",
    "        print('ICA DONE ????')\n",
    "        return  raw\n",
    "        \n",
    "    def get_events(self):\n",
    "        event_id = dict(T1=0, T2=1) # the events we want to extract\n",
    "        events, event_id = mne.events_from_annotations(self.raw, event_id=event_id)\n",
    "        return events, event_id\n",
    "    \n",
    "    def get_events_both(self):\n",
    "        event_id = dict(T1=2, T2=3) # the events we want to extract\n",
    "        events, event_id = mne.events_from_annotations(self.raw, event_id=event_id)\n",
    "        return events, event_id\n",
    "    \n",
    "    def get_epochs(self, events, event_id):\n",
    "        picks = mne.pick_types(self.raw.info, eeg=True, exclude='bads')\n",
    "        tmin = 0\n",
    "        tmax = 4\n",
    "        epochs = mne.Epochs(self.raw, events, event_id, tmin, tmax, proj=True, \n",
    "                            picks=picks, baseline=None, preload=True)\n",
    "        return epochs\n",
    "    \n",
    "    def create_epochs(self):\n",
    "        print(\">>> Create Epochs.\")\n",
    "        events, event_id = self.get_events()\n",
    "        self.epochs = self.get_epochs(events, event_id)\n",
    "        return events , event_id\n",
    "        \n",
    "        print(\"Done.\")\n",
    "        \n",
    "\n",
    "    def create_epochs_both(self):\n",
    "        print(\">>> Create Epochs.\")\n",
    "        events, event_id = self.get_events_both()\n",
    "        self.epochs = self.get_epochs(events, event_id)\n",
    "        return events , event_id\n",
    "        \n",
    "        print(\"Done.\")\n",
    "    \n",
    "    def get_X_y(self):\n",
    "        if self.epochs is None:\n",
    "            events , event_id=self.create_epochs()\n",
    "        self.X = self.epochs.get_data()\n",
    "        self.y = self.epochs.events[:, -1]\n",
    "        return self.X, self.y\n",
    "    \n",
    "    def get_X_y_both(self):\n",
    "        if self.epochs is None:\n",
    "            events , event_id=self.get_events_both()\n",
    "        self.X = self.epochs.get_data()\n",
    "        self.y = self.epochs.events[:, -1]\n",
    "        return self.X, self.y\n",
    "    \n",
    "    \n",
    "    def data_to_raw(self):\n",
    "        fullpath = os.path.join(self.path, *self.subpath.split(sep='/'))\n",
    "        #print(f\">>> Extract all subjects from: {fullpath}.\")\n",
    "        extension = \"edf\"\n",
    "        raws = []\n",
    "        count = 1\n",
    "        for i, subject in enumerate(self.subjects):\n",
    "            sname = f\"S{str(subject).zfill(3)}\".upper()\n",
    "            \n",
    "            for j, run in enumerate(self.runs):\n",
    "                rname = f\"{sname}R{str(run).zfill(2)}\".upper()\n",
    "                path_file = os.path.join(fullpath, sname, f'{rname}.{extension}')\n",
    "                #print(path_file)\n",
    "                #print(f\"Loading file #{count}/{len(self.subjects)*len(self.runs)}: {f'{rname}.{extension}'}\")\n",
    "                raw = mne.io.read_raw_edf( path_file , preload=True, verbose='WARNING' )\n",
    "                raws.append(raw)\n",
    "                count += 1\n",
    "\n",
    "        raw = mne.io.concatenate_raws(raws)\n",
    "        eegbci.standardize(raw)\n",
    "        montage = mne.channels.make_standard_montage('standard_1005')\n",
    "        raw.set_montage(montage)\n",
    "        self.raw = raw\n",
    "        \n",
    "        \n",
    "        \n",
    "def do_plot(train_loss, valid_loss,ty):\n",
    "    if ty == \"loss\":\n",
    "        plt.figure(figsize=(10,10))\n",
    "        clear_output(wait=True)\n",
    "        plt.plot(train_loss, label='train_loss')\n",
    "        plt.plot(valid_loss, label='valid_loss')\n",
    "        plt.title('loss {}'.format(iter))\n",
    "        plt.legend()\n",
    "        plt.show()\n",
    "    if ty == \"acc\":\n",
    "        plt.figure(figsize=(10,10))\n",
    "        clear_output(wait=True)\n",
    "        plot_ty=torch.tensor(train_loss, device = 'cpu')\n",
    "        plat_va=torch.tensor(valid_loss, device = 'cpu')\n",
    "        plt.plot(plot_ty, label='train_acc')\n",
    "        plt.plot(plat_va, label='valid_acc')\n",
    "        plt.title('acc {}'.format(iter))\n",
    "        plt.legend()\n",
    "        plt.show()"
   ]
  },
  {
   "cell_type": "code",
   "execution_count": 9,
   "id": "b1d9fa44-0f50-41f0-aec3-07e6f7a4a72f",
   "metadata": {},
   "outputs": [
    {
     "name": "stdout",
     "output_type": "stream",
     "text": [
      "Raw done\n",
      ">>> Apply filter.\n",
      "Filtering raw data in 27 contiguous segments\n",
      "Setting up band-pass filter from 1 - 40 Hz\n",
      "\n",
      "FIR filter parameters\n",
      "---------------------\n",
      "Designing a one-pass, zero-phase, non-causal bandpass filter:\n",
      "- Windowed time-domain design (firwin) method\n",
      "- Hamming window with 0.0194 passband ripple and 53 dB stopband attenuation\n",
      "- Lower passband edge: 1.00\n",
      "- Lower transition bandwidth: 1.00 Hz (-6 dB cutoff frequency: 0.50 Hz)\n",
      "- Upper passband edge: 40.00 Hz\n",
      "- Upper transition bandwidth: 10.00 Hz (-6 dB cutoff frequency: 45.00 Hz)\n",
      "- Filter length: 529 samples (3.306 sec)\n",
      "\n"
     ]
    },
    {
     "name": "stderr",
     "output_type": "stream",
     "text": [
      "[Parallel(n_jobs=1)]: Using backend SequentialBackend with 1 concurrent workers.\n",
      "[Parallel(n_jobs=1)]: Done   1 out of   1 | elapsed:    0.0s remaining:    0.0s\n",
      "[Parallel(n_jobs=1)]: Done   2 out of   2 | elapsed:    0.0s remaining:    0.0s\n",
      "[Parallel(n_jobs=1)]: Done   3 out of   3 | elapsed:    0.0s remaining:    0.0s\n",
      "[Parallel(n_jobs=1)]: Done   4 out of   4 | elapsed:    0.0s remaining:    0.0s\n",
      "[Parallel(n_jobs=1)]: Done  64 out of  64 | elapsed:    0.1s finished\n"
     ]
    },
    {
     "name": "stdout",
     "output_type": "stream",
     "text": [
      "Filter done\n",
      ">>> Create Epochs.\n",
      "Used Annotations descriptions: ['T1', 'T2']\n",
      "Not setting metadata\n",
      "405 matching events found\n",
      "No baseline correction applied\n",
      "0 projection items activated\n",
      "Using data from preloaded Raw for 405 events and 641 original time points ...\n",
      "0 bad epochs dropped\n"
     ]
    },
    {
     "data": {
      "text/plain": [
       "(array([[   672,      0,      1],\n",
       "        [  2000,      0,      0],\n",
       "        [  3328,      0,      0],\n",
       "        ...,\n",
       "        [530960,      0,      0],\n",
       "        [532272,      0,      1],\n",
       "        [533584,      0,      0]]),\n",
       " {'T1': 0, 'T2': 1})"
      ]
     },
     "execution_count": 9,
     "metadata": {},
     "output_type": "execute_result"
    }
   ],
   "source": [
    "# home directory + datasets folder\n",
    "#path = '/content/drive/MyDrive/MNE-eegbci-data/files/eegmmidb/'\n",
    "path = 'physionet.org/files/eegmmidb/1.0.0'\n",
    "base_url = 'https://physionet.org/files/eegmmidb/'\n",
    "# subjects = [1]\n",
    "#runs = [3, 4, 7, 8, 11, 12]\n",
    "runs = [4, 8, 12]\n",
    "subjects = [i for i in range(1,10)]\n",
    "#subjects = [1]\n",
    "# runs = [6,10,14]\n",
    "\n",
    "eeg = EEG(path, base_url, subjects, runs)\n",
    "raw=eeg.data_to_raw()\n",
    "print(\"Raw done\")\n",
    "# apply filter\n",
    "freq = (1., 40.)\n",
    "raw=eeg.filter(freq=freq)\n",
    "#raw=eeg.data_to_raw()\n",
    "print(\"Filter done\")\n",
    "#raw=eeg.raw_ica()\n",
    "eeg.create_epochs()\n",
    "\n"
   ]
  },
  {
   "cell_type": "code",
   "execution_count": 10,
   "id": "02c863d5-9efc-4dca-b118-ea139ce2adca",
   "metadata": {},
   "outputs": [
    {
     "name": "stdout",
     "output_type": "stream",
     "text": [
      "(405, 64, 641) (405,)\n"
     ]
    },
    {
     "data": {
      "text/plain": [
       "(405, 64, 641)"
      ]
     },
     "execution_count": 10,
     "metadata": {},
     "output_type": "execute_result"
    }
   ],
   "source": [
    "X, y = eeg.get_X_y()\n",
    "\n",
    "print(X.shape, y.shape)\n",
    "X = X[:,:,:]\n",
    "X.shape"
   ]
  },
  {
   "cell_type": "code",
   "execution_count": 11,
   "id": "3391ae1a-ae94-4813-977c-9b022f0996a4",
   "metadata": {},
   "outputs": [
    {
     "name": "stdout",
     "output_type": "stream",
     "text": [
      "Raw done\n",
      ">>> Apply filter.\n",
      "Filtering raw data in 27 contiguous segments\n",
      "Setting up band-pass filter from 1 - 40 Hz\n",
      "\n",
      "FIR filter parameters\n",
      "---------------------\n",
      "Designing a one-pass, zero-phase, non-causal bandpass filter:\n",
      "- Windowed time-domain design (firwin) method\n",
      "- Hamming window with 0.0194 passband ripple and 53 dB stopband attenuation\n",
      "- Lower passband edge: 1.00\n",
      "- Lower transition bandwidth: 1.00 Hz (-6 dB cutoff frequency: 0.50 Hz)\n",
      "- Upper passband edge: 40.00 Hz\n",
      "- Upper transition bandwidth: 10.00 Hz (-6 dB cutoff frequency: 45.00 Hz)\n",
      "- Filter length: 529 samples (3.306 sec)\n",
      "\n"
     ]
    },
    {
     "name": "stderr",
     "output_type": "stream",
     "text": [
      "[Parallel(n_jobs=1)]: Using backend SequentialBackend with 1 concurrent workers.\n",
      "[Parallel(n_jobs=1)]: Done   1 out of   1 | elapsed:    0.0s remaining:    0.0s\n",
      "[Parallel(n_jobs=1)]: Done   2 out of   2 | elapsed:    0.0s remaining:    0.0s\n",
      "[Parallel(n_jobs=1)]: Done   3 out of   3 | elapsed:    0.0s remaining:    0.0s\n",
      "[Parallel(n_jobs=1)]: Done   4 out of   4 | elapsed:    0.0s remaining:    0.0s\n",
      "[Parallel(n_jobs=1)]: Done  64 out of  64 | elapsed:    0.0s finished\n"
     ]
    },
    {
     "name": "stdout",
     "output_type": "stream",
     "text": [
      "Filter done\n",
      ">>> Create Epochs.\n",
      "Used Annotations descriptions: ['T1', 'T2']\n",
      "Not setting metadata\n",
      "405 matching events found\n",
      "No baseline correction applied\n",
      "0 projection items activated\n",
      "Using data from preloaded Raw for 405 events and 641 original time points ...\n",
      "0 bad epochs dropped\n"
     ]
    },
    {
     "data": {
      "text/plain": [
       "(array([[   672,      0,      3],\n",
       "        [  2000,      0,      2],\n",
       "        [  3328,      0,      2],\n",
       "        ...,\n",
       "        [530960,      0,      2],\n",
       "        [532272,      0,      3],\n",
       "        [533584,      0,      3]]),\n",
       " {'T1': 2, 'T2': 3})"
      ]
     },
     "execution_count": 11,
     "metadata": {},
     "output_type": "execute_result"
    }
   ],
   "source": [
    "# home directory + datasets folder\n",
    "#path = '/content/drive/MyDrive/MNE-eegbci-data/files/eegmmidb/'\n",
    "path = '1.0.0'\n",
    "path = 'physionet.org/files/eegmmidb/1.0.0'\n",
    "# subjects = [1]\n",
    "#runs = [3, 4, 7, 8, 11, 12]\n",
    "runs = [6, 10, 14]\n",
    "subjects = [i for i in range(1,10)]\n",
    "#subjects = [1]\n",
    "# runs = [6,10,14]\n",
    "\n",
    "eeg = EEG(path, base_url, subjects, runs)\n",
    "raw=eeg.data_to_raw()\n",
    "print(\"Raw done\")\n",
    "# apply filter\n",
    "freq = (1., 40.)\n",
    "raw=eeg.filter(freq=freq)\n",
    "#raw=eeg.data_to_raw()\n",
    "print(\"Filter done\")\n",
    "#raw=eeg.raw_ica()\n",
    "eeg.create_epochs_both()\n",
    "\n"
   ]
  },
  {
   "cell_type": "code",
   "execution_count": 12,
   "id": "5719369f-505f-4ab8-9809-8e7a0cdde3d4",
   "metadata": {},
   "outputs": [
    {
     "name": "stdout",
     "output_type": "stream",
     "text": [
      "(405, 64, 641) (405,)\n"
     ]
    },
    {
     "data": {
      "text/plain": [
       "(405, 64, 641)"
      ]
     },
     "execution_count": 12,
     "metadata": {},
     "output_type": "execute_result"
    }
   ],
   "source": [
    "X_b, y_b = eeg.get_X_y_both()\n",
    "\n",
    "print(X_b.shape, y_b.shape)\n",
    "X_b = X_b[:,:,:]\n",
    "X_b.shape"
   ]
  },
  {
   "cell_type": "code",
   "execution_count": 13,
   "id": "9794b43f-9a8f-4977-ab8a-60cd54cd8f34",
   "metadata": {},
   "outputs": [],
   "source": [
    "X= np.concatenate((X,X_b))\n",
    "y= np.concatenate((y,y_b))\n",
    "\n",
    "#For game net\n",
    "#X = X[:, np.newaxis,:,:]"
   ]
  },
  {
   "cell_type": "code",
   "execution_count": 14,
   "id": "baa4ab14-d3e8-4b87-9a1f-3fb522d64af5",
   "metadata": {},
   "outputs": [
    {
     "name": "stdout",
     "output_type": "stream",
     "text": [
      "(648, 64, 641) (648,)\n"
     ]
    }
   ],
   "source": [
    "X_train, X_test, y_train, y_test = train_test_split(X, y, test_size=0.2)\n",
    "\n",
    "print(X_train.shape, y_train.shape)"
   ]
  },
  {
   "cell_type": "code",
   "execution_count": 15,
   "id": "c0b137eb-dd3a-4846-bb9b-9fe0d6bfd8b8",
   "metadata": {},
   "outputs": [],
   "source": [
    "from sklearn.model_selection import train_test_split\n",
    "from torch.utils.data import TensorDataset\n",
    "from torch.utils.data import DataLoader\n",
    "\n",
    "batch_size = 32\n",
    "\n",
    "def create_dataloader(X, y, batch_size):\n",
    "    X_tensor = torch.tensor(X).float()\n",
    "    y_tensor = torch.tensor(y).long()\n",
    "    dataset_tensor = TensorDataset(X_tensor, y_tensor)\n",
    "    dl = torch.utils.data.DataLoader(dataset_tensor, batch_size=batch_size, shuffle=True)\n",
    "    return dl\n",
    "train_loader = create_dataloader(X_train, y_train, batch_size=batch_size)\n",
    "test_loader = create_dataloader(X_test, y_test, batch_size=batch_size)"
   ]
  },
  {
   "cell_type": "code",
   "execution_count": 16,
   "id": "086871a3-b5ed-4865-bdc8-372270251077",
   "metadata": {},
   "outputs": [],
   "source": [
    "# Convolutional neural network (two convolutional layers)\n",
    "class ConvNet(nn.Module):\n",
    "    def __init__(self):\n",
    "        super(ConvNet, self).__init__()\n",
    "        \n",
    "        #using sequential helps bind multiple operations together\n",
    "        self.layer1 = nn.Sequential(\n",
    "            #padding = (kernel_size - 1) / 2 = 2\n",
    "            nn.Conv1d(64, 128, kernel_size=5, stride=1, padding=2),\n",
    "            nn.BatchNorm1d(128),\n",
    "            nn.ReLU(),\n",
    "            # nn.MaxPool2d(kernel_size=2, stride=2)\n",
    "        )\n",
    "        self.layer2 = nn.Sequential(\n",
    "            nn.Conv1d(128, 256, kernel_size=5, stride=1, padding=2),\n",
    "            nn.BatchNorm1d(256),\n",
    "            nn.ReLU(),\n",
    "            # nn.MaxPool2d(kernel_size=2, stride=2)\n",
    "        )\n",
    "        self.fc = nn.Linear(164096, 4)\n",
    "        self.drop_out = nn.Dropout(0.5)\n",
    "        \n",
    "    def forward(self, x):\n",
    "        out = self.layer1(x)\n",
    "        out = self.drop_out(out)\n",
    "        out = self.layer2(out)\n",
    "        out = self.drop_out(out)\n",
    "        out = out.reshape(out.size(0), -1)   #can also use .view()\n",
    "        out = self.fc(out)\n",
    "        return out"
   ]
  },
  {
   "cell_type": "code",
   "execution_count": 17,
   "id": "a2b4fb5d-fa3d-4ea5-9725-4efd9a25713d",
   "metadata": {},
   "outputs": [],
   "source": [
    "class gamenet(nn.Module):\n",
    "    def __init__(self):\n",
    "        \n",
    "        super(gamenet,self).__init__()\n",
    "        \n",
    "        self.l1 = nn.Sequential(\n",
    "            #in_channel = 16\n",
    "            #out_channel or Filter size = 100\n",
    "            #kernel size = (1,25)\n",
    "            #stride = 1\n",
    "            #padding = Same\n",
    "            #Relu\n",
    "            nn.Conv2d(1,100,kernel_size=(1,25),stride=1,padding='same'),\n",
    "            nn.ReLU(),\n",
    "            nn.BatchNorm2d(100)\n",
    "        )\n",
    "        self.l2 = nn.Sequential(\n",
    "            #in_channel = 100\n",
    "            #out_channel or Filter size = 100\n",
    "            #kernel size = (16,1)\n",
    "            #stride = 1\n",
    "            #padding = Valid\n",
    "            #Relu\n",
    "            nn.Conv2d(100,100,kernel_size=(7,1),stride=1,padding='valid'),\n",
    "            #nn.Conv2d(100,100,kernel_size=(64,1),stride=1,padding='valid'),\n",
    "            nn.ReLU(),\n",
    "            nn.BatchNorm2d(100)\n",
    "        )\n",
    "        self.l3 = nn.Sequential(\n",
    "            #in_channel = 100\n",
    "            #out_channel = 50\n",
    "            #kernel size = (1,30)\n",
    "            #stride = 1\n",
    "            #padding = Same\n",
    "            #Relu\n",
    "            nn.Conv2d(100,50,kernel_size=(1,30),stride=1,padding='same'),\n",
    "            nn.ReLU(),\n",
    "            nn.BatchNorm2d(50)\n",
    "        )\n",
    "        self.maxpooling1 = nn.MaxPool2d(kernel_size=(1,7),stride=5)\n",
    "        self.l4 = nn.Sequential(\n",
    "            #in_channel = 50\n",
    "            #out_channel = 50\n",
    "            #kernel size = (1,30)\n",
    "            #stride = 1\n",
    "            #padding = Same\n",
    "            #Relu\n",
    "            nn.Conv2d(50,50,kernel_size=(1,30),stride=1,padding='same'),\n",
    "            nn.ReLU(),\n",
    "            nn.BatchNorm2d(50)\n",
    "        )\n",
    "        self.maxpooling2 = nn.MaxPool2d(kernel_size=(1,3),stride=2)\n",
    "        \n",
    "\n",
    "        self.flatten = nn.Sequential(\n",
    "            nn.Flatten(),\n",
    "            nn.BatchNorm1d(18900),\n",
    "            nn.Dropout(0.15)\n",
    "        )\n",
    "        self.fc1 = nn.Sequential(\n",
    "            nn.Linear(18900,1024),\n",
    "            nn.ReLU(),\n",
    "            nn.BatchNorm1d(1024),\n",
    "            nn.Dropout(0.15)\n",
    "        )\n",
    "        self.fc2 = nn.Sequential(\n",
    "            nn.Linear(1024,512),\n",
    "            nn.ReLU(),\n",
    "            nn.BatchNorm1d(512),\n",
    "            nn.Dropout(0.15)\n",
    "        )\n",
    "        self.fc3 = nn.Sequential(\n",
    "            nn.Linear(512,256),\n",
    "            nn.ReLU(),\n",
    "            nn.BatchNorm1d(256),\n",
    "            nn.Dropout(0.15)\n",
    "        )\n",
    "        self.fc3 = nn.Sequential(\n",
    "            nn.Linear(512,256),\n",
    "            nn.ReLU(),\n",
    "            nn.BatchNorm1d(256),\n",
    "            nn.Dropout(0.15)\n",
    "        )\n",
    "        self.fc4 = nn.Sequential(\n",
    "            nn.Linear(256,128),\n",
    "            nn.ReLU(),\n",
    "            nn.BatchNorm1d(128),\n",
    "            nn.Dropout(0.15)\n",
    "        )\n",
    "        self.fc5 = nn.Sequential(\n",
    "            nn.Linear(128,64),\n",
    "            nn.ReLU(),\n",
    "            nn.BatchNorm1d(64),\n",
    "            nn.Dropout(0.15)\n",
    "        )\n",
    "        self.fc6 = nn.Sequential(\n",
    "            nn.Linear(64,32),\n",
    "            nn.ReLU(),\n",
    "            nn.BatchNorm1d(32),\n",
    "            nn.Dropout(0.15)\n",
    "        )\n",
    "        self.softmax = nn.Sequential(\n",
    "            nn.Linear(32,4),\n",
    "            nn.Softmax()\n",
    "        )\n",
    "    def forward(self,x):\n",
    "        \n",
    "        out = self.l1(x)\n",
    "        out = self.l2(out)\n",
    "        out = self.l3(out)\n",
    "        out = self.maxpooling1(out)\n",
    "        out = self.l4(out)\n",
    "        out = self.maxpooling2(out)\n",
    "        out = self.flatten(out)\n",
    "        out = self.fc1(out)\n",
    "        out = self.fc2(out)\n",
    "        out = self.fc3(out)\n",
    "        out = self.fc4(out)\n",
    "        out = self.fc5(out)\n",
    "        out = self.fc6(out)\n",
    "        out = self.softmax(out)\n",
    "        return out"
   ]
  },
  {
   "cell_type": "code",
   "execution_count": 18,
   "id": "3837bacf-8c00-4afc-bcdf-46222d1c1620",
   "metadata": {},
   "outputs": [],
   "source": [
    "net = ConvNet().cuda(1)"
   ]
  },
  {
   "cell_type": "code",
   "execution_count": 19,
   "id": "d8672d38-f98e-45a2-84bc-32dc70278eb0",
   "metadata": {},
   "outputs": [],
   "source": [
    "# Loss and optimizer\n",
    "optimizer = optim.Adam(net.parameters(), lr=0.00000001)\n",
    "criterion = nn.CrossEntropyLoss()"
   ]
  },
  {
   "cell_type": "code",
   "execution_count": 20,
   "id": "b62636ce-5965-4df3-a2fb-1bd3b03519d6",
   "metadata": {},
   "outputs": [
    {
     "data": {
      "text/plain": [
       "2"
      ]
     },
     "execution_count": 20,
     "metadata": {},
     "output_type": "execute_result"
    }
   ],
   "source": [
    "torch.cuda.device_count()"
   ]
  },
  {
   "cell_type": "code",
   "execution_count": 26,
   "id": "2f68847f-cd5a-4555-b464-be767eadebcf",
   "metadata": {},
   "outputs": [
    {
     "data": {
      "text/plain": [
       "<All keys matched successfully>"
      ]
     },
     "execution_count": 26,
     "metadata": {},
     "output_type": "execute_result"
    }
   ],
   "source": [
    "net.load_state_dict(torch.load('model_muti',map_location=torch.device('cuda:1')))\n"
   ]
  },
  {
   "cell_type": "code",
   "execution_count": null,
   "id": "6d8858ae-695d-495f-a6d9-a134328c831f",
   "metadata": {},
   "outputs": [
    {
     "name": "stdout",
     "output_type": "stream",
     "text": [
      "Epoch 1/100000, Tr Loss: 1.4831, Tr Acc: 25.7716, Val Loss: 1.3867, Val Acc: 25.3086\n",
      "Epoch 51/100000, Tr Loss: 1.4790, Tr Acc: 24.3827, Val Loss: 1.4219, Val Acc: 27.1605\n",
      "Epoch 101/100000, Tr Loss: 1.4195, Tr Acc: 25.3086, Val Loss: 1.4073, Val Acc: 28.3951\n",
      "Epoch 151/100000, Tr Loss: 1.4644, Tr Acc: 25.3086, Val Loss: 1.3807, Val Acc: 29.6296\n",
      "Epoch 201/100000, Tr Loss: 1.4456, Tr Acc: 26.0802, Val Loss: 1.3730, Val Acc: 30.8642\n",
      "Epoch 251/100000, Tr Loss: 1.4250, Tr Acc: 24.8457, Val Loss: 1.3487, Val Acc: 30.8642\n",
      "Epoch 301/100000, Tr Loss: 1.4214, Tr Acc: 28.0864, Val Loss: 1.3661, Val Acc: 30.2469\n",
      "Epoch 351/100000, Tr Loss: 1.4098, Tr Acc: 29.6296, Val Loss: 1.3952, Val Acc: 30.2469\n",
      "Epoch 401/100000, Tr Loss: 1.3992, Tr Acc: 29.7840, Val Loss: 1.3911, Val Acc: 32.7160\n",
      "Epoch 451/100000, Tr Loss: 1.4233, Tr Acc: 27.0062, Val Loss: 1.3917, Val Acc: 33.3333\n",
      "Epoch 501/100000, Tr Loss: 1.4360, Tr Acc: 28.7037, Val Loss: 1.3884, Val Acc: 32.0988\n",
      "Epoch 551/100000, Tr Loss: 1.4326, Tr Acc: 25.0000, Val Loss: 1.3808, Val Acc: 32.7160\n",
      "Epoch 601/100000, Tr Loss: 1.3807, Tr Acc: 29.4753, Val Loss: 1.3668, Val Acc: 30.8642\n",
      "Epoch 651/100000, Tr Loss: 1.4125, Tr Acc: 27.1605, Val Loss: 1.3787, Val Acc: 32.7160\n",
      "Epoch 701/100000, Tr Loss: 1.3981, Tr Acc: 28.5494, Val Loss: 1.3729, Val Acc: 33.3333\n",
      "Epoch 751/100000, Tr Loss: 1.4101, Tr Acc: 28.3951, Val Loss: 1.3722, Val Acc: 32.0988\n",
      "Epoch 801/100000, Tr Loss: 1.3980, Tr Acc: 29.9383, Val Loss: 1.3640, Val Acc: 32.0988\n",
      "Epoch 851/100000, Tr Loss: 1.3867, Tr Acc: 26.8519, Val Loss: 1.3710, Val Acc: 34.5679\n",
      "Epoch 901/100000, Tr Loss: 1.3921, Tr Acc: 30.5556, Val Loss: 1.3807, Val Acc: 33.9506\n",
      "Epoch 951/100000, Tr Loss: 1.3979, Tr Acc: 30.4012, Val Loss: 1.3587, Val Acc: 33.9506\n",
      "Epoch 1001/100000, Tr Loss: 1.4008, Tr Acc: 28.5494, Val Loss: 1.3705, Val Acc: 33.3333\n",
      "Epoch 1051/100000, Tr Loss: 1.3710, Tr Acc: 29.9383, Val Loss: 1.3739, Val Acc: 33.9506\n",
      "Epoch 1101/100000, Tr Loss: 1.3924, Tr Acc: 30.5556, Val Loss: 1.3545, Val Acc: 33.9506\n",
      "Epoch 1151/100000, Tr Loss: 1.3918, Tr Acc: 31.4815, Val Loss: 1.3764, Val Acc: 33.3333\n",
      "Epoch 1201/100000, Tr Loss: 1.3711, Tr Acc: 29.6296, Val Loss: 1.3723, Val Acc: 33.9506\n",
      "Epoch 1251/100000, Tr Loss: 1.3775, Tr Acc: 32.5617, Val Loss: 1.3665, Val Acc: 33.9506\n",
      "Epoch 1301/100000, Tr Loss: 1.3712, Tr Acc: 32.0988, Val Loss: 1.3683, Val Acc: 34.5679\n",
      "Epoch 1351/100000, Tr Loss: 1.3706, Tr Acc: 30.4012, Val Loss: 1.3567, Val Acc: 33.9506\n",
      "Epoch 1401/100000, Tr Loss: 1.3766, Tr Acc: 30.4012, Val Loss: 1.3306, Val Acc: 33.9506\n"
     ]
    }
   ],
   "source": [
    "# Train the model\n",
    "num_epochs = 100000\n",
    "\n",
    "train_loss = []\n",
    "valid_loss = []\n",
    "train_accuracy = []\n",
    "valid_accuracy = []\n",
    "old_acc = 0\n",
    "old_train_loss = 10\n",
    "for epoch in range(num_epochs):\n",
    "    iter_loss = 0.0\n",
    "    correct = 0\n",
    "    iterations = 0\n",
    "    \n",
    "    net.train()\n",
    "    \n",
    "    for i, (items, classes) in enumerate(train_loader):\n",
    "        items = Variable(items)\n",
    "        classes = Variable(classes)\n",
    "        \n",
    "        if cuda.is_available():\n",
    "            items = items.cuda(1)\n",
    "            classes = classes.cuda(1)\n",
    "        \n",
    "        optimizer.zero_grad()\n",
    "        outputs = net(items)\n",
    "        loss = criterion(outputs, classes)\n",
    "        #print(outputs)\n",
    "        iter_loss += loss.item()\n",
    "        loss.backward()\n",
    "        optimizer.step()\n",
    "        #print(loss)\n",
    "        _, predicted = torch.max(outputs.data, 1)\n",
    "        correct += (predicted == classes.data).sum()\n",
    "        iterations += 1\n",
    "\n",
    "    train_loss.append(iter_loss/iterations)\n",
    "    \n",
    "    train_accuracy.append((100 * correct.float() / len(train_loader.dataset)))\n",
    "    \n",
    "    loss = 0.0\n",
    "    correct = 0\n",
    "    iterations = 0\n",
    "    net.eval()\n",
    "    \n",
    "    for i, (items, classes) in enumerate(test_loader):\n",
    "        items = Variable(items)\n",
    "        classes = Variable(classes)\n",
    "        \n",
    "        if cuda.is_available():\n",
    "            items = items.cuda(1)\n",
    "            classes = classes.cuda(1)\n",
    "        \n",
    "        outputs = net(items)\n",
    "        loss += criterion(outputs, classes).item()\n",
    "        \n",
    "        _, predicted = torch.max(outputs.data, 1)\n",
    "        correct += (predicted == classes.data).sum()\n",
    "        \n",
    "        iterations += 1\n",
    "\n",
    "    valid_loss.append(loss/iterations)\n",
    "    correct_scalar = np.array([correct.clone().cpu()])[0]\n",
    "    valid_accuracy.append(correct_scalar / len(test_loader.dataset) * 100.0)\n",
    "    if train_loss[-1] < old_train_loss :\n",
    "        torch.save(net.state_dict(), 'model_muti')\n",
    "        old_train_loss = valid_accuracy[-1]\n",
    "    if (epoch%50) == 0 :\n",
    "        print ('Epoch %d/%d, Tr Loss: %.4f, Tr Acc: %.4f, Val Loss: %.4f, Val Acc: %.4f'\n",
    "                   %(epoch+1, num_epochs, train_loss[-1], train_accuracy[-1], valid_loss[-1], valid_accuracy[-1]))\n",
    "print ('Epoch %d/%d, Tr Loss: %.4f, Tr Acc: %.4f, Val Loss: %.4f, Val Acc: %.4f'\n",
    "                   %(epoch+1, num_epochs, train_loss[-1], train_accuracy[-1], valid_loss[-1], valid_accuracy[-1]))\n"
   ]
  },
  {
   "cell_type": "code",
   "execution_count": null,
   "id": "8a8b7fd5-7c9d-4d45-8479-a22b9b3b9599",
   "metadata": {},
   "outputs": [],
   "source": [
    "do_plot(train_accuracy, valid_accuracy,\"acc\")"
   ]
  },
  {
   "cell_type": "code",
   "execution_count": null,
   "id": "e1fa9269-aff3-4916-bbe8-f0f0dbea9604",
   "metadata": {},
   "outputs": [],
   "source": [
    "do_plot(train_loss, valid_loss,\"loss\")"
   ]
  },
  {
   "cell_type": "code",
   "execution_count": null,
   "id": "ab70adfc-3822-4f79-bc99-5539adc634a7",
   "metadata": {},
   "outputs": [],
   "source": [
    "print ('Epoch %d/%d, Tr Loss: %.4f, Tr Acc: %.4f, Val Loss: %.4f, Val Acc: %.4f'\n",
    "                   %(epoch+1, num_epochs, train_loss[-1], train_accuracy[-1], valid_loss[-1], valid_accuracy[-1]))\n"
   ]
  },
  {
   "cell_type": "code",
   "execution_count": null,
   "id": "577fe640-8981-4e8c-8841-ad4b7aa51a3e",
   "metadata": {},
   "outputs": [],
   "source": []
  },
  {
   "cell_type": "markdown",
   "id": "3463cc08-42bf-44bf-bb60-f8f91c6ca4d9",
   "metadata": {},
   "source": [
    "### validate\n"
   ]
  },
  {
   "cell_type": "code",
   "execution_count": 35,
   "id": "1fdb330a-630d-44a7-9b63-a9c8e63e7d17",
   "metadata": {},
   "outputs": [
    {
     "name": "stdout",
     "output_type": "stream",
     "text": [
      "Raw done\n",
      ">>> Apply filter.\n",
      "Filtering raw data in 3 contiguous segments\n",
      "Setting up band-pass filter from 1 - 40 Hz\n",
      "\n",
      "FIR filter parameters\n",
      "---------------------\n",
      "Designing a one-pass, zero-phase, non-causal bandpass filter:\n",
      "- Windowed time-domain design (firwin) method\n",
      "- Hamming window with 0.0194 passband ripple and 53 dB stopband attenuation\n",
      "- Lower passband edge: 1.00\n",
      "- Lower transition bandwidth: 1.00 Hz (-6 dB cutoff frequency: 0.50 Hz)\n",
      "- Upper passband edge: 40.00 Hz\n",
      "- Upper transition bandwidth: 10.00 Hz (-6 dB cutoff frequency: 45.00 Hz)\n",
      "- Filter length: 529 samples (3.306 sec)\n",
      "\n",
      "Filter done\n",
      ">>> Create Epochs.\n",
      "Used Annotations descriptions: ['T1', 'T2']\n",
      "Not setting metadata\n",
      "45 matching events found\n",
      "No baseline correction applied\n",
      "0 projection items activated\n",
      "Using data from preloaded Raw for 45 events and 641 original time points ...\n",
      "0 bad epochs dropped\n"
     ]
    },
    {
     "name": "stderr",
     "output_type": "stream",
     "text": [
      "[Parallel(n_jobs=1)]: Using backend SequentialBackend with 1 concurrent workers.\n",
      "[Parallel(n_jobs=1)]: Done   1 out of   1 | elapsed:    0.0s remaining:    0.0s\n",
      "[Parallel(n_jobs=1)]: Done   2 out of   2 | elapsed:    0.0s remaining:    0.0s\n",
      "[Parallel(n_jobs=1)]: Done   3 out of   3 | elapsed:    0.0s remaining:    0.0s\n",
      "[Parallel(n_jobs=1)]: Done   4 out of   4 | elapsed:    0.0s remaining:    0.0s\n",
      "[Parallel(n_jobs=1)]: Done  64 out of  64 | elapsed:    0.0s finished\n"
     ]
    },
    {
     "data": {
      "text/plain": [
       "(array([[  656,     0,     0],\n",
       "        [ 1968,     0,     1],\n",
       "        [ 3280,     0,     0],\n",
       "        [ 4592,     0,     1],\n",
       "        [ 5904,     0,     0],\n",
       "        [ 7216,     0,     1],\n",
       "        [ 8528,     0,     1],\n",
       "        [ 9840,     0,     0],\n",
       "        [11152,     0,     1],\n",
       "        [12464,     0,     0],\n",
       "        [13776,     0,     0],\n",
       "        [15088,     0,     1],\n",
       "        [16400,     0,     1],\n",
       "        [17712,     0,     0],\n",
       "        [19024,     0,     0],\n",
       "        [20336,     0,     0],\n",
       "        [21648,     0,     1],\n",
       "        [22960,     0,     0],\n",
       "        [24272,     0,     1],\n",
       "        [25584,     0,     0],\n",
       "        [26896,     0,     1],\n",
       "        [28208,     0,     0],\n",
       "        [29520,     0,     1],\n",
       "        [30832,     0,     1],\n",
       "        [32144,     0,     0],\n",
       "        [33456,     0,     0],\n",
       "        [34768,     0,     1],\n",
       "        [36080,     0,     0],\n",
       "        [37392,     0,     1],\n",
       "        [38704,     0,     1],\n",
       "        [40016,     0,     0],\n",
       "        [41328,     0,     1],\n",
       "        [42640,     0,     0],\n",
       "        [43952,     0,     1],\n",
       "        [45264,     0,     1],\n",
       "        [46576,     0,     0],\n",
       "        [47888,     0,     1],\n",
       "        [49200,     0,     0],\n",
       "        [50512,     0,     1],\n",
       "        [51824,     0,     0],\n",
       "        [53136,     0,     0],\n",
       "        [54448,     0,     1],\n",
       "        [55760,     0,     1],\n",
       "        [57072,     0,     0],\n",
       "        [58384,     0,     0]]),\n",
       " {'T1': 0, 'T2': 1})"
      ]
     },
     "execution_count": 35,
     "metadata": {},
     "output_type": "execute_result"
    }
   ],
   "source": [
    "# home directory + datasets folder\n",
    "#path = '/content/drive/MyDrive/MNE-eegbci-data/files/eegmmidb/'\n",
    "path = '1.0.0'\n",
    "path = 'physionet.org/files/eegmmidb/1.0.0'\n",
    "# subjects = [1]\n",
    "#runs = [3, 4, 7, 8, 11, 12]\n",
    "runs = [4, 8, 12]\n",
    "subjects = [i for i in range(11,12)]\n",
    "#subjects = [1]\n",
    "# runs = [6,10,14]\n",
    "\n",
    "eeg = EEG(path, base_url, subjects, runs)\n",
    "raw=eeg.data_to_raw()\n",
    "print(\"Raw done\")\n",
    "# apply filter\n",
    "freq = (1., 40.)\n",
    "raw=eeg.filter(freq=freq)\n",
    "#raw=eeg.data_to_raw()\n",
    "print(\"Filter done\")\n",
    "#raw=eeg.raw_ica()\n",
    "eeg.create_epochs()"
   ]
  },
  {
   "cell_type": "code",
   "execution_count": 36,
   "id": "5d776b41-bffa-4706-8e0b-b401ae6e9f06",
   "metadata": {},
   "outputs": [
    {
     "name": "stdout",
     "output_type": "stream",
     "text": [
      "(810, 64, 641) (810,)\n"
     ]
    },
    {
     "data": {
      "text/plain": [
       "(45, 64, 641)"
      ]
     },
     "execution_count": 36,
     "metadata": {},
     "output_type": "execute_result"
    }
   ],
   "source": [
    "X_val, y_val = eeg.get_X_y()\n",
    "\n",
    "print(X.shape, y.shape)\n",
    "\n",
    "X_val = X_val[:,:,:]\n",
    "X_val.shape"
   ]
  },
  {
   "cell_type": "code",
   "execution_count": 37,
   "id": "e591afc7-bae9-44e4-95a9-7410b980da3f",
   "metadata": {},
   "outputs": [],
   "source": [
    "test_loader = create_dataloader(X_val, y_val, batch_size=batch_size)"
   ]
  },
  {
   "cell_type": "code",
   "execution_count": 38,
   "id": "e75f0fb0-2262-4a55-828d-dd30f3179a53",
   "metadata": {},
   "outputs": [
    {
     "name": "stdout",
     "output_type": "stream",
     "text": [
      " Val Acc: 37.7778\n"
     ]
    }
   ],
   "source": [
    "# Train the model\n",
    "num_epochs = 1\n",
    "\n",
    "train_loss = []\n",
    "valid_loss = []\n",
    "train_accuracy = []\n",
    "valid_accuracy = []\n",
    "old_acc = 0\n",
    "for epoch in range(num_epochs):\n",
    "\n",
    "    loss = 0.0\n",
    "    correct = 0\n",
    "    iterations = 0\n",
    "    net.eval()\n",
    "    for i, (items, classes) in enumerate(test_loader):\n",
    "        items = Variable(items)\n",
    "        classes = Variable(classes)\n",
    "        \n",
    "        if cuda.is_available():\n",
    "            items = items.cuda(1)\n",
    "            classes = classes.cuda(1)\n",
    "        \n",
    "        outputs = net(items)\n",
    "        loss += criterion(outputs, classes).item()\n",
    "        \n",
    "        _, predicted = torch.max(outputs.data, 1)\n",
    "        correct += (predicted == classes.data).sum()\n",
    "        \n",
    "        iterations += 1\n",
    "\n",
    "    valid_loss.append(loss/iterations)\n",
    "    correct_scalar = np.array([correct.clone().cpu()])[0]\n",
    "    valid_accuracy.append(correct_scalar / len(test_loader.dataset) * 100.0)\n",
    "print (' Val Acc: %.4f'\n",
    "                   %(valid_accuracy[-1]))\n"
   ]
  },
  {
   "cell_type": "markdown",
   "id": "1b544cb1-a832-460c-a623-f682258d9128",
   "metadata": {},
   "source": [
    "### Freeze layer"
   ]
  },
  {
   "cell_type": "code",
   "execution_count": 84,
   "id": "39fbabc3-469a-4aec-8f86-b76d190c36e2",
   "metadata": {},
   "outputs": [
    {
     "name": "stdout",
     "output_type": "stream",
     "text": [
      "Parameter containing:\n",
      "tensor([[[ 4.1647e-02,  3.4528e-02, -5.7438e-02, -4.7233e-02,  2.3287e-02],\n",
      "         [ 1.4989e-02, -5.6901e-03,  1.8233e-02, -2.4305e-02, -3.6511e-02],\n",
      "         [-4.9470e-02,  3.7368e-02,  1.5992e-02, -5.2324e-02, -4.6464e-02],\n",
      "         ...,\n",
      "         [ 4.0320e-02, -1.3623e-02,  4.8849e-02,  5.8337e-03,  5.1701e-02],\n",
      "         [-3.5901e-02, -2.9651e-02, -2.4911e-02, -1.4278e-02, -3.8129e-03],\n",
      "         [ 1.6191e-02,  6.7435e-03, -2.5139e-02,  4.9338e-02, -5.5015e-02]],\n",
      "\n",
      "        [[ 3.5161e-02,  1.7648e-02, -2.9901e-02,  3.2451e-02, -6.8587e-03],\n",
      "         [ 2.4664e-02, -1.7039e-02, -2.3792e-02, -3.5417e-02,  3.6605e-02],\n",
      "         [-3.9870e-02,  2.4531e-02,  3.1589e-02, -4.7702e-02,  3.1310e-02],\n",
      "         ...,\n",
      "         [-9.2841e-03, -3.8762e-02,  4.7822e-03,  5.0097e-02, -3.5561e-02],\n",
      "         [ 3.4020e-02, -3.8841e-02, -4.3921e-02, -3.5000e-02,  3.0236e-02],\n",
      "         [ 3.2494e-02,  7.3372e-03,  2.7424e-02,  6.4405e-03,  5.4075e-02]],\n",
      "\n",
      "        [[ 2.8824e-02,  1.4765e-02, -3.6367e-02, -4.0954e-02,  2.2092e-02],\n",
      "         [-2.8004e-03,  3.8529e-04, -4.8772e-02,  6.7670e-03, -3.8765e-02],\n",
      "         [ 4.2687e-02,  1.7970e-02, -4.0735e-02, -4.4579e-02,  1.1522e-02],\n",
      "         ...,\n",
      "         [-3.9044e-02,  1.4203e-02, -1.5680e-03,  3.4154e-02,  3.6317e-02],\n",
      "         [ 9.9423e-04, -3.0522e-02, -5.2972e-02, -1.9573e-02,  8.3829e-04],\n",
      "         [ 1.7278e-02, -1.5854e-02, -2.0382e-02,  3.1798e-02,  4.1996e-02]],\n",
      "\n",
      "        ...,\n",
      "\n",
      "        [[-7.5661e-03, -4.3987e-03,  3.1617e-02,  2.8222e-03, -3.9121e-03],\n",
      "         [-1.1598e-02, -4.3462e-02, -1.7880e-02,  1.3649e-02,  1.4931e-02],\n",
      "         [ 2.2669e-03,  4.0095e-02,  2.8446e-02, -1.7757e-02,  3.0897e-02],\n",
      "         ...,\n",
      "         [-5.4711e-02,  1.1441e-03, -4.2720e-02, -5.2366e-02,  3.0126e-02],\n",
      "         [ 4.6360e-02,  3.9618e-02,  2.6463e-03,  2.2740e-02, -3.3569e-02],\n",
      "         [-4.8391e-02,  5.0534e-02,  2.1935e-02, -4.0827e-02, -9.9365e-03]],\n",
      "\n",
      "        [[-1.2845e-02,  1.9971e-03, -4.4461e-02,  3.8409e-02,  2.3950e-02],\n",
      "         [ 3.3379e-02,  1.2829e-02, -4.8019e-02, -2.0491e-02,  1.4815e-02],\n",
      "         [-4.4029e-02, -3.1993e-02,  3.6781e-02,  2.1198e-02, -3.5508e-02],\n",
      "         ...,\n",
      "         [-1.3377e-02, -4.0980e-02,  3.0147e-03, -5.6406e-02, -5.8708e-02],\n",
      "         [ 2.4865e-03, -1.4307e-02, -4.2247e-02,  9.0559e-05, -4.9553e-02],\n",
      "         [ 5.4458e-03,  1.4065e-02,  4.7734e-02,  3.1252e-02,  1.6678e-02]],\n",
      "\n",
      "        [[-2.8968e-02,  6.3136e-03,  4.1625e-02, -3.0447e-02, -7.2668e-03],\n",
      "         [-4.5249e-02,  1.6216e-02,  3.8491e-02, -2.7225e-02, -9.5477e-03],\n",
      "         [-2.9516e-02,  3.9766e-02, -4.5493e-03,  2.4520e-02,  3.9197e-02],\n",
      "         ...,\n",
      "         [ 2.1761e-02, -3.8446e-02, -2.1734e-02,  2.3387e-02, -2.5033e-02],\n",
      "         [ 2.3715e-02,  2.0376e-02,  4.4517e-02,  4.3592e-02, -5.6284e-03],\n",
      "         [ 4.4319e-02, -3.3858e-02, -4.4137e-02, -3.3015e-02, -2.7262e-02]]],\n",
      "       device='cuda:3')\n",
      "Parameter containing:\n",
      "tensor([-0.0291, -0.0417,  0.0493, -0.0024, -0.0473,  0.0344, -0.0107, -0.0408,\n",
      "         0.0523,  0.0278,  0.0383,  0.0052,  0.0079, -0.0196, -0.0181,  0.0175,\n",
      "        -0.0065, -0.0229, -0.0286,  0.0096, -0.0425,  0.0234,  0.0425,  0.0123,\n",
      "        -0.0420,  0.0255,  0.0331, -0.0174, -0.0299,  0.0543,  0.0263, -0.0112,\n",
      "        -0.0393, -0.0014,  0.0329, -0.0144,  0.0425, -0.0498, -0.0005, -0.0202,\n",
      "         0.0467,  0.0458,  0.0156,  0.0266,  0.0275,  0.0385,  0.0308,  0.0194,\n",
      "        -0.0246,  0.0171,  0.0413, -0.0150, -0.0225,  0.0447,  0.0018,  0.0364,\n",
      "        -0.0146,  0.0138,  0.0421, -0.0497,  0.0396,  0.0561,  0.0460, -0.0285],\n",
      "       device='cuda:3')\n",
      "Parameter containing:\n",
      "tensor([1.0028, 1.0032, 1.0021, 1.0015, 1.0016, 1.0014, 1.0011, 1.0014, 1.0037,\n",
      "        1.0030, 1.0027, 1.0019, 1.0004, 1.0025, 1.0019, 1.0014, 1.0018, 1.0009,\n",
      "        1.0010, 1.0023, 1.0024, 1.0015, 1.0018, 1.0009, 1.0013, 1.0017, 1.0010,\n",
      "        1.0009, 1.0015, 1.0056, 1.0017, 1.0002, 1.0008, 1.0008, 1.0016, 1.0015,\n",
      "        1.0007, 1.0006, 1.0006, 1.0008, 1.0018, 1.0027, 1.0013, 1.0027, 1.0004,\n",
      "        1.0035, 1.0009, 1.0059, 0.9967, 1.0008, 1.0012, 1.0009, 1.0017, 1.0041,\n",
      "        1.0010, 1.0011, 1.0044, 1.0010, 0.9970, 1.0008, 1.0006, 1.0008, 1.0026,\n",
      "        1.0021], device='cuda:3')\n",
      "Parameter containing:\n",
      "tensor([ 0.0017,  0.0007,  0.0012,  0.0012,  0.0011,  0.0007,  0.0014,  0.0009,\n",
      "         0.0017,  0.0012,  0.0013,  0.0013,  0.0003,  0.0015,  0.0019, -0.0002,\n",
      "         0.0012,  0.0009,  0.0018,  0.0017,  0.0013,  0.0012, -0.0002,  0.0010,\n",
      "         0.0013,  0.0007,  0.0008,  0.0008,  0.0009,  0.0017,  0.0016, -0.0006,\n",
      "        -0.0007,  0.0012,  0.0018,  0.0006,  0.0013,  0.0005,  0.0009, -0.0002,\n",
      "         0.0012,  0.0010,  0.0009,  0.0016, -0.0002,  0.0019, -0.0013,  0.0019,\n",
      "         0.0005,  0.0013,  0.0013,  0.0012,  0.0010,  0.0007,  0.0013,  0.0003,\n",
      "         0.0013, -0.0010, -0.0040,  0.0010, -0.0004,  0.0018,  0.0012,  0.0014],\n",
      "       device='cuda:3')\n",
      "Parameter containing:\n",
      "tensor([[[-1.6470e-02, -2.1441e-02, -3.2774e-02,  4.8768e-02,  1.1380e-02],\n",
      "         [ 3.8128e-02,  4.0583e-03, -1.3012e-03,  2.8485e-05, -1.7355e-02],\n",
      "         [ 2.6851e-02, -4.0928e-02, -1.4957e-03,  5.1069e-02,  3.2448e-02],\n",
      "         ...,\n",
      "         [ 4.0273e-02,  1.8413e-03, -3.6851e-02, -4.6609e-02, -2.8686e-02],\n",
      "         [-8.6218e-03,  3.6343e-02,  3.4861e-02, -4.2653e-02,  3.0469e-02],\n",
      "         [-2.7943e-02, -5.1773e-02, -4.3858e-02, -7.3528e-03, -3.4963e-02]],\n",
      "\n",
      "        [[-3.4538e-02, -4.5807e-02,  4.9448e-02,  5.0518e-02,  1.0984e-02],\n",
      "         [ 4.1366e-02, -4.1433e-02,  4.4718e-02,  7.9920e-03, -4.6423e-02],\n",
      "         [-5.0320e-02, -2.7322e-02, -2.1259e-02, -3.0302e-02,  3.8611e-02],\n",
      "         ...,\n",
      "         [ 2.2177e-02, -1.3442e-02,  1.2098e-03,  1.1227e-02,  1.9534e-02],\n",
      "         [-4.7855e-02,  4.3203e-02, -1.0058e-03, -1.7702e-03, -1.0769e-02],\n",
      "         [-5.9128e-03,  5.0395e-02, -1.7882e-02,  5.9242e-03, -5.6556e-02]],\n",
      "\n",
      "        [[ 1.1440e-02,  4.0510e-02, -4.1774e-02,  4.1367e-02,  4.6549e-02],\n",
      "         [ 4.1479e-02, -5.3982e-02, -2.9870e-02,  1.9772e-02, -1.5910e-02],\n",
      "         [ 2.2733e-02, -1.2438e-02, -8.4402e-03,  2.2968e-02, -1.7606e-02],\n",
      "         ...,\n",
      "         [ 3.0567e-02, -1.8674e-03, -1.2382e-02,  2.5601e-03,  2.5466e-02],\n",
      "         [-4.6378e-02,  2.9575e-02,  5.4928e-02,  3.7553e-02, -5.2113e-02],\n",
      "         [-4.8924e-02, -7.9425e-04,  5.0187e-02,  2.8184e-02,  5.1535e-02]],\n",
      "\n",
      "        ...,\n",
      "\n",
      "        [[ 5.5689e-02,  6.0629e-02,  2.3110e-02,  5.1377e-02, -2.2090e-02],\n",
      "         [ 3.6226e-02,  4.9559e-03, -2.5904e-02,  4.1635e-02, -2.5527e-02],\n",
      "         [-3.0241e-02,  4.3112e-02, -1.4308e-02, -4.6625e-02, -4.9252e-02],\n",
      "         ...,\n",
      "         [-2.9073e-02, -3.1149e-02, -2.3166e-02, -1.1249e-03,  3.0406e-02],\n",
      "         [ 3.5758e-02,  9.7893e-03, -4.4115e-02,  3.3129e-03, -2.7318e-02],\n",
      "         [ 2.4142e-02,  2.9872e-02,  8.2646e-03,  2.1359e-02,  4.2331e-02]],\n",
      "\n",
      "        [[ 8.9584e-03,  5.9259e-02,  6.2063e-02,  3.8365e-02, -9.5346e-03],\n",
      "         [ 1.7590e-02,  2.3766e-02, -2.3042e-02, -4.8536e-02,  1.6645e-02],\n",
      "         [-3.3220e-02, -3.9820e-02,  4.3527e-02, -2.9682e-02, -4.3663e-02],\n",
      "         ...,\n",
      "         [ 1.3656e-02,  3.1093e-02, -2.8482e-02, -1.3673e-02, -4.5257e-02],\n",
      "         [ 2.9137e-02, -4.3419e-02, -1.9593e-02, -2.7833e-02, -1.9963e-02],\n",
      "         [ 8.8027e-03,  2.7464e-02, -7.5699e-03,  1.4524e-02, -5.2109e-02]],\n",
      "\n",
      "        [[ 3.2886e-02,  1.2235e-02,  2.2875e-03, -4.6811e-02,  3.2583e-02],\n",
      "         [ 4.0247e-02,  1.6966e-02, -1.6681e-02,  5.3863e-02, -2.7493e-02],\n",
      "         [ 4.7958e-02, -2.3627e-02,  4.7509e-02,  3.8762e-02, -2.1922e-02],\n",
      "         ...,\n",
      "         [ 1.6402e-02, -3.9567e-03,  4.3484e-02,  4.5081e-02, -5.1915e-02],\n",
      "         [-5.3311e-02,  3.0924e-02, -4.5815e-02, -4.1589e-03, -4.7676e-02],\n",
      "         [-3.2816e-03, -3.9415e-02,  9.5804e-05, -8.2858e-03,  3.8894e-02]]],\n",
      "       device='cuda:3')\n",
      "Parameter containing:\n",
      "tensor([ 3.9156e-02,  4.8002e-02, -8.5742e-03, -5.2428e-03, -1.0122e-02,\n",
      "        -4.8356e-02, -4.6249e-02, -2.8289e-02, -3.5431e-03,  5.1186e-02,\n",
      "        -2.6992e-02, -5.2796e-02, -1.0515e-02,  3.2348e-02, -2.6065e-02,\n",
      "        -2.7734e-02,  5.0628e-03,  2.8502e-02, -3.7820e-02, -4.3754e-02,\n",
      "        -2.2383e-02, -5.4794e-03, -4.1161e-02, -5.5689e-02,  2.1425e-02,\n",
      "        -2.1625e-02, -3.3283e-02, -3.6811e-02,  3.8658e-02, -4.6823e-02,\n",
      "        -1.6938e-02,  4.9041e-02,  3.2823e-02, -3.7870e-03, -5.0817e-02,\n",
      "         1.4099e-02, -1.9052e-02, -5.1892e-02, -4.4792e-02,  3.4775e-02,\n",
      "         3.4824e-02, -1.9233e-02,  4.4584e-02, -2.9763e-02,  6.0987e-03,\n",
      "         5.2137e-02,  3.1275e-02, -4.4472e-02, -2.5058e-02, -2.6822e-02,\n",
      "        -1.9537e-02,  3.4602e-03, -4.4940e-02,  4.4854e-02, -3.9248e-02,\n",
      "        -6.3306e-03,  3.0792e-02, -7.2908e-04,  5.5555e-02,  1.0694e-02,\n",
      "        -4.2307e-02, -5.1302e-02, -4.0549e-02,  1.2278e-02, -3.7090e-02,\n",
      "        -3.7437e-02, -4.6765e-02,  4.5141e-02, -4.3343e-02, -2.8776e-02,\n",
      "        -3.2025e-02,  2.8063e-02, -3.7299e-02,  2.3798e-02, -3.2315e-02,\n",
      "         5.0749e-02,  1.2557e-02, -3.3950e-03, -4.4709e-02, -3.6862e-03,\n",
      "        -4.1230e-02, -1.2016e-02, -4.5513e-05,  2.7489e-02, -4.3514e-02,\n",
      "        -1.1229e-02, -5.1719e-02, -1.2731e-02,  1.0681e-02, -4.0219e-02,\n",
      "        -1.5499e-02, -1.5045e-03,  2.9509e-02,  5.0860e-02,  4.5203e-03,\n",
      "         3.3978e-02,  2.1824e-02, -1.4370e-02, -5.1140e-02,  1.2214e-02,\n",
      "        -4.6432e-02, -4.7367e-02,  5.4772e-02,  4.6392e-04,  8.6901e-03,\n",
      "         8.0300e-03,  3.8301e-02,  3.2484e-02, -2.8383e-02,  4.8068e-02,\n",
      "         2.1802e-02,  4.0569e-02,  2.9551e-02,  1.5152e-02, -4.2289e-02,\n",
      "        -4.6299e-02,  4.9663e-02,  1.8008e-02, -4.1857e-02, -1.7265e-02,\n",
      "        -4.0835e-02,  4.6335e-02,  3.4363e-02,  1.5040e-02,  2.9962e-02,\n",
      "         2.9968e-02,  4.5124e-02,  4.7031e-02], device='cuda:3')\n",
      "Parameter containing:\n",
      "tensor([1.0014, 1.0069, 1.0021, 1.0025, 1.0075, 1.0021, 1.0053, 1.0019, 1.0038,\n",
      "        1.0054, 1.0043, 1.0016, 1.0020, 1.0055, 1.0008, 1.0013, 1.0041, 1.0012,\n",
      "        1.0025, 1.0040, 1.0053, 1.0049, 1.0064, 1.0020, 1.0017, 1.0038, 1.0023,\n",
      "        1.0017, 1.0066, 1.0053, 1.0016, 1.0018, 1.0047, 1.0019, 1.0063, 1.0027,\n",
      "        1.0011, 1.0040, 1.0052, 1.0038, 1.0014, 1.0067, 1.0037, 1.0008, 1.0015,\n",
      "        1.0053, 1.0028, 1.0081, 1.0031, 1.0013, 1.0045, 1.0034, 1.0010, 1.0013,\n",
      "        1.0047, 1.0014, 1.0017, 1.0040, 1.0031, 1.0040, 1.0044, 1.0015, 1.0012,\n",
      "        1.0034, 1.0042, 1.0019, 1.0055, 1.0072, 1.0031, 1.0062, 1.0052, 1.0041,\n",
      "        1.0032, 1.0013, 1.0044, 1.0030, 1.0051, 1.0037, 1.0011, 1.0041, 1.0023,\n",
      "        1.0049, 1.0034, 1.0089, 1.0026, 1.0096, 1.0041, 1.0028, 1.0025, 1.0028,\n",
      "        1.0019, 1.0048, 1.0027, 1.0035, 1.0026, 1.0010, 1.0017, 1.0045, 1.0059,\n",
      "        1.0024, 1.0045, 1.0068, 1.0037, 1.0023, 1.0012, 1.0035, 1.0044, 1.0041,\n",
      "        1.0030, 1.0035, 1.0013, 1.0024, 1.0033, 1.0009, 1.0046, 1.0025, 1.0028,\n",
      "        1.0039, 1.0027, 1.0008, 1.0091, 1.0010, 1.0013, 1.0014, 1.0009, 1.0056,\n",
      "        1.0024, 1.0022], device='cuda:3')\n",
      "Parameter containing:\n",
      "tensor([0.0033, 0.0132, 0.0071, 0.0073, 0.0142, 0.0078, 0.0180, 0.0072, 0.0086,\n",
      "        0.0106, 0.0089, 0.0069, 0.0071, 0.0147, 0.0003, 0.0041, 0.0093, 0.0040,\n",
      "        0.0066, 0.0112, 0.0116, 0.0146, 0.0125, 0.0064, 0.0047, 0.0103, 0.0074,\n",
      "        0.0064, 0.0107, 0.0134, 0.0055, 0.0053, 0.0140, 0.0076, 0.0153, 0.0083,\n",
      "        0.0029, 0.0099, 0.0095, 0.0068, 0.0048, 0.0111, 0.0090, 0.0037, 0.0044,\n",
      "        0.0096, 0.0076, 0.0142, 0.0097, 0.0026, 0.0137, 0.0076, 0.0018, 0.0031,\n",
      "        0.0130, 0.0039, 0.0046, 0.0154, 0.0093, 0.0138, 0.0127, 0.0020, 0.0037,\n",
      "        0.0071, 0.0111, 0.0044, 0.0120, 0.0182, 0.0082, 0.0175, 0.0120, 0.0104,\n",
      "        0.0075, 0.0054, 0.0102, 0.0091, 0.0135, 0.0074, 0.0044, 0.0134, 0.0063,\n",
      "        0.0103, 0.0074, 0.0138, 0.0117, 0.0161, 0.0126, 0.0109, 0.0092, 0.0138,\n",
      "        0.0085, 0.0175, 0.0069, 0.0080, 0.0118, 0.0033, 0.0063, 0.0158, 0.0103,\n",
      "        0.0063, 0.0095, 0.0157, 0.0088, 0.0058, 0.0037, 0.0086, 0.0127, 0.0106,\n",
      "        0.0147, 0.0113, 0.0049, 0.0056, 0.0092, 0.0033, 0.0128, 0.0053, 0.0072,\n",
      "        0.0059, 0.0066, 0.0034, 0.0148, 0.0035, 0.0048, 0.0063, 0.0031, 0.0199,\n",
      "        0.0115, 0.0088], device='cuda:3')\n",
      "Parameter containing:\n",
      "tensor([[ 0.0120, -0.1353, -0.0337,  ..., -0.0848, -0.0460,  0.0075],\n",
      "        [-0.0109,  0.1339,  0.0359,  ...,  0.0912,  0.0477, -0.0110]],\n",
      "       device='cuda:3', requires_grad=True)\n",
      "Parameter containing:\n",
      "tensor([-0.0054,  0.0035], device='cuda:3', requires_grad=True)\n"
     ]
    }
   ],
   "source": [
    "for para in net.parameters():\n",
    "    print(para)"
   ]
  },
  {
   "cell_type": "code",
   "execution_count": 85,
   "id": "f879a0a6-89f1-4c17-8b85-4c301377e303",
   "metadata": {},
   "outputs": [
    {
     "data": {
      "text/plain": [
       "odict_keys(['layer1.0.weight', 'layer1.0.bias', 'layer1.1.weight', 'layer1.1.bias', 'layer1.1.running_mean', 'layer1.1.running_var', 'layer1.1.num_batches_tracked', 'layer2.0.weight', 'layer2.0.bias', 'layer2.1.weight', 'layer2.1.bias', 'layer2.1.running_mean', 'layer2.1.running_var', 'layer2.1.num_batches_tracked', 'fc.weight', 'fc.bias'])"
      ]
     },
     "execution_count": 85,
     "metadata": {},
     "output_type": "execute_result"
    }
   ],
   "source": [
    "parms = net.state_dict()\n",
    "parms.keys()"
   ]
  },
  {
   "cell_type": "code",
   "execution_count": 86,
   "id": "45dc7b5e-38bd-4be1-aa32-a11f5e8ef3d7",
   "metadata": {},
   "outputs": [],
   "source": [
    "for name,param in net.named_parameters():\n",
    "    if param.requires_grad and 'layer1' in name:\n",
    "        param.requires_grad = False\n",
    "    if param.requires_grad and 'layer2' in name:\n",
    "        param.requires_grad = False"
   ]
  },
  {
   "cell_type": "code",
   "execution_count": 87,
   "id": "c0342085-ba8c-4f89-b6ed-bbab7d5dcd8f",
   "metadata": {},
   "outputs": [],
   "source": [
    "optimizer = optim.SGD(filter(lambda p: p.requires_grad, net.parameters()), lr=0.1)"
   ]
  },
  {
   "cell_type": "code",
   "execution_count": 94,
   "id": "6322a06c-e29f-497f-9e3d-7c08b0e23f71",
   "metadata": {},
   "outputs": [
    {
     "name": "stdout",
     "output_type": "stream",
     "text": [
      "Raw done\n",
      ">>> Apply filter.\n",
      "Filtering raw data in 3 contiguous segments\n",
      "Setting up band-pass filter from 1 - 40 Hz\n",
      "\n",
      "FIR filter parameters\n",
      "---------------------\n",
      "Designing a one-pass, zero-phase, non-causal bandpass filter:\n",
      "- Windowed time-domain design (firwin) method\n",
      "- Hamming window with 0.0194 passband ripple and 53 dB stopband attenuation\n",
      "- Lower passband edge: 1.00\n",
      "- Lower transition bandwidth: 1.00 Hz (-6 dB cutoff frequency: 0.50 Hz)\n",
      "- Upper passband edge: 40.00 Hz\n",
      "- Upper transition bandwidth: 10.00 Hz (-6 dB cutoff frequency: 45.00 Hz)\n",
      "- Filter length: 529 samples (3.306 sec)\n",
      "\n"
     ]
    },
    {
     "name": "stderr",
     "output_type": "stream",
     "text": [
      "[Parallel(n_jobs=1)]: Using backend SequentialBackend with 1 concurrent workers.\n",
      "[Parallel(n_jobs=1)]: Done   1 out of   1 | elapsed:    0.0s remaining:    0.0s\n",
      "[Parallel(n_jobs=1)]: Done   2 out of   2 | elapsed:    0.0s remaining:    0.0s\n",
      "[Parallel(n_jobs=1)]: Done   3 out of   3 | elapsed:    0.0s remaining:    0.0s\n",
      "[Parallel(n_jobs=1)]: Done   4 out of   4 | elapsed:    0.0s remaining:    0.0s\n",
      "[Parallel(n_jobs=1)]: Done  64 out of  64 | elapsed:    0.1s finished\n"
     ]
    },
    {
     "name": "stdout",
     "output_type": "stream",
     "text": [
      "Filter done\n",
      ">>> Create Epochs.\n",
      "Used Annotations descriptions: ['T1', 'T2']\n",
      "Not setting metadata\n",
      "45 matching events found\n",
      "No baseline correction applied\n",
      "0 projection items activated\n",
      "Using data from preloaded Raw for 45 events and 641 original time points ...\n",
      "0 bad epochs dropped\n"
     ]
    },
    {
     "data": {
      "text/plain": [
       "(array([[  672,     0,     0],\n",
       "        [ 2000,     0,     1],\n",
       "        [ 3328,     0,     1],\n",
       "        [ 4656,     0,     0],\n",
       "        [ 5984,     0,     0],\n",
       "        [ 7312,     0,     1],\n",
       "        [ 8640,     0,     1],\n",
       "        [ 9968,     0,     0],\n",
       "        [11296,     0,     1],\n",
       "        [12624,     0,     0],\n",
       "        [13952,     0,     1],\n",
       "        [15280,     0,     0],\n",
       "        [16608,     0,     1],\n",
       "        [17936,     0,     0],\n",
       "        [19264,     0,     0],\n",
       "        [20672,     0,     0],\n",
       "        [22000,     0,     1],\n",
       "        [23328,     0,     0],\n",
       "        [24656,     0,     1],\n",
       "        [25984,     0,     1],\n",
       "        [27312,     0,     0],\n",
       "        [28640,     0,     0],\n",
       "        [29968,     0,     1],\n",
       "        [31296,     0,     1],\n",
       "        [32624,     0,     0],\n",
       "        [33952,     0,     1],\n",
       "        [35280,     0,     0],\n",
       "        [36608,     0,     1],\n",
       "        [37936,     0,     0],\n",
       "        [39264,     0,     1],\n",
       "        [40672,     0,     0],\n",
       "        [42000,     0,     1],\n",
       "        [43328,     0,     1],\n",
       "        [44656,     0,     0],\n",
       "        [45984,     0,     1],\n",
       "        [47312,     0,     0],\n",
       "        [48640,     0,     0],\n",
       "        [49968,     0,     1],\n",
       "        [51296,     0,     1],\n",
       "        [52624,     0,     0],\n",
       "        [53952,     0,     0],\n",
       "        [55280,     0,     1],\n",
       "        [56608,     0,     0],\n",
       "        [57936,     0,     1],\n",
       "        [59264,     0,     1]]),\n",
       " {'T1': 0, 'T2': 1})"
      ]
     },
     "execution_count": 94,
     "metadata": {},
     "output_type": "execute_result"
    }
   ],
   "source": [
    "# home directory + datasets folder\n",
    "#path = '/content/drive/MyDrive/MNE-eegbci-data/files/eegmmidb/'\n",
    "path = '1.0.0'\n",
    "base_url = 'https://physionet.org/files/eegmmidb/'\n",
    "# subjects = [1]\n",
    "#runs = [3, 4, 7, 8, 11, 12]\n",
    "runs = [4, 8, 12]\n",
    "subjects = [i for i in range(83,84)]\n",
    "#subjects = [1]\n",
    "# runs = [6,10,14]\n",
    "\n",
    "eeg = EEG(path, base_url, subjects, runs)\n",
    "raw=eeg.data_to_raw()\n",
    "print(\"Raw done\")\n",
    "# apply filter\n",
    "freq = (1., 40.)\n",
    "raw=eeg.filter(freq=freq)\n",
    "#raw=eeg.data_to_raw()\n",
    "print(\"Filter done\")\n",
    "#raw=eeg.raw_ica()\n",
    "eeg.create_epochs()"
   ]
  },
  {
   "cell_type": "code",
   "execution_count": 95,
   "id": "213faa07-a62b-4cd9-b769-79c873f76637",
   "metadata": {},
   "outputs": [
    {
     "name": "stdout",
     "output_type": "stream",
     "text": [
      "(45, 64, 641) (45,)\n"
     ]
    },
    {
     "data": {
      "text/plain": [
       "(45, 64, 641)"
      ]
     },
     "execution_count": 95,
     "metadata": {},
     "output_type": "execute_result"
    }
   ],
   "source": [
    "X, y = eeg.get_X_y()\n",
    "\n",
    "print(X.shape, y.shape)\n",
    "\n",
    "X = X[:,:,:]\n",
    "X.shape"
   ]
  },
  {
   "cell_type": "code",
   "execution_count": 96,
   "id": "f888af08-13a2-46d4-a75d-9efd94b6dc8a",
   "metadata": {},
   "outputs": [
    {
     "name": "stdout",
     "output_type": "stream",
     "text": [
      "(36, 64, 641) (36,)\n"
     ]
    }
   ],
   "source": [
    "X_train, X_test, y_train, y_test = train_test_split(X, y, test_size=0.2)\n",
    "\n",
    "print(X_train.shape, y_train.shape)"
   ]
  },
  {
   "cell_type": "code",
   "execution_count": 97,
   "id": "dfaba4cf-417a-4b2d-bf00-65081c4dadee",
   "metadata": {},
   "outputs": [],
   "source": [
    "train_loader = create_dataloader(X_train, y_train, batch_size=batch_size)\n",
    "test_loader = create_dataloader(X_test, y_test, batch_size=batch_size)"
   ]
  },
  {
   "cell_type": "code",
   "execution_count": 98,
   "id": "0129c003-105e-4a1e-bf46-1ec9344fc13f",
   "metadata": {},
   "outputs": [
    {
     "name": "stdout",
     "output_type": "stream",
     "text": [
      "Epoch 1/100, Tr Loss: 172.0203, Tr Acc: 41.6667, Val Loss: 239.8651, Val Acc: 66.6667\n",
      "Epoch 51/100, Tr Loss: 0.0000, Tr Acc: 100.0000, Val Loss: 6.8296, Val Acc: 88.8889\n",
      "Epoch 100/100, Tr Loss: 0.0000, Tr Acc: 100.0000, Val Loss: 6.7768, Val Acc: 88.8889\n"
     ]
    }
   ],
   "source": [
    "# Train the model\n",
    "num_epochs = 100\n",
    "\n",
    "train_loss = []\n",
    "valid_loss = []\n",
    "train_accuracy = []\n",
    "valid_accuracy = []\n",
    "old_acc = 0\n",
    "for epoch in range(num_epochs):\n",
    "    iter_loss = 0.0\n",
    "    correct = 0\n",
    "    iterations = 0\n",
    "    \n",
    "    net.train()\n",
    "    \n",
    "    for i, (items, classes) in enumerate(train_loader):\n",
    "        items = Variable(items)\n",
    "        classes = Variable(classes)\n",
    "        \n",
    "        if cuda.is_available():\n",
    "            items = items.cuda(1)\n",
    "            classes = classes.cuda(1)\n",
    "        \n",
    "        optimizer.zero_grad()\n",
    "        outputs = net(items)\n",
    "        loss = criterion(outputs, classes)\n",
    "        #print(outputs)\n",
    "        iter_loss += loss.item()\n",
    "        loss.backward()\n",
    "        optimizer.step()\n",
    "        #print(loss)\n",
    "        _, predicted = torch.max(outputs.data, 1)\n",
    "        correct += (predicted == classes.data).sum()\n",
    "        iterations += 1\n",
    "\n",
    "    train_loss.append(iter_loss/iterations)\n",
    "    \n",
    "    train_accuracy.append((100 * correct.float() / len(train_loader.dataset)))\n",
    "    \n",
    "    loss = 0.0\n",
    "    correct = 0\n",
    "    iterations = 0\n",
    "    net.eval()\n",
    "    \n",
    "    for i, (items, classes) in enumerate(test_loader):\n",
    "        items = Variable(items)\n",
    "        classes = Variable(classes)\n",
    "        \n",
    "        if cuda.is_available():\n",
    "            items = items.cuda(1)\n",
    "            classes = classes.cuda(1)\n",
    "        \n",
    "        outputs = net(items)\n",
    "        loss += criterion(outputs, classes).item()\n",
    "        \n",
    "        _, predicted = torch.max(outputs.data, 1)\n",
    "        correct += (predicted == classes.data).sum()\n",
    "        \n",
    "        iterations += 1\n",
    "\n",
    "    valid_loss.append(loss/iterations)\n",
    "    correct_scalar = np.array([correct.clone().cpu()])[0]\n",
    "    valid_accuracy.append(correct_scalar / len(test_loader.dataset) * 100.0)\n",
    "    if valid_accuracy[-1] > old_acc :\n",
    "        torch.save(net.state_dict(), 'model_find_tune')\n",
    "        old_acc = valid_accuracy[-1]\n",
    "    if (epoch%50) == 0 :\n",
    "        print ('Epoch %d/%d, Tr Loss: %.4f, Tr Acc: %.4f, Val Loss: %.4f, Val Acc: %.4f'\n",
    "                   %(epoch+1, num_epochs, train_loss[-1], train_accuracy[-1], valid_loss[-1], valid_accuracy[-1]))\n",
    "print ('Epoch %d/%d, Tr Loss: %.4f, Tr Acc: %.4f, Val Loss: %.4f, Val Acc: %.4f'\n",
    "                   %(epoch+1, num_epochs, train_loss[-1], train_accuracy[-1], valid_loss[-1], valid_accuracy[-1]))\n"
   ]
  },
  {
   "cell_type": "code",
   "execution_count": 99,
   "id": "73d7e6d9-5273-4000-a351-3164b5956cd6",
   "metadata": {},
   "outputs": [
    {
     "data": {
      "image/png": "[encoded data removed]",
      "text/plain": [
       "<Figure size 720x720 with 1 Axes>"
      ]
     },
     "metadata": {
      "needs_background": "light"
     },
     "output_type": "display_data"
    }
   ],
   "source": [
    "do_plot(train_accuracy, valid_accuracy,\"acc\")"
   ]
  },
  {
   "cell_type": "code",
   "execution_count": 100,
   "id": "c9dcb2fd-b2b5-4b6c-8505-0e6301f22013",
   "metadata": {},
   "outputs": [
    {
     "data": {
      "image/png": "[encoded data removed]",
      "text/plain": [
       "<Figure size 720x720 with 1 Axes>"
      ]
     },
     "metadata": {
      "needs_background": "light"
     },
     "output_type": "display_data"
    }
   ],
   "source": [
    "do_plot(train_loss, valid_loss,\"loss\")"
   ]
  },
  {
   "cell_type": "code",
   "execution_count": null,
   "id": "1463f200-df21-4705-98c2-a82249e984d7",
   "metadata": {},
   "outputs": [],
   "source": []
  }
 ],
 "metadata": {
  "kernelspec": {
   "display_name": "Python 3 (ipykernel)",
   "language": "python",
   "name": "python3"
  },
  "language_info": {
   "codemirror_mode": {
    "name": "ipython",
    "version": 3
   },
   "file_extension": ".py",
   "mimetype": "text/x-python",
   "name": "python",
   "nbconvert_exporter": "python",
   "pygments_lexer": "ipython3",
   "version": "3.8.10"
  }
 },
 "nbformat": 4,
 "nbformat_minor": 5
}
