{
 "cells": [
  {
   "cell_type": "code",
   "execution_count": 1,
   "id": "361b73c4-742d-45c8-b907-565f103ec804",
   "metadata": {},
   "outputs": [],
   "source": [
    "import os\n",
    "#comment this if you are not using puffer?\n",
    "os.environ['http_proxy'] = 'http://192.41.170.23:3128'\n",
    "os.environ['https_proxy'] = 'http://192.41.170.23:3128'"
   ]
  },
  {
   "cell_type": "code",
   "execution_count": 2,
   "id": "9c98b0ee-e674-429f-a390-d664ef22eeb8",
   "metadata": {},
   "outputs": [
    {
     "name": "stderr",
     "output_type": "stream",
     "text": [
      "/home/nutapolt/.local/lib/python3.8/site-packages/tqdm/auto.py:22: TqdmWarning: IProgress not found. Please update jupyter and ipywidgets. See https://ipywidgets.readthedocs.io/en/stable/user_install.html\n",
      "  from .autonotebook import tqdm as notebook_tqdm\n"
     ]
    }
   ],
   "source": [
    "import numpy as np\n",
    "import matplotlib.pyplot as plt\n",
    "import mne\n",
    "import os\n",
    "import sys\n",
    "from mne.datasets import eegbci\n",
    "import glob\n",
    "from IPython.display import clear_output\n",
    "import numpy as np\n",
    "import torch\n",
    "from torch import nn\n",
    "import torch.optim as optim\n",
    "\n",
    "from mne.datasets import eegbci\n",
    "from sklearn.model_selection import train_test_split\n",
    "from torch.utils.data import TensorDataset\n",
    "from torch.utils.data import DataLoader\n",
    "from scipy import signal\n",
    "\n",
    "import torch\n",
    "import torch.cuda as cuda\n",
    "import torch.nn as nn\n",
    "from torch.autograd import Variable\n",
    "import math\n"
   ]
  },
  {
   "cell_type": "code",
   "execution_count": 3,
   "id": "ac7f0904-0005-4184-93fc-3f0bd2cd815e",
   "metadata": {},
   "outputs": [
    {
     "data": {
      "text/plain": [
       "True"
      ]
     },
     "execution_count": 3,
     "metadata": {},
     "output_type": "execute_result"
    }
   ],
   "source": [
    "torch.cuda.is_available()"
   ]
  },
  {
   "cell_type": "code",
   "execution_count": 4,
   "id": "1b75684e-46b1-4b7a-9d2b-f77dddfd943b",
   "metadata": {},
   "outputs": [],
   "source": [
    "class EEG:\n",
    "    def __init__(self, path, base_url, subjects, runs):\n",
    "        self.subpath = ''\n",
    "        self.path = path\n",
    "        print(path)\n",
    "        self.base_url = base_url\n",
    "        self.subjects = subjects\n",
    "        self.runs = runs\n",
    "        \n",
    "        # download data if does not exist in path.\n",
    "        # self.load_data()\n",
    "        self.data_to_raw()\n",
    "    \n",
    "    def load_data(self):\n",
    "        print(f\">>> Start download from: {self.base_url}.\")\n",
    "        print(f\"Downloading files to: {self.path}.\")\n",
    "        for subject in self.subjects:\n",
    "            eegbci.load_data(subject,self.runs,path=self.path,base_url=self.base_url)\n",
    "        print(\"Done.\")\n",
    "    \n",
    "    \n",
    "        \n",
    "        print(\"Done.\")\n",
    "        return self.raw\n",
    "    def filter(self, freq):\n",
    "        raw = self.raw\n",
    "        low, high = freq\n",
    "        print(f\">>> Apply filter.\")\n",
    "        self.raw.filter(low, high, fir_design='firwin', verbose=20)\n",
    "        return  raw\n",
    "    def raw_ica(self):\n",
    "        raw = self.raw\n",
    "        ica = mne.preprocessing.ICA(n_components=1, max_iter=100)\n",
    "        ica.fit(raw)\n",
    "        ica.exclude = [1, 2]  # details on how we picked these are omitted here\n",
    "        ica.plot_properties(raw, picks=ica.exclude)\n",
    "        ica.apply(raw)\n",
    "        print('ICA DONE ????')\n",
    "        return  raw\n",
    "        \n",
    "    def get_events(self):\n",
    "        event_id = dict(T1=0, T2=1) # the events we want to extract\n",
    "        events, event_id = mne.events_from_annotations(self.raw, event_id=event_id)\n",
    "        return events, event_id\n",
    "    \n",
    "    def get_epochs(self, events, event_id):\n",
    "        picks = mne.pick_types(self.raw.info, eeg=True, exclude='bads')\n",
    "        tmin = 0\n",
    "        tmax = 4\n",
    "        epochs = mne.Epochs(self.raw, events, event_id, tmin, tmax, proj=True, \n",
    "                            picks=picks, baseline=None, preload=True)\n",
    "        return epochs\n",
    "    \n",
    "    \n",
    "        \n",
    "    \n",
    "    def data_to_raw(self):\n",
    "        fullpath = os.path.join(self.path, *self.subpath.split(sep='/'))\n",
    "        #print(f\">>> Extract all subjects from: {fullpath}.\")\n",
    "        extension = \"fif\"\n",
    "        raws = []\n",
    "        count = 1\n",
    "        for i, subject in enumerate(self.subjects):\n",
    "            sname = f\"S{str(subject).zfill(3)}\".upper()\n",
    "            \n",
    "            for j, run in enumerate(self.runs):\n",
    "                rname = f\"{sname}R{str(run).zfill(2)}\".upper()\n",
    "                path_file = os.path.join(fullpath, sname, f'{rname}.{extension}')\n",
    "                #print(path_file)\n",
    "                #print(f\"Loading file #{count}/{len(self.subjects)*len(self.runs)}: {f'{rname}.{extension}'}\")\n",
    "                raw = mne.io.read_raw_fif( path_file , preload=True, verbose='WARNING' )\n",
    "                raws.append(raw)\n",
    "                count += 1\n",
    "\n",
    "        raw = mne.io.concatenate_raws(raws)\n",
    "        eegbci.standardize(raw)\n",
    "        montage = mne.channels.make_standard_montage('standard_1005')\n",
    "        raw.set_montage(montage)\n",
    "        self.raw = raw\n",
    "    \n",
    "    def create_epochs(self):\n",
    "        print(\">>> Create Epochs.\")\n",
    "        \n",
    "        events, event_id = self.get_events()\n",
    "        self.epochs = self.get_epochs(events, event_id)\n",
    "        print(\"Done.\")\n",
    "        return events , event_id\n",
    "# getepoch(raw,4, 10,reject_bad=False,on_missing='warn')    \n",
    "    def get_X_y(self):\n",
    "        events = mne.find_events(raw)\n",
    "        \n",
    "        epochs = mne.Epochs(\n",
    "        raw,\n",
    "        events,\n",
    "        event_id=[1,2,3],\n",
    "        tmin=-2,\n",
    "        tmax=2,\n",
    "        picks=\"data\",\n",
    "        on_missing='warn',\n",
    "        baseline=None\n",
    "    )\n",
    "            \n",
    "            #events , event_id=self.create_epochs()\n",
    "        self.X = epochs.get_data()\n",
    "        self.y = epochs.events[:, -1]\n",
    "        return self.X, self.y \n",
    "\n",
    "        \n",
    "def getepoch(raws,trial_duration, calibration_duration,reject_bad=False,on_missing='warn'):\n",
    "    #reject_criteria = dict(eeg=100e-6)  # 100 µV\n",
    "    #flat_criteria = dict(eeg=1e-6)  # 1 µV\n",
    "    epochs_list = []\n",
    "    raws = [raws]\n",
    "    print(len(raws))\n",
    "    for raw in raws:\n",
    "        print(raw)\n",
    "        events = mne.find_events(raw)\n",
    "        epochs = mne.Epochs(\n",
    "            raw,\n",
    "            events,\n",
    "            event_id=[1,2,3],\n",
    "            tmin=-calibration_duration,\n",
    "            tmax=trial_duration,\n",
    "            picks=\"data\",\n",
    "            on_missing=on_missing,\n",
    "            baseline=None\n",
    "        )\n",
    "        \n",
    "        epochs_list.append(epochs)\n",
    "    epochs = mne.concatenate_epochs(epochs_list)\n",
    "    labels = epochs.events[:,-1]\n",
    "    \n",
    "    print(f'Found {len(labels)} epochs')\n",
    "    print(epochs)\n",
    "    print(labels)\n",
    "\n",
    "    return epochs.get_data(),epochs,labels\n",
    "\n",
    "        \n",
    "        \n",
    "def do_plot(train_loss, valid_loss,ty):\n",
    "    if ty == \"loss\":\n",
    "        plt.figure(figsize=(10,10))\n",
    "        \n",
    "        plt.plot(train_loss, label='train_loss')\n",
    "        plt.plot(valid_loss, label='valid_loss')\n",
    "        plt.title('loss {}'.format(iter))\n",
    "        plt.legend()\n",
    "        plt.show()\n",
    "    if ty == \"acc\":\n",
    "        plt.figure(figsize=(10,10))\n",
    "        \n",
    "        plot_ty=torch.tensor(train_loss, device = 'cpu')\n",
    "        plat_va=torch.tensor(valid_loss, device = 'cpu')\n",
    "        plt.plot(plot_ty, label='train_acc')\n",
    "        plt.plot(plat_va, label='valid_acc')\n",
    "        plt.title('acc {}'.format(iter))\n",
    "        plt.legend()\n",
    "        plt.show()"
   ]
  },
  {
   "cell_type": "code",
   "execution_count": 5,
   "id": "9c66b031-4c3d-4b03-8c50-90c2d4e2573a",
   "metadata": {},
   "outputs": [
    {
     "name": "stdout",
     "output_type": "stream",
     "text": [
      "\n",
      "\n"
     ]
    },
    {
     "name": "stderr",
     "output_type": "stream",
     "text": [
      "/tmp/ipykernel_13810/2543180692.py:71: RuntimeWarning: This filename (S002/S002R03.fif) does not conform to MNE naming conventions. All raw files should end with raw.fif, raw_sss.fif, raw_tsss.fif, _meg.fif, _eeg.fif, _ieeg.fif, raw.fif.gz, raw_sss.fif.gz, raw_tsss.fif.gz, _meg.fif.gz, _eeg.fif.gz or _ieeg.fif.gz\n",
      "  raw = mne.io.read_raw_fif( path_file , preload=True, verbose='WARNING' )\n",
      "/tmp/ipykernel_13810/2543180692.py:71: RuntimeWarning: This filename (S002/S002R05.fif) does not conform to MNE naming conventions. All raw files should end with raw.fif, raw_sss.fif, raw_tsss.fif, _meg.fif, _eeg.fif, _ieeg.fif, raw.fif.gz, raw_sss.fif.gz, raw_tsss.fif.gz, _meg.fif.gz, _eeg.fif.gz or _ieeg.fif.gz\n",
      "  raw = mne.io.read_raw_fif( path_file , preload=True, verbose='WARNING' )\n",
      "/tmp/ipykernel_13810/2543180692.py:71: RuntimeWarning: This filename (S002/S002R07.fif) does not conform to MNE naming conventions. All raw files should end with raw.fif, raw_sss.fif, raw_tsss.fif, _meg.fif, _eeg.fif, _ieeg.fif, raw.fif.gz, raw_sss.fif.gz, raw_tsss.fif.gz, _meg.fif.gz, _eeg.fif.gz or _ieeg.fif.gz\n",
      "  raw = mne.io.read_raw_fif( path_file , preload=True, verbose='WARNING' )\n",
      "/tmp/ipykernel_13810/2543180692.py:71: RuntimeWarning: This filename (S002/S002R03.fif) does not conform to MNE naming conventions. All raw files should end with raw.fif, raw_sss.fif, raw_tsss.fif, _meg.fif, _eeg.fif, _ieeg.fif, raw.fif.gz, raw_sss.fif.gz, raw_tsss.fif.gz, _meg.fif.gz, _eeg.fif.gz or _ieeg.fif.gz\n",
      "  raw = mne.io.read_raw_fif( path_file , preload=True, verbose='WARNING' )\n"
     ]
    },
    {
     "name": "stdout",
     "output_type": "stream",
     "text": [
      "Raw done\n",
      ">>> Apply filter.\n",
      "Filtering raw data in 3 contiguous segments\n",
      "Setting up band-pass filter from 1 - 45 Hz\n",
      "\n",
      "FIR filter parameters\n",
      "---------------------\n",
      "Designing a one-pass, zero-phase, non-causal bandpass filter:\n",
      "- Windowed time-domain design (firwin) method\n",
      "- Hamming window with 0.0194 passband ripple and 53 dB stopband attenuation\n",
      "- Lower passband edge: 1.00\n",
      "- Lower transition bandwidth: 1.00 Hz (-6 dB cutoff frequency: 0.50 Hz)\n",
      "- Upper passband edge: 45.00 Hz\n",
      "- Upper transition bandwidth: 11.25 Hz (-6 dB cutoff frequency: 50.62 Hz)\n",
      "- Filter length: 825 samples (3.300 sec)\n",
      "\n"
     ]
    },
    {
     "name": "stderr",
     "output_type": "stream",
     "text": [
      "/tmp/ipykernel_13810/2543180692.py:71: RuntimeWarning: This filename (S002/S002R05.fif) does not conform to MNE naming conventions. All raw files should end with raw.fif, raw_sss.fif, raw_tsss.fif, _meg.fif, _eeg.fif, _ieeg.fif, raw.fif.gz, raw_sss.fif.gz, raw_tsss.fif.gz, _meg.fif.gz, _eeg.fif.gz or _ieeg.fif.gz\n",
      "  raw = mne.io.read_raw_fif( path_file , preload=True, verbose='WARNING' )\n",
      "/tmp/ipykernel_13810/2543180692.py:71: RuntimeWarning: This filename (S002/S002R07.fif) does not conform to MNE naming conventions. All raw files should end with raw.fif, raw_sss.fif, raw_tsss.fif, _meg.fif, _eeg.fif, _ieeg.fif, raw.fif.gz, raw_sss.fif.gz, raw_tsss.fif.gz, _meg.fif.gz, _eeg.fif.gz or _ieeg.fif.gz\n",
      "  raw = mne.io.read_raw_fif( path_file , preload=True, verbose='WARNING' )\n"
     ]
    },
    {
     "name": "stdout",
     "output_type": "stream",
     "text": [
      "Filter done\n"
     ]
    },
    {
     "name": "stderr",
     "output_type": "stream",
     "text": [
      "[Parallel(n_jobs=1)]: Using backend SequentialBackend with 1 concurrent workers.\n",
      "[Parallel(n_jobs=1)]: Done   1 out of   1 | elapsed:    0.0s remaining:    0.0s\n",
      "[Parallel(n_jobs=1)]: Done   2 out of   2 | elapsed:    0.0s remaining:    0.0s\n",
      "[Parallel(n_jobs=1)]: Done   2 out of   2 | elapsed:    0.0s finished\n"
     ]
    }
   ],
   "source": [
    "# home directory + datasets folder\n",
    "#path = '/content/drive/MyDrive/MNE-eegbci-data/files/eegmmidb/'\n",
    "path = ''\n",
    "base_url = 'https://physionet.org/files/eegmmidb/'\n",
    "# subjects = [1]\n",
    "#runs = [3, 4, 7, 8, 11, 12]\n",
    "runs = [3, 5, 7]\n",
    "subjects = [i for i in range(2,3)]\n",
    "#subjects = [1]\n",
    "# runs = [6,10,14]\n",
    "print(path)\n",
    "eeg = EEG(path, base_url, subjects, runs)\n",
    "raw=eeg.data_to_raw()\n",
    "\n",
    "print(\"Raw done\")\n",
    "# apply filter\n",
    "freq = (1., 45.)\n",
    "raw=eeg.filter(freq=freq)\n",
    "#raw=eeg.data_to_raw()\n",
    "print(\"Filter done\")\n",
    "#raw=eeg.raw_ica()\n",
    "#eeg.create_epochs()"
   ]
  },
  {
   "cell_type": "code",
   "execution_count": 6,
   "id": "05d1c640-12c5-49ec-80f0-8890ec4c5462",
   "metadata": {},
   "outputs": [
    {
     "name": "stdout",
     "output_type": "stream",
     "text": [
      "Effective window size : 8.192 (s)\n"
     ]
    },
    {
     "name": "stderr",
     "output_type": "stream",
     "text": [
      "[Parallel(n_jobs=1)]: Using backend SequentialBackend with 1 concurrent workers.\n",
      "[Parallel(n_jobs=1)]: Done   1 out of   1 | elapsed:    0.0s remaining:    0.0s\n",
      "[Parallel(n_jobs=1)]: Done   1 out of   1 | elapsed:    0.0s finished\n"
     ]
    },
    {
     "data": {
      "image/png": "[encoded data removed]",
      "text/plain": [
       "<MNELineFigure size 720x252 with 2 Axes>"
      ]
     },
     "metadata": {
      "needs_background": "light"
     },
     "output_type": "display_data"
    },
    {
     "data": {
      "image/png": "[encoded data removed]",
      "text/plain": [
       "<MNELineFigure size 720x252 with 2 Axes>"
      ]
     },
     "execution_count": 6,
     "metadata": {},
     "output_type": "execute_result"
    }
   ],
   "source": [
    "eeg.raw.plot_psd()"
   ]
  },
  {
   "cell_type": "code",
   "execution_count": 7,
   "id": "a230de8a-3651-4dd8-834f-060482bfe81c",
   "metadata": {},
   "outputs": [
    {
     "name": "stdout",
     "output_type": "stream",
     "text": [
      "144 events found\n",
      "Event IDs: [1 2 4]\n",
      "Not setting metadata\n",
      "72 matching events found\n",
      "No baseline correction applied\n",
      "0 projection items activated\n",
      "Using data from preloaded Raw for 72 events and 1001 original time points ...\n",
      "3 bad epochs dropped\n"
     ]
    },
    {
     "name": "stderr",
     "output_type": "stream",
     "text": [
      "/tmp/ipykernel_13810/2543180692.py:92: RuntimeWarning: No matching events found for 3 (event id 3)\n",
      "  epochs = mne.Epochs(\n"
     ]
    }
   ],
   "source": [
    "X, y = eeg.get_X_y()"
   ]
  },
  {
   "cell_type": "code",
   "execution_count": 7,
   "id": "eeb0f3ae-0df7-484d-8e41-62e49a05b080",
   "metadata": {},
   "outputs": [
    {
     "name": "stdout",
     "output_type": "stream",
     "text": [
      "(69, 2, 1001)\n"
     ]
    },
    {
     "data": {
      "text/plain": [
       "array([0, 0, 0, 0, 0, 0, 0, 0, 0, 0, 0, 1, 1, 1, 1, 1, 1, 1, 1, 1, 1, 1,\n",
       "       1, 0, 0, 0, 0, 0, 0, 0, 0, 0, 0, 0, 1, 1, 1, 1, 1, 1, 1, 1, 1, 1,\n",
       "       1, 1, 0, 0, 0, 0, 0, 0, 0, 0, 0, 0, 0, 1, 1, 1, 1, 1, 1, 1, 1, 1,\n",
       "       1, 1, 1])"
      ]
     },
     "execution_count": 7,
     "metadata": {},
     "output_type": "execute_result"
    }
   ],
   "source": [
    "#X = X[:, :,np.newaxis,:]\n",
    "print(X.shape)\n",
    "y=y-1\n",
    "y"
   ]
  },
  {
   "cell_type": "code",
   "execution_count": 8,
   "id": "36138a5b-8974-498f-b712-4da295552b7b",
   "metadata": {},
   "outputs": [
    {
     "name": "stdout",
     "output_type": "stream",
     "text": [
      "train size (55, 2, 1001) (55,)\n",
      "Test size (14, 2, 1001) (14,)\n"
     ]
    }
   ],
   "source": [
    "X_train, X_test, y_train, y_test = train_test_split(X, y, test_size=0.2)\n",
    "\n",
    "print('train size',X_train.shape, y_train.shape)\n",
    "print('Test size',X_test.shape, y_test.shape)"
   ]
  },
  {
   "cell_type": "code",
   "execution_count": 9,
   "id": "4bece4f5-7c27-497d-9ee0-bf4ba68fae50",
   "metadata": {},
   "outputs": [],
   "source": [
    "from sklearn.model_selection import train_test_split\n",
    "from torch.utils.data import TensorDataset\n",
    "from torch.utils.data import DataLoader\n",
    "\n",
    "batch_size = 32\n",
    "\n",
    "def create_dataloader(X, y, batch_size):\n",
    "    X_tensor = torch.tensor(X).float()\n",
    "    y_tensor = torch.tensor(y).long()\n",
    "    dataset_tensor = TensorDataset(X_tensor, y_tensor)\n",
    "    dl = torch.utils.data.DataLoader(dataset_tensor, batch_size=batch_size, shuffle=True)\n",
    "    return dl\n",
    "train_loader = create_dataloader(X_train, y_train, batch_size=batch_size)\n",
    "test_loader = create_dataloader(X_test, y_test, batch_size=batch_size)\n",
    "\n",
    "num_step =math.ceil(len(train_loader.dataset) / batch_size)"
   ]
  },
  {
   "cell_type": "code",
   "execution_count": 10,
   "id": "16452627-8e5a-472e-83ae-6cf2c0309b6a",
   "metadata": {},
   "outputs": [],
   "source": [
    "# Convolutional neural network (two convolutional layers)\n",
    "class ConvNet(nn.Module):\n",
    "    def __init__(self):\n",
    "        super(ConvNet, self).__init__()\n",
    "        \n",
    "        #using sequential helps bind multiple operations together\n",
    "        self.layer1 = nn.Sequential(\n",
    "            #padding = (kernel_size - 1) / 2 = 2\n",
    "            nn.Conv1d(2, 64, kernel_size=5, stride=1, padding=2),\n",
    "            nn.BatchNorm1d(64),\n",
    "            nn.ReLU(),\n",
    "            # nn.MaxPool2d(kernel_size=2, stride=2)\n",
    "        )\n",
    "        self.layer2 = nn.Sequential(\n",
    "            nn.Conv1d(64, 128, kernel_size=5, stride=1, padding=2),\n",
    "            nn.BatchNorm1d(128),\n",
    "            nn.ReLU(),\n",
    "            # nn.MaxPool2d(kernel_size=2, stride=2)\n",
    "        )\n",
    "        self.fc = nn.Linear(128128, 2)\n",
    "        self.drop_out = nn.Dropout(0.5)\n",
    "        \n",
    "    def forward(self, x):\n",
    "        out = self.layer1(x)\n",
    "        out = self.drop_out(out)\n",
    "        out = self.layer2(out)\n",
    "        out = self.drop_out(out)\n",
    "        out = out.reshape(out.size(0), -1)   #can also use .view()\n",
    "        out = self.fc(out)\n",
    "        return out"
   ]
  },
  {
   "cell_type": "code",
   "execution_count": 11,
   "id": "4451a37b-9e83-44ae-ab95-5375ad56a5c3",
   "metadata": {},
   "outputs": [
    {
     "name": "stderr",
     "output_type": "stream",
     "text": [
      "Failed to detect the name of this notebook, you can set it manually with the WANDB_NOTEBOOK_NAME environment variable to enable code saving.\n",
      "\u001b[34m\u001b[1mwandb\u001b[0m: Currently logged in as: \u001b[33mnutapol-1997\u001b[0m. Use \u001b[1m`wandb login --relogin`\u001b[0m to force relogin\n"
     ]
    },
    {
     "data": {
      "text/plain": [
       "True"
      ]
     },
     "execution_count": 11,
     "metadata": {},
     "output_type": "execute_result"
    }
   ],
   "source": [
    "import wandb\n",
    "wandb.login()"
   ]
  },
  {
   "cell_type": "code",
   "execution_count": 16,
   "id": "3f7b67fe-a740-4c09-9665-3de9479c227a",
   "metadata": {},
   "outputs": [
    {
     "data": {
      "text/html": [
       "Finishing last run (ID:2c03iieg) before initializing another..."
      ],
      "text/plain": [
       "<IPython.core.display.HTML object>"
      ]
     },
     "metadata": {},
     "output_type": "display_data"
    },
    {
     "data": {
      "text/html": [
       "Waiting for W&B process to finish... <strong style=\"color:green\">(success).</strong>"
      ],
      "text/plain": [
       "<IPython.core.display.HTML object>"
      ]
     },
     "metadata": {},
     "output_type": "display_data"
    },
    {
     "data": {
      "text/html": [
       "<style>\n",
       "    table.wandb td:nth-child(1) { padding: 0 10px; text-align: left ; width: auto;} td:nth-child(2) {text-align: left ; width: 100%}\n",
       "    .wandb-row { display: flex; flex-direction: row; flex-wrap: wrap; justify-content: flex-start; width: 100% }\n",
       "    .wandb-col { display: flex; flex-direction: column; flex-basis: 100%; flex: 1; padding: 10px; }\n",
       "    </style>\n",
       "<div class=\"wandb-row\"><div class=\"wandb-col\"><h3>Run history:</h3><br/><table class=\"wandb\"><tr><td>train/train_accuracy</td><td>▆▄▃▁▄▃▅▆█▅▁▅▃▄▄▄▇▄▆▆▆▆▄▅▄▄▁▅▄▅▄▅▇▆▆▆▄▄▄▅</td></tr><tr><td>train/train_loss</td><td>▄▇▇▇▅▇▆▂▃▄▃▃▄▄▆▃▅▂▃▅▁▂▄▃▂▄▅▁▄▅▅▂▂▇▆▂█▄▂▂</td></tr><tr><td>val/val_accuracy</td><td>██████████████████████▁▁▁▁▁▁▁▁▁▁▁▁▁▁▁▁▁▁</td></tr><tr><td>val/val_loss</td><td>███▇▇▇▇▆▆▆▆▅▅▅▅▅▄▄▄▄▄▃▃▃▃▃▃▃▃▂▂▂▂▂▂▂▂▁▁▁</td></tr></table><br/></div><div class=\"wandb-col\"><h3>Run summary:</h3><br/><table class=\"wandb\"><tr><td>train/train_accuracy</td><td>54.54545</td></tr><tr><td>train/train_loss</td><td>0.69938</td></tr><tr><td>val/val_accuracy</td><td>42.85714</td></tr><tr><td>val/val_loss</td><td>0.70341</td></tr></table><br/></div></div>"
      ],
      "text/plain": [
       "<IPython.core.display.HTML object>"
      ]
     },
     "metadata": {},
     "output_type": "display_data"
    },
    {
     "data": {
      "text/html": [
       "Synced <strong style=\"color:#cdcd00\">OurData_CNN_2ch_2class</strong>: <a href=\"https://wandb.ai/nutapol-1997/Motor-Imagery/runs/2c03iieg\" target=\"_blank\">https://wandb.ai/nutapol-1997/Motor-Imagery/runs/2c03iieg</a><br/>Synced 5 W&B file(s), 0 media file(s), 0 artifact file(s) and 0 other file(s)"
      ],
      "text/plain": [
       "<IPython.core.display.HTML object>"
      ]
     },
     "metadata": {},
     "output_type": "display_data"
    },
    {
     "data": {
      "text/html": [
       "Find logs at: <code>./wandb/run-20220901_034655-2c03iieg/logs</code>"
      ],
      "text/plain": [
       "<IPython.core.display.HTML object>"
      ]
     },
     "metadata": {},
     "output_type": "display_data"
    },
    {
     "data": {
      "text/html": [
       "Successfully finished last run (ID:2c03iieg). Initializing new run:<br/>"
      ],
      "text/plain": [
       "<IPython.core.display.HTML object>"
      ]
     },
     "metadata": {},
     "output_type": "display_data"
    },
    {
     "data": {
      "text/html": [
       "Tracking run with wandb version 0.13.2"
      ],
      "text/plain": [
       "<IPython.core.display.HTML object>"
      ]
     },
     "metadata": {},
     "output_type": "display_data"
    },
    {
     "data": {
      "text/html": [
       "Run data is saved locally in <code>/home/nutapolt/eeg_mi/wandb/run-20220901_035041-3srju129</code>"
      ],
      "text/plain": [
       "<IPython.core.display.HTML object>"
      ]
     },
     "metadata": {},
     "output_type": "display_data"
    },
    {
     "data": {
      "text/html": [
       "Syncing run <strong><a href=\"https://wandb.ai/nutapol-1997/Motor-Imagery/runs/3srju129\" target=\"_blank\">OurData_CNN_2ch_2class</a></strong> to <a href=\"https://wandb.ai/nutapol-1997/Motor-Imagery\" target=\"_blank\">Weights & Biases</a> (<a href=\"https://wandb.me/run\" target=\"_blank\">docs</a>)<br/>"
      ],
      "text/plain": [
       "<IPython.core.display.HTML object>"
      ]
     },
     "metadata": {},
     "output_type": "display_data"
    }
   ],
   "source": [
    "\n",
    "wand = wandb.init(\n",
    "        \n",
    "      # Set the project where this run will be logged\n",
    "      project=\"Motor-Imagery\", \n",
    "      # We pass a run name (otherwise it’ll be randomly assigned, like sunshine-lollypop-10)\n",
    "      name=f\"OurData_CNN_2ch_2class\", \n",
    "      # Track hyperparameters and run metadata\n",
    "      config={\n",
    "      \"learning_rate\": 0.00001,\n",
    "      \"architecture\": \"CNN\",\n",
    "      \"dataset\": \"Nutapol T.\",\n",
    "      \"epochs\": 10000,\n",
    "      \"weightname\":\"OurData_CNN_2ch_2class\",\n",
    "      \"num_step_per_epoch\" : num_step, \n",
    "        \n",
    "      }\n",
    "    )\n",
    "\n"
   ]
  },
  {
   "cell_type": "code",
   "execution_count": 17,
   "id": "cd656ad4-86d1-4210-8a3b-b9bac330e2c5",
   "metadata": {},
   "outputs": [
    {
     "name": "stdout",
     "output_type": "stream",
     "text": [
      "2\n"
     ]
    }
   ],
   "source": [
    "config = wand.config\n",
    "print(config.num_step_per_epoch)"
   ]
  },
  {
   "cell_type": "code",
   "execution_count": 18,
   "id": "a525b620-d5df-49d8-953c-6edfbd571ff5",
   "metadata": {},
   "outputs": [],
   "source": [
    "from common import train"
   ]
  },
  {
   "cell_type": "code",
   "execution_count": 19,
   "id": "af3ab67d-3ffe-42b6-b58e-69c4eba04627",
   "metadata": {},
   "outputs": [
    {
     "name": "stdout",
     "output_type": "stream",
     "text": [
      "Epoch 1/10000, Tr Loss: 0.7415, Tr Acc: 40.0000, Val Loss: 0.6920, Val Acc: 57.1429\n",
      "Epoch 51/10000, Tr Loss: 0.4766, Tr Acc: 87.2727, Val Loss: 0.6887, Val Acc: 42.8571\n",
      "Epoch 101/10000, Tr Loss: 0.3382, Tr Acc: 94.5454, Val Loss: 0.6438, Val Acc: 57.1429\n",
      "Epoch 151/10000, Tr Loss: 0.2388, Tr Acc: 98.1818, Val Loss: 0.7164, Val Acc: 57.1429\n",
      "Epoch 201/10000, Tr Loss: 0.1787, Tr Acc: 98.1818, Val Loss: 0.6411, Val Acc: 64.2857\n",
      "Epoch 251/10000, Tr Loss: 0.1199, Tr Acc: 100.0000, Val Loss: 0.6708, Val Acc: 71.4286\n",
      "Epoch 301/10000, Tr Loss: 0.1027, Tr Acc: 100.0000, Val Loss: 0.6217, Val Acc: 71.4286\n",
      "Epoch 351/10000, Tr Loss: 0.0593, Tr Acc: 100.0000, Val Loss: 0.6101, Val Acc: 78.5714\n",
      "Epoch 401/10000, Tr Loss: 0.0548, Tr Acc: 100.0000, Val Loss: 0.6375, Val Acc: 78.5714\n",
      "Epoch 451/10000, Tr Loss: 0.0419, Tr Acc: 100.0000, Val Loss: 0.6301, Val Acc: 57.1429\n",
      "Epoch 501/10000, Tr Loss: 0.0348, Tr Acc: 100.0000, Val Loss: 0.6410, Val Acc: 78.5714\n",
      "Epoch 551/10000, Tr Loss: 0.0300, Tr Acc: 100.0000, Val Loss: 0.6432, Val Acc: 78.5714\n",
      "Epoch 601/10000, Tr Loss: 0.0228, Tr Acc: 100.0000, Val Loss: 0.6540, Val Acc: 78.5714\n",
      "Epoch 651/10000, Tr Loss: 0.0161, Tr Acc: 100.0000, Val Loss: 0.6569, Val Acc: 78.5714\n",
      "Epoch 701/10000, Tr Loss: 0.0164, Tr Acc: 100.0000, Val Loss: 0.6661, Val Acc: 71.4286\n",
      "Epoch 751/10000, Tr Loss: 0.0156, Tr Acc: 100.0000, Val Loss: 0.6697, Val Acc: 71.4286\n",
      "Epoch 801/10000, Tr Loss: 0.0107, Tr Acc: 100.0000, Val Loss: 0.6863, Val Acc: 71.4286\n",
      "Epoch 851/10000, Tr Loss: 0.0098, Tr Acc: 100.0000, Val Loss: 0.6981, Val Acc: 71.4286\n",
      "Epoch 901/10000, Tr Loss: 0.0095, Tr Acc: 100.0000, Val Loss: 0.6913, Val Acc: 71.4286\n",
      "Epoch 951/10000, Tr Loss: 0.0078, Tr Acc: 100.0000, Val Loss: 0.7116, Val Acc: 71.4286\n",
      "Epoch 1001/10000, Tr Loss: 0.0065, Tr Acc: 100.0000, Val Loss: 0.7092, Val Acc: 71.4286\n",
      "Epoch 1051/10000, Tr Loss: 0.0065, Tr Acc: 100.0000, Val Loss: 0.7198, Val Acc: 71.4286\n",
      "Epoch 1101/10000, Tr Loss: 0.0052, Tr Acc: 100.0000, Val Loss: 0.7302, Val Acc: 71.4286\n",
      "Epoch 1151/10000, Tr Loss: 0.0049, Tr Acc: 100.0000, Val Loss: 0.7378, Val Acc: 71.4286\n",
      "Epoch 1201/10000, Tr Loss: 0.0056, Tr Acc: 100.0000, Val Loss: 0.7533, Val Acc: 71.4286\n",
      "Epoch 1251/10000, Tr Loss: 0.0035, Tr Acc: 100.0000, Val Loss: 0.7407, Val Acc: 71.4286\n",
      "Epoch 1301/10000, Tr Loss: 0.0046, Tr Acc: 100.0000, Val Loss: 0.7639, Val Acc: 71.4286\n",
      "Epoch 1351/10000, Tr Loss: 0.0032, Tr Acc: 100.0000, Val Loss: 0.7479, Val Acc: 71.4286\n",
      "Epoch 1401/10000, Tr Loss: 0.0036, Tr Acc: 100.0000, Val Loss: 0.7720, Val Acc: 71.4286\n",
      "Epoch 1451/10000, Tr Loss: 0.0027, Tr Acc: 100.0000, Val Loss: 0.7819, Val Acc: 71.4286\n",
      "Epoch 1501/10000, Tr Loss: 0.0030, Tr Acc: 100.0000, Val Loss: 0.7800, Val Acc: 71.4286\n",
      "Epoch 1551/10000, Tr Loss: 0.0027, Tr Acc: 100.0000, Val Loss: 0.7925, Val Acc: 71.4286\n",
      "Epoch 1601/10000, Tr Loss: 0.0019, Tr Acc: 100.0000, Val Loss: 0.7964, Val Acc: 71.4286\n",
      "Epoch 1651/10000, Tr Loss: 0.0017, Tr Acc: 100.0000, Val Loss: 0.7969, Val Acc: 71.4286\n",
      "Epoch 1701/10000, Tr Loss: 0.0018, Tr Acc: 100.0000, Val Loss: 0.8261, Val Acc: 71.4286\n",
      "Epoch 1751/10000, Tr Loss: 0.0023, Tr Acc: 100.0000, Val Loss: 0.8025, Val Acc: 71.4286\n",
      "Epoch 1801/10000, Tr Loss: 0.0013, Tr Acc: 100.0000, Val Loss: 0.8108, Val Acc: 71.4286\n",
      "Epoch 1851/10000, Tr Loss: 0.0012, Tr Acc: 100.0000, Val Loss: 0.8237, Val Acc: 71.4286\n",
      "Epoch 1901/10000, Tr Loss: 0.0016, Tr Acc: 100.0000, Val Loss: 0.8342, Val Acc: 71.4286\n",
      "Epoch 1951/10000, Tr Loss: 0.0013, Tr Acc: 100.0000, Val Loss: 0.8435, Val Acc: 71.4286\n",
      "Epoch 2001/10000, Tr Loss: 0.0012, Tr Acc: 100.0000, Val Loss: 0.8533, Val Acc: 71.4286\n",
      "Epoch 2051/10000, Tr Loss: 0.0012, Tr Acc: 100.0000, Val Loss: 0.8633, Val Acc: 71.4286\n",
      "Epoch 2101/10000, Tr Loss: 0.0010, Tr Acc: 100.0000, Val Loss: 0.8579, Val Acc: 71.4286\n",
      "Epoch 2151/10000, Tr Loss: 0.0010, Tr Acc: 100.0000, Val Loss: 0.8720, Val Acc: 71.4286\n",
      "Epoch 2201/10000, Tr Loss: 0.0013, Tr Acc: 100.0000, Val Loss: 0.8944, Val Acc: 71.4286\n",
      "Epoch 2251/10000, Tr Loss: 0.0009, Tr Acc: 100.0000, Val Loss: 0.8991, Val Acc: 71.4286\n",
      "Epoch 2301/10000, Tr Loss: 0.0011, Tr Acc: 100.0000, Val Loss: 0.8906, Val Acc: 71.4286\n",
      "Epoch 2351/10000, Tr Loss: 0.0007, Tr Acc: 100.0000, Val Loss: 0.8987, Val Acc: 71.4286\n",
      "Epoch 2401/10000, Tr Loss: 0.0004, Tr Acc: 100.0000, Val Loss: 0.9109, Val Acc: 71.4286\n",
      "Epoch 2451/10000, Tr Loss: 0.0005, Tr Acc: 100.0000, Val Loss: 0.9094, Val Acc: 71.4286\n",
      "Epoch 2501/10000, Tr Loss: 0.0005, Tr Acc: 100.0000, Val Loss: 0.9135, Val Acc: 71.4286\n",
      "Epoch 2551/10000, Tr Loss: 0.0004, Tr Acc: 100.0000, Val Loss: 0.9343, Val Acc: 71.4286\n",
      "Epoch 2601/10000, Tr Loss: 0.0005, Tr Acc: 100.0000, Val Loss: 0.9615, Val Acc: 71.4286\n",
      "Epoch 2651/10000, Tr Loss: 0.0005, Tr Acc: 100.0000, Val Loss: 0.9523, Val Acc: 71.4286\n",
      "Epoch 2701/10000, Tr Loss: 0.0006, Tr Acc: 100.0000, Val Loss: 0.9661, Val Acc: 71.4286\n",
      "Epoch 2751/10000, Tr Loss: 0.0004, Tr Acc: 100.0000, Val Loss: 0.9609, Val Acc: 71.4286\n",
      "Epoch 2801/10000, Tr Loss: 0.0004, Tr Acc: 100.0000, Val Loss: 0.9545, Val Acc: 71.4286\n",
      "Epoch 2851/10000, Tr Loss: 0.0003, Tr Acc: 100.0000, Val Loss: 0.9709, Val Acc: 71.4286\n",
      "Epoch 2901/10000, Tr Loss: 0.0005, Tr Acc: 100.0000, Val Loss: 0.9848, Val Acc: 71.4286\n",
      "Epoch 2951/10000, Tr Loss: 0.0003, Tr Acc: 100.0000, Val Loss: 0.9769, Val Acc: 71.4286\n",
      "Epoch 3001/10000, Tr Loss: 0.0004, Tr Acc: 100.0000, Val Loss: 1.0013, Val Acc: 71.4286\n",
      "Epoch 3051/10000, Tr Loss: 0.0003, Tr Acc: 100.0000, Val Loss: 0.9903, Val Acc: 71.4286\n",
      "Epoch 3101/10000, Tr Loss: 0.0003, Tr Acc: 100.0000, Val Loss: 1.0141, Val Acc: 71.4286\n",
      "Epoch 3151/10000, Tr Loss: 0.0002, Tr Acc: 100.0000, Val Loss: 1.0017, Val Acc: 71.4286\n",
      "Epoch 3201/10000, Tr Loss: 0.0002, Tr Acc: 100.0000, Val Loss: 1.0283, Val Acc: 71.4286\n",
      "Epoch 3251/10000, Tr Loss: 0.0002, Tr Acc: 100.0000, Val Loss: 1.0299, Val Acc: 71.4286\n",
      "Epoch 3301/10000, Tr Loss: 0.0002, Tr Acc: 100.0000, Val Loss: 1.0282, Val Acc: 71.4286\n",
      "Epoch 3351/10000, Tr Loss: 0.0002, Tr Acc: 100.0000, Val Loss: 1.0345, Val Acc: 71.4286\n",
      "Epoch 3401/10000, Tr Loss: 0.0001, Tr Acc: 100.0000, Val Loss: 1.0416, Val Acc: 71.4286\n",
      "Epoch 3451/10000, Tr Loss: 0.0002, Tr Acc: 100.0000, Val Loss: 1.0386, Val Acc: 71.4286\n",
      "Epoch 3501/10000, Tr Loss: 0.0001, Tr Acc: 100.0000, Val Loss: 1.0654, Val Acc: 71.4286\n",
      "Epoch 3551/10000, Tr Loss: 0.0001, Tr Acc: 100.0000, Val Loss: 1.0526, Val Acc: 71.4286\n",
      "Epoch 3601/10000, Tr Loss: 0.0001, Tr Acc: 100.0000, Val Loss: 1.0695, Val Acc: 71.4286\n",
      "Epoch 3651/10000, Tr Loss: 0.0001, Tr Acc: 100.0000, Val Loss: 1.0707, Val Acc: 71.4286\n",
      "Epoch 3701/10000, Tr Loss: 0.0002, Tr Acc: 100.0000, Val Loss: 1.0770, Val Acc: 71.4286\n",
      "Epoch 3751/10000, Tr Loss: 0.0001, Tr Acc: 100.0000, Val Loss: 1.0821, Val Acc: 71.4286\n",
      "Epoch 3801/10000, Tr Loss: 0.0001, Tr Acc: 100.0000, Val Loss: 1.0912, Val Acc: 71.4286\n",
      "Epoch 3851/10000, Tr Loss: 0.0001, Tr Acc: 100.0000, Val Loss: 1.1074, Val Acc: 71.4286\n",
      "Epoch 3901/10000, Tr Loss: 0.0001, Tr Acc: 100.0000, Val Loss: 1.1208, Val Acc: 71.4286\n",
      "Epoch 3951/10000, Tr Loss: 0.0001, Tr Acc: 100.0000, Val Loss: 1.1011, Val Acc: 71.4286\n",
      "Epoch 4001/10000, Tr Loss: 0.0001, Tr Acc: 100.0000, Val Loss: 1.1140, Val Acc: 71.4286\n",
      "Epoch 4051/10000, Tr Loss: 0.0001, Tr Acc: 100.0000, Val Loss: 1.1307, Val Acc: 71.4286\n",
      "Epoch 4101/10000, Tr Loss: 0.0001, Tr Acc: 100.0000, Val Loss: 1.1273, Val Acc: 71.4286\n",
      "Epoch 4151/10000, Tr Loss: 0.0001, Tr Acc: 100.0000, Val Loss: 1.1503, Val Acc: 71.4286\n",
      "Epoch 4201/10000, Tr Loss: 0.0001, Tr Acc: 100.0000, Val Loss: 1.1364, Val Acc: 71.4286\n",
      "Epoch 4251/10000, Tr Loss: 0.0001, Tr Acc: 100.0000, Val Loss: 1.1525, Val Acc: 71.4286\n",
      "Epoch 4301/10000, Tr Loss: 0.0001, Tr Acc: 100.0000, Val Loss: 1.1542, Val Acc: 71.4286\n",
      "Epoch 4351/10000, Tr Loss: 0.0000, Tr Acc: 100.0000, Val Loss: 1.1714, Val Acc: 71.4286\n",
      "Epoch 4401/10000, Tr Loss: 0.0000, Tr Acc: 100.0000, Val Loss: 1.1578, Val Acc: 71.4286\n",
      "Epoch 4451/10000, Tr Loss: 0.0001, Tr Acc: 100.0000, Val Loss: 1.1675, Val Acc: 71.4286\n",
      "Epoch 4501/10000, Tr Loss: 0.0000, Tr Acc: 100.0000, Val Loss: 1.1674, Val Acc: 71.4286\n",
      "Epoch 4551/10000, Tr Loss: 0.0000, Tr Acc: 100.0000, Val Loss: 1.2008, Val Acc: 71.4286\n",
      "Epoch 4601/10000, Tr Loss: 0.0001, Tr Acc: 100.0000, Val Loss: 1.2192, Val Acc: 71.4286\n",
      "Epoch 4651/10000, Tr Loss: 0.0000, Tr Acc: 100.0000, Val Loss: 1.2041, Val Acc: 71.4286\n",
      "Epoch 4701/10000, Tr Loss: 0.0001, Tr Acc: 100.0000, Val Loss: 1.2196, Val Acc: 71.4286\n",
      "Epoch 4751/10000, Tr Loss: 0.0001, Tr Acc: 100.0000, Val Loss: 1.2296, Val Acc: 71.4286\n",
      "Epoch 4801/10000, Tr Loss: 0.0000, Tr Acc: 100.0000, Val Loss: 1.2195, Val Acc: 71.4286\n",
      "Epoch 4851/10000, Tr Loss: 0.0000, Tr Acc: 100.0000, Val Loss: 1.2341, Val Acc: 71.4286\n",
      "Epoch 4901/10000, Tr Loss: 0.0000, Tr Acc: 100.0000, Val Loss: 1.2739, Val Acc: 71.4286\n",
      "Epoch 4951/10000, Tr Loss: 0.0000, Tr Acc: 100.0000, Val Loss: 1.2357, Val Acc: 71.4286\n",
      "Epoch 5001/10000, Tr Loss: 0.0000, Tr Acc: 100.0000, Val Loss: 1.2366, Val Acc: 71.4286\n",
      "Epoch 5051/10000, Tr Loss: 0.0000, Tr Acc: 100.0000, Val Loss: 1.2290, Val Acc: 71.4286\n",
      "Epoch 5101/10000, Tr Loss: 0.0000, Tr Acc: 100.0000, Val Loss: 1.2574, Val Acc: 71.4286\n",
      "Epoch 5151/10000, Tr Loss: 0.0000, Tr Acc: 100.0000, Val Loss: 1.2816, Val Acc: 71.4286\n",
      "Epoch 5201/10000, Tr Loss: 0.0000, Tr Acc: 100.0000, Val Loss: 1.2812, Val Acc: 71.4286\n",
      "Epoch 5251/10000, Tr Loss: 0.0000, Tr Acc: 100.0000, Val Loss: 1.2849, Val Acc: 71.4286\n",
      "Epoch 5301/10000, Tr Loss: 0.0000, Tr Acc: 100.0000, Val Loss: 1.2888, Val Acc: 71.4286\n",
      "Epoch 5351/10000, Tr Loss: 0.0000, Tr Acc: 100.0000, Val Loss: 1.3218, Val Acc: 71.4286\n",
      "Epoch 5401/10000, Tr Loss: 0.0000, Tr Acc: 100.0000, Val Loss: 1.3123, Val Acc: 71.4286\n",
      "Epoch 5451/10000, Tr Loss: 0.0000, Tr Acc: 100.0000, Val Loss: 1.2954, Val Acc: 71.4286\n",
      "Epoch 5501/10000, Tr Loss: 0.0000, Tr Acc: 100.0000, Val Loss: 1.3119, Val Acc: 71.4286\n",
      "Epoch 5551/10000, Tr Loss: 0.0000, Tr Acc: 100.0000, Val Loss: 1.3444, Val Acc: 71.4286\n",
      "Epoch 5601/10000, Tr Loss: 0.0000, Tr Acc: 100.0000, Val Loss: 1.3298, Val Acc: 71.4286\n",
      "Epoch 5651/10000, Tr Loss: 0.0000, Tr Acc: 100.0000, Val Loss: 1.3443, Val Acc: 71.4286\n",
      "Epoch 5701/10000, Tr Loss: 0.0000, Tr Acc: 100.0000, Val Loss: 1.3585, Val Acc: 71.4286\n",
      "Epoch 5751/10000, Tr Loss: 0.0000, Tr Acc: 100.0000, Val Loss: 1.3584, Val Acc: 71.4286\n",
      "Epoch 5801/10000, Tr Loss: 0.0000, Tr Acc: 100.0000, Val Loss: 1.3513, Val Acc: 71.4286\n",
      "Epoch 5851/10000, Tr Loss: 0.0000, Tr Acc: 100.0000, Val Loss: 1.3664, Val Acc: 71.4286\n",
      "Epoch 5901/10000, Tr Loss: 0.0000, Tr Acc: 100.0000, Val Loss: 1.3475, Val Acc: 71.4286\n",
      "Epoch 5951/10000, Tr Loss: 0.0000, Tr Acc: 100.0000, Val Loss: 1.3668, Val Acc: 71.4286\n",
      "Epoch 6001/10000, Tr Loss: 0.0000, Tr Acc: 100.0000, Val Loss: 1.3984, Val Acc: 71.4286\n",
      "Epoch 6051/10000, Tr Loss: 0.0000, Tr Acc: 100.0000, Val Loss: 1.3933, Val Acc: 71.4286\n",
      "Epoch 6101/10000, Tr Loss: 0.0000, Tr Acc: 100.0000, Val Loss: 1.3900, Val Acc: 71.4286\n",
      "Epoch 6151/10000, Tr Loss: 0.0000, Tr Acc: 100.0000, Val Loss: 1.4131, Val Acc: 71.4286\n",
      "Epoch 6201/10000, Tr Loss: 0.0000, Tr Acc: 100.0000, Val Loss: 1.4359, Val Acc: 64.2857\n",
      "Epoch 6251/10000, Tr Loss: 0.0000, Tr Acc: 100.0000, Val Loss: 1.4155, Val Acc: 71.4286\n",
      "Epoch 6301/10000, Tr Loss: 0.0000, Tr Acc: 100.0000, Val Loss: 1.4323, Val Acc: 71.4286\n",
      "Epoch 6351/10000, Tr Loss: 0.0000, Tr Acc: 100.0000, Val Loss: 1.4530, Val Acc: 64.2857\n",
      "Epoch 6401/10000, Tr Loss: 0.0000, Tr Acc: 100.0000, Val Loss: 1.4382, Val Acc: 71.4286\n",
      "Epoch 6451/10000, Tr Loss: 0.0000, Tr Acc: 100.0000, Val Loss: 1.4456, Val Acc: 71.4286\n",
      "Epoch 6501/10000, Tr Loss: 0.0000, Tr Acc: 100.0000, Val Loss: 1.4753, Val Acc: 71.4286\n",
      "Epoch 6551/10000, Tr Loss: 0.0000, Tr Acc: 100.0000, Val Loss: 1.4614, Val Acc: 64.2857\n",
      "Epoch 6601/10000, Tr Loss: 0.0000, Tr Acc: 100.0000, Val Loss: 1.4979, Val Acc: 64.2857\n",
      "Epoch 6651/10000, Tr Loss: 0.0000, Tr Acc: 100.0000, Val Loss: 1.4752, Val Acc: 71.4286\n",
      "Epoch 6701/10000, Tr Loss: 0.0000, Tr Acc: 100.0000, Val Loss: 1.4995, Val Acc: 64.2857\n",
      "Epoch 6751/10000, Tr Loss: 0.0000, Tr Acc: 100.0000, Val Loss: 1.5158, Val Acc: 64.2857\n",
      "Epoch 6801/10000, Tr Loss: 0.0000, Tr Acc: 100.0000, Val Loss: 1.5219, Val Acc: 64.2857\n",
      "Epoch 6851/10000, Tr Loss: 0.0000, Tr Acc: 100.0000, Val Loss: 1.5189, Val Acc: 64.2857\n",
      "Epoch 6901/10000, Tr Loss: 0.0000, Tr Acc: 100.0000, Val Loss: 1.5044, Val Acc: 64.2857\n",
      "Epoch 6951/10000, Tr Loss: 0.0000, Tr Acc: 100.0000, Val Loss: 1.5154, Val Acc: 64.2857\n",
      "Epoch 7001/10000, Tr Loss: 0.0000, Tr Acc: 100.0000, Val Loss: 1.5449, Val Acc: 64.2857\n",
      "Epoch 7051/10000, Tr Loss: 0.0000, Tr Acc: 100.0000, Val Loss: 1.5484, Val Acc: 64.2857\n",
      "Epoch 7101/10000, Tr Loss: 0.0000, Tr Acc: 100.0000, Val Loss: 1.5491, Val Acc: 64.2857\n",
      "Epoch 7151/10000, Tr Loss: 0.0000, Tr Acc: 100.0000, Val Loss: 1.5446, Val Acc: 64.2857\n",
      "Epoch 7201/10000, Tr Loss: 0.0000, Tr Acc: 100.0000, Val Loss: 1.5757, Val Acc: 64.2857\n",
      "Epoch 7251/10000, Tr Loss: 0.0000, Tr Acc: 100.0000, Val Loss: 1.5638, Val Acc: 64.2857\n",
      "Epoch 7301/10000, Tr Loss: 0.0000, Tr Acc: 100.0000, Val Loss: 1.5953, Val Acc: 64.2857\n",
      "Epoch 7351/10000, Tr Loss: 0.0000, Tr Acc: 100.0000, Val Loss: 1.5747, Val Acc: 64.2857\n",
      "Epoch 7401/10000, Tr Loss: 0.0000, Tr Acc: 100.0000, Val Loss: 1.5898, Val Acc: 64.2857\n",
      "Epoch 7451/10000, Tr Loss: 0.0000, Tr Acc: 100.0000, Val Loss: 1.5603, Val Acc: 64.2857\n",
      "Epoch 7501/10000, Tr Loss: 0.0000, Tr Acc: 100.0000, Val Loss: 1.5701, Val Acc: 71.4286\n",
      "Epoch 7551/10000, Tr Loss: 0.0000, Tr Acc: 100.0000, Val Loss: 1.6324, Val Acc: 64.2857\n",
      "Epoch 7601/10000, Tr Loss: 0.0000, Tr Acc: 100.0000, Val Loss: 1.6032, Val Acc: 64.2857\n",
      "Epoch 7651/10000, Tr Loss: 0.0000, Tr Acc: 100.0000, Val Loss: 1.6198, Val Acc: 64.2857\n",
      "Epoch 7701/10000, Tr Loss: 0.0000, Tr Acc: 100.0000, Val Loss: 1.6581, Val Acc: 64.2857\n",
      "Epoch 7751/10000, Tr Loss: 0.0000, Tr Acc: 100.0000, Val Loss: 1.6453, Val Acc: 64.2857\n",
      "Epoch 7801/10000, Tr Loss: 0.0000, Tr Acc: 100.0000, Val Loss: 1.6982, Val Acc: 64.2857\n",
      "Epoch 7851/10000, Tr Loss: 0.0000, Tr Acc: 100.0000, Val Loss: 1.6631, Val Acc: 64.2857\n",
      "Epoch 7901/10000, Tr Loss: 0.0000, Tr Acc: 100.0000, Val Loss: 1.7187, Val Acc: 64.2857\n",
      "Epoch 7951/10000, Tr Loss: 0.0000, Tr Acc: 100.0000, Val Loss: 1.6810, Val Acc: 64.2857\n",
      "Epoch 8001/10000, Tr Loss: 0.0000, Tr Acc: 100.0000, Val Loss: 1.6845, Val Acc: 64.2857\n",
      "Epoch 8051/10000, Tr Loss: 0.0000, Tr Acc: 100.0000, Val Loss: 1.7134, Val Acc: 64.2857\n",
      "Epoch 8101/10000, Tr Loss: 0.0000, Tr Acc: 100.0000, Val Loss: 1.6937, Val Acc: 64.2857\n",
      "Epoch 8151/10000, Tr Loss: 0.0000, Tr Acc: 100.0000, Val Loss: 1.7018, Val Acc: 64.2857\n",
      "Epoch 8201/10000, Tr Loss: 0.0000, Tr Acc: 100.0000, Val Loss: 1.6754, Val Acc: 64.2857\n",
      "Epoch 8251/10000, Tr Loss: 0.0000, Tr Acc: 100.0000, Val Loss: 1.7326, Val Acc: 64.2857\n",
      "Epoch 8301/10000, Tr Loss: 0.0000, Tr Acc: 100.0000, Val Loss: 1.7688, Val Acc: 64.2857\n",
      "Epoch 8351/10000, Tr Loss: 0.0000, Tr Acc: 100.0000, Val Loss: 1.7405, Val Acc: 64.2857\n",
      "Epoch 8401/10000, Tr Loss: 0.0000, Tr Acc: 100.0000, Val Loss: 1.7835, Val Acc: 64.2857\n",
      "Epoch 8451/10000, Tr Loss: 0.0000, Tr Acc: 100.0000, Val Loss: 1.7844, Val Acc: 64.2857\n",
      "Epoch 8501/10000, Tr Loss: 0.0000, Tr Acc: 100.0000, Val Loss: 1.7666, Val Acc: 64.2857\n",
      "Epoch 8551/10000, Tr Loss: 0.0000, Tr Acc: 100.0000, Val Loss: 1.7963, Val Acc: 64.2857\n",
      "Epoch 8601/10000, Tr Loss: 0.0000, Tr Acc: 100.0000, Val Loss: 1.8078, Val Acc: 64.2857\n",
      "Epoch 8651/10000, Tr Loss: 0.0000, Tr Acc: 100.0000, Val Loss: 1.7833, Val Acc: 64.2857\n",
      "Epoch 8701/10000, Tr Loss: 0.0000, Tr Acc: 100.0000, Val Loss: 1.8228, Val Acc: 64.2857\n",
      "Epoch 8751/10000, Tr Loss: 0.0000, Tr Acc: 100.0000, Val Loss: 1.8108, Val Acc: 64.2857\n",
      "Epoch 8801/10000, Tr Loss: 0.0000, Tr Acc: 100.0000, Val Loss: 1.8216, Val Acc: 64.2857\n",
      "Epoch 8851/10000, Tr Loss: 0.0000, Tr Acc: 100.0000, Val Loss: 1.8041, Val Acc: 64.2857\n",
      "Epoch 8901/10000, Tr Loss: 0.0000, Tr Acc: 100.0000, Val Loss: 1.8349, Val Acc: 64.2857\n",
      "Epoch 8951/10000, Tr Loss: 0.0000, Tr Acc: 100.0000, Val Loss: 1.8105, Val Acc: 64.2857\n",
      "Epoch 9001/10000, Tr Loss: 0.0000, Tr Acc: 100.0000, Val Loss: 1.8081, Val Acc: 64.2857\n",
      "Epoch 9051/10000, Tr Loss: 0.0000, Tr Acc: 100.0000, Val Loss: 1.8320, Val Acc: 64.2857\n",
      "Epoch 9101/10000, Tr Loss: 0.0000, Tr Acc: 100.0000, Val Loss: 1.8797, Val Acc: 64.2857\n",
      "Epoch 9151/10000, Tr Loss: 0.0000, Tr Acc: 100.0000, Val Loss: 1.8838, Val Acc: 64.2857\n",
      "Epoch 9201/10000, Tr Loss: 0.0000, Tr Acc: 100.0000, Val Loss: 1.8444, Val Acc: 64.2857\n",
      "Epoch 9251/10000, Tr Loss: 0.0000, Tr Acc: 100.0000, Val Loss: 1.8793, Val Acc: 64.2857\n",
      "Epoch 9301/10000, Tr Loss: 0.0000, Tr Acc: 100.0000, Val Loss: 1.9164, Val Acc: 64.2857\n",
      "Epoch 9351/10000, Tr Loss: 0.0000, Tr Acc: 100.0000, Val Loss: 1.9016, Val Acc: 64.2857\n",
      "Epoch 9401/10000, Tr Loss: 0.0000, Tr Acc: 100.0000, Val Loss: 1.9850, Val Acc: 71.4286\n",
      "Epoch 9451/10000, Tr Loss: 0.0000, Tr Acc: 100.0000, Val Loss: 1.9052, Val Acc: 64.2857\n",
      "Epoch 9501/10000, Tr Loss: 0.0000, Tr Acc: 100.0000, Val Loss: 1.9112, Val Acc: 64.2857\n",
      "Epoch 9551/10000, Tr Loss: 0.0000, Tr Acc: 100.0000, Val Loss: 1.8797, Val Acc: 64.2857\n",
      "Epoch 9601/10000, Tr Loss: 0.0000, Tr Acc: 100.0000, Val Loss: 1.8909, Val Acc: 64.2857\n",
      "Epoch 9651/10000, Tr Loss: 0.0000, Tr Acc: 100.0000, Val Loss: 1.9436, Val Acc: 64.2857\n",
      "Epoch 9701/10000, Tr Loss: 0.0000, Tr Acc: 100.0000, Val Loss: 1.9620, Val Acc: 64.2857\n",
      "Epoch 9751/10000, Tr Loss: 0.0000, Tr Acc: 100.0000, Val Loss: 1.9263, Val Acc: 64.2857\n",
      "Epoch 9801/10000, Tr Loss: 0.0000, Tr Acc: 100.0000, Val Loss: 1.9441, Val Acc: 64.2857\n",
      "Epoch 9851/10000, Tr Loss: 0.0000, Tr Acc: 100.0000, Val Loss: 1.9257, Val Acc: 64.2857\n",
      "Epoch 9901/10000, Tr Loss: 0.0000, Tr Acc: 100.0000, Val Loss: 1.9940, Val Acc: 64.2857\n",
      "Epoch 9951/10000, Tr Loss: 0.0000, Tr Acc: 100.0000, Val Loss: 1.9618, Val Acc: 64.2857\n"
     ]
    }
   ],
   "source": [
    "net = ConvNet().cuda(0)\n",
    "optimizer = optim.Adam(net.parameters(), lr=config.learning_rate)\n",
    "criterion = nn.CrossEntropyLoss()\n",
    "\n",
    "\n",
    "train_loss,valid_loss,train_accuracy,valid_accuracy =train(\n",
    "    model = net,\n",
    "    gpu_num = 0,\n",
    "    train_loader = train_loader,\n",
    "    test_loader = test_loader,\n",
    "    optimizer = optimizer  ,\n",
    "    criterion = criterion ,\n",
    "    wand = wand\n",
    "         )\n",
    "\n",
    "\n",
    "wandb.alert(\n",
    "            title='Finish',\n",
    "            text=f'Finishing training',\n",
    "        )"
   ]
  },
  {
   "cell_type": "markdown",
   "id": "5d4f20d0-63c3-4c9f-8425-b49a381136d8",
   "metadata": {},
   "source": [
    "### GAMENET"
   ]
  },
  {
   "cell_type": "code",
   "execution_count": 64,
   "id": "3e2a1af2-75e8-4965-9c12-8555df2a62ac",
   "metadata": {},
   "outputs": [],
   "source": [
    "class gamenet(nn.Module):\n",
    "    def __init__(self):\n",
    "        \n",
    "        super(gamenet,self).__init__()\n",
    "        \n",
    "        self.l1 = nn.Sequential(\n",
    "            #in_channel = 16\n",
    "            #out_channel or Filter size = 100\n",
    "            #kernel size = (1,25)\n",
    "            #stride = 1\n",
    "            #padding = Same\n",
    "            #Relu\n",
    "            nn.Conv2d(2,100,kernel_size=(1,2),stride=1,padding='same'),\n",
    "            nn.ReLU(),\n",
    "            nn.BatchNorm2d(100)\n",
    "        )\n",
    "        self.l2 = nn.Sequential(\n",
    "            #in_channel = 100\n",
    "            #out_channel or Filter size = 100\n",
    "            #kernel size = (16,1)\n",
    "            #stride = 1\n",
    "            #padding = Valid\n",
    "            #Relu\n",
    "            nn.Conv2d(100,100,kernel_size=(1,2),stride=1,padding='valid'),\n",
    "            #nn.Conv2d(100,100,kernel_size=(64,1),stride=1,padding='valid'),\n",
    "            nn.ReLU(),\n",
    "            nn.BatchNorm2d(100)\n",
    "        )\n",
    "        self.l3 = nn.Sequential(\n",
    "            #in_channel = 100\n",
    "            #out_channel = 50\n",
    "            #kernel size = (1,30)\n",
    "            #stride = 1\n",
    "            #padding = Same\n",
    "            #Relu\n",
    "            nn.Conv2d(100,50,kernel_size=(1,30),stride=1,padding='same'),\n",
    "            nn.ReLU(),\n",
    "            nn.BatchNorm2d(50)\n",
    "        )\n",
    "        self.maxpooling1 = nn.MaxPool2d(kernel_size=(1,7),stride=5)\n",
    "        self.l4 = nn.Sequential(\n",
    "            #in_channel = 50\n",
    "            #out_channel = 50\n",
    "            #kernel size = (1,30)\n",
    "            #stride = 1\n",
    "            #padding = Same\n",
    "            #Relu\n",
    "            nn.Conv2d(50,50,kernel_size=(1,30),stride=1,padding='same'),\n",
    "            nn.ReLU(),\n",
    "            nn.BatchNorm2d(50)\n",
    "        )\n",
    "        self.maxpooling2 = nn.MaxPool2d(kernel_size=(1,3),stride=2)\n",
    "        \n",
    "\n",
    "        self.flatten = nn.Sequential(\n",
    "            nn.Flatten(),\n",
    "            nn.BatchNorm1d(4950),\n",
    "            nn.Dropout(0.15)\n",
    "        )\n",
    "        self.fc1 = nn.Sequential(\n",
    "            nn.Linear(4950 ,1024),\n",
    "            nn.ReLU(),\n",
    "            nn.BatchNorm1d(1024),\n",
    "            nn.Dropout(0.15)\n",
    "        )\n",
    "        self.fc2 = nn.Sequential(\n",
    "            nn.Linear(1024,512),\n",
    "            nn.ReLU(),\n",
    "            nn.BatchNorm1d(512),\n",
    "            nn.Dropout(0.15)\n",
    "        )\n",
    "        self.fc3 = nn.Sequential(\n",
    "            nn.Linear(512,256),\n",
    "            nn.ReLU(),\n",
    "            nn.BatchNorm1d(256),\n",
    "            nn.Dropout(0.15)\n",
    "        )\n",
    "        self.fc3 = nn.Sequential(\n",
    "            nn.Linear(512,256),\n",
    "            nn.ReLU(),\n",
    "            nn.BatchNorm1d(256),\n",
    "            nn.Dropout(0.15)\n",
    "        )\n",
    "        self.fc4 = nn.Sequential(\n",
    "            nn.Linear(256,128),\n",
    "            nn.ReLU(),\n",
    "            nn.BatchNorm1d(128),\n",
    "            nn.Dropout(0.15)\n",
    "        )\n",
    "        self.fc5 = nn.Sequential(\n",
    "            nn.Linear(128,64),\n",
    "            nn.ReLU(),\n",
    "            nn.BatchNorm1d(64),\n",
    "            nn.Dropout(0.15)\n",
    "        )\n",
    "        self.fc6 = nn.Sequential(\n",
    "            nn.Linear(64,32),\n",
    "            nn.ReLU(),\n",
    "            nn.BatchNorm1d(32),\n",
    "            nn.Dropout(0.15)\n",
    "        )\n",
    "        self.softmax = nn.Sequential(\n",
    "            nn.Linear(32,2),\n",
    "            nn.Softmax()\n",
    "        )\n",
    "    def forward(self,x):\n",
    "        \n",
    "        out = self.l1(x)\n",
    "        out = self.l2(out)\n",
    "        out = self.l3(out)\n",
    "        out = self.maxpooling1(out)\n",
    "        out = self.l4(out)\n",
    "        out = self.maxpooling2(out)\n",
    "        out = self.flatten(out)\n",
    "        out = self.fc1(out)\n",
    "        out = self.fc2(out)\n",
    "        out = self.fc3(out)\n",
    "        out = self.fc4(out)\n",
    "        out = self.fc5(out)\n",
    "        out = self.fc6(out)\n",
    "        out = self.softmax(out)\n",
    "        return out"
   ]
  },
  {
   "cell_type": "code",
   "execution_count": 65,
   "id": "ed78e0eb-10c7-4f58-9079-303075921daf",
   "metadata": {},
   "outputs": [
    {
     "name": "stdout",
     "output_type": "stream",
     "text": [
      "144 events found\n",
      "Event IDs: [1 2 4]\n",
      "Not setting metadata\n",
      "72 matching events found\n",
      "No baseline correction applied\n",
      "0 projection items activated\n",
      "Using data from preloaded Raw for 72 events and 1001 original time points ...\n",
      "3 bad epochs dropped\n",
      "(69, 2, 1, 1001)\n"
     ]
    },
    {
     "name": "stderr",
     "output_type": "stream",
     "text": [
      "/tmp/ipykernel_3622/2543180692.py:92: RuntimeWarning: No matching events found for 3 (event id 3)\n",
      "  epochs = mne.Epochs(\n"
     ]
    },
    {
     "data": {
      "text/plain": [
       "array([0, 0, 0, 0, 0, 0, 0, 0, 0, 0, 0, 1, 1, 1, 1, 1, 1, 1, 1, 1, 1, 1,\n",
       "       1, 0, 0, 0, 0, 0, 0, 0, 0, 0, 0, 0, 1, 1, 1, 1, 1, 1, 1, 1, 1, 1,\n",
       "       1, 1, 0, 0, 0, 0, 0, 0, 0, 0, 0, 0, 0, 1, 1, 1, 1, 1, 1, 1, 1, 1,\n",
       "       1, 1, 1])"
      ]
     },
     "execution_count": 65,
     "metadata": {},
     "output_type": "execute_result"
    }
   ],
   "source": [
    "X, y = eeg.get_X_y()\n",
    "X = X[:, :,np.newaxis,:]\n",
    "print(X.shape)\n",
    "y=y-1\n",
    "y"
   ]
  },
  {
   "cell_type": "code",
   "execution_count": 66,
   "id": "70ec6087-3a39-4b2b-853c-7721ae49088c",
   "metadata": {},
   "outputs": [
    {
     "name": "stdout",
     "output_type": "stream",
     "text": [
      "train size (48, 2, 1, 1001) (48,)\n",
      "Test size (21, 2, 1, 1001) (21,)\n"
     ]
    }
   ],
   "source": [
    "X_train, X_test, y_train, y_test = train_test_split(X, y, test_size=0.3)\n",
    "\n",
    "print('train size',X_train.shape, y_train.shape)\n",
    "print('Test size',X_test.shape, y_test.shape)\n",
    "\n",
    "train_loader = create_dataloader(X_train, y_train, batch_size=batch_size)\n",
    "test_loader = create_dataloader(X_test, y_test, batch_size=batch_size)\n",
    "\n",
    "num_step =math.ceil(len(train_loader.dataset) / batch_size)"
   ]
  },
  {
   "cell_type": "code",
   "execution_count": 67,
   "id": "1cfc6a1b-820c-461e-814e-6b58a6d353b1",
   "metadata": {},
   "outputs": [
    {
     "data": {
      "text/html": [
       "Finishing last run (ID:22x0nyti) before initializing another..."
      ],
      "text/plain": [
       "<IPython.core.display.HTML object>"
      ]
     },
     "metadata": {},
     "output_type": "display_data"
    },
    {
     "data": {
      "text/html": [
       "Waiting for W&B process to finish... <strong style=\"color:green\">(success).</strong>"
      ],
      "text/plain": [
       "<IPython.core.display.HTML object>"
      ]
     },
     "metadata": {},
     "output_type": "display_data"
    },
    {
     "data": {
      "text/html": [
       "Synced <strong style=\"color:#cdcd00\">OurData_gamenet_2ch_2class</strong>: <a href=\"https://wandb.ai/nutapol-1997/Motor-Imagery/runs/22x0nyti\" target=\"_blank\">https://wandb.ai/nutapol-1997/Motor-Imagery/runs/22x0nyti</a><br/>Synced 5 W&B file(s), 0 media file(s), 0 artifact file(s) and 0 other file(s)"
      ],
      "text/plain": [
       "<IPython.core.display.HTML object>"
      ]
     },
     "metadata": {},
     "output_type": "display_data"
    },
    {
     "data": {
      "text/html": [
       "Find logs at: <code>./wandb/run-20220901_044158-22x0nyti/logs</code>"
      ],
      "text/plain": [
       "<IPython.core.display.HTML object>"
      ]
     },
     "metadata": {},
     "output_type": "display_data"
    },
    {
     "data": {
      "text/html": [
       "Successfully finished last run (ID:22x0nyti). Initializing new run:<br/>"
      ],
      "text/plain": [
       "<IPython.core.display.HTML object>"
      ]
     },
     "metadata": {},
     "output_type": "display_data"
    },
    {
     "data": {
      "text/html": [
       "Tracking run with wandb version 0.13.2"
      ],
      "text/plain": [
       "<IPython.core.display.HTML object>"
      ]
     },
     "metadata": {},
     "output_type": "display_data"
    },
    {
     "data": {
      "text/html": [
       "Run data is saved locally in <code>/home/nutapolt/eeg_mi/wandb/run-20220901_044247-o6rj17c6</code>"
      ],
      "text/plain": [
       "<IPython.core.display.HTML object>"
      ]
     },
     "metadata": {},
     "output_type": "display_data"
    },
    {
     "data": {
      "text/html": [
       "Syncing run <strong><a href=\"https://wandb.ai/nutapol-1997/Motor-Imagery/runs/o6rj17c6\" target=\"_blank\">OurData_gamenet_2ch_2class</a></strong> to <a href=\"https://wandb.ai/nutapol-1997/Motor-Imagery\" target=\"_blank\">Weights & Biases</a> (<a href=\"https://wandb.me/run\" target=\"_blank\">docs</a>)<br/>"
      ],
      "text/plain": [
       "<IPython.core.display.HTML object>"
      ]
     },
     "metadata": {},
     "output_type": "display_data"
    },
    {
     "name": "stdout",
     "output_type": "stream",
     "text": [
      "2\n"
     ]
    }
   ],
   "source": [
    "\n",
    "wand = wandb.init(\n",
    "        \n",
    "      # Set the project where this run will be logged\n",
    "      project=\"Motor-Imagery\", \n",
    "      # We pass a run name (otherwise it’ll be randomly assigned, like sunshine-lollypop-10)\n",
    "      name=f\"OurData_gamenet_2ch_2class\", \n",
    "      # Track hyperparameters and run metadata\n",
    "      config={\n",
    "      \"learning_rate\": 0.00001,\n",
    "      \"architecture\": \"gamenet\",\n",
    "      \"dataset\": \"Nutapol T.\",\n",
    "      \"epochs\": 20000,\n",
    "      \"weightname\":\"OurData_gamenet_2ch_2class\",\n",
    "      \"num_step_per_epoch\" : num_step, \n",
    "        \n",
    "      }\n",
    "    )\n",
    "config = wand.config\n",
    "print(config.num_step_per_epoch)\n"
   ]
  },
  {
   "cell_type": "code",
   "execution_count": 68,
   "id": "4ad5c4cd-1544-4e82-ac0e-52722a6041b8",
   "metadata": {},
   "outputs": [],
   "source": [
    "from common import train"
   ]
  },
  {
   "cell_type": "code",
   "execution_count": null,
   "id": "92ad7a46-ab03-4407-8ce5-de691c7cb81d",
   "metadata": {},
   "outputs": [],
   "source": []
  },
  {
   "cell_type": "code",
   "execution_count": 70,
   "id": "7d2142f5-a712-496d-b1fd-b9b1767f03b0",
   "metadata": {},
   "outputs": [
    {
     "name": "stderr",
     "output_type": "stream",
     "text": [
      "/home/nutapolt/.local/lib/python3.8/site-packages/torch/nn/modules/container.py:139: UserWarning: Implicit dimension choice for softmax has been deprecated. Change the call to include dim=X as an argument.\n",
      "  input = module(input)\n"
     ]
    },
    {
     "name": "stdout",
     "output_type": "stream",
     "text": [
      "Epoch 1/20000, Tr Loss: 0.6743, Tr Acc: 60.4167, Val Loss: 0.6894, Val Acc: 61.9048\n",
      "Epoch 51/20000, Tr Loss: 0.5404, Tr Acc: 85.4167, Val Loss: 0.7419, Val Acc: 57.1429\n",
      "Epoch 101/20000, Tr Loss: 0.5299, Tr Acc: 89.5833, Val Loss: 0.7014, Val Acc: 61.9048\n",
      "Epoch 151/20000, Tr Loss: 0.4840, Tr Acc: 91.6667, Val Loss: 0.7988, Val Acc: 47.6190\n",
      "Epoch 201/20000, Tr Loss: 0.4679, Tr Acc: 93.7500, Val Loss: 0.6253, Val Acc: 57.1429\n",
      "Epoch 251/20000, Tr Loss: 0.4250, Tr Acc: 100.0000, Val Loss: 0.5945, Val Acc: 66.6667\n",
      "Epoch 301/20000, Tr Loss: 0.4202, Tr Acc: 100.0000, Val Loss: 0.6977, Val Acc: 61.9048\n",
      "Epoch 351/20000, Tr Loss: 0.4192, Tr Acc: 97.9167, Val Loss: 0.6868, Val Acc: 52.3810\n",
      "Epoch 401/20000, Tr Loss: 0.4182, Tr Acc: 100.0000, Val Loss: 0.7595, Val Acc: 61.9048\n",
      "Epoch 451/20000, Tr Loss: 0.3914, Tr Acc: 100.0000, Val Loss: 0.6943, Val Acc: 61.9048\n",
      "Epoch 501/20000, Tr Loss: 0.4025, Tr Acc: 100.0000, Val Loss: 0.4960, Val Acc: 80.9524\n",
      "Epoch 551/20000, Tr Loss: 0.3764, Tr Acc: 100.0000, Val Loss: 0.7016, Val Acc: 57.1429\n",
      "Epoch 601/20000, Tr Loss: 0.3963, Tr Acc: 100.0000, Val Loss: 0.6588, Val Acc: 66.6667\n",
      "Epoch 651/20000, Tr Loss: 0.3986, Tr Acc: 95.8333, Val Loss: 0.6785, Val Acc: 66.6667\n",
      "Epoch 701/20000, Tr Loss: 0.3883, Tr Acc: 100.0000, Val Loss: 0.6673, Val Acc: 61.9048\n",
      "Epoch 751/20000, Tr Loss: 0.3792, Tr Acc: 100.0000, Val Loss: 0.5916, Val Acc: 66.6667\n",
      "Epoch 801/20000, Tr Loss: 0.3576, Tr Acc: 100.0000, Val Loss: 0.5820, Val Acc: 76.1905\n",
      "Epoch 851/20000, Tr Loss: 0.3727, Tr Acc: 100.0000, Val Loss: 0.6367, Val Acc: 61.9048\n",
      "Epoch 901/20000, Tr Loss: 0.3579, Tr Acc: 100.0000, Val Loss: 0.5894, Val Acc: 71.4286\n",
      "Epoch 951/20000, Tr Loss: 0.3557, Tr Acc: 100.0000, Val Loss: 0.6108, Val Acc: 66.6667\n",
      "Epoch 1001/20000, Tr Loss: 0.3511, Tr Acc: 100.0000, Val Loss: 0.5642, Val Acc: 80.9524\n",
      "Epoch 1051/20000, Tr Loss: 0.3670, Tr Acc: 100.0000, Val Loss: 0.6058, Val Acc: 66.6667\n",
      "Epoch 1101/20000, Tr Loss: 0.3813, Tr Acc: 100.0000, Val Loss: 0.5990, Val Acc: 71.4286\n",
      "Epoch 1151/20000, Tr Loss: 0.3559, Tr Acc: 100.0000, Val Loss: 0.5272, Val Acc: 76.1905\n",
      "Epoch 1201/20000, Tr Loss: 0.3405, Tr Acc: 100.0000, Val Loss: 0.7868, Val Acc: 47.6190\n",
      "Epoch 1251/20000, Tr Loss: 0.3666, Tr Acc: 100.0000, Val Loss: 0.5250, Val Acc: 85.7143\n",
      "Epoch 1301/20000, Tr Loss: 0.3361, Tr Acc: 100.0000, Val Loss: 0.7640, Val Acc: 52.3810\n",
      "Epoch 1351/20000, Tr Loss: 0.3376, Tr Acc: 100.0000, Val Loss: 0.6224, Val Acc: 71.4286\n",
      "Epoch 1401/20000, Tr Loss: 0.3333, Tr Acc: 100.0000, Val Loss: 0.5300, Val Acc: 80.9524\n",
      "Epoch 1451/20000, Tr Loss: 0.3453, Tr Acc: 100.0000, Val Loss: 0.5455, Val Acc: 80.9524\n",
      "Epoch 1501/20000, Tr Loss: 0.3490, Tr Acc: 100.0000, Val Loss: 0.5396, Val Acc: 90.4762\n",
      "Epoch 1551/20000, Tr Loss: 0.3304, Tr Acc: 100.0000, Val Loss: 0.5730, Val Acc: 76.1905\n",
      "Epoch 1601/20000, Tr Loss: 0.3309, Tr Acc: 100.0000, Val Loss: 0.6263, Val Acc: 71.4286\n",
      "Epoch 1651/20000, Tr Loss: 0.3529, Tr Acc: 100.0000, Val Loss: 0.5917, Val Acc: 66.6667\n",
      "Epoch 1701/20000, Tr Loss: 0.3293, Tr Acc: 100.0000, Val Loss: 0.5863, Val Acc: 76.1905\n",
      "Epoch 1751/20000, Tr Loss: 0.3483, Tr Acc: 100.0000, Val Loss: 0.6114, Val Acc: 71.4286\n",
      "Epoch 1801/20000, Tr Loss: 0.3273, Tr Acc: 100.0000, Val Loss: 0.5528, Val Acc: 71.4286\n",
      "Epoch 1851/20000, Tr Loss: 0.3272, Tr Acc: 100.0000, Val Loss: 0.6057, Val Acc: 61.9048\n",
      "Epoch 1901/20000, Tr Loss: 0.3333, Tr Acc: 100.0000, Val Loss: 0.7194, Val Acc: 57.1429\n",
      "Epoch 1951/20000, Tr Loss: 0.3287, Tr Acc: 100.0000, Val Loss: 0.6732, Val Acc: 66.6667\n",
      "Epoch 2001/20000, Tr Loss: 0.3246, Tr Acc: 100.0000, Val Loss: 0.6775, Val Acc: 61.9048\n",
      "Epoch 2051/20000, Tr Loss: 0.3261, Tr Acc: 100.0000, Val Loss: 0.6056, Val Acc: 66.6667\n",
      "Epoch 2101/20000, Tr Loss: 0.3256, Tr Acc: 100.0000, Val Loss: 0.6205, Val Acc: 71.4286\n",
      "Epoch 2151/20000, Tr Loss: 0.3244, Tr Acc: 100.0000, Val Loss: 0.5480, Val Acc: 71.4286\n",
      "Epoch 2201/20000, Tr Loss: 0.3247, Tr Acc: 100.0000, Val Loss: 0.6056, Val Acc: 66.6667\n",
      "Epoch 2251/20000, Tr Loss: 0.3225, Tr Acc: 100.0000, Val Loss: 0.5456, Val Acc: 76.1905\n",
      "Epoch 2301/20000, Tr Loss: 0.3227, Tr Acc: 100.0000, Val Loss: 0.6590, Val Acc: 66.6667\n",
      "Epoch 2351/20000, Tr Loss: 0.3349, Tr Acc: 100.0000, Val Loss: 0.7095, Val Acc: 52.3810\n",
      "Epoch 2401/20000, Tr Loss: 0.3228, Tr Acc: 100.0000, Val Loss: 0.6374, Val Acc: 61.9048\n",
      "Epoch 2451/20000, Tr Loss: 0.3224, Tr Acc: 100.0000, Val Loss: 0.6302, Val Acc: 66.6667\n",
      "Epoch 2501/20000, Tr Loss: 0.3237, Tr Acc: 100.0000, Val Loss: 0.6597, Val Acc: 61.9048\n",
      "Epoch 2551/20000, Tr Loss: 0.3205, Tr Acc: 100.0000, Val Loss: 0.5763, Val Acc: 76.1905\n",
      "Epoch 2601/20000, Tr Loss: 0.3202, Tr Acc: 100.0000, Val Loss: 0.7109, Val Acc: 61.9048\n",
      "Epoch 2651/20000, Tr Loss: 0.3198, Tr Acc: 100.0000, Val Loss: 0.6049, Val Acc: 71.4286\n",
      "Epoch 2701/20000, Tr Loss: 0.3245, Tr Acc: 100.0000, Val Loss: 0.6575, Val Acc: 57.1429\n",
      "Epoch 2751/20000, Tr Loss: 0.3216, Tr Acc: 100.0000, Val Loss: 0.7020, Val Acc: 61.9048\n",
      "Epoch 2801/20000, Tr Loss: 0.3203, Tr Acc: 100.0000, Val Loss: 0.5950, Val Acc: 66.6667\n",
      "Epoch 2851/20000, Tr Loss: 0.3252, Tr Acc: 100.0000, Val Loss: 0.6458, Val Acc: 66.6667\n",
      "Epoch 2901/20000, Tr Loss: 0.3193, Tr Acc: 100.0000, Val Loss: 0.5441, Val Acc: 71.4286\n",
      "Epoch 2951/20000, Tr Loss: 0.3206, Tr Acc: 100.0000, Val Loss: 0.6447, Val Acc: 66.6667\n",
      "Epoch 3001/20000, Tr Loss: 0.3181, Tr Acc: 100.0000, Val Loss: 0.6942, Val Acc: 61.9048\n",
      "Epoch 3051/20000, Tr Loss: 0.3176, Tr Acc: 100.0000, Val Loss: 0.5940, Val Acc: 71.4286\n",
      "Epoch 3101/20000, Tr Loss: 0.3206, Tr Acc: 100.0000, Val Loss: 0.6761, Val Acc: 61.9048\n",
      "Epoch 3151/20000, Tr Loss: 0.3177, Tr Acc: 100.0000, Val Loss: 0.6942, Val Acc: 61.9048\n",
      "Epoch 3201/20000, Tr Loss: 0.3182, Tr Acc: 100.0000, Val Loss: 0.6698, Val Acc: 61.9048\n",
      "Epoch 3251/20000, Tr Loss: 0.3181, Tr Acc: 100.0000, Val Loss: 0.5883, Val Acc: 71.4286\n",
      "Epoch 3301/20000, Tr Loss: 0.3261, Tr Acc: 100.0000, Val Loss: 0.5951, Val Acc: 71.4286\n",
      "Epoch 3351/20000, Tr Loss: 0.3199, Tr Acc: 100.0000, Val Loss: 0.5559, Val Acc: 80.9524\n",
      "Epoch 3401/20000, Tr Loss: 0.3198, Tr Acc: 100.0000, Val Loss: 0.7159, Val Acc: 52.3810\n",
      "Epoch 3451/20000, Tr Loss: 0.3179, Tr Acc: 100.0000, Val Loss: 0.6621, Val Acc: 61.9048\n",
      "Epoch 3501/20000, Tr Loss: 0.3214, Tr Acc: 100.0000, Val Loss: 0.7023, Val Acc: 57.1429\n",
      "Epoch 3551/20000, Tr Loss: 0.3190, Tr Acc: 100.0000, Val Loss: 0.4979, Val Acc: 80.9524\n",
      "Epoch 3601/20000, Tr Loss: 0.3193, Tr Acc: 100.0000, Val Loss: 0.6205, Val Acc: 61.9048\n",
      "Epoch 3651/20000, Tr Loss: 0.3172, Tr Acc: 100.0000, Val Loss: 0.6943, Val Acc: 61.9048\n",
      "Epoch 3701/20000, Tr Loss: 0.3164, Tr Acc: 100.0000, Val Loss: 0.6817, Val Acc: 61.9048\n",
      "Epoch 3751/20000, Tr Loss: 0.3156, Tr Acc: 100.0000, Val Loss: 0.5733, Val Acc: 71.4286\n",
      "Epoch 3801/20000, Tr Loss: 0.3171, Tr Acc: 100.0000, Val Loss: 0.4791, Val Acc: 80.9524\n",
      "Epoch 3851/20000, Tr Loss: 0.3412, Tr Acc: 97.9167, Val Loss: 0.6460, Val Acc: 61.9048\n",
      "Epoch 3901/20000, Tr Loss: 0.3250, Tr Acc: 100.0000, Val Loss: 0.6818, Val Acc: 61.9048\n",
      "Epoch 3951/20000, Tr Loss: 0.3185, Tr Acc: 100.0000, Val Loss: 0.6374, Val Acc: 61.9048\n",
      "Epoch 4001/20000, Tr Loss: 0.3184, Tr Acc: 100.0000, Val Loss: 0.6942, Val Acc: 61.9048\n",
      "Epoch 4051/20000, Tr Loss: 0.3160, Tr Acc: 100.0000, Val Loss: 0.5925, Val Acc: 71.4286\n",
      "Epoch 4101/20000, Tr Loss: 0.3152, Tr Acc: 100.0000, Val Loss: 0.5458, Val Acc: 76.1905\n",
      "Epoch 4151/20000, Tr Loss: 0.3234, Tr Acc: 100.0000, Val Loss: 0.6942, Val Acc: 61.9048\n",
      "Epoch 4201/20000, Tr Loss: 0.3155, Tr Acc: 100.0000, Val Loss: 0.6739, Val Acc: 61.9048\n",
      "Epoch 4251/20000, Tr Loss: 0.3240, Tr Acc: 100.0000, Val Loss: 0.7895, Val Acc: 52.3810\n",
      "Epoch 4301/20000, Tr Loss: 0.3162, Tr Acc: 100.0000, Val Loss: 0.6838, Val Acc: 61.9048\n",
      "Epoch 4351/20000, Tr Loss: 0.3238, Tr Acc: 100.0000, Val Loss: 0.6942, Val Acc: 61.9048\n",
      "Epoch 4401/20000, Tr Loss: 0.3151, Tr Acc: 100.0000, Val Loss: 0.5514, Val Acc: 76.1905\n",
      "Epoch 4451/20000, Tr Loss: 0.3181, Tr Acc: 100.0000, Val Loss: 0.5670, Val Acc: 71.4286\n",
      "Epoch 4501/20000, Tr Loss: 0.3149, Tr Acc: 100.0000, Val Loss: 0.6942, Val Acc: 61.9048\n",
      "Epoch 4551/20000, Tr Loss: 0.3149, Tr Acc: 100.0000, Val Loss: 0.5584, Val Acc: 80.9524\n",
      "Epoch 4601/20000, Tr Loss: 0.3163, Tr Acc: 100.0000, Val Loss: 0.6947, Val Acc: 61.9048\n",
      "Epoch 4651/20000, Tr Loss: 0.3171, Tr Acc: 100.0000, Val Loss: 0.6080, Val Acc: 71.4286\n",
      "Epoch 4701/20000, Tr Loss: 0.3154, Tr Acc: 100.0000, Val Loss: 0.6367, Val Acc: 66.6667\n",
      "Epoch 4751/20000, Tr Loss: 0.3282, Tr Acc: 100.0000, Val Loss: 0.6270, Val Acc: 61.9048\n",
      "Epoch 4801/20000, Tr Loss: 0.3151, Tr Acc: 100.0000, Val Loss: 0.6947, Val Acc: 61.9048\n",
      "Epoch 4851/20000, Tr Loss: 0.3156, Tr Acc: 100.0000, Val Loss: 0.6036, Val Acc: 71.4286\n",
      "Epoch 4901/20000, Tr Loss: 0.3145, Tr Acc: 100.0000, Val Loss: 0.6442, Val Acc: 61.9048\n",
      "Epoch 4951/20000, Tr Loss: 0.3149, Tr Acc: 100.0000, Val Loss: 0.6833, Val Acc: 61.9048\n",
      "Epoch 5001/20000, Tr Loss: 0.3147, Tr Acc: 100.0000, Val Loss: 0.5374, Val Acc: 80.9524\n",
      "Epoch 5051/20000, Tr Loss: 0.3149, Tr Acc: 100.0000, Val Loss: 0.5938, Val Acc: 71.4286\n",
      "Epoch 5101/20000, Tr Loss: 0.3165, Tr Acc: 100.0000, Val Loss: 0.6923, Val Acc: 61.9048\n",
      "Epoch 5151/20000, Tr Loss: 0.3146, Tr Acc: 100.0000, Val Loss: 0.6942, Val Acc: 61.9048\n",
      "Epoch 5201/20000, Tr Loss: 0.3154, Tr Acc: 100.0000, Val Loss: 0.7762, Val Acc: 47.6190\n",
      "Epoch 5251/20000, Tr Loss: 0.3203, Tr Acc: 100.0000, Val Loss: 0.6942, Val Acc: 61.9048\n",
      "Epoch 5301/20000, Tr Loss: 0.3145, Tr Acc: 100.0000, Val Loss: 0.5100, Val Acc: 76.1905\n",
      "Epoch 5351/20000, Tr Loss: 0.3145, Tr Acc: 100.0000, Val Loss: 0.5794, Val Acc: 71.4286\n",
      "Epoch 5401/20000, Tr Loss: 0.3147, Tr Acc: 100.0000, Val Loss: 0.5614, Val Acc: 76.1905\n",
      "Epoch 5451/20000, Tr Loss: 0.3151, Tr Acc: 100.0000, Val Loss: 0.6559, Val Acc: 66.6667\n",
      "Epoch 5501/20000, Tr Loss: 0.3142, Tr Acc: 100.0000, Val Loss: 0.5398, Val Acc: 80.9524\n",
      "Epoch 5551/20000, Tr Loss: 0.3141, Tr Acc: 100.0000, Val Loss: 0.4844, Val Acc: 85.7143\n",
      "Epoch 5601/20000, Tr Loss: 0.3144, Tr Acc: 100.0000, Val Loss: 0.7635, Val Acc: 47.6190\n",
      "Epoch 5651/20000, Tr Loss: 0.3143, Tr Acc: 100.0000, Val Loss: 0.5480, Val Acc: 76.1905\n",
      "Epoch 5701/20000, Tr Loss: 0.3145, Tr Acc: 100.0000, Val Loss: 0.6892, Val Acc: 61.9048\n",
      "Epoch 5751/20000, Tr Loss: 0.3142, Tr Acc: 100.0000, Val Loss: 0.6580, Val Acc: 57.1429\n",
      "Epoch 5801/20000, Tr Loss: 0.3143, Tr Acc: 100.0000, Val Loss: 0.6943, Val Acc: 61.9048\n",
      "Epoch 5851/20000, Tr Loss: 0.3142, Tr Acc: 100.0000, Val Loss: 0.6119, Val Acc: 71.4286\n",
      "Epoch 5901/20000, Tr Loss: 0.3143, Tr Acc: 100.0000, Val Loss: 0.8034, Val Acc: 47.6190\n",
      "Epoch 5951/20000, Tr Loss: 0.3143, Tr Acc: 100.0000, Val Loss: 0.6942, Val Acc: 61.9048\n",
      "Epoch 6001/20000, Tr Loss: 0.3154, Tr Acc: 100.0000, Val Loss: 0.7508, Val Acc: 57.1429\n",
      "Epoch 6051/20000, Tr Loss: 0.3158, Tr Acc: 100.0000, Val Loss: 0.5634, Val Acc: 76.1905\n",
      "Epoch 6101/20000, Tr Loss: 0.3246, Tr Acc: 100.0000, Val Loss: 0.7630, Val Acc: 57.1429\n",
      "Epoch 6151/20000, Tr Loss: 0.3140, Tr Acc: 100.0000, Val Loss: 0.7300, Val Acc: 57.1429\n",
      "Epoch 6201/20000, Tr Loss: 0.3143, Tr Acc: 100.0000, Val Loss: 0.5482, Val Acc: 76.1905\n",
      "Epoch 6251/20000, Tr Loss: 0.3150, Tr Acc: 100.0000, Val Loss: 0.5989, Val Acc: 71.4286\n",
      "Epoch 6301/20000, Tr Loss: 0.3169, Tr Acc: 100.0000, Val Loss: 0.5830, Val Acc: 71.4286\n",
      "Epoch 6351/20000, Tr Loss: 0.3140, Tr Acc: 100.0000, Val Loss: 0.6683, Val Acc: 66.6667\n",
      "Epoch 6401/20000, Tr Loss: 0.3138, Tr Acc: 100.0000, Val Loss: 0.6788, Val Acc: 57.1429\n",
      "Epoch 6451/20000, Tr Loss: 0.3148, Tr Acc: 100.0000, Val Loss: 0.6942, Val Acc: 61.9048\n",
      "Epoch 6501/20000, Tr Loss: 0.3507, Tr Acc: 97.9167, Val Loss: 0.5610, Val Acc: 71.4286\n",
      "Epoch 6551/20000, Tr Loss: 0.3156, Tr Acc: 100.0000, Val Loss: 0.4572, Val Acc: 85.7143\n",
      "Epoch 6601/20000, Tr Loss: 0.3145, Tr Acc: 100.0000, Val Loss: 0.6466, Val Acc: 66.6667\n",
      "Epoch 6651/20000, Tr Loss: 0.3149, Tr Acc: 100.0000, Val Loss: 0.5486, Val Acc: 76.1905\n",
      "Epoch 6701/20000, Tr Loss: 0.3139, Tr Acc: 100.0000, Val Loss: 0.7315, Val Acc: 57.1429\n",
      "Epoch 6751/20000, Tr Loss: 0.3137, Tr Acc: 100.0000, Val Loss: 0.6931, Val Acc: 61.9048\n",
      "Epoch 6801/20000, Tr Loss: 0.3149, Tr Acc: 100.0000, Val Loss: 0.6671, Val Acc: 61.9048\n",
      "Epoch 6851/20000, Tr Loss: 0.3165, Tr Acc: 100.0000, Val Loss: 0.6942, Val Acc: 61.9048\n",
      "Epoch 6901/20000, Tr Loss: 0.3148, Tr Acc: 100.0000, Val Loss: 0.6942, Val Acc: 61.9048\n",
      "Epoch 6951/20000, Tr Loss: 0.3144, Tr Acc: 100.0000, Val Loss: 0.7489, Val Acc: 57.1429\n",
      "Epoch 7001/20000, Tr Loss: 0.3140, Tr Acc: 100.0000, Val Loss: 0.5020, Val Acc: 76.1905\n",
      "Epoch 7051/20000, Tr Loss: 0.3146, Tr Acc: 100.0000, Val Loss: 0.8095, Val Acc: 47.6190\n",
      "Epoch 7101/20000, Tr Loss: 0.3140, Tr Acc: 100.0000, Val Loss: 0.6268, Val Acc: 66.6667\n",
      "Epoch 7151/20000, Tr Loss: 0.3139, Tr Acc: 100.0000, Val Loss: 0.6942, Val Acc: 61.9048\n",
      "Epoch 7201/20000, Tr Loss: 0.3276, Tr Acc: 100.0000, Val Loss: 0.6389, Val Acc: 66.6667\n",
      "Epoch 7251/20000, Tr Loss: 0.3138, Tr Acc: 100.0000, Val Loss: 0.6942, Val Acc: 61.9048\n",
      "Epoch 7301/20000, Tr Loss: 0.3155, Tr Acc: 100.0000, Val Loss: 0.4846, Val Acc: 80.9524\n",
      "Epoch 7351/20000, Tr Loss: 0.3139, Tr Acc: 100.0000, Val Loss: 0.6942, Val Acc: 61.9048\n",
      "Epoch 7401/20000, Tr Loss: 0.3137, Tr Acc: 100.0000, Val Loss: 0.6147, Val Acc: 66.6667\n",
      "Epoch 7451/20000, Tr Loss: 0.3138, Tr Acc: 100.0000, Val Loss: 0.5151, Val Acc: 80.9524\n",
      "Epoch 7501/20000, Tr Loss: 0.3136, Tr Acc: 100.0000, Val Loss: 0.5373, Val Acc: 80.9524\n",
      "Epoch 7551/20000, Tr Loss: 0.3207, Tr Acc: 100.0000, Val Loss: 0.6514, Val Acc: 61.9048\n",
      "Epoch 7601/20000, Tr Loss: 0.3136, Tr Acc: 100.0000, Val Loss: 0.6365, Val Acc: 66.6667\n",
      "Epoch 7651/20000, Tr Loss: 0.3146, Tr Acc: 100.0000, Val Loss: 0.6942, Val Acc: 61.9048\n",
      "Epoch 7701/20000, Tr Loss: 0.3189, Tr Acc: 100.0000, Val Loss: 0.6398, Val Acc: 66.6667\n",
      "Epoch 7751/20000, Tr Loss: 0.3141, Tr Acc: 100.0000, Val Loss: 0.7045, Val Acc: 57.1429\n",
      "Epoch 7801/20000, Tr Loss: 0.3153, Tr Acc: 100.0000, Val Loss: 0.6942, Val Acc: 61.9048\n",
      "Epoch 7851/20000, Tr Loss: 0.3140, Tr Acc: 100.0000, Val Loss: 0.4806, Val Acc: 80.9524\n",
      "Epoch 7901/20000, Tr Loss: 0.3136, Tr Acc: 100.0000, Val Loss: 0.6666, Val Acc: 61.9048\n",
      "Epoch 7951/20000, Tr Loss: 0.3176, Tr Acc: 100.0000, Val Loss: 0.6868, Val Acc: 61.9048\n",
      "Epoch 8001/20000, Tr Loss: 0.3148, Tr Acc: 100.0000, Val Loss: 0.6845, Val Acc: 61.9048\n",
      "Epoch 8051/20000, Tr Loss: 0.3137, Tr Acc: 100.0000, Val Loss: 0.8210, Val Acc: 47.6190\n",
      "Epoch 8101/20000, Tr Loss: 0.3135, Tr Acc: 100.0000, Val Loss: 0.6680, Val Acc: 61.9048\n",
      "Epoch 8151/20000, Tr Loss: 0.3137, Tr Acc: 100.0000, Val Loss: 0.6244, Val Acc: 71.4286\n",
      "Epoch 8201/20000, Tr Loss: 0.3139, Tr Acc: 100.0000, Val Loss: 0.6313, Val Acc: 66.6667\n",
      "Epoch 8251/20000, Tr Loss: 0.3140, Tr Acc: 100.0000, Val Loss: 0.6949, Val Acc: 61.9048\n",
      "Epoch 8301/20000, Tr Loss: 0.3136, Tr Acc: 100.0000, Val Loss: 0.6303, Val Acc: 66.6667\n",
      "Epoch 8351/20000, Tr Loss: 0.3137, Tr Acc: 100.0000, Val Loss: 0.6942, Val Acc: 61.9048\n",
      "Epoch 8401/20000, Tr Loss: 0.3137, Tr Acc: 100.0000, Val Loss: 0.7623, Val Acc: 57.1429\n",
      "Epoch 8451/20000, Tr Loss: 0.3332, Tr Acc: 97.9167, Val Loss: 0.6278, Val Acc: 66.6667\n",
      "Epoch 8501/20000, Tr Loss: 0.3151, Tr Acc: 100.0000, Val Loss: 0.6396, Val Acc: 66.6667\n",
      "Epoch 8551/20000, Tr Loss: 0.3136, Tr Acc: 100.0000, Val Loss: 0.5553, Val Acc: 76.1905\n",
      "Epoch 8601/20000, Tr Loss: 0.3137, Tr Acc: 100.0000, Val Loss: 0.6851, Val Acc: 61.9048\n",
      "Epoch 8651/20000, Tr Loss: 0.3136, Tr Acc: 100.0000, Val Loss: 0.6329, Val Acc: 66.6667\n",
      "Epoch 8701/20000, Tr Loss: 0.3157, Tr Acc: 100.0000, Val Loss: 0.6240, Val Acc: 66.6667\n",
      "Epoch 8751/20000, Tr Loss: 0.3135, Tr Acc: 100.0000, Val Loss: 0.5722, Val Acc: 71.4286\n",
      "Epoch 8801/20000, Tr Loss: 0.3175, Tr Acc: 100.0000, Val Loss: 0.6073, Val Acc: 66.6667\n",
      "Epoch 8851/20000, Tr Loss: 0.3334, Tr Acc: 97.9167, Val Loss: 0.6919, Val Acc: 61.9048\n",
      "Epoch 8901/20000, Tr Loss: 0.3150, Tr Acc: 100.0000, Val Loss: 0.6488, Val Acc: 66.6667\n",
      "Epoch 8951/20000, Tr Loss: 0.3139, Tr Acc: 100.0000, Val Loss: 0.6321, Val Acc: 66.6667\n",
      "Epoch 9001/20000, Tr Loss: 0.3137, Tr Acc: 100.0000, Val Loss: 0.5555, Val Acc: 76.1905\n",
      "Epoch 9051/20000, Tr Loss: 0.3136, Tr Acc: 100.0000, Val Loss: 0.6680, Val Acc: 61.9048\n",
      "Epoch 9101/20000, Tr Loss: 0.3516, Tr Acc: 97.9167, Val Loss: 0.5913, Val Acc: 71.4286\n",
      "Epoch 9151/20000, Tr Loss: 0.3135, Tr Acc: 100.0000, Val Loss: 0.7449, Val Acc: 57.1429\n",
      "Epoch 9201/20000, Tr Loss: 0.3142, Tr Acc: 100.0000, Val Loss: 0.6942, Val Acc: 61.9048\n",
      "Epoch 9251/20000, Tr Loss: 0.3135, Tr Acc: 100.0000, Val Loss: 0.6942, Val Acc: 61.9048\n",
      "Epoch 9301/20000, Tr Loss: 0.3150, Tr Acc: 100.0000, Val Loss: 0.5482, Val Acc: 76.1905\n",
      "Epoch 9351/20000, Tr Loss: 0.3135, Tr Acc: 100.0000, Val Loss: 0.5780, Val Acc: 71.4286\n",
      "Epoch 9401/20000, Tr Loss: 0.3135, Tr Acc: 100.0000, Val Loss: 0.6098, Val Acc: 71.4286\n",
      "Epoch 9451/20000, Tr Loss: 0.3135, Tr Acc: 100.0000, Val Loss: 0.6929, Val Acc: 61.9048\n",
      "Epoch 9501/20000, Tr Loss: 0.3135, Tr Acc: 100.0000, Val Loss: 0.6085, Val Acc: 71.4286\n",
      "Epoch 9551/20000, Tr Loss: 0.3143, Tr Acc: 100.0000, Val Loss: 0.5605, Val Acc: 76.1905\n",
      "Epoch 9601/20000, Tr Loss: 0.3136, Tr Acc: 100.0000, Val Loss: 0.8381, Val Acc: 47.6190\n",
      "Epoch 9651/20000, Tr Loss: 0.3135, Tr Acc: 100.0000, Val Loss: 0.7410, Val Acc: 52.3810\n",
      "Epoch 9701/20000, Tr Loss: 0.3830, Tr Acc: 95.8333, Val Loss: 0.6985, Val Acc: 61.9048\n",
      "Epoch 9751/20000, Tr Loss: 0.3147, Tr Acc: 100.0000, Val Loss: 0.6944, Val Acc: 61.9048\n",
      "Epoch 9801/20000, Tr Loss: 0.3135, Tr Acc: 100.0000, Val Loss: 0.7030, Val Acc: 61.9048\n",
      "Epoch 9851/20000, Tr Loss: 0.3135, Tr Acc: 100.0000, Val Loss: 0.5545, Val Acc: 76.1905\n",
      "Epoch 9901/20000, Tr Loss: 0.3155, Tr Acc: 100.0000, Val Loss: 0.6942, Val Acc: 61.9048\n",
      "Epoch 9951/20000, Tr Loss: 0.3138, Tr Acc: 100.0000, Val Loss: 0.6607, Val Acc: 61.9048\n",
      "Epoch 10001/20000, Tr Loss: 0.3147, Tr Acc: 100.0000, Val Loss: 0.6731, Val Acc: 61.9048\n",
      "Epoch 10051/20000, Tr Loss: 0.3142, Tr Acc: 100.0000, Val Loss: 0.6416, Val Acc: 61.9048\n",
      "Epoch 10101/20000, Tr Loss: 0.3135, Tr Acc: 100.0000, Val Loss: 0.7262, Val Acc: 57.1429\n",
      "Epoch 10151/20000, Tr Loss: 0.3135, Tr Acc: 100.0000, Val Loss: 0.6026, Val Acc: 71.4286\n",
      "Epoch 10201/20000, Tr Loss: 0.3135, Tr Acc: 100.0000, Val Loss: 0.6942, Val Acc: 61.9048\n",
      "Epoch 10251/20000, Tr Loss: 0.3135, Tr Acc: 100.0000, Val Loss: 0.6444, Val Acc: 61.9048\n",
      "Epoch 10301/20000, Tr Loss: 0.3150, Tr Acc: 100.0000, Val Loss: 0.6096, Val Acc: 71.4286\n",
      "Epoch 10351/20000, Tr Loss: 0.3135, Tr Acc: 100.0000, Val Loss: 0.7461, Val Acc: 52.3810\n",
      "Epoch 10401/20000, Tr Loss: 0.3152, Tr Acc: 100.0000, Val Loss: 0.6299, Val Acc: 66.6667\n",
      "Epoch 10451/20000, Tr Loss: 0.3208, Tr Acc: 100.0000, Val Loss: 0.6473, Val Acc: 66.6667\n",
      "Epoch 10501/20000, Tr Loss: 0.3139, Tr Acc: 100.0000, Val Loss: 0.6190, Val Acc: 71.4286\n",
      "Epoch 10551/20000, Tr Loss: 0.3135, Tr Acc: 100.0000, Val Loss: 0.5391, Val Acc: 76.1905\n",
      "Epoch 10601/20000, Tr Loss: 0.3134, Tr Acc: 100.0000, Val Loss: 0.6967, Val Acc: 61.9048\n",
      "Epoch 10651/20000, Tr Loss: 0.3141, Tr Acc: 100.0000, Val Loss: 0.7032, Val Acc: 57.1429\n",
      "Epoch 10701/20000, Tr Loss: 0.3134, Tr Acc: 100.0000, Val Loss: 0.8835, Val Acc: 42.8571\n",
      "Epoch 10751/20000, Tr Loss: 0.3134, Tr Acc: 100.0000, Val Loss: 0.5261, Val Acc: 71.4286\n",
      "Epoch 10801/20000, Tr Loss: 0.3134, Tr Acc: 100.0000, Val Loss: 0.7895, Val Acc: 52.3810\n",
      "Epoch 10851/20000, Tr Loss: 0.3138, Tr Acc: 100.0000, Val Loss: 0.6462, Val Acc: 66.6667\n",
      "Epoch 10901/20000, Tr Loss: 0.3135, Tr Acc: 100.0000, Val Loss: 0.6770, Val Acc: 66.6667\n",
      "Epoch 10951/20000, Tr Loss: 0.3226, Tr Acc: 100.0000, Val Loss: 0.5794, Val Acc: 71.4286\n",
      "Epoch 11001/20000, Tr Loss: 0.3134, Tr Acc: 100.0000, Val Loss: 0.6396, Val Acc: 66.6667\n",
      "Epoch 11051/20000, Tr Loss: 0.3134, Tr Acc: 100.0000, Val Loss: 0.6941, Val Acc: 61.9048\n",
      "Epoch 11101/20000, Tr Loss: 0.3134, Tr Acc: 100.0000, Val Loss: 0.7291, Val Acc: 57.1429\n",
      "Epoch 11151/20000, Tr Loss: 0.3307, Tr Acc: 97.9167, Val Loss: 0.6127, Val Acc: 71.4286\n",
      "Epoch 11201/20000, Tr Loss: 0.3134, Tr Acc: 100.0000, Val Loss: 0.6688, Val Acc: 66.6667\n",
      "Epoch 11251/20000, Tr Loss: 0.3134, Tr Acc: 100.0000, Val Loss: 0.5963, Val Acc: 71.4286\n",
      "Epoch 11301/20000, Tr Loss: 0.3139, Tr Acc: 100.0000, Val Loss: 0.5854, Val Acc: 71.4286\n",
      "Epoch 11351/20000, Tr Loss: 0.3138, Tr Acc: 100.0000, Val Loss: 0.5783, Val Acc: 76.1905\n",
      "Epoch 11401/20000, Tr Loss: 0.3149, Tr Acc: 100.0000, Val Loss: 0.6989, Val Acc: 61.9048\n",
      "Epoch 11451/20000, Tr Loss: 0.3135, Tr Acc: 100.0000, Val Loss: 0.6059, Val Acc: 71.4286\n",
      "Epoch 11501/20000, Tr Loss: 0.3138, Tr Acc: 100.0000, Val Loss: 0.6203, Val Acc: 71.4286\n",
      "Epoch 11551/20000, Tr Loss: 0.3134, Tr Acc: 100.0000, Val Loss: 0.6306, Val Acc: 66.6667\n",
      "Epoch 11601/20000, Tr Loss: 0.3134, Tr Acc: 100.0000, Val Loss: 0.6034, Val Acc: 71.4286\n",
      "Epoch 11651/20000, Tr Loss: 0.3145, Tr Acc: 100.0000, Val Loss: 0.6540, Val Acc: 66.6667\n",
      "Epoch 11701/20000, Tr Loss: 0.3748, Tr Acc: 95.8333, Val Loss: 0.7747, Val Acc: 52.3810\n",
      "Epoch 11751/20000, Tr Loss: 0.3141, Tr Acc: 100.0000, Val Loss: 0.5350, Val Acc: 76.1905\n",
      "Epoch 11801/20000, Tr Loss: 0.3134, Tr Acc: 100.0000, Val Loss: 0.5553, Val Acc: 76.1905\n",
      "Epoch 11851/20000, Tr Loss: 0.3135, Tr Acc: 100.0000, Val Loss: 0.6515, Val Acc: 61.9048\n",
      "Epoch 11901/20000, Tr Loss: 0.3134, Tr Acc: 100.0000, Val Loss: 0.6803, Val Acc: 61.9048\n",
      "Epoch 11951/20000, Tr Loss: 0.3137, Tr Acc: 100.0000, Val Loss: 0.6878, Val Acc: 61.9048\n",
      "Epoch 12001/20000, Tr Loss: 0.3256, Tr Acc: 100.0000, Val Loss: 0.6466, Val Acc: 66.6667\n",
      "Epoch 12051/20000, Tr Loss: 0.3134, Tr Acc: 100.0000, Val Loss: 0.6853, Val Acc: 61.9048\n",
      "Epoch 12101/20000, Tr Loss: 0.3138, Tr Acc: 100.0000, Val Loss: 0.7014, Val Acc: 61.9048\n",
      "Epoch 12151/20000, Tr Loss: 0.3134, Tr Acc: 100.0000, Val Loss: 0.7118, Val Acc: 57.1429\n",
      "Epoch 12201/20000, Tr Loss: 0.3139, Tr Acc: 100.0000, Val Loss: 0.6692, Val Acc: 66.6667\n",
      "Epoch 12251/20000, Tr Loss: 0.3134, Tr Acc: 100.0000, Val Loss: 0.5006, Val Acc: 85.7143\n",
      "Epoch 12301/20000, Tr Loss: 0.3134, Tr Acc: 100.0000, Val Loss: 0.6961, Val Acc: 61.9048\n",
      "Epoch 12351/20000, Tr Loss: 0.3135, Tr Acc: 100.0000, Val Loss: 0.6631, Val Acc: 66.6667\n",
      "Epoch 12401/20000, Tr Loss: 0.3136, Tr Acc: 100.0000, Val Loss: 0.9103, Val Acc: 38.0952\n",
      "Epoch 12451/20000, Tr Loss: 0.3134, Tr Acc: 100.0000, Val Loss: 0.6994, Val Acc: 57.1429\n",
      "Epoch 12501/20000, Tr Loss: 0.3134, Tr Acc: 100.0000, Val Loss: 0.7418, Val Acc: 57.1429\n",
      "Epoch 12551/20000, Tr Loss: 0.3134, Tr Acc: 100.0000, Val Loss: 0.6479, Val Acc: 66.6667\n",
      "Epoch 12601/20000, Tr Loss: 0.3136, Tr Acc: 100.0000, Val Loss: 0.8850, Val Acc: 42.8571\n",
      "Epoch 12651/20000, Tr Loss: 0.3135, Tr Acc: 100.0000, Val Loss: 0.8186, Val Acc: 47.6190\n",
      "Epoch 12701/20000, Tr Loss: 0.3134, Tr Acc: 100.0000, Val Loss: 0.9009, Val Acc: 42.8571\n",
      "Epoch 12751/20000, Tr Loss: 0.3136, Tr Acc: 100.0000, Val Loss: 0.8176, Val Acc: 52.3810\n",
      "Epoch 12801/20000, Tr Loss: 0.3134, Tr Acc: 100.0000, Val Loss: 0.7917, Val Acc: 52.3810\n",
      "Epoch 12851/20000, Tr Loss: 0.3134, Tr Acc: 100.0000, Val Loss: 0.7084, Val Acc: 61.9048\n",
      "Epoch 12901/20000, Tr Loss: 0.3134, Tr Acc: 100.0000, Val Loss: 0.7146, Val Acc: 57.1429\n",
      "Epoch 12951/20000, Tr Loss: 0.3137, Tr Acc: 100.0000, Val Loss: 0.7504, Val Acc: 57.1429\n",
      "Epoch 13001/20000, Tr Loss: 0.3134, Tr Acc: 100.0000, Val Loss: 0.6942, Val Acc: 61.9048\n",
      "Epoch 13051/20000, Tr Loss: 0.3134, Tr Acc: 100.0000, Val Loss: 0.8414, Val Acc: 47.6190\n",
      "Epoch 13101/20000, Tr Loss: 0.3134, Tr Acc: 100.0000, Val Loss: 0.7328, Val Acc: 57.1429\n",
      "Epoch 13151/20000, Tr Loss: 0.3136, Tr Acc: 100.0000, Val Loss: 0.7661, Val Acc: 57.1429\n",
      "Epoch 13201/20000, Tr Loss: 0.3146, Tr Acc: 100.0000, Val Loss: 0.8732, Val Acc: 42.8571\n",
      "Epoch 13251/20000, Tr Loss: 0.3134, Tr Acc: 100.0000, Val Loss: 0.7699, Val Acc: 57.1429\n",
      "Epoch 13301/20000, Tr Loss: 0.3144, Tr Acc: 100.0000, Val Loss: 0.6419, Val Acc: 66.6667\n",
      "Epoch 13351/20000, Tr Loss: 0.3133, Tr Acc: 100.0000, Val Loss: 0.7444, Val Acc: 61.9048\n",
      "Epoch 13401/20000, Tr Loss: 0.3134, Tr Acc: 100.0000, Val Loss: 0.7191, Val Acc: 57.1429\n",
      "Epoch 13451/20000, Tr Loss: 0.3134, Tr Acc: 100.0000, Val Loss: 0.7341, Val Acc: 57.1429\n",
      "Epoch 13501/20000, Tr Loss: 0.3134, Tr Acc: 100.0000, Val Loss: 0.7185, Val Acc: 57.1429\n",
      "Epoch 13551/20000, Tr Loss: 0.3133, Tr Acc: 100.0000, Val Loss: 0.8565, Val Acc: 42.8571\n",
      "Epoch 13601/20000, Tr Loss: 0.3134, Tr Acc: 100.0000, Val Loss: 0.6942, Val Acc: 61.9048\n",
      "Epoch 13651/20000, Tr Loss: 0.3134, Tr Acc: 100.0000, Val Loss: 0.6933, Val Acc: 61.9048\n",
      "Epoch 13701/20000, Tr Loss: 0.3133, Tr Acc: 100.0000, Val Loss: 0.6744, Val Acc: 61.9048\n",
      "Epoch 13751/20000, Tr Loss: 0.3134, Tr Acc: 100.0000, Val Loss: 0.6025, Val Acc: 66.6667\n",
      "Epoch 13801/20000, Tr Loss: 0.3378, Tr Acc: 97.9167, Val Loss: 0.7444, Val Acc: 57.1429\n",
      "Epoch 13851/20000, Tr Loss: 0.3134, Tr Acc: 100.0000, Val Loss: 0.5586, Val Acc: 76.1905\n",
      "Epoch 13901/20000, Tr Loss: 0.3133, Tr Acc: 100.0000, Val Loss: 0.6474, Val Acc: 66.6667\n",
      "Epoch 13951/20000, Tr Loss: 0.3134, Tr Acc: 100.0000, Val Loss: 0.7055, Val Acc: 61.9048\n",
      "Epoch 14001/20000, Tr Loss: 0.3134, Tr Acc: 100.0000, Val Loss: 0.6933, Val Acc: 61.9048\n",
      "Epoch 14051/20000, Tr Loss: 0.3134, Tr Acc: 100.0000, Val Loss: 0.7211, Val Acc: 57.1429\n",
      "Epoch 14101/20000, Tr Loss: 0.3134, Tr Acc: 100.0000, Val Loss: 0.6997, Val Acc: 61.9048\n",
      "Epoch 14151/20000, Tr Loss: 0.3133, Tr Acc: 100.0000, Val Loss: 0.7275, Val Acc: 57.1429\n",
      "Epoch 14201/20000, Tr Loss: 0.3134, Tr Acc: 100.0000, Val Loss: 0.7331, Val Acc: 57.1429\n",
      "Epoch 14251/20000, Tr Loss: 0.3134, Tr Acc: 100.0000, Val Loss: 0.7351, Val Acc: 57.1429\n",
      "Epoch 14301/20000, Tr Loss: 0.3134, Tr Acc: 100.0000, Val Loss: 0.7414, Val Acc: 52.3810\n",
      "Epoch 14351/20000, Tr Loss: 0.3133, Tr Acc: 100.0000, Val Loss: 0.6359, Val Acc: 66.6667\n",
      "Epoch 14401/20000, Tr Loss: 0.3135, Tr Acc: 100.0000, Val Loss: 0.5990, Val Acc: 71.4286\n",
      "Epoch 14451/20000, Tr Loss: 0.3133, Tr Acc: 100.0000, Val Loss: 0.7334, Val Acc: 57.1429\n",
      "Epoch 14501/20000, Tr Loss: 0.3135, Tr Acc: 100.0000, Val Loss: 0.6897, Val Acc: 61.9048\n",
      "Epoch 14551/20000, Tr Loss: 0.3134, Tr Acc: 100.0000, Val Loss: 0.5399, Val Acc: 76.1905\n",
      "Epoch 14601/20000, Tr Loss: 0.3134, Tr Acc: 100.0000, Val Loss: 0.8461, Val Acc: 42.8571\n",
      "Epoch 14651/20000, Tr Loss: 0.3135, Tr Acc: 100.0000, Val Loss: 0.8064, Val Acc: 47.6190\n",
      "Epoch 14701/20000, Tr Loss: 0.3154, Tr Acc: 100.0000, Val Loss: 0.6517, Val Acc: 66.6667\n",
      "Epoch 14751/20000, Tr Loss: 0.3136, Tr Acc: 100.0000, Val Loss: 0.6875, Val Acc: 61.9048\n",
      "Epoch 14801/20000, Tr Loss: 0.3139, Tr Acc: 100.0000, Val Loss: 0.7402, Val Acc: 57.1429\n",
      "Epoch 14851/20000, Tr Loss: 0.3133, Tr Acc: 100.0000, Val Loss: 0.5857, Val Acc: 71.4286\n",
      "Epoch 14901/20000, Tr Loss: 0.3140, Tr Acc: 100.0000, Val Loss: 0.6872, Val Acc: 57.1429\n",
      "Epoch 14951/20000, Tr Loss: 0.3133, Tr Acc: 100.0000, Val Loss: 0.5796, Val Acc: 71.4286\n",
      "Epoch 15001/20000, Tr Loss: 0.3133, Tr Acc: 100.0000, Val Loss: 0.6942, Val Acc: 61.9048\n",
      "Epoch 15051/20000, Tr Loss: 0.3505, Tr Acc: 97.9167, Val Loss: 0.6251, Val Acc: 66.6667\n",
      "Epoch 15101/20000, Tr Loss: 0.3133, Tr Acc: 100.0000, Val Loss: 0.5879, Val Acc: 66.6667\n",
      "Epoch 15151/20000, Tr Loss: 0.3133, Tr Acc: 100.0000, Val Loss: 0.6997, Val Acc: 61.9048\n",
      "Epoch 15201/20000, Tr Loss: 0.3134, Tr Acc: 100.0000, Val Loss: 0.6636, Val Acc: 66.6667\n",
      "Epoch 15251/20000, Tr Loss: 0.3133, Tr Acc: 100.0000, Val Loss: 0.5163, Val Acc: 80.9524\n",
      "Epoch 15301/20000, Tr Loss: 0.3133, Tr Acc: 100.0000, Val Loss: 0.6959, Val Acc: 61.9048\n",
      "Epoch 15351/20000, Tr Loss: 0.3134, Tr Acc: 100.0000, Val Loss: 0.5990, Val Acc: 71.4286\n",
      "Epoch 15401/20000, Tr Loss: 0.3136, Tr Acc: 100.0000, Val Loss: 0.5175, Val Acc: 80.9524\n",
      "Epoch 15451/20000, Tr Loss: 0.3869, Tr Acc: 93.7500, Val Loss: 0.5187, Val Acc: 80.9524\n",
      "Epoch 15501/20000, Tr Loss: 0.3137, Tr Acc: 100.0000, Val Loss: 0.4870, Val Acc: 80.9524\n",
      "Epoch 15551/20000, Tr Loss: 0.3134, Tr Acc: 100.0000, Val Loss: 0.5058, Val Acc: 71.4286\n",
      "Epoch 15601/20000, Tr Loss: 0.3133, Tr Acc: 100.0000, Val Loss: 0.5628, Val Acc: 76.1905\n",
      "Epoch 15651/20000, Tr Loss: 0.3134, Tr Acc: 100.0000, Val Loss: 0.7440, Val Acc: 57.1429\n",
      "Epoch 15701/20000, Tr Loss: 0.3134, Tr Acc: 100.0000, Val Loss: 0.7216, Val Acc: 57.1429\n",
      "Epoch 15751/20000, Tr Loss: 0.3133, Tr Acc: 100.0000, Val Loss: 0.8361, Val Acc: 47.6190\n",
      "Epoch 15801/20000, Tr Loss: 0.3142, Tr Acc: 100.0000, Val Loss: 0.5708, Val Acc: 76.1905\n",
      "Epoch 15851/20000, Tr Loss: 0.3139, Tr Acc: 100.0000, Val Loss: 0.4852, Val Acc: 80.9524\n",
      "Epoch 15901/20000, Tr Loss: 0.3133, Tr Acc: 100.0000, Val Loss: 0.7372, Val Acc: 57.1429\n",
      "Epoch 15951/20000, Tr Loss: 0.3149, Tr Acc: 100.0000, Val Loss: 0.6942, Val Acc: 61.9048\n",
      "Epoch 16001/20000, Tr Loss: 0.3135, Tr Acc: 100.0000, Val Loss: 0.6855, Val Acc: 61.9048\n",
      "Epoch 16051/20000, Tr Loss: 0.3134, Tr Acc: 100.0000, Val Loss: 0.7523, Val Acc: 57.1429\n",
      "Epoch 16101/20000, Tr Loss: 0.3133, Tr Acc: 100.0000, Val Loss: 0.8064, Val Acc: 47.6190\n",
      "Epoch 16151/20000, Tr Loss: 0.3133, Tr Acc: 100.0000, Val Loss: 0.6755, Val Acc: 57.1429\n",
      "Epoch 16201/20000, Tr Loss: 0.3133, Tr Acc: 100.0000, Val Loss: 0.7516, Val Acc: 47.6190\n",
      "Epoch 16251/20000, Tr Loss: 0.3135, Tr Acc: 100.0000, Val Loss: 0.7462, Val Acc: 52.3810\n",
      "Epoch 16301/20000, Tr Loss: 0.3136, Tr Acc: 100.0000, Val Loss: 0.7605, Val Acc: 52.3810\n",
      "Epoch 16351/20000, Tr Loss: 0.3133, Tr Acc: 100.0000, Val Loss: 0.7045, Val Acc: 61.9048\n",
      "Epoch 16401/20000, Tr Loss: 0.3133, Tr Acc: 100.0000, Val Loss: 0.7029, Val Acc: 61.9048\n",
      "Epoch 16451/20000, Tr Loss: 0.3146, Tr Acc: 100.0000, Val Loss: 0.8246, Val Acc: 47.6190\n",
      "Epoch 16501/20000, Tr Loss: 0.3134, Tr Acc: 100.0000, Val Loss: 0.8283, Val Acc: 47.6190\n",
      "Epoch 16551/20000, Tr Loss: 0.3134, Tr Acc: 100.0000, Val Loss: 0.7394, Val Acc: 57.1429\n",
      "Epoch 16601/20000, Tr Loss: 0.3134, Tr Acc: 100.0000, Val Loss: 0.6781, Val Acc: 61.9048\n",
      "Epoch 16651/20000, Tr Loss: 0.3133, Tr Acc: 100.0000, Val Loss: 0.6954, Val Acc: 61.9048\n",
      "Epoch 16701/20000, Tr Loss: 0.3162, Tr Acc: 100.0000, Val Loss: 0.6864, Val Acc: 61.9048\n",
      "Epoch 16751/20000, Tr Loss: 0.3146, Tr Acc: 100.0000, Val Loss: 0.6962, Val Acc: 61.9048\n",
      "Epoch 16801/20000, Tr Loss: 0.3133, Tr Acc: 100.0000, Val Loss: 0.6623, Val Acc: 61.9048\n",
      "Epoch 17201/20000, Tr Loss: 0.3133, Tr Acc: 100.0000, Val Loss: 0.7413, Val Acc: 57.1429\n",
      "Epoch 17251/20000, Tr Loss: 0.3133, Tr Acc: 100.0000, Val Loss: 0.8160, Val Acc: 47.6190\n",
      "Epoch 17301/20000, Tr Loss: 0.3137, Tr Acc: 100.0000, Val Loss: 0.7857, Val Acc: 52.3810\n",
      "Epoch 17351/20000, Tr Loss: 0.3134, Tr Acc: 100.0000, Val Loss: 0.7844, Val Acc: 52.3810\n",
      "Epoch 17401/20000, Tr Loss: 0.3133, Tr Acc: 100.0000, Val Loss: 0.6325, Val Acc: 66.6667\n",
      "Epoch 17451/20000, Tr Loss: 0.3439, Tr Acc: 97.9167, Val Loss: 0.7556, Val Acc: 47.6190\n",
      "Epoch 17501/20000, Tr Loss: 0.3134, Tr Acc: 100.0000, Val Loss: 0.7894, Val Acc: 52.3810\n",
      "Epoch 17551/20000, Tr Loss: 0.3133, Tr Acc: 100.0000, Val Loss: 0.6253, Val Acc: 71.4286\n",
      "Epoch 17601/20000, Tr Loss: 0.3133, Tr Acc: 100.0000, Val Loss: 0.6496, Val Acc: 66.6667\n",
      "Epoch 17651/20000, Tr Loss: 0.3133, Tr Acc: 100.0000, Val Loss: 0.7751, Val Acc: 52.3810\n",
      "Epoch 17701/20000, Tr Loss: 0.3133, Tr Acc: 100.0000, Val Loss: 0.7701, Val Acc: 52.3810\n",
      "Epoch 17751/20000, Tr Loss: 0.3133, Tr Acc: 100.0000, Val Loss: 0.7195, Val Acc: 52.3810\n",
      "Epoch 17801/20000, Tr Loss: 0.3133, Tr Acc: 100.0000, Val Loss: 0.6405, Val Acc: 66.6667\n",
      "Epoch 17851/20000, Tr Loss: 0.3134, Tr Acc: 100.0000, Val Loss: 0.8489, Val Acc: 42.8571\n",
      "Epoch 17901/20000, Tr Loss: 0.3134, Tr Acc: 100.0000, Val Loss: 0.6105, Val Acc: 71.4286\n",
      "Epoch 17951/20000, Tr Loss: 0.3172, Tr Acc: 100.0000, Val Loss: 0.5820, Val Acc: 71.4286\n",
      "Epoch 18001/20000, Tr Loss: 0.3133, Tr Acc: 100.0000, Val Loss: 0.7418, Val Acc: 57.1429\n",
      "Epoch 18051/20000, Tr Loss: 0.3133, Tr Acc: 100.0000, Val Loss: 0.6339, Val Acc: 66.6667\n",
      "Epoch 18101/20000, Tr Loss: 0.3133, Tr Acc: 100.0000, Val Loss: 0.8342, Val Acc: 47.6190\n",
      "Epoch 18151/20000, Tr Loss: 0.3133, Tr Acc: 100.0000, Val Loss: 0.6475, Val Acc: 61.9048\n",
      "Epoch 18201/20000, Tr Loss: 0.3134, Tr Acc: 100.0000, Val Loss: 0.7691, Val Acc: 52.3810\n",
      "Epoch 18251/20000, Tr Loss: 0.3133, Tr Acc: 100.0000, Val Loss: 0.6333, Val Acc: 66.6667\n",
      "Epoch 18301/20000, Tr Loss: 0.3133, Tr Acc: 100.0000, Val Loss: 0.6789, Val Acc: 61.9048\n",
      "Epoch 18351/20000, Tr Loss: 0.3133, Tr Acc: 100.0000, Val Loss: 0.7079, Val Acc: 57.1429\n",
      "Epoch 18401/20000, Tr Loss: 0.3133, Tr Acc: 100.0000, Val Loss: 0.6642, Val Acc: 66.6667\n",
      "Epoch 18451/20000, Tr Loss: 0.3135, Tr Acc: 100.0000, Val Loss: 0.7821, Val Acc: 52.3810\n",
      "Epoch 18501/20000, Tr Loss: 0.3133, Tr Acc: 100.0000, Val Loss: 0.7113, Val Acc: 61.9048\n",
      "Epoch 18551/20000, Tr Loss: 0.3134, Tr Acc: 100.0000, Val Loss: 0.7236, Val Acc: 57.1429\n",
      "Epoch 18601/20000, Tr Loss: 0.3133, Tr Acc: 100.0000, Val Loss: 0.7051, Val Acc: 61.9048\n",
      "Epoch 18651/20000, Tr Loss: 0.3135, Tr Acc: 100.0000, Val Loss: 0.8104, Val Acc: 47.6190\n",
      "Epoch 18701/20000, Tr Loss: 0.3133, Tr Acc: 100.0000, Val Loss: 0.8926, Val Acc: 42.8571\n",
      "Epoch 18751/20000, Tr Loss: 0.3133, Tr Acc: 100.0000, Val Loss: 0.5992, Val Acc: 71.4286\n",
      "Epoch 18801/20000, Tr Loss: 0.3134, Tr Acc: 100.0000, Val Loss: 0.6954, Val Acc: 61.9048\n",
      "Epoch 18851/20000, Tr Loss: 0.3148, Tr Acc: 100.0000, Val Loss: 0.6941, Val Acc: 61.9048\n",
      "Epoch 18901/20000, Tr Loss: 0.3429, Tr Acc: 97.9167, Val Loss: 0.7116, Val Acc: 61.9048\n",
      "Epoch 18951/20000, Tr Loss: 0.3133, Tr Acc: 100.0000, Val Loss: 0.7034, Val Acc: 61.9048\n",
      "Epoch 19001/20000, Tr Loss: 0.3135, Tr Acc: 100.0000, Val Loss: 0.6775, Val Acc: 61.9048\n",
      "Epoch 19051/20000, Tr Loss: 0.3133, Tr Acc: 100.0000, Val Loss: 0.6941, Val Acc: 61.9048\n",
      "Epoch 19101/20000, Tr Loss: 0.3134, Tr Acc: 100.0000, Val Loss: 0.6554, Val Acc: 66.6667\n",
      "Epoch 19151/20000, Tr Loss: 0.3133, Tr Acc: 100.0000, Val Loss: 0.6286, Val Acc: 71.4286\n",
      "Epoch 19201/20000, Tr Loss: 0.3134, Tr Acc: 100.0000, Val Loss: 0.6631, Val Acc: 66.6667\n",
      "Epoch 19251/20000, Tr Loss: 0.3133, Tr Acc: 100.0000, Val Loss: 0.7367, Val Acc: 57.1429\n",
      "Epoch 19301/20000, Tr Loss: 0.3134, Tr Acc: 100.0000, Val Loss: 0.7039, Val Acc: 57.1429\n",
      "Epoch 19351/20000, Tr Loss: 0.3134, Tr Acc: 100.0000, Val Loss: 0.7524, Val Acc: 52.3810\n",
      "Epoch 19401/20000, Tr Loss: 0.3133, Tr Acc: 100.0000, Val Loss: 0.7964, Val Acc: 47.6190\n",
      "Epoch 19451/20000, Tr Loss: 0.3133, Tr Acc: 100.0000, Val Loss: 0.7182, Val Acc: 52.3810\n",
      "Epoch 19501/20000, Tr Loss: 0.3135, Tr Acc: 100.0000, Val Loss: 0.6838, Val Acc: 61.9048\n",
      "Epoch 19551/20000, Tr Loss: 0.3133, Tr Acc: 100.0000, Val Loss: 0.7116, Val Acc: 57.1429\n",
      "Epoch 19601/20000, Tr Loss: 0.3133, Tr Acc: 100.0000, Val Loss: 0.7488, Val Acc: 52.3810\n",
      "Epoch 19651/20000, Tr Loss: 0.3138, Tr Acc: 100.0000, Val Loss: 0.6543, Val Acc: 66.6667\n",
      "Epoch 19701/20000, Tr Loss: 0.3133, Tr Acc: 100.0000, Val Loss: 0.7087, Val Acc: 61.9048\n",
      "Epoch 19751/20000, Tr Loss: 0.3133, Tr Acc: 100.0000, Val Loss: 0.6942, Val Acc: 61.9048\n",
      "Epoch 19801/20000, Tr Loss: 0.3133, Tr Acc: 100.0000, Val Loss: 0.6895, Val Acc: 61.9048\n",
      "Epoch 19851/20000, Tr Loss: 0.3133, Tr Acc: 100.0000, Val Loss: 0.8236, Val Acc: 47.6190\n",
      "Epoch 19901/20000, Tr Loss: 0.3133, Tr Acc: 100.0000, Val Loss: 0.6913, Val Acc: 61.9048\n",
      "Epoch 19951/20000, Tr Loss: 0.3133, Tr Acc: 100.0000, Val Loss: 0.6846, Val Acc: 61.9048\n"
     ]
    }
   ],
   "source": [
    "net = gamenet().cuda(0)\n",
    "optimizer = optim.Adam(net.parameters(), lr=config.learning_rate)\n",
    "criterion = nn.CrossEntropyLoss()\n",
    "\n",
    "\n",
    "train_loss,valid_loss,train_accuracy,valid_accuracy =train(\n",
    "    model = net,\n",
    "    gpu_num = 0,\n",
    "    train_loader = train_loader,\n",
    "    test_loader = test_loader,\n",
    "    optimizer = optimizer  ,\n",
    "    criterion = criterion ,\n",
    "    wand = wand\n",
    "         )\n",
    "\n",
    "\n",
    "wandb.alert(\n",
    "            title='Finish',\n",
    "            text=f'Finishing training',\n",
    "        )"
   ]
  },
  {
   "cell_type": "code",
   "execution_count": null,
   "id": "72400789-60e3-41a1-9aa9-e7e58caa573d",
   "metadata": {},
   "outputs": [],
   "source": []
  }
 ],
 "metadata": {
  "kernelspec": {
   "display_name": "Python 3 (ipykernel)",
   "language": "python",
   "name": "python3"
  },
  "language_info": {
   "codemirror_mode": {
    "name": "ipython",
    "version": 3
   },
   "file_extension": ".py",
   "mimetype": "text/x-python",
   "name": "python",
   "nbconvert_exporter": "python",
   "pygments_lexer": "ipython3",
   "version": "3.8.10"
  }
 },
 "nbformat": 4,
 "nbformat_minor": 5
}
