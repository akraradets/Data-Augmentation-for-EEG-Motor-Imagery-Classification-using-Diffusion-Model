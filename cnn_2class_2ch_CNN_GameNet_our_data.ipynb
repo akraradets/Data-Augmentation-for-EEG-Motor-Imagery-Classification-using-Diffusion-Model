{
 "cells": [
  {
   "cell_type": "code",
   "execution_count": 1,
   "id": "361b73c4-742d-45c8-b907-565f103ec804",
   "metadata": {},
   "outputs": [],
   "source": [
    "import os\n",
    "#comment this if you are not using puffer?\n",
    "os.environ['http_proxy'] = 'http://192.41.170.23:3128'\n",
    "os.environ['https_proxy'] = 'http://192.41.170.23:3128'"
   ]
  },
  {
   "cell_type": "code",
   "execution_count": 5,
   "id": "9c98b0ee-e674-429f-a390-d664ef22eeb8",
   "metadata": {},
   "outputs": [],
   "source": [
    "import numpy as np\n",
    "import matplotlib.pyplot as plt\n",
    "import mne\n",
    "import os\n",
    "import sys\n",
    "from mne.datasets import eegbci\n",
    "import glob\n",
    "from IPython.display import clear_output\n",
    "import numpy as np\n",
    "import torch\n",
    "from torch import nn\n",
    "import torch.optim as optim\n",
    "\n",
    "from mne.datasets import eegbci\n",
    "from sklearn.model_selection import train_test_split\n",
    "from torch.utils.data import TensorDataset\n",
    "from torch.utils.data import DataLoader\n",
    "from scipy import signal\n",
    "\n",
    "import torch\n",
    "import torch.cuda as cuda\n",
    "import torch.nn as nn\n",
    "from torch.autograd import Variable\n",
    "import math\n"
   ]
  },
  {
   "cell_type": "code",
   "execution_count": 6,
   "id": "ac7f0904-0005-4184-93fc-3f0bd2cd815e",
   "metadata": {},
   "outputs": [
    {
     "data": {
      "text/plain": [
       "True"
      ]
     },
     "execution_count": 6,
     "metadata": {},
     "output_type": "execute_result"
    }
   ],
   "source": [
    "torch.cuda.is_available()"
   ]
  },
  {
   "cell_type": "code",
   "execution_count": 7,
   "id": "1b75684e-46b1-4b7a-9d2b-f77dddfd943b",
   "metadata": {},
   "outputs": [],
   "source": [
    "from common import EEG_fif\n",
    "from common import create_dataloader"
   ]
  },
  {
   "cell_type": "code",
   "execution_count": 8,
   "id": "9c66b031-4c3d-4b03-8c50-90c2d4e2573a",
   "metadata": {},
   "outputs": [
    {
     "name": "stdout",
     "output_type": "stream",
     "text": [
      "\n",
      "\n"
     ]
    },
    {
     "name": "stderr",
     "output_type": "stream",
     "text": [
      "/home/st122148/work/EEG-Motor-Imagery-Classification/common.py:466: RuntimeWarning: This filename (S004/S004R04.fif) does not conform to MNE naming conventions. All raw files should end with raw.fif, raw_sss.fif, raw_tsss.fif, _meg.fif, _eeg.fif, _ieeg.fif, raw.fif.gz, raw_sss.fif.gz, raw_tsss.fif.gz, _meg.fif.gz, _eeg.fif.gz or _ieeg.fif.gz\n",
      "  raw = mne.io.read_raw_fif( path_file , preload=True, verbose='WARNING' )\n",
      "/home/st122148/work/EEG-Motor-Imagery-Classification/common.py:466: RuntimeWarning: This filename (S004/S004R06.fif) does not conform to MNE naming conventions. All raw files should end with raw.fif, raw_sss.fif, raw_tsss.fif, _meg.fif, _eeg.fif, _ieeg.fif, raw.fif.gz, raw_sss.fif.gz, raw_tsss.fif.gz, _meg.fif.gz, _eeg.fif.gz or _ieeg.fif.gz\n",
      "  raw = mne.io.read_raw_fif( path_file , preload=True, verbose='WARNING' )\n",
      "/home/st122148/work/EEG-Motor-Imagery-Classification/common.py:466: RuntimeWarning: This filename (S004/S004R08.fif) does not conform to MNE naming conventions. All raw files should end with raw.fif, raw_sss.fif, raw_tsss.fif, _meg.fif, _eeg.fif, _ieeg.fif, raw.fif.gz, raw_sss.fif.gz, raw_tsss.fif.gz, _meg.fif.gz, _eeg.fif.gz or _ieeg.fif.gz\n",
      "  raw = mne.io.read_raw_fif( path_file , preload=True, verbose='WARNING' )\n",
      "/home/st122148/work/EEG-Motor-Imagery-Classification/common.py:466: RuntimeWarning: This filename (S004/S004R04.fif) does not conform to MNE naming conventions. All raw files should end with raw.fif, raw_sss.fif, raw_tsss.fif, _meg.fif, _eeg.fif, _ieeg.fif, raw.fif.gz, raw_sss.fif.gz, raw_tsss.fif.gz, _meg.fif.gz, _eeg.fif.gz or _ieeg.fif.gz\n",
      "  raw = mne.io.read_raw_fif( path_file , preload=True, verbose='WARNING' )\n",
      "/home/st122148/work/EEG-Motor-Imagery-Classification/common.py:466: RuntimeWarning: This filename (S004/S004R06.fif) does not conform to MNE naming conventions. All raw files should end with raw.fif, raw_sss.fif, raw_tsss.fif, _meg.fif, _eeg.fif, _ieeg.fif, raw.fif.gz, raw_sss.fif.gz, raw_tsss.fif.gz, _meg.fif.gz, _eeg.fif.gz or _ieeg.fif.gz\n",
      "  raw = mne.io.read_raw_fif( path_file , preload=True, verbose='WARNING' )\n"
     ]
    },
    {
     "name": "stdout",
     "output_type": "stream",
     "text": [
      "Raw done\n",
      ">>> Apply filter.\n",
      "Filtering raw data in 3 contiguous segments\n",
      "Setting up low-pass filter at 45 Hz\n",
      "\n",
      "FIR filter parameters\n",
      "---------------------\n",
      "Designing a one-pass, zero-phase, non-causal lowpass filter:\n",
      "- Windowed time-domain design (firwin) method\n",
      "- Hamming window with 0.0194 passband ripple and 53 dB stopband attenuation\n",
      "- Upper passband edge: 45.00 Hz\n",
      "- Upper transition bandwidth: 11.25 Hz (-6 dB cutoff frequency: 50.62 Hz)\n",
      "- Filter length: 75 samples (0.300 sec)\n",
      "\n",
      "Filter done\n"
     ]
    },
    {
     "name": "stderr",
     "output_type": "stream",
     "text": [
      "/home/st122148/work/EEG-Motor-Imagery-Classification/common.py:466: RuntimeWarning: This filename (S004/S004R08.fif) does not conform to MNE naming conventions. All raw files should end with raw.fif, raw_sss.fif, raw_tsss.fif, _meg.fif, _eeg.fif, _ieeg.fif, raw.fif.gz, raw_sss.fif.gz, raw_tsss.fif.gz, _meg.fif.gz, _eeg.fif.gz or _ieeg.fif.gz\n",
      "  raw = mne.io.read_raw_fif( path_file , preload=True, verbose='WARNING' )\n",
      "[Parallel(n_jobs=1)]: Using backend SequentialBackend with 1 concurrent workers.\n",
      "[Parallel(n_jobs=1)]: Done   1 out of   1 | elapsed:    0.0s remaining:    0.0s\n",
      "[Parallel(n_jobs=1)]: Done   2 out of   2 | elapsed:    0.0s remaining:    0.0s\n",
      "[Parallel(n_jobs=1)]: Done   2 out of   2 | elapsed:    0.0s finished\n"
     ]
    }
   ],
   "source": [
    "# home directory + datasets folder\n",
    "#path = '/content/drive/MyDrive/MNE-eegbci-data/files/eegmmidb/'\n",
    "path = ''\n",
    "base_url = 'https://physionet.org/files/eegmmidb/'\n",
    "# subjects = [1]\n",
    "#runs = [3,4, 5,6, 7,8]\n",
    "#runs = [3, 5, 7]\n",
    "runs = [4, 6, 8]\n",
    "subjects = [i for i in range(4,5)]\n",
    "#subjects = [1]\n",
    "# runs = [6,10,14]\n",
    "print(path)\n",
    "eeg = EEG_fif(path, base_url, subjects, runs)\n",
    "raw=eeg.data_to_raw()\n",
    "\n",
    "print(\"Raw done\")\n",
    "# apply filter\n",
    "freq = (0., 45.)\n",
    "raw=eeg.filter(freq=freq)\n",
    "#raw=eeg.data_to_raw()\n",
    "print(\"Filter done\")\n",
    "#raw=eeg.raw_ica()\n",
    "#eeg.create_epochs()"
   ]
  },
  {
   "cell_type": "code",
   "execution_count": 9,
   "id": "05d1c640-12c5-49ec-80f0-8890ec4c5462",
   "metadata": {},
   "outputs": [
    {
     "name": "stdout",
     "output_type": "stream",
     "text": [
      "Effective window size : 8.192 (s)\n"
     ]
    },
    {
     "name": "stderr",
     "output_type": "stream",
     "text": [
      "[Parallel(n_jobs=1)]: Using backend SequentialBackend with 1 concurrent workers.\n",
      "[Parallel(n_jobs=1)]: Done   1 out of   1 | elapsed:    0.0s remaining:    0.0s\n",
      "[Parallel(n_jobs=1)]: Done   1 out of   1 | elapsed:    0.0s finished\n"
     ]
    },
    {
     "data": {
      "image/png": "[encoded data removed]",
      "text/plain": [
       "<MNELineFigure size 720x252 with 2 Axes>"
      ]
     },
     "metadata": {
      "needs_background": "light"
     },
     "output_type": "display_data"
    },
    {
     "data": {
      "image/png": "[encoded data removed]",
      "text/plain": [
       "<MNELineFigure size 720x252 with 2 Axes>"
      ]
     },
     "execution_count": 9,
     "metadata": {},
     "output_type": "execute_result"
    }
   ],
   "source": [
    "eeg.raw.plot_psd()"
   ]
  },
  {
   "cell_type": "code",
   "execution_count": null,
   "id": "a230de8a-3651-4dd8-834f-060482bfe81c",
   "metadata": {},
   "outputs": [],
   "source": []
  },
  {
   "cell_type": "code",
   "execution_count": 10,
   "id": "eeb0f3ae-0df7-484d-8e41-62e49a05b080",
   "metadata": {},
   "outputs": [
    {
     "name": "stdout",
     "output_type": "stream",
     "text": [
      "144 events found\n",
      "Event IDs: [1 2 4]\n",
      "Not setting metadata\n",
      "72 matching events found\n",
      "No baseline correction applied\n",
      "0 projection items activated\n",
      "Using data from preloaded Raw for 72 events and 1001 original time points ...\n",
      "0 bad epochs dropped\n",
      "(72, 2, 1001)\n"
     ]
    },
    {
     "name": "stderr",
     "output_type": "stream",
     "text": [
      "/home/st122148/work/EEG-Motor-Imagery-Classification/common.py:487: RuntimeWarning: No matching events found for 3 (event id 3)\n",
      "  epochs = mne.Epochs(\n"
     ]
    },
    {
     "data": {
      "text/plain": [
       "array([0, 0, 0, 0, 0, 0, 0, 0, 0, 0, 0, 0, 1, 1, 1, 1, 1, 1, 1, 1, 1, 1,\n",
       "       1, 1, 0, 0, 0, 0, 0, 0, 0, 0, 0, 0, 0, 0, 1, 1, 1, 1, 1, 1, 1, 1,\n",
       "       1, 1, 1, 1, 0, 0, 0, 0, 0, 0, 0, 0, 0, 0, 0, 0, 1, 1, 1, 1, 1, 1,\n",
       "       1, 1, 1, 1, 1, 1])"
      ]
     },
     "execution_count": 10,
     "metadata": {},
     "output_type": "execute_result"
    }
   ],
   "source": [
    "#X = X[:, :,np.newaxis,:]\n",
    "X, y = eeg.get_X_y(raw)\n",
    "print(X.shape)\n",
    "y=y-1\n",
    "y"
   ]
  },
  {
   "cell_type": "code",
   "execution_count": 11,
   "id": "36138a5b-8974-498f-b712-4da295552b7b",
   "metadata": {},
   "outputs": [
    {
     "name": "stdout",
     "output_type": "stream",
     "text": [
      "train size (50, 2, 1001) (50,)\n",
      "Test size (22, 2, 1001) (22,)\n"
     ]
    }
   ],
   "source": [
    "X_train, X_test, y_train, y_test = train_test_split(X, y, test_size=0.3,stratify=y)\n",
    "\n",
    "print('train size',X_train.shape, y_train.shape)\n",
    "print('Test size',X_test.shape, y_test.shape)"
   ]
  },
  {
   "cell_type": "code",
   "execution_count": 12,
   "id": "4bece4f5-7c27-497d-9ee0-bf4ba68fae50",
   "metadata": {},
   "outputs": [],
   "source": [
    "\n",
    "batch_size = 32\n",
    "\n",
    "train_loader = create_dataloader(X_train, y_train, batch_size=batch_size)\n",
    "test_loader = create_dataloader(X_test, y_test, batch_size=batch_size)\n",
    "\n",
    "num_step =math.ceil(len(train_loader.dataset) / batch_size)"
   ]
  },
  {
   "cell_type": "code",
   "execution_count": 13,
   "id": "16452627-8e5a-472e-83ae-6cf2c0309b6a",
   "metadata": {},
   "outputs": [],
   "source": [
    "# Convolutional neural network (two convolutional layers)\n",
    "class ConvNet(nn.Module):\n",
    "    def __init__(self):\n",
    "        super(ConvNet, self).__init__()\n",
    "        \n",
    "        #using sequential helps bind multiple operations together\n",
    "        self.layer1 = nn.Sequential(\n",
    "            #padding = (kernel_size - 1) / 2 = 2\n",
    "            nn.Conv1d(2, 64, kernel_size=5, stride=1, padding=2),\n",
    "            nn.BatchNorm1d(64),\n",
    "            nn.ReLU(),\n",
    "            # nn.MaxPool2d(kernel_size=2, stride=2)\n",
    "        )\n",
    "        self.layer2 = nn.Sequential(\n",
    "            nn.Conv1d(64, 128, kernel_size=5, stride=1, padding=2),\n",
    "            nn.BatchNorm1d(128),\n",
    "            nn.ReLU(),\n",
    "            # nn.MaxPool2d(kernel_size=2, stride=2)\n",
    "        )\n",
    "        self.fc = nn.Linear(128128, 2)\n",
    "        self.drop_out = nn.Dropout(0.5)\n",
    "        \n",
    "    def forward(self, x):\n",
    "        out = self.layer1(x)\n",
    "        out = self.drop_out(out)\n",
    "        out = self.layer2(out)\n",
    "        out = self.drop_out(out)\n",
    "        out = out.reshape(out.size(0), -1)   #can also use .view()\n",
    "        out = self.fc(out)\n",
    "        return out"
   ]
  },
  {
   "cell_type": "code",
   "execution_count": 14,
   "id": "4451a37b-9e83-44ae-ab95-5375ad56a5c3",
   "metadata": {},
   "outputs": [
    {
     "name": "stderr",
     "output_type": "stream",
     "text": [
      "Failed to detect the name of this notebook, you can set it manually with the WANDB_NOTEBOOK_NAME environment variable to enable code saving.\n",
      "\u001b[34m\u001b[1mwandb\u001b[0m: Logging into wandb.ai. (Learn how to deploy a W&B server locally: https://wandb.me/wandb-server)\n",
      "\u001b[34m\u001b[1mwandb\u001b[0m: You can find your API key in your browser here: https://wandb.ai/authorize\n",
      "\u001b[34m\u001b[1mwandb\u001b[0m: Paste an API key from your profile and hit enter, or press ctrl+c to quit:"
     ]
    },
    {
     "name": "stdin",
     "output_type": "stream",
     "text": [
      "  ········································\n"
     ]
    },
    {
     "name": "stderr",
     "output_type": "stream",
     "text": [
      "\u001b[34m\u001b[1mwandb\u001b[0m: Appending key for api.wandb.ai to your netrc file: /home/st122148/.netrc\n"
     ]
    },
    {
     "data": {
      "text/plain": [
       "True"
      ]
     },
     "execution_count": 14,
     "metadata": {},
     "output_type": "execute_result"
    }
   ],
   "source": [
    "import wandb\n",
    "wandb.login()"
   ]
  },
  {
   "cell_type": "code",
   "execution_count": 23,
   "id": "3f7b67fe-a740-4c09-9665-3de9479c227a",
   "metadata": {},
   "outputs": [
    {
     "data": {
      "text/html": [
       "Finishing last run (ID:1q9k8d8y) before initializing another..."
      ],
      "text/plain": [
       "<IPython.core.display.HTML object>"
      ]
     },
     "metadata": {},
     "output_type": "display_data"
    },
    {
     "data": {
      "text/html": [
       "Waiting for W&B process to finish... <strong style=\"color:green\">(success).</strong>"
      ],
      "text/plain": [
       "<IPython.core.display.HTML object>"
      ]
     },
     "metadata": {},
     "output_type": "display_data"
    },
    {
     "data": {
      "application/vnd.jupyter.widget-view+json": {
       "model_id": "",
       "version_major": 2,
       "version_minor": 0
      },
      "text/plain": [
       "VBox(children=(Label(value='0.001 MB of 0.001 MB uploaded (0.000 MB deduped)\\r'), FloatProgress(value=1.0, max…"
      ]
     },
     "metadata": {},
     "output_type": "display_data"
    },
    {
     "data": {
      "text/html": [
       "Synced <strong style=\"color:#cdcd00\">OurData_CNN_2ch_2class_IM</strong>: <a href=\"https://wandb.ai/nutapol-1997/Motor-Imagery/runs/1q9k8d8y\" target=\"_blank\">https://wandb.ai/nutapol-1997/Motor-Imagery/runs/1q9k8d8y</a><br/>Synced 5 W&B file(s), 0 media file(s), 0 artifact file(s) and 0 other file(s)"
      ],
      "text/plain": [
       "<IPython.core.display.HTML object>"
      ]
     },
     "metadata": {},
     "output_type": "display_data"
    },
    {
     "data": {
      "text/html": [
       "Find logs at: <code>./wandb/run-20220920_091737-1q9k8d8y/logs</code>"
      ],
      "text/plain": [
       "<IPython.core.display.HTML object>"
      ]
     },
     "metadata": {},
     "output_type": "display_data"
    },
    {
     "data": {
      "text/html": [
       "Successfully finished last run (ID:1q9k8d8y). Initializing new run:<br/>"
      ],
      "text/plain": [
       "<IPython.core.display.HTML object>"
      ]
     },
     "metadata": {},
     "output_type": "display_data"
    },
    {
     "data": {
      "application/vnd.jupyter.widget-view+json": {
       "model_id": "cbefd68d827741c2ab636fb85d3ab7fa",
       "version_major": 2,
       "version_minor": 0
      },
      "text/plain": [
       "VBox(children=(Label(value='Waiting for wandb.init()...\\r'), FloatProgress(value=0.03333909511566162, max=1.0)…"
      ]
     },
     "metadata": {},
     "output_type": "display_data"
    },
    {
     "data": {
      "text/html": [
       "Tracking run with wandb version 0.13.3"
      ],
      "text/plain": [
       "<IPython.core.display.HTML object>"
      ]
     },
     "metadata": {},
     "output_type": "display_data"
    },
    {
     "data": {
      "text/html": [
       "Run data is saved locally in <code>/home/st122148/work/EEG-Motor-Imagery-Classification/wandb/run-20220920_091756-1qy3trj4</code>"
      ],
      "text/plain": [
       "<IPython.core.display.HTML object>"
      ]
     },
     "metadata": {},
     "output_type": "display_data"
    },
    {
     "data": {
      "text/html": [
       "Syncing run <strong><a href=\"https://wandb.ai/nutapol-1997/Motor-Imagery/runs/1qy3trj4\" target=\"_blank\">OurData_CNN_2ch_2class_IM</a></strong> to <a href=\"https://wandb.ai/nutapol-1997/Motor-Imagery\" target=\"_blank\">Weights & Biases</a> (<a href=\"https://wandb.me/run\" target=\"_blank\">docs</a>)<br/>"
      ],
      "text/plain": [
       "<IPython.core.display.HTML object>"
      ]
     },
     "metadata": {},
     "output_type": "display_data"
    }
   ],
   "source": [
    "\n",
    "wand = wandb.init(\n",
    "        \n",
    "      # Set the project where this run will be logged\n",
    "      project=\"Motor-Imagery\", \n",
    "      # We pass a run name (otherwise it’ll be randomly assigned, like sunshine-lollypop-10)\n",
    "      name=f\"OurData_CNN_2ch_2class_IM\", \n",
    "      # Track hyperparameters and run metadata\n",
    "      config={\n",
    "      \"learning_rate\": 0.00001,\n",
    "      \"architecture\": \"CNN\",\n",
    "      \"dataset\": \"Nutapol T.\",\n",
    "      \"epochs\": 20000,\n",
    "      \"weightname\":\"OurData_S004_CNN_2ch_2class_IM\",\n",
    "      \"num_step_per_epoch\" : num_step, \n",
    "        \n",
    "      }\n",
    "    )\n",
    "\n"
   ]
  },
  {
   "cell_type": "code",
   "execution_count": 24,
   "id": "cd656ad4-86d1-4210-8a3b-b9bac330e2c5",
   "metadata": {},
   "outputs": [
    {
     "name": "stdout",
     "output_type": "stream",
     "text": [
      "2\n"
     ]
    }
   ],
   "source": [
    "config = wand.config\n",
    "print(config.num_step_per_epoch)"
   ]
  },
  {
   "cell_type": "code",
   "execution_count": 25,
   "id": "a525b620-d5df-49d8-953c-6edfbd571ff5",
   "metadata": {},
   "outputs": [],
   "source": [
    "from common import train"
   ]
  },
  {
   "cell_type": "code",
   "execution_count": 26,
   "id": "af3ab67d-3ffe-42b6-b58e-69c4eba04627",
   "metadata": {},
   "outputs": [
    {
     "name": "stdout",
     "output_type": "stream",
     "text": [
      "Epoch 1/20000, Tr Loss: 0.8436, Tr Acc: 46.0000, Val Loss: 0.6936, Val Acc: 50.0000\n",
      "Epoch 101/20000, Tr Loss: 0.3813, Tr Acc: 78.0000, Val Loss: 0.3020, Val Acc: 86.3636\n",
      "Epoch 201/20000, Tr Loss: 0.2775, Tr Acc: 90.0000, Val Loss: 0.2561, Val Acc: 90.9091\n",
      "Epoch 301/20000, Tr Loss: 0.1833, Tr Acc: 92.0000, Val Loss: 0.2470, Val Acc: 90.9091\n",
      "Epoch 401/20000, Tr Loss: 0.1207, Tr Acc: 96.0000, Val Loss: 0.2357, Val Acc: 90.9091\n",
      "Epoch 501/20000, Tr Loss: 0.1615, Tr Acc: 96.0000, Val Loss: 0.2592, Val Acc: 86.3636\n",
      "Epoch 601/20000, Tr Loss: 0.1445, Tr Acc: 94.0000, Val Loss: 0.2579, Val Acc: 86.3636\n",
      "Epoch 701/20000, Tr Loss: 0.1123, Tr Acc: 96.0000, Val Loss: 0.2356, Val Acc: 86.3636\n",
      "Epoch 801/20000, Tr Loss: 0.1322, Tr Acc: 94.0000, Val Loss: 0.3192, Val Acc: 86.3636\n",
      "Epoch 901/20000, Tr Loss: 0.4229, Tr Acc: 84.0000, Val Loss: 0.2737, Val Acc: 86.3636\n",
      "Epoch 1001/20000, Tr Loss: 0.2038, Tr Acc: 92.0000, Val Loss: 0.3004, Val Acc: 86.3636\n",
      "Epoch 1101/20000, Tr Loss: 0.2527, Tr Acc: 94.0000, Val Loss: 0.2795, Val Acc: 90.9091\n",
      "Epoch 1201/20000, Tr Loss: 0.0840, Tr Acc: 98.0000, Val Loss: 0.2924, Val Acc: 86.3636\n",
      "Epoch 1301/20000, Tr Loss: 0.1594, Tr Acc: 92.0000, Val Loss: 0.3088, Val Acc: 90.9091\n",
      "Epoch 1401/20000, Tr Loss: 0.1213, Tr Acc: 94.0000, Val Loss: 0.2561, Val Acc: 90.9091\n",
      "Epoch 1501/20000, Tr Loss: 0.1616, Tr Acc: 92.0000, Val Loss: 0.2655, Val Acc: 86.3636\n",
      "Epoch 1601/20000, Tr Loss: 0.0743, Tr Acc: 98.0000, Val Loss: 0.2646, Val Acc: 86.3636\n",
      "Epoch 1701/20000, Tr Loss: 0.1504, Tr Acc: 94.0000, Val Loss: 0.2939, Val Acc: 90.9091\n",
      "Epoch 1801/20000, Tr Loss: 0.0831, Tr Acc: 96.0000, Val Loss: 0.2796, Val Acc: 86.3636\n",
      "Epoch 1901/20000, Tr Loss: 0.1749, Tr Acc: 92.0000, Val Loss: 0.3739, Val Acc: 86.3636\n",
      "Epoch 2001/20000, Tr Loss: 0.2732, Tr Acc: 96.0000, Val Loss: 0.3164, Val Acc: 81.8182\n",
      "Epoch 2101/20000, Tr Loss: 0.0730, Tr Acc: 98.0000, Val Loss: 0.3279, Val Acc: 86.3636\n",
      "Epoch 2201/20000, Tr Loss: 0.0808, Tr Acc: 96.0000, Val Loss: 0.2750, Val Acc: 86.3636\n",
      "Epoch 2301/20000, Tr Loss: 0.1149, Tr Acc: 98.0000, Val Loss: 0.3248, Val Acc: 86.3636\n",
      "Epoch 2401/20000, Tr Loss: 0.0592, Tr Acc: 98.0000, Val Loss: 0.2768, Val Acc: 86.3636\n",
      "Epoch 2501/20000, Tr Loss: 0.1185, Tr Acc: 96.0000, Val Loss: 0.3103, Val Acc: 90.9091\n",
      "Epoch 2601/20000, Tr Loss: 0.1454, Tr Acc: 94.0000, Val Loss: 0.2859, Val Acc: 86.3636\n",
      "Epoch 2701/20000, Tr Loss: 0.1803, Tr Acc: 96.0000, Val Loss: 0.3178, Val Acc: 86.3636\n",
      "Epoch 2801/20000, Tr Loss: 0.0902, Tr Acc: 98.0000, Val Loss: 0.2759, Val Acc: 86.3636\n",
      "Epoch 2901/20000, Tr Loss: 0.0413, Tr Acc: 98.0000, Val Loss: 0.2355, Val Acc: 90.9091\n",
      "Epoch 3001/20000, Tr Loss: 0.1770, Tr Acc: 90.0000, Val Loss: 0.2812, Val Acc: 86.3636\n",
      "Epoch 3101/20000, Tr Loss: 0.0399, Tr Acc: 100.0000, Val Loss: 0.2927, Val Acc: 86.3636\n",
      "Epoch 3201/20000, Tr Loss: 0.2854, Tr Acc: 92.0000, Val Loss: 0.3058, Val Acc: 86.3636\n",
      "Epoch 3301/20000, Tr Loss: 0.0803, Tr Acc: 98.0000, Val Loss: 0.3128, Val Acc: 90.9091\n",
      "Epoch 3401/20000, Tr Loss: 0.0561, Tr Acc: 98.0000, Val Loss: 0.3175, Val Acc: 86.3636\n",
      "Epoch 3501/20000, Tr Loss: 0.0722, Tr Acc: 98.0000, Val Loss: 0.2736, Val Acc: 90.9091\n",
      "Epoch 3601/20000, Tr Loss: 0.1518, Tr Acc: 92.0000, Val Loss: 0.3358, Val Acc: 86.3636\n",
      "Epoch 3701/20000, Tr Loss: 0.2858, Tr Acc: 88.0000, Val Loss: 0.2961, Val Acc: 90.9091\n",
      "Epoch 3801/20000, Tr Loss: 0.0462, Tr Acc: 100.0000, Val Loss: 0.2842, Val Acc: 86.3636\n",
      "Epoch 3901/20000, Tr Loss: 0.0401, Tr Acc: 98.0000, Val Loss: 0.2971, Val Acc: 90.9091\n",
      "Epoch 4001/20000, Tr Loss: 0.0936, Tr Acc: 94.0000, Val Loss: 0.2312, Val Acc: 90.9091\n",
      "Epoch 4101/20000, Tr Loss: 0.0614, Tr Acc: 96.0000, Val Loss: 0.2983, Val Acc: 86.3636\n",
      "Epoch 4201/20000, Tr Loss: 0.0505, Tr Acc: 100.0000, Val Loss: 0.2940, Val Acc: 90.9091\n",
      "Epoch 4301/20000, Tr Loss: 0.0351, Tr Acc: 100.0000, Val Loss: 0.2330, Val Acc: 90.9091\n",
      "Epoch 4401/20000, Tr Loss: 0.0494, Tr Acc: 98.0000, Val Loss: 0.3373, Val Acc: 90.9091\n",
      "Epoch 4501/20000, Tr Loss: 0.0962, Tr Acc: 92.0000, Val Loss: 0.3229, Val Acc: 90.9091\n",
      "Epoch 4601/20000, Tr Loss: 0.2574, Tr Acc: 92.0000, Val Loss: 0.2863, Val Acc: 90.9091\n",
      "Epoch 4701/20000, Tr Loss: 0.1111, Tr Acc: 98.0000, Val Loss: 0.3155, Val Acc: 90.9091\n",
      "Epoch 4801/20000, Tr Loss: 0.1197, Tr Acc: 92.0000, Val Loss: 0.3333, Val Acc: 86.3636\n",
      "Epoch 4901/20000, Tr Loss: 0.1021, Tr Acc: 96.0000, Val Loss: 0.3442, Val Acc: 90.9091\n",
      "Epoch 5001/20000, Tr Loss: 0.0558, Tr Acc: 98.0000, Val Loss: 0.3332, Val Acc: 90.9091\n",
      "Epoch 5101/20000, Tr Loss: 0.3044, Tr Acc: 90.0000, Val Loss: 0.2947, Val Acc: 90.9091\n",
      "Epoch 5201/20000, Tr Loss: 0.0664, Tr Acc: 96.0000, Val Loss: 0.3486, Val Acc: 86.3636\n",
      "Epoch 5301/20000, Tr Loss: 0.1422, Tr Acc: 96.0000, Val Loss: 0.2580, Val Acc: 90.9091\n",
      "Epoch 5401/20000, Tr Loss: 0.1761, Tr Acc: 96.0000, Val Loss: 0.2623, Val Acc: 90.9091\n",
      "Epoch 5501/20000, Tr Loss: 0.0276, Tr Acc: 100.0000, Val Loss: 0.2455, Val Acc: 90.9091\n",
      "Epoch 5601/20000, Tr Loss: 0.2579, Tr Acc: 92.0000, Val Loss: 0.2945, Val Acc: 90.9091\n",
      "Epoch 5701/20000, Tr Loss: 0.1633, Tr Acc: 94.0000, Val Loss: 0.3101, Val Acc: 90.9091\n",
      "Epoch 5801/20000, Tr Loss: 0.0860, Tr Acc: 96.0000, Val Loss: 0.2657, Val Acc: 90.9091\n",
      "Epoch 5901/20000, Tr Loss: 0.0635, Tr Acc: 98.0000, Val Loss: 0.3128, Val Acc: 86.3636\n",
      "Epoch 6001/20000, Tr Loss: 0.0670, Tr Acc: 94.0000, Val Loss: 0.3051, Val Acc: 90.9091\n",
      "Epoch 6101/20000, Tr Loss: 0.1347, Tr Acc: 96.0000, Val Loss: 0.3030, Val Acc: 90.9091\n",
      "Epoch 6201/20000, Tr Loss: 0.0768, Tr Acc: 98.0000, Val Loss: 0.2691, Val Acc: 90.9091\n",
      "Epoch 6301/20000, Tr Loss: 0.0482, Tr Acc: 98.0000, Val Loss: 0.3201, Val Acc: 90.9091\n",
      "Epoch 6401/20000, Tr Loss: 0.1426, Tr Acc: 96.0000, Val Loss: 0.2993, Val Acc: 90.9091\n",
      "Epoch 6501/20000, Tr Loss: 0.1117, Tr Acc: 98.0000, Val Loss: 0.3109, Val Acc: 90.9091\n",
      "Epoch 6601/20000, Tr Loss: 0.0871, Tr Acc: 98.0000, Val Loss: 0.3103, Val Acc: 90.9091\n",
      "Epoch 6701/20000, Tr Loss: 0.0731, Tr Acc: 96.0000, Val Loss: 0.2867, Val Acc: 90.9091\n",
      "Epoch 6801/20000, Tr Loss: 0.0942, Tr Acc: 96.0000, Val Loss: 0.2503, Val Acc: 90.9091\n",
      "Epoch 6901/20000, Tr Loss: 0.0805, Tr Acc: 98.0000, Val Loss: 0.3715, Val Acc: 90.9091\n",
      "Epoch 7001/20000, Tr Loss: 0.0626, Tr Acc: 98.0000, Val Loss: 0.2271, Val Acc: 90.9091\n",
      "Epoch 7101/20000, Tr Loss: 0.2658, Tr Acc: 96.0000, Val Loss: 0.2892, Val Acc: 90.9091\n",
      "Epoch 7201/20000, Tr Loss: 0.0808, Tr Acc: 96.0000, Val Loss: 0.2776, Val Acc: 90.9091\n",
      "Epoch 7301/20000, Tr Loss: 0.1380, Tr Acc: 96.0000, Val Loss: 0.2577, Val Acc: 90.9091\n",
      "Epoch 7401/20000, Tr Loss: 0.0247, Tr Acc: 100.0000, Val Loss: 0.2815, Val Acc: 90.9091\n",
      "Epoch 7501/20000, Tr Loss: 0.1367, Tr Acc: 94.0000, Val Loss: 0.3490, Val Acc: 90.9091\n",
      "Epoch 7601/20000, Tr Loss: 0.0541, Tr Acc: 98.0000, Val Loss: 0.2998, Val Acc: 90.9091\n",
      "Epoch 7701/20000, Tr Loss: 0.0407, Tr Acc: 100.0000, Val Loss: 0.2435, Val Acc: 90.9091\n",
      "Epoch 7801/20000, Tr Loss: 0.0562, Tr Acc: 96.0000, Val Loss: 0.2646, Val Acc: 90.9091\n",
      "Epoch 7901/20000, Tr Loss: 0.0506, Tr Acc: 98.0000, Val Loss: 0.3415, Val Acc: 90.9091\n",
      "Epoch 8001/20000, Tr Loss: 0.0865, Tr Acc: 96.0000, Val Loss: 0.2817, Val Acc: 90.9091\n",
      "Epoch 8101/20000, Tr Loss: 0.1868, Tr Acc: 92.0000, Val Loss: 0.2908, Val Acc: 90.9091\n",
      "Epoch 8201/20000, Tr Loss: 0.0453, Tr Acc: 98.0000, Val Loss: 0.2164, Val Acc: 90.9091\n",
      "Epoch 8301/20000, Tr Loss: 0.2577, Tr Acc: 96.0000, Val Loss: 0.2859, Val Acc: 90.9091\n",
      "Epoch 8401/20000, Tr Loss: 0.0341, Tr Acc: 98.0000, Val Loss: 0.2476, Val Acc: 90.9091\n",
      "Epoch 8501/20000, Tr Loss: 0.0536, Tr Acc: 98.0000, Val Loss: 0.2757, Val Acc: 90.9091\n",
      "Epoch 8601/20000, Tr Loss: 0.0282, Tr Acc: 100.0000, Val Loss: 0.2374, Val Acc: 90.9091\n",
      "Epoch 8701/20000, Tr Loss: 0.2195, Tr Acc: 92.0000, Val Loss: 0.2068, Val Acc: 90.9091\n",
      "Epoch 8801/20000, Tr Loss: 0.0186, Tr Acc: 100.0000, Val Loss: 0.3008, Val Acc: 90.9091\n",
      "Epoch 8901/20000, Tr Loss: 0.0748, Tr Acc: 96.0000, Val Loss: 0.2608, Val Acc: 90.9091\n",
      "Epoch 9001/20000, Tr Loss: 0.0597, Tr Acc: 98.0000, Val Loss: 0.2417, Val Acc: 90.9091\n",
      "Epoch 9101/20000, Tr Loss: 0.1049, Tr Acc: 96.0000, Val Loss: 0.2374, Val Acc: 90.9091\n",
      "Epoch 9201/20000, Tr Loss: 0.0680, Tr Acc: 98.0000, Val Loss: 0.2189, Val Acc: 90.9091\n",
      "Epoch 9301/20000, Tr Loss: 0.0550, Tr Acc: 98.0000, Val Loss: 0.3195, Val Acc: 90.9091\n",
      "Epoch 9401/20000, Tr Loss: 0.0381, Tr Acc: 96.0000, Val Loss: 0.2560, Val Acc: 95.4545\n",
      "Epoch 9501/20000, Tr Loss: 0.0246, Tr Acc: 100.0000, Val Loss: 0.1674, Val Acc: 90.9091\n",
      "Epoch 9601/20000, Tr Loss: 0.0331, Tr Acc: 100.0000, Val Loss: 0.2077, Val Acc: 90.9091\n",
      "Epoch 9701/20000, Tr Loss: 0.1220, Tr Acc: 96.0000, Val Loss: 0.2015, Val Acc: 90.9091\n",
      "Epoch 9801/20000, Tr Loss: 0.0198, Tr Acc: 100.0000, Val Loss: 0.1991, Val Acc: 90.9091\n",
      "Epoch 9901/20000, Tr Loss: 0.0387, Tr Acc: 98.0000, Val Loss: 0.2084, Val Acc: 90.9091\n",
      "Epoch 10001/20000, Tr Loss: 0.0192, Tr Acc: 100.0000, Val Loss: 0.1947, Val Acc: 90.9091\n",
      "Epoch 10101/20000, Tr Loss: 0.0237, Tr Acc: 100.0000, Val Loss: 0.2036, Val Acc: 95.4545\n",
      "Epoch 10201/20000, Tr Loss: 0.0345, Tr Acc: 98.0000, Val Loss: 0.1454, Val Acc: 95.4545\n",
      "Epoch 10301/20000, Tr Loss: 0.0097, Tr Acc: 100.0000, Val Loss: 0.1520, Val Acc: 95.4545\n",
      "Epoch 10401/20000, Tr Loss: 0.0132, Tr Acc: 100.0000, Val Loss: 0.1782, Val Acc: 95.4545\n",
      "Epoch 10501/20000, Tr Loss: 0.1298, Tr Acc: 96.0000, Val Loss: 0.1685, Val Acc: 95.4545\n",
      "Epoch 10601/20000, Tr Loss: 0.0481, Tr Acc: 98.0000, Val Loss: 0.2048, Val Acc: 95.4545\n",
      "Epoch 10701/20000, Tr Loss: 0.0580, Tr Acc: 98.0000, Val Loss: 0.1507, Val Acc: 90.9091\n",
      "Epoch 10801/20000, Tr Loss: 0.0336, Tr Acc: 98.0000, Val Loss: 0.1510, Val Acc: 95.4545\n",
      "Epoch 10901/20000, Tr Loss: 0.1081, Tr Acc: 96.0000, Val Loss: 0.1888, Val Acc: 95.4545\n",
      "Epoch 11001/20000, Tr Loss: 0.0198, Tr Acc: 100.0000, Val Loss: 0.1801, Val Acc: 95.4545\n",
      "Epoch 11101/20000, Tr Loss: 0.1029, Tr Acc: 96.0000, Val Loss: 0.2206, Val Acc: 95.4545\n",
      "Epoch 11201/20000, Tr Loss: 0.0181, Tr Acc: 100.0000, Val Loss: 0.1733, Val Acc: 95.4545\n",
      "Epoch 11301/20000, Tr Loss: 0.0259, Tr Acc: 100.0000, Val Loss: 0.1496, Val Acc: 95.4545\n",
      "Epoch 11401/20000, Tr Loss: 0.0372, Tr Acc: 100.0000, Val Loss: 0.1764, Val Acc: 95.4545\n",
      "Epoch 11501/20000, Tr Loss: 0.0215, Tr Acc: 100.0000, Val Loss: 0.2341, Val Acc: 95.4545\n",
      "Epoch 11601/20000, Tr Loss: 0.0618, Tr Acc: 98.0000, Val Loss: 0.1945, Val Acc: 95.4545\n",
      "Epoch 11701/20000, Tr Loss: 0.0231, Tr Acc: 100.0000, Val Loss: 0.1803, Val Acc: 95.4545\n",
      "Epoch 11801/20000, Tr Loss: 0.1122, Tr Acc: 94.0000, Val Loss: 0.0950, Val Acc: 95.4545\n",
      "Epoch 11901/20000, Tr Loss: 0.0521, Tr Acc: 98.0000, Val Loss: 0.1848, Val Acc: 95.4545\n",
      "Epoch 12001/20000, Tr Loss: 0.0464, Tr Acc: 98.0000, Val Loss: 0.1316, Val Acc: 95.4545\n",
      "Epoch 12101/20000, Tr Loss: 0.0158, Tr Acc: 100.0000, Val Loss: 0.1182, Val Acc: 95.4545\n",
      "Epoch 12201/20000, Tr Loss: 0.1716, Tr Acc: 94.0000, Val Loss: 0.1642, Val Acc: 95.4545\n",
      "Epoch 12301/20000, Tr Loss: 0.0207, Tr Acc: 100.0000, Val Loss: 0.1498, Val Acc: 95.4545\n",
      "Epoch 12401/20000, Tr Loss: 0.0213, Tr Acc: 100.0000, Val Loss: 0.2334, Val Acc: 90.9091\n",
      "Epoch 12501/20000, Tr Loss: 0.3470, Tr Acc: 90.0000, Val Loss: 0.1381, Val Acc: 95.4545\n",
      "Epoch 12601/20000, Tr Loss: 0.0453, Tr Acc: 98.0000, Val Loss: 0.1377, Val Acc: 95.4545\n",
      "Epoch 12701/20000, Tr Loss: 0.0816, Tr Acc: 96.0000, Val Loss: 0.1078, Val Acc: 95.4545\n",
      "Epoch 12801/20000, Tr Loss: 0.0126, Tr Acc: 100.0000, Val Loss: 0.1345, Val Acc: 95.4545\n",
      "Epoch 12901/20000, Tr Loss: 0.0113, Tr Acc: 100.0000, Val Loss: 0.0851, Val Acc: 95.4545\n",
      "Epoch 13001/20000, Tr Loss: 0.0305, Tr Acc: 98.0000, Val Loss: 0.1540, Val Acc: 95.4545\n",
      "Epoch 13101/20000, Tr Loss: 0.0138, Tr Acc: 100.0000, Val Loss: 0.0816, Val Acc: 95.4545\n",
      "Epoch 13201/20000, Tr Loss: 0.1367, Tr Acc: 98.0000, Val Loss: 0.1131, Val Acc: 95.4545\n",
      "Epoch 13301/20000, Tr Loss: 0.1048, Tr Acc: 96.0000, Val Loss: 0.1391, Val Acc: 95.4545\n",
      "Epoch 13401/20000, Tr Loss: 0.0628, Tr Acc: 98.0000, Val Loss: 0.1452, Val Acc: 95.4545\n",
      "Epoch 13501/20000, Tr Loss: 0.0492, Tr Acc: 98.0000, Val Loss: 0.1292, Val Acc: 95.4545\n",
      "Epoch 13601/20000, Tr Loss: 0.0446, Tr Acc: 98.0000, Val Loss: 0.1291, Val Acc: 95.4545\n",
      "Epoch 13701/20000, Tr Loss: 0.0856, Tr Acc: 98.0000, Val Loss: 0.1891, Val Acc: 95.4545\n",
      "Epoch 13801/20000, Tr Loss: 0.0484, Tr Acc: 98.0000, Val Loss: 0.0875, Val Acc: 95.4545\n",
      "Epoch 13901/20000, Tr Loss: 0.0250, Tr Acc: 100.0000, Val Loss: 0.0871, Val Acc: 95.4545\n",
      "Epoch 14001/20000, Tr Loss: 0.0231, Tr Acc: 98.0000, Val Loss: 0.0411, Val Acc: 100.0000\n",
      "Epoch 14101/20000, Tr Loss: 0.0784, Tr Acc: 98.0000, Val Loss: 0.0968, Val Acc: 95.4545\n",
      "Epoch 14201/20000, Tr Loss: 0.2310, Tr Acc: 94.0000, Val Loss: 0.1664, Val Acc: 95.4545\n",
      "Epoch 14301/20000, Tr Loss: 0.1067, Tr Acc: 98.0000, Val Loss: 0.0893, Val Acc: 95.4545\n",
      "Epoch 14401/20000, Tr Loss: 0.1369, Tr Acc: 94.0000, Val Loss: 0.0717, Val Acc: 95.4545\n",
      "Epoch 14501/20000, Tr Loss: 0.0493, Tr Acc: 98.0000, Val Loss: 0.1319, Val Acc: 95.4545\n",
      "Epoch 14601/20000, Tr Loss: 0.0438, Tr Acc: 98.0000, Val Loss: 0.0891, Val Acc: 95.4545\n",
      "Epoch 14701/20000, Tr Loss: 0.0741, Tr Acc: 96.0000, Val Loss: 0.1124, Val Acc: 95.4545\n",
      "Epoch 14801/20000, Tr Loss: 0.1006, Tr Acc: 98.0000, Val Loss: 0.0498, Val Acc: 95.4545\n",
      "Epoch 14901/20000, Tr Loss: 0.0330, Tr Acc: 100.0000, Val Loss: 0.1130, Val Acc: 95.4545\n",
      "Epoch 15001/20000, Tr Loss: 0.2274, Tr Acc: 96.0000, Val Loss: 0.1391, Val Acc: 95.4545\n",
      "Epoch 15101/20000, Tr Loss: 0.0082, Tr Acc: 100.0000, Val Loss: 0.0662, Val Acc: 95.4545\n",
      "Epoch 15201/20000, Tr Loss: 0.0156, Tr Acc: 100.0000, Val Loss: 0.1080, Val Acc: 95.4545\n",
      "Epoch 15301/20000, Tr Loss: 0.0253, Tr Acc: 100.0000, Val Loss: 0.1416, Val Acc: 95.4545\n",
      "Epoch 15401/20000, Tr Loss: 0.2239, Tr Acc: 92.0000, Val Loss: 0.0741, Val Acc: 95.4545\n",
      "Epoch 15501/20000, Tr Loss: 0.0398, Tr Acc: 100.0000, Val Loss: 0.0508, Val Acc: 95.4545\n",
      "Epoch 15601/20000, Tr Loss: 0.0261, Tr Acc: 100.0000, Val Loss: 0.1390, Val Acc: 95.4545\n",
      "Epoch 15701/20000, Tr Loss: 0.0610, Tr Acc: 98.0000, Val Loss: 0.0534, Val Acc: 95.4545\n",
      "Epoch 15801/20000, Tr Loss: 0.0176, Tr Acc: 100.0000, Val Loss: 0.0647, Val Acc: 95.4545\n",
      "Epoch 15901/20000, Tr Loss: 0.0781, Tr Acc: 96.0000, Val Loss: 0.1656, Val Acc: 95.4545\n",
      "Epoch 16001/20000, Tr Loss: 0.0151, Tr Acc: 100.0000, Val Loss: 0.0592, Val Acc: 95.4545\n",
      "Epoch 16101/20000, Tr Loss: 0.0299, Tr Acc: 98.0000, Val Loss: 0.0626, Val Acc: 95.4545\n",
      "Epoch 16201/20000, Tr Loss: 0.0114, Tr Acc: 100.0000, Val Loss: 0.1056, Val Acc: 95.4545\n",
      "Epoch 16301/20000, Tr Loss: 0.0377, Tr Acc: 100.0000, Val Loss: 0.0626, Val Acc: 95.4545\n",
      "Epoch 16401/20000, Tr Loss: 0.0207, Tr Acc: 100.0000, Val Loss: 0.0427, Val Acc: 100.0000\n",
      "Epoch 16501/20000, Tr Loss: 0.0176, Tr Acc: 100.0000, Val Loss: 0.0724, Val Acc: 95.4545\n",
      "Epoch 16601/20000, Tr Loss: 0.0287, Tr Acc: 100.0000, Val Loss: 0.0731, Val Acc: 95.4545\n",
      "Epoch 16701/20000, Tr Loss: 0.0823, Tr Acc: 98.0000, Val Loss: 0.0524, Val Acc: 95.4545\n",
      "Epoch 16801/20000, Tr Loss: 0.0416, Tr Acc: 98.0000, Val Loss: 0.0907, Val Acc: 95.4545\n",
      "Epoch 16901/20000, Tr Loss: 0.0549, Tr Acc: 98.0000, Val Loss: 0.0767, Val Acc: 95.4545\n",
      "Epoch 17001/20000, Tr Loss: 0.0985, Tr Acc: 94.0000, Val Loss: 0.0594, Val Acc: 95.4545\n",
      "Epoch 17101/20000, Tr Loss: 0.1018, Tr Acc: 96.0000, Val Loss: 0.1201, Val Acc: 95.4545\n",
      "Epoch 17201/20000, Tr Loss: 0.2507, Tr Acc: 96.0000, Val Loss: 0.0967, Val Acc: 95.4545\n",
      "Epoch 17301/20000, Tr Loss: 0.0336, Tr Acc: 100.0000, Val Loss: 0.0625, Val Acc: 95.4545\n",
      "Epoch 17401/20000, Tr Loss: 0.0178, Tr Acc: 100.0000, Val Loss: 0.0352, Val Acc: 100.0000\n",
      "Epoch 17501/20000, Tr Loss: 0.0394, Tr Acc: 98.0000, Val Loss: 0.0624, Val Acc: 95.4545\n",
      "Epoch 17601/20000, Tr Loss: 0.0238, Tr Acc: 100.0000, Val Loss: 0.1770, Val Acc: 95.4545\n",
      "Epoch 17701/20000, Tr Loss: 0.0346, Tr Acc: 100.0000, Val Loss: 0.0843, Val Acc: 95.4545\n",
      "Epoch 17801/20000, Tr Loss: 0.1274, Tr Acc: 94.0000, Val Loss: 0.1314, Val Acc: 95.4545\n",
      "Epoch 17901/20000, Tr Loss: 0.0454, Tr Acc: 98.0000, Val Loss: 0.0809, Val Acc: 95.4545\n",
      "Epoch 18001/20000, Tr Loss: 0.0273, Tr Acc: 98.0000, Val Loss: 0.0756, Val Acc: 95.4545\n",
      "Epoch 18101/20000, Tr Loss: 0.0136, Tr Acc: 100.0000, Val Loss: 0.0815, Val Acc: 95.4545\n",
      "Epoch 18201/20000, Tr Loss: 0.0939, Tr Acc: 98.0000, Val Loss: 0.0460, Val Acc: 95.4545\n",
      "Epoch 18301/20000, Tr Loss: 0.2791, Tr Acc: 90.0000, Val Loss: 0.0402, Val Acc: 95.4545\n",
      "Epoch 18401/20000, Tr Loss: 0.0246, Tr Acc: 100.0000, Val Loss: 0.1005, Val Acc: 95.4545\n",
      "Epoch 18501/20000, Tr Loss: 0.0638, Tr Acc: 96.0000, Val Loss: 0.0928, Val Acc: 95.4545\n",
      "Epoch 18601/20000, Tr Loss: 0.0235, Tr Acc: 98.0000, Val Loss: 0.0346, Val Acc: 100.0000\n",
      "Epoch 18701/20000, Tr Loss: 0.0084, Tr Acc: 100.0000, Val Loss: 0.1334, Val Acc: 95.4545\n",
      "Epoch 18801/20000, Tr Loss: 0.0154, Tr Acc: 100.0000, Val Loss: 0.0802, Val Acc: 95.4545\n",
      "Epoch 18901/20000, Tr Loss: 0.0698, Tr Acc: 96.0000, Val Loss: 0.0773, Val Acc: 95.4545\n",
      "Epoch 19001/20000, Tr Loss: 0.0120, Tr Acc: 100.0000, Val Loss: 0.0618, Val Acc: 95.4545\n",
      "Epoch 19101/20000, Tr Loss: 0.0138, Tr Acc: 100.0000, Val Loss: 0.0287, Val Acc: 100.0000\n",
      "Epoch 19201/20000, Tr Loss: 0.1322, Tr Acc: 94.0000, Val Loss: 0.0987, Val Acc: 95.4545\n",
      "Epoch 19301/20000, Tr Loss: 0.0098, Tr Acc: 100.0000, Val Loss: 0.0279, Val Acc: 100.0000\n",
      "Epoch 19401/20000, Tr Loss: 0.0410, Tr Acc: 100.0000, Val Loss: 0.1128, Val Acc: 95.4545\n",
      "Epoch 19501/20000, Tr Loss: 0.0195, Tr Acc: 100.0000, Val Loss: 0.0567, Val Acc: 95.4545\n",
      "Epoch 19601/20000, Tr Loss: 0.0113, Tr Acc: 100.0000, Val Loss: 0.1205, Val Acc: 95.4545\n",
      "Epoch 19701/20000, Tr Loss: 0.0748, Tr Acc: 98.0000, Val Loss: 0.0632, Val Acc: 95.4545\n",
      "Epoch 19801/20000, Tr Loss: 0.4381, Tr Acc: 94.0000, Val Loss: 0.1218, Val Acc: 90.9091\n",
      "Epoch 19901/20000, Tr Loss: 0.1490, Tr Acc: 96.0000, Val Loss: 0.0596, Val Acc: 95.4545\n"
     ]
    }
   ],
   "source": [
    "net = ConvNet().cuda(0)\n",
    "optimizer = optim.Adam(net.parameters(), lr=config.learning_rate)\n",
    "criterion = nn.CrossEntropyLoss()\n",
    "\n",
    "\n",
    "train_loss,valid_loss,train_accuracy,valid_accuracy =train(\n",
    "    model = net,\n",
    "    gpu_num = 0,\n",
    "    train_loader = train_loader,\n",
    "    test_loader = test_loader,\n",
    "    optimizer = optimizer  ,\n",
    "    criterion = criterion ,\n",
    "    wand = wand\n",
    "         )\n",
    "\n",
    "\n",
    "wandb.alert(\n",
    "            title='Finish',\n",
    "            text=f'Finishing training',\n",
    "        )"
   ]
  },
  {
   "cell_type": "markdown",
   "id": "5d4f20d0-63c3-4c9f-8425-b49a381136d8",
   "metadata": {},
   "source": [
    "### GAMENET"
   ]
  },
  {
   "cell_type": "code",
   "execution_count": 15,
   "id": "3e2a1af2-75e8-4965-9c12-8555df2a62ac",
   "metadata": {},
   "outputs": [],
   "source": [
    "class gamenet(nn.Module):\n",
    "    def __init__(self):\n",
    "        \n",
    "        super(gamenet,self).__init__()\n",
    "        \n",
    "        self.l1 = nn.Sequential(\n",
    "            #in_channel = 16\n",
    "            #out_channel or Filter size = 100\n",
    "            #kernel size = (1,25)\n",
    "            #stride = 1\n",
    "            #padding = Same\n",
    "            #Relu\n",
    "            nn.Conv2d(2,100,kernel_size=(1,2),stride=1,padding='same'),\n",
    "            nn.ReLU(),\n",
    "            nn.BatchNorm2d(100)\n",
    "        )\n",
    "        self.l2 = nn.Sequential(\n",
    "            #in_channel = 100\n",
    "            #out_channel or Filter size = 100\n",
    "            #kernel size = (16,1)\n",
    "            #stride = 1\n",
    "            #padding = Valid\n",
    "            #Relu\n",
    "            nn.Conv2d(100,100,kernel_size=(1,2),stride=1,padding='valid'),\n",
    "            #nn.Conv2d(100,100,kernel_size=(64,1),stride=1,padding='valid'),\n",
    "            nn.ReLU(),\n",
    "            nn.BatchNorm2d(100)\n",
    "        )\n",
    "        self.l3 = nn.Sequential(\n",
    "            #in_channel = 100\n",
    "            #out_channel = 50\n",
    "            #kernel size = (1,30)\n",
    "            #stride = 1\n",
    "            #padding = Same\n",
    "            #Relu\n",
    "            nn.Conv2d(100,50,kernel_size=(1,30),stride=1,padding='same'),\n",
    "            nn.ReLU(),\n",
    "            nn.BatchNorm2d(50)\n",
    "        )\n",
    "        self.maxpooling1 = nn.MaxPool2d(kernel_size=(1,7),stride=5)\n",
    "        self.l4 = nn.Sequential(\n",
    "            #in_channel = 50\n",
    "            #out_channel = 50\n",
    "            #kernel size = (1,30)\n",
    "            #stride = 1\n",
    "            #padding = Same\n",
    "            #Relu\n",
    "            nn.Conv2d(50,50,kernel_size=(1,30),stride=1,padding='same'),\n",
    "            nn.ReLU(),\n",
    "            nn.BatchNorm2d(50)\n",
    "        )\n",
    "        self.maxpooling2 = nn.MaxPool2d(kernel_size=(1,3),stride=2)\n",
    "        \n",
    "\n",
    "        self.flatten = nn.Sequential(\n",
    "            nn.Flatten(),\n",
    "            nn.BatchNorm1d(4950),\n",
    "            nn.Dropout(0.15)\n",
    "        )\n",
    "        self.fc1 = nn.Sequential(\n",
    "            nn.Linear(4950,1024),\n",
    "            nn.ReLU(),\n",
    "            nn.BatchNorm1d(1024),\n",
    "            nn.Dropout(0.15)\n",
    "        )\n",
    "        self.fc2 = nn.Sequential(\n",
    "            nn.Linear(1024,512),\n",
    "            nn.ReLU(),\n",
    "            nn.BatchNorm1d(512),\n",
    "            nn.Dropout(0.15)\n",
    "        )\n",
    "        self.fc3 = nn.Sequential(\n",
    "            nn.Linear(512,256),\n",
    "            nn.ReLU(),\n",
    "            nn.BatchNorm1d(256),\n",
    "            nn.Dropout(0.15)\n",
    "        )\n",
    "        self.fc3 = nn.Sequential(\n",
    "            nn.Linear(512,256),\n",
    "            nn.ReLU(),\n",
    "            nn.BatchNorm1d(256),\n",
    "            nn.Dropout(0.15)\n",
    "        )\n",
    "        self.fc4 = nn.Sequential(\n",
    "            nn.Linear(256,128),\n",
    "            nn.ReLU(),\n",
    "            nn.BatchNorm1d(128),\n",
    "            nn.Dropout(0.15)\n",
    "        )\n",
    "        self.fc5 = nn.Sequential(\n",
    "            nn.Linear(128,64),\n",
    "            nn.ReLU(),\n",
    "            nn.BatchNorm1d(64),\n",
    "            nn.Dropout(0.15)\n",
    "        )\n",
    "        self.fc6 = nn.Sequential(\n",
    "            nn.Linear(64,32),\n",
    "            nn.ReLU(),\n",
    "            nn.BatchNorm1d(32),\n",
    "            nn.Dropout(0.15)\n",
    "        )\n",
    "        self.softmax = nn.Sequential(\n",
    "            nn.Linear(32,2),\n",
    "            nn.Softmax()\n",
    "        )\n",
    "    def forward(self,x):\n",
    "        \n",
    "        out = self.l1(x)\n",
    "        out = self.l2(out)\n",
    "        out = self.l3(out)\n",
    "        out = self.maxpooling1(out)\n",
    "        out = self.l4(out)\n",
    "        out = self.maxpooling2(out)\n",
    "        out = self.flatten(out)\n",
    "        out = self.fc1(out)\n",
    "        out = self.fc2(out)\n",
    "        out = self.fc3(out)\n",
    "        out = self.fc4(out)\n",
    "        out = self.fc5(out)\n",
    "        out = self.fc6(out)\n",
    "        out = self.softmax(out)\n",
    "        return out"
   ]
  },
  {
   "cell_type": "code",
   "execution_count": 16,
   "id": "70ec6087-3a39-4b2b-853c-7721ae49088c",
   "metadata": {},
   "outputs": [
    {
     "name": "stdout",
     "output_type": "stream",
     "text": [
      "144 events found\n",
      "Event IDs: [1 2 4]\n",
      "Not setting metadata\n",
      "72 matching events found\n",
      "No baseline correction applied\n",
      "0 projection items activated\n",
      "Using data from preloaded Raw for 72 events and 1001 original time points ...\n",
      "0 bad epochs dropped\n",
      "(72, 2, 1001)\n",
      "train size (50, 2, 1, 1001) (50,)\n",
      "Test size (22, 2, 1, 1001) (22,)\n"
     ]
    },
    {
     "name": "stderr",
     "output_type": "stream",
     "text": [
      "/home/st122148/work/EEG-Motor-Imagery-Classification/common.py:487: RuntimeWarning: No matching events found for 3 (event id 3)\n",
      "  epochs = mne.Epochs(\n"
     ]
    }
   ],
   "source": [
    "#X = X[:, :,np.newaxis,:]\n",
    "batch_size =32\n",
    "X, y = eeg.get_X_y(raw)\n",
    "print(X.shape)\n",
    "y=y-1\n",
    "y\n",
    "X = X[:,:,np.newaxis,:]\n",
    "X_train, X_test, y_train, y_test = train_test_split(X, y, test_size=0.3)\n",
    "\n",
    "print('train size',X_train.shape, y_train.shape)\n",
    "print('Test size',X_test.shape, y_test.shape)\n",
    "\n",
    "train_loader = create_dataloader(X_train, y_train, batch_size=batch_size)\n",
    "test_loader = create_dataloader(X_test, y_test, batch_size=batch_size)\n",
    "\n",
    "num_step =math.ceil(len(train_loader.dataset) / batch_size)"
   ]
  },
  {
   "cell_type": "code",
   "execution_count": 18,
   "id": "1cfc6a1b-820c-461e-814e-6b58a6d353b1",
   "metadata": {},
   "outputs": [
    {
     "name": "stderr",
     "output_type": "stream",
     "text": [
      "\u001b[34m\u001b[1mwandb\u001b[0m: \u001b[33mWARNING\u001b[0m Calling wandb.login() after wandb.init() has no effect.\n"
     ]
    },
    {
     "data": {
      "text/html": [
       "Finishing last run (ID:215dnrci) before initializing another..."
      ],
      "text/plain": [
       "<IPython.core.display.HTML object>"
      ]
     },
     "metadata": {},
     "output_type": "display_data"
    },
    {
     "data": {
      "text/html": [
       "Waiting for W&B process to finish... <strong style=\"color:green\">(success).</strong>"
      ],
      "text/plain": [
       "<IPython.core.display.HTML object>"
      ]
     },
     "metadata": {},
     "output_type": "display_data"
    },
    {
     "data": {
      "application/vnd.jupyter.widget-view+json": {
       "model_id": "",
       "version_major": 2,
       "version_minor": 0
      },
      "text/plain": [
       "VBox(children=(Label(value='0.001 MB of 0.001 MB uploaded (0.000 MB deduped)\\r'), FloatProgress(value=1.0, max…"
      ]
     },
     "metadata": {},
     "output_type": "display_data"
    },
    {
     "data": {
      "text/html": [
       "Synced <strong style=\"color:#cdcd00\">OurData_gamenet_2ch_2class</strong>: <a href=\"https://wandb.ai/nutapol-1997/Motor-Imagery/runs/215dnrci\" target=\"_blank\">https://wandb.ai/nutapol-1997/Motor-Imagery/runs/215dnrci</a><br/>Synced 5 W&B file(s), 0 media file(s), 0 artifact file(s) and 0 other file(s)"
      ],
      "text/plain": [
       "<IPython.core.display.HTML object>"
      ]
     },
     "metadata": {},
     "output_type": "display_data"
    },
    {
     "data": {
      "text/html": [
       "Find logs at: <code>./wandb/run-20220920_155342-215dnrci/logs</code>"
      ],
      "text/plain": [
       "<IPython.core.display.HTML object>"
      ]
     },
     "metadata": {},
     "output_type": "display_data"
    },
    {
     "data": {
      "text/html": [
       "Successfully finished last run (ID:215dnrci). Initializing new run:<br/>"
      ],
      "text/plain": [
       "<IPython.core.display.HTML object>"
      ]
     },
     "metadata": {},
     "output_type": "display_data"
    },
    {
     "data": {
      "application/vnd.jupyter.widget-view+json": {
       "model_id": "01e0cf43980746bd9a2af541c96aab1b",
       "version_major": 2,
       "version_minor": 0
      },
      "text/plain": [
       "VBox(children=(Label(value='Waiting for wandb.init()...\\r'), FloatProgress(value=0.0333390474319458, max=1.0))…"
      ]
     },
     "metadata": {},
     "output_type": "display_data"
    },
    {
     "data": {
      "text/html": [
       "Tracking run with wandb version 0.13.3"
      ],
      "text/plain": [
       "<IPython.core.display.HTML object>"
      ]
     },
     "metadata": {},
     "output_type": "display_data"
    },
    {
     "data": {
      "text/html": [
       "Run data is saved locally in <code>/home/st122148/work/EEG-Motor-Imagery-Classification/wandb/run-20220920_160240-38a8mb7x</code>"
      ],
      "text/plain": [
       "<IPython.core.display.HTML object>"
      ]
     },
     "metadata": {},
     "output_type": "display_data"
    },
    {
     "data": {
      "text/html": [
       "Syncing run <strong><a href=\"https://wandb.ai/nutapol-1997/Motor-Imagery/runs/38a8mb7x\" target=\"_blank\">OurData_gamenet_2ch_2class</a></strong> to <a href=\"https://wandb.ai/nutapol-1997/Motor-Imagery\" target=\"_blank\">Weights & Biases</a> (<a href=\"https://wandb.me/run\" target=\"_blank\">docs</a>)<br/>"
      ],
      "text/plain": [
       "<IPython.core.display.HTML object>"
      ]
     },
     "metadata": {},
     "output_type": "display_data"
    },
    {
     "name": "stdout",
     "output_type": "stream",
     "text": [
      "2\n"
     ]
    }
   ],
   "source": [
    "import wandb\n",
    "wandb.login()\n",
    "wand = wandb.init(\n",
    "        \n",
    "      # Set the project where this run will be logged\n",
    "      project=\"Motor-Imagery\", \n",
    "      # We pass a run name (otherwise it’ll be randomly assigned, like sunshine-lollypop-10)\n",
    "      name=f\"OurData_gamenet_2ch_2class\", \n",
    "      # Track hyperparameters and run metadata\n",
    "      config={\n",
    "      \"learning_rate\": 0.00001,\n",
    "      \"architecture\": \"gamenet\",\n",
    "      \"dataset\": \"Nutapol T.\",\n",
    "      \"epochs\": 10000,\n",
    "      \"weightname\":\"OurData_S004_GAMENET_2ch_2class_IM\",\n",
    "      \"num_step_per_epoch\" : num_step, \n",
    "        \n",
    "      }\n",
    "    )\n",
    "config = wand.config\n",
    "print(config.num_step_per_epoch)\n"
   ]
  },
  {
   "cell_type": "code",
   "execution_count": 19,
   "id": "4ad5c4cd-1544-4e82-ac0e-52722a6041b8",
   "metadata": {},
   "outputs": [],
   "source": [
    "from common import train"
   ]
  },
  {
   "cell_type": "code",
   "execution_count": null,
   "id": "92ad7a46-ab03-4407-8ce5-de691c7cb81d",
   "metadata": {},
   "outputs": [],
   "source": []
  },
  {
   "cell_type": "code",
   "execution_count": null,
   "id": "7d2142f5-a712-496d-b1fd-b9b1767f03b0",
   "metadata": {},
   "outputs": [
    {
     "name": "stderr",
     "output_type": "stream",
     "text": [
      "/opt/conda/lib/python3.9/site-packages/torch/nn/modules/conv.py:442: UserWarning: Using padding='same' with even kernel lengths and odd dilation may require a zero-padded copy of the input be created (Triggered internally at  ../aten/src/ATen/native/Convolution.cpp:647.)\n",
      "  return F.conv2d(input, weight, bias, self.stride,\n",
      "/opt/conda/lib/python3.9/site-packages/torch/nn/modules/container.py:141: UserWarning: Implicit dimension choice for softmax has been deprecated. Change the call to include dim=X as an argument.\n",
      "  input = module(input)\n"
     ]
    },
    {
     "name": "stdout",
     "output_type": "stream",
     "text": [
      "Epoch 1/10000, Tr Loss: 0.7740, Tr Acc: 44.0000, Val Loss: 0.6965, Val Acc: 45.4545\n",
      "Epoch 101/10000, Tr Loss: 0.4591, Tr Acc: 94.0000, Val Loss: 0.4160, Val Acc: 95.4545\n",
      "Epoch 201/10000, Tr Loss: 0.4762, Tr Acc: 94.0000, Val Loss: 0.3902, Val Acc: 100.0000\n",
      "Epoch 301/10000, Tr Loss: 0.3803, Tr Acc: 100.0000, Val Loss: 0.3959, Val Acc: 100.0000\n",
      "Epoch 401/10000, Tr Loss: 0.4311, Tr Acc: 92.0000, Val Loss: 0.3955, Val Acc: 95.4545\n",
      "Epoch 501/10000, Tr Loss: 0.3776, Tr Acc: 98.0000, Val Loss: 0.4374, Val Acc: 86.3636\n",
      "Epoch 601/10000, Tr Loss: 0.4051, Tr Acc: 96.0000, Val Loss: 0.3721, Val Acc: 95.4545\n",
      "Epoch 701/10000, Tr Loss: 0.3923, Tr Acc: 94.0000, Val Loss: 0.4048, Val Acc: 90.9091\n",
      "Epoch 801/10000, Tr Loss: 0.4531, Tr Acc: 88.0000, Val Loss: 0.3905, Val Acc: 90.9091\n",
      "Epoch 901/10000, Tr Loss: 0.4479, Tr Acc: 86.0000, Val Loss: 0.3688, Val Acc: 95.4545\n",
      "Epoch 1001/10000, Tr Loss: 0.3667, Tr Acc: 96.0000, Val Loss: 0.3736, Val Acc: 95.4545\n",
      "Epoch 1101/10000, Tr Loss: 0.3958, Tr Acc: 92.0000, Val Loss: 0.3928, Val Acc: 90.9091\n",
      "Epoch 1201/10000, Tr Loss: 0.3667, Tr Acc: 96.0000, Val Loss: 0.4055, Val Acc: 90.9091\n",
      "Epoch 1301/10000, Tr Loss: 0.3987, Tr Acc: 92.0000, Val Loss: 0.4192, Val Acc: 90.9091\n",
      "Epoch 1401/10000, Tr Loss: 0.3582, Tr Acc: 96.0000, Val Loss: 0.4143, Val Acc: 90.9091\n",
      "Epoch 1501/10000, Tr Loss: 0.3461, Tr Acc: 98.0000, Val Loss: 0.4749, Val Acc: 81.8182\n",
      "Epoch 1601/10000, Tr Loss: 0.3590, Tr Acc: 96.0000, Val Loss: 0.4086, Val Acc: 90.9091\n",
      "Epoch 1701/10000, Tr Loss: 0.3447, Tr Acc: 98.0000, Val Loss: 0.4237, Val Acc: 86.3636\n",
      "Epoch 1801/10000, Tr Loss: 0.3806, Tr Acc: 94.0000, Val Loss: 0.4164, Val Acc: 90.9091\n",
      "Epoch 1901/10000, Tr Loss: 0.3318, Tr Acc: 100.0000, Val Loss: 0.4045, Val Acc: 90.9091\n",
      "Epoch 2001/10000, Tr Loss: 0.3678, Tr Acc: 96.0000, Val Loss: 0.4549, Val Acc: 86.3636\n",
      "Epoch 2101/10000, Tr Loss: 0.4148, Tr Acc: 92.0000, Val Loss: 0.4128, Val Acc: 90.9091\n",
      "Epoch 2201/10000, Tr Loss: 0.3293, Tr Acc: 98.0000, Val Loss: 0.4174, Val Acc: 90.9091\n",
      "Epoch 2301/10000, Tr Loss: 0.3233, Tr Acc: 100.0000, Val Loss: 0.4092, Val Acc: 90.9091\n",
      "Epoch 2401/10000, Tr Loss: 0.3426, Tr Acc: 98.0000, Val Loss: 0.4029, Val Acc: 90.9091\n",
      "Epoch 2501/10000, Tr Loss: 0.3408, Tr Acc: 100.0000, Val Loss: 0.4653, Val Acc: 81.8182\n",
      "Epoch 2601/10000, Tr Loss: 0.3267, Tr Acc: 100.0000, Val Loss: 0.4638, Val Acc: 86.3636\n",
      "Epoch 2701/10000, Tr Loss: 0.3422, Tr Acc: 98.0000, Val Loss: 0.4652, Val Acc: 81.8182\n",
      "Epoch 2801/10000, Tr Loss: 0.3249, Tr Acc: 100.0000, Val Loss: 0.4096, Val Acc: 90.9091\n",
      "Epoch 2901/10000, Tr Loss: 0.3250, Tr Acc: 100.0000, Val Loss: 0.4521, Val Acc: 86.3636\n",
      "Epoch 3001/10000, Tr Loss: 0.3596, Tr Acc: 96.0000, Val Loss: 0.4083, Val Acc: 90.9091\n",
      "Epoch 3101/10000, Tr Loss: 0.3431, Tr Acc: 98.0000, Val Loss: 0.4092, Val Acc: 90.9091\n",
      "Epoch 3201/10000, Tr Loss: 0.3530, Tr Acc: 98.0000, Val Loss: 0.4970, Val Acc: 81.8182\n",
      "Epoch 3301/10000, Tr Loss: 0.3398, Tr Acc: 98.0000, Val Loss: 0.4213, Val Acc: 90.9091\n",
      "Epoch 3401/10000, Tr Loss: 0.3184, Tr Acc: 100.0000, Val Loss: 0.4652, Val Acc: 86.3636\n",
      "Epoch 3501/10000, Tr Loss: 0.3169, Tr Acc: 100.0000, Val Loss: 0.4509, Val Acc: 86.3636\n",
      "Epoch 3601/10000, Tr Loss: 0.3704, Tr Acc: 94.0000, Val Loss: 0.4551, Val Acc: 86.3636\n",
      "Epoch 3701/10000, Tr Loss: 0.3169, Tr Acc: 100.0000, Val Loss: 0.4718, Val Acc: 81.8182\n",
      "Epoch 3801/10000, Tr Loss: 0.3247, Tr Acc: 100.0000, Val Loss: 0.4197, Val Acc: 90.9091\n",
      "Epoch 3901/10000, Tr Loss: 0.3190, Tr Acc: 100.0000, Val Loss: 0.4930, Val Acc: 81.8182\n",
      "Epoch 4001/10000, Tr Loss: 0.3164, Tr Acc: 100.0000, Val Loss: 0.4947, Val Acc: 81.8182\n",
      "Epoch 4101/10000, Tr Loss: 0.3446, Tr Acc: 98.0000, Val Loss: 0.4386, Val Acc: 86.3636\n",
      "Epoch 4201/10000, Tr Loss: 0.3159, Tr Acc: 100.0000, Val Loss: 0.4961, Val Acc: 81.8182\n",
      "Epoch 4301/10000, Tr Loss: 0.3440, Tr Acc: 98.0000, Val Loss: 0.4436, Val Acc: 86.3636\n",
      "Epoch 4401/10000, Tr Loss: 0.3181, Tr Acc: 100.0000, Val Loss: 0.3802, Val Acc: 95.4545\n",
      "Epoch 4501/10000, Tr Loss: 0.3161, Tr Acc: 100.0000, Val Loss: 0.4946, Val Acc: 81.8182\n",
      "Epoch 4601/10000, Tr Loss: 0.3163, Tr Acc: 100.0000, Val Loss: 0.4503, Val Acc: 86.3636\n",
      "Epoch 4701/10000, Tr Loss: 0.3186, Tr Acc: 100.0000, Val Loss: 0.4945, Val Acc: 81.8182\n",
      "Epoch 4801/10000, Tr Loss: 0.3154, Tr Acc: 100.0000, Val Loss: 0.4960, Val Acc: 81.8182\n",
      "Epoch 4901/10000, Tr Loss: 0.3578, Tr Acc: 96.0000, Val Loss: 0.4941, Val Acc: 81.8182\n",
      "Epoch 5001/10000, Tr Loss: 0.3243, Tr Acc: 98.0000, Val Loss: 0.4954, Val Acc: 81.8182\n",
      "Epoch 5101/10000, Tr Loss: 0.3158, Tr Acc: 100.0000, Val Loss: 0.4466, Val Acc: 86.3636\n",
      "Epoch 5201/10000, Tr Loss: 0.3949, Tr Acc: 94.0000, Val Loss: 0.4385, Val Acc: 86.3636\n"
     ]
    }
   ],
   "source": [
    "net = gamenet().cuda(0)\n",
    "optimizer = optim.Adam(net.parameters(), lr=config.learning_rate)\n",
    "criterion = nn.CrossEntropyLoss()\n",
    "\n",
    "\n",
    "train_loss,valid_loss,train_accuracy,valid_accuracy =train(\n",
    "    model = net,\n",
    "    gpu_num = 0,\n",
    "    train_loader = train_loader,\n",
    "    test_loader = test_loader,\n",
    "    optimizer = optimizer  ,\n",
    "    criterion = criterion ,\n",
    "    wand = wand\n",
    "         )\n",
    "\n",
    "\n",
    "wandb.alert(\n",
    "            title='Finish',\n",
    "            text=f'Finishing training',\n",
    "        )"
   ]
  },
  {
   "cell_type": "code",
   "execution_count": null,
   "id": "72400789-60e3-41a1-9aa9-e7e58caa573d",
   "metadata": {},
   "outputs": [],
   "source": []
  },
  {
   "cell_type": "code",
   "execution_count": null,
   "id": "37d11b35-7b36-41c5-96bb-b18f3f9e850c",
   "metadata": {},
   "outputs": [],
   "source": []
  }
 ],
 "metadata": {
  "kernelspec": {
   "display_name": "Python 3 (ipykernel)",
   "language": "python",
   "name": "python3"
  },
  "language_info": {
   "codemirror_mode": {
    "name": "ipython",
    "version": 3
   },
   "file_extension": ".py",
   "mimetype": "text/x-python",
   "name": "python",
   "nbconvert_exporter": "python",
   "pygments_lexer": "ipython3",
   "version": "3.9.7"
  }
 },
 "nbformat": 4,
 "nbformat_minor": 5
}
