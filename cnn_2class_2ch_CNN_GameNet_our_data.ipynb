{
 "cells": [
  {
   "cell_type": "code",
   "execution_count": 1,
   "id": "361b73c4-742d-45c8-b907-565f103ec804",
   "metadata": {},
   "outputs": [],
   "source": [
    "import os\n",
    "#comment this if you are not using puffer?\n",
    "os.environ['http_proxy'] = 'http://192.41.170.23:3128'\n",
    "os.environ['https_proxy'] = 'http://192.41.170.23:3128'"
   ]
  },
  {
   "cell_type": "code",
   "execution_count": 2,
   "id": "9c98b0ee-e674-429f-a390-d664ef22eeb8",
   "metadata": {},
   "outputs": [
    {
     "name": "stderr",
     "output_type": "stream",
     "text": [
      "/home/nutapolt/.local/lib/python3.8/site-packages/tqdm/auto.py:22: TqdmWarning: IProgress not found. Please update jupyter and ipywidgets. See https://ipywidgets.readthedocs.io/en/stable/user_install.html\n",
      "  from .autonotebook import tqdm as notebook_tqdm\n"
     ]
    }
   ],
   "source": [
    "import numpy as np\n",
    "import matplotlib.pyplot as plt\n",
    "import mne\n",
    "import os\n",
    "import sys\n",
    "from mne.datasets import eegbci\n",
    "import glob\n",
    "from IPython.display import clear_output\n",
    "import numpy as np\n",
    "import torch\n",
    "from torch import nn\n",
    "import torch.optim as optim\n",
    "\n",
    "from mne.datasets import eegbci\n",
    "from sklearn.model_selection import train_test_split\n",
    "from torch.utils.data import TensorDataset\n",
    "from torch.utils.data import DataLoader\n",
    "from scipy import signal\n",
    "\n",
    "import torch\n",
    "import torch.cuda as cuda\n",
    "import torch.nn as nn\n",
    "from torch.autograd import Variable\n",
    "import math\n"
   ]
  },
  {
   "cell_type": "code",
   "execution_count": 3,
   "id": "ac7f0904-0005-4184-93fc-3f0bd2cd815e",
   "metadata": {},
   "outputs": [
    {
     "data": {
      "text/plain": [
       "True"
      ]
     },
     "execution_count": 3,
     "metadata": {},
     "output_type": "execute_result"
    }
   ],
   "source": [
    "torch.cuda.is_available()"
   ]
  },
  {
   "cell_type": "code",
   "execution_count": 4,
   "id": "1b75684e-46b1-4b7a-9d2b-f77dddfd943b",
   "metadata": {},
   "outputs": [],
   "source": [
    "from common import EEG_fif\n",
    "from common import create_dataloader"
   ]
  },
  {
   "cell_type": "code",
   "execution_count": 10,
   "id": "9c66b031-4c3d-4b03-8c50-90c2d4e2573a",
   "metadata": {},
   "outputs": [
    {
     "name": "stdout",
     "output_type": "stream",
     "text": [
      "\n",
      "\n"
     ]
    },
    {
     "name": "stderr",
     "output_type": "stream",
     "text": [
      "/home/nutapolt/eeg_mi/common.py:470: RuntimeWarning: This filename (S006/S006R03.fif) does not conform to MNE naming conventions. All raw files should end with raw.fif, raw_sss.fif, raw_tsss.fif, _meg.fif, _eeg.fif, _ieeg.fif, raw.fif.gz, raw_sss.fif.gz, raw_tsss.fif.gz, _meg.fif.gz, _eeg.fif.gz or _ieeg.fif.gz\n",
      "  raw = mne.io.read_raw_fif( path_file , preload=True, verbose='WARNING' )\n",
      "/home/nutapolt/eeg_mi/common.py:470: RuntimeWarning: This filename (S006/S006R04.fif) does not conform to MNE naming conventions. All raw files should end with raw.fif, raw_sss.fif, raw_tsss.fif, _meg.fif, _eeg.fif, _ieeg.fif, raw.fif.gz, raw_sss.fif.gz, raw_tsss.fif.gz, _meg.fif.gz, _eeg.fif.gz or _ieeg.fif.gz\n",
      "  raw = mne.io.read_raw_fif( path_file , preload=True, verbose='WARNING' )\n",
      "/home/nutapolt/eeg_mi/common.py:470: RuntimeWarning: This filename (S006/S006R07.fif) does not conform to MNE naming conventions. All raw files should end with raw.fif, raw_sss.fif, raw_tsss.fif, _meg.fif, _eeg.fif, _ieeg.fif, raw.fif.gz, raw_sss.fif.gz, raw_tsss.fif.gz, _meg.fif.gz, _eeg.fif.gz or _ieeg.fif.gz\n",
      "  raw = mne.io.read_raw_fif( path_file , preload=True, verbose='WARNING' )\n",
      "/home/nutapolt/eeg_mi/common.py:470: RuntimeWarning: This filename (S006/S006R08.fif) does not conform to MNE naming conventions. All raw files should end with raw.fif, raw_sss.fif, raw_tsss.fif, _meg.fif, _eeg.fif, _ieeg.fif, raw.fif.gz, raw_sss.fif.gz, raw_tsss.fif.gz, _meg.fif.gz, _eeg.fif.gz or _ieeg.fif.gz\n",
      "  raw = mne.io.read_raw_fif( path_file , preload=True, verbose='WARNING' )\n",
      "/home/nutapolt/eeg_mi/common.py:470: RuntimeWarning: This filename (S006/S006R11.fif) does not conform to MNE naming conventions. All raw files should end with raw.fif, raw_sss.fif, raw_tsss.fif, _meg.fif, _eeg.fif, _ieeg.fif, raw.fif.gz, raw_sss.fif.gz, raw_tsss.fif.gz, _meg.fif.gz, _eeg.fif.gz or _ieeg.fif.gz\n",
      "  raw = mne.io.read_raw_fif( path_file , preload=True, verbose='WARNING' )\n",
      "/home/nutapolt/eeg_mi/common.py:470: RuntimeWarning: This filename (S006/S006R12.fif) does not conform to MNE naming conventions. All raw files should end with raw.fif, raw_sss.fif, raw_tsss.fif, _meg.fif, _eeg.fif, _ieeg.fif, raw.fif.gz, raw_sss.fif.gz, raw_tsss.fif.gz, _meg.fif.gz, _eeg.fif.gz or _ieeg.fif.gz\n",
      "  raw = mne.io.read_raw_fif( path_file , preload=True, verbose='WARNING' )\n",
      "/home/nutapolt/eeg_mi/common.py:470: RuntimeWarning: This filename (S006/S006R03.fif) does not conform to MNE naming conventions. All raw files should end with raw.fif, raw_sss.fif, raw_tsss.fif, _meg.fif, _eeg.fif, _ieeg.fif, raw.fif.gz, raw_sss.fif.gz, raw_tsss.fif.gz, _meg.fif.gz, _eeg.fif.gz or _ieeg.fif.gz\n",
      "  raw = mne.io.read_raw_fif( path_file , preload=True, verbose='WARNING' )\n",
      "/home/nutapolt/eeg_mi/common.py:470: RuntimeWarning: This filename (S006/S006R04.fif) does not conform to MNE naming conventions. All raw files should end with raw.fif, raw_sss.fif, raw_tsss.fif, _meg.fif, _eeg.fif, _ieeg.fif, raw.fif.gz, raw_sss.fif.gz, raw_tsss.fif.gz, _meg.fif.gz, _eeg.fif.gz or _ieeg.fif.gz\n",
      "  raw = mne.io.read_raw_fif( path_file , preload=True, verbose='WARNING' )\n",
      "/home/nutapolt/eeg_mi/common.py:470: RuntimeWarning: This filename (S006/S006R07.fif) does not conform to MNE naming conventions. All raw files should end with raw.fif, raw_sss.fif, raw_tsss.fif, _meg.fif, _eeg.fif, _ieeg.fif, raw.fif.gz, raw_sss.fif.gz, raw_tsss.fif.gz, _meg.fif.gz, _eeg.fif.gz or _ieeg.fif.gz\n",
      "  raw = mne.io.read_raw_fif( path_file , preload=True, verbose='WARNING' )\n",
      "/home/nutapolt/eeg_mi/common.py:470: RuntimeWarning: This filename (S006/S006R08.fif) does not conform to MNE naming conventions. All raw files should end with raw.fif, raw_sss.fif, raw_tsss.fif, _meg.fif, _eeg.fif, _ieeg.fif, raw.fif.gz, raw_sss.fif.gz, raw_tsss.fif.gz, _meg.fif.gz, _eeg.fif.gz or _ieeg.fif.gz\n",
      "  raw = mne.io.read_raw_fif( path_file , preload=True, verbose='WARNING' )\n",
      "/home/nutapolt/eeg_mi/common.py:470: RuntimeWarning: This filename (S006/S006R11.fif) does not conform to MNE naming conventions. All raw files should end with raw.fif, raw_sss.fif, raw_tsss.fif, _meg.fif, _eeg.fif, _ieeg.fif, raw.fif.gz, raw_sss.fif.gz, raw_tsss.fif.gz, _meg.fif.gz, _eeg.fif.gz or _ieeg.fif.gz\n",
      "  raw = mne.io.read_raw_fif( path_file , preload=True, verbose='WARNING' )\n",
      "/home/nutapolt/eeg_mi/common.py:470: RuntimeWarning: This filename (S006/S006R12.fif) does not conform to MNE naming conventions. All raw files should end with raw.fif, raw_sss.fif, raw_tsss.fif, _meg.fif, _eeg.fif, _ieeg.fif, raw.fif.gz, raw_sss.fif.gz, raw_tsss.fif.gz, _meg.fif.gz, _eeg.fif.gz or _ieeg.fif.gz\n",
      "  raw = mne.io.read_raw_fif( path_file , preload=True, verbose='WARNING' )\n"
     ]
    },
    {
     "name": "stdout",
     "output_type": "stream",
     "text": [
      "Raw done\n",
      "Setting up band-stop filter\n",
      "\n",
      "FIR filter parameters\n",
      "---------------------\n",
      "Designing a one-pass, zero-phase, non-causal bandstop filter:\n",
      "- Windowed time-domain design (firwin) method\n",
      "- Hamming window with 0.0194 passband ripple and 53 dB stopband attenuation\n",
      "- Lower transition bandwidth: 0.50 Hz\n",
      "- Upper transition bandwidth: 0.50 Hz\n",
      "- Filter length: 1651 samples (6.604 sec)\n",
      "\n",
      "Filter done\n",
      "Filtering raw data in 6 contiguous segments\n",
      "Setting up band-pass filter from 7 - 30 Hz\n",
      "\n",
      "FIR filter parameters\n",
      "---------------------\n",
      "Designing a one-pass, zero-phase, non-causal bandpass filter:\n",
      "- Windowed time-domain design (firwin) method\n",
      "- Hamming window with 0.0194 passband ripple and 53 dB stopband attenuation\n",
      "- Lower passband edge: 7.00\n",
      "- Lower transition bandwidth: 2.00 Hz (-6 dB cutoff frequency: 6.00 Hz)\n",
      "- Upper passband edge: 30.00 Hz\n",
      "- Upper transition bandwidth: 7.50 Hz (-6 dB cutoff frequency: 33.75 Hz)\n",
      "- Filter length: 413 samples (1.652 sec)\n",
      "\n"
     ]
    },
    {
     "name": "stderr",
     "output_type": "stream",
     "text": [
      "[Parallel(n_jobs=1)]: Using backend SequentialBackend with 1 concurrent workers.\n",
      "[Parallel(n_jobs=1)]: Done   1 out of   1 | elapsed:    0.0s remaining:    0.0s\n",
      "[Parallel(n_jobs=1)]: Done   2 out of   2 | elapsed:    0.0s remaining:    0.0s\n",
      "[Parallel(n_jobs=1)]: Done   2 out of   2 | elapsed:    0.0s finished\n",
      "[Parallel(n_jobs=1)]: Using backend SequentialBackend with 1 concurrent workers.\n",
      "[Parallel(n_jobs=1)]: Done   1 out of   1 | elapsed:    0.0s remaining:    0.0s\n",
      "[Parallel(n_jobs=1)]: Done   2 out of   2 | elapsed:    0.0s remaining:    0.0s\n",
      "[Parallel(n_jobs=1)]: Done   2 out of   2 | elapsed:    0.0s finished\n"
     ]
    }
   ],
   "source": [
    "# home directory + datasets folder\n",
    "#path = '/content/drive/MyDrive/MNE-eegbci-data/files/eegmmidb/'\n",
    "path = ''\n",
    "base_url = 'https://physionet.org/files/eegmmidb/'\n",
    "# subjects = [1]\n",
    "runs = [3, 4, 7, 8, 11, 12]\n",
    "#runs = [3,5,7]\n",
    "subjects = [i for i in range(6,7)]\n",
    "#subjects = [1]\n",
    "#runs = [6,10,14]\n",
    "print(path)\n",
    "eeg = EEG_fif(path, base_url, subjects, runs)\n",
    "raw=eeg.data_to_raw()\n",
    "\n",
    "print(\"Raw done\")\n",
    "# apply filter\n",
    "\n",
    "\n",
    "\n",
    "raw=raw.notch_filter(np.arange(50, 125, 50))\n",
    "\n",
    "print(\"Filter done\")\n",
    "#raw=eeg.raw_ica()\n",
    "\n",
    "raw=raw.filter( 7,30, method='fir', verbose=20)\n",
    "\n"
   ]
  },
  {
   "cell_type": "code",
   "execution_count": 11,
   "id": "05d1c640-12c5-49ec-80f0-8890ec4c5462",
   "metadata": {},
   "outputs": [
    {
     "name": "stdout",
     "output_type": "stream",
     "text": [
      "Effective window size : 8.192 (s)\n"
     ]
    },
    {
     "name": "stderr",
     "output_type": "stream",
     "text": [
      "[Parallel(n_jobs=1)]: Using backend SequentialBackend with 1 concurrent workers.\n",
      "[Parallel(n_jobs=1)]: Done   1 out of   1 | elapsed:    0.0s remaining:    0.0s\n",
      "[Parallel(n_jobs=1)]: Done   1 out of   1 | elapsed:    0.0s finished\n"
     ]
    },
    {
     "data": {
      "image/png": "[encoded data removed]",
      "text/plain": [
       "<MNELineFigure size 1000x350 with 2 Axes>"
      ]
     },
     "metadata": {},
     "output_type": "display_data"
    },
    {
     "data": {
      "image/png": "[encoded data removed]",
      "text/plain": [
       "<MNELineFigure size 1000x350 with 2 Axes>"
      ]
     },
     "execution_count": 11,
     "metadata": {},
     "output_type": "execute_result"
    }
   ],
   "source": [
    "eeg.raw.plot_psd()"
   ]
  },
  {
   "cell_type": "code",
   "execution_count": 13,
   "id": "a230de8a-3651-4dd8-834f-060482bfe81c",
   "metadata": {},
   "outputs": [
    {
     "name": "stdout",
     "output_type": "stream",
     "text": [
      "360 events found\n",
      "Event IDs: [1 2 4]\n",
      "Not setting metadata\n",
      "180 matching events found\n",
      "Applying baseline correction (mode: mean)\n",
      "0 projection items activated\n",
      "Using data from preloaded Raw for 180 events and 1501 original time points ...\n",
      "6 bad epochs dropped\n"
     ]
    },
    {
     "name": "stderr",
     "output_type": "stream",
     "text": [
      "/home/nutapolt/eeg_mi/common.py:500: RuntimeWarning: No matching events found for 3 (event id 3)\n",
      "  epochs = mne.Epochs(\n"
     ]
    }
   ],
   "source": [
    "epochs=eeg.epochs_visu(raw,tmin=-2)"
   ]
  },
  {
   "cell_type": "code",
   "execution_count": 15,
   "id": "eeb0f3ae-0df7-484d-8e41-62e49a05b080",
   "metadata": {},
   "outputs": [
    {
     "name": "stdout",
     "output_type": "stream",
     "text": [
      "(174, 2, 1501)\n"
     ]
    },
    {
     "data": {
      "text/plain": [
       "array([1, 0, 1, 0, 1, 0, 1, 0, 1, 0, 1, 0, 1, 0, 1, 0, 1, 0, 1, 0, 1, 0,\n",
       "       1, 0, 1, 0, 1, 0, 1, 1, 0, 1, 0, 1, 0, 1, 0, 1, 0, 1, 0, 1, 0, 1,\n",
       "       0, 1, 0, 1, 0, 1, 0, 1, 0, 1, 0, 1, 0, 1, 1, 0, 1, 0, 1, 0, 1, 0,\n",
       "       1, 0, 1, 0, 1, 0, 1, 0, 1, 0, 1, 0, 1, 0, 1, 0, 1, 0, 1, 0, 1, 1,\n",
       "       0, 1, 0, 1, 0, 1, 0, 1, 0, 1, 0, 1, 0, 1, 0, 1, 0, 1, 0, 1, 0, 1,\n",
       "       0, 1, 0, 1, 0, 1, 1, 0, 1, 0, 1, 0, 1, 0, 1, 0, 1, 0, 1, 0, 1, 0,\n",
       "       1, 0, 1, 0, 1, 0, 1, 0, 1, 0, 1, 0, 1, 1, 0, 1, 0, 1, 0, 1, 0, 1,\n",
       "       0, 1, 0, 1, 0, 1, 0, 1, 0, 1, 0, 1, 0, 1, 0, 1, 0, 1, 0, 1])"
      ]
     },
     "execution_count": 15,
     "metadata": {},
     "output_type": "execute_result"
    }
   ],
   "source": [
    "#X = X[:, :,np.newaxis,:]\n",
    "X, y = eeg.get_X_y(epochs)\n",
    "print(X.shape)\n",
    "y=y-1\n",
    "y"
   ]
  },
  {
   "cell_type": "code",
   "execution_count": 16,
   "id": "36138a5b-8974-498f-b712-4da295552b7b",
   "metadata": {},
   "outputs": [
    {
     "name": "stdout",
     "output_type": "stream",
     "text": [
      "train size (121, 2, 1501) (121,)\n",
      "Test size (53, 2, 1501) (53,)\n"
     ]
    }
   ],
   "source": [
    "X_train, X_test, y_train, y_test = train_test_split(X, y, test_size=0.3,stratify=y)\n",
    "\n",
    "print('train size',X_train.shape, y_train.shape)\n",
    "print('Test size',X_test.shape, y_test.shape)"
   ]
  },
  {
   "cell_type": "code",
   "execution_count": 17,
   "id": "3d0b5c85-1d11-49f3-bc46-0650dd6b810c",
   "metadata": {},
   "outputs": [
    {
     "data": {
      "text/plain": [
       "array([0, 0, 1, 0, 0, 1, 0, 1, 0, 1, 1, 1, 1, 0, 0, 1, 0, 0, 1, 1, 1, 0,\n",
       "       0, 0, 0, 0, 1, 1, 0, 0, 1, 0, 1, 0, 1, 1, 0, 0, 0, 1, 0, 1, 1, 1,\n",
       "       0, 1, 1, 1, 1, 0, 0, 1, 1])"
      ]
     },
     "execution_count": 17,
     "metadata": {},
     "output_type": "execute_result"
    }
   ],
   "source": [
    "y_test"
   ]
  },
  {
   "cell_type": "code",
   "execution_count": 18,
   "id": "4bece4f5-7c27-497d-9ee0-bf4ba68fae50",
   "metadata": {},
   "outputs": [],
   "source": [
    "\n",
    "batch_size = 32\n",
    "\n",
    "train_loader = create_dataloader(X_train, y_train, batch_size=batch_size)\n",
    "test_loader = create_dataloader(X_test, y_test, batch_size=batch_size)\n",
    "\n",
    "num_step =math.ceil(len(train_loader.dataset) / batch_size)"
   ]
  },
  {
   "cell_type": "code",
   "execution_count": 25,
   "id": "16452627-8e5a-472e-83ae-6cf2c0309b6a",
   "metadata": {},
   "outputs": [],
   "source": [
    "# Convolutional neural network (two convolutional layers)\n",
    "class ConvNet(nn.Module):\n",
    "    def __init__(self):\n",
    "        super(ConvNet, self).__init__()\n",
    "        \n",
    "        #using sequential helps bind multiple operations together\n",
    "        self.layer1 = nn.Sequential(\n",
    "            #padding = (kernel_size - 1) / 2 = 2\n",
    "            nn.Conv1d(2, 64, kernel_size=5, stride=1, padding=2),\n",
    "            nn.BatchNorm1d(64),\n",
    "            nn.ReLU(),\n",
    "            # nn.MaxPool2d(kernel_size=2, stride=2)\n",
    "        )\n",
    "        self.layer2 = nn.Sequential(\n",
    "            nn.Conv1d(64, 128, kernel_size=5, stride=1, padding=2),\n",
    "            nn.BatchNorm1d(128),\n",
    "            nn.ReLU(),\n",
    "            # nn.MaxPool2d(kernel_size=2, stride=2)\n",
    "        )\n",
    "        self.fc = nn.Linear(192128, 2)\n",
    "        self.drop_out = nn.Dropout(0.5)\n",
    "        \n",
    "    def forward(self, x):\n",
    "        out = self.layer1(x)\n",
    "        out = self.drop_out(out)\n",
    "        out = self.layer2(out)\n",
    "        out = self.drop_out(out)\n",
    "        out = out.reshape(out.size(0), -1)   #can also use .view()\n",
    "        out = self.fc(out)\n",
    "        return out"
   ]
  },
  {
   "cell_type": "code",
   "execution_count": 26,
   "id": "4451a37b-9e83-44ae-ab95-5375ad56a5c3",
   "metadata": {},
   "outputs": [
    {
     "name": "stderr",
     "output_type": "stream",
     "text": [
      "\u001b[34m\u001b[1mwandb\u001b[0m: \u001b[33mWARNING\u001b[0m Calling wandb.login() after wandb.init() has no effect.\n"
     ]
    },
    {
     "data": {
      "text/plain": [
       "True"
      ]
     },
     "execution_count": 26,
     "metadata": {},
     "output_type": "execute_result"
    }
   ],
   "source": [
    "import wandb\n",
    "wandb.login()"
   ]
  },
  {
   "cell_type": "code",
   "execution_count": 35,
   "id": "3f7b67fe-a740-4c09-9665-3de9479c227a",
   "metadata": {},
   "outputs": [
    {
     "data": {
      "text/html": [
       "Finishing last run (ID:3and0k40) before initializing another..."
      ],
      "text/plain": [
       "<IPython.core.display.HTML object>"
      ]
     },
     "metadata": {},
     "output_type": "display_data"
    },
    {
     "data": {
      "text/html": [
       "Waiting for W&B process to finish... <strong style=\"color:green\">(success).</strong>"
      ],
      "text/plain": [
       "<IPython.core.display.HTML object>"
      ]
     },
     "metadata": {},
     "output_type": "display_data"
    },
    {
     "data": {
      "text/html": [
       "<style>\n",
       "    table.wandb td:nth-child(1) { padding: 0 10px; text-align: left ; width: auto;} td:nth-child(2) {text-align: left ; width: 100%}\n",
       "    .wandb-row { display: flex; flex-direction: row; flex-wrap: wrap; justify-content: flex-start; width: 100% }\n",
       "    .wandb-col { display: flex; flex-direction: column; flex-basis: 100%; flex: 1; padding: 10px; }\n",
       "    </style>\n",
       "<div class=\"wandb-row\"><div class=\"wandb-col\"><h3>Run history:</h3><br/><table class=\"wandb\"><tr><td>Test/Test_accuracy</td><td>▃▃▃▂█▃▂▅▃▅▁▇█▅▅▃▃▅▅▅▃█▁▃▅▃▅▃▃▆▃▅▃▂▃▅▅▅▇▆</td></tr><tr><td>Test/Test_loss</td><td>█▇█▇▅▇▅▄▅▄▄▆▄▅▄▃▆▆▅▅▃▃▂▂▃▂▂▃▂▂▆▃▁▄▄▅▃▂▃▁</td></tr><tr><td>train/train_accuracy</td><td>▁▂▁▃▃▃▄▄▄▅▆▅▆▆▆▆▇▆▆▆▇▇▇▇▇▇█▇████████████</td></tr><tr><td>train/train_loss</td><td>█▇█▇▇▇▇▆▇▆▆▅▆▅▅▅▄▅▄▄▄▄▄▃▄▄▄▄▃▂▃▄▃▂▃▂▂▁▁▁</td></tr></table><br/></div><div class=\"wandb-col\"><h3>Run summary:</h3><br/><table class=\"wandb\"><tr><td>Test/Test_accuracy</td><td>54.71698</td></tr><tr><td>Test/Test_loss</td><td>0.67633</td></tr><tr><td>train/train_accuracy</td><td>95.86777</td></tr><tr><td>train/train_loss</td><td>0.42088</td></tr></table><br/></div></div>"
      ],
      "text/plain": [
       "<IPython.core.display.HTML object>"
      ]
     },
     "metadata": {},
     "output_type": "display_data"
    },
    {
     "data": {
      "text/html": [
       "Synced <strong style=\"color:#cdcd00\">OurData_CNN_2ch_2class_NEW_EXS6</strong>: <a href=\"https://wandb.ai/nutapol-1997/Motor-Imagery/runs/3and0k40\" target=\"_blank\">https://wandb.ai/nutapol-1997/Motor-Imagery/runs/3and0k40</a><br/>Synced 5 W&B file(s), 0 media file(s), 0 artifact file(s) and 0 other file(s)"
      ],
      "text/plain": [
       "<IPython.core.display.HTML object>"
      ]
     },
     "metadata": {},
     "output_type": "display_data"
    },
    {
     "data": {
      "text/html": [
       "Find logs at: <code>./wandb/run-20221006_035157-3and0k40/logs</code>"
      ],
      "text/plain": [
       "<IPython.core.display.HTML object>"
      ]
     },
     "metadata": {},
     "output_type": "display_data"
    },
    {
     "data": {
      "text/html": [
       "Successfully finished last run (ID:3and0k40). Initializing new run:<br/>"
      ],
      "text/plain": [
       "<IPython.core.display.HTML object>"
      ]
     },
     "metadata": {},
     "output_type": "display_data"
    },
    {
     "data": {
      "text/html": [
       "wandb version 0.13.4 is available!  To upgrade, please run:\n",
       " $ pip install wandb --upgrade"
      ],
      "text/plain": [
       "<IPython.core.display.HTML object>"
      ]
     },
     "metadata": {},
     "output_type": "display_data"
    },
    {
     "data": {
      "text/html": [
       "Tracking run with wandb version 0.13.2"
      ],
      "text/plain": [
       "<IPython.core.display.HTML object>"
      ]
     },
     "metadata": {},
     "output_type": "display_data"
    },
    {
     "data": {
      "text/html": [
       "Run data is saved locally in <code>/home/nutapolt/eeg_mi/wandb/run-20221006_035234-3q8stq4j</code>"
      ],
      "text/plain": [
       "<IPython.core.display.HTML object>"
      ]
     },
     "metadata": {},
     "output_type": "display_data"
    },
    {
     "data": {
      "text/html": [
       "Syncing run <strong><a href=\"https://wandb.ai/nutapol-1997/Motor-Imagery/runs/3q8stq4j\" target=\"_blank\">OurData_CNN_2ch_2class_NEW_EXS6</a></strong> to <a href=\"https://wandb.ai/nutapol-1997/Motor-Imagery\" target=\"_blank\">Weights & Biases</a> (<a href=\"https://wandb.me/run\" target=\"_blank\">docs</a>)<br/>"
      ],
      "text/plain": [
       "<IPython.core.display.HTML object>"
      ]
     },
     "metadata": {},
     "output_type": "display_data"
    }
   ],
   "source": [
    "\n",
    "wand = wandb.init(\n",
    "        \n",
    "      # Set the project where this run will be logged\n",
    "      project=\"Motor-Imagery\", \n",
    "      # We pass a run name (otherwise it’ll be randomly assigned, like sunshine-lollypop-10)\n",
    "      name=f\"OurData_CNN_2ch_2class_NEW_EXS6\", \n",
    "      # Track hyperparameters and run metadata\n",
    "      config={\n",
    "      \"learning_rate\": 0.0000001,\n",
    "      \"architecture\": \"CNN\",\n",
    "      \"dataset\": \"NEW_\",\n",
    "      \"epochs\": 500000,\n",
    "      \"weightname\":\"OurData_S004_CNN_NEW_2ch_2class_EXS6\",\n",
    "      \"num_step_per_epoch\" : num_step, \n",
    "        \n",
    "      }\n",
    "    )\n",
    "\n"
   ]
  },
  {
   "cell_type": "code",
   "execution_count": 36,
   "id": "cd656ad4-86d1-4210-8a3b-b9bac330e2c5",
   "metadata": {},
   "outputs": [
    {
     "name": "stdout",
     "output_type": "stream",
     "text": [
      "4\n"
     ]
    }
   ],
   "source": [
    "config = wand.config\n",
    "print(config.num_step_per_epoch)"
   ]
  },
  {
   "cell_type": "code",
   "execution_count": 37,
   "id": "a525b620-d5df-49d8-953c-6edfbd571ff5",
   "metadata": {},
   "outputs": [],
   "source": [
    "from common import train"
   ]
  },
  {
   "cell_type": "code",
   "execution_count": 38,
   "id": "af3ab67d-3ffe-42b6-b58e-69c4eba04627",
   "metadata": {},
   "outputs": [
    {
     "name": "stdout",
     "output_type": "stream",
     "text": [
      "Epoch 1/500000, Tr Loss: 0.6875, Tr Acc: 51.2397, Val Loss: 0.6929, Val Acc: 50.9434\n",
      "Epoch 101/500000, Tr Loss: 0.6798, Tr Acc: 59.5041, Val Loss: 0.7082, Val Acc: 45.2830\n",
      "Epoch 201/500000, Tr Loss: 0.6549, Tr Acc: 63.6364, Val Loss: 0.7095, Val Acc: 45.2830\n",
      "Epoch 301/500000, Tr Loss: 0.6605, Tr Acc: 61.9835, Val Loss: 0.7062, Val Acc: 45.2830\n",
      "Epoch 401/500000, Tr Loss: 0.6329, Tr Acc: 70.2479, Val Loss: 0.7053, Val Acc: 39.6226\n",
      "Epoch 501/500000, Tr Loss: 0.6352, Tr Acc: 63.6364, Val Loss: 0.7036, Val Acc: 41.5094\n",
      "Epoch 601/500000, Tr Loss: 0.6377, Tr Acc: 64.4628, Val Loss: 0.7034, Val Acc: 41.5094\n",
      "Epoch 701/500000, Tr Loss: 0.6185, Tr Acc: 73.5537, Val Loss: 0.7044, Val Acc: 41.5094\n",
      "Epoch 801/500000, Tr Loss: 0.6187, Tr Acc: 72.7273, Val Loss: 0.7030, Val Acc: 39.6226\n",
      "Epoch 901/500000, Tr Loss: 0.6063, Tr Acc: 73.5537, Val Loss: 0.7037, Val Acc: 41.5094\n",
      "Epoch 1001/500000, Tr Loss: 0.5898, Tr Acc: 76.8595, Val Loss: 0.7030, Val Acc: 41.5094\n",
      "Epoch 1101/500000, Tr Loss: 0.5877, Tr Acc: 80.9917, Val Loss: 0.7010, Val Acc: 41.5094\n",
      "Epoch 1201/500000, Tr Loss: 0.5731, Tr Acc: 85.1240, Val Loss: 0.7039, Val Acc: 39.6226\n",
      "Epoch 1301/500000, Tr Loss: 0.5704, Tr Acc: 81.8182, Val Loss: 0.7022, Val Acc: 41.5094\n",
      "Epoch 1401/500000, Tr Loss: 0.5623, Tr Acc: 85.9504, Val Loss: 0.6988, Val Acc: 43.3962\n",
      "Epoch 1501/500000, Tr Loss: 0.5494, Tr Acc: 87.6033, Val Loss: 0.7018, Val Acc: 43.3962\n",
      "Epoch 1601/500000, Tr Loss: 0.5504, Tr Acc: 89.2562, Val Loss: 0.6996, Val Acc: 49.0566\n",
      "Epoch 1701/500000, Tr Loss: 0.5379, Tr Acc: 89.2562, Val Loss: 0.7030, Val Acc: 43.3962\n",
      "Epoch 1801/500000, Tr Loss: 0.5302, Tr Acc: 87.6033, Val Loss: 0.6993, Val Acc: 45.2830\n",
      "Epoch 1901/500000, Tr Loss: 0.5191, Tr Acc: 89.2562, Val Loss: 0.7005, Val Acc: 43.3962\n",
      "Epoch 2001/500000, Tr Loss: 0.5184, Tr Acc: 90.9091, Val Loss: 0.6927, Val Acc: 47.1698\n",
      "Epoch 2101/500000, Tr Loss: 0.5079, Tr Acc: 90.0826, Val Loss: 0.6982, Val Acc: 45.2830\n",
      "Epoch 2201/500000, Tr Loss: 0.4958, Tr Acc: 92.5620, Val Loss: 0.7040, Val Acc: 50.9434\n",
      "Epoch 2301/500000, Tr Loss: 0.4918, Tr Acc: 94.2149, Val Loss: 0.6962, Val Acc: 49.0566\n",
      "Epoch 2401/500000, Tr Loss: 0.4782, Tr Acc: 91.7355, Val Loss: 0.6989, Val Acc: 49.0566\n",
      "Epoch 2501/500000, Tr Loss: 0.4770, Tr Acc: 91.7355, Val Loss: 0.6990, Val Acc: 49.0566\n",
      "Epoch 2601/500000, Tr Loss: 0.4677, Tr Acc: 93.3884, Val Loss: 0.6964, Val Acc: 49.0566\n",
      "Epoch 2701/500000, Tr Loss: 0.4632, Tr Acc: 94.2149, Val Loss: 0.6990, Val Acc: 49.0566\n",
      "Epoch 2801/500000, Tr Loss: 0.4527, Tr Acc: 95.8678, Val Loss: 0.6989, Val Acc: 49.0566\n",
      "Epoch 2901/500000, Tr Loss: 0.4362, Tr Acc: 97.5207, Val Loss: 0.6976, Val Acc: 52.8302\n",
      "Epoch 3001/500000, Tr Loss: 0.4317, Tr Acc: 95.0413, Val Loss: 0.6930, Val Acc: 49.0566\n",
      "Epoch 3101/500000, Tr Loss: 0.4319, Tr Acc: 95.8678, Val Loss: 0.7029, Val Acc: 49.0566\n",
      "Epoch 3201/500000, Tr Loss: 0.4223, Tr Acc: 96.6942, Val Loss: 0.6963, Val Acc: 49.0566\n",
      "Epoch 3301/500000, Tr Loss: 0.4162, Tr Acc: 95.8678, Val Loss: 0.6978, Val Acc: 49.0566\n",
      "Epoch 3401/500000, Tr Loss: 0.4111, Tr Acc: 97.5207, Val Loss: 0.6905, Val Acc: 47.1698\n",
      "Epoch 3501/500000, Tr Loss: 0.4069, Tr Acc: 96.6942, Val Loss: 0.6999, Val Acc: 50.9434\n",
      "Epoch 3601/500000, Tr Loss: 0.3929, Tr Acc: 97.5207, Val Loss: 0.6973, Val Acc: 49.0566\n",
      "Epoch 3701/500000, Tr Loss: 0.3944, Tr Acc: 95.8678, Val Loss: 0.6923, Val Acc: 50.9434\n",
      "Epoch 3801/500000, Tr Loss: 0.3816, Tr Acc: 96.6942, Val Loss: 0.7053, Val Acc: 49.0566\n",
      "Epoch 3901/500000, Tr Loss: 0.3759, Tr Acc: 95.8678, Val Loss: 0.7014, Val Acc: 50.9434\n",
      "Epoch 4001/500000, Tr Loss: 0.3595, Tr Acc: 98.3471, Val Loss: 0.7051, Val Acc: 49.0566\n",
      "Epoch 4101/500000, Tr Loss: 0.3621, Tr Acc: 99.1735, Val Loss: 0.6995, Val Acc: 52.8302\n",
      "Epoch 4201/500000, Tr Loss: 0.3397, Tr Acc: 97.5207, Val Loss: 0.6983, Val Acc: 50.9434\n",
      "Epoch 4301/500000, Tr Loss: 0.3237, Tr Acc: 98.3471, Val Loss: 0.6993, Val Acc: 52.8302\n",
      "Epoch 4401/500000, Tr Loss: 0.3276, Tr Acc: 97.5207, Val Loss: 0.7047, Val Acc: 50.9434\n",
      "Epoch 4501/500000, Tr Loss: 0.3310, Tr Acc: 98.3471, Val Loss: 0.7059, Val Acc: 50.9434\n",
      "Epoch 4601/500000, Tr Loss: 0.3274, Tr Acc: 96.6942, Val Loss: 0.7025, Val Acc: 50.9434\n",
      "Epoch 4701/500000, Tr Loss: 0.3224, Tr Acc: 96.6942, Val Loss: 0.7054, Val Acc: 50.9434\n",
      "Epoch 4801/500000, Tr Loss: 0.3083, Tr Acc: 98.3471, Val Loss: 0.7038, Val Acc: 50.9434\n",
      "Epoch 4901/500000, Tr Loss: 0.3065, Tr Acc: 97.5207, Val Loss: 0.6991, Val Acc: 50.9434\n",
      "Epoch 5001/500000, Tr Loss: 0.2986, Tr Acc: 98.3471, Val Loss: 0.7001, Val Acc: 50.9434\n",
      "Epoch 5101/500000, Tr Loss: 0.2977, Tr Acc: 99.1735, Val Loss: 0.6979, Val Acc: 50.9434\n",
      "Epoch 5201/500000, Tr Loss: 0.2893, Tr Acc: 98.3471, Val Loss: 0.7076, Val Acc: 50.9434\n",
      "Epoch 5301/500000, Tr Loss: 0.2906, Tr Acc: 97.5207, Val Loss: 0.7038, Val Acc: 50.9434\n",
      "Epoch 5401/500000, Tr Loss: 0.2706, Tr Acc: 98.3471, Val Loss: 0.6952, Val Acc: 52.8302\n",
      "Epoch 5501/500000, Tr Loss: 0.2671, Tr Acc: 99.1735, Val Loss: 0.7066, Val Acc: 52.8302\n",
      "Epoch 5601/500000, Tr Loss: 0.2603, Tr Acc: 99.1735, Val Loss: 0.6919, Val Acc: 52.8302\n",
      "Epoch 5701/500000, Tr Loss: 0.2546, Tr Acc: 99.1735, Val Loss: 0.6883, Val Acc: 52.8302\n",
      "Epoch 5801/500000, Tr Loss: 0.2501, Tr Acc: 99.1735, Val Loss: 0.7059, Val Acc: 52.8302\n",
      "Epoch 5901/500000, Tr Loss: 0.2533, Tr Acc: 99.1735, Val Loss: 0.7291, Val Acc: 52.8302\n",
      "Epoch 6001/500000, Tr Loss: 0.2481, Tr Acc: 99.1735, Val Loss: 0.7074, Val Acc: 52.8302\n",
      "Epoch 6101/500000, Tr Loss: 0.2406, Tr Acc: 98.3471, Val Loss: 0.6928, Val Acc: 52.8302\n",
      "Epoch 6201/500000, Tr Loss: 0.2345, Tr Acc: 99.1735, Val Loss: 0.7183, Val Acc: 52.8302\n",
      "Epoch 6301/500000, Tr Loss: 0.2303, Tr Acc: 99.1735, Val Loss: 0.7138, Val Acc: 52.8302\n",
      "Epoch 6401/500000, Tr Loss: 0.2199, Tr Acc: 99.1735, Val Loss: 0.7024, Val Acc: 52.8302\n",
      "Epoch 6501/500000, Tr Loss: 0.2223, Tr Acc: 98.3471, Val Loss: 0.6931, Val Acc: 52.8302\n",
      "Epoch 6601/500000, Tr Loss: 0.2058, Tr Acc: 99.1735, Val Loss: 0.7113, Val Acc: 52.8302\n",
      "Epoch 6701/500000, Tr Loss: 0.2066, Tr Acc: 99.1735, Val Loss: 0.7263, Val Acc: 52.8302\n",
      "Epoch 6801/500000, Tr Loss: 0.1995, Tr Acc: 100.0000, Val Loss: 0.7173, Val Acc: 52.8302\n",
      "Epoch 6901/500000, Tr Loss: 0.2049, Tr Acc: 100.0000, Val Loss: 0.7226, Val Acc: 52.8302\n",
      "Epoch 7001/500000, Tr Loss: 0.2028, Tr Acc: 100.0000, Val Loss: 0.7179, Val Acc: 52.8302\n",
      "Epoch 7101/500000, Tr Loss: 0.1838, Tr Acc: 100.0000, Val Loss: 0.7170, Val Acc: 52.8302\n",
      "Epoch 7201/500000, Tr Loss: 0.1800, Tr Acc: 99.1735, Val Loss: 0.7121, Val Acc: 52.8302\n",
      "Epoch 7301/500000, Tr Loss: 0.1878, Tr Acc: 100.0000, Val Loss: 0.7360, Val Acc: 52.8302\n",
      "Epoch 7401/500000, Tr Loss: 0.1753, Tr Acc: 100.0000, Val Loss: 0.7342, Val Acc: 52.8302\n",
      "Epoch 7501/500000, Tr Loss: 0.1707, Tr Acc: 99.1735, Val Loss: 0.7136, Val Acc: 52.8302\n",
      "Epoch 7601/500000, Tr Loss: 0.1645, Tr Acc: 99.1735, Val Loss: 0.7319, Val Acc: 52.8302\n",
      "Epoch 7701/500000, Tr Loss: 0.1704, Tr Acc: 100.0000, Val Loss: 0.7351, Val Acc: 52.8302\n",
      "Epoch 7801/500000, Tr Loss: 0.1534, Tr Acc: 100.0000, Val Loss: 0.7416, Val Acc: 52.8302\n",
      "Epoch 7901/500000, Tr Loss: 0.1552, Tr Acc: 100.0000, Val Loss: 0.7329, Val Acc: 52.8302\n",
      "Epoch 8001/500000, Tr Loss: 0.1547, Tr Acc: 100.0000, Val Loss: 0.7209, Val Acc: 52.8302\n",
      "Epoch 8101/500000, Tr Loss: 0.1445, Tr Acc: 100.0000, Val Loss: 0.7387, Val Acc: 50.9434\n",
      "Epoch 8201/500000, Tr Loss: 0.1498, Tr Acc: 99.1735, Val Loss: 0.7245, Val Acc: 50.9434\n",
      "Epoch 8301/500000, Tr Loss: 0.1371, Tr Acc: 100.0000, Val Loss: 0.7286, Val Acc: 50.9434\n",
      "Epoch 8401/500000, Tr Loss: 0.1424, Tr Acc: 100.0000, Val Loss: 0.7460, Val Acc: 50.9434\n",
      "Epoch 8501/500000, Tr Loss: 0.1379, Tr Acc: 99.1735, Val Loss: 0.7274, Val Acc: 50.9434\n",
      "Epoch 8601/500000, Tr Loss: 0.1247, Tr Acc: 100.0000, Val Loss: 0.7432, Val Acc: 50.9434\n",
      "Epoch 8701/500000, Tr Loss: 0.1198, Tr Acc: 100.0000, Val Loss: 0.7429, Val Acc: 50.9434\n",
      "Epoch 8801/500000, Tr Loss: 0.1261, Tr Acc: 100.0000, Val Loss: 0.7411, Val Acc: 50.9434\n",
      "Epoch 8901/500000, Tr Loss: 0.1199, Tr Acc: 100.0000, Val Loss: 0.7270, Val Acc: 50.9434\n",
      "Epoch 9001/500000, Tr Loss: 0.1198, Tr Acc: 100.0000, Val Loss: 0.7601, Val Acc: 49.0566\n",
      "Epoch 9101/500000, Tr Loss: 0.1196, Tr Acc: 100.0000, Val Loss: 0.7286, Val Acc: 49.0566\n",
      "Epoch 9201/500000, Tr Loss: 0.1109, Tr Acc: 100.0000, Val Loss: 0.7696, Val Acc: 49.0566\n",
      "Epoch 9301/500000, Tr Loss: 0.1108, Tr Acc: 100.0000, Val Loss: 0.7566, Val Acc: 49.0566\n",
      "Epoch 9401/500000, Tr Loss: 0.1048, Tr Acc: 100.0000, Val Loss: 0.7559, Val Acc: 50.9434\n",
      "Epoch 9501/500000, Tr Loss: 0.1016, Tr Acc: 100.0000, Val Loss: 0.7700, Val Acc: 50.9434\n",
      "Epoch 9601/500000, Tr Loss: 0.1045, Tr Acc: 100.0000, Val Loss: 0.7730, Val Acc: 50.9434\n",
      "Epoch 9701/500000, Tr Loss: 0.0955, Tr Acc: 100.0000, Val Loss: 0.7481, Val Acc: 50.9434\n",
      "Epoch 9801/500000, Tr Loss: 0.0955, Tr Acc: 100.0000, Val Loss: 0.7847, Val Acc: 50.9434\n",
      "Epoch 9901/500000, Tr Loss: 0.0873, Tr Acc: 100.0000, Val Loss: 0.7828, Val Acc: 50.9434\n",
      "Epoch 10001/500000, Tr Loss: 0.0929, Tr Acc: 100.0000, Val Loss: 0.7751, Val Acc: 50.9434\n",
      "Epoch 10101/500000, Tr Loss: 0.0837, Tr Acc: 100.0000, Val Loss: 0.7476, Val Acc: 50.9434\n",
      "Epoch 10201/500000, Tr Loss: 0.0885, Tr Acc: 100.0000, Val Loss: 0.7720, Val Acc: 50.9434\n",
      "Epoch 10301/500000, Tr Loss: 0.0835, Tr Acc: 100.0000, Val Loss: 0.8063, Val Acc: 50.9434\n",
      "Epoch 10401/500000, Tr Loss: 0.0776, Tr Acc: 100.0000, Val Loss: 0.7933, Val Acc: 50.9434\n",
      "Epoch 10501/500000, Tr Loss: 0.0725, Tr Acc: 100.0000, Val Loss: 0.7540, Val Acc: 50.9434\n",
      "Epoch 10601/500000, Tr Loss: 0.0781, Tr Acc: 100.0000, Val Loss: 0.7831, Val Acc: 50.9434\n",
      "Epoch 10701/500000, Tr Loss: 0.0705, Tr Acc: 100.0000, Val Loss: 0.8157, Val Acc: 50.9434\n",
      "Epoch 10801/500000, Tr Loss: 0.0667, Tr Acc: 100.0000, Val Loss: 0.7742, Val Acc: 50.9434\n",
      "Epoch 10901/500000, Tr Loss: 0.0661, Tr Acc: 100.0000, Val Loss: 0.7978, Val Acc: 50.9434\n",
      "Epoch 11001/500000, Tr Loss: 0.0704, Tr Acc: 100.0000, Val Loss: 0.8111, Val Acc: 50.9434\n",
      "Epoch 11101/500000, Tr Loss: 0.0702, Tr Acc: 100.0000, Val Loss: 0.8287, Val Acc: 50.9434\n",
      "Epoch 11201/500000, Tr Loss: 0.0640, Tr Acc: 100.0000, Val Loss: 0.8053, Val Acc: 50.9434\n",
      "Epoch 11301/500000, Tr Loss: 0.0583, Tr Acc: 100.0000, Val Loss: 0.8363, Val Acc: 50.9434\n",
      "Epoch 11401/500000, Tr Loss: 0.0591, Tr Acc: 100.0000, Val Loss: 0.8407, Val Acc: 50.9434\n",
      "Epoch 11501/500000, Tr Loss: 0.0601, Tr Acc: 100.0000, Val Loss: 0.8279, Val Acc: 50.9434\n",
      "Epoch 11601/500000, Tr Loss: 0.0568, Tr Acc: 100.0000, Val Loss: 0.8370, Val Acc: 50.9434\n",
      "Epoch 11701/500000, Tr Loss: 0.0542, Tr Acc: 100.0000, Val Loss: 0.8333, Val Acc: 50.9434\n",
      "Epoch 11801/500000, Tr Loss: 0.0550, Tr Acc: 100.0000, Val Loss: 0.8076, Val Acc: 49.0566\n",
      "Epoch 11901/500000, Tr Loss: 0.0467, Tr Acc: 100.0000, Val Loss: 0.8332, Val Acc: 50.9434\n",
      "Epoch 12001/500000, Tr Loss: 0.0485, Tr Acc: 100.0000, Val Loss: 0.8191, Val Acc: 50.9434\n",
      "Epoch 12101/500000, Tr Loss: 0.0447, Tr Acc: 100.0000, Val Loss: 0.8362, Val Acc: 50.9434\n",
      "Epoch 12201/500000, Tr Loss: 0.0432, Tr Acc: 100.0000, Val Loss: 0.8208, Val Acc: 50.9434\n",
      "Epoch 12301/500000, Tr Loss: 0.0455, Tr Acc: 100.0000, Val Loss: 0.8028, Val Acc: 50.9434\n",
      "Epoch 12401/500000, Tr Loss: 0.0418, Tr Acc: 100.0000, Val Loss: 0.8097, Val Acc: 49.0566\n",
      "Epoch 12501/500000, Tr Loss: 0.0384, Tr Acc: 100.0000, Val Loss: 0.8231, Val Acc: 49.0566\n",
      "Epoch 12601/500000, Tr Loss: 0.0368, Tr Acc: 100.0000, Val Loss: 0.8108, Val Acc: 50.9434\n",
      "Epoch 12701/500000, Tr Loss: 0.0392, Tr Acc: 100.0000, Val Loss: 0.8538, Val Acc: 49.0566\n",
      "Epoch 12801/500000, Tr Loss: 0.0394, Tr Acc: 100.0000, Val Loss: 0.8958, Val Acc: 49.0566\n",
      "Epoch 12901/500000, Tr Loss: 0.0350, Tr Acc: 100.0000, Val Loss: 0.8362, Val Acc: 47.1698\n",
      "Epoch 13001/500000, Tr Loss: 0.0341, Tr Acc: 100.0000, Val Loss: 0.8672, Val Acc: 47.1698\n",
      "Epoch 13101/500000, Tr Loss: 0.0344, Tr Acc: 100.0000, Val Loss: 0.8622, Val Acc: 49.0566\n",
      "Epoch 13201/500000, Tr Loss: 0.0332, Tr Acc: 100.0000, Val Loss: 0.9132, Val Acc: 49.0566\n",
      "Epoch 13301/500000, Tr Loss: 0.0317, Tr Acc: 100.0000, Val Loss: 0.8760, Val Acc: 49.0566\n",
      "Epoch 13401/500000, Tr Loss: 0.0319, Tr Acc: 100.0000, Val Loss: 0.8271, Val Acc: 49.0566\n",
      "Epoch 13501/500000, Tr Loss: 0.0297, Tr Acc: 100.0000, Val Loss: 0.8723, Val Acc: 49.0566\n",
      "Epoch 13601/500000, Tr Loss: 0.0272, Tr Acc: 100.0000, Val Loss: 0.8756, Val Acc: 49.0566\n",
      "Epoch 13701/500000, Tr Loss: 0.0281, Tr Acc: 100.0000, Val Loss: 0.8383, Val Acc: 49.0566\n",
      "Epoch 13801/500000, Tr Loss: 0.0250, Tr Acc: 100.0000, Val Loss: 0.9112, Val Acc: 49.0566\n",
      "Epoch 13901/500000, Tr Loss: 0.0254, Tr Acc: 100.0000, Val Loss: 0.9128, Val Acc: 47.1698\n",
      "Epoch 14001/500000, Tr Loss: 0.0247, Tr Acc: 100.0000, Val Loss: 0.9486, Val Acc: 49.0566\n",
      "Epoch 14101/500000, Tr Loss: 0.0265, Tr Acc: 100.0000, Val Loss: 0.9082, Val Acc: 50.9434\n",
      "Epoch 14201/500000, Tr Loss: 0.0240, Tr Acc: 100.0000, Val Loss: 0.9181, Val Acc: 49.0566\n",
      "Epoch 14301/500000, Tr Loss: 0.0209, Tr Acc: 100.0000, Val Loss: 0.9378, Val Acc: 50.9434\n",
      "Epoch 14401/500000, Tr Loss: 0.0239, Tr Acc: 100.0000, Val Loss: 0.9178, Val Acc: 50.9434\n",
      "Epoch 14501/500000, Tr Loss: 0.0183, Tr Acc: 100.0000, Val Loss: 0.9136, Val Acc: 50.9434\n",
      "Epoch 14601/500000, Tr Loss: 0.0216, Tr Acc: 100.0000, Val Loss: 0.9693, Val Acc: 47.1698\n",
      "Epoch 14701/500000, Tr Loss: 0.0193, Tr Acc: 100.0000, Val Loss: 0.9425, Val Acc: 49.0566\n",
      "Epoch 14801/500000, Tr Loss: 0.0194, Tr Acc: 100.0000, Val Loss: 0.9203, Val Acc: 50.9434\n",
      "Epoch 14901/500000, Tr Loss: 0.0197, Tr Acc: 100.0000, Val Loss: 0.9298, Val Acc: 50.9434\n",
      "Epoch 15001/500000, Tr Loss: 0.0163, Tr Acc: 100.0000, Val Loss: 0.9479, Val Acc: 49.0566\n",
      "Epoch 15101/500000, Tr Loss: 0.0170, Tr Acc: 100.0000, Val Loss: 0.9804, Val Acc: 49.0566\n",
      "Epoch 15201/500000, Tr Loss: 0.0151, Tr Acc: 100.0000, Val Loss: 0.9981, Val Acc: 50.9434\n",
      "Epoch 15301/500000, Tr Loss: 0.0164, Tr Acc: 100.0000, Val Loss: 0.9885, Val Acc: 50.9434\n",
      "Epoch 15401/500000, Tr Loss: 0.0155, Tr Acc: 100.0000, Val Loss: 0.9242, Val Acc: 50.9434\n",
      "Epoch 15501/500000, Tr Loss: 0.0141, Tr Acc: 100.0000, Val Loss: 0.8949, Val Acc: 50.9434\n",
      "Epoch 15601/500000, Tr Loss: 0.0150, Tr Acc: 100.0000, Val Loss: 0.9516, Val Acc: 50.9434\n",
      "Epoch 15701/500000, Tr Loss: 0.0138, Tr Acc: 100.0000, Val Loss: 0.9737, Val Acc: 52.8302\n",
      "Epoch 15801/500000, Tr Loss: 0.0129, Tr Acc: 100.0000, Val Loss: 1.0364, Val Acc: 52.8302\n",
      "Epoch 15901/500000, Tr Loss: 0.0128, Tr Acc: 100.0000, Val Loss: 0.9444, Val Acc: 52.8302\n",
      "Epoch 16001/500000, Tr Loss: 0.0114, Tr Acc: 100.0000, Val Loss: 0.9827, Val Acc: 52.8302\n",
      "Epoch 16101/500000, Tr Loss: 0.0118, Tr Acc: 100.0000, Val Loss: 0.9559, Val Acc: 52.8302\n",
      "Epoch 16201/500000, Tr Loss: 0.0111, Tr Acc: 100.0000, Val Loss: 1.0050, Val Acc: 52.8302\n",
      "Epoch 16301/500000, Tr Loss: 0.0111, Tr Acc: 100.0000, Val Loss: 1.0007, Val Acc: 52.8302\n",
      "Epoch 16401/500000, Tr Loss: 0.0101, Tr Acc: 100.0000, Val Loss: 1.0346, Val Acc: 52.8302\n",
      "Epoch 16501/500000, Tr Loss: 0.0102, Tr Acc: 100.0000, Val Loss: 1.0178, Val Acc: 52.8302\n",
      "Epoch 16601/500000, Tr Loss: 0.0085, Tr Acc: 100.0000, Val Loss: 1.0535, Val Acc: 52.8302\n",
      "Epoch 16701/500000, Tr Loss: 0.0095, Tr Acc: 100.0000, Val Loss: 0.9953, Val Acc: 52.8302\n",
      "Epoch 16801/500000, Tr Loss: 0.0096, Tr Acc: 100.0000, Val Loss: 1.0799, Val Acc: 52.8302\n",
      "Epoch 16901/500000, Tr Loss: 0.0084, Tr Acc: 100.0000, Val Loss: 1.0316, Val Acc: 52.8302\n",
      "Epoch 17001/500000, Tr Loss: 0.0092, Tr Acc: 100.0000, Val Loss: 1.0539, Val Acc: 52.8302\n",
      "Epoch 17101/500000, Tr Loss: 0.0073, Tr Acc: 100.0000, Val Loss: 1.0792, Val Acc: 52.8302\n",
      "Epoch 17201/500000, Tr Loss: 0.0079, Tr Acc: 100.0000, Val Loss: 1.0658, Val Acc: 52.8302\n",
      "Epoch 17301/500000, Tr Loss: 0.0083, Tr Acc: 100.0000, Val Loss: 1.0839, Val Acc: 52.8302\n",
      "Epoch 17401/500000, Tr Loss: 0.0062, Tr Acc: 100.0000, Val Loss: 1.0364, Val Acc: 52.8302\n",
      "Epoch 17501/500000, Tr Loss: 0.0061, Tr Acc: 100.0000, Val Loss: 1.0592, Val Acc: 52.8302\n",
      "Epoch 17601/500000, Tr Loss: 0.0065, Tr Acc: 100.0000, Val Loss: 1.1316, Val Acc: 50.9434\n",
      "Epoch 17701/500000, Tr Loss: 0.0067, Tr Acc: 100.0000, Val Loss: 1.0889, Val Acc: 52.8302\n",
      "Epoch 17801/500000, Tr Loss: 0.0062, Tr Acc: 100.0000, Val Loss: 1.1361, Val Acc: 54.7170\n",
      "Epoch 17901/500000, Tr Loss: 0.0052, Tr Acc: 100.0000, Val Loss: 1.0210, Val Acc: 54.7170\n",
      "Epoch 18001/500000, Tr Loss: 0.0056, Tr Acc: 100.0000, Val Loss: 1.0860, Val Acc: 50.9434\n",
      "Epoch 18101/500000, Tr Loss: 0.0060, Tr Acc: 100.0000, Val Loss: 1.0873, Val Acc: 54.7170\n",
      "Epoch 18201/500000, Tr Loss: 0.0045, Tr Acc: 100.0000, Val Loss: 1.1117, Val Acc: 52.8302\n",
      "Epoch 18301/500000, Tr Loss: 0.0051, Tr Acc: 100.0000, Val Loss: 1.1030, Val Acc: 52.8302\n",
      "Epoch 18401/500000, Tr Loss: 0.0050, Tr Acc: 100.0000, Val Loss: 1.1915, Val Acc: 52.8302\n",
      "Epoch 18501/500000, Tr Loss: 0.0046, Tr Acc: 100.0000, Val Loss: 1.1811, Val Acc: 54.7170\n",
      "Epoch 18601/500000, Tr Loss: 0.0048, Tr Acc: 100.0000, Val Loss: 1.1417, Val Acc: 52.8302\n",
      "Epoch 18701/500000, Tr Loss: 0.0044, Tr Acc: 100.0000, Val Loss: 1.0953, Val Acc: 52.8302\n",
      "Epoch 18801/500000, Tr Loss: 0.0049, Tr Acc: 100.0000, Val Loss: 1.1661, Val Acc: 54.7170\n",
      "Epoch 18901/500000, Tr Loss: 0.0040, Tr Acc: 100.0000, Val Loss: 1.2001, Val Acc: 52.8302\n",
      "Epoch 19001/500000, Tr Loss: 0.0039, Tr Acc: 100.0000, Val Loss: 1.1511, Val Acc: 52.8302\n",
      "Epoch 19101/500000, Tr Loss: 0.0047, Tr Acc: 100.0000, Val Loss: 1.1060, Val Acc: 52.8302\n",
      "Epoch 19201/500000, Tr Loss: 0.0034, Tr Acc: 100.0000, Val Loss: 1.1589, Val Acc: 52.8302\n",
      "Epoch 19301/500000, Tr Loss: 0.0036, Tr Acc: 100.0000, Val Loss: 1.1160, Val Acc: 52.8302\n"
     ]
    },
    {
     "ename": "KeyboardInterrupt",
     "evalue": "",
     "output_type": "error",
     "traceback": [
      "\u001b[0;31m---------------------------------------------------------------------------\u001b[0m",
      "\u001b[0;31mKeyboardInterrupt\u001b[0m                         Traceback (most recent call last)",
      "Cell \u001b[0;32mIn [38], line 6\u001b[0m\n\u001b[1;32m      2\u001b[0m optimizer \u001b[38;5;241m=\u001b[39m optim\u001b[38;5;241m.\u001b[39mAdam(net\u001b[38;5;241m.\u001b[39mparameters(), lr\u001b[38;5;241m=\u001b[39mconfig\u001b[38;5;241m.\u001b[39mlearning_rate)\n\u001b[1;32m      3\u001b[0m criterion \u001b[38;5;241m=\u001b[39m nn\u001b[38;5;241m.\u001b[39mCrossEntropyLoss()\n\u001b[0;32m----> 6\u001b[0m train_loss,valid_loss,train_accuracy,valid_accuracy \u001b[38;5;241m=\u001b[39m\u001b[43mtrain\u001b[49m\u001b[43m(\u001b[49m\n\u001b[1;32m      7\u001b[0m \u001b[43m    \u001b[49m\u001b[43mmodel\u001b[49m\u001b[43m \u001b[49m\u001b[38;5;241;43m=\u001b[39;49m\u001b[43m \u001b[49m\u001b[43mnet\u001b[49m\u001b[43m,\u001b[49m\n\u001b[1;32m      8\u001b[0m \u001b[43m    \u001b[49m\u001b[43mgpu_num\u001b[49m\u001b[43m \u001b[49m\u001b[38;5;241;43m=\u001b[39;49m\u001b[43m \u001b[49m\u001b[38;5;241;43m0\u001b[39;49m\u001b[43m,\u001b[49m\n\u001b[1;32m      9\u001b[0m \u001b[43m    \u001b[49m\u001b[43mtrain_loader\u001b[49m\u001b[43m \u001b[49m\u001b[38;5;241;43m=\u001b[39;49m\u001b[43m \u001b[49m\u001b[43mtrain_loader\u001b[49m\u001b[43m,\u001b[49m\n\u001b[1;32m     10\u001b[0m \u001b[43m    \u001b[49m\u001b[43mtest_loader\u001b[49m\u001b[43m \u001b[49m\u001b[38;5;241;43m=\u001b[39;49m\u001b[43m \u001b[49m\u001b[43mtest_loader\u001b[49m\u001b[43m,\u001b[49m\n\u001b[1;32m     11\u001b[0m \u001b[43m    \u001b[49m\u001b[43moptimizer\u001b[49m\u001b[43m \u001b[49m\u001b[38;5;241;43m=\u001b[39;49m\u001b[43m \u001b[49m\u001b[43moptimizer\u001b[49m\u001b[43m  \u001b[49m\u001b[43m,\u001b[49m\n\u001b[1;32m     12\u001b[0m \u001b[43m    \u001b[49m\u001b[43mcriterion\u001b[49m\u001b[43m \u001b[49m\u001b[38;5;241;43m=\u001b[39;49m\u001b[43m \u001b[49m\u001b[43mcriterion\u001b[49m\u001b[43m \u001b[49m\u001b[43m,\u001b[49m\n\u001b[1;32m     13\u001b[0m \u001b[43m    \u001b[49m\u001b[43mwand\u001b[49m\u001b[43m \u001b[49m\u001b[38;5;241;43m=\u001b[39;49m\u001b[43m \u001b[49m\u001b[43mwand\u001b[49m\n\u001b[1;32m     14\u001b[0m \u001b[43m         \u001b[49m\u001b[43m)\u001b[49m\n\u001b[1;32m     17\u001b[0m wandb\u001b[38;5;241m.\u001b[39malert(\n\u001b[1;32m     18\u001b[0m             title\u001b[38;5;241m=\u001b[39m\u001b[38;5;124m'\u001b[39m\u001b[38;5;124mFinish\u001b[39m\u001b[38;5;124m'\u001b[39m,\n\u001b[1;32m     19\u001b[0m             text\u001b[38;5;241m=\u001b[39m\u001b[38;5;124mf\u001b[39m\u001b[38;5;124m'\u001b[39m\u001b[38;5;124mFinishing training\u001b[39m\u001b[38;5;124m'\u001b[39m,\n\u001b[1;32m     20\u001b[0m         )\n",
      "File \u001b[0;32m~/eeg_mi/common.py:91\u001b[0m, in \u001b[0;36mtrain\u001b[0;34m(model, gpu_num, train_loader, test_loader, optimizer, criterion, wand, vail_loader, cross)\u001b[0m\n\u001b[1;32m     89\u001b[0m iter_loss \u001b[38;5;241m+\u001b[39m\u001b[38;5;241m=\u001b[39m loss\u001b[38;5;241m.\u001b[39mitem()\n\u001b[1;32m     90\u001b[0m loss\u001b[38;5;241m.\u001b[39mbackward()\n\u001b[0;32m---> 91\u001b[0m \u001b[43moptimizer\u001b[49m\u001b[38;5;241;43m.\u001b[39;49m\u001b[43mstep\u001b[49m\u001b[43m(\u001b[49m\u001b[43m)\u001b[49m\n\u001b[1;32m     93\u001b[0m metrics \u001b[38;5;241m=\u001b[39m {\u001b[38;5;124m\"\u001b[39m\u001b[38;5;124mtrain/train_loss\u001b[39m\u001b[38;5;124m\"\u001b[39m: loss}\n\u001b[1;32m     94\u001b[0m \u001b[38;5;28;01mif\u001b[39;00m i \u001b[38;5;241m+\u001b[39m \u001b[38;5;241m1\u001b[39m \u001b[38;5;241m<\u001b[39m config\u001b[38;5;241m.\u001b[39mnum_step_per_epoch:\n\u001b[1;32m     95\u001b[0m     \u001b[38;5;66;03m# 🐝 Log train metrics to wandb \u001b[39;00m\n",
      "File \u001b[0;32m~/.local/lib/python3.8/site-packages/torch/optim/optimizer.py:113\u001b[0m, in \u001b[0;36mOptimizer._hook_for_profile.<locals>.profile_hook_step.<locals>.wrapper\u001b[0;34m(*args, **kwargs)\u001b[0m\n\u001b[1;32m    111\u001b[0m profile_name \u001b[38;5;241m=\u001b[39m \u001b[38;5;124m\"\u001b[39m\u001b[38;5;124mOptimizer.step#\u001b[39m\u001b[38;5;132;01m{}\u001b[39;00m\u001b[38;5;124m.step\u001b[39m\u001b[38;5;124m\"\u001b[39m\u001b[38;5;241m.\u001b[39mformat(obj\u001b[38;5;241m.\u001b[39m\u001b[38;5;18m__class__\u001b[39m\u001b[38;5;241m.\u001b[39m\u001b[38;5;18m__name__\u001b[39m)\n\u001b[1;32m    112\u001b[0m \u001b[38;5;28;01mwith\u001b[39;00m torch\u001b[38;5;241m.\u001b[39mautograd\u001b[38;5;241m.\u001b[39mprofiler\u001b[38;5;241m.\u001b[39mrecord_function(profile_name):\n\u001b[0;32m--> 113\u001b[0m     \u001b[38;5;28;01mreturn\u001b[39;00m \u001b[43mfunc\u001b[49m\u001b[43m(\u001b[49m\u001b[38;5;241;43m*\u001b[39;49m\u001b[43margs\u001b[49m\u001b[43m,\u001b[49m\u001b[43m \u001b[49m\u001b[38;5;241;43m*\u001b[39;49m\u001b[38;5;241;43m*\u001b[39;49m\u001b[43mkwargs\u001b[49m\u001b[43m)\u001b[49m\n",
      "File \u001b[0;32m~/.local/lib/python3.8/site-packages/torch/autograd/grad_mode.py:27\u001b[0m, in \u001b[0;36m_DecoratorContextManager.__call__.<locals>.decorate_context\u001b[0;34m(*args, **kwargs)\u001b[0m\n\u001b[1;32m     24\u001b[0m \u001b[38;5;129m@functools\u001b[39m\u001b[38;5;241m.\u001b[39mwraps(func)\n\u001b[1;32m     25\u001b[0m \u001b[38;5;28;01mdef\u001b[39;00m \u001b[38;5;21mdecorate_context\u001b[39m(\u001b[38;5;241m*\u001b[39margs, \u001b[38;5;241m*\u001b[39m\u001b[38;5;241m*\u001b[39mkwargs):\n\u001b[1;32m     26\u001b[0m     \u001b[38;5;28;01mwith\u001b[39;00m \u001b[38;5;28mself\u001b[39m\u001b[38;5;241m.\u001b[39mclone():\n\u001b[0;32m---> 27\u001b[0m         \u001b[38;5;28;01mreturn\u001b[39;00m \u001b[43mfunc\u001b[49m\u001b[43m(\u001b[49m\u001b[38;5;241;43m*\u001b[39;49m\u001b[43margs\u001b[49m\u001b[43m,\u001b[49m\u001b[43m \u001b[49m\u001b[38;5;241;43m*\u001b[39;49m\u001b[38;5;241;43m*\u001b[39;49m\u001b[43mkwargs\u001b[49m\u001b[43m)\u001b[49m\n",
      "File \u001b[0;32m~/.local/lib/python3.8/site-packages/torch/optim/adam.py:157\u001b[0m, in \u001b[0;36mAdam.step\u001b[0;34m(self, closure)\u001b[0m\n\u001b[1;32m    153\u001b[0m                 max_exp_avg_sqs\u001b[38;5;241m.\u001b[39mappend(state[\u001b[38;5;124m'\u001b[39m\u001b[38;5;124mmax_exp_avg_sq\u001b[39m\u001b[38;5;124m'\u001b[39m])\n\u001b[1;32m    155\u001b[0m             state_steps\u001b[38;5;241m.\u001b[39mappend(state[\u001b[38;5;124m'\u001b[39m\u001b[38;5;124mstep\u001b[39m\u001b[38;5;124m'\u001b[39m])\n\u001b[0;32m--> 157\u001b[0m     \u001b[43madam\u001b[49m\u001b[43m(\u001b[49m\u001b[43mparams_with_grad\u001b[49m\u001b[43m,\u001b[49m\n\u001b[1;32m    158\u001b[0m \u001b[43m         \u001b[49m\u001b[43mgrads\u001b[49m\u001b[43m,\u001b[49m\n\u001b[1;32m    159\u001b[0m \u001b[43m         \u001b[49m\u001b[43mexp_avgs\u001b[49m\u001b[43m,\u001b[49m\n\u001b[1;32m    160\u001b[0m \u001b[43m         \u001b[49m\u001b[43mexp_avg_sqs\u001b[49m\u001b[43m,\u001b[49m\n\u001b[1;32m    161\u001b[0m \u001b[43m         \u001b[49m\u001b[43mmax_exp_avg_sqs\u001b[49m\u001b[43m,\u001b[49m\n\u001b[1;32m    162\u001b[0m \u001b[43m         \u001b[49m\u001b[43mstate_steps\u001b[49m\u001b[43m,\u001b[49m\n\u001b[1;32m    163\u001b[0m \u001b[43m         \u001b[49m\u001b[43mamsgrad\u001b[49m\u001b[38;5;241;43m=\u001b[39;49m\u001b[43mgroup\u001b[49m\u001b[43m[\u001b[49m\u001b[38;5;124;43m'\u001b[39;49m\u001b[38;5;124;43mamsgrad\u001b[39;49m\u001b[38;5;124;43m'\u001b[39;49m\u001b[43m]\u001b[49m\u001b[43m,\u001b[49m\n\u001b[1;32m    164\u001b[0m \u001b[43m         \u001b[49m\u001b[43mbeta1\u001b[49m\u001b[38;5;241;43m=\u001b[39;49m\u001b[43mbeta1\u001b[49m\u001b[43m,\u001b[49m\n\u001b[1;32m    165\u001b[0m \u001b[43m         \u001b[49m\u001b[43mbeta2\u001b[49m\u001b[38;5;241;43m=\u001b[39;49m\u001b[43mbeta2\u001b[49m\u001b[43m,\u001b[49m\n\u001b[1;32m    166\u001b[0m \u001b[43m         \u001b[49m\u001b[43mlr\u001b[49m\u001b[38;5;241;43m=\u001b[39;49m\u001b[43mgroup\u001b[49m\u001b[43m[\u001b[49m\u001b[38;5;124;43m'\u001b[39;49m\u001b[38;5;124;43mlr\u001b[39;49m\u001b[38;5;124;43m'\u001b[39;49m\u001b[43m]\u001b[49m\u001b[43m,\u001b[49m\n\u001b[1;32m    167\u001b[0m \u001b[43m         \u001b[49m\u001b[43mweight_decay\u001b[49m\u001b[38;5;241;43m=\u001b[39;49m\u001b[43mgroup\u001b[49m\u001b[43m[\u001b[49m\u001b[38;5;124;43m'\u001b[39;49m\u001b[38;5;124;43mweight_decay\u001b[39;49m\u001b[38;5;124;43m'\u001b[39;49m\u001b[43m]\u001b[49m\u001b[43m,\u001b[49m\n\u001b[1;32m    168\u001b[0m \u001b[43m         \u001b[49m\u001b[43meps\u001b[49m\u001b[38;5;241;43m=\u001b[39;49m\u001b[43mgroup\u001b[49m\u001b[43m[\u001b[49m\u001b[38;5;124;43m'\u001b[39;49m\u001b[38;5;124;43meps\u001b[39;49m\u001b[38;5;124;43m'\u001b[39;49m\u001b[43m]\u001b[49m\u001b[43m,\u001b[49m\n\u001b[1;32m    169\u001b[0m \u001b[43m         \u001b[49m\u001b[43mmaximize\u001b[49m\u001b[38;5;241;43m=\u001b[39;49m\u001b[43mgroup\u001b[49m\u001b[43m[\u001b[49m\u001b[38;5;124;43m'\u001b[39;49m\u001b[38;5;124;43mmaximize\u001b[39;49m\u001b[38;5;124;43m'\u001b[39;49m\u001b[43m]\u001b[49m\u001b[43m,\u001b[49m\n\u001b[1;32m    170\u001b[0m \u001b[43m         \u001b[49m\u001b[43mforeach\u001b[49m\u001b[38;5;241;43m=\u001b[39;49m\u001b[43mgroup\u001b[49m\u001b[43m[\u001b[49m\u001b[38;5;124;43m'\u001b[39;49m\u001b[38;5;124;43mforeach\u001b[39;49m\u001b[38;5;124;43m'\u001b[39;49m\u001b[43m]\u001b[49m\u001b[43m,\u001b[49m\n\u001b[1;32m    171\u001b[0m \u001b[43m         \u001b[49m\u001b[43mcapturable\u001b[49m\u001b[38;5;241;43m=\u001b[39;49m\u001b[43mgroup\u001b[49m\u001b[43m[\u001b[49m\u001b[38;5;124;43m'\u001b[39;49m\u001b[38;5;124;43mcapturable\u001b[39;49m\u001b[38;5;124;43m'\u001b[39;49m\u001b[43m]\u001b[49m\u001b[43m)\u001b[49m\n\u001b[1;32m    173\u001b[0m \u001b[38;5;28;01mreturn\u001b[39;00m loss\n",
      "File \u001b[0;32m~/.local/lib/python3.8/site-packages/torch/optim/adam.py:213\u001b[0m, in \u001b[0;36madam\u001b[0;34m(params, grads, exp_avgs, exp_avg_sqs, max_exp_avg_sqs, state_steps, foreach, capturable, amsgrad, beta1, beta2, lr, weight_decay, eps, maximize)\u001b[0m\n\u001b[1;32m    210\u001b[0m \u001b[38;5;28;01melse\u001b[39;00m:\n\u001b[1;32m    211\u001b[0m     func \u001b[38;5;241m=\u001b[39m _single_tensor_adam\n\u001b[0;32m--> 213\u001b[0m \u001b[43mfunc\u001b[49m\u001b[43m(\u001b[49m\u001b[43mparams\u001b[49m\u001b[43m,\u001b[49m\n\u001b[1;32m    214\u001b[0m \u001b[43m     \u001b[49m\u001b[43mgrads\u001b[49m\u001b[43m,\u001b[49m\n\u001b[1;32m    215\u001b[0m \u001b[43m     \u001b[49m\u001b[43mexp_avgs\u001b[49m\u001b[43m,\u001b[49m\n\u001b[1;32m    216\u001b[0m \u001b[43m     \u001b[49m\u001b[43mexp_avg_sqs\u001b[49m\u001b[43m,\u001b[49m\n\u001b[1;32m    217\u001b[0m \u001b[43m     \u001b[49m\u001b[43mmax_exp_avg_sqs\u001b[49m\u001b[43m,\u001b[49m\n\u001b[1;32m    218\u001b[0m \u001b[43m     \u001b[49m\u001b[43mstate_steps\u001b[49m\u001b[43m,\u001b[49m\n\u001b[1;32m    219\u001b[0m \u001b[43m     \u001b[49m\u001b[43mamsgrad\u001b[49m\u001b[38;5;241;43m=\u001b[39;49m\u001b[43mamsgrad\u001b[49m\u001b[43m,\u001b[49m\n\u001b[1;32m    220\u001b[0m \u001b[43m     \u001b[49m\u001b[43mbeta1\u001b[49m\u001b[38;5;241;43m=\u001b[39;49m\u001b[43mbeta1\u001b[49m\u001b[43m,\u001b[49m\n\u001b[1;32m    221\u001b[0m \u001b[43m     \u001b[49m\u001b[43mbeta2\u001b[49m\u001b[38;5;241;43m=\u001b[39;49m\u001b[43mbeta2\u001b[49m\u001b[43m,\u001b[49m\n\u001b[1;32m    222\u001b[0m \u001b[43m     \u001b[49m\u001b[43mlr\u001b[49m\u001b[38;5;241;43m=\u001b[39;49m\u001b[43mlr\u001b[49m\u001b[43m,\u001b[49m\n\u001b[1;32m    223\u001b[0m \u001b[43m     \u001b[49m\u001b[43mweight_decay\u001b[49m\u001b[38;5;241;43m=\u001b[39;49m\u001b[43mweight_decay\u001b[49m\u001b[43m,\u001b[49m\n\u001b[1;32m    224\u001b[0m \u001b[43m     \u001b[49m\u001b[43meps\u001b[49m\u001b[38;5;241;43m=\u001b[39;49m\u001b[43meps\u001b[49m\u001b[43m,\u001b[49m\n\u001b[1;32m    225\u001b[0m \u001b[43m     \u001b[49m\u001b[43mmaximize\u001b[49m\u001b[38;5;241;43m=\u001b[39;49m\u001b[43mmaximize\u001b[49m\u001b[43m,\u001b[49m\n\u001b[1;32m    226\u001b[0m \u001b[43m     \u001b[49m\u001b[43mcapturable\u001b[49m\u001b[38;5;241;43m=\u001b[39;49m\u001b[43mcapturable\u001b[49m\u001b[43m)\u001b[49m\n",
      "File \u001b[0;32m~/.local/lib/python3.8/site-packages/torch/optim/adam.py:305\u001b[0m, in \u001b[0;36m_single_tensor_adam\u001b[0;34m(params, grads, exp_avgs, exp_avg_sqs, max_exp_avg_sqs, state_steps, amsgrad, beta1, beta2, lr, weight_decay, eps, maximize, capturable)\u001b[0m\n\u001b[1;32m    303\u001b[0m     denom \u001b[38;5;241m=\u001b[39m (max_exp_avg_sqs[i]\u001b[38;5;241m.\u001b[39msqrt() \u001b[38;5;241m/\u001b[39m bias_correction2_sqrt)\u001b[38;5;241m.\u001b[39madd_(eps)\n\u001b[1;32m    304\u001b[0m \u001b[38;5;28;01melse\u001b[39;00m:\n\u001b[0;32m--> 305\u001b[0m     denom \u001b[38;5;241m=\u001b[39m (\u001b[43mexp_avg_sq\u001b[49m\u001b[38;5;241;43m.\u001b[39;49m\u001b[43msqrt\u001b[49m\u001b[43m(\u001b[49m\u001b[43m)\u001b[49m\u001b[43m \u001b[49m\u001b[38;5;241;43m/\u001b[39;49m\u001b[43m \u001b[49m\u001b[43mbias_correction2_sqrt\u001b[49m)\u001b[38;5;241m.\u001b[39madd_(eps)\n\u001b[1;32m    307\u001b[0m param\u001b[38;5;241m.\u001b[39maddcdiv_(exp_avg, denom, value\u001b[38;5;241m=\u001b[39m\u001b[38;5;241m-\u001b[39mstep_size)\n",
      "\u001b[0;31mKeyboardInterrupt\u001b[0m: "
     ]
    }
   ],
   "source": [
    "net = ConvNet().cuda(0)\n",
    "optimizer = optim.Adam(net.parameters(), lr=config.learning_rate)\n",
    "criterion = nn.CrossEntropyLoss()\n",
    "\n",
    "\n",
    "train_loss,valid_loss,train_accuracy,valid_accuracy =train(\n",
    "    model = net,\n",
    "    gpu_num = 0,\n",
    "    train_loader = train_loader,\n",
    "    test_loader = test_loader,\n",
    "    optimizer = optimizer  ,\n",
    "    criterion = criterion ,\n",
    "    wand = wand\n",
    "         )\n",
    "\n",
    "\n",
    "wandb.alert(\n",
    "            title='Finish',\n",
    "            text=f'Finishing training',\n",
    "        )"
   ]
  },
  {
   "cell_type": "markdown",
   "id": "5d4f20d0-63c3-4c9f-8425-b49a381136d8",
   "metadata": {},
   "source": [
    "### GAMENET"
   ]
  },
  {
   "cell_type": "code",
   "execution_count": 55,
   "id": "3e2a1af2-75e8-4965-9c12-8555df2a62ac",
   "metadata": {},
   "outputs": [],
   "source": [
    "class gamenet(nn.Module):\n",
    "    def __init__(self):\n",
    "        \n",
    "        super(gamenet,self).__init__()\n",
    "        \n",
    "        self.l1 = nn.Sequential(\n",
    "            #in_channel = 16\n",
    "            #out_channel or Filter size = 100\n",
    "            #kernel size = (1,25)\n",
    "            #stride = 1\n",
    "            #padding = Same\n",
    "            #Relu\n",
    "            nn.Conv2d(2,100,kernel_size=(1,2),stride=1,padding='same'),\n",
    "            nn.ReLU(),\n",
    "            nn.BatchNorm2d(100)\n",
    "        )\n",
    "        self.l2 = nn.Sequential(\n",
    "            #in_channel = 100\n",
    "            #out_channel or Filter size = 100\n",
    "            #kernel size = (16,1)\n",
    "            #stride = 1\n",
    "            #padding = Valid\n",
    "            #Relu\n",
    "            nn.Conv2d(100,100,kernel_size=(1,2),stride=1,padding='valid'),\n",
    "            #nn.Conv2d(100,100,kernel_size=(64,1),stride=1,padding='valid'),\n",
    "            nn.ReLU(),\n",
    "            nn.BatchNorm2d(100)\n",
    "        )\n",
    "        self.l3 = nn.Sequential(\n",
    "            #in_channel = 100\n",
    "            #out_channel = 50\n",
    "            #kernel size = (1,30)\n",
    "            #stride = 1\n",
    "            #padding = Same\n",
    "            #Relu\n",
    "            nn.Conv2d(100,50,kernel_size=(1,30),stride=1,padding='same'),\n",
    "            nn.ReLU(),\n",
    "            nn.BatchNorm2d(50)\n",
    "        )\n",
    "        self.maxpooling1 = nn.MaxPool2d(kernel_size=(1,7),stride=5)\n",
    "        self.l4 = nn.Sequential(\n",
    "            #in_channel = 50\n",
    "            #out_channel = 50\n",
    "            #kernel size = (1,30)\n",
    "            #stride = 1\n",
    "            #padding = Same\n",
    "            #Relu\n",
    "            nn.Conv2d(50,50,kernel_size=(1,30),stride=1,padding='same'),\n",
    "            nn.ReLU(),\n",
    "            nn.BatchNorm2d(50)\n",
    "        )\n",
    "        self.maxpooling2 = nn.MaxPool2d(kernel_size=(1,3),stride=2)\n",
    "        \n",
    "\n",
    "        self.flatten = nn.Sequential(\n",
    "            nn.Flatten(),\n",
    "            nn.BatchNorm1d(4950),\n",
    "            nn.Dropout(0.15)\n",
    "        )\n",
    "        self.fc1 = nn.Sequential(\n",
    "            nn.Linear(4950,1024),\n",
    "            nn.ReLU(),\n",
    "            nn.BatchNorm1d(1024),\n",
    "            nn.Dropout(0.15)\n",
    "        )\n",
    "        self.fc2 = nn.Sequential(\n",
    "            nn.Linear(1024,512),\n",
    "            nn.ReLU(),\n",
    "            nn.BatchNorm1d(512),\n",
    "            nn.Dropout(0.15)\n",
    "        )\n",
    "        self.fc3 = nn.Sequential(\n",
    "            nn.Linear(512,256),\n",
    "            nn.ReLU(),\n",
    "            nn.BatchNorm1d(256),\n",
    "            nn.Dropout(0.15)\n",
    "        )\n",
    "        self.fc3 = nn.Sequential(\n",
    "            nn.Linear(512,256),\n",
    "            nn.ReLU(),\n",
    "            nn.BatchNorm1d(256),\n",
    "            nn.Dropout(0.15)\n",
    "        )\n",
    "        self.fc4 = nn.Sequential(\n",
    "            nn.Linear(256,128),\n",
    "            nn.ReLU(),\n",
    "            nn.BatchNorm1d(128),\n",
    "            nn.Dropout(0.15)\n",
    "        )\n",
    "        self.fc5 = nn.Sequential(\n",
    "            nn.Linear(128,64),\n",
    "            nn.ReLU(),\n",
    "            nn.BatchNorm1d(64),\n",
    "            nn.Dropout(0.15)\n",
    "        )\n",
    "        self.fc6 = nn.Sequential(\n",
    "            nn.Linear(64,32),\n",
    "            nn.ReLU(),\n",
    "            nn.BatchNorm1d(32),\n",
    "            nn.Dropout(0.15)\n",
    "        )\n",
    "        self.softmax = nn.Sequential(\n",
    "            nn.Linear(32,2),\n",
    "            nn.Softmax()\n",
    "        )\n",
    "    def forward(self,x):\n",
    "        \n",
    "        out = self.l1(x)\n",
    "        out = self.l2(out)\n",
    "        out = self.l3(out)\n",
    "        out = self.maxpooling1(out)\n",
    "        out = self.l4(out)\n",
    "        out = self.maxpooling2(out)\n",
    "        out = self.flatten(out)\n",
    "        out = self.fc1(out)\n",
    "        out = self.fc2(out)\n",
    "        out = self.fc3(out)\n",
    "        out = self.fc4(out)\n",
    "        out = self.fc5(out)\n",
    "        out = self.fc6(out)\n",
    "        out = self.softmax(out)\n",
    "        return out"
   ]
  },
  {
   "cell_type": "code",
   "execution_count": 56,
   "id": "70ec6087-3a39-4b2b-853c-7721ae49088c",
   "metadata": {},
   "outputs": [
    {
     "name": "stdout",
     "output_type": "stream",
     "text": [
      "360 events found\n",
      "Event IDs: [1 2 4]\n",
      "Not setting metadata\n",
      "180 matching events found\n",
      "No baseline correction applied\n",
      "0 projection items activated\n",
      "Using data from preloaded Raw for 180 events and 1001 original time points ...\n",
      "0 bad epochs dropped\n",
      "(180, 2, 1001)\n",
      "train size (126, 2, 1, 1001) (126,)\n",
      "Test size (54, 2, 1, 1001) (54,)\n"
     ]
    },
    {
     "name": "stderr",
     "output_type": "stream",
     "text": [
      "/home/nutapolt/eeg_mi/common.py:493: RuntimeWarning: No matching events found for 3 (event id 3)\n",
      "  epochs = mne.Epochs(\n"
     ]
    }
   ],
   "source": [
    "#X = X[:, :,np.newaxis,:]\n",
    "batch_size =32\n",
    "X, y = eeg.get_X_y(raw)\n",
    "print(X.shape)\n",
    "y=y-1\n",
    "y\n",
    "X = X[:,:,np.newaxis,:]\n",
    "X_train, X_test, y_train, y_test = train_test_split(X, y, test_size=0.3)\n",
    "\n",
    "print('train size',X_train.shape, y_train.shape)\n",
    "print('Test size',X_test.shape, y_test.shape)\n",
    "\n",
    "train_loader = create_dataloader(X_train, y_train, batch_size=batch_size)\n",
    "test_loader = create_dataloader(X_test, y_test, batch_size=batch_size)\n",
    "\n",
    "num_step =math.ceil(len(train_loader.dataset) / batch_size)"
   ]
  },
  {
   "cell_type": "code",
   "execution_count": 57,
   "id": "1cfc6a1b-820c-461e-814e-6b58a6d353b1",
   "metadata": {},
   "outputs": [
    {
     "name": "stderr",
     "output_type": "stream",
     "text": [
      "\u001b[34m\u001b[1mwandb\u001b[0m: \u001b[33mWARNING\u001b[0m Calling wandb.login() after wandb.init() has no effect.\n"
     ]
    },
    {
     "data": {
      "text/html": [
       "Finishing last run (ID:xl7ryd1c) before initializing another..."
      ],
      "text/plain": [
       "<IPython.core.display.HTML object>"
      ]
     },
     "metadata": {},
     "output_type": "display_data"
    },
    {
     "data": {
      "text/html": [
       "Waiting for W&B process to finish... <strong style=\"color:green\">(success).</strong>"
      ],
      "text/plain": [
       "<IPython.core.display.HTML object>"
      ]
     },
     "metadata": {},
     "output_type": "display_data"
    },
    {
     "data": {
      "text/html": [
       "<style>\n",
       "    table.wandb td:nth-child(1) { padding: 0 10px; text-align: left ; width: auto;} td:nth-child(2) {text-align: left ; width: 100%}\n",
       "    .wandb-row { display: flex; flex-direction: row; flex-wrap: wrap; justify-content: flex-start; width: 100% }\n",
       "    .wandb-col { display: flex; flex-direction: column; flex-basis: 100%; flex: 1; padding: 10px; }\n",
       "    </style>\n",
       "<div class=\"wandb-row\"><div class=\"wandb-col\"><h3>Run history:</h3><br/><table class=\"wandb\"><tr><td>Test/Test_accuracy</td><td>▁▃▄▂▂▃▄▄▄▅▄▄▇▄▆▆▇▇▇▆▇▇▅▆█▇▆▅▄▃▃▄▃▂▃▃▅▄▄▄</td></tr><tr><td>Test/Test_loss</td><td>▁▂▂▂▂▃▃▃▃▃▄▃▄▅▄▃▄▄▅▆▅▅▆▅▅▅▆▅▆▇▇▆█▇▆▇█▇██</td></tr><tr><td>train/train_accuracy</td><td>▃▁▁▃▃▄▂▄▅▆▅▆▅▆▆▅▅▇▅▇▅▆█▅▆▆▆▆▅▆▆▇▄▆▆▆█▅▇▇</td></tr><tr><td>train/train_loss</td><td>▆█▆▆█▄▅█▄▇▃▄▅▇▄▅▄▅▄▅▅▄▄▃▃▂▁▅▄▄▆▄▂▄▃▄▃▂▂▃</td></tr></table><br/></div><div class=\"wandb-col\"><h3>Run summary:</h3><br/><table class=\"wandb\"><tr><td>Test/Test_accuracy</td><td>48.14815</td></tr><tr><td>Test/Test_loss</td><td>1.0863</td></tr><tr><td>train/train_accuracy</td><td>69.84127</td></tr><tr><td>train/train_loss</td><td>0.65244</td></tr></table><br/></div></div>"
      ],
      "text/plain": [
       "<IPython.core.display.HTML object>"
      ]
     },
     "metadata": {},
     "output_type": "display_data"
    },
    {
     "data": {
      "text/html": [
       "Synced <strong style=\"color:#cdcd00\">OurData_CNN_2ch_2class_NEW_EXS6</strong>: <a href=\"https://wandb.ai/nutapol-1997/Motor-Imagery/runs/xl7ryd1c\" target=\"_blank\">https://wandb.ai/nutapol-1997/Motor-Imagery/runs/xl7ryd1c</a><br/>Synced 5 W&B file(s), 0 media file(s), 0 artifact file(s) and 0 other file(s)"
      ],
      "text/plain": [
       "<IPython.core.display.HTML object>"
      ]
     },
     "metadata": {},
     "output_type": "display_data"
    },
    {
     "data": {
      "text/html": [
       "Find logs at: <code>./wandb/run-20220928_030738-xl7ryd1c/logs</code>"
      ],
      "text/plain": [
       "<IPython.core.display.HTML object>"
      ]
     },
     "metadata": {},
     "output_type": "display_data"
    },
    {
     "data": {
      "text/html": [
       "Successfully finished last run (ID:xl7ryd1c). Initializing new run:<br/>"
      ],
      "text/plain": [
       "<IPython.core.display.HTML object>"
      ]
     },
     "metadata": {},
     "output_type": "display_data"
    },
    {
     "data": {
      "text/html": [
       "wandb version 0.13.3 is available!  To upgrade, please run:\n",
       " $ pip install wandb --upgrade"
      ],
      "text/plain": [
       "<IPython.core.display.HTML object>"
      ]
     },
     "metadata": {},
     "output_type": "display_data"
    },
    {
     "data": {
      "text/html": [
       "Tracking run with wandb version 0.13.2"
      ],
      "text/plain": [
       "<IPython.core.display.HTML object>"
      ]
     },
     "metadata": {},
     "output_type": "display_data"
    },
    {
     "data": {
      "text/html": [
       "Run data is saved locally in <code>/home/nutapolt/eeg_mi/wandb/run-20220928_032328-2zkrz0fn</code>"
      ],
      "text/plain": [
       "<IPython.core.display.HTML object>"
      ]
     },
     "metadata": {},
     "output_type": "display_data"
    },
    {
     "data": {
      "text/html": [
       "Syncing run <strong><a href=\"https://wandb.ai/nutapol-1997/Motor-Imagery/runs/2zkrz0fn\" target=\"_blank\">OurData_gamenet_2ch_2class_EX_S6</a></strong> to <a href=\"https://wandb.ai/nutapol-1997/Motor-Imagery\" target=\"_blank\">Weights & Biases</a> (<a href=\"https://wandb.me/run\" target=\"_blank\">docs</a>)<br/>"
      ],
      "text/plain": [
       "<IPython.core.display.HTML object>"
      ]
     },
     "metadata": {},
     "output_type": "display_data"
    },
    {
     "name": "stdout",
     "output_type": "stream",
     "text": [
      "4\n"
     ]
    }
   ],
   "source": [
    "import wandb\n",
    "wandb.login()\n",
    "wand = wandb.init(\n",
    "        \n",
    "      # Set the project where this run will be logged\n",
    "      project=\"Motor-Imagery\", \n",
    "      # We pass a run name (otherwise it’ll be randomly assigned, like sunshine-lollypop-10)\n",
    "      name=f\"OurData_gamenet_2ch_2class_EX_S6\", \n",
    "      # Track hyperparameters and run metadata\n",
    "      config={\n",
    "      \"learning_rate\": 0.00001,\n",
    "      \"architecture\": \"gamenet\",\n",
    "      \"dataset\": \"Nutapol T.\",\n",
    "      \"epochs\": 10000,\n",
    "      \"weightname\":\"OurData_S004_GAMENET_2ch_2class_EX_S6\",\n",
    "      \"num_step_per_epoch\" : num_step, \n",
    "        \n",
    "      }\n",
    "    )\n",
    "config = wand.config\n",
    "print(config.num_step_per_epoch)\n"
   ]
  },
  {
   "cell_type": "code",
   "execution_count": 58,
   "id": "4ad5c4cd-1544-4e82-ac0e-52722a6041b8",
   "metadata": {},
   "outputs": [],
   "source": [
    "from common import train"
   ]
  },
  {
   "cell_type": "code",
   "execution_count": null,
   "id": "92ad7a46-ab03-4407-8ce5-de691c7cb81d",
   "metadata": {},
   "outputs": [],
   "source": []
  },
  {
   "cell_type": "code",
   "execution_count": 59,
   "id": "7d2142f5-a712-496d-b1fd-b9b1767f03b0",
   "metadata": {},
   "outputs": [
    {
     "name": "stderr",
     "output_type": "stream",
     "text": [
      "/home/nutapolt/.local/lib/python3.8/site-packages/torch/nn/modules/container.py:139: UserWarning: Implicit dimension choice for softmax has been deprecated. Change the call to include dim=X as an argument.\n",
      "  input = module(input)\n"
     ]
    },
    {
     "name": "stdout",
     "output_type": "stream",
     "text": [
      "Epoch 1/10000, Tr Loss: 0.7083, Tr Acc: 50.0000, Val Loss: 0.6919, Val Acc: 51.8519\n",
      "Epoch 101/10000, Tr Loss: 0.6878, Tr Acc: 53.9683, Val Loss: 0.7992, Val Acc: 35.1852\n",
      "Epoch 201/10000, Tr Loss: 0.6706, Tr Acc: 60.3175, Val Loss: 0.8109, Val Acc: 33.3333\n",
      "Epoch 301/10000, Tr Loss: 0.6720, Tr Acc: 61.9048, Val Loss: 0.8452, Val Acc: 35.1852\n",
      "Epoch 401/10000, Tr Loss: 0.7024, Tr Acc: 51.5873, Val Loss: 0.8433, Val Acc: 31.4815\n",
      "Epoch 501/10000, Tr Loss: 0.6718, Tr Acc: 56.3492, Val Loss: 0.8646, Val Acc: 33.3333\n",
      "Epoch 601/10000, Tr Loss: 0.6622, Tr Acc: 60.3175, Val Loss: 0.8290, Val Acc: 35.1852\n",
      "Epoch 701/10000, Tr Loss: 0.6231, Tr Acc: 65.0794, Val Loss: 0.8613, Val Acc: 33.3333\n",
      "Epoch 801/10000, Tr Loss: 0.6221, Tr Acc: 68.2540, Val Loss: 0.8546, Val Acc: 31.4815\n",
      "Epoch 901/10000, Tr Loss: 0.6169, Tr Acc: 65.8730, Val Loss: 0.8234, Val Acc: 38.8889\n",
      "Epoch 1001/10000, Tr Loss: 0.5949, Tr Acc: 68.2540, Val Loss: 0.8425, Val Acc: 38.8889\n",
      "Epoch 1101/10000, Tr Loss: 0.6729, Tr Acc: 57.9365, Val Loss: 0.8445, Val Acc: 37.0370\n",
      "Epoch 1201/10000, Tr Loss: 0.5907, Tr Acc: 63.4921, Val Loss: 0.8501, Val Acc: 40.7407\n",
      "Epoch 1301/10000, Tr Loss: 0.6096, Tr Acc: 66.6667, Val Loss: 0.8510, Val Acc: 33.3333\n",
      "Epoch 1401/10000, Tr Loss: 0.5723, Tr Acc: 73.8095, Val Loss: 0.8591, Val Acc: 38.8889\n",
      "Epoch 1501/10000, Tr Loss: 0.5878, Tr Acc: 69.8413, Val Loss: 0.8494, Val Acc: 42.5926\n",
      "Epoch 1601/10000, Tr Loss: 0.6041, Tr Acc: 69.0476, Val Loss: 0.8358, Val Acc: 38.8889\n",
      "Epoch 1701/10000, Tr Loss: 0.5692, Tr Acc: 70.6349, Val Loss: 0.8907, Val Acc: 33.3333\n",
      "Epoch 1801/10000, Tr Loss: 0.5715, Tr Acc: 73.8095, Val Loss: 0.8711, Val Acc: 44.4444\n",
      "Epoch 1901/10000, Tr Loss: 0.5340, Tr Acc: 76.1905, Val Loss: 0.8505, Val Acc: 42.5926\n",
      "Epoch 2001/10000, Tr Loss: 0.4867, Tr Acc: 80.9524, Val Loss: 0.8397, Val Acc: 40.7407\n",
      "Epoch 2101/10000, Tr Loss: 0.4970, Tr Acc: 81.7460, Val Loss: 0.8415, Val Acc: 44.4444\n",
      "Epoch 2201/10000, Tr Loss: 0.4910, Tr Acc: 81.7460, Val Loss: 0.8827, Val Acc: 37.0370\n",
      "Epoch 2301/10000, Tr Loss: 0.4726, Tr Acc: 84.9206, Val Loss: 0.8698, Val Acc: 42.5926\n",
      "Epoch 2401/10000, Tr Loss: 0.4184, Tr Acc: 92.0635, Val Loss: 0.8434, Val Acc: 42.5926\n",
      "Epoch 2501/10000, Tr Loss: 0.4554, Tr Acc: 88.0952, Val Loss: 0.8513, Val Acc: 40.7407\n",
      "Epoch 2601/10000, Tr Loss: 0.4019, Tr Acc: 92.8571, Val Loss: 0.8856, Val Acc: 37.0370\n"
     ]
    },
    {
     "name": "stderr",
     "output_type": "stream",
     "text": [
      "\n",
      "KeyboardInterrupt\n",
      "\n"
     ]
    }
   ],
   "source": [
    "net = gamenet().cuda(0)\n",
    "optimizer = optim.Adam(net.parameters(), lr=config.learning_rate)\n",
    "criterion = nn.CrossEntropyLoss()\n",
    "\n",
    "\n",
    "train_loss,valid_loss,train_accuracy,valid_accuracy =train(\n",
    "    model = net,\n",
    "    gpu_num = 0,\n",
    "    train_loader = train_loader,\n",
    "    test_loader = test_loader,\n",
    "    optimizer = optimizer  ,\n",
    "    criterion = criterion ,\n",
    "    wand = wand\n",
    "         )\n",
    "\n",
    "\n",
    "wandb.alert(\n",
    "            title='Finish',\n",
    "            text=f'Finishing training',\n",
    "        )"
   ]
  },
  {
   "cell_type": "code",
   "execution_count": null,
   "id": "72400789-60e3-41a1-9aa9-e7e58caa573d",
   "metadata": {},
   "outputs": [],
   "source": []
  },
  {
   "cell_type": "code",
   "execution_count": null,
   "id": "37d11b35-7b36-41c5-96bb-b18f3f9e850c",
   "metadata": {},
   "outputs": [],
   "source": []
  }
 ],
 "metadata": {
  "kernelspec": {
   "display_name": "Python 3 (ipykernel)",
   "language": "python",
   "name": "python3"
  },
  "language_info": {
   "codemirror_mode": {
    "name": "ipython",
    "version": 3
   },
   "file_extension": ".py",
   "mimetype": "text/x-python",
   "name": "python",
   "nbconvert_exporter": "python",
   "pygments_lexer": "ipython3",
   "version": "3.8.10"
  }
 },
 "nbformat": 4,
 "nbformat_minor": 5
}
